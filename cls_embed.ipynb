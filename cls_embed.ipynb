{
 "cells": [
  {
   "cell_type": "markdown",
   "source": [
    "## Classification"
   ],
   "metadata": {
    "collapsed": false
   },
   "id": "394fd2a47b379d55"
  },
  {
   "cell_type": "markdown",
   "source": [
    "### Before we start\n",
    "\n",
    "We first need to go over the dependencies needed for this notebook to function properly."
   ],
   "metadata": {
    "collapsed": false
   },
   "id": "173a52054227e2f2"
  },
  {
   "cell_type": "markdown",
   "source": [
    "We will use the following libraries:\n",
    "\n",
    "- `pandas` for data manipulation\n",
    "- `numpy` for numerical operations\n",
    "- `matplotlib` for visualization\n",
    "---\n",
    "- `json` for JSON manipulation\n",
    "---\n",
    "- `sklearn` for the Machine Learning algorithms, metrics and useful visualization tools such as t-SNE\n",
    "- `optuna` for hyperparameter tuning\n",
    "- `tensorflow` for the neural network model\n",
    "- `keras` for the neural network model\n",
    "- `tensorflow_docs` for the visualization tools used in the neural network model\n",
    "- `catboost` for the CatBoost model\n",
    "---\n",
    "- `chromadb` to retrieve the embeddings to a vector database"
   ],
   "metadata": {
    "collapsed": false
   },
   "id": "ed0bdb4629e22923"
  },
  {
   "cell_type": "code",
   "outputs": [
    {
     "name": "stdout",
     "output_type": "stream",
     "text": [
      "WARNING:tensorflow:From C:\\Users\\panagiotis\\AppData\\Local\\Programs\\Python\\Python311\\Lib\\site-packages\\keras\\src\\losses.py:2976: The name tf.losses.sparse_softmax_cross_entropy is deprecated. Please use tf.compat.v1.losses.sparse_softmax_cross_entropy instead.\n"
     ]
    }
   ],
   "source": [
    "import chromadb\n",
    "import pandas as pd\n",
    "import numpy as np\n",
    "import matplotlib.pyplot as plt\n",
    "import json\n",
    "from sklearn.model_selection import train_test_split\n",
    "from sklearn.model_selection import cross_val_score # for cross-validation\n",
    "from sklearn import metrics\n",
    "import optuna\n",
    "from sklearn.linear_model import LogisticRegression\n",
    "from sklearn.svm import SVC\n",
    "from sklearn.linear_model import SGDClassifier\n",
    "from sklearn.naive_bayes import GaussianNB\n",
    "from sklearn.ensemble import RandomForestClassifier\n",
    "from sklearn.metrics import classification_report\n",
    "import catboost as cb\n",
    "import tensorflow as tf\n",
    "from tensorflow.keras import layers\n",
    "import keras\n",
    "from keras import regularizers\n",
    "import tensorflow_docs as tfdocs\n",
    "import tensorflow_docs.modeling\n",
    "import tensorflow_docs.plots\n",
    "from sklearn.multioutput import MultiOutputClassifier"
   ],
   "metadata": {
    "collapsed": false,
    "ExecuteTime": {
     "end_time": "2024-02-24T14:49:22.837959100Z",
     "start_time": "2024-02-24T14:49:14.799959200Z"
    }
   },
   "id": "fa234cafe136d166",
   "execution_count": 1
  },
  {
   "cell_type": "markdown",
   "source": [
    "\n",
    "Let's now retrieve the classification embeddings from the chromadb vector database and perform classification on them."
   ],
   "metadata": {
    "collapsed": false
   },
   "id": "eb007503dc588dee"
  },
  {
   "cell_type": "code",
   "outputs": [],
   "source": [
    "client = chromadb.PersistentClient(path=\"./chroma_db\")\n",
    "collection = client.get_collection(\"nomic_classification_v1\")"
   ],
   "metadata": {
    "collapsed": true,
    "ExecuteTime": {
     "end_time": "2024-02-24T14:49:22.940517500Z",
     "start_time": "2024-02-24T14:49:22.838958900Z"
    }
   },
   "id": "initial_id",
   "execution_count": 2
  },
  {
   "cell_type": "markdown",
   "source": [
    "Now let us get the words along with their classes and division and sections from the json file we created earlier."
   ],
   "metadata": {
    "collapsed": false
   },
   "id": "84452ecc48ce9511"
  },
  {
   "cell_type": "code",
   "outputs": [],
   "source": [
    "with open(\"hierarchy.json\", \"r\") as f:\n",
    "    categories = json.load(f)"
   ],
   "metadata": {
    "collapsed": false,
    "ExecuteTime": {
     "end_time": "2024-02-24T14:49:22.947797200Z",
     "start_time": "2024-02-24T14:49:22.941517600Z"
    }
   },
   "id": "6185d3b32070a313",
   "execution_count": 3
  },
  {
   "cell_type": "markdown",
   "source": [
    "Let's retrieve the embeddings and the words along with the class, division, and section from the chromadb and create a dataframe with them."
   ],
   "metadata": {
    "collapsed": false
   },
   "id": "11d5ef59ed70ec91"
  },
  {
   "cell_type": "code",
   "outputs": [
    {
     "data": {
      "text/plain": "                   word                                          embedding  \\\n0             Existence  [-0.029754638671875, -0.0263671875, -0.0127792...   \n1           Inexistence  [-0.01029205322265625, 0.019256591796875, -0.0...   \n2         Consanguinity  [0.0386962890625, -0.01026153564453125, -0.013...   \n3            Trisection  [0.007350921630859375, -0.001903533935546875, ...   \n4             Innocence  [0.0338134765625, 0.0139923095703125, -0.03097...   \n...                 ...                                                ...   \n1052              Knave  [0.0032215118408203125, 0.01201629638671875, -...   \n1053  Disinterestedness  [-0.01776123046875, 0.020965576171875, -0.0221...   \n1054        Selfishness  [0.01071929931640625, 0.049468994140625, -0.03...   \n1055             Virtue  [0.0201416015625, 0.006626129150390625, -0.035...   \n1056               Vice  [0.0035228729248046875, -0.028533935546875, -0...   \n\n                                                class division  \\\n0                 WORDS EXPRESSING ABSTRACT RELATIONS      N/A   \n1                 WORDS EXPRESSING ABSTRACT RELATIONS      N/A   \n2                 WORDS EXPRESSING ABSTRACT RELATIONS      N/A   \n3                 WORDS EXPRESSING ABSTRACT RELATIONS      N/A   \n4     WORDS RELATING TO THE SENTIENT AND MORAL POWERS      N/A   \n...                                               ...      ...   \n1052  WORDS RELATING TO THE SENTIENT AND MORAL POWERS      N/A   \n1053  WORDS RELATING TO THE SENTIENT AND MORAL POWERS      N/A   \n1054  WORDS RELATING TO THE SENTIENT AND MORAL POWERS      N/A   \n1055  WORDS RELATING TO THE SENTIENT AND MORAL POWERS      N/A   \n1056  WORDS RELATING TO THE SENTIENT AND MORAL POWERS      N/A   \n\n               section  \n0            EXISTENCE  \n1            EXISTENCE  \n2             RELATION  \n3               NUMBER  \n4     MORAL AFFECTIONS  \n...                ...  \n1052  MORAL AFFECTIONS  \n1053  MORAL AFFECTIONS  \n1054  MORAL AFFECTIONS  \n1055  MORAL AFFECTIONS  \n1056  MORAL AFFECTIONS  \n\n[1057 rows x 5 columns]",
      "text/html": "<div>\n<style scoped>\n    .dataframe tbody tr th:only-of-type {\n        vertical-align: middle;\n    }\n\n    .dataframe tbody tr th {\n        vertical-align: top;\n    }\n\n    .dataframe thead th {\n        text-align: right;\n    }\n</style>\n<table border=\"1\" class=\"dataframe\">\n  <thead>\n    <tr style=\"text-align: right;\">\n      <th></th>\n      <th>word</th>\n      <th>embedding</th>\n      <th>class</th>\n      <th>division</th>\n      <th>section</th>\n    </tr>\n  </thead>\n  <tbody>\n    <tr>\n      <th>0</th>\n      <td>Existence</td>\n      <td>[-0.029754638671875, -0.0263671875, -0.0127792...</td>\n      <td>WORDS EXPRESSING ABSTRACT RELATIONS</td>\n      <td>N/A</td>\n      <td>EXISTENCE</td>\n    </tr>\n    <tr>\n      <th>1</th>\n      <td>Inexistence</td>\n      <td>[-0.01029205322265625, 0.019256591796875, -0.0...</td>\n      <td>WORDS EXPRESSING ABSTRACT RELATIONS</td>\n      <td>N/A</td>\n      <td>EXISTENCE</td>\n    </tr>\n    <tr>\n      <th>2</th>\n      <td>Consanguinity</td>\n      <td>[0.0386962890625, -0.01026153564453125, -0.013...</td>\n      <td>WORDS EXPRESSING ABSTRACT RELATIONS</td>\n      <td>N/A</td>\n      <td>RELATION</td>\n    </tr>\n    <tr>\n      <th>3</th>\n      <td>Trisection</td>\n      <td>[0.007350921630859375, -0.001903533935546875, ...</td>\n      <td>WORDS EXPRESSING ABSTRACT RELATIONS</td>\n      <td>N/A</td>\n      <td>NUMBER</td>\n    </tr>\n    <tr>\n      <th>4</th>\n      <td>Innocence</td>\n      <td>[0.0338134765625, 0.0139923095703125, -0.03097...</td>\n      <td>WORDS RELATING TO THE SENTIENT AND MORAL POWERS</td>\n      <td>N/A</td>\n      <td>MORAL AFFECTIONS</td>\n    </tr>\n    <tr>\n      <th>...</th>\n      <td>...</td>\n      <td>...</td>\n      <td>...</td>\n      <td>...</td>\n      <td>...</td>\n    </tr>\n    <tr>\n      <th>1052</th>\n      <td>Knave</td>\n      <td>[0.0032215118408203125, 0.01201629638671875, -...</td>\n      <td>WORDS RELATING TO THE SENTIENT AND MORAL POWERS</td>\n      <td>N/A</td>\n      <td>MORAL AFFECTIONS</td>\n    </tr>\n    <tr>\n      <th>1053</th>\n      <td>Disinterestedness</td>\n      <td>[-0.01776123046875, 0.020965576171875, -0.0221...</td>\n      <td>WORDS RELATING TO THE SENTIENT AND MORAL POWERS</td>\n      <td>N/A</td>\n      <td>MORAL AFFECTIONS</td>\n    </tr>\n    <tr>\n      <th>1054</th>\n      <td>Selfishness</td>\n      <td>[0.01071929931640625, 0.049468994140625, -0.03...</td>\n      <td>WORDS RELATING TO THE SENTIENT AND MORAL POWERS</td>\n      <td>N/A</td>\n      <td>MORAL AFFECTIONS</td>\n    </tr>\n    <tr>\n      <th>1055</th>\n      <td>Virtue</td>\n      <td>[0.0201416015625, 0.006626129150390625, -0.035...</td>\n      <td>WORDS RELATING TO THE SENTIENT AND MORAL POWERS</td>\n      <td>N/A</td>\n      <td>MORAL AFFECTIONS</td>\n    </tr>\n    <tr>\n      <th>1056</th>\n      <td>Vice</td>\n      <td>[0.0035228729248046875, -0.028533935546875, -0...</td>\n      <td>WORDS RELATING TO THE SENTIENT AND MORAL POWERS</td>\n      <td>N/A</td>\n      <td>MORAL AFFECTIONS</td>\n    </tr>\n  </tbody>\n</table>\n<p>1057 rows × 5 columns</p>\n</div>"
     },
     "execution_count": 4,
     "metadata": {},
     "output_type": "execute_result"
    }
   ],
   "source": [
    "# Retrieve the embeddings, words, and metadata\n",
    "words = collection.get(include=[\"embeddings\", \"documents\"])['documents']\n",
    "embeddings = collection.get(include=[\"embeddings\", \"documents\"])['embeddings']\n",
    "metadata = collection.get(include=[\"embeddings\", \"documents\", \"metadatas\"])['metadatas']\n",
    "\n",
    "# Create a dataframe with the embeddings and the words\n",
    "cls_df = pd.DataFrame({'word': words, 'embedding': embeddings})\n",
    "\n",
    "# Add the class, division, and section from metadata to the dataframe\n",
    "cls_df['class'] = [md['class'] for md in metadata]\n",
    "cls_df['division'] = [md['division'] for md in metadata]\n",
    "cls_df['section'] = [md['section'] for md in metadata]\n",
    "\n",
    "cls_df"
   ],
   "metadata": {
    "collapsed": false,
    "ExecuteTime": {
     "end_time": "2024-02-24T14:49:23.055412500Z",
     "start_time": "2024-02-24T14:49:22.944796200Z"
    }
   },
   "id": "b09af619c5292133",
   "execution_count": 4
  },
  {
   "cell_type": "code",
   "outputs": [],
   "source": [
    "# Get the number of classes\n",
    "n_classes = cls_df['class'].nunique()"
   ],
   "metadata": {
    "collapsed": false,
    "ExecuteTime": {
     "end_time": "2024-02-24T14:49:23.055412500Z",
     "start_time": "2024-02-24T14:49:23.051117100Z"
    }
   },
   "id": "cd0630a75478e058",
   "execution_count": 5
  },
  {
   "cell_type": "markdown",
   "source": [
    "Now let's prepare the data for classification by converting the class, division, and section to numerical values."
   ],
   "metadata": {
    "collapsed": false
   },
   "id": "3501a068561a6136"
  },
  {
   "cell_type": "code",
   "outputs": [
    {
     "data": {
      "text/plain": "                   word                                          embedding  \\\n0             Existence  [-0.029754638671875, -0.0263671875, -0.0127792...   \n1           Inexistence  [-0.01029205322265625, 0.019256591796875, -0.0...   \n2         Consanguinity  [0.0386962890625, -0.01026153564453125, -0.013...   \n3            Trisection  [0.007350921630859375, -0.001903533935546875, ...   \n4             Innocence  [0.0338134765625, 0.0139923095703125, -0.03097...   \n...                 ...                                                ...   \n1052              Knave  [0.0032215118408203125, 0.01201629638671875, -...   \n1053  Disinterestedness  [-0.01776123046875, 0.020965576171875, -0.0221...   \n1054        Selfishness  [0.01071929931640625, 0.049468994140625, -0.03...   \n1055             Virtue  [0.0201416015625, 0.006626129150390625, -0.035...   \n1056               Vice  [0.0035228729248046875, -0.028533935546875, -0...   \n\n      class  division  section  \n0         0         4        7  \n1         0         4        7  \n2         0         4       29  \n3         0         4       19  \n4         4         4       16  \n...     ...       ...      ...  \n1052      4         4       16  \n1053      4         4       16  \n1054      4         4       16  \n1055      4         4       16  \n1056      4         4       16  \n\n[1057 rows x 5 columns]",
      "text/html": "<div>\n<style scoped>\n    .dataframe tbody tr th:only-of-type {\n        vertical-align: middle;\n    }\n\n    .dataframe tbody tr th {\n        vertical-align: top;\n    }\n\n    .dataframe thead th {\n        text-align: right;\n    }\n</style>\n<table border=\"1\" class=\"dataframe\">\n  <thead>\n    <tr style=\"text-align: right;\">\n      <th></th>\n      <th>word</th>\n      <th>embedding</th>\n      <th>class</th>\n      <th>division</th>\n      <th>section</th>\n    </tr>\n  </thead>\n  <tbody>\n    <tr>\n      <th>0</th>\n      <td>Existence</td>\n      <td>[-0.029754638671875, -0.0263671875, -0.0127792...</td>\n      <td>0</td>\n      <td>4</td>\n      <td>7</td>\n    </tr>\n    <tr>\n      <th>1</th>\n      <td>Inexistence</td>\n      <td>[-0.01029205322265625, 0.019256591796875, -0.0...</td>\n      <td>0</td>\n      <td>4</td>\n      <td>7</td>\n    </tr>\n    <tr>\n      <th>2</th>\n      <td>Consanguinity</td>\n      <td>[0.0386962890625, -0.01026153564453125, -0.013...</td>\n      <td>0</td>\n      <td>4</td>\n      <td>29</td>\n    </tr>\n    <tr>\n      <th>3</th>\n      <td>Trisection</td>\n      <td>[0.007350921630859375, -0.001903533935546875, ...</td>\n      <td>0</td>\n      <td>4</td>\n      <td>19</td>\n    </tr>\n    <tr>\n      <th>4</th>\n      <td>Innocence</td>\n      <td>[0.0338134765625, 0.0139923095703125, -0.03097...</td>\n      <td>4</td>\n      <td>4</td>\n      <td>16</td>\n    </tr>\n    <tr>\n      <th>...</th>\n      <td>...</td>\n      <td>...</td>\n      <td>...</td>\n      <td>...</td>\n      <td>...</td>\n    </tr>\n    <tr>\n      <th>1052</th>\n      <td>Knave</td>\n      <td>[0.0032215118408203125, 0.01201629638671875, -...</td>\n      <td>4</td>\n      <td>4</td>\n      <td>16</td>\n    </tr>\n    <tr>\n      <th>1053</th>\n      <td>Disinterestedness</td>\n      <td>[-0.01776123046875, 0.020965576171875, -0.0221...</td>\n      <td>4</td>\n      <td>4</td>\n      <td>16</td>\n    </tr>\n    <tr>\n      <th>1054</th>\n      <td>Selfishness</td>\n      <td>[0.01071929931640625, 0.049468994140625, -0.03...</td>\n      <td>4</td>\n      <td>4</td>\n      <td>16</td>\n    </tr>\n    <tr>\n      <th>1055</th>\n      <td>Virtue</td>\n      <td>[0.0201416015625, 0.006626129150390625, -0.035...</td>\n      <td>4</td>\n      <td>4</td>\n      <td>16</td>\n    </tr>\n    <tr>\n      <th>1056</th>\n      <td>Vice</td>\n      <td>[0.0035228729248046875, -0.028533935546875, -0...</td>\n      <td>4</td>\n      <td>4</td>\n      <td>16</td>\n    </tr>\n  </tbody>\n</table>\n<p>1057 rows × 5 columns</p>\n</div>"
     },
     "execution_count": 6,
     "metadata": {},
     "output_type": "execute_result"
    }
   ],
   "source": [
    "# Make all classes and divisions/sections as numerical values\n",
    "cls_df['class'] = pd.Categorical(cls_df['class'])\n",
    "cls_df['division'] = pd.Categorical(cls_df['division'])\n",
    "cls_df['section'] = pd.Categorical(cls_df['section'])\n",
    "\n",
    "cls_df['class'] = cls_df['class'].cat.codes\n",
    "cls_df['division'] = cls_df['division'].cat.codes\n",
    "cls_df['section'] = cls_df['section'].cat.codes\n",
    "cls_df"
   ],
   "metadata": {
    "collapsed": false,
    "ExecuteTime": {
     "end_time": "2024-02-24T14:49:23.068412600Z",
     "start_time": "2024-02-24T14:49:23.053411700Z"
    }
   },
   "id": "516a1edf25fbdd15",
   "execution_count": 6
  },
  {
   "cell_type": "markdown",
   "source": [
    "Easy to notice is that when the class has no division, the division is 4, which means `N/A` in our case.\n",
    "This will become important later when we perform the two-level classification.\n",
    "\n",
    "Let's also prepare the embeddings for classification by converting them to a numpy array."
   ],
   "metadata": {
    "collapsed": false
   },
   "id": "891ef0bbf5ddeecc"
  },
  {
   "cell_type": "code",
   "outputs": [],
   "source": [
    "X = np.vstack(cls_df['embedding'])"
   ],
   "metadata": {
    "collapsed": false,
    "ExecuteTime": {
     "end_time": "2024-02-24T14:49:23.140141700Z",
     "start_time": "2024-02-24T14:49:23.067412500Z"
    }
   },
   "id": "1d2b8c0fca50cf83",
   "execution_count": 7
  },
  {
   "cell_type": "markdown",
   "source": [
    "### Multi-class logistic regression\n",
    "\n",
    "Let us start by training a multi-class logistic regression model on the embeddings and the class.\n",
    "\n",
    "Before we do that, however, let's split the data into training and testing sets, using 80% of the data for training and 20% for testing."
   ],
   "metadata": {
    "collapsed": false
   },
   "id": "a0da1d957a8e1533"
  },
  {
   "cell_type": "code",
   "outputs": [],
   "source": [
    "y = cls_df['class']\n",
    "X_train, X_test, y_train, y_test = train_test_split(X, y, test_size=0.2, random_state=11234)"
   ],
   "metadata": {
    "collapsed": false,
    "ExecuteTime": {
     "end_time": "2024-02-24T14:49:23.142141500Z",
     "start_time": "2024-02-24T14:49:23.090545600Z"
    }
   },
   "id": "e541551066686048",
   "execution_count": 8
  },
  {
   "cell_type": "markdown",
   "source": [
    "Now let's train a logistic regression model on the training data and evaluate it on the testing data."
   ],
   "metadata": {
    "collapsed": false
   },
   "id": "2b8a7c1f9edc9e63"
  },
  {
   "cell_type": "code",
   "outputs": [
    {
     "data": {
      "text/plain": "LogisticRegression(max_iter=1000, multi_class='ovr', n_jobs=-1, random_state=42)",
      "text/html": "<style>#sk-container-id-2 {\n  /* Definition of color scheme common for light and dark mode */\n  --sklearn-color-text: black;\n  --sklearn-color-line: gray;\n  /* Definition of color scheme for unfitted estimators */\n  --sklearn-color-unfitted-level-0: #fff5e6;\n  --sklearn-color-unfitted-level-1: #f6e4d2;\n  --sklearn-color-unfitted-level-2: #ffe0b3;\n  --sklearn-color-unfitted-level-3: chocolate;\n  /* Definition of color scheme for fitted estimators */\n  --sklearn-color-fitted-level-0: #f0f8ff;\n  --sklearn-color-fitted-level-1: #d4ebff;\n  --sklearn-color-fitted-level-2: #b3dbfd;\n  --sklearn-color-fitted-level-3: cornflowerblue;\n\n  /* Specific color for light theme */\n  --sklearn-color-text-on-default-background: var(--sg-text-color, var(--theme-code-foreground, var(--jp-content-font-color1, black)));\n  --sklearn-color-background: var(--sg-background-color, var(--theme-background, var(--jp-layout-color0, white)));\n  --sklearn-color-border-box: var(--sg-text-color, var(--theme-code-foreground, var(--jp-content-font-color1, black)));\n  --sklearn-color-icon: #696969;\n\n  @media (prefers-color-scheme: dark) {\n    /* Redefinition of color scheme for dark theme */\n    --sklearn-color-text-on-default-background: var(--sg-text-color, var(--theme-code-foreground, var(--jp-content-font-color1, white)));\n    --sklearn-color-background: var(--sg-background-color, var(--theme-background, var(--jp-layout-color0, #111)));\n    --sklearn-color-border-box: var(--sg-text-color, var(--theme-code-foreground, var(--jp-content-font-color1, white)));\n    --sklearn-color-icon: #878787;\n  }\n}\n\n#sk-container-id-2 {\n  color: var(--sklearn-color-text);\n}\n\n#sk-container-id-2 pre {\n  padding: 0;\n}\n\n#sk-container-id-2 input.sk-hidden--visually {\n  border: 0;\n  clip: rect(1px 1px 1px 1px);\n  clip: rect(1px, 1px, 1px, 1px);\n  height: 1px;\n  margin: -1px;\n  overflow: hidden;\n  padding: 0;\n  position: absolute;\n  width: 1px;\n}\n\n#sk-container-id-2 div.sk-dashed-wrapped {\n  border: 1px dashed var(--sklearn-color-line);\n  margin: 0 0.4em 0.5em 0.4em;\n  box-sizing: border-box;\n  padding-bottom: 0.4em;\n  background-color: var(--sklearn-color-background);\n}\n\n#sk-container-id-2 div.sk-container {\n  /* jupyter's `normalize.less` sets `[hidden] { display: none; }`\n     but bootstrap.min.css set `[hidden] { display: none !important; }`\n     so we also need the `!important` here to be able to override the\n     default hidden behavior on the sphinx rendered scikit-learn.org.\n     See: https://github.com/scikit-learn/scikit-learn/issues/21755 */\n  display: inline-block !important;\n  position: relative;\n}\n\n#sk-container-id-2 div.sk-text-repr-fallback {\n  display: none;\n}\n\ndiv.sk-parallel-item,\ndiv.sk-serial,\ndiv.sk-item {\n  /* draw centered vertical line to link estimators */\n  background-image: linear-gradient(var(--sklearn-color-text-on-default-background), var(--sklearn-color-text-on-default-background));\n  background-size: 2px 100%;\n  background-repeat: no-repeat;\n  background-position: center center;\n}\n\n/* Parallel-specific style estimator block */\n\n#sk-container-id-2 div.sk-parallel-item::after {\n  content: \"\";\n  width: 100%;\n  border-bottom: 2px solid var(--sklearn-color-text-on-default-background);\n  flex-grow: 1;\n}\n\n#sk-container-id-2 div.sk-parallel {\n  display: flex;\n  align-items: stretch;\n  justify-content: center;\n  background-color: var(--sklearn-color-background);\n  position: relative;\n}\n\n#sk-container-id-2 div.sk-parallel-item {\n  display: flex;\n  flex-direction: column;\n}\n\n#sk-container-id-2 div.sk-parallel-item:first-child::after {\n  align-self: flex-end;\n  width: 50%;\n}\n\n#sk-container-id-2 div.sk-parallel-item:last-child::after {\n  align-self: flex-start;\n  width: 50%;\n}\n\n#sk-container-id-2 div.sk-parallel-item:only-child::after {\n  width: 0;\n}\n\n/* Serial-specific style estimator block */\n\n#sk-container-id-2 div.sk-serial {\n  display: flex;\n  flex-direction: column;\n  align-items: center;\n  background-color: var(--sklearn-color-background);\n  padding-right: 1em;\n  padding-left: 1em;\n}\n\n\n/* Toggleable style: style used for estimator/Pipeline/ColumnTransformer box that is\nclickable and can be expanded/collapsed.\n- Pipeline and ColumnTransformer use this feature and define the default style\n- Estimators will overwrite some part of the style using the `sk-estimator` class\n*/\n\n/* Pipeline and ColumnTransformer style (default) */\n\n#sk-container-id-2 div.sk-toggleable {\n  /* Default theme specific background. It is overwritten whether we have a\n  specific estimator or a Pipeline/ColumnTransformer */\n  background-color: var(--sklearn-color-background);\n}\n\n/* Toggleable label */\n#sk-container-id-2 label.sk-toggleable__label {\n  cursor: pointer;\n  display: block;\n  width: 100%;\n  margin-bottom: 0;\n  padding: 0.5em;\n  box-sizing: border-box;\n  text-align: center;\n}\n\n#sk-container-id-2 label.sk-toggleable__label-arrow:before {\n  /* Arrow on the left of the label */\n  content: \"▸\";\n  float: left;\n  margin-right: 0.25em;\n  color: var(--sklearn-color-icon);\n}\n\n#sk-container-id-2 label.sk-toggleable__label-arrow:hover:before {\n  color: var(--sklearn-color-text);\n}\n\n/* Toggleable content - dropdown */\n\n#sk-container-id-2 div.sk-toggleable__content {\n  max-height: 0;\n  max-width: 0;\n  overflow: hidden;\n  text-align: left;\n  /* unfitted */\n  background-color: var(--sklearn-color-unfitted-level-0);\n}\n\n#sk-container-id-2 div.sk-toggleable__content.fitted {\n  /* fitted */\n  background-color: var(--sklearn-color-fitted-level-0);\n}\n\n#sk-container-id-2 div.sk-toggleable__content pre {\n  margin: 0.2em;\n  border-radius: 0.25em;\n  color: var(--sklearn-color-text);\n  /* unfitted */\n  background-color: var(--sklearn-color-unfitted-level-0);\n}\n\n#sk-container-id-2 div.sk-toggleable__content.fitted pre {\n  /* unfitted */\n  background-color: var(--sklearn-color-fitted-level-0);\n}\n\n#sk-container-id-2 input.sk-toggleable__control:checked~div.sk-toggleable__content {\n  /* Expand drop-down */\n  max-height: 200px;\n  max-width: 100%;\n  overflow: auto;\n}\n\n#sk-container-id-2 input.sk-toggleable__control:checked~label.sk-toggleable__label-arrow:before {\n  content: \"▾\";\n}\n\n/* Pipeline/ColumnTransformer-specific style */\n\n#sk-container-id-2 div.sk-label input.sk-toggleable__control:checked~label.sk-toggleable__label {\n  color: var(--sklearn-color-text);\n  background-color: var(--sklearn-color-unfitted-level-2);\n}\n\n#sk-container-id-2 div.sk-label.fitted input.sk-toggleable__control:checked~label.sk-toggleable__label {\n  background-color: var(--sklearn-color-fitted-level-2);\n}\n\n/* Estimator-specific style */\n\n/* Colorize estimator box */\n#sk-container-id-2 div.sk-estimator input.sk-toggleable__control:checked~label.sk-toggleable__label {\n  /* unfitted */\n  background-color: var(--sklearn-color-unfitted-level-2);\n}\n\n#sk-container-id-2 div.sk-estimator.fitted input.sk-toggleable__control:checked~label.sk-toggleable__label {\n  /* fitted */\n  background-color: var(--sklearn-color-fitted-level-2);\n}\n\n#sk-container-id-2 div.sk-label label.sk-toggleable__label,\n#sk-container-id-2 div.sk-label label {\n  /* The background is the default theme color */\n  color: var(--sklearn-color-text-on-default-background);\n}\n\n/* On hover, darken the color of the background */\n#sk-container-id-2 div.sk-label:hover label.sk-toggleable__label {\n  color: var(--sklearn-color-text);\n  background-color: var(--sklearn-color-unfitted-level-2);\n}\n\n/* Label box, darken color on hover, fitted */\n#sk-container-id-2 div.sk-label.fitted:hover label.sk-toggleable__label.fitted {\n  color: var(--sklearn-color-text);\n  background-color: var(--sklearn-color-fitted-level-2);\n}\n\n/* Estimator label */\n\n#sk-container-id-2 div.sk-label label {\n  font-family: monospace;\n  font-weight: bold;\n  display: inline-block;\n  line-height: 1.2em;\n}\n\n#sk-container-id-2 div.sk-label-container {\n  text-align: center;\n}\n\n/* Estimator-specific */\n#sk-container-id-2 div.sk-estimator {\n  font-family: monospace;\n  border: 1px dotted var(--sklearn-color-border-box);\n  border-radius: 0.25em;\n  box-sizing: border-box;\n  margin-bottom: 0.5em;\n  /* unfitted */\n  background-color: var(--sklearn-color-unfitted-level-0);\n}\n\n#sk-container-id-2 div.sk-estimator.fitted {\n  /* fitted */\n  background-color: var(--sklearn-color-fitted-level-0);\n}\n\n/* on hover */\n#sk-container-id-2 div.sk-estimator:hover {\n  /* unfitted */\n  background-color: var(--sklearn-color-unfitted-level-2);\n}\n\n#sk-container-id-2 div.sk-estimator.fitted:hover {\n  /* fitted */\n  background-color: var(--sklearn-color-fitted-level-2);\n}\n\n/* Specification for estimator info (e.g. \"i\" and \"?\") */\n\n/* Common style for \"i\" and \"?\" */\n\n.sk-estimator-doc-link,\na:link.sk-estimator-doc-link,\na:visited.sk-estimator-doc-link {\n  float: right;\n  font-size: smaller;\n  line-height: 1em;\n  font-family: monospace;\n  background-color: var(--sklearn-color-background);\n  border-radius: 1em;\n  height: 1em;\n  width: 1em;\n  text-decoration: none !important;\n  margin-left: 1ex;\n  /* unfitted */\n  border: var(--sklearn-color-unfitted-level-1) 1pt solid;\n  color: var(--sklearn-color-unfitted-level-1);\n}\n\n.sk-estimator-doc-link.fitted,\na:link.sk-estimator-doc-link.fitted,\na:visited.sk-estimator-doc-link.fitted {\n  /* fitted */\n  border: var(--sklearn-color-fitted-level-1) 1pt solid;\n  color: var(--sklearn-color-fitted-level-1);\n}\n\n/* On hover */\ndiv.sk-estimator:hover .sk-estimator-doc-link:hover,\n.sk-estimator-doc-link:hover,\ndiv.sk-label-container:hover .sk-estimator-doc-link:hover,\n.sk-estimator-doc-link:hover {\n  /* unfitted */\n  background-color: var(--sklearn-color-unfitted-level-3);\n  color: var(--sklearn-color-background);\n  text-decoration: none;\n}\n\ndiv.sk-estimator.fitted:hover .sk-estimator-doc-link.fitted:hover,\n.sk-estimator-doc-link.fitted:hover,\ndiv.sk-label-container:hover .sk-estimator-doc-link.fitted:hover,\n.sk-estimator-doc-link.fitted:hover {\n  /* fitted */\n  background-color: var(--sklearn-color-fitted-level-3);\n  color: var(--sklearn-color-background);\n  text-decoration: none;\n}\n\n/* Span, style for the box shown on hovering the info icon */\n.sk-estimator-doc-link span {\n  display: none;\n  z-index: 9999;\n  position: relative;\n  font-weight: normal;\n  right: .2ex;\n  padding: .5ex;\n  margin: .5ex;\n  width: min-content;\n  min-width: 20ex;\n  max-width: 50ex;\n  color: var(--sklearn-color-text);\n  box-shadow: 2pt 2pt 4pt #999;\n  /* unfitted */\n  background: var(--sklearn-color-unfitted-level-0);\n  border: .5pt solid var(--sklearn-color-unfitted-level-3);\n}\n\n.sk-estimator-doc-link.fitted span {\n  /* fitted */\n  background: var(--sklearn-color-fitted-level-0);\n  border: var(--sklearn-color-fitted-level-3);\n}\n\n.sk-estimator-doc-link:hover span {\n  display: block;\n}\n\n/* \"?\"-specific style due to the `<a>` HTML tag */\n\n#sk-container-id-2 a.estimator_doc_link {\n  float: right;\n  font-size: 1rem;\n  line-height: 1em;\n  font-family: monospace;\n  background-color: var(--sklearn-color-background);\n  border-radius: 1rem;\n  height: 1rem;\n  width: 1rem;\n  text-decoration: none;\n  /* unfitted */\n  color: var(--sklearn-color-unfitted-level-1);\n  border: var(--sklearn-color-unfitted-level-1) 1pt solid;\n}\n\n#sk-container-id-2 a.estimator_doc_link.fitted {\n  /* fitted */\n  border: var(--sklearn-color-fitted-level-1) 1pt solid;\n  color: var(--sklearn-color-fitted-level-1);\n}\n\n/* On hover */\n#sk-container-id-2 a.estimator_doc_link:hover {\n  /* unfitted */\n  background-color: var(--sklearn-color-unfitted-level-3);\n  color: var(--sklearn-color-background);\n  text-decoration: none;\n}\n\n#sk-container-id-2 a.estimator_doc_link.fitted:hover {\n  /* fitted */\n  background-color: var(--sklearn-color-fitted-level-3);\n}\n</style><div id=\"sk-container-id-2\" class=\"sk-top-container\"><div class=\"sk-text-repr-fallback\"><pre>LogisticRegression(max_iter=1000, multi_class=&#x27;ovr&#x27;, n_jobs=-1, random_state=42)</pre><b>In a Jupyter environment, please rerun this cell to show the HTML representation or trust the notebook. <br />On GitHub, the HTML representation is unable to render, please try loading this page with nbviewer.org.</b></div><div class=\"sk-container\" hidden><div class=\"sk-item\"><div class=\"sk-estimator fitted sk-toggleable\"><input class=\"sk-toggleable__control sk-hidden--visually\" id=\"sk-estimator-id-2\" type=\"checkbox\" checked><label for=\"sk-estimator-id-2\" class=\"sk-toggleable__label fitted sk-toggleable__label-arrow fitted\">&nbsp;&nbsp;LogisticRegression<a class=\"sk-estimator-doc-link fitted\" rel=\"noreferrer\" target=\"_blank\" href=\"https://scikit-learn.org/1.4/modules/generated/sklearn.linear_model.LogisticRegression.html\">?<span>Documentation for LogisticRegression</span></a><span class=\"sk-estimator-doc-link fitted\">i<span>Fitted</span></span></label><div class=\"sk-toggleable__content fitted\"><pre>LogisticRegression(max_iter=1000, multi_class=&#x27;ovr&#x27;, n_jobs=-1, random_state=42)</pre></div> </div></div></div></div>"
     },
     "execution_count": 82,
     "metadata": {},
     "output_type": "execute_result"
    }
   ],
   "source": [
    "# Train a logistic regression model\n",
    "\n",
    "model = LogisticRegression(max_iter=1000, multi_class='ovr' , n_jobs=-1, random_state=42)\n",
    "model.fit(X_train, y_train)"
   ],
   "metadata": {
    "collapsed": false,
    "ExecuteTime": {
     "end_time": "2024-02-24T14:39:36.256954100Z",
     "start_time": "2024-02-24T14:39:34.458092500Z"
    }
   },
   "id": "2a20c0e4ce5e28ab",
   "execution_count": 82
  },
  {
   "cell_type": "code",
   "outputs": [
    {
     "name": "stdout",
     "output_type": "stream",
     "text": [
      "              precision    recall  f1-score   support\n",
      "\n",
      "           0       0.63      0.67      0.65        43\n",
      "           1       0.73      0.61      0.67        31\n",
      "           2       0.79      0.56      0.66        34\n",
      "           3       0.70      0.73      0.72        26\n",
      "           4       0.55      0.63      0.59        27\n",
      "           5       0.66      0.75      0.70        51\n",
      "\n",
      "    accuracy                           0.67       212\n",
      "   macro avg       0.68      0.66      0.66       212\n",
      "weighted avg       0.68      0.67      0.67       212\n"
     ]
    }
   ],
   "source": [
    "# Generate classification report\n",
    "\n",
    "y_pred = model.predict(X_test)\n",
    "print(metrics.classification_report(y_test, y_pred))"
   ],
   "metadata": {
    "collapsed": false,
    "ExecuteTime": {
     "end_time": "2024-02-24T14:39:36.259953600Z",
     "start_time": "2024-02-24T14:39:36.251954100Z"
    }
   },
   "id": "8caa5ddbc9c9df03",
   "execution_count": 83
  },
  {
   "cell_type": "markdown",
   "source": [
    "Having trained and evaluated the model, we can see that the model has an accuracy of 0.67, \n",
    "which is not great but also not bad considering the previous results we got from the clustering of the embeddings.\n",
    "\n",
    "However, let's use a hyperparameter tuning library such as `optuna` to find the best hyperparameters for the model.\n",
    "\n",
    "We will use the `cross_val_score` function from `sklearn` to evaluate the model using cross-validation and the `optuna` library to find the best hyperparameters for the model based on the maximization of the accuracy."
   ],
   "metadata": {
    "collapsed": false
   },
   "id": "f52da790af8442a3"
  },
  {
   "cell_type": "code",
   "outputs": [
    {
     "name": "stderr",
     "output_type": "stream",
     "text": [
      "[I 2024-02-24 16:39:37,559] A new study created in memory with name: no-name-33ec3e39-0889-4146-b9b3-23350ecc4d3c\n",
      "[I 2024-02-24 16:39:43,075] Trial 0 finished with value: 0.21570240543682373 and parameters: {'multi_class': 'ovr', 'C': 0.00014787434096747015}. Best is trial 0 with value: 0.21570240543682373.\n",
      "[I 2024-02-24 16:39:48,240] Trial 1 finished with value: 0.27907538227666995 and parameters: {'multi_class': 'ovr', 'C': 0.07387018905518451}. Best is trial 1 with value: 0.27907538227666995.\n",
      "[I 2024-02-24 16:39:53,414] Trial 2 finished with value: 0.21570240543682373 and parameters: {'multi_class': 'multinomial', 'C': 0.0007336019894654171}. Best is trial 1 with value: 0.27907538227666995.\n",
      "[I 2024-02-24 16:39:58,590] Trial 3 finished with value: 0.21570240543682373 and parameters: {'multi_class': 'multinomial', 'C': 0.009009186083797662}. Best is trial 1 with value: 0.27907538227666995.\n",
      "[I 2024-02-24 16:40:03,787] Trial 4 finished with value: 0.4749441115979612 and parameters: {'multi_class': 'ovr', 'C': 2418.940985318291}. Best is trial 4 with value: 0.4749441115979612.\n",
      "[I 2024-02-24 16:40:09,598] Trial 5 finished with value: 0.4844049002950907 and parameters: {'multi_class': 'multinomial', 'C': 161.0829093422779}. Best is trial 5 with value: 0.4844049002950907.\n",
      "[I 2024-02-24 16:40:14,777] Trial 6 finished with value: 0.5184431726728069 and parameters: {'multi_class': 'ovr', 'C': 0.620275645544694}. Best is trial 6 with value: 0.5184431726728069.\n",
      "[I 2024-02-24 16:40:20,293] Trial 7 finished with value: 0.4673567021371725 and parameters: {'multi_class': 'multinomial', 'C': 9306.708401114189}. Best is trial 6 with value: 0.5184431726728069.\n",
      "[I 2024-02-24 16:40:25,575] Trial 8 finished with value: 0.5298086381114191 and parameters: {'multi_class': 'multinomial', 'C': 0.6250568543360635}. Best is trial 8 with value: 0.5298086381114191.\n",
      "[I 2024-02-24 16:40:30,752] Trial 9 finished with value: 0.31124921756237145 and parameters: {'multi_class': 'multinomial', 'C': 0.0724448144377768}. Best is trial 8 with value: 0.5298086381114191.\n",
      "[I 2024-02-24 16:40:36,364] Trial 10 finished with value: 0.5137351336850577 and parameters: {'multi_class': 'multinomial', 'C': 16.142925788775067}. Best is trial 8 with value: 0.5298086381114191.\n",
      "[I 2024-02-24 16:40:41,541] Trial 11 finished with value: 0.5392917821693641 and parameters: {'multi_class': 'ovr', 'C': 2.293456071506692}. Best is trial 11 with value: 0.5392917821693641.\n",
      "[I 2024-02-24 16:40:46,718] Trial 12 finished with value: 0.5241393186086023 and parameters: {'multi_class': 'ovr', 'C': 7.041567370175355}. Best is trial 11 with value: 0.5392917821693641.\n",
      "[I 2024-02-24 16:40:51,899] Trial 13 finished with value: 0.5345613878207994 and parameters: {'multi_class': 'ovr', 'C': 3.292405708662239}. Best is trial 11 with value: 0.5392917821693641.\n",
      "[I 2024-02-24 16:40:57,089] Trial 14 finished with value: 0.5061879638737369 and parameters: {'multi_class': 'ovr', 'C': 53.10306623500311}. Best is trial 11 with value: 0.5392917821693641.\n",
      "[I 2024-02-24 16:41:02,310] Trial 15 finished with value: 0.47021818832155954 and parameters: {'multi_class': 'ovr', 'C': 404.86686625114964}. Best is trial 11 with value: 0.5392917821693641.\n",
      "[I 2024-02-24 16:41:07,484] Trial 16 finished with value: 0.5269829205043369 and parameters: {'multi_class': 'ovr', 'C': 3.67513329503251}. Best is trial 11 with value: 0.5392917821693641.\n",
      "[I 2024-02-24 16:41:12,662] Trial 17 finished with value: 0.30273629616382003 and parameters: {'multi_class': 'ovr', 'C': 0.08685028607618073}. Best is trial 11 with value: 0.5392917821693641.\n",
      "[I 2024-02-24 16:41:17,841] Trial 18 finished with value: 0.5411830456943575 and parameters: {'multi_class': 'ovr', 'C': 1.8547566821076642}. Best is trial 18 with value: 0.5411830456943575.\n",
      "[I 2024-02-24 16:41:22,990] Trial 19 finished with value: 0.21570240543682373 and parameters: {'multi_class': 'ovr', 'C': 0.006030637970509985}. Best is trial 18 with value: 0.5411830456943575.\n",
      "[I 2024-02-24 16:41:28,170] Trial 20 finished with value: 0.4995081820620585 and parameters: {'multi_class': 'ovr', 'C': 0.4561648255998597}. Best is trial 18 with value: 0.5411830456943575.\n",
      "[I 2024-02-24 16:41:33,343] Trial 21 finished with value: 0.5279307878029151 and parameters: {'multi_class': 'ovr', 'C': 4.099419095717064}. Best is trial 18 with value: 0.5411830456943575.\n",
      "[I 2024-02-24 16:41:38,528] Trial 22 finished with value: 0.49764821604220694 and parameters: {'multi_class': 'ovr', 'C': 58.93561241895527}. Best is trial 18 with value: 0.5411830456943575.\n",
      "[I 2024-02-24 16:41:43,707] Trial 23 finished with value: 0.5383394437986229 and parameters: {'multi_class': 'ovr', 'C': 1.7381070701784422}. Best is trial 18 with value: 0.5411830456943575.\n",
      "[I 2024-02-24 16:41:48,870] Trial 24 finished with value: 0.42763122596798714 and parameters: {'multi_class': 'ovr', 'C': 0.2042961586930764}. Best is trial 18 with value: 0.5411830456943575.\n",
      "[I 2024-02-24 16:41:54,060] Trial 25 finished with value: 0.5118572833765537 and parameters: {'multi_class': 'ovr', 'C': 20.918427372577852}. Best is trial 18 with value: 0.5411830456943575.\n",
      "[I 2024-02-24 16:41:59,216] Trial 26 finished with value: 0.21570240543682373 and parameters: {'multi_class': 'ovr', 'C': 0.019420593651280373}. Best is trial 18 with value: 0.5411830456943575.\n",
      "[I 2024-02-24 16:42:04,393] Trial 27 finished with value: 0.5430698381471877 and parameters: {'multi_class': 'ovr', 'C': 1.8311898938374636}. Best is trial 27 with value: 0.5430698381471877.\n",
      "[I 2024-02-24 16:42:09,594] Trial 28 finished with value: 0.4834480908521863 and parameters: {'multi_class': 'ovr', 'C': 264.90856816012996}. Best is trial 27 with value: 0.5430698381471877.\n",
      "[I 2024-02-24 16:42:14,771] Trial 29 finished with value: 0.5373960475722078 and parameters: {'multi_class': 'ovr', 'C': 1.3052808530221869}. Best is trial 27 with value: 0.5430698381471877.\n",
      "[I 2024-02-24 16:42:19,952] Trial 30 finished with value: 0.5127827953143165 and parameters: {'multi_class': 'ovr', 'C': 14.084274367924522}. Best is trial 27 with value: 0.5430698381471877.\n",
      "[I 2024-02-24 16:42:25,131] Trial 31 finished with value: 0.5402351783957793 and parameters: {'multi_class': 'ovr', 'C': 1.6220807659164378}. Best is trial 27 with value: 0.5430698381471877.\n",
      "[I 2024-02-24 16:42:30,297] Trial 32 finished with value: 0.4436913171778592 and parameters: {'multi_class': 'ovr', 'C': 0.23301459073970876}. Best is trial 27 with value: 0.5430698381471877.\n",
      "[I 2024-02-24 16:42:35,439] Trial 33 finished with value: 0.21948046141464722 and parameters: {'multi_class': 'ovr', 'C': 0.03507592968402774}. Best is trial 27 with value: 0.5430698381471877.\n",
      "[I 2024-02-24 16:42:40,595] Trial 34 finished with value: 0.21570240543682373 and parameters: {'multi_class': 'ovr', 'C': 0.0006854080275840966}. Best is trial 27 with value: 0.5430698381471877.\n",
      "[I 2024-02-24 16:42:45,775] Trial 35 finished with value: 0.5402307073236161 and parameters: {'multi_class': 'ovr', 'C': 1.6833121405953082}. Best is trial 27 with value: 0.5430698381471877.\n",
      "[I 2024-02-24 16:42:50,954] Trial 36 finished with value: 0.42763122596798714 and parameters: {'multi_class': 'ovr', 'C': 0.20447312157721917}. Best is trial 27 with value: 0.5430698381471877.\n",
      "[I 2024-02-24 16:42:56,165] Trial 37 finished with value: 0.49860055441294826 and parameters: {'multi_class': 'ovr', 'C': 48.005897656310665}. Best is trial 27 with value: 0.5430698381471877.\n",
      "[I 2024-02-24 16:43:01,339] Trial 38 finished with value: 0.21570240543682373 and parameters: {'multi_class': 'multinomial', 'C': 0.0033922366390465772}. Best is trial 27 with value: 0.5430698381471877.\n",
      "[I 2024-02-24 16:43:06,529] Trial 39 finished with value: 0.5194133953322007 and parameters: {'multi_class': 'ovr', 'C': 7.952042818415765}. Best is trial 27 with value: 0.5430698381471877.\n",
      "[I 2024-02-24 16:43:11,816] Trial 40 finished with value: 0.5393007243136904 and parameters: {'multi_class': 'multinomial', 'C': 0.876995373780339}. Best is trial 27 with value: 0.5430698381471877.\n",
      "[I 2024-02-24 16:43:17,094] Trial 41 finished with value: 0.5392962532415273 and parameters: {'multi_class': 'multinomial', 'C': 0.9091265982499357}. Best is trial 27 with value: 0.5430698381471877.\n",
      "[I 2024-02-24 16:43:22,338] Trial 42 finished with value: 0.5250693016185282 and parameters: {'multi_class': 'multinomial', 'C': 0.5742632682038956}. Best is trial 27 with value: 0.5430698381471877.\n",
      "[I 2024-02-24 16:43:27,549] Trial 43 finished with value: 0.40400160958597875 and parameters: {'multi_class': 'multinomial', 'C': 0.13508553242217014}. Best is trial 27 with value: 0.5430698381471877.\n",
      "[I 2024-02-24 16:43:32,870] Trial 44 finished with value: 0.5411919878386836 and parameters: {'multi_class': 'multinomial', 'C': 1.419227582705239}. Best is trial 27 with value: 0.5430698381471877.\n",
      "[I 2024-02-24 16:43:38,388] Trial 45 finished with value: 0.5241437896807655 and parameters: {'multi_class': 'multinomial', 'C': 7.913293967433467}. Best is trial 27 with value: 0.5430698381471877.\n",
      "[I 2024-02-24 16:43:44,250] Trial 46 finished with value: 0.5383573280872753 and parameters: {'multi_class': 'multinomial', 'C': 1.935896788314893}. Best is trial 27 with value: 0.5430698381471877.\n",
      "[I 2024-02-24 16:43:49,523] Trial 47 finished with value: 0.5184476437449701 and parameters: {'multi_class': 'multinomial', 'C': 0.4989756136460368}. Best is trial 27 with value: 0.5430698381471877.\n",
      "[I 2024-02-24 16:43:54,680] Trial 48 finished with value: 0.2213672538674774 and parameters: {'multi_class': 'ovr', 'C': 0.03715226800731779}. Best is trial 27 with value: 0.5430698381471877.\n",
      "[I 2024-02-24 16:43:59,867] Trial 49 finished with value: 0.5203746758472682 and parameters: {'multi_class': 'ovr', 'C': 25.597673648088886}. Best is trial 27 with value: 0.5430698381471877.\n",
      "[I 2024-02-24 16:44:05,575] Trial 50 finished with value: 0.48062237324510415 and parameters: {'multi_class': 'multinomial', 'C': 748.0554594528693}. Best is trial 27 with value: 0.5430698381471877.\n",
      "[I 2024-02-24 16:44:11,015] Trial 51 finished with value: 0.528865241885004 and parameters: {'multi_class': 'multinomial', 'C': 4.487371500588088}. Best is trial 27 with value: 0.5430698381471877.\n",
      "[I 2024-02-24 16:44:16,356] Trial 52 finished with value: 0.5383528570151122 and parameters: {'multi_class': 'multinomial', 'C': 1.56261771413845}. Best is trial 27 with value: 0.5430698381471877.\n",
      "[I 2024-02-24 16:44:21,588] Trial 53 finished with value: 0.49571224179558254 and parameters: {'multi_class': 'multinomial', 'C': 0.3410598382579487}. Best is trial 27 with value: 0.5430698381471877.\n",
      "[I 2024-02-24 16:44:26,872] Trial 54 finished with value: 0.5317043727085755 and parameters: {'multi_class': 'multinomial', 'C': 0.6935176056487544}. Best is trial 27 with value: 0.5430698381471877.\n",
      "[I 2024-02-24 16:44:32,248] Trial 55 finished with value: 0.5355047840472145 and parameters: {'multi_class': 'multinomial', 'C': 3.0569476255348813}. Best is trial 27 with value: 0.5430698381471877.\n",
      "[I 2024-02-24 16:44:37,423] Trial 56 finished with value: 0.521309129929357 and parameters: {'multi_class': 'ovr', 'C': 8.367696332746073}. Best is trial 27 with value: 0.5430698381471877.\n",
      "[I 2024-02-24 16:44:42,603] Trial 57 finished with value: 0.5383483859429491 and parameters: {'multi_class': 'ovr', 'C': 1.047569228036775}. Best is trial 27 with value: 0.5430698381471877.\n",
      "[I 2024-02-24 16:44:47,812] Trial 58 finished with value: 0.3216534024859161 and parameters: {'multi_class': 'multinomial', 'C': 0.07508483527412337}. Best is trial 27 with value: 0.5430698381471877.\n",
      "[I 2024-02-24 16:44:52,994] Trial 59 finished with value: 0.5279263167307521 and parameters: {'multi_class': 'ovr', 'C': 3.987036842978037}. Best is trial 27 with value: 0.5430698381471877.\n",
      "[I 2024-02-24 16:44:58,215] Trial 60 finished with value: 0.493852275775731 and parameters: {'multi_class': 'ovr', 'C': 129.62268681641496}. Best is trial 27 with value: 0.5430698381471877.\n",
      "[I 2024-02-24 16:45:03,514] Trial 61 finished with value: 0.5411919878386837 and parameters: {'multi_class': 'multinomial', 'C': 0.9632666850898328}. Best is trial 27 with value: 0.5430698381471877.\n",
      "[I 2024-02-24 16:45:08,846] Trial 62 finished with value: 0.5364615934901188 and parameters: {'multi_class': 'multinomial', 'C': 2.1015783117346873}. Best is trial 27 with value: 0.5430698381471877.\n",
      "[I 2024-02-24 16:45:14,149] Trial 63 finished with value: 0.5383528570151123 and parameters: {'multi_class': 'multinomial', 'C': 0.8738603207998618}. Best is trial 27 with value: 0.5430698381471877.\n",
      "[I 2024-02-24 16:45:19,381] Trial 64 finished with value: 0.49570329965125637 and parameters: {'multi_class': 'multinomial', 'C': 0.32854279183625557}. Best is trial 27 with value: 0.5430698381471877.\n",
      "[I 2024-02-24 16:45:24,603] Trial 65 finished with value: 0.39171063220960384 and parameters: {'multi_class': 'multinomial', 'C': 0.12703521431000753}. Best is trial 27 with value: 0.5430698381471877.\n",
      "[I 2024-02-24 16:45:29,782] Trial 66 finished with value: 0.515626397210051 and parameters: {'multi_class': 'ovr', 'C': 13.475365389280887}. Best is trial 27 with value: 0.5430698381471877.\n",
      "[I 2024-02-24 16:45:34,959] Trial 67 finished with value: 0.5241482607529286 and parameters: {'multi_class': 'ovr', 'C': 5.262557452157163}. Best is trial 27 with value: 0.5430698381471877.\n",
      "[I 2024-02-24 16:45:40,283] Trial 68 finished with value: 0.5421398551372619 and parameters: {'multi_class': 'multinomial', 'C': 1.2819701855048387}. Best is trial 27 with value: 0.5430698381471877.\n",
      "[I 2024-02-24 16:45:45,495] Trial 69 finished with value: 0.5118617544487167 and parameters: {'multi_class': 'ovr', 'C': 32.79014683285383}. Best is trial 27 with value: 0.5430698381471877.\n",
      "[I 2024-02-24 16:45:50,686] Trial 70 finished with value: 0.5392917821693641 and parameters: {'multi_class': 'ovr', 'C': 2.27775697098187}. Best is trial 27 with value: 0.5430698381471877.\n",
      "[I 2024-02-24 16:45:55,997] Trial 71 finished with value: 0.5430877224358401 and parameters: {'multi_class': 'multinomial', 'C': 1.211768903470654}. Best is trial 71 with value: 0.5430877224358401.\n",
      "[I 2024-02-24 16:46:01,220] Trial 72 finished with value: 0.4919163015291067 and parameters: {'multi_class': 'multinomial', 'C': 0.3039402393115285}. Best is trial 71 with value: 0.5430877224358401.\n",
      "[I 2024-02-24 16:46:06,562] Trial 73 finished with value: 0.5421353840650988 and parameters: {'multi_class': 'multinomial', 'C': 1.2725761205063943}. Best is trial 71 with value: 0.5430877224358401.\n",
      "[I 2024-02-24 16:46:11,936] Trial 74 finished with value: 0.5355092551193776 and parameters: {'multi_class': 'multinomial', 'C': 2.862812835794071}. Best is trial 71 with value: 0.5430877224358401.\n",
      "[I 2024-02-24 16:46:17,198] Trial 75 finished with value: 0.5193955110435482 and parameters: {'multi_class': 'multinomial', 'C': 0.5115501489064285}. Best is trial 71 with value: 0.5430877224358401.\n",
      "[I 2024-02-24 16:46:22,735] Trial 76 finished with value: 0.5175221318072074 and parameters: {'multi_class': 'multinomial', 'C': 12.439028481363462}. Best is trial 71 with value: 0.5430877224358401.\n",
      "[I 2024-02-24 16:46:28,079] Trial 77 finished with value: 0.5393051953858535 and parameters: {'multi_class': 'multinomial', 'C': 1.3691415686338966}. Best is trial 71 with value: 0.5430877224358401.\n",
      "[I 2024-02-24 16:46:33,257] Trial 78 finished with value: 0.44180899579719213 and parameters: {'multi_class': 'multinomial', 'C': 0.1848789135928994}. Best is trial 71 with value: 0.5430877224358401.\n",
      "[I 2024-02-24 16:46:38,833] Trial 79 finished with value: 0.4692479656621658 and parameters: {'multi_class': 'multinomial', 'C': 8258.121846047588}. Best is trial 71 with value: 0.5430877224358401.\n",
      "[I 2024-02-24 16:46:44,164] Trial 80 finished with value: 0.5421398551372618 and parameters: {'multi_class': 'multinomial', 'C': 1.311176683369191}. Best is trial 71 with value: 0.5430877224358401.\n",
      "[I 2024-02-24 16:46:49,463] Trial 81 finished with value: 0.5411919878386838 and parameters: {'multi_class': 'multinomial', 'C': 1.1081034718920904}. Best is trial 71 with value: 0.5430877224358401.\n",
      "[I 2024-02-24 16:46:54,774] Trial 82 finished with value: 0.5411919878386837 and parameters: {'multi_class': 'multinomial', 'C': 0.9646248716989088}. Best is trial 71 with value: 0.5430877224358401.\n",
      "[I 2024-02-24 16:47:00,042] Trial 83 finished with value: 0.5260171689171063 and parameters: {'multi_class': 'multinomial', 'C': 0.6012311469698232}. Best is trial 71 with value: 0.5430877224358401.\n",
      "[I 2024-02-24 16:47:05,361] Trial 84 finished with value: 0.5411919878386838 and parameters: {'multi_class': 'multinomial', 'C': 1.0363955985814999}. Best is trial 71 with value: 0.5430877224358401.\n",
      "[I 2024-02-24 16:47:10,592] Trial 85 finished with value: 0.49570329965125637 and parameters: {'multi_class': 'multinomial', 'C': 0.32681992336858195}. Best is trial 71 with value: 0.5430877224358401.\n",
      "[I 2024-02-24 16:47:15,806] Trial 86 finished with value: 0.391715103281767 and parameters: {'multi_class': 'multinomial', 'C': 0.1263978181942728}. Best is trial 71 with value: 0.5430877224358401.\n",
      "[I 2024-02-24 16:47:21,267] Trial 87 finished with value: 0.5288831261736565 and parameters: {'multi_class': 'multinomial', 'C': 5.86597644385404}. Best is trial 71 with value: 0.5430877224358401.\n",
      "[I 2024-02-24 16:47:26,552] Trial 88 finished with value: 0.5392962532415273 and parameters: {'multi_class': 'multinomial', 'C': 0.9157625506194329}. Best is trial 71 with value: 0.5430877224358401.\n",
      "[I 2024-02-24 16:47:31,937] Trial 89 finished with value: 0.5364526513457928 and parameters: {'multi_class': 'multinomial', 'C': 3.0505067183536037}. Best is trial 71 with value: 0.5430877224358401.\n",
      "[I 2024-02-24 16:47:37,174] Trial 90 finished with value: 0.21570240543682373 and parameters: {'multi_class': 'multinomial', 'C': 0.00012011292301609818}. Best is trial 71 with value: 0.5430877224358401.\n",
      "[I 2024-02-24 16:47:42,495] Trial 91 finished with value: 0.5421398551372619 and parameters: {'multi_class': 'multinomial', 'C': 1.1961963540329694}. Best is trial 71 with value: 0.5430877224358401.\n",
      "[I 2024-02-24 16:47:47,742] Trial 92 finished with value: 0.5127649110256639 and parameters: {'multi_class': 'multinomial', 'C': 0.436133725664054}. Best is trial 71 with value: 0.5430877224358401.\n",
      "[I 2024-02-24 16:47:53,073] Trial 93 finished with value: 0.5411919878386838 and parameters: {'multi_class': 'multinomial', 'C': 1.1433023929537822}. Best is trial 71 with value: 0.5430877224358401.\n",
      "[I 2024-02-24 16:47:58,400] Trial 94 finished with value: 0.5402485916122687 and parameters: {'multi_class': 'multinomial', 'C': 1.2949007268429835}. Best is trial 71 with value: 0.5430877224358401.\n",
      "[I 2024-02-24 16:48:03,688] Trial 95 finished with value: 0.5326477689349907 and parameters: {'multi_class': 'multinomial', 'C': 0.702936505365562}. Best is trial 71 with value: 0.5430877224358401.\n",
      "[I 2024-02-24 16:48:09,074] Trial 96 finished with value: 0.5393007243136904 and parameters: {'multi_class': 'multinomial', 'C': 2.4055528261852706}. Best is trial 71 with value: 0.5430877224358401.\n",
      "[I 2024-02-24 16:48:14,496] Trial 97 finished with value: 0.5307609764821605 and parameters: {'multi_class': 'multinomial', 'C': 4.2539308495780475}. Best is trial 71 with value: 0.5430877224358401.\n",
      "[I 2024-02-24 16:48:20,016] Trial 98 finished with value: 0.5203567915586158 and parameters: {'multi_class': 'multinomial', 'C': 9.932269773896287}. Best is trial 71 with value: 0.5430877224358401.\n",
      "[I 2024-02-24 16:48:25,204] Trial 99 finished with value: 0.2516364124116963 and parameters: {'multi_class': 'multinomial', 'C': 0.04600548566211192}. Best is trial 71 with value: 0.5430877224358401.\n"
     ]
    },
    {
     "name": "stdout",
     "output_type": "stream",
     "text": [
      "Best trial: {'multi_class': 'multinomial', 'C': 1.211768903470654}\n"
     ]
    }
   ],
   "source": [
    "def objective(trial):\n",
    "    # Define the hyperparameters to tune\n",
    "    multi_class = trial.suggest_categorical('multi_class', ['ovr', 'multinomial'])\n",
    "    C = trial.suggest_float('C', 1e-4, 1e4, log=True)\n",
    "\n",
    "    # Create logistic regression model with suggested hyperparameters\n",
    "    model = LogisticRegression(C=C, random_state=42, max_iter=1000, multi_class=multi_class , n_jobs=-1)\n",
    "    # Perform cross-validation and return the mean score\n",
    "    score = cross_val_score(model, X, y, scoring='accuracy')\n",
    "    return score.mean()\n",
    "\n",
    "\n",
    "# Create a study object and specify the optimization direction\n",
    "study = optuna.create_study(direction='maximize')\n",
    "study.optimize(objective, n_trials=100)  # You can adjust the number of trials\n",
    "\n",
    "# Output the best hyperparameters\n",
    "print('Best trial:', study.best_trial.params)"
   ],
   "metadata": {
    "collapsed": false,
    "ExecuteTime": {
     "end_time": "2024-02-24T14:48:25.208252800Z",
     "start_time": "2024-02-24T14:39:37.559180200Z"
    }
   },
   "id": "9e76682b23c63239",
   "execution_count": 84
  },
  {
   "cell_type": "markdown",
   "source": [
    "### Multi-class SVM\n",
    "\n",
    "Let's now train a multi-class SVM model on the embeddings and the class."
   ],
   "metadata": {
    "collapsed": false
   },
   "id": "e86e3dc9de132389"
  },
  {
   "cell_type": "code",
   "outputs": [
    {
     "data": {
      "text/plain": "SVC(random_state=22)",
      "text/html": "<style>#sk-container-id-6 {\n  /* Definition of color scheme common for light and dark mode */\n  --sklearn-color-text: black;\n  --sklearn-color-line: gray;\n  /* Definition of color scheme for unfitted estimators */\n  --sklearn-color-unfitted-level-0: #fff5e6;\n  --sklearn-color-unfitted-level-1: #f6e4d2;\n  --sklearn-color-unfitted-level-2: #ffe0b3;\n  --sklearn-color-unfitted-level-3: chocolate;\n  /* Definition of color scheme for fitted estimators */\n  --sklearn-color-fitted-level-0: #f0f8ff;\n  --sklearn-color-fitted-level-1: #d4ebff;\n  --sklearn-color-fitted-level-2: #b3dbfd;\n  --sklearn-color-fitted-level-3: cornflowerblue;\n\n  /* Specific color for light theme */\n  --sklearn-color-text-on-default-background: var(--sg-text-color, var(--theme-code-foreground, var(--jp-content-font-color1, black)));\n  --sklearn-color-background: var(--sg-background-color, var(--theme-background, var(--jp-layout-color0, white)));\n  --sklearn-color-border-box: var(--sg-text-color, var(--theme-code-foreground, var(--jp-content-font-color1, black)));\n  --sklearn-color-icon: #696969;\n\n  @media (prefers-color-scheme: dark) {\n    /* Redefinition of color scheme for dark theme */\n    --sklearn-color-text-on-default-background: var(--sg-text-color, var(--theme-code-foreground, var(--jp-content-font-color1, white)));\n    --sklearn-color-background: var(--sg-background-color, var(--theme-background, var(--jp-layout-color0, #111)));\n    --sklearn-color-border-box: var(--sg-text-color, var(--theme-code-foreground, var(--jp-content-font-color1, white)));\n    --sklearn-color-icon: #878787;\n  }\n}\n\n#sk-container-id-6 {\n  color: var(--sklearn-color-text);\n}\n\n#sk-container-id-6 pre {\n  padding: 0;\n}\n\n#sk-container-id-6 input.sk-hidden--visually {\n  border: 0;\n  clip: rect(1px 1px 1px 1px);\n  clip: rect(1px, 1px, 1px, 1px);\n  height: 1px;\n  margin: -1px;\n  overflow: hidden;\n  padding: 0;\n  position: absolute;\n  width: 1px;\n}\n\n#sk-container-id-6 div.sk-dashed-wrapped {\n  border: 1px dashed var(--sklearn-color-line);\n  margin: 0 0.4em 0.5em 0.4em;\n  box-sizing: border-box;\n  padding-bottom: 0.4em;\n  background-color: var(--sklearn-color-background);\n}\n\n#sk-container-id-6 div.sk-container {\n  /* jupyter's `normalize.less` sets `[hidden] { display: none; }`\n     but bootstrap.min.css set `[hidden] { display: none !important; }`\n     so we also need the `!important` here to be able to override the\n     default hidden behavior on the sphinx rendered scikit-learn.org.\n     See: https://github.com/scikit-learn/scikit-learn/issues/21755 */\n  display: inline-block !important;\n  position: relative;\n}\n\n#sk-container-id-6 div.sk-text-repr-fallback {\n  display: none;\n}\n\ndiv.sk-parallel-item,\ndiv.sk-serial,\ndiv.sk-item {\n  /* draw centered vertical line to link estimators */\n  background-image: linear-gradient(var(--sklearn-color-text-on-default-background), var(--sklearn-color-text-on-default-background));\n  background-size: 2px 100%;\n  background-repeat: no-repeat;\n  background-position: center center;\n}\n\n/* Parallel-specific style estimator block */\n\n#sk-container-id-6 div.sk-parallel-item::after {\n  content: \"\";\n  width: 100%;\n  border-bottom: 2px solid var(--sklearn-color-text-on-default-background);\n  flex-grow: 1;\n}\n\n#sk-container-id-6 div.sk-parallel {\n  display: flex;\n  align-items: stretch;\n  justify-content: center;\n  background-color: var(--sklearn-color-background);\n  position: relative;\n}\n\n#sk-container-id-6 div.sk-parallel-item {\n  display: flex;\n  flex-direction: column;\n}\n\n#sk-container-id-6 div.sk-parallel-item:first-child::after {\n  align-self: flex-end;\n  width: 50%;\n}\n\n#sk-container-id-6 div.sk-parallel-item:last-child::after {\n  align-self: flex-start;\n  width: 50%;\n}\n\n#sk-container-id-6 div.sk-parallel-item:only-child::after {\n  width: 0;\n}\n\n/* Serial-specific style estimator block */\n\n#sk-container-id-6 div.sk-serial {\n  display: flex;\n  flex-direction: column;\n  align-items: center;\n  background-color: var(--sklearn-color-background);\n  padding-right: 1em;\n  padding-left: 1em;\n}\n\n\n/* Toggleable style: style used for estimator/Pipeline/ColumnTransformer box that is\nclickable and can be expanded/collapsed.\n- Pipeline and ColumnTransformer use this feature and define the default style\n- Estimators will overwrite some part of the style using the `sk-estimator` class\n*/\n\n/* Pipeline and ColumnTransformer style (default) */\n\n#sk-container-id-6 div.sk-toggleable {\n  /* Default theme specific background. It is overwritten whether we have a\n  specific estimator or a Pipeline/ColumnTransformer */\n  background-color: var(--sklearn-color-background);\n}\n\n/* Toggleable label */\n#sk-container-id-6 label.sk-toggleable__label {\n  cursor: pointer;\n  display: block;\n  width: 100%;\n  margin-bottom: 0;\n  padding: 0.5em;\n  box-sizing: border-box;\n  text-align: center;\n}\n\n#sk-container-id-6 label.sk-toggleable__label-arrow:before {\n  /* Arrow on the left of the label */\n  content: \"▸\";\n  float: left;\n  margin-right: 0.25em;\n  color: var(--sklearn-color-icon);\n}\n\n#sk-container-id-6 label.sk-toggleable__label-arrow:hover:before {\n  color: var(--sklearn-color-text);\n}\n\n/* Toggleable content - dropdown */\n\n#sk-container-id-6 div.sk-toggleable__content {\n  max-height: 0;\n  max-width: 0;\n  overflow: hidden;\n  text-align: left;\n  /* unfitted */\n  background-color: var(--sklearn-color-unfitted-level-0);\n}\n\n#sk-container-id-6 div.sk-toggleable__content.fitted {\n  /* fitted */\n  background-color: var(--sklearn-color-fitted-level-0);\n}\n\n#sk-container-id-6 div.sk-toggleable__content pre {\n  margin: 0.2em;\n  border-radius: 0.25em;\n  color: var(--sklearn-color-text);\n  /* unfitted */\n  background-color: var(--sklearn-color-unfitted-level-0);\n}\n\n#sk-container-id-6 div.sk-toggleable__content.fitted pre {\n  /* unfitted */\n  background-color: var(--sklearn-color-fitted-level-0);\n}\n\n#sk-container-id-6 input.sk-toggleable__control:checked~div.sk-toggleable__content {\n  /* Expand drop-down */\n  max-height: 200px;\n  max-width: 100%;\n  overflow: auto;\n}\n\n#sk-container-id-6 input.sk-toggleable__control:checked~label.sk-toggleable__label-arrow:before {\n  content: \"▾\";\n}\n\n/* Pipeline/ColumnTransformer-specific style */\n\n#sk-container-id-6 div.sk-label input.sk-toggleable__control:checked~label.sk-toggleable__label {\n  color: var(--sklearn-color-text);\n  background-color: var(--sklearn-color-unfitted-level-2);\n}\n\n#sk-container-id-6 div.sk-label.fitted input.sk-toggleable__control:checked~label.sk-toggleable__label {\n  background-color: var(--sklearn-color-fitted-level-2);\n}\n\n/* Estimator-specific style */\n\n/* Colorize estimator box */\n#sk-container-id-6 div.sk-estimator input.sk-toggleable__control:checked~label.sk-toggleable__label {\n  /* unfitted */\n  background-color: var(--sklearn-color-unfitted-level-2);\n}\n\n#sk-container-id-6 div.sk-estimator.fitted input.sk-toggleable__control:checked~label.sk-toggleable__label {\n  /* fitted */\n  background-color: var(--sklearn-color-fitted-level-2);\n}\n\n#sk-container-id-6 div.sk-label label.sk-toggleable__label,\n#sk-container-id-6 div.sk-label label {\n  /* The background is the default theme color */\n  color: var(--sklearn-color-text-on-default-background);\n}\n\n/* On hover, darken the color of the background */\n#sk-container-id-6 div.sk-label:hover label.sk-toggleable__label {\n  color: var(--sklearn-color-text);\n  background-color: var(--sklearn-color-unfitted-level-2);\n}\n\n/* Label box, darken color on hover, fitted */\n#sk-container-id-6 div.sk-label.fitted:hover label.sk-toggleable__label.fitted {\n  color: var(--sklearn-color-text);\n  background-color: var(--sklearn-color-fitted-level-2);\n}\n\n/* Estimator label */\n\n#sk-container-id-6 div.sk-label label {\n  font-family: monospace;\n  font-weight: bold;\n  display: inline-block;\n  line-height: 1.2em;\n}\n\n#sk-container-id-6 div.sk-label-container {\n  text-align: center;\n}\n\n/* Estimator-specific */\n#sk-container-id-6 div.sk-estimator {\n  font-family: monospace;\n  border: 1px dotted var(--sklearn-color-border-box);\n  border-radius: 0.25em;\n  box-sizing: border-box;\n  margin-bottom: 0.5em;\n  /* unfitted */\n  background-color: var(--sklearn-color-unfitted-level-0);\n}\n\n#sk-container-id-6 div.sk-estimator.fitted {\n  /* fitted */\n  background-color: var(--sklearn-color-fitted-level-0);\n}\n\n/* on hover */\n#sk-container-id-6 div.sk-estimator:hover {\n  /* unfitted */\n  background-color: var(--sklearn-color-unfitted-level-2);\n}\n\n#sk-container-id-6 div.sk-estimator.fitted:hover {\n  /* fitted */\n  background-color: var(--sklearn-color-fitted-level-2);\n}\n\n/* Specification for estimator info (e.g. \"i\" and \"?\") */\n\n/* Common style for \"i\" and \"?\" */\n\n.sk-estimator-doc-link,\na:link.sk-estimator-doc-link,\na:visited.sk-estimator-doc-link {\n  float: right;\n  font-size: smaller;\n  line-height: 1em;\n  font-family: monospace;\n  background-color: var(--sklearn-color-background);\n  border-radius: 1em;\n  height: 1em;\n  width: 1em;\n  text-decoration: none !important;\n  margin-left: 1ex;\n  /* unfitted */\n  border: var(--sklearn-color-unfitted-level-1) 1pt solid;\n  color: var(--sklearn-color-unfitted-level-1);\n}\n\n.sk-estimator-doc-link.fitted,\na:link.sk-estimator-doc-link.fitted,\na:visited.sk-estimator-doc-link.fitted {\n  /* fitted */\n  border: var(--sklearn-color-fitted-level-1) 1pt solid;\n  color: var(--sklearn-color-fitted-level-1);\n}\n\n/* On hover */\ndiv.sk-estimator:hover .sk-estimator-doc-link:hover,\n.sk-estimator-doc-link:hover,\ndiv.sk-label-container:hover .sk-estimator-doc-link:hover,\n.sk-estimator-doc-link:hover {\n  /* unfitted */\n  background-color: var(--sklearn-color-unfitted-level-3);\n  color: var(--sklearn-color-background);\n  text-decoration: none;\n}\n\ndiv.sk-estimator.fitted:hover .sk-estimator-doc-link.fitted:hover,\n.sk-estimator-doc-link.fitted:hover,\ndiv.sk-label-container:hover .sk-estimator-doc-link.fitted:hover,\n.sk-estimator-doc-link.fitted:hover {\n  /* fitted */\n  background-color: var(--sklearn-color-fitted-level-3);\n  color: var(--sklearn-color-background);\n  text-decoration: none;\n}\n\n/* Span, style for the box shown on hovering the info icon */\n.sk-estimator-doc-link span {\n  display: none;\n  z-index: 9999;\n  position: relative;\n  font-weight: normal;\n  right: .2ex;\n  padding: .5ex;\n  margin: .5ex;\n  width: min-content;\n  min-width: 20ex;\n  max-width: 50ex;\n  color: var(--sklearn-color-text);\n  box-shadow: 2pt 2pt 4pt #999;\n  /* unfitted */\n  background: var(--sklearn-color-unfitted-level-0);\n  border: .5pt solid var(--sklearn-color-unfitted-level-3);\n}\n\n.sk-estimator-doc-link.fitted span {\n  /* fitted */\n  background: var(--sklearn-color-fitted-level-0);\n  border: var(--sklearn-color-fitted-level-3);\n}\n\n.sk-estimator-doc-link:hover span {\n  display: block;\n}\n\n/* \"?\"-specific style due to the `<a>` HTML tag */\n\n#sk-container-id-6 a.estimator_doc_link {\n  float: right;\n  font-size: 1rem;\n  line-height: 1em;\n  font-family: monospace;\n  background-color: var(--sklearn-color-background);\n  border-radius: 1rem;\n  height: 1rem;\n  width: 1rem;\n  text-decoration: none;\n  /* unfitted */\n  color: var(--sklearn-color-unfitted-level-1);\n  border: var(--sklearn-color-unfitted-level-1) 1pt solid;\n}\n\n#sk-container-id-6 a.estimator_doc_link.fitted {\n  /* fitted */\n  border: var(--sklearn-color-fitted-level-1) 1pt solid;\n  color: var(--sklearn-color-fitted-level-1);\n}\n\n/* On hover */\n#sk-container-id-6 a.estimator_doc_link:hover {\n  /* unfitted */\n  background-color: var(--sklearn-color-unfitted-level-3);\n  color: var(--sklearn-color-background);\n  text-decoration: none;\n}\n\n#sk-container-id-6 a.estimator_doc_link.fitted:hover {\n  /* fitted */\n  background-color: var(--sklearn-color-fitted-level-3);\n}\n</style><div id=\"sk-container-id-6\" class=\"sk-top-container\"><div class=\"sk-text-repr-fallback\"><pre>SVC(random_state=22)</pre><b>In a Jupyter environment, please rerun this cell to show the HTML representation or trust the notebook. <br />On GitHub, the HTML representation is unable to render, please try loading this page with nbviewer.org.</b></div><div class=\"sk-container\" hidden><div class=\"sk-item\"><div class=\"sk-estimator fitted sk-toggleable\"><input class=\"sk-toggleable__control sk-hidden--visually\" id=\"sk-estimator-id-6\" type=\"checkbox\" checked><label for=\"sk-estimator-id-6\" class=\"sk-toggleable__label fitted sk-toggleable__label-arrow fitted\">&nbsp;&nbsp;SVC<a class=\"sk-estimator-doc-link fitted\" rel=\"noreferrer\" target=\"_blank\" href=\"https://scikit-learn.org/1.4/modules/generated/sklearn.svm.SVC.html\">?<span>Documentation for SVC</span></a><span class=\"sk-estimator-doc-link fitted\">i<span>Fitted</span></span></label><div class=\"sk-toggleable__content fitted\"><pre>SVC(random_state=22)</pre></div> </div></div></div></div>"
     },
     "execution_count": 43,
     "metadata": {},
     "output_type": "execute_result"
    }
   ],
   "source": [
    "svm_model = SVC(kernel='rbf', random_state=22)\n",
    "svm_model.fit(X_train, y_train)"
   ],
   "metadata": {
    "collapsed": false,
    "ExecuteTime": {
     "end_time": "2024-02-24T13:37:41.567936200Z",
     "start_time": "2024-02-24T13:37:41.483041400Z"
    }
   },
   "id": "2c66c7edab0d64",
   "execution_count": 43
  },
  {
   "cell_type": "code",
   "outputs": [
    {
     "name": "stdout",
     "output_type": "stream",
     "text": [
      "              precision    recall  f1-score   support\n",
      "\n",
      "           0       0.65      0.65      0.65        43\n",
      "           1       0.78      0.68      0.72        31\n",
      "           2       0.77      0.68      0.72        34\n",
      "           3       0.69      0.77      0.73        26\n",
      "           4       0.58      0.56      0.57        27\n",
      "           5       0.70      0.78      0.74        51\n",
      "\n",
      "    accuracy                           0.69       212\n",
      "   macro avg       0.69      0.69      0.69       212\n",
      "weighted avg       0.70      0.69      0.69       212\n"
     ]
    }
   ],
   "source": [
    "# Generate classification report\n",
    "y_pred = svm_model.predict(X_test)\n",
    "print(metrics.classification_report(y_test, y_pred))"
   ],
   "metadata": {
    "collapsed": false,
    "ExecuteTime": {
     "end_time": "2024-02-24T13:37:41.699568600Z",
     "start_time": "2024-02-24T13:37:41.657120800Z"
    }
   },
   "id": "62835de5722c9451",
   "execution_count": 44
  },
  {
   "cell_type": "markdown",
   "source": [
    "Let's use the `optuna` library to find the best hyperparameters for the model based on the maximization of the accuracy.\n"
   ],
   "metadata": {
    "collapsed": false
   },
   "id": "a87564b264fa6a83"
  },
  {
   "cell_type": "code",
   "outputs": [
    {
     "name": "stderr",
     "output_type": "stream",
     "text": [
      "[I 2024-02-24 15:21:53,815] A new study created in memory with name: no-name-fbb0df03-3332-4ee6-88b9-63dab539915d\n",
      "[I 2024-02-24 15:21:54,150] Trial 0 finished with value: 0.4844272556559063 and parameters: {'C': 7.601359404948779, 'kernel': 'linear', 'gamma': 'auto'}. Best is trial 0 with value: 0.4844272556559063.\n",
      "[I 2024-02-24 15:21:54,670] Trial 1 finished with value: 0.21570240543682373 and parameters: {'C': 0.001925613168034482, 'kernel': 'poly', 'gamma': 'auto', 'degree': 4}. Best is trial 0 with value: 0.4844272556559063.\n",
      "[I 2024-02-24 15:21:55,067] Trial 2 finished with value: 0.46643566127157293 and parameters: {'C': 24.637615145321337, 'kernel': 'linear', 'gamma': 'auto'}. Best is trial 0 with value: 0.4844272556559063.\n",
      "[I 2024-02-24 15:21:55,604] Trial 3 finished with value: 0.425744433515157 and parameters: {'C': 6832.795980529893, 'kernel': 'sigmoid', 'gamma': 'scale'}. Best is trial 0 with value: 0.4844272556559063.\n",
      "[I 2024-02-24 15:21:56,014] Trial 4 finished with value: 0.5317401412858803 and parameters: {'C': 1.4379973680508373, 'kernel': 'linear', 'gamma': 'scale'}. Best is trial 4 with value: 0.5317401412858803.\n",
      "[I 2024-02-24 15:21:56,618] Trial 5 finished with value: 0.21570240543682373 and parameters: {'C': 0.000217696136663899, 'kernel': 'poly', 'gamma': 'auto', 'degree': 3}. Best is trial 4 with value: 0.5317401412858803.\n",
      "[I 2024-02-24 15:21:57,206] Trial 6 finished with value: 0.21570240543682373 and parameters: {'C': 0.06706648734553318, 'kernel': 'linear', 'gamma': 'scale'}. Best is trial 4 with value: 0.5317401412858803.\n",
      "[I 2024-02-24 15:21:57,771] Trial 7 finished with value: 0.21570240543682373 and parameters: {'C': 0.0003486572030786427, 'kernel': 'poly', 'gamma': 'scale', 'degree': 9}. Best is trial 4 with value: 0.5317401412858803.\n",
      "[I 2024-02-24 15:21:58,274] Trial 8 finished with value: 0.21570240543682373 and parameters: {'C': 0.00019261412167823918, 'kernel': 'linear', 'gamma': 'auto'}. Best is trial 4 with value: 0.5317401412858803.\n",
      "[I 2024-02-24 15:21:58,703] Trial 9 finished with value: 0.5345748010372887 and parameters: {'C': 1349.686937395348, 'kernel': 'sigmoid', 'gamma': 'auto'}. Best is trial 9 with value: 0.5345748010372887.\n",
      "[I 2024-02-24 15:21:59,136] Trial 10 finished with value: 0.4626263077886078 and parameters: {'C': 44898.19741475613, 'kernel': 'sigmoid', 'gamma': 'auto'}. Best is trial 9 with value: 0.5345748010372887.\n",
      "[I 2024-02-24 15:22:00,089] Trial 11 finished with value: 0.5109049450058124 and parameters: {'C': 362.64192955214537, 'kernel': 'rbf', 'gamma': 'scale'}. Best is trial 9 with value: 0.5345748010372887.\n",
      "[I 2024-02-24 15:22:00,800] Trial 12 finished with value: 0.21665027273540197 and parameters: {'C': 0.16166637889362026, 'kernel': 'sigmoid', 'gamma': 'scale'}. Best is trial 9 with value: 0.5345748010372887.\n",
      "[I 2024-02-24 15:22:01,631] Trial 13 finished with value: 0.5109049450058124 and parameters: {'C': 457.7325417452622, 'kernel': 'rbf', 'gamma': 'scale'}. Best is trial 9 with value: 0.5345748010372887.\n",
      "[I 2024-02-24 15:22:02,233] Trial 14 finished with value: 0.21570240543682373 and parameters: {'C': 2.6596456078573207, 'kernel': 'sigmoid', 'gamma': 'auto'}. Best is trial 9 with value: 0.5345748010372887.\n",
      "[I 2024-02-24 15:22:02,836] Trial 15 finished with value: 0.21570240543682373 and parameters: {'C': 0.013186305784828524, 'kernel': 'linear', 'gamma': 'scale'}. Best is trial 9 with value: 0.5345748010372887.\n",
      "[I 2024-02-24 15:22:03,275] Trial 16 finished with value: 0.42193508003219177 and parameters: {'C': 173.5294969190992, 'kernel': 'sigmoid', 'gamma': 'scale'}. Best is trial 9 with value: 0.5345748010372887.\n",
      "[I 2024-02-24 15:22:03,884] Trial 17 finished with value: 0.4711660556201377 and parameters: {'C': 5308.8213445462225, 'kernel': 'rbf', 'gamma': 'auto'}. Best is trial 9 with value: 0.5345748010372887.\n",
      "[I 2024-02-24 15:22:04,311] Trial 18 finished with value: 0.4607395153357775 and parameters: {'C': 35.01917464112912, 'kernel': 'linear', 'gamma': 'scale'}. Best is trial 9 with value: 0.5345748010372887.\n",
      "[I 2024-02-24 15:22:04,974] Trial 19 finished with value: 0.21570240543682373 and parameters: {'C': 0.6164190668102112, 'kernel': 'sigmoid', 'gamma': 'auto'}. Best is trial 9 with value: 0.5345748010372887.\n",
      "[I 2024-02-24 15:22:05,393] Trial 20 finished with value: 0.4626263077886078 and parameters: {'C': 79144.72132756445, 'kernel': 'linear', 'gamma': 'scale'}. Best is trial 9 with value: 0.5345748010372887.\n",
      "[I 2024-02-24 15:22:06,085] Trial 21 finished with value: 0.5109049450058124 and parameters: {'C': 736.8500821551859, 'kernel': 'rbf', 'gamma': 'scale'}. Best is trial 9 with value: 0.5345748010372887.\n",
      "[I 2024-02-24 15:22:06,747] Trial 22 finished with value: 0.5109049450058124 and parameters: {'C': 2094.8480298218074, 'kernel': 'rbf', 'gamma': 'scale'}. Best is trial 9 with value: 0.5345748010372887.\n",
      "[I 2024-02-24 15:22:07,406] Trial 23 finished with value: 0.5109049450058124 and parameters: {'C': 71.13359417171642, 'kernel': 'rbf', 'gamma': 'scale'}. Best is trial 9 with value: 0.5345748010372887.\n",
      "[I 2024-02-24 15:22:07,970] Trial 24 finished with value: 0.5364839488509345 and parameters: {'C': 1.2898399952483892, 'kernel': 'rbf', 'gamma': 'scale'}. Best is trial 24 with value: 0.5364839488509345.\n",
      "[I 2024-02-24 15:22:08,554] Trial 25 finished with value: 0.5374139318608602 and parameters: {'C': 0.7230932292213924, 'kernel': 'rbf', 'gamma': 'scale'}. Best is trial 25 with value: 0.5374139318608602.\n",
      "[I 2024-02-24 15:22:09,184] Trial 26 finished with value: 0.21570240543682373 and parameters: {'C': 1.4471352501689741e-05, 'kernel': 'rbf', 'gamma': 'auto'}. Best is trial 25 with value: 0.5374139318608602.\n",
      "[I 2024-02-24 15:22:09,849] Trial 27 finished with value: 0.21570240543682373 and parameters: {'C': 0.018144029431884836, 'kernel': 'rbf', 'gamma': 'scale'}. Best is trial 25 with value: 0.5374139318608602.\n",
      "[I 2024-02-24 15:22:10,488] Trial 28 finished with value: 0.21570240543682373 and parameters: {'C': 0.24751487521293652, 'kernel': 'rbf', 'gamma': 'auto'}. Best is trial 25 with value: 0.5374139318608602.\n",
      "[I 2024-02-24 15:22:11,141] Trial 29 finished with value: 0.21570240543682373 and parameters: {'C': 10.378344769194756, 'kernel': 'rbf', 'gamma': 'auto'}. Best is trial 25 with value: 0.5374139318608602.\n",
      "[I 2024-02-24 15:22:11,497] Trial 30 finished with value: 0.5043101135652329 and parameters: {'C': 7.710235543437327, 'kernel': 'sigmoid', 'gamma': 'scale'}. Best is trial 25 with value: 0.5374139318608602.\n",
      "[I 2024-02-24 15:22:11,893] Trial 31 finished with value: 0.5393051953858536 and parameters: {'C': 0.9821176466487772, 'kernel': 'linear', 'gamma': 'scale'}. Best is trial 31 with value: 0.5393051953858536.\n",
      "[I 2024-02-24 15:22:12,420] Trial 32 finished with value: 0.21570240543682373 and parameters: {'C': 0.023957248284480558, 'kernel': 'poly', 'gamma': 'scale', 'degree': 10}. Best is trial 31 with value: 0.5393051953858536.\n",
      "[I 2024-02-24 15:22:12,973] Trial 33 finished with value: 0.5307788607708128 and parameters: {'C': 2.007292432436496, 'kernel': 'rbf', 'gamma': 'scale'}. Best is trial 31 with value: 0.5393051953858536.\n",
      "[I 2024-02-24 15:22:13,419] Trial 34 finished with value: 0.5222659393722615 and parameters: {'C': 0.428706656618169, 'kernel': 'linear', 'gamma': 'scale'}. Best is trial 31 with value: 0.5393051953858536.\n",
      "[I 2024-02-24 15:22:13,938] Trial 35 finished with value: 0.21570240543682373 and parameters: {'C': 0.003076987031322429, 'kernel': 'sigmoid', 'gamma': 'scale'}. Best is trial 31 with value: 0.5393051953858536.\n",
      "[I 2024-02-24 15:22:14,424] Trial 36 finished with value: 0.21570240543682373 and parameters: {'C': 3.2099247266279747, 'kernel': 'poly', 'gamma': 'auto', 'degree': 1}. Best is trial 31 with value: 0.5393051953858536.\n",
      "[I 2024-02-24 15:22:14,905] Trial 37 finished with value: 0.21570240543682373 and parameters: {'C': 0.07169969401820692, 'kernel': 'linear', 'gamma': 'scale'}. Best is trial 31 with value: 0.5393051953858536.\n",
      "[I 2024-02-24 15:22:15,552] Trial 38 finished with value: 0.21570240543682373 and parameters: {'C': 16.025041858118353, 'kernel': 'rbf', 'gamma': 'auto'}. Best is trial 31 with value: 0.5393051953858536.\n",
      "[I 2024-02-24 15:22:16,069] Trial 39 finished with value: 0.21570240543682373 and parameters: {'C': 0.0037381167878459557, 'kernel': 'poly', 'gamma': 'scale', 'degree': 7}. Best is trial 31 with value: 0.5393051953858536.\n",
      "[I 2024-02-24 15:22:16,434] Trial 40 finished with value: 0.4626263077886078 and parameters: {'C': 21593.214598857678, 'kernel': 'linear', 'gamma': 'scale'}. Best is trial 31 with value: 0.5393051953858536.\n",
      "[I 2024-02-24 15:22:16,820] Trial 41 finished with value: 0.5364705356344451 and parameters: {'C': 1.1698150360061574, 'kernel': 'linear', 'gamma': 'scale'}. Best is trial 31 with value: 0.5393051953858536.\n",
      "[I 2024-02-24 15:22:17,221] Trial 42 finished with value: 0.5421398551372618 and parameters: {'C': 0.8233556021830791, 'kernel': 'linear', 'gamma': 'scale'}. Best is trial 42 with value: 0.5421398551372618.\n",
      "[I 2024-02-24 15:22:17,630] Trial 43 finished with value: 0.5459357954037378 and parameters: {'C': 0.751796233971926, 'kernel': 'linear', 'gamma': 'scale'}. Best is trial 43 with value: 0.5459357954037378.\n",
      "[I 2024-02-24 15:22:18,116] Trial 44 finished with value: 0.21665027273540197 and parameters: {'C': 0.10817776622138571, 'kernel': 'linear', 'gamma': 'scale'}. Best is trial 43 with value: 0.5459357954037378.\n",
      "[I 2024-02-24 15:22:18,543] Trial 45 finished with value: 0.5374273450773496 and parameters: {'C': 0.5448644436372487, 'kernel': 'linear', 'gamma': 'scale'}. Best is trial 43 with value: 0.5459357954037378.\n",
      "[I 2024-02-24 15:22:18,900] Trial 46 finished with value: 0.5071268890279889 and parameters: {'C': 4.255075471261124, 'kernel': 'linear', 'gamma': 'scale'}. Best is trial 43 with value: 0.5459357954037378.\n",
      "[I 2024-02-24 15:22:19,336] Trial 47 finished with value: 0.5364794777787714 and parameters: {'C': 0.5422385226700206, 'kernel': 'linear', 'gamma': 'scale'}. Best is trial 43 with value: 0.5459357954037378.\n",
      "[I 2024-02-24 15:22:19,818] Trial 48 finished with value: 0.21570240543682373 and parameters: {'C': 0.04948907568078755, 'kernel': 'linear', 'gamma': 'scale'}. Best is trial 43 with value: 0.5459357954037378.\n",
      "[I 2024-02-24 15:22:20,184] Trial 49 finished with value: 0.4616873826343557 and parameters: {'C': 42.58697250850883, 'kernel': 'linear', 'gamma': 'scale'}. Best is trial 43 with value: 0.5459357954037378.\n",
      "[I 2024-02-24 15:22:20,652] Trial 50 finished with value: 0.46735223106500945 and parameters: {'C': 0.3004121182515278, 'kernel': 'linear', 'gamma': 'scale'}. Best is trial 43 with value: 0.5459357954037378.\n",
      "[I 2024-02-24 15:22:21,038] Trial 51 finished with value: 0.541205401055173 and parameters: {'C': 1.1347945577487542, 'kernel': 'linear', 'gamma': 'scale'}. Best is trial 43 with value: 0.5459357954037378.\n",
      "[I 2024-02-24 15:22:21,437] Trial 52 finished with value: 0.5411964589108468 and parameters: {'C': 0.8860052238966536, 'kernel': 'linear', 'gamma': 'scale'}. Best is trial 43 with value: 0.5459357954037378.\n",
      "[I 2024-02-24 15:22:21,917] Trial 53 finished with value: 0.2904274344987928 and parameters: {'C': 0.17204781345243164, 'kernel': 'linear', 'gamma': 'scale'}. Best is trial 43 with value: 0.5459357954037378.\n",
      "[I 2024-02-24 15:22:22,263] Trial 54 finished with value: 0.5137619601180363 and parameters: {'C': 3.4011581200321803, 'kernel': 'linear', 'gamma': 'scale'}. Best is trial 43 with value: 0.5459357954037378.\n",
      "[I 2024-02-24 15:22:22,605] Trial 55 finished with value: 0.48726638647947773 and parameters: {'C': 6.432656089682004, 'kernel': 'linear', 'gamma': 'scale'}. Best is trial 43 with value: 0.5459357954037378.\n",
      "[I 2024-02-24 15:22:22,960] Trial 56 finished with value: 0.4645533398909058 and parameters: {'C': 20.406183611007563, 'kernel': 'linear', 'gamma': 'scale'}. Best is trial 43 with value: 0.5459357954037378.\n",
      "[I 2024-02-24 15:22:23,444] Trial 57 finished with value: 0.21570240543682373 and parameters: {'C': 0.04157224783572025, 'kernel': 'linear', 'gamma': 'scale'}. Best is trial 43 with value: 0.5459357954037378.\n",
      "[I 2024-02-24 15:22:23,809] Trial 58 finished with value: 0.4626263077886078 and parameters: {'C': 95.90704161792591, 'kernel': 'linear', 'gamma': 'scale'}. Best is trial 43 with value: 0.5459357954037378.\n",
      "[I 2024-02-24 15:22:24,294] Trial 59 finished with value: 0.21570240543682373 and parameters: {'C': 0.006704431105845286, 'kernel': 'linear', 'gamma': 'scale'}. Best is trial 43 with value: 0.5459357954037378.\n",
      "[I 2024-02-24 15:22:24,682] Trial 60 finished with value: 0.5345748010372888 and parameters: {'C': 1.236608983033544, 'kernel': 'linear', 'gamma': 'scale'}. Best is trial 43 with value: 0.5459357954037378.\n",
      "[I 2024-02-24 15:22:25,096] Trial 61 finished with value: 0.5431011356523293 and parameters: {'C': 0.7190603593664717, 'kernel': 'linear', 'gamma': 'scale'}. Best is trial 43 with value: 0.5459357954037378.\n",
      "[I 2024-02-24 15:22:25,578] Trial 62 finished with value: 0.22704104444245732 and parameters: {'C': 0.1320401009237171, 'kernel': 'linear', 'gamma': 'scale'}. Best is trial 43 with value: 0.5459357954037378.\n",
      "[I 2024-02-24 15:22:26,036] Trial 63 finished with value: 0.4929044084771529 and parameters: {'C': 0.3634492134956047, 'kernel': 'linear', 'gamma': 'scale'}. Best is trial 43 with value: 0.5459357954037378.\n",
      "[I 2024-02-24 15:22:26,400] Trial 64 finished with value: 0.5345748010372887 and parameters: {'C': 1.8450902275469931, 'kernel': 'linear', 'gamma': 'scale'}. Best is trial 43 with value: 0.5459357954037378.\n",
      "[I 2024-02-24 15:22:26,794] Trial 65 finished with value: 0.5440400608065815 and parameters: {'C': 1.0153308599928903, 'kernel': 'linear', 'gamma': 'scale'}. Best is trial 43 with value: 0.5459357954037378.\n",
      "[I 2024-02-24 15:22:27,135] Trial 66 finished with value: 0.4825136367700974 and parameters: {'C': 9.814389807499674, 'kernel': 'linear', 'gamma': 'scale'}. Best is trial 43 with value: 0.5459357954037378.\n",
      "[I 2024-02-24 15:22:27,529] Trial 67 finished with value: 0.5431011356523294 and parameters: {'C': 1.033051130805212, 'kernel': 'linear', 'gamma': 'scale'}. Best is trial 43 with value: 0.5459357954037378.\n",
      "[I 2024-02-24 15:22:28,006] Trial 68 finished with value: 0.38408745417151036 and parameters: {'C': 0.21803648360561836, 'kernel': 'linear', 'gamma': 'scale'}. Best is trial 43 with value: 0.5459357954037378.\n",
      "[I 2024-02-24 15:22:28,477] Trial 69 finished with value: 0.21570240543682373 and parameters: {'C': 0.0004999350391905135, 'kernel': 'linear', 'gamma': 'scale'}. Best is trial 43 with value: 0.5459357954037378.\n",
      "[I 2024-02-24 15:22:29,028] Trial 70 finished with value: 0.5336358758830367 and parameters: {'C': 2.232089419195453, 'kernel': 'poly', 'gamma': 'scale', 'degree': 7}. Best is trial 43 with value: 0.5459357954037378.\n",
      "[I 2024-02-24 15:22:29,434] Trial 71 finished with value: 0.542144326209425 and parameters: {'C': 0.8000766304187258, 'kernel': 'linear', 'gamma': 'scale'}. Best is trial 43 with value: 0.5459357954037378.\n",
      "[I 2024-02-24 15:22:29,847] Trial 72 finished with value: 0.5449923991773227 and parameters: {'C': 0.7327553642642187, 'kernel': 'linear', 'gamma': 'scale'}. Best is trial 43 with value: 0.5459357954037378.\n",
      "[I 2024-02-24 15:22:30,202] Trial 73 finished with value: 0.5071492443888044 and parameters: {'C': 4.910351842357012, 'kernel': 'linear', 'gamma': 'scale'}. Best is trial 43 with value: 0.5459357954037378.\n",
      "[I 2024-02-24 15:22:30,692] Trial 74 finished with value: 0.21570240543682373 and parameters: {'C': 0.06835665082698622, 'kernel': 'linear', 'gamma': 'scale'}. Best is trial 43 with value: 0.5459357954037378.\n",
      "[I 2024-02-24 15:22:31,157] Trial 75 finished with value: 0.471134758114996 and parameters: {'C': 0.327076276738437, 'kernel': 'linear', 'gamma': 'scale'}. Best is trial 43 with value: 0.5459357954037378.\n",
      "[I 2024-02-24 15:22:31,644] Trial 76 finished with value: 0.21570240543682373 and parameters: {'C': 0.03302706149767862, 'kernel': 'linear', 'gamma': 'scale'}. Best is trial 43 with value: 0.5459357954037378.\n",
      "[I 2024-02-24 15:22:32,019] Trial 77 finished with value: 0.5345748010372887 and parameters: {'C': 1.75688732122823, 'kernel': 'linear', 'gamma': 'scale'}. Best is trial 43 with value: 0.5459357954037378.\n",
      "[I 2024-02-24 15:22:32,525] Trial 78 finished with value: 0.21570240543682373 and parameters: {'C': 0.08460924014026831, 'kernel': 'sigmoid', 'gamma': 'auto'}. Best is trial 43 with value: 0.5459357954037378.\n",
      "[I 2024-02-24 15:22:32,876] Trial 79 finished with value: 0.47020924617723325 and parameters: {'C': 15.592646875269537, 'kernel': 'linear', 'gamma': 'scale'}. Best is trial 43 with value: 0.5459357954037378.\n",
      "[I 2024-02-24 15:22:33,301] Trial 80 finished with value: 0.5440490029509075 and parameters: {'C': 0.711073742609546, 'kernel': 'poly', 'gamma': 'scale', 'degree': 1}. Best is trial 43 with value: 0.5459357954037378.\n",
      "[I 2024-02-24 15:22:33,709] Trial 81 finished with value: 0.5421398551372618 and parameters: {'C': 0.8964628292134403, 'kernel': 'poly', 'gamma': 'scale', 'degree': 1}. Best is trial 43 with value: 0.5459357954037378.\n",
      "[I 2024-02-24 15:22:34,138] Trial 82 finished with value: 0.5431011356523294 and parameters: {'C': 0.6520191273530229, 'kernel': 'poly', 'gamma': 'scale', 'degree': 1}. Best is trial 43 with value: 0.5459357954037378.\n",
      "[I 2024-02-24 15:22:34,636] Trial 83 finished with value: 0.44369131717785926 and parameters: {'C': 0.1978114966062945, 'kernel': 'poly', 'gamma': 'scale', 'degree': 3}. Best is trial 43 with value: 0.5459357954037378.\n",
      "[I 2024-02-24 15:22:35,073] Trial 84 finished with value: 0.5383707413037646 and parameters: {'C': 0.557726303171182, 'kernel': 'poly', 'gamma': 'scale', 'degree': 1}. Best is trial 43 with value: 0.5459357954037378.\n",
      "[I 2024-02-24 15:22:35,579] Trial 85 finished with value: 0.5232227488151658 and parameters: {'C': 2.988764946775258, 'kernel': 'poly', 'gamma': 'scale', 'degree': 3}. Best is trial 43 with value: 0.5459357954037378.\n",
      "[I 2024-02-24 15:22:36,062] Trial 86 finished with value: 0.519431279620853 and parameters: {'C': 0.4322847775280805, 'kernel': 'poly', 'gamma': 'scale', 'degree': 5}. Best is trial 43 with value: 0.5459357954037378.\n",
      "[I 2024-02-24 15:22:36,560] Trial 87 finished with value: 0.5014396852365197 and parameters: {'C': 6.843422616226855, 'kernel': 'poly', 'gamma': 'scale', 'degree': 2}. Best is trial 43 with value: 0.5459357954037378.\n",
      "[I 2024-02-24 15:22:37,078] Trial 88 finished with value: 0.21570240543682373 and parameters: {'C': 0.012122349937956727, 'kernel': 'poly', 'gamma': 'scale', 'degree': 6}. Best is trial 43 with value: 0.5459357954037378.\n",
      "[I 2024-02-24 15:22:37,548] Trial 89 finished with value: 0.21570240543682373 and parameters: {'C': 0.11950824827629233, 'kernel': 'poly', 'gamma': 'auto', 'degree': 2}. Best is trial 43 with value: 0.5459357954037378.\n",
      "[I 2024-02-24 15:22:38,028] Trial 90 finished with value: 0.5392962532415273 and parameters: {'C': 0.6683908109340915, 'kernel': 'poly', 'gamma': 'scale', 'degree': 5}. Best is trial 43 with value: 0.5459357954037378.\n",
      "[I 2024-02-24 15:22:38,410] Trial 91 finished with value: 0.5336314048108737 and parameters: {'C': 1.4834634070191286, 'kernel': 'poly', 'gamma': 'scale', 'degree': 1}. Best is trial 43 with value: 0.5459357954037378.\n",
      "[I 2024-02-24 15:22:38,818] Trial 92 finished with value: 0.540266475900921 and parameters: {'C': 0.8055984278138975, 'kernel': 'poly', 'gamma': 'scale', 'degree': 2}. Best is trial 43 with value: 0.5459357954037378.\n",
      "[I 2024-02-24 15:22:39,300] Trial 93 finished with value: 0.4597961191093624 and parameters: {'C': 0.28599700246719006, 'kernel': 'poly', 'gamma': 'scale', 'degree': 1}. Best is trial 43 with value: 0.5459357954037378.\n",
      "[I 2024-02-24 15:22:39,692] Trial 94 finished with value: 0.5222614683000983 and parameters: {'C': 2.7146086036731907, 'kernel': 'poly', 'gamma': 'scale', 'degree': 2}. Best is trial 43 with value: 0.5459357954037378.\n",
      "[I 2024-02-24 15:22:40,136] Trial 95 finished with value: 0.5449879281051596 and parameters: {'C': 1.003831959485295, 'kernel': 'sigmoid', 'gamma': 'scale'}. Best is trial 43 with value: 0.5459357954037378.\n",
      "[I 2024-02-24 15:22:40,492] Trial 96 finished with value: 0.5099704909237235 and parameters: {'C': 5.500791921280731, 'kernel': 'sigmoid', 'gamma': 'scale'}. Best is trial 43 with value: 0.5459357954037378.\n",
      "[I 2024-02-24 15:22:40,835] Trial 97 finished with value: 0.4967227041044442 and parameters: {'C': 11.772657150834235, 'kernel': 'sigmoid', 'gamma': 'scale'}. Best is trial 43 with value: 0.5459357954037378.\n",
      "[I 2024-02-24 15:22:41,353] Trial 98 finished with value: 0.21665027273540197 and parameters: {'C': 0.16566131148520663, 'kernel': 'sigmoid', 'gamma': 'scale'}. Best is trial 43 with value: 0.5459357954037378.\n",
      "[I 2024-02-24 15:22:41,709] Trial 99 finished with value: 0.4531834033801306 and parameters: {'C': 32.66110696578537, 'kernel': 'sigmoid', 'gamma': 'scale'}. Best is trial 43 with value: 0.5459357954037378.\n"
     ]
    },
    {
     "name": "stdout",
     "output_type": "stream",
     "text": [
      "Best trial: {'C': 0.751796233971926, 'kernel': 'linear', 'gamma': 'scale'}\n"
     ]
    }
   ],
   "source": [
    "def objective(trial):\n",
    "    # Hyperparameters to tune\n",
    "    C = trial.suggest_float('C', 1e-5, 1e5, log=True)\n",
    "    kernel = trial.suggest_categorical('kernel', ['linear', 'poly', 'rbf', 'sigmoid'])\n",
    "    gamma = trial.suggest_categorical('gamma', ['scale', 'auto'])\n",
    "\n",
    "    # If kernel is 'poly', we also tune degree\n",
    "    if kernel == 'poly':\n",
    "        degree = trial.suggest_int('degree', 1, 10)\n",
    "\n",
    "    # Create and train the SVM model\n",
    "    if kernel == 'poly':\n",
    "        model = SVC(C=C, kernel=kernel, degree=degree, gamma=gamma, random_state=22)\n",
    "    else:\n",
    "        model = SVC(C=C, kernel=kernel, gamma=gamma, random_state=22)\n",
    "\n",
    "    score = cross_val_score(model, X, y, scoring='accuracy')\n",
    "    return score.mean()\n",
    "\n",
    "\n",
    "# Create a study object and specify the optimization direction\n",
    "study = optuna.create_study(direction='maximize')\n",
    "study.optimize(objective, n_trials=100)  # You can adjust the number of trials\n",
    "\n",
    "# Output the best hyperparameters\n",
    "print('Best trial:', study.best_trial.params)"
   ],
   "metadata": {
    "collapsed": false,
    "ExecuteTime": {
     "end_time": "2024-02-24T13:22:41.713803300Z",
     "start_time": "2024-02-24T13:21:53.816564400Z"
    }
   },
   "id": "3352fe02bac0f7c4",
   "execution_count": 19
  },
  {
   "cell_type": "markdown",
   "source": [
    "### Multi-class SGD\n",
    "\n",
    "Let's now train a multi-class SGD model on the embeddings and the class."
   ],
   "metadata": {
    "collapsed": false
   },
   "id": "78bd39336c8fa4c1"
  },
  {
   "cell_type": "code",
   "outputs": [
    {
     "data": {
      "text/plain": "SGDClassifier(alpha=2.6545371602330262e-06, eta0=0.007698135990041223,\n              learning_rate='adaptive', loss='squared_hinge', n_jobs=-1,\n              random_state=42)",
      "text/html": "<style>#sk-container-id-7 {\n  /* Definition of color scheme common for light and dark mode */\n  --sklearn-color-text: black;\n  --sklearn-color-line: gray;\n  /* Definition of color scheme for unfitted estimators */\n  --sklearn-color-unfitted-level-0: #fff5e6;\n  --sklearn-color-unfitted-level-1: #f6e4d2;\n  --sklearn-color-unfitted-level-2: #ffe0b3;\n  --sklearn-color-unfitted-level-3: chocolate;\n  /* Definition of color scheme for fitted estimators */\n  --sklearn-color-fitted-level-0: #f0f8ff;\n  --sklearn-color-fitted-level-1: #d4ebff;\n  --sklearn-color-fitted-level-2: #b3dbfd;\n  --sklearn-color-fitted-level-3: cornflowerblue;\n\n  /* Specific color for light theme */\n  --sklearn-color-text-on-default-background: var(--sg-text-color, var(--theme-code-foreground, var(--jp-content-font-color1, black)));\n  --sklearn-color-background: var(--sg-background-color, var(--theme-background, var(--jp-layout-color0, white)));\n  --sklearn-color-border-box: var(--sg-text-color, var(--theme-code-foreground, var(--jp-content-font-color1, black)));\n  --sklearn-color-icon: #696969;\n\n  @media (prefers-color-scheme: dark) {\n    /* Redefinition of color scheme for dark theme */\n    --sklearn-color-text-on-default-background: var(--sg-text-color, var(--theme-code-foreground, var(--jp-content-font-color1, white)));\n    --sklearn-color-background: var(--sg-background-color, var(--theme-background, var(--jp-layout-color0, #111)));\n    --sklearn-color-border-box: var(--sg-text-color, var(--theme-code-foreground, var(--jp-content-font-color1, white)));\n    --sklearn-color-icon: #878787;\n  }\n}\n\n#sk-container-id-7 {\n  color: var(--sklearn-color-text);\n}\n\n#sk-container-id-7 pre {\n  padding: 0;\n}\n\n#sk-container-id-7 input.sk-hidden--visually {\n  border: 0;\n  clip: rect(1px 1px 1px 1px);\n  clip: rect(1px, 1px, 1px, 1px);\n  height: 1px;\n  margin: -1px;\n  overflow: hidden;\n  padding: 0;\n  position: absolute;\n  width: 1px;\n}\n\n#sk-container-id-7 div.sk-dashed-wrapped {\n  border: 1px dashed var(--sklearn-color-line);\n  margin: 0 0.4em 0.5em 0.4em;\n  box-sizing: border-box;\n  padding-bottom: 0.4em;\n  background-color: var(--sklearn-color-background);\n}\n\n#sk-container-id-7 div.sk-container {\n  /* jupyter's `normalize.less` sets `[hidden] { display: none; }`\n     but bootstrap.min.css set `[hidden] { display: none !important; }`\n     so we also need the `!important` here to be able to override the\n     default hidden behavior on the sphinx rendered scikit-learn.org.\n     See: https://github.com/scikit-learn/scikit-learn/issues/21755 */\n  display: inline-block !important;\n  position: relative;\n}\n\n#sk-container-id-7 div.sk-text-repr-fallback {\n  display: none;\n}\n\ndiv.sk-parallel-item,\ndiv.sk-serial,\ndiv.sk-item {\n  /* draw centered vertical line to link estimators */\n  background-image: linear-gradient(var(--sklearn-color-text-on-default-background), var(--sklearn-color-text-on-default-background));\n  background-size: 2px 100%;\n  background-repeat: no-repeat;\n  background-position: center center;\n}\n\n/* Parallel-specific style estimator block */\n\n#sk-container-id-7 div.sk-parallel-item::after {\n  content: \"\";\n  width: 100%;\n  border-bottom: 2px solid var(--sklearn-color-text-on-default-background);\n  flex-grow: 1;\n}\n\n#sk-container-id-7 div.sk-parallel {\n  display: flex;\n  align-items: stretch;\n  justify-content: center;\n  background-color: var(--sklearn-color-background);\n  position: relative;\n}\n\n#sk-container-id-7 div.sk-parallel-item {\n  display: flex;\n  flex-direction: column;\n}\n\n#sk-container-id-7 div.sk-parallel-item:first-child::after {\n  align-self: flex-end;\n  width: 50%;\n}\n\n#sk-container-id-7 div.sk-parallel-item:last-child::after {\n  align-self: flex-start;\n  width: 50%;\n}\n\n#sk-container-id-7 div.sk-parallel-item:only-child::after {\n  width: 0;\n}\n\n/* Serial-specific style estimator block */\n\n#sk-container-id-7 div.sk-serial {\n  display: flex;\n  flex-direction: column;\n  align-items: center;\n  background-color: var(--sklearn-color-background);\n  padding-right: 1em;\n  padding-left: 1em;\n}\n\n\n/* Toggleable style: style used for estimator/Pipeline/ColumnTransformer box that is\nclickable and can be expanded/collapsed.\n- Pipeline and ColumnTransformer use this feature and define the default style\n- Estimators will overwrite some part of the style using the `sk-estimator` class\n*/\n\n/* Pipeline and ColumnTransformer style (default) */\n\n#sk-container-id-7 div.sk-toggleable {\n  /* Default theme specific background. It is overwritten whether we have a\n  specific estimator or a Pipeline/ColumnTransformer */\n  background-color: var(--sklearn-color-background);\n}\n\n/* Toggleable label */\n#sk-container-id-7 label.sk-toggleable__label {\n  cursor: pointer;\n  display: block;\n  width: 100%;\n  margin-bottom: 0;\n  padding: 0.5em;\n  box-sizing: border-box;\n  text-align: center;\n}\n\n#sk-container-id-7 label.sk-toggleable__label-arrow:before {\n  /* Arrow on the left of the label */\n  content: \"▸\";\n  float: left;\n  margin-right: 0.25em;\n  color: var(--sklearn-color-icon);\n}\n\n#sk-container-id-7 label.sk-toggleable__label-arrow:hover:before {\n  color: var(--sklearn-color-text);\n}\n\n/* Toggleable content - dropdown */\n\n#sk-container-id-7 div.sk-toggleable__content {\n  max-height: 0;\n  max-width: 0;\n  overflow: hidden;\n  text-align: left;\n  /* unfitted */\n  background-color: var(--sklearn-color-unfitted-level-0);\n}\n\n#sk-container-id-7 div.sk-toggleable__content.fitted {\n  /* fitted */\n  background-color: var(--sklearn-color-fitted-level-0);\n}\n\n#sk-container-id-7 div.sk-toggleable__content pre {\n  margin: 0.2em;\n  border-radius: 0.25em;\n  color: var(--sklearn-color-text);\n  /* unfitted */\n  background-color: var(--sklearn-color-unfitted-level-0);\n}\n\n#sk-container-id-7 div.sk-toggleable__content.fitted pre {\n  /* unfitted */\n  background-color: var(--sklearn-color-fitted-level-0);\n}\n\n#sk-container-id-7 input.sk-toggleable__control:checked~div.sk-toggleable__content {\n  /* Expand drop-down */\n  max-height: 200px;\n  max-width: 100%;\n  overflow: auto;\n}\n\n#sk-container-id-7 input.sk-toggleable__control:checked~label.sk-toggleable__label-arrow:before {\n  content: \"▾\";\n}\n\n/* Pipeline/ColumnTransformer-specific style */\n\n#sk-container-id-7 div.sk-label input.sk-toggleable__control:checked~label.sk-toggleable__label {\n  color: var(--sklearn-color-text);\n  background-color: var(--sklearn-color-unfitted-level-2);\n}\n\n#sk-container-id-7 div.sk-label.fitted input.sk-toggleable__control:checked~label.sk-toggleable__label {\n  background-color: var(--sklearn-color-fitted-level-2);\n}\n\n/* Estimator-specific style */\n\n/* Colorize estimator box */\n#sk-container-id-7 div.sk-estimator input.sk-toggleable__control:checked~label.sk-toggleable__label {\n  /* unfitted */\n  background-color: var(--sklearn-color-unfitted-level-2);\n}\n\n#sk-container-id-7 div.sk-estimator.fitted input.sk-toggleable__control:checked~label.sk-toggleable__label {\n  /* fitted */\n  background-color: var(--sklearn-color-fitted-level-2);\n}\n\n#sk-container-id-7 div.sk-label label.sk-toggleable__label,\n#sk-container-id-7 div.sk-label label {\n  /* The background is the default theme color */\n  color: var(--sklearn-color-text-on-default-background);\n}\n\n/* On hover, darken the color of the background */\n#sk-container-id-7 div.sk-label:hover label.sk-toggleable__label {\n  color: var(--sklearn-color-text);\n  background-color: var(--sklearn-color-unfitted-level-2);\n}\n\n/* Label box, darken color on hover, fitted */\n#sk-container-id-7 div.sk-label.fitted:hover label.sk-toggleable__label.fitted {\n  color: var(--sklearn-color-text);\n  background-color: var(--sklearn-color-fitted-level-2);\n}\n\n/* Estimator label */\n\n#sk-container-id-7 div.sk-label label {\n  font-family: monospace;\n  font-weight: bold;\n  display: inline-block;\n  line-height: 1.2em;\n}\n\n#sk-container-id-7 div.sk-label-container {\n  text-align: center;\n}\n\n/* Estimator-specific */\n#sk-container-id-7 div.sk-estimator {\n  font-family: monospace;\n  border: 1px dotted var(--sklearn-color-border-box);\n  border-radius: 0.25em;\n  box-sizing: border-box;\n  margin-bottom: 0.5em;\n  /* unfitted */\n  background-color: var(--sklearn-color-unfitted-level-0);\n}\n\n#sk-container-id-7 div.sk-estimator.fitted {\n  /* fitted */\n  background-color: var(--sklearn-color-fitted-level-0);\n}\n\n/* on hover */\n#sk-container-id-7 div.sk-estimator:hover {\n  /* unfitted */\n  background-color: var(--sklearn-color-unfitted-level-2);\n}\n\n#sk-container-id-7 div.sk-estimator.fitted:hover {\n  /* fitted */\n  background-color: var(--sklearn-color-fitted-level-2);\n}\n\n/* Specification for estimator info (e.g. \"i\" and \"?\") */\n\n/* Common style for \"i\" and \"?\" */\n\n.sk-estimator-doc-link,\na:link.sk-estimator-doc-link,\na:visited.sk-estimator-doc-link {\n  float: right;\n  font-size: smaller;\n  line-height: 1em;\n  font-family: monospace;\n  background-color: var(--sklearn-color-background);\n  border-radius: 1em;\n  height: 1em;\n  width: 1em;\n  text-decoration: none !important;\n  margin-left: 1ex;\n  /* unfitted */\n  border: var(--sklearn-color-unfitted-level-1) 1pt solid;\n  color: var(--sklearn-color-unfitted-level-1);\n}\n\n.sk-estimator-doc-link.fitted,\na:link.sk-estimator-doc-link.fitted,\na:visited.sk-estimator-doc-link.fitted {\n  /* fitted */\n  border: var(--sklearn-color-fitted-level-1) 1pt solid;\n  color: var(--sklearn-color-fitted-level-1);\n}\n\n/* On hover */\ndiv.sk-estimator:hover .sk-estimator-doc-link:hover,\n.sk-estimator-doc-link:hover,\ndiv.sk-label-container:hover .sk-estimator-doc-link:hover,\n.sk-estimator-doc-link:hover {\n  /* unfitted */\n  background-color: var(--sklearn-color-unfitted-level-3);\n  color: var(--sklearn-color-background);\n  text-decoration: none;\n}\n\ndiv.sk-estimator.fitted:hover .sk-estimator-doc-link.fitted:hover,\n.sk-estimator-doc-link.fitted:hover,\ndiv.sk-label-container:hover .sk-estimator-doc-link.fitted:hover,\n.sk-estimator-doc-link.fitted:hover {\n  /* fitted */\n  background-color: var(--sklearn-color-fitted-level-3);\n  color: var(--sklearn-color-background);\n  text-decoration: none;\n}\n\n/* Span, style for the box shown on hovering the info icon */\n.sk-estimator-doc-link span {\n  display: none;\n  z-index: 9999;\n  position: relative;\n  font-weight: normal;\n  right: .2ex;\n  padding: .5ex;\n  margin: .5ex;\n  width: min-content;\n  min-width: 20ex;\n  max-width: 50ex;\n  color: var(--sklearn-color-text);\n  box-shadow: 2pt 2pt 4pt #999;\n  /* unfitted */\n  background: var(--sklearn-color-unfitted-level-0);\n  border: .5pt solid var(--sklearn-color-unfitted-level-3);\n}\n\n.sk-estimator-doc-link.fitted span {\n  /* fitted */\n  background: var(--sklearn-color-fitted-level-0);\n  border: var(--sklearn-color-fitted-level-3);\n}\n\n.sk-estimator-doc-link:hover span {\n  display: block;\n}\n\n/* \"?\"-specific style due to the `<a>` HTML tag */\n\n#sk-container-id-7 a.estimator_doc_link {\n  float: right;\n  font-size: 1rem;\n  line-height: 1em;\n  font-family: monospace;\n  background-color: var(--sklearn-color-background);\n  border-radius: 1rem;\n  height: 1rem;\n  width: 1rem;\n  text-decoration: none;\n  /* unfitted */\n  color: var(--sklearn-color-unfitted-level-1);\n  border: var(--sklearn-color-unfitted-level-1) 1pt solid;\n}\n\n#sk-container-id-7 a.estimator_doc_link.fitted {\n  /* fitted */\n  border: var(--sklearn-color-fitted-level-1) 1pt solid;\n  color: var(--sklearn-color-fitted-level-1);\n}\n\n/* On hover */\n#sk-container-id-7 a.estimator_doc_link:hover {\n  /* unfitted */\n  background-color: var(--sklearn-color-unfitted-level-3);\n  color: var(--sklearn-color-background);\n  text-decoration: none;\n}\n\n#sk-container-id-7 a.estimator_doc_link.fitted:hover {\n  /* fitted */\n  background-color: var(--sklearn-color-fitted-level-3);\n}\n</style><div id=\"sk-container-id-7\" class=\"sk-top-container\"><div class=\"sk-text-repr-fallback\"><pre>SGDClassifier(alpha=2.6545371602330262e-06, eta0=0.007698135990041223,\n              learning_rate=&#x27;adaptive&#x27;, loss=&#x27;squared_hinge&#x27;, n_jobs=-1,\n              random_state=42)</pre><b>In a Jupyter environment, please rerun this cell to show the HTML representation or trust the notebook. <br />On GitHub, the HTML representation is unable to render, please try loading this page with nbviewer.org.</b></div><div class=\"sk-container\" hidden><div class=\"sk-item\"><div class=\"sk-estimator fitted sk-toggleable\"><input class=\"sk-toggleable__control sk-hidden--visually\" id=\"sk-estimator-id-7\" type=\"checkbox\" checked><label for=\"sk-estimator-id-7\" class=\"sk-toggleable__label fitted sk-toggleable__label-arrow fitted\">&nbsp;&nbsp;SGDClassifier<a class=\"sk-estimator-doc-link fitted\" rel=\"noreferrer\" target=\"_blank\" href=\"https://scikit-learn.org/1.4/modules/generated/sklearn.linear_model.SGDClassifier.html\">?<span>Documentation for SGDClassifier</span></a><span class=\"sk-estimator-doc-link fitted\">i<span>Fitted</span></span></label><div class=\"sk-toggleable__content fitted\"><pre>SGDClassifier(alpha=2.6545371602330262e-06, eta0=0.007698135990041223,\n              learning_rate=&#x27;adaptive&#x27;, loss=&#x27;squared_hinge&#x27;, n_jobs=-1,\n              random_state=42)</pre></div> </div></div></div></div>"
     },
     "execution_count": 45,
     "metadata": {},
     "output_type": "execute_result"
    }
   ],
   "source": [
    "sgd_model = SGDClassifier(loss='squared_hinge', max_iter=1000, n_jobs=-1, random_state=42,\n",
    "                          penalty='l2', alpha=2.6545371602330262e-06,\n",
    "                          learning_rate='adaptive', eta0=0.007698135990041223)\n",
    "sgd_model.fit(X_train, y_train)"
   ],
   "metadata": {
    "collapsed": false,
    "ExecuteTime": {
     "end_time": "2024-02-24T13:37:47.218605400Z",
     "start_time": "2024-02-24T13:37:47.065594200Z"
    }
   },
   "id": "52c78921d9b40eea",
   "execution_count": 45
  },
  {
   "cell_type": "code",
   "outputs": [
    {
     "name": "stdout",
     "output_type": "stream",
     "text": [
      "              precision    recall  f1-score   support\n",
      "\n",
      "           0       0.77      0.70      0.73        43\n",
      "           1       0.73      0.71      0.72        31\n",
      "           2       0.76      0.74      0.75        34\n",
      "           3       0.67      0.69      0.68        26\n",
      "           4       0.62      0.67      0.64        27\n",
      "           5       0.72      0.76      0.74        51\n",
      "\n",
      "    accuracy                           0.72       212\n",
      "   macro avg       0.71      0.71      0.71       212\n",
      "weighted avg       0.72      0.72      0.72       212\n"
     ]
    }
   ],
   "source": [
    "# Generate classification report\n",
    "y_pred = sgd_model.predict(X_test)\n",
    "print(metrics.classification_report(y_test, y_pred))"
   ],
   "metadata": {
    "collapsed": false,
    "ExecuteTime": {
     "end_time": "2024-02-24T13:37:47.428834600Z",
     "start_time": "2024-02-24T13:37:47.419665Z"
    }
   },
   "id": "fe95d6f1c77a888d",
   "execution_count": 46
  },
  {
   "cell_type": "markdown",
   "source": [
    "Let's use the `optuna` library to find the best hyperparameters for the model based on the maximization of the accuracy."
   ],
   "metadata": {
    "collapsed": false
   },
   "id": "dc1256b67572c199"
  },
  {
   "cell_type": "code",
   "outputs": [
    {
     "name": "stderr",
     "output_type": "stream",
     "text": [
      "[I 2024-02-24 15:24:16,607] A new study created in memory with name: no-name-92fe01f2-11bc-4229-83df-456aa2fb7503\n",
      "[I 2024-02-24 15:24:17,084] Trial 0 finished with value: 0.6047337278106509 and parameters: {'loss': 'perceptron', 'penalty': 'l2', 'alpha': 5.849013687796652e-06, 'learning_rate': 'adaptive', 'eta0': 0.0013475657567535645}. Best is trial 0 with value: 0.6047337278106509.\n",
      "[I 2024-02-24 15:24:17,609] Trial 1 finished with value: 0.4958579881656805 and parameters: {'loss': 'squared_hinge', 'penalty': 'l2', 'alpha': 0.02749692429366791, 'learning_rate': 'constant', 'eta0': 0.02176202623344909}. Best is trial 0 with value: 0.6047337278106509.\n",
      "[I 2024-02-24 15:24:18,008] Trial 2 finished with value: 0.20946745562130178 and parameters: {'loss': 'log_loss', 'penalty': 'elasticnet', 'alpha': 1.997101470441552e-05, 'learning_rate': 'invscaling', 'eta0': 0.00022191668819864202}. Best is trial 0 with value: 0.6047337278106509.\n",
      "[I 2024-02-24 15:24:20,501] Trial 3 finished with value: 0.5396449704142012 and parameters: {'loss': 'log_loss', 'penalty': 'elasticnet', 'alpha': 0.0027546216060563697, 'learning_rate': 'optimal', 'eta0': 0.018066274256286548}. Best is trial 0 with value: 0.6047337278106509.\n",
      "[I 2024-02-24 15:24:21,326] Trial 4 finished with value: 0.20946745562130178 and parameters: {'loss': 'log_loss', 'penalty': 'l2', 'alpha': 0.02074583715225828, 'learning_rate': 'constant', 'eta0': 0.0003352475325948246}. Best is trial 0 with value: 0.6047337278106509.\n",
      "[I 2024-02-24 15:24:21,547] Trial 5 finished with value: 0.2201183431952663 and parameters: {'loss': 'log_loss', 'penalty': 'l2', 'alpha': 0.05143432818927347, 'learning_rate': 'optimal', 'eta0': 0.00012016007598521636}. Best is trial 0 with value: 0.6047337278106509.\n",
      "[I 2024-02-24 15:24:22,919] Trial 6 finished with value: 0.5893491124260355 and parameters: {'loss': 'squared_hinge', 'penalty': 'elasticnet', 'alpha': 3.622916129577757e-06, 'learning_rate': 'optimal', 'eta0': 5.1519238307542115e-05}. Best is trial 0 with value: 0.6047337278106509.\n",
      "[I 2024-02-24 15:24:29,176] Trial 7 finished with value: 0.6142011834319527 and parameters: {'loss': 'squared_hinge', 'penalty': 'elasticnet', 'alpha': 2.4658544456124004e-06, 'learning_rate': 'adaptive', 'eta0': 0.041784241447272046}. Best is trial 7 with value: 0.6142011834319527.\n",
      "[I 2024-02-24 15:24:38,191] Trial 8 finished with value: 0.20946745562130178 and parameters: {'loss': 'squared_hinge', 'penalty': 'l1', 'alpha': 0.01089458426470588, 'learning_rate': 'invscaling', 'eta0': 0.0003731696632510087}. Best is trial 7 with value: 0.6142011834319527.\n",
      "[I 2024-02-24 15:24:38,972] Trial 9 finished with value: 0.20946745562130178 and parameters: {'loss': 'log_loss', 'penalty': 'elasticnet', 'alpha': 2.9232576203632103e-06, 'learning_rate': 'constant', 'eta0': 0.0015070036355670194}. Best is trial 7 with value: 0.6142011834319527.\n",
      "[I 2024-02-24 15:24:43,898] Trial 10 finished with value: 0.6390532544378698 and parameters: {'loss': 'hinge', 'penalty': 'l1', 'alpha': 6.589324727664278e-05, 'learning_rate': 'adaptive', 'eta0': 0.08356603976765953}. Best is trial 10 with value: 0.6390532544378698.\n",
      "[I 2024-02-24 15:24:48,910] Trial 11 finished with value: 0.6307692307692307 and parameters: {'loss': 'hinge', 'penalty': 'l1', 'alpha': 0.00015472275939682194, 'learning_rate': 'adaptive', 'eta0': 0.07214098202895726}. Best is trial 10 with value: 0.6390532544378698.\n",
      "[I 2024-02-24 15:24:50,617] Trial 12 finished with value: 0.6307692307692307 and parameters: {'loss': 'hinge', 'penalty': 'l1', 'alpha': 0.00013082160055436523, 'learning_rate': 'adaptive', 'eta0': 0.006157260960841587}. Best is trial 10 with value: 0.6390532544378698.\n",
      "[I 2024-02-24 15:24:55,857] Trial 13 finished with value: 0.6307692307692307 and parameters: {'loss': 'hinge', 'penalty': 'l1', 'alpha': 0.00022018770025387775, 'learning_rate': 'adaptive', 'eta0': 0.08714171846882023}. Best is trial 10 with value: 0.6390532544378698.\n",
      "[I 2024-02-24 15:25:01,245] Trial 14 finished with value: 0.5207100591715975 and parameters: {'loss': 'hinge', 'penalty': 'l1', 'alpha': 4.17909630361708e-05, 'learning_rate': 'adaptive', 'eta0': 1.3261119506900109e-05}. Best is trial 10 with value: 0.6390532544378698.\n",
      "[I 2024-02-24 15:25:03,856] Trial 15 finished with value: 0.6082840236686391 and parameters: {'loss': 'hinge', 'penalty': 'l1', 'alpha': 0.0009466504317401401, 'learning_rate': 'adaptive', 'eta0': 0.006781869493491628}. Best is trial 10 with value: 0.6390532544378698.\n",
      "[I 2024-02-24 15:25:08,408] Trial 16 finished with value: 0.5644970414201185 and parameters: {'loss': 'hinge', 'penalty': 'l1', 'alpha': 0.0009254901771484319, 'learning_rate': 'adaptive', 'eta0': 0.07813984729698077}. Best is trial 10 with value: 0.6390532544378698.\n",
      "[I 2024-02-24 15:25:09,761] Trial 17 finished with value: 0.5988165680473372 and parameters: {'loss': 'perceptron', 'penalty': 'l1', 'alpha': 4.461737082127643e-05, 'learning_rate': 'adaptive', 'eta0': 0.005397831626914724}. Best is trial 10 with value: 0.6390532544378698.\n",
      "[I 2024-02-24 15:25:10,106] Trial 18 finished with value: 0.5680473372781065 and parameters: {'loss': 'hinge', 'penalty': 'l1', 'alpha': 0.0005269081311306156, 'learning_rate': 'invscaling', 'eta0': 0.01847177863689828}. Best is trial 10 with value: 0.6390532544378698.\n",
      "[I 2024-02-24 15:25:11,404] Trial 19 finished with value: 0.6319526627218934 and parameters: {'loss': 'hinge', 'penalty': 'l1', 'alpha': 1.368260880751569e-05, 'learning_rate': 'adaptive', 'eta0': 0.002339578979223399}. Best is trial 10 with value: 0.6390532544378698.\n",
      "[I 2024-02-24 15:25:12,710] Trial 20 finished with value: 0.6307692307692307 and parameters: {'loss': 'hinge', 'penalty': 'l1', 'alpha': 1.1656724363060256e-05, 'learning_rate': 'adaptive', 'eta0': 0.0023451391210514974}. Best is trial 10 with value: 0.6390532544378698.\n",
      "[I 2024-02-24 15:25:18,284] Trial 21 finished with value: 0.6402366863905326 and parameters: {'loss': 'hinge', 'penalty': 'l1', 'alpha': 9.129068390023895e-05, 'learning_rate': 'adaptive', 'eta0': 0.03833904395068281}. Best is trial 21 with value: 0.6402366863905326.\n",
      "[I 2024-02-24 15:25:23,936] Trial 22 finished with value: 0.6390532544378699 and parameters: {'loss': 'hinge', 'penalty': 'l1', 'alpha': 6.094233103368964e-05, 'learning_rate': 'adaptive', 'eta0': 0.03109242239810391}. Best is trial 21 with value: 0.6402366863905326.\n",
      "[I 2024-02-24 15:25:29,518] Trial 23 finished with value: 0.6366863905325444 and parameters: {'loss': 'hinge', 'penalty': 'l1', 'alpha': 1.0077028865768343e-06, 'learning_rate': 'adaptive', 'eta0': 0.03027255997202756}. Best is trial 21 with value: 0.6402366863905326.\n",
      "[I 2024-02-24 15:25:30,875] Trial 24 finished with value: 0.6106508875739645 and parameters: {'loss': 'perceptron', 'penalty': 'l1', 'alpha': 6.298287413893196e-05, 'learning_rate': 'adaptive', 'eta0': 0.010208342086710027}. Best is trial 21 with value: 0.6402366863905326.\n",
      "[I 2024-02-24 15:25:36,649] Trial 25 finished with value: 0.6378698224852072 and parameters: {'loss': 'hinge', 'penalty': 'l1', 'alpha': 9.333890637054054e-05, 'learning_rate': 'adaptive', 'eta0': 0.03271768553364727}. Best is trial 21 with value: 0.6402366863905326.\n",
      "[I 2024-02-24 15:25:40,416] Trial 26 finished with value: 0.6402366863905327 and parameters: {'loss': 'hinge', 'penalty': 'l1', 'alpha': 2.4517122913654277e-05, 'learning_rate': 'constant', 'eta0': 0.051398377365923134}. Best is trial 26 with value: 0.6402366863905327.\n",
      "[I 2024-02-24 15:25:40,980] Trial 27 finished with value: 0.1668639053254438 and parameters: {'loss': 'hinge', 'penalty': 'l1', 'alpha': 0.003040172537221823, 'learning_rate': 'constant', 'eta0': 0.011143504220698161}. Best is trial 26 with value: 0.6402366863905327.\n",
      "[I 2024-02-24 15:25:42,578] Trial 28 finished with value: 0.6307692307692307 and parameters: {'loss': 'hinge', 'penalty': 'l2', 'alpha': 3.368863594442148e-05, 'learning_rate': 'constant', 'eta0': 0.044670007113525256}. Best is trial 26 with value: 0.6402366863905327.\n",
      "[I 2024-02-24 15:25:42,867] Trial 29 finished with value: 0.5218934911242603 and parameters: {'loss': 'perceptron', 'penalty': 'l1', 'alpha': 6.131674963415057e-06, 'learning_rate': 'constant', 'eta0': 0.0029964481147388596}. Best is trial 26 with value: 0.6402366863905327.\n",
      "[I 2024-02-24 15:25:42,985] Trial 30 finished with value: 0.5171597633136095 and parameters: {'loss': 'perceptron', 'penalty': 'l2', 'alpha': 0.0004042595929359824, 'learning_rate': 'constant', 'eta0': 0.01331598840483221}. Best is trial 26 with value: 0.6402366863905327.\n",
      "[I 2024-02-24 15:25:48,276] Trial 31 finished with value: 0.6378698224852071 and parameters: {'loss': 'hinge', 'penalty': 'l1', 'alpha': 2.2626975368050612e-05, 'learning_rate': 'adaptive', 'eta0': 0.05078285892294987}. Best is trial 26 with value: 0.6402366863905327.\n",
      "[I 2024-02-24 15:25:48,603] Trial 32 finished with value: 0.6047337278106509 and parameters: {'loss': 'hinge', 'penalty': 'l1', 'alpha': 8.48230027257953e-05, 'learning_rate': 'invscaling', 'eta0': 0.09505167605303566}. Best is trial 26 with value: 0.6402366863905327.\n",
      "[I 2024-02-24 15:25:49,992] Trial 33 finished with value: 0.6118343195266271 and parameters: {'loss': 'hinge', 'penalty': 'l1', 'alpha': 9.162039909506961e-06, 'learning_rate': 'optimal', 'eta0': 0.026192826582771528}. Best is trial 26 with value: 0.6402366863905327.\n",
      "[I 2024-02-24 15:25:54,082] Trial 34 finished with value: 0.6343195266272189 and parameters: {'loss': 'hinge', 'penalty': 'l1', 'alpha': 0.0002365930290977371, 'learning_rate': 'constant', 'eta0': 0.05231901036370639}. Best is trial 26 with value: 0.6402366863905327.\n",
      "[I 2024-02-24 15:26:00,077] Trial 35 finished with value: 0.6402366863905326 and parameters: {'loss': 'hinge', 'penalty': 'elasticnet', 'alpha': 3.143420229730486e-05, 'learning_rate': 'adaptive', 'eta0': 0.020428283199518556}. Best is trial 26 with value: 0.6402366863905327.\n",
      "[I 2024-02-24 15:26:04,008] Trial 36 finished with value: 0.6224852071005917 and parameters: {'loss': 'squared_hinge', 'penalty': 'elasticnet', 'alpha': 2.6099381430023626e-05, 'learning_rate': 'constant', 'eta0': 0.01950741511716031}. Best is trial 26 with value: 0.6402366863905327.\n",
      "[I 2024-02-24 15:26:05,758] Trial 37 finished with value: 0.6082840236686391 and parameters: {'loss': 'log_loss', 'penalty': 'elasticnet', 'alpha': 1.961410920515086e-05, 'learning_rate': 'optimal', 'eta0': 0.0006325547775143147}. Best is trial 26 with value: 0.6402366863905327.\n",
      "[I 2024-02-24 15:26:06,717] Trial 38 finished with value: 0.527810650887574 and parameters: {'loss': 'hinge', 'penalty': 'elasticnet', 'alpha': 6.520491994011774e-06, 'learning_rate': 'invscaling', 'eta0': 0.0047027675379338624}. Best is trial 26 with value: 0.6402366863905327.\n",
      "[I 2024-02-24 15:26:11,757] Trial 39 finished with value: 0.6295857988165681 and parameters: {'loss': 'squared_hinge', 'penalty': 'elasticnet', 'alpha': 0.0008312018683092522, 'learning_rate': 'adaptive', 'eta0': 0.012902186487012749}. Best is trial 26 with value: 0.6402366863905327.\n",
      "[I 2024-02-24 15:26:12,397] Trial 40 finished with value: 0.629585798816568 and parameters: {'loss': 'log_loss', 'penalty': 'l2', 'alpha': 0.0001442648624306383, 'learning_rate': 'optimal', 'eta0': 0.023642247680951686}. Best is trial 26 with value: 0.6402366863905327.\n",
      "[I 2024-02-24 15:26:17,206] Trial 41 finished with value: 0.6355029585798817 and parameters: {'loss': 'hinge', 'penalty': 'elasticnet', 'alpha': 6.108223589075113e-05, 'learning_rate': 'adaptive', 'eta0': 0.05905816590017775}. Best is trial 26 with value: 0.6402366863905327.\n",
      "[I 2024-02-24 15:26:22,452] Trial 42 finished with value: 0.6449704142011834 and parameters: {'loss': 'hinge', 'penalty': 'elasticnet', 'alpha': 1.729800114837331e-05, 'learning_rate': 'adaptive', 'eta0': 0.033509293980144975}. Best is trial 42 with value: 0.6449704142011834.\n",
      "[I 2024-02-24 15:26:27,804] Trial 43 finished with value: 0.6461538461538462 and parameters: {'loss': 'hinge', 'penalty': 'elasticnet', 'alpha': 1.7499949023290976e-05, 'learning_rate': 'adaptive', 'eta0': 0.03319923042456373}. Best is trial 43 with value: 0.6461538461538462.\n",
      "[I 2024-02-24 15:26:31,454] Trial 44 finished with value: 0.5609467455621302 and parameters: {'loss': 'hinge', 'penalty': 'elasticnet', 'alpha': 3.7621278758057134e-06, 'learning_rate': 'adaptive', 'eta0': 0.00880784824834428}. Best is trial 43 with value: 0.6461538461538462.\n",
      "[I 2024-02-24 15:26:37,542] Trial 45 finished with value: 0.6426035502958581 and parameters: {'loss': 'hinge', 'penalty': 'elasticnet', 'alpha': 1.7440042741295888e-06, 'learning_rate': 'adaptive', 'eta0': 0.017623850473962473}. Best is trial 43 with value: 0.6461538461538462.\n",
      "[I 2024-02-24 15:26:41,304] Trial 46 finished with value: 0.6142011834319526 and parameters: {'loss': 'squared_hinge', 'penalty': 'elasticnet', 'alpha': 1.4423096221857117e-06, 'learning_rate': 'constant', 'eta0': 0.034002953946884}. Best is trial 43 with value: 0.6461538461538462.\n",
      "[I 2024-02-24 15:26:46,941] Trial 47 finished with value: 0.6142011834319527 and parameters: {'loss': 'hinge', 'penalty': 'elasticnet', 'alpha': 4.593211858817286e-06, 'learning_rate': 'adaptive', 'eta0': 0.014988404944759112}. Best is trial 43 with value: 0.6461538461538462.\n",
      "[I 2024-02-24 15:26:47,259] Trial 48 finished with value: 0.20946745562130178 and parameters: {'loss': 'log_loss', 'penalty': 'elasticnet', 'alpha': 1.9173757848567267e-06, 'learning_rate': 'invscaling', 'eta0': 7.023619819020812e-05}. Best is trial 43 with value: 0.6461538461538462.\n",
      "[I 2024-02-24 15:26:48,591] Trial 49 finished with value: 0.6153846153846153 and parameters: {'loss': 'hinge', 'penalty': 'elasticnet', 'alpha': 1.3074713151045884e-05, 'learning_rate': 'adaptive', 'eta0': 0.0010075540222191607}. Best is trial 43 with value: 0.6461538461538462.\n",
      "[I 2024-02-24 15:26:53,889] Trial 50 finished with value: 0.6390532544378699 and parameters: {'loss': 'hinge', 'penalty': 'elasticnet', 'alpha': 7.742939554346577e-06, 'learning_rate': 'adaptive', 'eta0': 0.0439092946727205}. Best is trial 43 with value: 0.6461538461538462.\n",
      "[I 2024-02-24 15:27:00,130] Trial 51 finished with value: 0.6402366863905324 and parameters: {'loss': 'hinge', 'penalty': 'elasticnet', 'alpha': 1.756650371494326e-05, 'learning_rate': 'adaptive', 'eta0': 0.01725164367434085}. Best is trial 43 with value: 0.6461538461538462.\n",
      "[I 2024-02-24 15:27:05,012] Trial 52 finished with value: 0.6272189349112426 and parameters: {'loss': 'hinge', 'penalty': 'elasticnet', 'alpha': 3.080318847179081e-05, 'learning_rate': 'adaptive', 'eta0': 0.06868712243602494}. Best is trial 43 with value: 0.6461538461538462.\n",
      "[I 2024-02-24 15:27:10,698] Trial 53 finished with value: 0.6402366863905326 and parameters: {'loss': 'hinge', 'penalty': 'elasticnet', 'alpha': 2.5139324229184716e-06, 'learning_rate': 'adaptive', 'eta0': 0.022755423722794578}. Best is trial 43 with value: 0.6461538461538462.\n",
      "[I 2024-02-24 15:27:15,950] Trial 54 finished with value: 0.6378698224852071 and parameters: {'loss': 'hinge', 'penalty': 'elasticnet', 'alpha': 4.1349372544940304e-05, 'learning_rate': 'adaptive', 'eta0': 0.0406391196291012}. Best is trial 43 with value: 0.6461538461538462.\n",
      "[I 2024-02-24 15:27:17,472] Trial 55 finished with value: 0.6307692307692309 and parameters: {'loss': 'hinge', 'penalty': 'elasticnet', 'alpha': 0.00010879128576158248, 'learning_rate': 'adaptive', 'eta0': 0.003801484093519012}. Best is trial 43 with value: 0.6461538461538462.\n",
      "[I 2024-02-24 15:27:18,999] Trial 56 finished with value: 0.6153846153846154 and parameters: {'loss': 'hinge', 'penalty': 'elasticnet', 'alpha': 0.00021438572253088046, 'learning_rate': 'optimal', 'eta0': 0.008107910827243379}. Best is trial 43 with value: 0.6461538461538462.\n",
      "[I 2024-02-24 15:27:19,253] Trial 57 finished with value: 0.6047337278106509 and parameters: {'loss': 'perceptron', 'penalty': 'l2', 'alpha': 1.0349142361786697e-05, 'learning_rate': 'adaptive', 'eta0': 1.5894750858133533e-05}. Best is trial 43 with value: 0.6461538461538462.\n",
      "[I 2024-02-24 15:27:24,160] Trial 58 finished with value: 0.6201183431952663 and parameters: {'loss': 'hinge', 'penalty': 'elasticnet', 'alpha': 1.8339055783562057e-05, 'learning_rate': 'adaptive', 'eta0': 0.09418321880152757}. Best is trial 43 with value: 0.6461538461538462.\n",
      "[I 2024-02-24 15:27:27,741] Trial 59 finished with value: 0.6366863905325444 and parameters: {'loss': 'hinge', 'penalty': 'elasticnet', 'alpha': 4.612901291256103e-05, 'learning_rate': 'constant', 'eta0': 0.06042658452201947}. Best is trial 43 with value: 0.6461538461538462.\n",
      "[I 2024-02-24 15:27:29,979] Trial 60 finished with value: 0.3266272189349112 and parameters: {'loss': 'squared_hinge', 'penalty': 'elasticnet', 'alpha': 4.222195503637995e-06, 'learning_rate': 'adaptive', 'eta0': 0.0002209500955097753}. Best is trial 43 with value: 0.6461538461538462.\n",
      "[I 2024-02-24 15:27:35,543] Trial 61 finished with value: 0.6402366863905326 and parameters: {'loss': 'hinge', 'penalty': 'elasticnet', 'alpha': 2.6175731446975987e-06, 'learning_rate': 'adaptive', 'eta0': 0.023740258123560534}. Best is trial 43 with value: 0.6461538461538462.\n",
      "[I 2024-02-24 15:27:41,233] Trial 62 finished with value: 0.6402366863905326 and parameters: {'loss': 'hinge', 'penalty': 'elasticnet', 'alpha': 1.0317760235238744e-06, 'learning_rate': 'adaptive', 'eta0': 0.02136314822286426}. Best is trial 43 with value: 0.6461538461538462.\n",
      "[I 2024-02-24 15:27:46,600] Trial 63 finished with value: 0.6331360946745562 and parameters: {'loss': 'hinge', 'penalty': 'elasticnet', 'alpha': 2.540962524625386e-06, 'learning_rate': 'adaptive', 'eta0': 0.03690411791753403}. Best is trial 43 with value: 0.6461538461538462.\n",
      "[I 2024-02-24 15:27:52,677] Trial 64 finished with value: 0.6260355029585799 and parameters: {'loss': 'hinge', 'penalty': 'elasticnet', 'alpha': 5.26171863566028e-06, 'learning_rate': 'adaptive', 'eta0': 0.01598755568285184}. Best is trial 43 with value: 0.6461538461538462.\n",
      "[I 2024-02-24 15:27:53,544] Trial 65 finished with value: 0.6390532544378699 and parameters: {'loss': 'hinge', 'penalty': 'l2', 'alpha': 0.014164119490744293, 'learning_rate': 'adaptive', 'eta0': 0.028181530778404625}. Best is trial 43 with value: 0.6461538461538462.\n",
      "[I 2024-02-24 15:27:56,284] Trial 66 finished with value: 0.18224852071005918 and parameters: {'loss': 'hinge', 'penalty': 'elasticnet', 'alpha': 0.050569739746178774, 'learning_rate': 'adaptive', 'eta0': 0.007230384154053116}. Best is trial 43 with value: 0.6461538461538462.\n",
      "[I 2024-02-24 15:28:00,535] Trial 67 finished with value: 0.6071005917159763 and parameters: {'loss': 'log_loss', 'penalty': 'elasticnet', 'alpha': 1.4364807854786401e-05, 'learning_rate': 'constant', 'eta0': 0.012313921642563681}. Best is trial 43 with value: 0.6461538461538462.\n",
      "[I 2024-02-24 15:28:00,804] Trial 68 finished with value: 0.5384615384615385 and parameters: {'loss': 'perceptron', 'penalty': 'l1', 'alpha': 1.7327964392623613e-06, 'learning_rate': 'invscaling', 'eta0': 0.07236881796373945}. Best is trial 43 with value: 0.6461538461538462.\n",
      "[I 2024-02-24 15:28:05,953] Trial 69 finished with value: 0.6366863905325444 and parameters: {'loss': 'hinge', 'penalty': 'elasticnet', 'alpha': 8.122723961897233e-05, 'learning_rate': 'adaptive', 'eta0': 0.04597295428927044}. Best is trial 43 with value: 0.6461538461538462.\n",
      "[I 2024-02-24 15:28:11,736] Trial 70 finished with value: 0.6366863905325444 and parameters: {'loss': 'hinge', 'penalty': 'l1', 'alpha': 2.881835059095232e-05, 'learning_rate': 'adaptive', 'eta0': 0.02733796761417704}. Best is trial 43 with value: 0.6461538461538462.\n",
      "[I 2024-02-24 15:28:17,485] Trial 71 finished with value: 0.6390532544378699 and parameters: {'loss': 'hinge', 'penalty': 'elasticnet', 'alpha': 3.1348685796616186e-06, 'learning_rate': 'adaptive', 'eta0': 0.02281236536068055}. Best is trial 43 with value: 0.6461538461538462.\n",
      "[I 2024-02-24 15:28:23,530] Trial 72 finished with value: 0.6378698224852071 and parameters: {'loss': 'hinge', 'penalty': 'elasticnet', 'alpha': 7.934722287542843e-06, 'learning_rate': 'adaptive', 'eta0': 0.02027568566039753}. Best is trial 43 with value: 0.6461538461538462.\n",
      "[I 2024-02-24 15:28:28,137] Trial 73 finished with value: 0.5633136094674557 and parameters: {'loss': 'hinge', 'penalty': 'elasticnet', 'alpha': 3.0181553918743127e-06, 'learning_rate': 'adaptive', 'eta0': 0.010083061150161705}. Best is trial 43 with value: 0.6461538461538462.\n",
      "[I 2024-02-24 15:28:33,871] Trial 74 finished with value: 0.6355029585798817 and parameters: {'loss': 'hinge', 'penalty': 'elasticnet', 'alpha': 1.2858028497333426e-06, 'learning_rate': 'adaptive', 'eta0': 0.031373631761620856}. Best is trial 43 with value: 0.6461538461538462.\n",
      "[I 2024-02-24 15:28:37,567] Trial 75 finished with value: 0.6355029585798817 and parameters: {'loss': 'hinge', 'penalty': 'elasticnet', 'alpha': 4.383630875530443e-05, 'learning_rate': 'constant', 'eta0': 0.05719417373653118}. Best is trial 43 with value: 0.6461538461538462.\n",
      "[I 2024-02-24 15:28:43,721] Trial 76 finished with value: 0.6331360946745562 and parameters: {'loss': 'hinge', 'penalty': 'l1', 'alpha': 1.98513114866299e-06, 'learning_rate': 'adaptive', 'eta0': 0.016537481341585433}. Best is trial 43 with value: 0.6461538461538462.\n",
      "[I 2024-02-24 15:28:44,032] Trial 77 finished with value: 0.6248520710059171 and parameters: {'loss': 'hinge', 'penalty': 'l2', 'alpha': 0.003872411961116476, 'learning_rate': 'optimal', 'eta0': 0.02706755209776727}. Best is trial 43 with value: 0.6461538461538462.\n",
      "[I 2024-02-24 15:28:49,390] Trial 78 finished with value: 0.6414201183431952 and parameters: {'loss': 'hinge', 'penalty': 'elasticnet', 'alpha': 1.1317787288624247e-05, 'learning_rate': 'adaptive', 'eta0': 0.03792404261143385}. Best is trial 43 with value: 0.6461538461538462.\n",
      "[I 2024-02-24 15:28:54,758] Trial 79 finished with value: 0.6142011834319527 and parameters: {'loss': 'squared_hinge', 'penalty': 'l1', 'alpha': 1.111629341915845e-05, 'learning_rate': 'adaptive', 'eta0': 0.042097302347849405}. Best is trial 43 with value: 0.6461538461538462.\n",
      "[I 2024-02-24 15:28:55,309] Trial 80 finished with value: 0.20946745562130178 and parameters: {'loss': 'log_loss', 'penalty': 'elasticnet', 'alpha': 2.39577120875724e-05, 'learning_rate': 'invscaling', 'eta0': 0.07867622985011734}. Best is trial 43 with value: 0.6461538461538462.\n",
      "[I 2024-02-24 15:29:00,875] Trial 81 finished with value: 0.6426035502958579 and parameters: {'loss': 'hinge', 'penalty': 'elasticnet', 'alpha': 6.0603723744988215e-06, 'learning_rate': 'adaptive', 'eta0': 0.03250384817821399}. Best is trial 43 with value: 0.6461538461538462.\n",
      "[I 2024-02-24 15:29:06,445] Trial 82 finished with value: 0.6402366863905324 and parameters: {'loss': 'hinge', 'penalty': 'elasticnet', 'alpha': 6.133728148303729e-06, 'learning_rate': 'adaptive', 'eta0': 0.03604613772705587}. Best is trial 43 with value: 0.6461538461538462.\n",
      "[I 2024-02-24 15:29:11,610] Trial 83 finished with value: 0.6319526627218934 and parameters: {'loss': 'hinge', 'penalty': 'elasticnet', 'alpha': 1.6519577301724026e-05, 'learning_rate': 'adaptive', 'eta0': 0.05230894739829345}. Best is trial 43 with value: 0.6461538461538462.\n",
      "[I 2024-02-24 15:29:17,301] Trial 84 finished with value: 0.6414201183431952 and parameters: {'loss': 'hinge', 'penalty': 'elasticnet', 'alpha': 8.152398768953956e-06, 'learning_rate': 'adaptive', 'eta0': 0.03612362602656391}. Best is trial 43 with value: 0.6461538461538462.\n",
      "[I 2024-02-24 15:29:20,829] Trial 85 finished with value: 0.621301775147929 and parameters: {'loss': 'hinge', 'penalty': 'elasticnet', 'alpha': 9.324509642630837e-06, 'learning_rate': 'constant', 'eta0': 0.09801696771656891}. Best is trial 43 with value: 0.6461538461538462.\n",
      "[I 2024-02-24 15:29:28,705] Trial 86 finished with value: 0.6295857988165681 and parameters: {'loss': 'hinge', 'penalty': 'l1', 'alpha': 1.312578783182247e-05, 'learning_rate': 'adaptive', 'eta0': 0.06560105052700987}. Best is trial 43 with value: 0.6461538461538462.\n",
      "[I 2024-02-24 15:29:30,371] Trial 87 finished with value: 0.6082840236686391 and parameters: {'loss': 'perceptron', 'penalty': 'elasticnet', 'alpha': 3.596316541720573e-05, 'learning_rate': 'adaptive', 'eta0': 0.0380677037021714}. Best is trial 43 with value: 0.6461538461538462.\n",
      "[I 2024-02-24 15:29:32,648] Trial 88 finished with value: 0.6272189349112426 and parameters: {'loss': 'hinge', 'penalty': 'elasticnet', 'alpha': 2.4041182862169785e-05, 'learning_rate': 'adaptive', 'eta0': 0.001825738121680838}. Best is trial 43 with value: 0.6461538461538462.\n",
      "[I 2024-02-24 15:29:41,807] Trial 89 finished with value: 0.6011834319526628 and parameters: {'loss': 'hinge', 'penalty': 'l1', 'alpha': 7.268343629978522e-06, 'learning_rate': 'adaptive', 'eta0': 0.013217401165933477}. Best is trial 43 with value: 0.6461538461538462.\n",
      "[I 2024-02-24 15:29:43,561] Trial 90 finished with value: 0.5928994082840237 and parameters: {'loss': 'hinge', 'penalty': 'elasticnet', 'alpha': 4.877475500937537e-06, 'learning_rate': 'optimal', 'eta0': 0.04712126042135343}. Best is trial 43 with value: 0.6461538461538462.\n",
      "[I 2024-02-24 15:29:49,660] Trial 91 finished with value: 0.6402366863905326 and parameters: {'loss': 'hinge', 'penalty': 'elasticnet', 'alpha': 3.632998727978862e-06, 'learning_rate': 'adaptive', 'eta0': 0.03192419064252167}. Best is trial 43 with value: 0.6461538461538462.\n",
      "[I 2024-02-24 15:29:55,711] Trial 92 finished with value: 0.6378698224852071 and parameters: {'loss': 'hinge', 'penalty': 'elasticnet', 'alpha': 2.064220540824863e-05, 'learning_rate': 'adaptive', 'eta0': 0.018577702171666956}. Best is trial 43 with value: 0.6461538461538462.\n",
      "[I 2024-02-24 15:30:01,372] Trial 93 finished with value: 0.6402366863905326 and parameters: {'loss': 'hinge', 'penalty': 'elasticnet', 'alpha': 1.0087416452567715e-05, 'learning_rate': 'adaptive', 'eta0': 0.023155230359199735}. Best is trial 43 with value: 0.6461538461538462.\n",
      "[I 2024-02-24 15:30:06,537] Trial 94 finished with value: 0.6378698224852071 and parameters: {'loss': 'hinge', 'penalty': 'elasticnet', 'alpha': 4.90458921367411e-05, 'learning_rate': 'adaptive', 'eta0': 0.05462757278666812}. Best is trial 43 with value: 0.6461538461538462.\n",
      "[I 2024-02-24 15:30:11,843] Trial 95 finished with value: 0.6378698224852071 and parameters: {'loss': 'hinge', 'penalty': 'elasticnet', 'alpha': 1.480110009535194e-05, 'learning_rate': 'adaptive', 'eta0': 0.03515945949812483}. Best is trial 43 with value: 0.6461538461538462.\n",
      "[I 2024-02-24 15:30:13,290] Trial 96 finished with value: 0.5455621301775148 and parameters: {'loss': 'hinge', 'penalty': 'l2', 'alpha': 5.21180559585955e-06, 'learning_rate': 'constant', 'eta0': 0.009875472269278235}. Best is trial 43 with value: 0.6461538461538462.\n",
      "[I 2024-02-24 15:30:18,860] Trial 97 finished with value: 0.6378698224852071 and parameters: {'loss': 'hinge', 'penalty': 'elasticnet', 'alpha': 2.1270292862131553e-06, 'learning_rate': 'adaptive', 'eta0': 0.026803505699946262}. Best is trial 43 with value: 0.6461538461538462.\n",
      "[I 2024-02-24 15:30:24,199] Trial 98 finished with value: 0.6272189349112426 and parameters: {'loss': 'squared_hinge', 'penalty': 'elasticnet', 'alpha': 6.688330585800623e-05, 'learning_rate': 'adaptive', 'eta0': 0.015511386799331539}. Best is trial 43 with value: 0.6461538461538462.\n",
      "[I 2024-02-24 15:30:29,355] Trial 99 finished with value: 0.6236686390532544 and parameters: {'loss': 'hinge', 'penalty': 'l1', 'alpha': 8.205474790778455e-06, 'learning_rate': 'adaptive', 'eta0': 0.07998705012365065}. Best is trial 43 with value: 0.6461538461538462.\n"
     ]
    },
    {
     "name": "stdout",
     "output_type": "stream",
     "text": [
      "Best trial: {'loss': 'hinge', 'penalty': 'elasticnet', 'alpha': 1.7499949023290976e-05, 'learning_rate': 'adaptive', 'eta0': 0.03319923042456373}\n"
     ]
    }
   ],
   "source": [
    "def objective(trial):\n",
    "    # Hyperparameters to tune\n",
    "    loss = trial.suggest_categorical('loss', ['hinge', 'log_loss', 'squared_hinge', 'perceptron'])\n",
    "    penalty = trial.suggest_categorical('penalty', ['l2', 'l1', 'elasticnet'])\n",
    "    alpha = trial.suggest_float('alpha', 1e-6, 1e-1, log=True)\n",
    "    learning_rate = trial.suggest_categorical('learning_rate', ['constant', 'optimal', 'invscaling', 'adaptive'])\n",
    "    eta0 = trial.suggest_float('eta0', 1e-5, 1e-1, log=True)  # Only relevant for certain learning rates\n",
    "\n",
    "    # Create and train the SGD Classifier\n",
    "    model = SGDClassifier(loss=loss, penalty=penalty, alpha=alpha, learning_rate=learning_rate, eta0=eta0,\n",
    "                          random_state=42)\n",
    "    model.fit(X_train, y_train)\n",
    "\n",
    "    # Perform cross-validation and return the mean score\n",
    "    scores = cross_val_score(model, X_train, y_train, cv=5)  # cv=5 for 5-fold cross-validation\n",
    "    return scores.mean()\n",
    "\n",
    "\n",
    "# Create a study object and specify the optimization direction\n",
    "study = optuna.create_study(direction='maximize')\n",
    "study.optimize(objective, n_trials=100)  # Adjust the number of trials as needed\n",
    "\n",
    "# Best hyperparameters\n",
    "print('Best trial:', study.best_trial.params)"
   ],
   "metadata": {
    "collapsed": false,
    "ExecuteTime": {
     "end_time": "2024-02-24T13:30:29.359516Z",
     "start_time": "2024-02-24T13:24:16.607724900Z"
    }
   },
   "id": "4477cdb859019617",
   "execution_count": 26
  },
  {
   "cell_type": "markdown",
   "source": [
    "We notice that the SGD model gave the best accuracy of 0.72, which is the highest among the models we have tried so far.\n",
    "\n",
    "So, we will get the best hyperparameters for the model and use them to train the model again, for later use."
   ],
   "metadata": {
    "collapsed": false
   },
   "id": "68f9ee6d9062ffe6"
  },
  {
   "cell_type": "code",
   "outputs": [
    {
     "data": {
      "text/plain": "SGDClassifier(alpha=1.7499949023290976e-05, eta0=0.03319923042456373,\n              learning_rate='adaptive', penalty='elasticnet', random_state=42)",
      "text/html": "<style>#sk-container-id-12 {\n  /* Definition of color scheme common for light and dark mode */\n  --sklearn-color-text: black;\n  --sklearn-color-line: gray;\n  /* Definition of color scheme for unfitted estimators */\n  --sklearn-color-unfitted-level-0: #fff5e6;\n  --sklearn-color-unfitted-level-1: #f6e4d2;\n  --sklearn-color-unfitted-level-2: #ffe0b3;\n  --sklearn-color-unfitted-level-3: chocolate;\n  /* Definition of color scheme for fitted estimators */\n  --sklearn-color-fitted-level-0: #f0f8ff;\n  --sklearn-color-fitted-level-1: #d4ebff;\n  --sklearn-color-fitted-level-2: #b3dbfd;\n  --sklearn-color-fitted-level-3: cornflowerblue;\n\n  /* Specific color for light theme */\n  --sklearn-color-text-on-default-background: var(--sg-text-color, var(--theme-code-foreground, var(--jp-content-font-color1, black)));\n  --sklearn-color-background: var(--sg-background-color, var(--theme-background, var(--jp-layout-color0, white)));\n  --sklearn-color-border-box: var(--sg-text-color, var(--theme-code-foreground, var(--jp-content-font-color1, black)));\n  --sklearn-color-icon: #696969;\n\n  @media (prefers-color-scheme: dark) {\n    /* Redefinition of color scheme for dark theme */\n    --sklearn-color-text-on-default-background: var(--sg-text-color, var(--theme-code-foreground, var(--jp-content-font-color1, white)));\n    --sklearn-color-background: var(--sg-background-color, var(--theme-background, var(--jp-layout-color0, #111)));\n    --sklearn-color-border-box: var(--sg-text-color, var(--theme-code-foreground, var(--jp-content-font-color1, white)));\n    --sklearn-color-icon: #878787;\n  }\n}\n\n#sk-container-id-12 {\n  color: var(--sklearn-color-text);\n}\n\n#sk-container-id-12 pre {\n  padding: 0;\n}\n\n#sk-container-id-12 input.sk-hidden--visually {\n  border: 0;\n  clip: rect(1px 1px 1px 1px);\n  clip: rect(1px, 1px, 1px, 1px);\n  height: 1px;\n  margin: -1px;\n  overflow: hidden;\n  padding: 0;\n  position: absolute;\n  width: 1px;\n}\n\n#sk-container-id-12 div.sk-dashed-wrapped {\n  border: 1px dashed var(--sklearn-color-line);\n  margin: 0 0.4em 0.5em 0.4em;\n  box-sizing: border-box;\n  padding-bottom: 0.4em;\n  background-color: var(--sklearn-color-background);\n}\n\n#sk-container-id-12 div.sk-container {\n  /* jupyter's `normalize.less` sets `[hidden] { display: none; }`\n     but bootstrap.min.css set `[hidden] { display: none !important; }`\n     so we also need the `!important` here to be able to override the\n     default hidden behavior on the sphinx rendered scikit-learn.org.\n     See: https://github.com/scikit-learn/scikit-learn/issues/21755 */\n  display: inline-block !important;\n  position: relative;\n}\n\n#sk-container-id-12 div.sk-text-repr-fallback {\n  display: none;\n}\n\ndiv.sk-parallel-item,\ndiv.sk-serial,\ndiv.sk-item {\n  /* draw centered vertical line to link estimators */\n  background-image: linear-gradient(var(--sklearn-color-text-on-default-background), var(--sklearn-color-text-on-default-background));\n  background-size: 2px 100%;\n  background-repeat: no-repeat;\n  background-position: center center;\n}\n\n/* Parallel-specific style estimator block */\n\n#sk-container-id-12 div.sk-parallel-item::after {\n  content: \"\";\n  width: 100%;\n  border-bottom: 2px solid var(--sklearn-color-text-on-default-background);\n  flex-grow: 1;\n}\n\n#sk-container-id-12 div.sk-parallel {\n  display: flex;\n  align-items: stretch;\n  justify-content: center;\n  background-color: var(--sklearn-color-background);\n  position: relative;\n}\n\n#sk-container-id-12 div.sk-parallel-item {\n  display: flex;\n  flex-direction: column;\n}\n\n#sk-container-id-12 div.sk-parallel-item:first-child::after {\n  align-self: flex-end;\n  width: 50%;\n}\n\n#sk-container-id-12 div.sk-parallel-item:last-child::after {\n  align-self: flex-start;\n  width: 50%;\n}\n\n#sk-container-id-12 div.sk-parallel-item:only-child::after {\n  width: 0;\n}\n\n/* Serial-specific style estimator block */\n\n#sk-container-id-12 div.sk-serial {\n  display: flex;\n  flex-direction: column;\n  align-items: center;\n  background-color: var(--sklearn-color-background);\n  padding-right: 1em;\n  padding-left: 1em;\n}\n\n\n/* Toggleable style: style used for estimator/Pipeline/ColumnTransformer box that is\nclickable and can be expanded/collapsed.\n- Pipeline and ColumnTransformer use this feature and define the default style\n- Estimators will overwrite some part of the style using the `sk-estimator` class\n*/\n\n/* Pipeline and ColumnTransformer style (default) */\n\n#sk-container-id-12 div.sk-toggleable {\n  /* Default theme specific background. It is overwritten whether we have a\n  specific estimator or a Pipeline/ColumnTransformer */\n  background-color: var(--sklearn-color-background);\n}\n\n/* Toggleable label */\n#sk-container-id-12 label.sk-toggleable__label {\n  cursor: pointer;\n  display: block;\n  width: 100%;\n  margin-bottom: 0;\n  padding: 0.5em;\n  box-sizing: border-box;\n  text-align: center;\n}\n\n#sk-container-id-12 label.sk-toggleable__label-arrow:before {\n  /* Arrow on the left of the label */\n  content: \"▸\";\n  float: left;\n  margin-right: 0.25em;\n  color: var(--sklearn-color-icon);\n}\n\n#sk-container-id-12 label.sk-toggleable__label-arrow:hover:before {\n  color: var(--sklearn-color-text);\n}\n\n/* Toggleable content - dropdown */\n\n#sk-container-id-12 div.sk-toggleable__content {\n  max-height: 0;\n  max-width: 0;\n  overflow: hidden;\n  text-align: left;\n  /* unfitted */\n  background-color: var(--sklearn-color-unfitted-level-0);\n}\n\n#sk-container-id-12 div.sk-toggleable__content.fitted {\n  /* fitted */\n  background-color: var(--sklearn-color-fitted-level-0);\n}\n\n#sk-container-id-12 div.sk-toggleable__content pre {\n  margin: 0.2em;\n  border-radius: 0.25em;\n  color: var(--sklearn-color-text);\n  /* unfitted */\n  background-color: var(--sklearn-color-unfitted-level-0);\n}\n\n#sk-container-id-12 div.sk-toggleable__content.fitted pre {\n  /* unfitted */\n  background-color: var(--sklearn-color-fitted-level-0);\n}\n\n#sk-container-id-12 input.sk-toggleable__control:checked~div.sk-toggleable__content {\n  /* Expand drop-down */\n  max-height: 200px;\n  max-width: 100%;\n  overflow: auto;\n}\n\n#sk-container-id-12 input.sk-toggleable__control:checked~label.sk-toggleable__label-arrow:before {\n  content: \"▾\";\n}\n\n/* Pipeline/ColumnTransformer-specific style */\n\n#sk-container-id-12 div.sk-label input.sk-toggleable__control:checked~label.sk-toggleable__label {\n  color: var(--sklearn-color-text);\n  background-color: var(--sklearn-color-unfitted-level-2);\n}\n\n#sk-container-id-12 div.sk-label.fitted input.sk-toggleable__control:checked~label.sk-toggleable__label {\n  background-color: var(--sklearn-color-fitted-level-2);\n}\n\n/* Estimator-specific style */\n\n/* Colorize estimator box */\n#sk-container-id-12 div.sk-estimator input.sk-toggleable__control:checked~label.sk-toggleable__label {\n  /* unfitted */\n  background-color: var(--sklearn-color-unfitted-level-2);\n}\n\n#sk-container-id-12 div.sk-estimator.fitted input.sk-toggleable__control:checked~label.sk-toggleable__label {\n  /* fitted */\n  background-color: var(--sklearn-color-fitted-level-2);\n}\n\n#sk-container-id-12 div.sk-label label.sk-toggleable__label,\n#sk-container-id-12 div.sk-label label {\n  /* The background is the default theme color */\n  color: var(--sklearn-color-text-on-default-background);\n}\n\n/* On hover, darken the color of the background */\n#sk-container-id-12 div.sk-label:hover label.sk-toggleable__label {\n  color: var(--sklearn-color-text);\n  background-color: var(--sklearn-color-unfitted-level-2);\n}\n\n/* Label box, darken color on hover, fitted */\n#sk-container-id-12 div.sk-label.fitted:hover label.sk-toggleable__label.fitted {\n  color: var(--sklearn-color-text);\n  background-color: var(--sklearn-color-fitted-level-2);\n}\n\n/* Estimator label */\n\n#sk-container-id-12 div.sk-label label {\n  font-family: monospace;\n  font-weight: bold;\n  display: inline-block;\n  line-height: 1.2em;\n}\n\n#sk-container-id-12 div.sk-label-container {\n  text-align: center;\n}\n\n/* Estimator-specific */\n#sk-container-id-12 div.sk-estimator {\n  font-family: monospace;\n  border: 1px dotted var(--sklearn-color-border-box);\n  border-radius: 0.25em;\n  box-sizing: border-box;\n  margin-bottom: 0.5em;\n  /* unfitted */\n  background-color: var(--sklearn-color-unfitted-level-0);\n}\n\n#sk-container-id-12 div.sk-estimator.fitted {\n  /* fitted */\n  background-color: var(--sklearn-color-fitted-level-0);\n}\n\n/* on hover */\n#sk-container-id-12 div.sk-estimator:hover {\n  /* unfitted */\n  background-color: var(--sklearn-color-unfitted-level-2);\n}\n\n#sk-container-id-12 div.sk-estimator.fitted:hover {\n  /* fitted */\n  background-color: var(--sklearn-color-fitted-level-2);\n}\n\n/* Specification for estimator info (e.g. \"i\" and \"?\") */\n\n/* Common style for \"i\" and \"?\" */\n\n.sk-estimator-doc-link,\na:link.sk-estimator-doc-link,\na:visited.sk-estimator-doc-link {\n  float: right;\n  font-size: smaller;\n  line-height: 1em;\n  font-family: monospace;\n  background-color: var(--sklearn-color-background);\n  border-radius: 1em;\n  height: 1em;\n  width: 1em;\n  text-decoration: none !important;\n  margin-left: 1ex;\n  /* unfitted */\n  border: var(--sklearn-color-unfitted-level-1) 1pt solid;\n  color: var(--sklearn-color-unfitted-level-1);\n}\n\n.sk-estimator-doc-link.fitted,\na:link.sk-estimator-doc-link.fitted,\na:visited.sk-estimator-doc-link.fitted {\n  /* fitted */\n  border: var(--sklearn-color-fitted-level-1) 1pt solid;\n  color: var(--sklearn-color-fitted-level-1);\n}\n\n/* On hover */\ndiv.sk-estimator:hover .sk-estimator-doc-link:hover,\n.sk-estimator-doc-link:hover,\ndiv.sk-label-container:hover .sk-estimator-doc-link:hover,\n.sk-estimator-doc-link:hover {\n  /* unfitted */\n  background-color: var(--sklearn-color-unfitted-level-3);\n  color: var(--sklearn-color-background);\n  text-decoration: none;\n}\n\ndiv.sk-estimator.fitted:hover .sk-estimator-doc-link.fitted:hover,\n.sk-estimator-doc-link.fitted:hover,\ndiv.sk-label-container:hover .sk-estimator-doc-link.fitted:hover,\n.sk-estimator-doc-link.fitted:hover {\n  /* fitted */\n  background-color: var(--sklearn-color-fitted-level-3);\n  color: var(--sklearn-color-background);\n  text-decoration: none;\n}\n\n/* Span, style for the box shown on hovering the info icon */\n.sk-estimator-doc-link span {\n  display: none;\n  z-index: 9999;\n  position: relative;\n  font-weight: normal;\n  right: .2ex;\n  padding: .5ex;\n  margin: .5ex;\n  width: min-content;\n  min-width: 20ex;\n  max-width: 50ex;\n  color: var(--sklearn-color-text);\n  box-shadow: 2pt 2pt 4pt #999;\n  /* unfitted */\n  background: var(--sklearn-color-unfitted-level-0);\n  border: .5pt solid var(--sklearn-color-unfitted-level-3);\n}\n\n.sk-estimator-doc-link.fitted span {\n  /* fitted */\n  background: var(--sklearn-color-fitted-level-0);\n  border: var(--sklearn-color-fitted-level-3);\n}\n\n.sk-estimator-doc-link:hover span {\n  display: block;\n}\n\n/* \"?\"-specific style due to the `<a>` HTML tag */\n\n#sk-container-id-12 a.estimator_doc_link {\n  float: right;\n  font-size: 1rem;\n  line-height: 1em;\n  font-family: monospace;\n  background-color: var(--sklearn-color-background);\n  border-radius: 1rem;\n  height: 1rem;\n  width: 1rem;\n  text-decoration: none;\n  /* unfitted */\n  color: var(--sklearn-color-unfitted-level-1);\n  border: var(--sklearn-color-unfitted-level-1) 1pt solid;\n}\n\n#sk-container-id-12 a.estimator_doc_link.fitted {\n  /* fitted */\n  border: var(--sklearn-color-fitted-level-1) 1pt solid;\n  color: var(--sklearn-color-fitted-level-1);\n}\n\n/* On hover */\n#sk-container-id-12 a.estimator_doc_link:hover {\n  /* unfitted */\n  background-color: var(--sklearn-color-unfitted-level-3);\n  color: var(--sklearn-color-background);\n  text-decoration: none;\n}\n\n#sk-container-id-12 a.estimator_doc_link.fitted:hover {\n  /* fitted */\n  background-color: var(--sklearn-color-fitted-level-3);\n}\n</style><div id=\"sk-container-id-12\" class=\"sk-top-container\"><div class=\"sk-text-repr-fallback\"><pre>SGDClassifier(alpha=1.7499949023290976e-05, eta0=0.03319923042456373,\n              learning_rate=&#x27;adaptive&#x27;, penalty=&#x27;elasticnet&#x27;, random_state=42)</pre><b>In a Jupyter environment, please rerun this cell to show the HTML representation or trust the notebook. <br />On GitHub, the HTML representation is unable to render, please try loading this page with nbviewer.org.</b></div><div class=\"sk-container\" hidden><div class=\"sk-item\"><div class=\"sk-estimator fitted sk-toggleable\"><input class=\"sk-toggleable__control sk-hidden--visually\" id=\"sk-estimator-id-12\" type=\"checkbox\" checked><label for=\"sk-estimator-id-12\" class=\"sk-toggleable__label fitted sk-toggleable__label-arrow fitted\">&nbsp;&nbsp;SGDClassifier<a class=\"sk-estimator-doc-link fitted\" rel=\"noreferrer\" target=\"_blank\" href=\"https://scikit-learn.org/1.4/modules/generated/sklearn.linear_model.SGDClassifier.html\">?<span>Documentation for SGDClassifier</span></a><span class=\"sk-estimator-doc-link fitted\">i<span>Fitted</span></span></label><div class=\"sk-toggleable__content fitted\"><pre>SGDClassifier(alpha=1.7499949023290976e-05, eta0=0.03319923042456373,\n              learning_rate=&#x27;adaptive&#x27;, penalty=&#x27;elasticnet&#x27;, random_state=42)</pre></div> </div></div></div></div>"
     },
     "execution_count": 33,
     "metadata": {},
     "output_type": "execute_result"
    }
   ],
   "source": [
    "best_params = study.best_trial.params\n",
    "sgd_model = SGDClassifier(**best_params, random_state=42)\n",
    "sgd_model.fit(X_train, y_train)"
   ],
   "metadata": {
    "collapsed": false,
    "ExecuteTime": {
     "end_time": "2024-02-24T13:31:30.169150200Z",
     "start_time": "2024-02-24T13:31:28.113148500Z"
    }
   },
   "id": "114f2bb29b45ae2d",
   "execution_count": 33
  },
  {
   "cell_type": "markdown",
   "source": [
    "### Multi-class Naive Bayes\n",
    "\n",
    "It is known that Naive Bayes is a simple and effective algorithm for classification for NLP tasks. \n",
    "Let's now train a multi-class Naive Bayes model on the embeddings and the class, to see how it performs."
   ],
   "metadata": {
    "collapsed": false
   },
   "id": "5fab4ff2e2e09606"
  },
  {
   "cell_type": "code",
   "outputs": [
    {
     "name": "stdout",
     "output_type": "stream",
     "text": [
      "              precision    recall  f1-score   support\n",
      "\n",
      "           0       0.71      0.63      0.67        43\n",
      "           1       0.64      0.68      0.66        31\n",
      "           2       0.71      0.71      0.71        34\n",
      "           3       0.65      0.77      0.70        26\n",
      "           4       0.48      0.48      0.48        27\n",
      "           5       0.67      0.65      0.66        51\n",
      "\n",
      "    accuracy                           0.65       212\n",
      "   macro avg       0.64      0.65      0.65       212\n",
      "weighted avg       0.65      0.65      0.65       212\n"
     ]
    }
   ],
   "source": [
    "model = GaussianNB()\n",
    "model.fit(X_train, y_train)\n",
    "\n",
    "# Generate classification report\n",
    "y_pred = model.predict(X_test)\n",
    "print(metrics.classification_report(y_test, y_pred))"
   ],
   "metadata": {
    "collapsed": false,
    "ExecuteTime": {
     "end_time": "2024-02-24T13:32:25.746345800Z",
     "start_time": "2024-02-24T13:32:25.733285500Z"
    }
   },
   "id": "fa13a14098b3636c",
   "execution_count": 17
  },
  {
   "cell_type": "markdown",
   "source": [
    "We can see that the Naive Bayes model has an accuracy of 0.65, which does not differ much from the logistic regression model.\n",
    "So there is no need to use `optuna` to find the best hyperparameters for the model."
   ],
   "metadata": {
    "collapsed": false
   },
   "id": "e859bc93b6dcd506"
  },
  {
   "cell_type": "markdown",
   "source": [
    "### Multi-class Random Forest\n",
    "\n",
    "Let's now train a multi-class Random Forest model on the embeddings and the class."
   ],
   "metadata": {
    "collapsed": false
   },
   "id": "8c9e62a3e6912a48"
  },
  {
   "cell_type": "code",
   "outputs": [
    {
     "name": "stdout",
     "output_type": "stream",
     "text": [
      "              precision    recall  f1-score   support\n",
      "\n",
      "           0       0.57      0.65      0.61        43\n",
      "           1       0.86      0.61      0.72        31\n",
      "           2       0.90      0.56      0.69        34\n",
      "           3       0.71      0.65      0.68        26\n",
      "           4       0.55      0.67      0.60        27\n",
      "           5       0.59      0.73      0.65        51\n",
      "\n",
      "    accuracy                           0.65       212\n",
      "   macro avg       0.70      0.64      0.66       212\n",
      "weighted avg       0.68      0.65      0.66       212\n"
     ]
    }
   ],
   "source": [
    "model = RandomForestClassifier(n_estimators=1000, n_jobs=-1, random_state=15,\n",
    "                               max_depth=100, min_samples_split=2, min_samples_leaf=1, max_features='sqrt')\n",
    "model.fit(X_train, y_train)\n",
    "\n",
    "# Generate classification report\n",
    "y_pred = model.predict(X_test)\n",
    "print(metrics.classification_report(y_test, y_pred))"
   ],
   "metadata": {
    "collapsed": false,
    "ExecuteTime": {
     "end_time": "2024-02-24T13:32:40.117971900Z",
     "start_time": "2024-02-24T13:32:36.844346100Z"
    }
   },
   "id": "a8fc25a6a41a309b",
   "execution_count": 18
  },
  {
   "cell_type": "markdown",
   "source": [
    "### Multi-class CatBoost\n",
    "\n",
    "Having tried the above models, let us now proceed to more advanced models such as CatBoost, \n",
    "which is a gradient boosting library that is known to perform well on tabular data, to see how it performs \n",
    "and if it can outperform the other models."
   ],
   "metadata": {
    "collapsed": false
   },
   "id": "28cda8d8bf460600"
  },
  {
   "cell_type": "code",
   "outputs": [
    {
     "name": "stdout",
     "output_type": "stream",
     "text": [
      "Learning rate set to 0.134538\n",
      "0:\tlearn: 1.7254025\ttotal: 26.8ms\tremaining: 10.7s\n",
      "1:\tlearn: 1.6695749\ttotal: 51.8ms\tremaining: 10.3s\n",
      "2:\tlearn: 1.6175593\ttotal: 76ms\tremaining: 10.1s\n",
      "3:\tlearn: 1.5654316\ttotal: 98.7ms\tremaining: 9.77s\n",
      "4:\tlearn: 1.5203243\ttotal: 123ms\tremaining: 9.69s\n",
      "5:\tlearn: 1.4711252\ttotal: 147ms\tremaining: 9.65s\n",
      "6:\tlearn: 1.4305325\ttotal: 172ms\tremaining: 9.68s\n",
      "7:\tlearn: 1.3919494\ttotal: 197ms\tremaining: 9.66s\n",
      "8:\tlearn: 1.3552363\ttotal: 221ms\tremaining: 9.62s\n",
      "9:\tlearn: 1.3184468\ttotal: 245ms\tremaining: 9.55s\n",
      "10:\tlearn: 1.2855703\ttotal: 267ms\tremaining: 9.43s\n",
      "11:\tlearn: 1.2561113\ttotal: 289ms\tremaining: 9.34s\n",
      "12:\tlearn: 1.2270124\ttotal: 310ms\tremaining: 9.22s\n",
      "13:\tlearn: 1.1986041\ttotal: 331ms\tremaining: 9.13s\n",
      "14:\tlearn: 1.1696553\ttotal: 352ms\tremaining: 9.04s\n",
      "15:\tlearn: 1.1413859\ttotal: 374ms\tremaining: 8.98s\n",
      "16:\tlearn: 1.1152895\ttotal: 395ms\tremaining: 8.91s\n",
      "17:\tlearn: 1.0871917\ttotal: 417ms\tremaining: 8.86s\n",
      "18:\tlearn: 1.0641851\ttotal: 438ms\tremaining: 8.79s\n",
      "19:\tlearn: 1.0398989\ttotal: 460ms\tremaining: 8.74s\n",
      "20:\tlearn: 1.0156924\ttotal: 482ms\tremaining: 8.7s\n",
      "21:\tlearn: 0.9948616\ttotal: 503ms\tremaining: 8.65s\n",
      "22:\tlearn: 0.9726854\ttotal: 525ms\tremaining: 8.6s\n",
      "23:\tlearn: 0.9536191\ttotal: 545ms\tremaining: 8.54s\n",
      "24:\tlearn: 0.9316483\ttotal: 566ms\tremaining: 8.49s\n",
      "25:\tlearn: 0.9129895\ttotal: 587ms\tremaining: 8.45s\n",
      "26:\tlearn: 0.8971149\ttotal: 609ms\tremaining: 8.41s\n",
      "27:\tlearn: 0.8806011\ttotal: 629ms\tremaining: 8.36s\n",
      "28:\tlearn: 0.8645505\ttotal: 650ms\tremaining: 8.31s\n",
      "29:\tlearn: 0.8487692\ttotal: 671ms\tremaining: 8.27s\n",
      "30:\tlearn: 0.8300379\ttotal: 692ms\tremaining: 8.24s\n",
      "31:\tlearn: 0.8133141\ttotal: 714ms\tremaining: 8.21s\n",
      "32:\tlearn: 0.7992926\ttotal: 734ms\tremaining: 8.16s\n",
      "33:\tlearn: 0.7830541\ttotal: 755ms\tremaining: 8.13s\n",
      "34:\tlearn: 0.7664586\ttotal: 776ms\tremaining: 8.09s\n",
      "35:\tlearn: 0.7521716\ttotal: 796ms\tremaining: 8.05s\n",
      "36:\tlearn: 0.7375230\ttotal: 816ms\tremaining: 8.01s\n",
      "37:\tlearn: 0.7250831\ttotal: 836ms\tremaining: 7.96s\n",
      "38:\tlearn: 0.7111226\ttotal: 855ms\tremaining: 7.91s\n",
      "39:\tlearn: 0.6979888\ttotal: 876ms\tremaining: 7.88s\n",
      "40:\tlearn: 0.6836488\ttotal: 896ms\tremaining: 7.84s\n",
      "41:\tlearn: 0.6741129\ttotal: 917ms\tremaining: 7.81s\n",
      "42:\tlearn: 0.6623060\ttotal: 937ms\tremaining: 7.78s\n",
      "43:\tlearn: 0.6509261\ttotal: 956ms\tremaining: 7.74s\n",
      "44:\tlearn: 0.6388545\ttotal: 977ms\tremaining: 7.71s\n",
      "45:\tlearn: 0.6299115\ttotal: 998ms\tremaining: 7.68s\n",
      "46:\tlearn: 0.6196012\ttotal: 1.02s\tremaining: 7.64s\n",
      "47:\tlearn: 0.6076836\ttotal: 1.04s\tremaining: 7.62s\n",
      "48:\tlearn: 0.5962132\ttotal: 1.06s\tremaining: 7.58s\n",
      "49:\tlearn: 0.5865849\ttotal: 1.08s\tremaining: 7.56s\n",
      "50:\tlearn: 0.5775476\ttotal: 1.1s\tremaining: 7.52s\n",
      "51:\tlearn: 0.5676391\ttotal: 1.12s\tremaining: 7.49s\n",
      "52:\tlearn: 0.5593348\ttotal: 1.14s\tremaining: 7.46s\n",
      "53:\tlearn: 0.5495879\ttotal: 1.16s\tremaining: 7.44s\n",
      "54:\tlearn: 0.5405557\ttotal: 1.18s\tremaining: 7.4s\n",
      "55:\tlearn: 0.5314888\ttotal: 1.2s\tremaining: 7.37s\n",
      "56:\tlearn: 0.5242776\ttotal: 1.22s\tremaining: 7.34s\n",
      "57:\tlearn: 0.5157721\ttotal: 1.24s\tremaining: 7.32s\n",
      "58:\tlearn: 0.5075079\ttotal: 1.26s\tremaining: 7.3s\n",
      "59:\tlearn: 0.4993940\ttotal: 1.28s\tremaining: 7.27s\n",
      "60:\tlearn: 0.4916620\ttotal: 1.3s\tremaining: 7.25s\n",
      "61:\tlearn: 0.4846284\ttotal: 1.32s\tremaining: 7.22s\n",
      "62:\tlearn: 0.4762148\ttotal: 1.34s\tremaining: 7.2s\n",
      "63:\tlearn: 0.4691315\ttotal: 1.37s\tremaining: 7.17s\n",
      "64:\tlearn: 0.4607116\ttotal: 1.39s\tremaining: 7.15s\n",
      "65:\tlearn: 0.4554044\ttotal: 1.41s\tremaining: 7.12s\n",
      "66:\tlearn: 0.4496414\ttotal: 1.43s\tremaining: 7.08s\n",
      "67:\tlearn: 0.4431803\ttotal: 1.44s\tremaining: 7.05s\n",
      "68:\tlearn: 0.4369143\ttotal: 1.47s\tremaining: 7.03s\n",
      "69:\tlearn: 0.4324129\ttotal: 1.48s\tremaining: 6.99s\n",
      "70:\tlearn: 0.4276288\ttotal: 1.5s\tremaining: 6.95s\n",
      "71:\tlearn: 0.4227143\ttotal: 1.52s\tremaining: 6.92s\n",
      "72:\tlearn: 0.4170892\ttotal: 1.54s\tremaining: 6.89s\n",
      "73:\tlearn: 0.4118747\ttotal: 1.56s\tremaining: 6.86s\n",
      "74:\tlearn: 0.4058334\ttotal: 1.58s\tremaining: 6.83s\n",
      "75:\tlearn: 0.4014829\ttotal: 1.6s\tremaining: 6.8s\n",
      "76:\tlearn: 0.3961519\ttotal: 1.62s\tremaining: 6.78s\n",
      "77:\tlearn: 0.3919467\ttotal: 1.63s\tremaining: 6.75s\n",
      "78:\tlearn: 0.3861807\ttotal: 1.65s\tremaining: 6.72s\n",
      "79:\tlearn: 0.3808253\ttotal: 1.68s\tremaining: 6.7s\n",
      "80:\tlearn: 0.3744535\ttotal: 1.69s\tremaining: 6.67s\n",
      "81:\tlearn: 0.3696623\ttotal: 1.71s\tremaining: 6.64s\n",
      "82:\tlearn: 0.3644553\ttotal: 1.73s\tremaining: 6.62s\n",
      "83:\tlearn: 0.3601316\ttotal: 1.75s\tremaining: 6.59s\n",
      "84:\tlearn: 0.3565833\ttotal: 1.77s\tremaining: 6.56s\n",
      "85:\tlearn: 0.3524690\ttotal: 1.79s\tremaining: 6.54s\n",
      "86:\tlearn: 0.3485837\ttotal: 1.81s\tremaining: 6.51s\n",
      "87:\tlearn: 0.3442450\ttotal: 1.83s\tremaining: 6.48s\n",
      "88:\tlearn: 0.3396056\ttotal: 1.85s\tremaining: 6.46s\n",
      "89:\tlearn: 0.3355214\ttotal: 1.87s\tremaining: 6.43s\n",
      "90:\tlearn: 0.3313087\ttotal: 1.89s\tremaining: 6.41s\n",
      "91:\tlearn: 0.3266425\ttotal: 1.91s\tremaining: 6.38s\n",
      "92:\tlearn: 0.3243103\ttotal: 1.92s\tremaining: 6.35s\n",
      "93:\tlearn: 0.3205719\ttotal: 1.94s\tremaining: 6.32s\n",
      "94:\tlearn: 0.3165374\ttotal: 1.96s\tremaining: 6.3s\n",
      "95:\tlearn: 0.3123869\ttotal: 1.98s\tremaining: 6.28s\n",
      "96:\tlearn: 0.3087995\ttotal: 2s\tremaining: 6.26s\n",
      "97:\tlearn: 0.3049524\ttotal: 2.02s\tremaining: 6.24s\n",
      "98:\tlearn: 0.3012952\ttotal: 2.04s\tremaining: 6.21s\n",
      "99:\tlearn: 0.2981261\ttotal: 2.06s\tremaining: 6.18s\n",
      "100:\tlearn: 0.2947523\ttotal: 2.08s\tremaining: 6.16s\n",
      "101:\tlearn: 0.2906915\ttotal: 2.1s\tremaining: 6.14s\n",
      "102:\tlearn: 0.2874717\ttotal: 2.12s\tremaining: 6.11s\n",
      "103:\tlearn: 0.2841607\ttotal: 2.14s\tremaining: 6.09s\n",
      "104:\tlearn: 0.2805698\ttotal: 2.16s\tremaining: 6.07s\n",
      "105:\tlearn: 0.2774673\ttotal: 2.18s\tremaining: 6.04s\n",
      "106:\tlearn: 0.2742335\ttotal: 2.2s\tremaining: 6.01s\n",
      "107:\tlearn: 0.2711559\ttotal: 2.22s\tremaining: 5.99s\n",
      "108:\tlearn: 0.2687158\ttotal: 2.23s\tremaining: 5.96s\n",
      "109:\tlearn: 0.2649575\ttotal: 2.25s\tremaining: 5.94s\n",
      "110:\tlearn: 0.2617146\ttotal: 2.27s\tremaining: 5.92s\n",
      "111:\tlearn: 0.2589010\ttotal: 2.29s\tremaining: 5.89s\n",
      "112:\tlearn: 0.2565163\ttotal: 2.31s\tremaining: 5.86s\n",
      "113:\tlearn: 0.2540353\ttotal: 2.33s\tremaining: 5.83s\n",
      "114:\tlearn: 0.2518414\ttotal: 2.34s\tremaining: 5.81s\n",
      "115:\tlearn: 0.2491933\ttotal: 2.36s\tremaining: 5.79s\n",
      "116:\tlearn: 0.2466153\ttotal: 2.38s\tremaining: 5.76s\n",
      "117:\tlearn: 0.2442349\ttotal: 2.4s\tremaining: 5.74s\n",
      "118:\tlearn: 0.2421800\ttotal: 2.42s\tremaining: 5.71s\n",
      "119:\tlearn: 0.2403954\ttotal: 2.44s\tremaining: 5.69s\n",
      "120:\tlearn: 0.2372647\ttotal: 2.46s\tremaining: 5.67s\n",
      "121:\tlearn: 0.2345694\ttotal: 2.48s\tremaining: 5.64s\n",
      "122:\tlearn: 0.2325911\ttotal: 2.5s\tremaining: 5.62s\n",
      "123:\tlearn: 0.2298886\ttotal: 2.52s\tremaining: 5.6s\n",
      "124:\tlearn: 0.2284529\ttotal: 2.54s\tremaining: 5.58s\n",
      "125:\tlearn: 0.2263268\ttotal: 2.55s\tremaining: 5.55s\n",
      "126:\tlearn: 0.2245414\ttotal: 2.57s\tremaining: 5.53s\n",
      "127:\tlearn: 0.2230170\ttotal: 2.59s\tremaining: 5.5s\n",
      "128:\tlearn: 0.2208970\ttotal: 2.61s\tremaining: 5.48s\n",
      "129:\tlearn: 0.2186598\ttotal: 2.63s\tremaining: 5.45s\n",
      "130:\tlearn: 0.2173428\ttotal: 2.64s\tremaining: 5.43s\n",
      "131:\tlearn: 0.2150005\ttotal: 2.66s\tremaining: 5.41s\n",
      "132:\tlearn: 0.2133167\ttotal: 2.68s\tremaining: 5.38s\n",
      "133:\tlearn: 0.2110383\ttotal: 2.7s\tremaining: 5.36s\n",
      "134:\tlearn: 0.2099272\ttotal: 2.71s\tremaining: 5.33s\n",
      "135:\tlearn: 0.2082592\ttotal: 2.73s\tremaining: 5.31s\n",
      "136:\tlearn: 0.2066058\ttotal: 2.75s\tremaining: 5.28s\n",
      "137:\tlearn: 0.2050414\ttotal: 2.77s\tremaining: 5.26s\n",
      "138:\tlearn: 0.2030872\ttotal: 2.79s\tremaining: 5.23s\n",
      "139:\tlearn: 0.2020165\ttotal: 2.8s\tremaining: 5.21s\n",
      "140:\tlearn: 0.2001405\ttotal: 2.82s\tremaining: 5.18s\n",
      "141:\tlearn: 0.1982069\ttotal: 2.84s\tremaining: 5.16s\n",
      "142:\tlearn: 0.1967525\ttotal: 2.86s\tremaining: 5.14s\n",
      "143:\tlearn: 0.1953756\ttotal: 2.88s\tremaining: 5.11s\n",
      "144:\tlearn: 0.1940662\ttotal: 2.89s\tremaining: 5.09s\n",
      "145:\tlearn: 0.1924060\ttotal: 2.91s\tremaining: 5.07s\n",
      "146:\tlearn: 0.1908448\ttotal: 2.93s\tremaining: 5.04s\n",
      "147:\tlearn: 0.1891449\ttotal: 2.95s\tremaining: 5.02s\n",
      "148:\tlearn: 0.1876357\ttotal: 2.97s\tremaining: 5s\n",
      "149:\tlearn: 0.1860379\ttotal: 2.99s\tremaining: 4.98s\n",
      "150:\tlearn: 0.1841348\ttotal: 3.01s\tremaining: 4.96s\n",
      "151:\tlearn: 0.1826380\ttotal: 3.02s\tremaining: 4.93s\n",
      "152:\tlearn: 0.1809202\ttotal: 3.04s\tremaining: 4.91s\n",
      "153:\tlearn: 0.1798490\ttotal: 3.06s\tremaining: 4.89s\n",
      "154:\tlearn: 0.1780784\ttotal: 3.08s\tremaining: 4.87s\n",
      "155:\tlearn: 0.1765820\ttotal: 3.1s\tremaining: 4.85s\n",
      "156:\tlearn: 0.1756014\ttotal: 3.12s\tremaining: 4.83s\n",
      "157:\tlearn: 0.1740530\ttotal: 3.13s\tremaining: 4.8s\n",
      "158:\tlearn: 0.1729071\ttotal: 3.15s\tremaining: 4.78s\n",
      "159:\tlearn: 0.1712562\ttotal: 3.17s\tremaining: 4.76s\n",
      "160:\tlearn: 0.1696873\ttotal: 3.19s\tremaining: 4.73s\n",
      "161:\tlearn: 0.1682620\ttotal: 3.21s\tremaining: 4.71s\n",
      "162:\tlearn: 0.1671060\ttotal: 3.22s\tremaining: 4.69s\n",
      "163:\tlearn: 0.1659965\ttotal: 3.24s\tremaining: 4.67s\n",
      "164:\tlearn: 0.1643670\ttotal: 3.26s\tremaining: 4.65s\n",
      "165:\tlearn: 0.1626753\ttotal: 3.28s\tremaining: 4.63s\n",
      "166:\tlearn: 0.1615152\ttotal: 3.31s\tremaining: 4.61s\n",
      "167:\tlearn: 0.1602209\ttotal: 3.32s\tremaining: 4.59s\n",
      "168:\tlearn: 0.1590537\ttotal: 3.34s\tremaining: 4.57s\n",
      "169:\tlearn: 0.1575855\ttotal: 3.36s\tremaining: 4.54s\n",
      "170:\tlearn: 0.1561717\ttotal: 3.38s\tremaining: 4.52s\n",
      "171:\tlearn: 0.1549893\ttotal: 3.4s\tremaining: 4.5s\n",
      "172:\tlearn: 0.1536382\ttotal: 3.41s\tremaining: 4.48s\n",
      "173:\tlearn: 0.1525569\ttotal: 3.43s\tremaining: 4.46s\n",
      "174:\tlearn: 0.1512807\ttotal: 3.45s\tremaining: 4.43s\n",
      "175:\tlearn: 0.1501450\ttotal: 3.47s\tremaining: 4.41s\n",
      "176:\tlearn: 0.1486485\ttotal: 3.49s\tremaining: 4.39s\n",
      "177:\tlearn: 0.1478137\ttotal: 3.5s\tremaining: 4.37s\n",
      "178:\tlearn: 0.1468782\ttotal: 3.52s\tremaining: 4.35s\n",
      "179:\tlearn: 0.1456580\ttotal: 3.54s\tremaining: 4.33s\n",
      "180:\tlearn: 0.1447441\ttotal: 3.56s\tremaining: 4.31s\n",
      "181:\tlearn: 0.1437960\ttotal: 3.58s\tremaining: 4.29s\n",
      "182:\tlearn: 0.1428354\ttotal: 3.6s\tremaining: 4.26s\n",
      "183:\tlearn: 0.1417032\ttotal: 3.61s\tremaining: 4.24s\n",
      "184:\tlearn: 0.1403624\ttotal: 3.63s\tremaining: 4.22s\n",
      "185:\tlearn: 0.1392091\ttotal: 3.65s\tremaining: 4.2s\n",
      "186:\tlearn: 0.1380842\ttotal: 3.67s\tremaining: 4.18s\n",
      "187:\tlearn: 0.1369947\ttotal: 3.7s\tremaining: 4.18s\n",
      "188:\tlearn: 0.1361261\ttotal: 3.72s\tremaining: 4.16s\n",
      "189:\tlearn: 0.1348728\ttotal: 3.74s\tremaining: 4.13s\n",
      "190:\tlearn: 0.1336363\ttotal: 3.76s\tremaining: 4.11s\n",
      "191:\tlearn: 0.1327732\ttotal: 3.78s\tremaining: 4.09s\n",
      "192:\tlearn: 0.1319016\ttotal: 3.79s\tremaining: 4.07s\n",
      "193:\tlearn: 0.1309549\ttotal: 3.81s\tremaining: 4.05s\n",
      "194:\tlearn: 0.1303814\ttotal: 3.83s\tremaining: 4.02s\n",
      "195:\tlearn: 0.1295490\ttotal: 3.85s\tremaining: 4s\n",
      "196:\tlearn: 0.1285690\ttotal: 3.86s\tremaining: 3.98s\n",
      "197:\tlearn: 0.1278798\ttotal: 3.88s\tremaining: 3.96s\n",
      "198:\tlearn: 0.1273912\ttotal: 3.9s\tremaining: 3.94s\n",
      "199:\tlearn: 0.1261979\ttotal: 3.92s\tremaining: 3.92s\n",
      "200:\tlearn: 0.1252520\ttotal: 3.94s\tremaining: 3.9s\n",
      "201:\tlearn: 0.1245635\ttotal: 3.95s\tremaining: 3.87s\n",
      "202:\tlearn: 0.1236760\ttotal: 3.97s\tremaining: 3.85s\n",
      "203:\tlearn: 0.1227569\ttotal: 3.99s\tremaining: 3.83s\n",
      "204:\tlearn: 0.1219795\ttotal: 4.01s\tremaining: 3.81s\n",
      "205:\tlearn: 0.1209417\ttotal: 4.03s\tremaining: 3.79s\n",
      "206:\tlearn: 0.1200357\ttotal: 4.05s\tremaining: 3.77s\n",
      "207:\tlearn: 0.1193566\ttotal: 4.07s\tremaining: 3.75s\n",
      "208:\tlearn: 0.1189938\ttotal: 4.08s\tremaining: 3.73s\n",
      "209:\tlearn: 0.1181642\ttotal: 4.1s\tremaining: 3.71s\n",
      "210:\tlearn: 0.1172938\ttotal: 4.12s\tremaining: 3.69s\n",
      "211:\tlearn: 0.1166091\ttotal: 4.14s\tremaining: 3.67s\n",
      "212:\tlearn: 0.1159043\ttotal: 4.16s\tremaining: 3.65s\n",
      "213:\tlearn: 0.1154858\ttotal: 4.17s\tremaining: 3.63s\n",
      "214:\tlearn: 0.1146418\ttotal: 4.19s\tremaining: 3.61s\n",
      "215:\tlearn: 0.1137043\ttotal: 4.21s\tremaining: 3.59s\n",
      "216:\tlearn: 0.1130603\ttotal: 4.23s\tremaining: 3.57s\n",
      "217:\tlearn: 0.1122573\ttotal: 4.25s\tremaining: 3.55s\n",
      "218:\tlearn: 0.1113487\ttotal: 4.27s\tremaining: 3.53s\n",
      "219:\tlearn: 0.1108876\ttotal: 4.29s\tremaining: 3.51s\n",
      "220:\tlearn: 0.1101933\ttotal: 4.3s\tremaining: 3.49s\n",
      "221:\tlearn: 0.1095278\ttotal: 4.32s\tremaining: 3.46s\n",
      "222:\tlearn: 0.1088585\ttotal: 4.34s\tremaining: 3.44s\n",
      "223:\tlearn: 0.1083156\ttotal: 4.36s\tremaining: 3.42s\n",
      "224:\tlearn: 0.1075402\ttotal: 4.38s\tremaining: 3.4s\n",
      "225:\tlearn: 0.1069617\ttotal: 4.39s\tremaining: 3.38s\n",
      "226:\tlearn: 0.1062581\ttotal: 4.41s\tremaining: 3.36s\n",
      "227:\tlearn: 0.1055452\ttotal: 4.43s\tremaining: 3.34s\n",
      "228:\tlearn: 0.1050078\ttotal: 4.45s\tremaining: 3.33s\n",
      "229:\tlearn: 0.1045148\ttotal: 4.47s\tremaining: 3.31s\n",
      "230:\tlearn: 0.1038775\ttotal: 4.49s\tremaining: 3.29s\n",
      "231:\tlearn: 0.1031312\ttotal: 4.51s\tremaining: 3.27s\n",
      "232:\tlearn: 0.1024587\ttotal: 4.53s\tremaining: 3.25s\n",
      "233:\tlearn: 0.1019067\ttotal: 4.55s\tremaining: 3.23s\n",
      "234:\tlearn: 0.1014303\ttotal: 4.57s\tremaining: 3.21s\n",
      "235:\tlearn: 0.1011078\ttotal: 4.59s\tremaining: 3.19s\n",
      "236:\tlearn: 0.1005027\ttotal: 4.61s\tremaining: 3.17s\n",
      "237:\tlearn: 0.0999983\ttotal: 4.62s\tremaining: 3.15s\n",
      "238:\tlearn: 0.0992581\ttotal: 4.65s\tremaining: 3.13s\n",
      "239:\tlearn: 0.0986960\ttotal: 4.66s\tremaining: 3.11s\n",
      "240:\tlearn: 0.0980405\ttotal: 4.68s\tremaining: 3.09s\n",
      "241:\tlearn: 0.0973821\ttotal: 4.7s\tremaining: 3.07s\n",
      "242:\tlearn: 0.0967629\ttotal: 4.72s\tremaining: 3.05s\n",
      "243:\tlearn: 0.0960422\ttotal: 4.74s\tremaining: 3.03s\n",
      "244:\tlearn: 0.0954735\ttotal: 4.76s\tremaining: 3.01s\n",
      "245:\tlearn: 0.0949145\ttotal: 4.78s\tremaining: 2.99s\n",
      "246:\tlearn: 0.0942966\ttotal: 4.79s\tremaining: 2.97s\n",
      "247:\tlearn: 0.0935964\ttotal: 4.81s\tremaining: 2.95s\n",
      "248:\tlearn: 0.0931840\ttotal: 4.84s\tremaining: 2.93s\n",
      "249:\tlearn: 0.0925083\ttotal: 4.86s\tremaining: 2.91s\n",
      "250:\tlearn: 0.0919600\ttotal: 4.87s\tremaining: 2.89s\n",
      "251:\tlearn: 0.0914836\ttotal: 4.89s\tremaining: 2.87s\n",
      "252:\tlearn: 0.0908727\ttotal: 4.91s\tremaining: 2.85s\n",
      "253:\tlearn: 0.0901999\ttotal: 4.93s\tremaining: 2.83s\n",
      "254:\tlearn: 0.0896865\ttotal: 4.95s\tremaining: 2.81s\n",
      "255:\tlearn: 0.0891651\ttotal: 4.97s\tremaining: 2.79s\n",
      "256:\tlearn: 0.0887197\ttotal: 4.99s\tremaining: 2.77s\n",
      "257:\tlearn: 0.0881337\ttotal: 5.01s\tremaining: 2.75s\n",
      "258:\tlearn: 0.0875722\ttotal: 5.03s\tremaining: 2.74s\n",
      "259:\tlearn: 0.0871017\ttotal: 5.04s\tremaining: 2.71s\n",
      "260:\tlearn: 0.0866601\ttotal: 5.06s\tremaining: 2.69s\n",
      "261:\tlearn: 0.0860262\ttotal: 5.08s\tremaining: 2.68s\n",
      "262:\tlearn: 0.0855928\ttotal: 5.1s\tremaining: 2.66s\n",
      "263:\tlearn: 0.0850932\ttotal: 5.12s\tremaining: 2.64s\n",
      "264:\tlearn: 0.0846493\ttotal: 5.14s\tremaining: 2.62s\n",
      "265:\tlearn: 0.0842235\ttotal: 5.15s\tremaining: 2.6s\n",
      "266:\tlearn: 0.0836395\ttotal: 5.17s\tremaining: 2.58s\n",
      "267:\tlearn: 0.0831542\ttotal: 5.19s\tremaining: 2.56s\n",
      "268:\tlearn: 0.0827229\ttotal: 5.21s\tremaining: 2.54s\n",
      "269:\tlearn: 0.0823706\ttotal: 5.23s\tremaining: 2.52s\n",
      "270:\tlearn: 0.0819368\ttotal: 5.25s\tremaining: 2.5s\n",
      "271:\tlearn: 0.0814313\ttotal: 5.27s\tremaining: 2.48s\n",
      "272:\tlearn: 0.0809061\ttotal: 5.29s\tremaining: 2.46s\n",
      "273:\tlearn: 0.0803651\ttotal: 5.31s\tremaining: 2.44s\n",
      "274:\tlearn: 0.0799672\ttotal: 5.32s\tremaining: 2.42s\n",
      "275:\tlearn: 0.0795507\ttotal: 5.34s\tremaining: 2.4s\n",
      "276:\tlearn: 0.0791653\ttotal: 5.36s\tremaining: 2.38s\n",
      "277:\tlearn: 0.0786663\ttotal: 5.38s\tremaining: 2.36s\n",
      "278:\tlearn: 0.0782065\ttotal: 5.39s\tremaining: 2.34s\n",
      "279:\tlearn: 0.0778696\ttotal: 5.41s\tremaining: 2.32s\n",
      "280:\tlearn: 0.0774773\ttotal: 5.43s\tremaining: 2.3s\n",
      "281:\tlearn: 0.0771669\ttotal: 5.45s\tremaining: 2.28s\n",
      "282:\tlearn: 0.0767590\ttotal: 5.47s\tremaining: 2.26s\n",
      "283:\tlearn: 0.0763746\ttotal: 5.49s\tremaining: 2.24s\n",
      "284:\tlearn: 0.0760756\ttotal: 5.5s\tremaining: 2.22s\n",
      "285:\tlearn: 0.0756730\ttotal: 5.52s\tremaining: 2.2s\n",
      "286:\tlearn: 0.0752272\ttotal: 5.54s\tremaining: 2.18s\n",
      "287:\tlearn: 0.0748248\ttotal: 5.56s\tremaining: 2.16s\n",
      "288:\tlearn: 0.0743724\ttotal: 5.58s\tremaining: 2.14s\n",
      "289:\tlearn: 0.0739885\ttotal: 5.59s\tremaining: 2.12s\n",
      "290:\tlearn: 0.0736957\ttotal: 5.61s\tremaining: 2.1s\n",
      "291:\tlearn: 0.0733962\ttotal: 5.63s\tremaining: 2.08s\n",
      "292:\tlearn: 0.0730896\ttotal: 5.65s\tremaining: 2.06s\n",
      "293:\tlearn: 0.0728686\ttotal: 5.67s\tremaining: 2.04s\n",
      "294:\tlearn: 0.0724281\ttotal: 5.69s\tremaining: 2.02s\n",
      "295:\tlearn: 0.0720621\ttotal: 5.71s\tremaining: 2.01s\n",
      "296:\tlearn: 0.0717157\ttotal: 5.73s\tremaining: 1.99s\n",
      "297:\tlearn: 0.0712965\ttotal: 5.75s\tremaining: 1.97s\n",
      "298:\tlearn: 0.0709153\ttotal: 5.76s\tremaining: 1.95s\n",
      "299:\tlearn: 0.0705704\ttotal: 5.78s\tremaining: 1.93s\n",
      "300:\tlearn: 0.0702679\ttotal: 5.8s\tremaining: 1.91s\n",
      "301:\tlearn: 0.0699442\ttotal: 5.82s\tremaining: 1.89s\n",
      "302:\tlearn: 0.0695005\ttotal: 5.84s\tremaining: 1.87s\n",
      "303:\tlearn: 0.0691620\ttotal: 5.85s\tremaining: 1.85s\n",
      "304:\tlearn: 0.0689299\ttotal: 5.87s\tremaining: 1.83s\n",
      "305:\tlearn: 0.0686079\ttotal: 5.89s\tremaining: 1.81s\n",
      "306:\tlearn: 0.0682780\ttotal: 5.91s\tremaining: 1.79s\n",
      "307:\tlearn: 0.0678827\ttotal: 5.93s\tremaining: 1.77s\n",
      "308:\tlearn: 0.0676655\ttotal: 5.94s\tremaining: 1.75s\n",
      "309:\tlearn: 0.0672929\ttotal: 5.96s\tremaining: 1.73s\n",
      "310:\tlearn: 0.0669605\ttotal: 5.98s\tremaining: 1.71s\n",
      "311:\tlearn: 0.0665860\ttotal: 6s\tremaining: 1.69s\n",
      "312:\tlearn: 0.0662704\ttotal: 6.02s\tremaining: 1.67s\n",
      "313:\tlearn: 0.0660391\ttotal: 6.04s\tremaining: 1.65s\n",
      "314:\tlearn: 0.0657424\ttotal: 6.06s\tremaining: 1.63s\n",
      "315:\tlearn: 0.0654357\ttotal: 6.08s\tremaining: 1.61s\n",
      "316:\tlearn: 0.0650592\ttotal: 6.09s\tremaining: 1.59s\n",
      "317:\tlearn: 0.0646848\ttotal: 6.11s\tremaining: 1.58s\n",
      "318:\tlearn: 0.0644017\ttotal: 6.13s\tremaining: 1.56s\n",
      "319:\tlearn: 0.0640659\ttotal: 6.15s\tremaining: 1.54s\n",
      "320:\tlearn: 0.0638688\ttotal: 6.17s\tremaining: 1.52s\n",
      "321:\tlearn: 0.0635795\ttotal: 6.18s\tremaining: 1.5s\n",
      "322:\tlearn: 0.0632025\ttotal: 6.2s\tremaining: 1.48s\n",
      "323:\tlearn: 0.0628822\ttotal: 6.22s\tremaining: 1.46s\n",
      "324:\tlearn: 0.0627068\ttotal: 6.24s\tremaining: 1.44s\n",
      "325:\tlearn: 0.0624865\ttotal: 6.25s\tremaining: 1.42s\n",
      "326:\tlearn: 0.0621532\ttotal: 6.28s\tremaining: 1.4s\n",
      "327:\tlearn: 0.0618522\ttotal: 6.29s\tremaining: 1.38s\n",
      "328:\tlearn: 0.0616013\ttotal: 6.31s\tremaining: 1.36s\n",
      "329:\tlearn: 0.0613426\ttotal: 6.33s\tremaining: 1.34s\n",
      "330:\tlearn: 0.0609836\ttotal: 6.35s\tremaining: 1.32s\n",
      "331:\tlearn: 0.0607033\ttotal: 6.37s\tremaining: 1.3s\n",
      "332:\tlearn: 0.0604291\ttotal: 6.39s\tremaining: 1.28s\n",
      "333:\tlearn: 0.0602229\ttotal: 6.41s\tremaining: 1.27s\n",
      "334:\tlearn: 0.0599353\ttotal: 6.42s\tremaining: 1.25s\n",
      "335:\tlearn: 0.0596420\ttotal: 6.44s\tremaining: 1.23s\n",
      "336:\tlearn: 0.0593491\ttotal: 6.46s\tremaining: 1.21s\n",
      "337:\tlearn: 0.0590343\ttotal: 6.48s\tremaining: 1.19s\n",
      "338:\tlearn: 0.0587601\ttotal: 6.5s\tremaining: 1.17s\n",
      "339:\tlearn: 0.0585145\ttotal: 6.52s\tremaining: 1.15s\n",
      "340:\tlearn: 0.0583883\ttotal: 6.54s\tremaining: 1.13s\n",
      "341:\tlearn: 0.0580927\ttotal: 6.56s\tremaining: 1.11s\n",
      "342:\tlearn: 0.0578626\ttotal: 6.58s\tremaining: 1.09s\n",
      "343:\tlearn: 0.0576059\ttotal: 6.59s\tremaining: 1.07s\n",
      "344:\tlearn: 0.0573296\ttotal: 6.61s\tremaining: 1.05s\n",
      "345:\tlearn: 0.0571000\ttotal: 6.63s\tremaining: 1.03s\n",
      "346:\tlearn: 0.0568941\ttotal: 6.65s\tremaining: 1.01s\n",
      "347:\tlearn: 0.0566131\ttotal: 6.67s\tremaining: 996ms\n",
      "348:\tlearn: 0.0564233\ttotal: 6.69s\tremaining: 977ms\n",
      "349:\tlearn: 0.0562073\ttotal: 6.7s\tremaining: 958ms\n",
      "350:\tlearn: 0.0559799\ttotal: 6.72s\tremaining: 938ms\n",
      "351:\tlearn: 0.0557481\ttotal: 6.74s\tremaining: 919ms\n",
      "352:\tlearn: 0.0555538\ttotal: 6.76s\tremaining: 900ms\n",
      "353:\tlearn: 0.0553367\ttotal: 6.78s\tremaining: 881ms\n",
      "354:\tlearn: 0.0551577\ttotal: 6.8s\tremaining: 861ms\n",
      "355:\tlearn: 0.0549297\ttotal: 6.81s\tremaining: 842ms\n",
      "356:\tlearn: 0.0546909\ttotal: 6.83s\tremaining: 823ms\n",
      "357:\tlearn: 0.0544781\ttotal: 6.85s\tremaining: 803ms\n",
      "358:\tlearn: 0.0542152\ttotal: 6.87s\tremaining: 784ms\n",
      "359:\tlearn: 0.0539168\ttotal: 6.88s\tremaining: 765ms\n",
      "360:\tlearn: 0.0536750\ttotal: 6.9s\tremaining: 746ms\n",
      "361:\tlearn: 0.0535401\ttotal: 6.92s\tremaining: 726ms\n",
      "362:\tlearn: 0.0533400\ttotal: 6.94s\tremaining: 707ms\n",
      "363:\tlearn: 0.0531060\ttotal: 6.96s\tremaining: 688ms\n",
      "364:\tlearn: 0.0528641\ttotal: 6.98s\tremaining: 669ms\n",
      "365:\tlearn: 0.0526575\ttotal: 7s\tremaining: 650ms\n",
      "366:\tlearn: 0.0524011\ttotal: 7.02s\tremaining: 631ms\n",
      "367:\tlearn: 0.0521789\ttotal: 7.03s\tremaining: 612ms\n",
      "368:\tlearn: 0.0519289\ttotal: 7.05s\tremaining: 592ms\n",
      "369:\tlearn: 0.0516724\ttotal: 7.07s\tremaining: 573ms\n",
      "370:\tlearn: 0.0514686\ttotal: 7.09s\tremaining: 554ms\n",
      "371:\tlearn: 0.0512040\ttotal: 7.1s\tremaining: 535ms\n",
      "372:\tlearn: 0.0509985\ttotal: 7.12s\tremaining: 515ms\n",
      "373:\tlearn: 0.0507985\ttotal: 7.14s\tremaining: 496ms\n",
      "374:\tlearn: 0.0505726\ttotal: 7.16s\tremaining: 477ms\n",
      "375:\tlearn: 0.0503493\ttotal: 7.17s\tremaining: 458ms\n",
      "376:\tlearn: 0.0501426\ttotal: 7.2s\tremaining: 439ms\n",
      "377:\tlearn: 0.0499607\ttotal: 7.21s\tremaining: 420ms\n",
      "378:\tlearn: 0.0497767\ttotal: 7.23s\tremaining: 401ms\n",
      "379:\tlearn: 0.0496260\ttotal: 7.25s\tremaining: 382ms\n",
      "380:\tlearn: 0.0494488\ttotal: 7.27s\tremaining: 362ms\n",
      "381:\tlearn: 0.0492234\ttotal: 7.29s\tremaining: 343ms\n",
      "382:\tlearn: 0.0490347\ttotal: 7.3s\tremaining: 324ms\n",
      "383:\tlearn: 0.0488405\ttotal: 7.32s\tremaining: 305ms\n",
      "384:\tlearn: 0.0486342\ttotal: 7.34s\tremaining: 286ms\n",
      "385:\tlearn: 0.0485161\ttotal: 7.36s\tremaining: 267ms\n",
      "386:\tlearn: 0.0483290\ttotal: 7.37s\tremaining: 248ms\n",
      "387:\tlearn: 0.0481349\ttotal: 7.39s\tremaining: 229ms\n",
      "388:\tlearn: 0.0479320\ttotal: 7.41s\tremaining: 210ms\n",
      "389:\tlearn: 0.0477085\ttotal: 7.43s\tremaining: 191ms\n",
      "390:\tlearn: 0.0475273\ttotal: 7.45s\tremaining: 171ms\n",
      "391:\tlearn: 0.0473450\ttotal: 7.47s\tremaining: 152ms\n",
      "392:\tlearn: 0.0471554\ttotal: 7.49s\tremaining: 133ms\n",
      "393:\tlearn: 0.0470044\ttotal: 7.5s\tremaining: 114ms\n",
      "394:\tlearn: 0.0468218\ttotal: 7.52s\tremaining: 95.2ms\n",
      "395:\tlearn: 0.0466728\ttotal: 7.54s\tremaining: 76.2ms\n",
      "396:\tlearn: 0.0464709\ttotal: 7.56s\tremaining: 57.1ms\n",
      "397:\tlearn: 0.0463061\ttotal: 7.58s\tremaining: 38.1ms\n",
      "398:\tlearn: 0.0461488\ttotal: 7.6s\tremaining: 19ms\n",
      "399:\tlearn: 0.0460201\ttotal: 7.62s\tremaining: 0us\n",
      "              precision    recall  f1-score   support\n",
      "\n",
      "           0       0.63      0.60      0.62        43\n",
      "           1       0.75      0.68      0.71        31\n",
      "           2       0.72      0.68      0.70        34\n",
      "           3       0.57      0.62      0.59        26\n",
      "           4       0.55      0.59      0.57        27\n",
      "           5       0.69      0.73      0.70        51\n",
      "\n",
      "    accuracy                           0.66       212\n",
      "   macro avg       0.65      0.65      0.65       212\n",
      "weighted avg       0.66      0.66      0.66       212\n"
     ]
    }
   ],
   "source": [
    "model = cb.CatBoostClassifier(iterations=400, task_type='GPU')\n",
    "model.fit(X_train, y_train)\n",
    "# Generate classification report\n",
    "y_pred = model.predict(X_test)\n",
    "print(metrics.classification_report(y_test, y_pred))"
   ],
   "metadata": {
    "collapsed": false,
    "ExecuteTime": {
     "end_time": "2024-02-24T13:33:13.302839300Z",
     "start_time": "2024-02-24T13:33:04.815260800Z"
    }
   },
   "id": "c14f291177ba9793",
   "execution_count": 20
  },
  {
   "cell_type": "markdown",
   "source": [
    "Very interesting to note is that the Catboost model gave a score of 0.66, not better from the logistic regression,\n",
    "and from other models we have tried so far, \n",
    "meaning that the more complex models do not always outperform the simpler ones."
   ],
   "metadata": {
    "collapsed": false
   },
   "id": "66b66ab411e286e6"
  },
  {
   "cell_type": "markdown",
   "source": [
    "### Neural Network\n",
    "\n",
    "While neural networks need a lot of data to perform well, let's try a simple neural network model to see how it performs.\n",
    "\n",
    "We will use the `keras` library to build the neural network model.\n",
    "\n",
    "Let's start by making the train and test splits from above into TensorFlow datasets.\n",
    "\n",
    "We will also define a validation dataset from the training data to monitor the model's performance during training.\n",
    "All the tensors will be batched and pre-fetched to improve performance and also cached to avoid loading the data from the disk during training."
   ],
   "metadata": {
    "collapsed": false
   },
   "id": "be15e3c101722f61"
  },
  {
   "cell_type": "code",
   "outputs": [],
   "source": [
    "# Parameters\n",
    "BATCH_SIZE = 32\n",
    "SHUFFLE_BUFFER_SIZE = 600  # Adjust based on your dataset size\n",
    "VALIDATION_SPLIT = 0.2  # Fraction of training data to use for validation\n",
    "\n",
    "# Calculate the number of validation samples\n",
    "n_validation_samples = int(len(X_train) * VALIDATION_SPLIT)\n",
    "\n",
    "# Create and process the validation dataset from the training data\n",
    "val_ds = tf.data.Dataset.from_tensor_slices((X_train[:n_validation_samples], y_train[:n_validation_samples]))\n",
    "val_ds = val_ds.batch(BATCH_SIZE).cache().prefetch(buffer_size=tf.data.AUTOTUNE)\n",
    "\n",
    "# Update the training dataset to exclude the validation data and process it\n",
    "train_ds = tf.data.Dataset.from_tensor_slices((X_train[n_validation_samples:], y_train[n_validation_samples:]))\n",
    "train_ds = train_ds.shuffle(SHUFFLE_BUFFER_SIZE).batch(BATCH_SIZE).cache().prefetch(buffer_size=tf.data.AUTOTUNE)\n",
    "\n",
    "# Create and process the test dataset\n",
    "test_ds = tf.data.Dataset.from_tensor_slices((X_test, y_test))\n",
    "test_ds = test_ds.batch(BATCH_SIZE).cache().prefetch(buffer_size=tf.data.AUTOTUNE)"
   ],
   "metadata": {
    "collapsed": false,
    "ExecuteTime": {
     "end_time": "2024-02-24T14:49:23.924651300Z",
     "start_time": "2024-02-24T14:49:23.886779500Z"
    }
   },
   "id": "fac050077fcb120",
   "execution_count": 9
  },
  {
   "cell_type": "markdown",
   "source": [
    "With that done, let's have a look at the first batch of the training dataset."
   ],
   "metadata": {
    "collapsed": false
   },
   "id": "c1bc0a932557566"
  },
  {
   "cell_type": "code",
   "outputs": [
    {
     "name": "stdout",
     "output_type": "stream",
     "text": [
      "Features: [[-0.02552795  0.00769043 -0.03106689 ...  0.02865601 -0.0552063\n",
      "  -0.01802063]\n",
      " [-0.01200104 -0.00301361 -0.03564453 ... -0.00743866 -0.04656982\n",
      "  -0.04006958]\n",
      " [-0.0017252  -0.02816772 -0.0214386  ...  0.04397583 -0.09735107\n",
      "   0.01378632]\n",
      " ...\n",
      " [-0.02601624  0.01105499 -0.02320862 ...  0.01963806 -0.0769043\n",
      "  -0.00473785]\n",
      " [-0.00162506  0.06921387 -0.03442383 ...  0.00345612 -0.02775574\n",
      "   0.00546646]\n",
      " [-0.01052856  0.02453613 -0.01599121 ...  0.00735855 -0.04873657\n",
      "  -0.02774048]], Target: [0 5 0 1 1 3 1 2 1 5 1 5 2 5 5 5 2 5 1 5 1 4 3 5 5 3 3 4 5 2 5 0]\n"
     ]
    }
   ],
   "source": [
    "for feat, targ in train_ds.take(1):\n",
    "    print('Features: {}, Target: {}'.format(feat, targ))"
   ],
   "metadata": {
    "collapsed": false,
    "ExecuteTime": {
     "end_time": "2024-02-24T14:49:24.445339500Z",
     "start_time": "2024-02-24T14:49:24.425787700Z"
    }
   },
   "id": "28b6cd6e52c06ff9",
   "execution_count": 10
  },
  {
   "cell_type": "markdown",
   "source": [
    "We can see that the training dataset is structured as expected, with the features and the targets batched together with a size of 32."
   ],
   "metadata": {
    "collapsed": false
   },
   "id": "2200f63d62e00072"
  },
  {
   "cell_type": "markdown",
   "source": [
    "Now let's define an early stopping callback to stop training the model when the validation loss does not improve after a certain number of epochs. "
   ],
   "metadata": {
    "collapsed": false
   },
   "id": "55faaf898903bf36"
  },
  {
   "cell_type": "code",
   "outputs": [],
   "source": [
    "early_stopping_callback = tf.keras.callbacks.EarlyStopping(\n",
    "    monitor='val_loss',  # Monitor the validation loss\n",
    "    patience=30,  # Number of epochs with no improvement after which training will be stopped\n",
    "    restore_best_weights=True  # Restores model weights from the epoch with the best value of the monitored quantity\n",
    ")"
   ],
   "metadata": {
    "collapsed": false,
    "ExecuteTime": {
     "end_time": "2024-02-24T14:49:24.917544700Z",
     "start_time": "2024-02-24T14:49:24.911348600Z"
    }
   },
   "id": "a2a85456f6f0206a",
   "execution_count": 11
  },
  {
   "cell_type": "markdown",
   "source": [
    "Another useful callback method in TensorFlow is the ModelCheckpoint callback. This callback saves the model at regular intervals during training, allowing you to retain and load the best version of your model based on a certain monitored metric, such as validation loss or accuracy."
   ],
   "metadata": {
    "collapsed": false
   },
   "id": "58e3c995a8f8d943"
  },
  {
   "cell_type": "code",
   "outputs": [],
   "source": [
    "model_checkpoint_callback = tf.keras.callbacks.ModelCheckpoint(\n",
    "    filepath='model_{epoch:02d}-{val_loss:.2f}.keras',  # Change the extension to '.keras'\n",
    "    save_weights_only=False,  # Set to True to save only weights, False to save the entire model\n",
    "    monitor='val_loss',  # Monitor the validation loss\n",
    "    mode='min',  # The model is saved when the monitored metric stops decreasing\n",
    "    save_best_only=True,  # Only the best model is saved\n",
    "    verbose=1  # Verbosity mode, 1 or 0\n",
    ")\n",
    "\n",
    "CALLBACKS = [\n",
    "    tfdocs.modeling.EpochDots(),\n",
    "    early_stopping_callback,\n",
    "    model_checkpoint_callback\n",
    "]"
   ],
   "metadata": {
    "collapsed": false,
    "ExecuteTime": {
     "end_time": "2024-02-24T14:49:25.214636800Z",
     "start_time": "2024-02-24T14:49:25.208492900Z"
    }
   },
   "id": "e99e3b0058d27c4b",
   "execution_count": 12
  },
  {
   "cell_type": "markdown",
   "source": [
    "Lastly, let's define a scheduler callback to adjust the learning rate during training."
   ],
   "metadata": {
    "collapsed": false
   },
   "id": "e70949e4096c0a1f"
  },
  {
   "cell_type": "code",
   "outputs": [],
   "source": [
    "BATCH_SIZE = 32\n",
    "STEPS_PER_EPOCH = X_train.shape[0] // BATCH_SIZE\n",
    "lr_scheduler = tf.keras.optimizers.schedules.InverseTimeDecay(\n",
    "    initial_learning_rate=1e-3,  # Initial learning rate\n",
    "    decay_steps=STEPS_PER_EPOCH * 1000,  # Decay steps\n",
    "    decay_rate=0.9,  # Decay rate\n",
    "    staircase=True  # If True, decay the learning rate at discrete intervals\n",
    ")"
   ],
   "metadata": {
    "collapsed": false,
    "ExecuteTime": {
     "end_time": "2024-02-24T14:49:25.542543300Z",
     "start_time": "2024-02-24T14:49:25.540195Z"
    }
   },
   "id": "b24cce175aac2630",
   "execution_count": 13
  },
  {
   "cell_type": "markdown",
   "source": [
    "With all the callbacks and the learning rate scheduler defined, let's now build the neural network model.\n",
    "\n",
    "We will use a simple neural network with 3 dense layers, the first with 32 units and the second with 16, and a ReLU activation function.\n",
    "The last layer will have 6 units, one for each class, and a softmax activation function.\n",
    "\n",
    "Also, we will use the Adam optimizer and the SparseCategoricalCrossentropy loss function, as well as the accuracy metric.\n",
    "\n",
    "Lastly, we will add WeightRegularization to the model as well as DropoutLayers to prevent overfitting."
   ],
   "metadata": {
    "collapsed": false
   },
   "id": "396c45887ea4ddcd"
  },
  {
   "cell_type": "code",
   "outputs": [
    {
     "name": "stdout",
     "output_type": "stream",
     "text": [
      "WARNING:tensorflow:From C:\\Users\\panagiotis\\AppData\\Local\\Programs\\Python\\Python311\\Lib\\site-packages\\keras\\src\\backend.py:873: The name tf.get_default_graph is deprecated. Please use tf.compat.v1.get_default_graph instead.\n"
     ]
    }
   ],
   "source": [
    "weight_regularizer = regularizers.l2(0.0001)\n",
    "\n",
    "model = keras.Sequential([\n",
    "    layers.Dense(32, activation='relu', input_shape=(X_train.shape[1],), kernel_regularizer=weight_regularizer),\n",
    "    layers.Dropout(0.3),\n",
    "    layers.Dense(16, activation='relu', kernel_regularizer=weight_regularizer),\n",
    "    layers.Dropout(0.2),\n",
    "    layers.Dense(n_classes, activation='softmax')\n",
    "])"
   ],
   "metadata": {
    "collapsed": false,
    "ExecuteTime": {
     "end_time": "2024-02-24T14:49:26.771787200Z",
     "start_time": "2024-02-24T14:49:26.526417100Z"
    }
   },
   "id": "ed010b4c406e22d7",
   "execution_count": 14
  },
  {
   "cell_type": "markdown",
   "source": [
    "With the model created, let's compile it using the Adam optimizer, the SparseCategoricalCrossentropy loss function, and the accuracy metric."
   ],
   "metadata": {
    "collapsed": false
   },
   "id": "9600efc4cd8cdafb"
  },
  {
   "cell_type": "code",
   "outputs": [],
   "source": [
    "# Compile the model\n",
    "model.compile(optimizer=tf.keras.optimizers.Adam(learning_rate=lr_scheduler),\n",
    "              loss=tf.keras.losses.SparseCategoricalCrossentropy(from_logits=False),\n",
    "              metrics=(['accuracy',\n",
    "                        tf.keras.losses.SparseCategoricalCrossentropy(\n",
    "                            from_logits=False, name='sparse_categorical_crossentropy')]))"
   ],
   "metadata": {
    "collapsed": false,
    "ExecuteTime": {
     "end_time": "2024-02-24T14:49:27.718339600Z",
     "start_time": "2024-02-24T14:49:27.700033200Z"
    }
   },
   "id": "3dc26bb0fade8741",
   "execution_count": 15
  },
  {
   "cell_type": "markdown",
   "source": [
    "Let's see now the model summary"
   ],
   "metadata": {
    "collapsed": false
   },
   "id": "d19eb4b55cb1da4d"
  },
  {
   "cell_type": "code",
   "outputs": [
    {
     "name": "stdout",
     "output_type": "stream",
     "text": [
      "Model: \"sequential\"\n",
      "_________________________________________________________________\n",
      " Layer (type)                Output Shape              Param #   \n",
      "=================================================================\n",
      " dense (Dense)               (None, 32)                24608     \n",
      "                                                                 \n",
      " dropout (Dropout)           (None, 32)                0         \n",
      "                                                                 \n",
      " dense_1 (Dense)             (None, 16)                528       \n",
      "                                                                 \n",
      " dropout_1 (Dropout)         (None, 16)                0         \n",
      "                                                                 \n",
      " dense_2 (Dense)             (None, 6)                 102       \n",
      "                                                                 \n",
      "=================================================================\n",
      "Total params: 25238 (98.59 KB)\n",
      "Trainable params: 25238 (98.59 KB)\n",
      "Non-trainable params: 0 (0.00 Byte)\n",
      "_________________________________________________________________\n"
     ]
    }
   ],
   "source": [
    "model.summary()"
   ],
   "metadata": {
    "collapsed": false,
    "ExecuteTime": {
     "end_time": "2024-02-24T14:49:29.922275300Z",
     "start_time": "2024-02-24T14:49:29.880763200Z"
    }
   },
   "id": "7794956153aea89d",
   "execution_count": 16
  },
  {
   "cell_type": "markdown",
   "source": [
    "We can see that the model has 25238 parameters to train, which are quite a lot for the small dataset we have.\n",
    "However, with the Dropout layers and the WeightRegularization, we hope to prevent excessive overfitting.\n",
    "\n",
    "Let's now train the model using the training dataset and the validation dataset we created earlier."
   ],
   "metadata": {
    "collapsed": false
   },
   "id": "689f9ac49e7e4324"
  },
  {
   "cell_type": "code",
   "outputs": [
    {
     "name": "stdout",
     "output_type": "stream",
     "text": [
      "Epoch 1/100\n",
      "WARNING:tensorflow:From C:\\Users\\panagiotis\\AppData\\Local\\Programs\\Python\\Python311\\Lib\\site-packages\\keras\\src\\utils\\tf_utils.py:492: The name tf.ragged.RaggedTensorValue is deprecated. Please use tf.compat.v1.ragged.RaggedTensorValue instead.\n",
      "WARNING:tensorflow:From C:\\Users\\panagiotis\\AppData\\Local\\Programs\\Python\\Python311\\Lib\\site-packages\\keras\\src\\engine\\base_layer_utils.py:384: The name tf.executing_eagerly_outside_functions is deprecated. Please use tf.compat.v1.executing_eagerly_outside_functions instead.\n",
      " 1/22 [>.............................] - ETA: 11s - loss: 1.8014 - accuracy: 0.1250 - sparse_categorical_crossentropy: 1.7932\n",
      "Epoch: 0, accuracy:0.1893,  loss:1.8007,  sparse_categorical_crossentropy:1.7928,  val_accuracy:0.2012,  val_loss:1.7934,  val_sparse_categorical_crossentropy:1.7875,  \n",
      ".\n",
      "Epoch 1: val_loss improved from inf to 1.79336, saving model to model_01-1.79.keras\n",
      "22/22 [==============================] - 1s 7ms/step - loss: 1.8007 - accuracy: 0.1893 - sparse_categorical_crossentropy: 1.7928 - val_loss: 1.7934 - val_accuracy: 0.2012 - val_sparse_categorical_crossentropy: 1.7875\n",
      "Epoch 2/100\n",
      " 1/22 [>.............................] - ETA: 0s - loss: 1.7793 - accuracy: 0.2812 - sparse_categorical_crossentropy: 1.7714.\n",
      "Epoch 2: val_loss improved from 1.79336 to 1.78310, saving model to model_02-1.78.keras\n",
      "22/22 [==============================] - 0s 2ms/step - loss: 1.7882 - accuracy: 0.2115 - sparse_categorical_crossentropy: 1.7799 - val_loss: 1.7831 - val_accuracy: 0.2781 - val_sparse_categorical_crossentropy: 1.7776\n",
      "Epoch 3/100\n",
      " 1/22 [>.............................] - ETA: 0s - loss: 1.7598 - accuracy: 0.2500 - sparse_categorical_crossentropy: 1.7523.\n",
      "Epoch 3: val_loss improved from 1.78310 to 1.76999, saving model to model_03-1.77.keras\n",
      "22/22 [==============================] - 0s 2ms/step - loss: 1.7751 - accuracy: 0.2322 - sparse_categorical_crossentropy: 1.7700 - val_loss: 1.7700 - val_accuracy: 0.2485 - val_sparse_categorical_crossentropy: 1.7655\n",
      "Epoch 4/100\n",
      " 1/22 [>.............................] - ETA: 0s - loss: 1.7551 - accuracy: 0.3125 - sparse_categorical_crossentropy: 1.7478.\n",
      "Epoch 4: val_loss improved from 1.76999 to 1.75659, saving model to model_04-1.76.keras\n",
      "22/22 [==============================] - 0s 2ms/step - loss: 1.7602 - accuracy: 0.2396 - sparse_categorical_crossentropy: 1.7538 - val_loss: 1.7566 - val_accuracy: 0.2189 - val_sparse_categorical_crossentropy: 1.7529\n",
      "Epoch 5/100\n",
      " 1/22 [>.............................] - ETA: 0s - loss: 1.7048 - accuracy: 0.2812 - sparse_categorical_crossentropy: 1.6976.\n",
      "Epoch 5: val_loss improved from 1.75659 to 1.73466, saving model to model_05-1.73.keras\n",
      "22/22 [==============================] - 0s 2ms/step - loss: 1.7361 - accuracy: 0.2648 - sparse_categorical_crossentropy: 1.7274 - val_loss: 1.7347 - val_accuracy: 0.2426 - val_sparse_categorical_crossentropy: 1.7314\n",
      "Epoch 6/100\n",
      " 1/22 [>.............................] - ETA: 0s - loss: 1.6897 - accuracy: 0.3125 - sparse_categorical_crossentropy: 1.6825.\n",
      "Epoch 6: val_loss improved from 1.73466 to 1.71341, saving model to model_06-1.71.keras\n",
      "22/22 [==============================] - 0s 2ms/step - loss: 1.7182 - accuracy: 0.2914 - sparse_categorical_crossentropy: 1.7140 - val_loss: 1.7134 - val_accuracy: 0.2722 - val_sparse_categorical_crossentropy: 1.7096\n",
      "Epoch 7/100\n",
      " 1/22 [>.............................] - ETA: 0s - loss: 1.7121 - accuracy: 0.3750 - sparse_categorical_crossentropy: 1.7048.\n",
      "Epoch 7: val_loss improved from 1.71341 to 1.68701, saving model to model_07-1.69.keras\n",
      "22/22 [==============================] - 0s 2ms/step - loss: 1.6928 - accuracy: 0.3092 - sparse_categorical_crossentropy: 1.6855 - val_loss: 1.6870 - val_accuracy: 0.3195 - val_sparse_categorical_crossentropy: 1.6832\n",
      "Epoch 8/100\n",
      " 1/22 [>.............................] - ETA: 0s - loss: 1.6181 - accuracy: 0.3438 - sparse_categorical_crossentropy: 1.6106.\n",
      "Epoch 8: val_loss improved from 1.68701 to 1.65317, saving model to model_08-1.65.keras\n",
      "22/22 [==============================] - 0s 2ms/step - loss: 1.6443 - accuracy: 0.3565 - sparse_categorical_crossentropy: 1.6409 - val_loss: 1.6532 - val_accuracy: 0.3905 - val_sparse_categorical_crossentropy: 1.6479\n",
      "Epoch 9/100\n",
      " 1/22 [>.............................] - ETA: 0s - loss: 1.5866 - accuracy: 0.4375 - sparse_categorical_crossentropy: 1.5788.\n",
      "Epoch 9: val_loss improved from 1.65317 to 1.62318, saving model to model_09-1.62.keras\n",
      "22/22 [==============================] - 0s 2ms/step - loss: 1.6057 - accuracy: 0.4172 - sparse_categorical_crossentropy: 1.5959 - val_loss: 1.6232 - val_accuracy: 0.4083 - val_sparse_categorical_crossentropy: 1.6172\n",
      "Epoch 10/100\n",
      " 1/22 [>.............................] - ETA: 0s - loss: 1.5235 - accuracy: 0.5312 - sparse_categorical_crossentropy: 1.5154.\n",
      "Epoch 10: val_loss improved from 1.62318 to 1.58291, saving model to model_10-1.58.keras\n",
      "22/22 [==============================] - 0s 2ms/step - loss: 1.5632 - accuracy: 0.4112 - sparse_categorical_crossentropy: 1.5528 - val_loss: 1.5829 - val_accuracy: 0.4320 - val_sparse_categorical_crossentropy: 1.5734\n",
      "Epoch 11/100\n",
      " 1/22 [>.............................] - ETA: 0s - loss: 1.5094 - accuracy: 0.4062 - sparse_categorical_crossentropy: 1.5009.\n",
      "Epoch 11: val_loss improved from 1.58291 to 1.54624, saving model to model_11-1.55.keras\n",
      "22/22 [==============================] - 0s 2ms/step - loss: 1.5158 - accuracy: 0.4660 - sparse_categorical_crossentropy: 1.5050 - val_loss: 1.5462 - val_accuracy: 0.4497 - val_sparse_categorical_crossentropy: 1.5354\n",
      "Epoch 12/100\n",
      " 1/22 [>.............................] - ETA: 0s - loss: 1.5358 - accuracy: 0.3125 - sparse_categorical_crossentropy: 1.5268.\n",
      "Epoch 12: val_loss improved from 1.54624 to 1.51832, saving model to model_12-1.52.keras\n",
      "22/22 [==============================] - 0s 2ms/step - loss: 1.4917 - accuracy: 0.4734 - sparse_categorical_crossentropy: 1.4707 - val_loss: 1.5183 - val_accuracy: 0.4556 - val_sparse_categorical_crossentropy: 1.5058\n",
      "Epoch 13/100\n",
      " 1/22 [>.............................] - ETA: 0s - loss: 1.4900 - accuracy: 0.5000 - sparse_categorical_crossentropy: 1.4805.\n",
      "Epoch 13: val_loss improved from 1.51832 to 1.48183, saving model to model_13-1.48.keras\n",
      "22/22 [==============================] - 0s 2ms/step - loss: 1.4772 - accuracy: 0.4645 - sparse_categorical_crossentropy: 1.4662 - val_loss: 1.4818 - val_accuracy: 0.4793 - val_sparse_categorical_crossentropy: 1.4625\n",
      "Epoch 14/100\n",
      " 1/22 [>.............................] - ETA: 0s - loss: 1.4005 - accuracy: 0.4688 - sparse_categorical_crossentropy: 1.3904.\n",
      "Epoch 14: val_loss improved from 1.48183 to 1.45613, saving model to model_14-1.46.keras\n",
      "22/22 [==============================] - 0s 2ms/step - loss: 1.4053 - accuracy: 0.5325 - sparse_categorical_crossentropy: 1.3810 - val_loss: 1.4561 - val_accuracy: 0.4793 - val_sparse_categorical_crossentropy: 1.4391\n",
      "Epoch 15/100\n",
      " 1/22 [>.............................] - ETA: 0s - loss: 1.3821 - accuracy: 0.4375 - sparse_categorical_crossentropy: 1.3715.\n",
      "Epoch 15: val_loss improved from 1.45613 to 1.41379, saving model to model_15-1.41.keras\n",
      "22/22 [==============================] - 0s 2ms/step - loss: 1.3477 - accuracy: 0.5222 - sparse_categorical_crossentropy: 1.3223 - val_loss: 1.4138 - val_accuracy: 0.4852 - val_sparse_categorical_crossentropy: 1.3915\n",
      "Epoch 16/100\n",
      " 1/22 [>.............................] - ETA: 0s - loss: 1.3359 - accuracy: 0.4375 - sparse_categorical_crossentropy: 1.3247.\n",
      "Epoch 16: val_loss improved from 1.41379 to 1.40127, saving model to model_16-1.40.keras\n",
      "22/22 [==============================] - 0s 2ms/step - loss: 1.3680 - accuracy: 0.4970 - sparse_categorical_crossentropy: 1.3516 - val_loss: 1.4013 - val_accuracy: 0.4911 - val_sparse_categorical_crossentropy: 1.3794\n",
      "Epoch 17/100\n",
      " 1/22 [>.............................] - ETA: 0s - loss: 1.2306 - accuracy: 0.5625 - sparse_categorical_crossentropy: 1.2187.\n",
      "Epoch 17: val_loss improved from 1.40127 to 1.37630, saving model to model_17-1.38.keras\n",
      "22/22 [==============================] - 0s 2ms/step - loss: 1.3117 - accuracy: 0.5385 - sparse_categorical_crossentropy: 1.2913 - val_loss: 1.3763 - val_accuracy: 0.5030 - val_sparse_categorical_crossentropy: 1.3533\n",
      "Epoch 18/100\n",
      " 1/22 [>.............................] - ETA: 0s - loss: 1.2207 - accuracy: 0.5000 - sparse_categorical_crossentropy: 1.2083.\n",
      "Epoch 18: val_loss improved from 1.37630 to 1.34928, saving model to model_18-1.35.keras\n",
      "22/22 [==============================] - 0s 2ms/step - loss: 1.2717 - accuracy: 0.5562 - sparse_categorical_crossentropy: 1.2571 - val_loss: 1.3493 - val_accuracy: 0.5207 - val_sparse_categorical_crossentropy: 1.3239\n",
      "Epoch 19/100\n",
      " 1/22 [>.............................] - ETA: 0s - loss: 1.2293 - accuracy: 0.4688 - sparse_categorical_crossentropy: 1.2163.\n",
      "Epoch 19: val_loss improved from 1.34928 to 1.33467, saving model to model_19-1.33.keras\n",
      "22/22 [==============================] - 0s 2ms/step - loss: 1.2574 - accuracy: 0.5636 - sparse_categorical_crossentropy: 1.2331 - val_loss: 1.3347 - val_accuracy: 0.5148 - val_sparse_categorical_crossentropy: 1.3103\n",
      "Epoch 20/100\n",
      " 1/22 [>.............................] - ETA: 0s - loss: 1.1664 - accuracy: 0.5625 - sparse_categorical_crossentropy: 1.1528.\n",
      "Epoch 20: val_loss improved from 1.33467 to 1.31436, saving model to model_20-1.31.keras\n",
      "22/22 [==============================] - 0s 2ms/step - loss: 1.1911 - accuracy: 0.5754 - sparse_categorical_crossentropy: 1.1603 - val_loss: 1.3144 - val_accuracy: 0.5325 - val_sparse_categorical_crossentropy: 1.2915\n",
      "Epoch 21/100\n",
      " 1/22 [>.............................] - ETA: 0s - loss: 1.1111 - accuracy: 0.6562 - sparse_categorical_crossentropy: 1.0969.\n",
      "Epoch 21: val_loss improved from 1.31436 to 1.29610, saving model to model_21-1.30.keras\n",
      "22/22 [==============================] - 0s 2ms/step - loss: 1.1866 - accuracy: 0.5917 - sparse_categorical_crossentropy: 1.1732 - val_loss: 1.2961 - val_accuracy: 0.5562 - val_sparse_categorical_crossentropy: 1.2694\n",
      "Epoch 22/100\n",
      " 1/22 [>.............................] - ETA: 0s - loss: 1.1144 - accuracy: 0.7188 - sparse_categorical_crossentropy: 1.0996.\n",
      "Epoch 22: val_loss did not improve from 1.29610\n",
      "22/22 [==============================] - 0s 2ms/step - loss: 1.1961 - accuracy: 0.5769 - sparse_categorical_crossentropy: 1.1623 - val_loss: 1.2977 - val_accuracy: 0.5325 - val_sparse_categorical_crossentropy: 1.2700\n",
      "Epoch 23/100\n",
      " 1/22 [>.............................] - ETA: 0s - loss: 1.2279 - accuracy: 0.5000 - sparse_categorical_crossentropy: 1.2126.\n",
      "Epoch 23: val_loss improved from 1.29610 to 1.26484, saving model to model_23-1.26.keras\n",
      "22/22 [==============================] - 0s 2ms/step - loss: 1.1572 - accuracy: 0.5917 - sparse_categorical_crossentropy: 1.1227 - val_loss: 1.2648 - val_accuracy: 0.5740 - val_sparse_categorical_crossentropy: 1.2360\n",
      "Epoch 24/100\n",
      " 1/22 [>.............................] - ETA: 0s - loss: 1.0962 - accuracy: 0.5938 - sparse_categorical_crossentropy: 1.0803.\n",
      "Epoch 24: val_loss did not improve from 1.26484\n",
      "22/22 [==============================] - 0s 1ms/step - loss: 1.1232 - accuracy: 0.6036 - sparse_categorical_crossentropy: 1.1008 - val_loss: 1.2665 - val_accuracy: 0.5385 - val_sparse_categorical_crossentropy: 1.2403\n",
      "Epoch 25/100\n",
      " 1/22 [>.............................] - ETA: 0s - loss: 1.0748 - accuracy: 0.5625 - sparse_categorical_crossentropy: 1.0584.\n",
      "Epoch 25: val_loss improved from 1.26484 to 1.25910, saving model to model_25-1.26.keras\n",
      "22/22 [==============================] - 0s 2ms/step - loss: 1.0879 - accuracy: 0.6228 - sparse_categorical_crossentropy: 1.0517 - val_loss: 1.2591 - val_accuracy: 0.5503 - val_sparse_categorical_crossentropy: 1.2302\n",
      "Epoch 26/100\n",
      " 1/22 [>.............................] - ETA: 0s - loss: 0.9929 - accuracy: 0.5938 - sparse_categorical_crossentropy: 0.9760.\n",
      "Epoch 26: val_loss improved from 1.25910 to 1.24271, saving model to model_26-1.24.keras\n",
      "22/22 [==============================] - 0s 2ms/step - loss: 1.0585 - accuracy: 0.6154 - sparse_categorical_crossentropy: 1.0169 - val_loss: 1.2427 - val_accuracy: 0.5680 - val_sparse_categorical_crossentropy: 1.2161\n",
      "Epoch 27/100\n",
      " 1/22 [>.............................] - ETA: 0s - loss: 0.9383 - accuracy: 0.6875 - sparse_categorical_crossentropy: 0.9209.\n",
      "Epoch 27: val_loss improved from 1.24271 to 1.23810, saving model to model_27-1.24.keras\n",
      "22/22 [==============================] - 0s 2ms/step - loss: 1.0680 - accuracy: 0.6169 - sparse_categorical_crossentropy: 1.0408 - val_loss: 1.2381 - val_accuracy: 0.5917 - val_sparse_categorical_crossentropy: 1.2102\n",
      "Epoch 28/100\n",
      " 1/22 [>.............................] - ETA: 0s - loss: 1.1167 - accuracy: 0.6250 - sparse_categorical_crossentropy: 1.0988.\n",
      "Epoch 28: val_loss improved from 1.23810 to 1.23276, saving model to model_28-1.23.keras\n",
      "22/22 [==============================] - 0s 2ms/step - loss: 1.0470 - accuracy: 0.6479 - sparse_categorical_crossentropy: 1.0094 - val_loss: 1.2328 - val_accuracy: 0.5740 - val_sparse_categorical_crossentropy: 1.2052\n",
      "Epoch 29/100\n",
      " 1/22 [>.............................] - ETA: 0s - loss: 1.0631 - accuracy: 0.5938 - sparse_categorical_crossentropy: 1.0447.\n",
      "Epoch 29: val_loss improved from 1.23276 to 1.22795, saving model to model_29-1.23.keras\n",
      "22/22 [==============================] - 0s 2ms/step - loss: 1.0014 - accuracy: 0.6746 - sparse_categorical_crossentropy: 0.9787 - val_loss: 1.2279 - val_accuracy: 0.5799 - val_sparse_categorical_crossentropy: 1.2015\n",
      "Epoch 30/100\n",
      " 1/22 [>.............................] - ETA: 0s - loss: 0.8617 - accuracy: 0.7188 - sparse_categorical_crossentropy: 0.8429.\n",
      "Epoch 30: val_loss did not improve from 1.22795\n",
      "22/22 [==============================] - 0s 2ms/step - loss: 0.9990 - accuracy: 0.6583 - sparse_categorical_crossentropy: 0.9685 - val_loss: 1.2336 - val_accuracy: 0.5621 - val_sparse_categorical_crossentropy: 1.2036\n",
      "Epoch 31/100\n",
      " 1/22 [>.............................] - ETA: 0s - loss: 1.0061 - accuracy: 0.5938 - sparse_categorical_crossentropy: 0.9867.\n",
      "Epoch 31: val_loss improved from 1.22795 to 1.21833, saving model to model_31-1.22.keras\n",
      "22/22 [==============================] - 0s 2ms/step - loss: 0.9895 - accuracy: 0.6672 - sparse_categorical_crossentropy: 0.9578 - val_loss: 1.2183 - val_accuracy: 0.5858 - val_sparse_categorical_crossentropy: 1.1889\n",
      "Epoch 32/100\n",
      " 1/22 [>.............................] - ETA: 0s - loss: 0.9535 - accuracy: 0.6250 - sparse_categorical_crossentropy: 0.9337.\n",
      "Epoch 32: val_loss improved from 1.21833 to 1.21025, saving model to model_32-1.21.keras\n",
      "22/22 [==============================] - 0s 2ms/step - loss: 1.0060 - accuracy: 0.6405 - sparse_categorical_crossentropy: 0.9629 - val_loss: 1.2103 - val_accuracy: 0.6095 - val_sparse_categorical_crossentropy: 1.1850\n",
      "Epoch 33/100\n",
      " 1/22 [>.............................] - ETA: 0s - loss: 1.0404 - accuracy: 0.6250 - sparse_categorical_crossentropy: 1.0201.\n",
      "Epoch 33: val_loss improved from 1.21025 to 1.19953, saving model to model_33-1.20.keras\n",
      "22/22 [==============================] - 0s 2ms/step - loss: 0.9150 - accuracy: 0.7012 - sparse_categorical_crossentropy: 0.8766 - val_loss: 1.1995 - val_accuracy: 0.6036 - val_sparse_categorical_crossentropy: 1.1723\n",
      "Epoch 34/100\n",
      " 1/22 [>.............................] - ETA: 0s - loss: 1.0284 - accuracy: 0.5938 - sparse_categorical_crossentropy: 1.0077.\n",
      "Epoch 34: val_loss did not improve from 1.19953\n",
      "22/22 [==============================] - 0s 1ms/step - loss: 0.9483 - accuracy: 0.6672 - sparse_categorical_crossentropy: 0.9026 - val_loss: 1.1996 - val_accuracy: 0.5976 - val_sparse_categorical_crossentropy: 1.1769\n",
      "Epoch 35/100\n",
      " 1/22 [>.............................] - ETA: 0s - loss: 1.0435 - accuracy: 0.5938 - sparse_categorical_crossentropy: 1.0223.\n",
      "Epoch 35: val_loss improved from 1.19953 to 1.19731, saving model to model_35-1.20.keras\n",
      "22/22 [==============================] - 0s 2ms/step - loss: 0.9517 - accuracy: 0.6805 - sparse_categorical_crossentropy: 0.9197 - val_loss: 1.1973 - val_accuracy: 0.6154 - val_sparse_categorical_crossentropy: 1.1711\n",
      "Epoch 36/100\n",
      " 1/22 [>.............................] - ETA: 0s - loss: 0.9098 - accuracy: 0.6875 - sparse_categorical_crossentropy: 0.8883.\n",
      "Epoch 36: val_loss did not improve from 1.19731\n",
      "22/22 [==============================] - 0s 2ms/step - loss: 0.8718 - accuracy: 0.7115 - sparse_categorical_crossentropy: 0.8531 - val_loss: 1.2053 - val_accuracy: 0.5799 - val_sparse_categorical_crossentropy: 1.1865\n",
      "Epoch 37/100\n",
      " 1/22 [>.............................] - ETA: 0s - loss: 0.8974 - accuracy: 0.6250 - sparse_categorical_crossentropy: 0.8754.\n",
      "Epoch 37: val_loss did not improve from 1.19731\n",
      "22/22 [==============================] - 0s 1ms/step - loss: 0.8687 - accuracy: 0.6908 - sparse_categorical_crossentropy: 0.8227 - val_loss: 1.1989 - val_accuracy: 0.6036 - val_sparse_categorical_crossentropy: 1.1761\n",
      "Epoch 38/100\n",
      " 1/22 [>.............................] - ETA: 0s - loss: 1.0281 - accuracy: 0.5312 - sparse_categorical_crossentropy: 1.0057.\n",
      "Epoch 38: val_loss improved from 1.19731 to 1.18698, saving model to model_38-1.19.keras\n",
      "22/22 [==============================] - 0s 2ms/step - loss: 0.8770 - accuracy: 0.6997 - sparse_categorical_crossentropy: 0.8364 - val_loss: 1.1870 - val_accuracy: 0.6095 - val_sparse_categorical_crossentropy: 1.1583\n",
      "Epoch 39/100\n",
      " 1/22 [>.............................] - ETA: 0s - loss: 0.8886 - accuracy: 0.6875 - sparse_categorical_crossentropy: 0.8657.\n",
      "Epoch 39: val_loss did not improve from 1.18698\n",
      "22/22 [==============================] - 0s 2ms/step - loss: 0.9007 - accuracy: 0.6967 - sparse_categorical_crossentropy: 0.8594 - val_loss: 1.1947 - val_accuracy: 0.5976 - val_sparse_categorical_crossentropy: 1.1733\n",
      "Epoch 40/100\n",
      " 1/22 [>.............................] - ETA: 0s - loss: 0.8494 - accuracy: 0.6562 - sparse_categorical_crossentropy: 0.8261.\n",
      "Epoch 40: val_loss did not improve from 1.18698\n",
      "22/22 [==============================] - 0s 1ms/step - loss: 0.8463 - accuracy: 0.7249 - sparse_categorical_crossentropy: 0.8188 - val_loss: 1.1910 - val_accuracy: 0.6272 - val_sparse_categorical_crossentropy: 1.1682\n",
      "Epoch 41/100\n",
      " 1/22 [>.............................] - ETA: 0s - loss: 0.8727 - accuracy: 0.7500 - sparse_categorical_crossentropy: 0.8490.\n",
      "Epoch 41: val_loss did not improve from 1.18698\n",
      "22/22 [==============================] - 0s 1ms/step - loss: 0.8456 - accuracy: 0.7189 - sparse_categorical_crossentropy: 0.8070 - val_loss: 1.1956 - val_accuracy: 0.5976 - val_sparse_categorical_crossentropy: 1.1745\n",
      "Epoch 42/100\n",
      " 1/22 [>.............................] - ETA: 0s - loss: 0.7546 - accuracy: 0.8750 - sparse_categorical_crossentropy: 0.7305.\n",
      "Epoch 42: val_loss improved from 1.18698 to 1.18626, saving model to model_42-1.19.keras\n",
      "22/22 [==============================] - 0s 2ms/step - loss: 0.8286 - accuracy: 0.7263 - sparse_categorical_crossentropy: 0.7948 - val_loss: 1.1863 - val_accuracy: 0.6213 - val_sparse_categorical_crossentropy: 1.1707\n",
      "Epoch 43/100\n",
      " 1/22 [>.............................] - ETA: 0s - loss: 0.6772 - accuracy: 0.7500 - sparse_categorical_crossentropy: 0.6527.\n",
      "Epoch 43: val_loss improved from 1.18626 to 1.18461, saving model to model_43-1.18.keras\n",
      "22/22 [==============================] - 0s 2ms/step - loss: 0.8035 - accuracy: 0.7352 - sparse_categorical_crossentropy: 0.7640 - val_loss: 1.1846 - val_accuracy: 0.6036 - val_sparse_categorical_crossentropy: 1.1652\n",
      "Epoch 44/100\n",
      " 1/22 [>.............................] - ETA: 0s - loss: 0.8478 - accuracy: 0.6250 - sparse_categorical_crossentropy: 0.8229.\n",
      "Epoch 44: val_loss did not improve from 1.18461\n",
      "22/22 [==============================] - 0s 1ms/step - loss: 0.8156 - accuracy: 0.7278 - sparse_categorical_crossentropy: 0.7688 - val_loss: 1.1982 - val_accuracy: 0.6213 - val_sparse_categorical_crossentropy: 1.1874\n",
      "Epoch 45/100\n",
      " 1/22 [>.............................] - ETA: 0s - loss: 0.8403 - accuracy: 0.6875 - sparse_categorical_crossentropy: 0.8149.\n",
      "Epoch 45: val_loss did not improve from 1.18461\n",
      "22/22 [==============================] - 0s 1ms/step - loss: 0.7745 - accuracy: 0.7485 - sparse_categorical_crossentropy: 0.7238 - val_loss: 1.1858 - val_accuracy: 0.6154 - val_sparse_categorical_crossentropy: 1.1648\n",
      "Epoch 46/100\n",
      " 1/22 [>.............................] - ETA: 0s - loss: 0.6706 - accuracy: 0.7188 - sparse_categorical_crossentropy: 0.6449.\n",
      "Epoch 46: val_loss did not improve from 1.18461\n",
      "22/22 [==============================] - 0s 1ms/step - loss: 0.7916 - accuracy: 0.7175 - sparse_categorical_crossentropy: 0.7552 - val_loss: 1.1862 - val_accuracy: 0.6213 - val_sparse_categorical_crossentropy: 1.1633\n",
      "Epoch 47/100\n",
      " 1/22 [>.............................] - ETA: 0s - loss: 0.7991 - accuracy: 0.6875 - sparse_categorical_crossentropy: 0.7730.\n",
      "Epoch 47: val_loss did not improve from 1.18461\n",
      "22/22 [==============================] - 0s 1ms/step - loss: 0.7852 - accuracy: 0.7352 - sparse_categorical_crossentropy: 0.7418 - val_loss: 1.1985 - val_accuracy: 0.6095 - val_sparse_categorical_crossentropy: 1.1838\n",
      "Epoch 48/100\n",
      " 1/22 [>.............................] - ETA: 0s - loss: 0.6328 - accuracy: 0.7500 - sparse_categorical_crossentropy: 0.6063.\n",
      "Epoch 48: val_loss improved from 1.18461 to 1.17996, saving model to model_48-1.18.keras\n",
      "22/22 [==============================] - 0s 2ms/step - loss: 0.7596 - accuracy: 0.7441 - sparse_categorical_crossentropy: 0.7199 - val_loss: 1.1800 - val_accuracy: 0.6095 - val_sparse_categorical_crossentropy: 1.1563\n",
      "Epoch 49/100\n",
      " 1/22 [>.............................] - ETA: 0s - loss: 0.6796 - accuracy: 0.7500 - sparse_categorical_crossentropy: 0.6527.\n",
      "Epoch 49: val_loss did not improve from 1.17996\n",
      "22/22 [==============================] - 0s 1ms/step - loss: 0.7405 - accuracy: 0.7530 - sparse_categorical_crossentropy: 0.6904 - val_loss: 1.1970 - val_accuracy: 0.6213 - val_sparse_categorical_crossentropy: 1.1843\n",
      "Epoch 50/100\n",
      " 1/22 [>.............................] - ETA: 0s - loss: 0.5770 - accuracy: 0.8750 - sparse_categorical_crossentropy: 0.5497.\n",
      "Epoch 50: val_loss did not improve from 1.17996\n",
      "22/22 [==============================] - 0s 1ms/step - loss: 0.7214 - accuracy: 0.7707 - sparse_categorical_crossentropy: 0.6853 - val_loss: 1.1965 - val_accuracy: 0.6154 - val_sparse_categorical_crossentropy: 1.1800\n",
      "Epoch 51/100\n",
      " 1/22 [>.............................] - ETA: 0s - loss: 0.6773 - accuracy: 0.7500 - sparse_categorical_crossentropy: 0.6497.\n",
      "Epoch 51: val_loss did not improve from 1.17996\n",
      "22/22 [==============================] - 0s 1ms/step - loss: 0.7209 - accuracy: 0.7796 - sparse_categorical_crossentropy: 0.6784 - val_loss: 1.1849 - val_accuracy: 0.6036 - val_sparse_categorical_crossentropy: 1.1708\n",
      "Epoch 52/100\n",
      " 1/22 [>.............................] - ETA: 0s - loss: 0.7363 - accuracy: 0.7188 - sparse_categorical_crossentropy: 0.7083.\n",
      "Epoch 52: val_loss did not improve from 1.17996\n",
      "22/22 [==============================] - 0s 1ms/step - loss: 0.7218 - accuracy: 0.7648 - sparse_categorical_crossentropy: 0.6745 - val_loss: 1.1897 - val_accuracy: 0.6213 - val_sparse_categorical_crossentropy: 1.1733\n",
      "Epoch 53/100\n",
      " 1/22 [>.............................] - ETA: 0s - loss: 0.6400 - accuracy: 0.7812 - sparse_categorical_crossentropy: 0.6116.\n",
      "Epoch 53: val_loss did not improve from 1.17996\n",
      "22/22 [==============================] - 0s 1ms/step - loss: 0.6965 - accuracy: 0.7574 - sparse_categorical_crossentropy: 0.6613 - val_loss: 1.1940 - val_accuracy: 0.6272 - val_sparse_categorical_crossentropy: 1.1816\n",
      "Epoch 54/100\n",
      " 1/22 [>.............................] - ETA: 0s - loss: 0.6563 - accuracy: 0.8438 - sparse_categorical_crossentropy: 0.6276.\n",
      "Epoch 54: val_loss did not improve from 1.17996\n",
      "22/22 [==============================] - 0s 1ms/step - loss: 0.6902 - accuracy: 0.7781 - sparse_categorical_crossentropy: 0.6526 - val_loss: 1.1983 - val_accuracy: 0.6154 - val_sparse_categorical_crossentropy: 1.1835\n",
      "Epoch 55/100\n",
      " 1/22 [>.............................] - ETA: 0s - loss: 0.6473 - accuracy: 0.8125 - sparse_categorical_crossentropy: 0.6182.\n",
      "Epoch 55: val_loss did not improve from 1.17996\n",
      "22/22 [==============================] - 0s 1ms/step - loss: 0.6665 - accuracy: 0.7885 - sparse_categorical_crossentropy: 0.6184 - val_loss: 1.1999 - val_accuracy: 0.6154 - val_sparse_categorical_crossentropy: 1.1842\n",
      "Epoch 56/100\n",
      " 1/22 [>.............................] - ETA: 0s - loss: 0.5808 - accuracy: 0.8438 - sparse_categorical_crossentropy: 0.5513.\n",
      "Epoch 56: val_loss did not improve from 1.17996\n",
      "22/22 [==============================] - 0s 1ms/step - loss: 0.6703 - accuracy: 0.7899 - sparse_categorical_crossentropy: 0.6429 - val_loss: 1.2145 - val_accuracy: 0.6272 - val_sparse_categorical_crossentropy: 1.1981\n",
      "Epoch 57/100\n",
      " 1/22 [>.............................] - ETA: 0s - loss: 0.6026 - accuracy: 0.8125 - sparse_categorical_crossentropy: 0.5728.\n",
      "Epoch 57: val_loss did not improve from 1.17996\n",
      "22/22 [==============================] - 0s 1ms/step - loss: 0.6620 - accuracy: 0.7707 - sparse_categorical_crossentropy: 0.6118 - val_loss: 1.1966 - val_accuracy: 0.6095 - val_sparse_categorical_crossentropy: 1.1814\n",
      "Epoch 58/100\n",
      " 1/22 [>.............................] - ETA: 0s - loss: 0.7085 - accuracy: 0.7188 - sparse_categorical_crossentropy: 0.6784.\n",
      "Epoch 58: val_loss did not improve from 1.17996\n",
      "22/22 [==============================] - 0s 1ms/step - loss: 0.6622 - accuracy: 0.7840 - sparse_categorical_crossentropy: 0.6161 - val_loss: 1.2162 - val_accuracy: 0.6154 - val_sparse_categorical_crossentropy: 1.2050\n",
      "Epoch 59/100\n",
      " 1/22 [>.............................] - ETA: 0s - loss: 0.6377 - accuracy: 0.7812 - sparse_categorical_crossentropy: 0.6072.\n",
      "Epoch 59: val_loss did not improve from 1.17996\n",
      "22/22 [==============================] - 0s 2ms/step - loss: 0.6362 - accuracy: 0.8077 - sparse_categorical_crossentropy: 0.5981 - val_loss: 1.2208 - val_accuracy: 0.6095 - val_sparse_categorical_crossentropy: 1.2138\n",
      "Epoch 60/100\n",
      " 1/22 [>.............................] - ETA: 0s - loss: 0.6790 - accuracy: 0.7812 - sparse_categorical_crossentropy: 0.6482.\n",
      "Epoch 60: val_loss did not improve from 1.17996\n",
      "22/22 [==============================] - 0s 1ms/step - loss: 0.6359 - accuracy: 0.7959 - sparse_categorical_crossentropy: 0.5864 - val_loss: 1.2307 - val_accuracy: 0.6095 - val_sparse_categorical_crossentropy: 1.2249\n",
      "Epoch 61/100\n",
      " 1/22 [>.............................] - ETA: 0s - loss: 0.6526 - accuracy: 0.8125 - sparse_categorical_crossentropy: 0.6215.\n",
      "Epoch 61: val_loss did not improve from 1.17996\n",
      "22/22 [==============================] - 0s 1ms/step - loss: 0.6243 - accuracy: 0.7929 - sparse_categorical_crossentropy: 0.5730 - val_loss: 1.2179 - val_accuracy: 0.6036 - val_sparse_categorical_crossentropy: 1.2106\n",
      "Epoch 62/100\n",
      " 1/22 [>.............................] - ETA: 0s - loss: 0.5134 - accuracy: 0.8750 - sparse_categorical_crossentropy: 0.4819.\n",
      "Epoch 62: val_loss did not improve from 1.17996\n",
      "22/22 [==============================] - 0s 1ms/step - loss: 0.6142 - accuracy: 0.7988 - sparse_categorical_crossentropy: 0.5655 - val_loss: 1.2192 - val_accuracy: 0.5976 - val_sparse_categorical_crossentropy: 1.2111\n",
      "Epoch 63/100\n",
      " 1/22 [>.............................] - ETA: 0s - loss: 0.5333 - accuracy: 0.8750 - sparse_categorical_crossentropy: 0.5014.\n",
      "Epoch 63: val_loss did not improve from 1.17996\n",
      "22/22 [==============================] - 0s 1ms/step - loss: 0.6162 - accuracy: 0.8107 - sparse_categorical_crossentropy: 0.5844 - val_loss: 1.2332 - val_accuracy: 0.6095 - val_sparse_categorical_crossentropy: 1.2267\n",
      "Epoch 64/100\n",
      " 1/22 [>.............................] - ETA: 0s - loss: 0.6354 - accuracy: 0.7500 - sparse_categorical_crossentropy: 0.6033.\n",
      "Epoch 64: val_loss did not improve from 1.17996\n",
      "22/22 [==============================] - 0s 2ms/step - loss: 0.6282 - accuracy: 0.8003 - sparse_categorical_crossentropy: 0.5863 - val_loss: 1.2138 - val_accuracy: 0.6095 - val_sparse_categorical_crossentropy: 1.1984\n",
      "Epoch 65/100\n",
      " 1/22 [>.............................] - ETA: 0s - loss: 0.6708 - accuracy: 0.8125 - sparse_categorical_crossentropy: 0.6383.\n",
      "Epoch 65: val_loss did not improve from 1.17996\n",
      "22/22 [==============================] - 0s 2ms/step - loss: 0.6054 - accuracy: 0.8225 - sparse_categorical_crossentropy: 0.5695 - val_loss: 1.2233 - val_accuracy: 0.6154 - val_sparse_categorical_crossentropy: 1.2032\n",
      "Epoch 66/100\n",
      " 1/22 [>.............................] - ETA: 0s - loss: 0.7146 - accuracy: 0.7500 - sparse_categorical_crossentropy: 0.6818.\n",
      "Epoch 66: val_loss did not improve from 1.17996\n",
      "22/22 [==============================] - 0s 1ms/step - loss: 0.6079 - accuracy: 0.8121 - sparse_categorical_crossentropy: 0.5639 - val_loss: 1.2433 - val_accuracy: 0.5976 - val_sparse_categorical_crossentropy: 1.2364\n",
      "Epoch 67/100\n",
      " 1/22 [>.............................] - ETA: 0s - loss: 0.6063 - accuracy: 0.8125 - sparse_categorical_crossentropy: 0.5731.\n",
      "Epoch 67: val_loss did not improve from 1.17996\n",
      "22/22 [==============================] - 0s 1ms/step - loss: 0.5755 - accuracy: 0.8314 - sparse_categorical_crossentropy: 0.5258 - val_loss: 1.2293 - val_accuracy: 0.6036 - val_sparse_categorical_crossentropy: 1.2135\n",
      "Epoch 68/100\n",
      " 1/22 [>.............................] - ETA: 0s - loss: 0.6843 - accuracy: 0.8438 - sparse_categorical_crossentropy: 0.6508.\n",
      "Epoch 68: val_loss did not improve from 1.17996\n",
      "22/22 [==============================] - 0s 2ms/step - loss: 0.6024 - accuracy: 0.8166 - sparse_categorical_crossentropy: 0.5536 - val_loss: 1.2336 - val_accuracy: 0.6272 - val_sparse_categorical_crossentropy: 1.2181\n",
      "Epoch 69/100\n",
      " 1/22 [>.............................] - ETA: 0s - loss: 0.4883 - accuracy: 0.8438 - sparse_categorical_crossentropy: 0.4545.\n",
      "Epoch 69: val_loss did not improve from 1.17996\n",
      "22/22 [==============================] - 0s 1ms/step - loss: 0.5611 - accuracy: 0.8373 - sparse_categorical_crossentropy: 0.5263 - val_loss: 1.2502 - val_accuracy: 0.6095 - val_sparse_categorical_crossentropy: 1.2453\n",
      "Epoch 70/100\n",
      " 1/22 [>.............................] - ETA: 0s - loss: 0.6276 - accuracy: 0.7500 - sparse_categorical_crossentropy: 0.5935.\n",
      "Epoch 70: val_loss did not improve from 1.17996\n",
      "22/22 [==============================] - 0s 1ms/step - loss: 0.5263 - accuracy: 0.8402 - sparse_categorical_crossentropy: 0.4794 - val_loss: 1.2499 - val_accuracy: 0.6154 - val_sparse_categorical_crossentropy: 1.2402\n",
      "Epoch 71/100\n",
      " 1/22 [>.............................] - ETA: 0s - loss: 0.5546 - accuracy: 0.8438 - sparse_categorical_crossentropy: 0.5201.\n",
      "Epoch 71: val_loss did not improve from 1.17996\n",
      "22/22 [==============================] - 0s 2ms/step - loss: 0.5673 - accuracy: 0.8225 - sparse_categorical_crossentropy: 0.5198 - val_loss: 1.2649 - val_accuracy: 0.6036 - val_sparse_categorical_crossentropy: 1.2662\n",
      "Epoch 72/100\n",
      " 1/22 [>.............................] - ETA: 0s - loss: 0.5593 - accuracy: 0.7812 - sparse_categorical_crossentropy: 0.5246.\n",
      "Epoch 72: val_loss did not improve from 1.17996\n",
      "22/22 [==============================] - 0s 2ms/step - loss: 0.5307 - accuracy: 0.8343 - sparse_categorical_crossentropy: 0.4854 - val_loss: 1.2497 - val_accuracy: 0.5976 - val_sparse_categorical_crossentropy: 1.2427\n",
      "Epoch 73/100\n",
      " 1/22 [>.............................] - ETA: 0s - loss: 0.5292 - accuracy: 0.8750 - sparse_categorical_crossentropy: 0.4941.\n",
      "Epoch 73: val_loss did not improve from 1.17996\n",
      "22/22 [==============================] - 0s 2ms/step - loss: 0.5519 - accuracy: 0.8136 - sparse_categorical_crossentropy: 0.4991 - val_loss: 1.2738 - val_accuracy: 0.6272 - val_sparse_categorical_crossentropy: 1.2651\n",
      "Epoch 74/100\n",
      " 1/22 [>.............................] - ETA: 0s - loss: 0.5381 - accuracy: 0.8750 - sparse_categorical_crossentropy: 0.5027.\n",
      "Epoch 74: val_loss did not improve from 1.17996\n",
      "22/22 [==============================] - 0s 2ms/step - loss: 0.5262 - accuracy: 0.8343 - sparse_categorical_crossentropy: 0.4728 - val_loss: 1.2546 - val_accuracy: 0.6036 - val_sparse_categorical_crossentropy: 1.2401\n",
      "Epoch 75/100\n",
      " 1/22 [>.............................] - ETA: 0s - loss: 0.5450 - accuracy: 0.8125 - sparse_categorical_crossentropy: 0.5093.\n",
      "Epoch 75: val_loss did not improve from 1.17996\n",
      "22/22 [==============================] - 0s 2ms/step - loss: 0.4891 - accuracy: 0.8595 - sparse_categorical_crossentropy: 0.4529 - val_loss: 1.2605 - val_accuracy: 0.6213 - val_sparse_categorical_crossentropy: 1.2370\n",
      "Epoch 76/100\n",
      " 1/22 [>.............................] - ETA: 0s - loss: 0.5324 - accuracy: 0.8125 - sparse_categorical_crossentropy: 0.4964.\n",
      "Epoch 76: val_loss did not improve from 1.17996\n",
      "22/22 [==============================] - 0s 2ms/step - loss: 0.5183 - accuracy: 0.8491 - sparse_categorical_crossentropy: 0.4753 - val_loss: 1.2783 - val_accuracy: 0.6154 - val_sparse_categorical_crossentropy: 1.2702\n",
      "Epoch 77/100\n",
      " 1/22 [>.............................] - ETA: 0s - loss: 0.5755 - accuracy: 0.8750 - sparse_categorical_crossentropy: 0.5392.\n",
      "Epoch 77: val_loss did not improve from 1.17996\n",
      "22/22 [==============================] - 0s 1ms/step - loss: 0.5271 - accuracy: 0.8432 - sparse_categorical_crossentropy: 0.4817 - val_loss: 1.2731 - val_accuracy: 0.6095 - val_sparse_categorical_crossentropy: 1.2670\n",
      "Epoch 78/100\n",
      " 1/22 [>.............................] - ETA: 0s - loss: 0.5754 - accuracy: 0.9062 - sparse_categorical_crossentropy: 0.5388.\n",
      "Epoch 78: val_loss did not improve from 1.17996\n",
      "22/22 [==============================] - 0s 2ms/step - loss: 0.4837 - accuracy: 0.8609 - sparse_categorical_crossentropy: 0.4393 - val_loss: 1.3026 - val_accuracy: 0.6272 - val_sparse_categorical_crossentropy: 1.2983\n"
     ]
    }
   ],
   "source": [
    "history = model.fit(train_ds, epochs=100, validation_data=val_ds, callbacks=CALLBACKS)"
   ],
   "metadata": {
    "collapsed": false,
    "ExecuteTime": {
     "end_time": "2024-02-24T14:49:34.916989800Z",
     "start_time": "2024-02-24T14:49:30.727052700Z"
    }
   },
   "id": "18398cf390d74222",
   "execution_count": 17
  },
  {
   "cell_type": "code",
   "outputs": [
    {
     "name": "stdout",
     "output_type": "stream",
     "text": [
      "Best epoch: 48\n"
     ]
    }
   ],
   "source": [
    "# Print the best epoch\n",
    "print(f\"Best epoch: {np.argmin(history.history['val_loss']) + 1}\")"
   ],
   "metadata": {
    "collapsed": false,
    "ExecuteTime": {
     "end_time": "2024-02-24T14:49:34.920845900Z",
     "start_time": "2024-02-24T14:49:34.914844200Z"
    }
   },
   "id": "9e94b94dac4e6eeb",
   "execution_count": 18
  },
  {
   "cell_type": "markdown",
   "source": [
    "Now using tfdocs.plots.HistoryPlotter, we can visualize the training and validation loss and accuracy."
   ],
   "metadata": {
    "collapsed": false
   },
   "id": "fc642328f72f6966"
  },
  {
   "cell_type": "code",
   "outputs": [
    {
     "data": {
      "text/plain": "<Figure size 640x480 with 1 Axes>",
      "image/png": "[encoded data removed]"
     },
     "metadata": {},
     "output_type": "display_data"
    }
   ],
   "source": [
    "size_histories = {}\n",
    "size_histories['Baseline'] = history\n",
    "plotter = tfdocs.plots.HistoryPlotter(metric='sparse_categorical_crossentropy', smoothing_std=10)\n",
    "plotter.plot(size_histories)"
   ],
   "metadata": {
    "collapsed": false,
    "ExecuteTime": {
     "end_time": "2024-02-24T14:49:35.032467600Z",
     "start_time": "2024-02-24T14:49:34.917845100Z"
    }
   },
   "id": "a7a2ea0769fdc279",
   "execution_count": 19
  },
  {
   "cell_type": "markdown",
   "source": [
    "Let's also plot the training and validation accuracy values, to see how the model performs throughout the epochs."
   ],
   "metadata": {
    "collapsed": false
   },
   "id": "3e826876952f5fb0"
  },
  {
   "cell_type": "code",
   "outputs": [
    {
     "data": {
      "text/plain": "<matplotlib.legend.Legend at 0x1b63017f3d0>"
     },
     "execution_count": 20,
     "metadata": {},
     "output_type": "execute_result"
    },
    {
     "data": {
      "text/plain": "<Figure size 1400x500 with 1 Axes>",
      "image/png": "[encoded data removed]"
     },
     "metadata": {},
     "output_type": "display_data"
    }
   ],
   "source": [
    "# Plot training & validation accuracy values\n",
    "history_data = history.history\n",
    "\n",
    "epochs = range(1, len(history_data['accuracy']) + 1)\n",
    "\n",
    "plt.figure(figsize=(14, 5))\n",
    "\n",
    "plt.subplot(1, 2, 1)\n",
    "plt.plot(epochs, history_data['accuracy'], label='Training Accuracy')\n",
    "plt.plot(epochs, history_data['val_accuracy'], label='Validation Accuracy')\n",
    "plt.title('Training and Validation Accuracy')\n",
    "plt.xlabel('Epochs')\n",
    "plt.ylabel('Accuracy')\n",
    "plt.legend()"
   ],
   "metadata": {
    "collapsed": false,
    "ExecuteTime": {
     "end_time": "2024-02-24T14:49:35.129802700Z",
     "start_time": "2024-02-24T14:49:35.028467Z"
    }
   },
   "id": "2ef73d4bcd5566df",
   "execution_count": 20
  },
  {
   "cell_type": "markdown",
   "source": [
    "We can see that the model the validation loss becomes stagnant after about 40 epochs.\n",
    "\n",
    "Let's now evaluate the model on the test dataset."
   ],
   "metadata": {
    "collapsed": false
   },
   "id": "a97fe8c00c1e28e0"
  },
  {
   "cell_type": "code",
   "outputs": [
    {
     "name": "stdout",
     "output_type": "stream",
     "text": [
      "7/7 [==============================] - 0s 1ms/step - loss: 1.0647 - accuracy: 0.6840 - sparse_categorical_crossentropy: 1.0440\n"
     ]
    },
    {
     "data": {
      "text/plain": "[1.0646954774856567, 0.6839622855186462, 1.0439884662628174]"
     },
     "execution_count": 32,
     "metadata": {},
     "output_type": "execute_result"
    }
   ],
   "source": [
    "model.evaluate(test_ds, verbose=1, batch_size=BATCH_SIZE)"
   ],
   "metadata": {
    "collapsed": false,
    "ExecuteTime": {
     "end_time": "2024-02-24T10:53:53.810373100Z",
     "start_time": "2024-02-24T10:53:53.783897Z"
    }
   },
   "id": "d52c2208aed74b8b",
   "execution_count": 32
  },
  {
   "cell_type": "markdown",
   "source": [
    "Let's also generate a classification report for the model along with the confusion matrix."
   ],
   "metadata": {
    "collapsed": false
   },
   "id": "bb4f229959c3287d"
  },
  {
   "cell_type": "code",
   "outputs": [
    {
     "name": "stdout",
     "output_type": "stream",
     "text": [
      "7/7 [==============================] - 0s 833us/step\n",
      "              precision    recall  f1-score   support\n",
      "\n",
      "           0       0.64      0.65      0.64        43\n",
      "           1       0.73      0.71      0.72        31\n",
      "           2       0.85      0.68      0.75        34\n",
      "           3       0.52      0.62      0.56        26\n",
      "           4       0.57      0.63      0.60        27\n",
      "           5       0.78      0.76      0.77        51\n",
      "\n",
      "    accuracy                           0.68       212\n",
      "   macro avg       0.68      0.67      0.67       212\n",
      "weighted avg       0.70      0.68      0.69       212\n",
      "\n",
      "[[28  0  2  6  2  5]\n",
      " [ 2 22  1  1  3  2]\n",
      " [ 3  4 23  2  1  1]\n",
      " [ 5  1  0 16  3  1]\n",
      " [ 2  1  0  5 17  2]\n",
      " [ 4  2  1  1  4 39]]\n"
     ]
    }
   ],
   "source": [
    "y_pred = model.predict(test_ds)\n",
    "y_pred = np.argmax(y_pred, axis=1)\n",
    "\n",
    "print(classification_report(y_test, y_pred))\n",
    "print(metrics.confusion_matrix(y_test, y_pred))"
   ],
   "metadata": {
    "collapsed": false,
    "ExecuteTime": {
     "end_time": "2024-02-24T10:53:57.591156400Z",
     "start_time": "2024-02-24T10:53:57.526120700Z"
    }
   },
   "id": "73a947990a3f8705",
   "execution_count": 33
  },
  {
   "cell_type": "markdown",
   "source": [
    "We can see that the model has an accuracy of 0.68, which is not bad considering the small dataset we have.\n",
    "\n",
    "However, we can see that the model is overfitting the training data, as the validation loss becomes higher than the training loss quickly,\n",
    "which makes sense given the small dataset we have.\n",
    "\n",
    "Ironically, the simpler models such as SVM and SGD outperformed the neural network model."
   ],
   "metadata": {
    "collapsed": false
   },
   "id": "6ab41048404b3e7b"
  },
  {
   "cell_type": "markdown",
   "source": [
    "### Two-Level Classification\n",
    "\n",
    "As we saw from before, we got the best results using the SGD Classifier.\n",
    "\n",
    "Let's now try to perform a two-level classification, where we first classify the class of the word and then classify the division/section of the word based on the class it belongs to.\n",
    "\n",
    "Firstly, we will create a new column in the dataframe named division/section, \n",
    "where it has as value the division if the division is not 4 (meaning `N/A` in our case),\n",
    " otherwise it has the value of the section.\n",
    "\n",
    "Then we will split the data into training and testing sets, using 80% of the data for training and 20% for testing."
   ],
   "metadata": {
    "collapsed": false
   },
   "id": "7cece51585462464"
  },
  {
   "cell_type": "code",
   "outputs": [],
   "source": [
    "# For the cls_df dataframe create a new column named division/section where it has as value the division if the division is not 4, otherwise it has the value of the section\n",
    "cls_df['division/section'] = cls_df['division']\n",
    "\n",
    "# 4 Means No Division and this is evident if we take a look at the dataset\n",
    "cls_df.loc[cls_df['division'] == 4, 'division/section'] = cls_df['section']"
   ],
   "metadata": {
    "collapsed": false,
    "ExecuteTime": {
     "end_time": "2024-02-24T13:34:14.808145500Z",
     "start_time": "2024-02-24T13:34:14.792206100Z"
    }
   },
   "id": "a7f158c0df67a4a0",
   "execution_count": 21
  },
  {
   "cell_type": "markdown",
   "source": [
    "Now let's split the data into training and testing sets, using 80% of the data for training and 20% for testing."
   ],
   "metadata": {
    "collapsed": false
   },
   "id": "2411460d85eb8e55"
  },
  {
   "cell_type": "code",
   "outputs": [],
   "source": [
    "# Get class and division/section\n",
    "y = cls_df[['class', 'division/section']]\n",
    "X_train, X_test, y_train, y_test = train_test_split(X, y, test_size=0.2, random_state=11234)"
   ],
   "metadata": {
    "collapsed": false,
    "ExecuteTime": {
     "end_time": "2024-02-24T13:34:15.047855600Z",
     "start_time": "2024-02-24T13:34:15.040314500Z"
    }
   },
   "id": "85fde21674eaec17",
   "execution_count": 22
  },
  {
   "cell_type": "markdown",
   "source": [
    "Having done that we can now approach the two-level classification using the SGD Classifier as before, but this\n",
    "time we will use the `MultiOutputClassifier` from sklearn to perform the multi-output classification.\n",
    "This will allow us to train a single model to predict multiple target variables, in our case the class and the division/section it belongs to.\n",
    "However, there is a drawback to this approach, because at present, no metric in sklearn.metrics supports the multiclass-multioutput classification task.\n",
    "This means that we will have to create our own custom accuracy metric for the multi-output classification."
   ],
   "metadata": {
    "collapsed": false
   },
   "id": "25d67e79115b7dd8"
  },
  {
   "cell_type": "code",
   "outputs": [
    {
     "name": "stdout",
     "output_type": "stream",
     "text": [
      "Multi-output Accuracy: 0.5377358490566038\n"
     ]
    }
   ],
   "source": [
    "# Create a multi-output classifier\n",
    "multi_output_model = MultiOutputClassifier(\n",
    "    sgd_model, n_jobs=-1)\n",
    "\n",
    "# Train the multi-output classifier\n",
    "multi_output_model.fit(X_train, y_train)\n",
    "\n",
    "# Generate classification report\n",
    "y_pred = multi_output_model.predict(X_test)\n",
    "\n",
    "# Custom accuracy for multi-output\n",
    "def multioutput_accuracy(y_true, y_pred):\n",
    "    correct = np.all(y_true == y_pred, axis=1)\n",
    "    return np.mean(correct)\n",
    "\n",
    "accuracy = multioutput_accuracy(y_test, y_pred)\n",
    "print(f\"Multi-output Accuracy: {accuracy}\")"
   ],
   "metadata": {
    "collapsed": false,
    "ExecuteTime": {
     "end_time": "2024-02-24T13:34:18.119601500Z",
     "start_time": "2024-02-24T13:34:15.590134400Z"
    }
   },
   "id": "79b2a49fecb749be",
   "execution_count": 23
  },
  {
   "cell_type": "markdown",
   "source": [
    "We can see that the multi-output accuracy is 0.538 which is not bad considering the small dataset we have,\n",
    "however, it is not as good as the single-output classification we performed earlier.\n",
    "Also, the custom accuracy metric we created may not be the best way to evaluate the multi-output classification.\n",
    "\n",
    "For that reason, let's also look at the accuracy of each target separately."
   ],
   "metadata": {
    "collapsed": false
   },
   "id": "7326f9175f93ceb"
  },
  {
   "cell_type": "code",
   "outputs": [
    {
     "name": "stdout",
     "output_type": "stream",
     "text": [
      "Target 0 accuracy: 0.7169811320754716\n",
      "Target 1 accuracy: 0.589622641509434\n"
     ]
    }
   ],
   "source": [
    "for i in range(y_test.shape[1]):\n",
    "    # Use .iloc to select all rows and the ith column for both Y_test and predictions\n",
    "    accuracy = metrics.accuracy_score(y_test.iloc[:, i], y_pred[:, i])\n",
    "    print(f\"Target {i} accuracy: {accuracy}\")"
   ],
   "metadata": {
    "collapsed": false,
    "ExecuteTime": {
     "end_time": "2024-02-24T13:35:39.651822300Z",
     "start_time": "2024-02-24T13:35:39.629788900Z"
    }
   },
   "id": "aad02505956f90b5",
   "execution_count": 26
  },
  {
   "cell_type": "markdown",
   "source": [
    "We can see that the accuracy of the first target (class) is around 0.716, which is the same as the single-output classification we performed earlier,\n",
    "however, the accuracy of the second target (division/section) is around 0.589, which is not as good as the single-output classification we performed earlier."
   ],
   "metadata": {
    "collapsed": false
   },
   "id": "f28f8346f842146b"
  }
 ],
 "metadata": {
  "kernelspec": {
   "display_name": "Python 3",
   "language": "python",
   "name": "python3"
  },
  "language_info": {
   "codemirror_mode": {
    "name": "ipython",
    "version": 2
   },
   "file_extension": ".py",
   "mimetype": "text/x-python",
   "name": "python",
   "nbconvert_exporter": "python",
   "pygments_lexer": "ipython2",
   "version": "2.7.6"
  }
 },
 "nbformat": 4,
 "nbformat_minor": 5
}
