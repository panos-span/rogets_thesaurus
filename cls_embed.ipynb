{
 "cells": [
  {
   "cell_type": "markdown",
   "source": [
    "## Classification"
   ],
   "metadata": {
    "collapsed": false
   },
   "id": "394fd2a47b379d55"
  },
  {
   "cell_type": "markdown",
   "source": [
    "### Before we start\n",
    "\n",
    "We first need to go over the dependencies needed for this notebook to function properly."
   ],
   "metadata": {
    "collapsed": false
   },
   "id": "173a52054227e2f2"
  },
  {
   "cell_type": "markdown",
   "source": [
    "We will use the following libraries:\n",
    "\n",
    "- `pandas` for data manipulation\n",
    "- `numpy` for numerical operations\n",
    "- `matplotlib` for visualization\n",
    "---\n",
    "- `json` for JSON manipulation\n",
    "---\n",
    "- `sklearn` for the Machine Learning algorithms, metrics and useful visualization tools such as t-SNE\n",
    "- `optuna` for hyperparameter tuning\n",
    "- `tensorflow` for the neural network model\n",
    "- `keras` for the neural network model\n",
    "- `tensorflow_docs` for the visualization tools used in the neural network model\n",
    "- `catboost` for the CatBoost model\n",
    "---\n",
    "- `chromadb` to retrieve the embeddings to a vector database"
   ],
   "metadata": {
    "collapsed": false
   },
   "id": "ed0bdb4629e22923"
  },
  {
   "cell_type": "code",
   "outputs": [
    {
     "name": "stdout",
     "output_type": "stream",
     "text": [
      "WARNING:tensorflow:From C:\\Users\\panagiotis\\AppData\\Local\\Programs\\Python\\Python311\\Lib\\site-packages\\keras\\src\\losses.py:2976: The name tf.losses.sparse_softmax_cross_entropy is deprecated. Please use tf.compat.v1.losses.sparse_softmax_cross_entropy instead.\n"
     ]
    }
   ],
   "source": [
    "import chromadb\n",
    "import pandas as pd\n",
    "import numpy as np\n",
    "import matplotlib.pyplot as plt\n",
    "import json\n",
    "from sklearn.model_selection import train_test_split\n",
    "from sklearn.model_selection import cross_val_score\n",
    "from sklearn import metrics\n",
    "import optuna\n",
    "from sklearn.linear_model import LogisticRegression\n",
    "from sklearn.svm import SVC\n",
    "from sklearn.linear_model import SGDClassifier\n",
    "from sklearn.naive_bayes import GaussianNB\n",
    "from sklearn.ensemble import RandomForestClassifier\n",
    "from sklearn.metrics import classification_report\n",
    "import catboost as cb\n",
    "import tensorflow as tf\n",
    "from tensorflow.keras import layers\n",
    "import keras\n",
    "from keras import regularizers\n",
    "import tensorflow_docs as tfdocs\n",
    "import tensorflow_docs.modeling\n",
    "import tensorflow_docs.plots\n",
    "from sklearn.multioutput import MultiOutputClassifier"
   ],
   "metadata": {
    "collapsed": false,
    "ExecuteTime": {
     "end_time": "2024-02-24T13:49:58.282850100Z",
     "start_time": "2024-02-24T13:49:43.808159400Z"
    }
   },
   "id": "fa234cafe136d166",
   "execution_count": 1
  },
  {
   "cell_type": "markdown",
   "source": [
    "\n",
    "Let's now retrieve the classification embeddings from the chromadb vector database and perform classification on them."
   ],
   "metadata": {
    "collapsed": false
   },
   "id": "eb007503dc588dee"
  },
  {
   "cell_type": "code",
   "outputs": [],
   "source": [
    "client = chromadb.PersistentClient(path=\"./chroma_db\")\n",
    "collection = client.get_collection(\"nomic_classification_v1\")"
   ],
   "metadata": {
    "collapsed": true,
    "ExecuteTime": {
     "end_time": "2024-02-24T13:49:58.387823500Z",
     "start_time": "2024-02-24T13:49:58.283849500Z"
    }
   },
   "id": "initial_id",
   "execution_count": 2
  },
  {
   "cell_type": "markdown",
   "source": [
    "Now let us get the words along with their classes and division and sections from the json file we created earlier."
   ],
   "metadata": {
    "collapsed": false
   },
   "id": "84452ecc48ce9511"
  },
  {
   "cell_type": "code",
   "outputs": [],
   "source": [
    "with open(\"hierarchy.json\", \"r\") as f:\n",
    "    categories = json.load(f)"
   ],
   "metadata": {
    "collapsed": false,
    "ExecuteTime": {
     "end_time": "2024-02-24T13:49:58.390937200Z",
     "start_time": "2024-02-24T13:49:58.387823500Z"
    }
   },
   "id": "6185d3b32070a313",
   "execution_count": 3
  },
  {
   "cell_type": "markdown",
   "source": [
    "Let's retrieve the embeddings and the words along with the class, division, and section from the chromadb and create a dataframe with them."
   ],
   "metadata": {
    "collapsed": false
   },
   "id": "11d5ef59ed70ec91"
  },
  {
   "cell_type": "code",
   "outputs": [
    {
     "data": {
      "text/plain": "                   word                                          embedding  \\\n0             Existence  [-0.029754638671875, -0.0263671875, -0.0127792...   \n1           Inexistence  [-0.01029205322265625, 0.019256591796875, -0.0...   \n2         Consanguinity  [0.0386962890625, -0.01026153564453125, -0.013...   \n3            Trisection  [0.007350921630859375, -0.001903533935546875, ...   \n4             Innocence  [0.0338134765625, 0.0139923095703125, -0.03097...   \n...                 ...                                                ...   \n1052              Knave  [0.0032215118408203125, 0.01201629638671875, -...   \n1053  Disinterestedness  [-0.01776123046875, 0.020965576171875, -0.0221...   \n1054        Selfishness  [0.01071929931640625, 0.049468994140625, -0.03...   \n1055             Virtue  [0.0201416015625, 0.006626129150390625, -0.035...   \n1056               Vice  [0.0035228729248046875, -0.028533935546875, -0...   \n\n                                                class division  \\\n0                 WORDS EXPRESSING ABSTRACT RELATIONS      N/A   \n1                 WORDS EXPRESSING ABSTRACT RELATIONS      N/A   \n2                 WORDS EXPRESSING ABSTRACT RELATIONS      N/A   \n3                 WORDS EXPRESSING ABSTRACT RELATIONS      N/A   \n4     WORDS RELATING TO THE SENTIENT AND MORAL POWERS      N/A   \n...                                               ...      ...   \n1052  WORDS RELATING TO THE SENTIENT AND MORAL POWERS      N/A   \n1053  WORDS RELATING TO THE SENTIENT AND MORAL POWERS      N/A   \n1054  WORDS RELATING TO THE SENTIENT AND MORAL POWERS      N/A   \n1055  WORDS RELATING TO THE SENTIENT AND MORAL POWERS      N/A   \n1056  WORDS RELATING TO THE SENTIENT AND MORAL POWERS      N/A   \n\n               section  \n0            EXISTENCE  \n1            EXISTENCE  \n2             RELATION  \n3               NUMBER  \n4     MORAL AFFECTIONS  \n...                ...  \n1052  MORAL AFFECTIONS  \n1053  MORAL AFFECTIONS  \n1054  MORAL AFFECTIONS  \n1055  MORAL AFFECTIONS  \n1056  MORAL AFFECTIONS  \n\n[1057 rows x 5 columns]",
      "text/html": "<div>\n<style scoped>\n    .dataframe tbody tr th:only-of-type {\n        vertical-align: middle;\n    }\n\n    .dataframe tbody tr th {\n        vertical-align: top;\n    }\n\n    .dataframe thead th {\n        text-align: right;\n    }\n</style>\n<table border=\"1\" class=\"dataframe\">\n  <thead>\n    <tr style=\"text-align: right;\">\n      <th></th>\n      <th>word</th>\n      <th>embedding</th>\n      <th>class</th>\n      <th>division</th>\n      <th>section</th>\n    </tr>\n  </thead>\n  <tbody>\n    <tr>\n      <th>0</th>\n      <td>Existence</td>\n      <td>[-0.029754638671875, -0.0263671875, -0.0127792...</td>\n      <td>WORDS EXPRESSING ABSTRACT RELATIONS</td>\n      <td>N/A</td>\n      <td>EXISTENCE</td>\n    </tr>\n    <tr>\n      <th>1</th>\n      <td>Inexistence</td>\n      <td>[-0.01029205322265625, 0.019256591796875, -0.0...</td>\n      <td>WORDS EXPRESSING ABSTRACT RELATIONS</td>\n      <td>N/A</td>\n      <td>EXISTENCE</td>\n    </tr>\n    <tr>\n      <th>2</th>\n      <td>Consanguinity</td>\n      <td>[0.0386962890625, -0.01026153564453125, -0.013...</td>\n      <td>WORDS EXPRESSING ABSTRACT RELATIONS</td>\n      <td>N/A</td>\n      <td>RELATION</td>\n    </tr>\n    <tr>\n      <th>3</th>\n      <td>Trisection</td>\n      <td>[0.007350921630859375, -0.001903533935546875, ...</td>\n      <td>WORDS EXPRESSING ABSTRACT RELATIONS</td>\n      <td>N/A</td>\n      <td>NUMBER</td>\n    </tr>\n    <tr>\n      <th>4</th>\n      <td>Innocence</td>\n      <td>[0.0338134765625, 0.0139923095703125, -0.03097...</td>\n      <td>WORDS RELATING TO THE SENTIENT AND MORAL POWERS</td>\n      <td>N/A</td>\n      <td>MORAL AFFECTIONS</td>\n    </tr>\n    <tr>\n      <th>...</th>\n      <td>...</td>\n      <td>...</td>\n      <td>...</td>\n      <td>...</td>\n      <td>...</td>\n    </tr>\n    <tr>\n      <th>1052</th>\n      <td>Knave</td>\n      <td>[0.0032215118408203125, 0.01201629638671875, -...</td>\n      <td>WORDS RELATING TO THE SENTIENT AND MORAL POWERS</td>\n      <td>N/A</td>\n      <td>MORAL AFFECTIONS</td>\n    </tr>\n    <tr>\n      <th>1053</th>\n      <td>Disinterestedness</td>\n      <td>[-0.01776123046875, 0.020965576171875, -0.0221...</td>\n      <td>WORDS RELATING TO THE SENTIENT AND MORAL POWERS</td>\n      <td>N/A</td>\n      <td>MORAL AFFECTIONS</td>\n    </tr>\n    <tr>\n      <th>1054</th>\n      <td>Selfishness</td>\n      <td>[0.01071929931640625, 0.049468994140625, -0.03...</td>\n      <td>WORDS RELATING TO THE SENTIENT AND MORAL POWERS</td>\n      <td>N/A</td>\n      <td>MORAL AFFECTIONS</td>\n    </tr>\n    <tr>\n      <th>1055</th>\n      <td>Virtue</td>\n      <td>[0.0201416015625, 0.006626129150390625, -0.035...</td>\n      <td>WORDS RELATING TO THE SENTIENT AND MORAL POWERS</td>\n      <td>N/A</td>\n      <td>MORAL AFFECTIONS</td>\n    </tr>\n    <tr>\n      <th>1056</th>\n      <td>Vice</td>\n      <td>[0.0035228729248046875, -0.028533935546875, -0...</td>\n      <td>WORDS RELATING TO THE SENTIENT AND MORAL POWERS</td>\n      <td>N/A</td>\n      <td>MORAL AFFECTIONS</td>\n    </tr>\n  </tbody>\n</table>\n<p>1057 rows × 5 columns</p>\n</div>"
     },
     "execution_count": 4,
     "metadata": {},
     "output_type": "execute_result"
    }
   ],
   "source": [
    "# Retrieve the embeddings, words, and metadata\n",
    "words = collection.get(include=[\"embeddings\", \"documents\"])['documents']\n",
    "embeddings = collection.get(include=[\"embeddings\", \"documents\"])['embeddings']\n",
    "metadata = collection.get(include=[\"embeddings\", \"documents\", \"metadatas\"])['metadatas']\n",
    "\n",
    "# Create a dataframe with the embeddings and the words\n",
    "cls_df = pd.DataFrame({'word': words, 'embedding': embeddings})\n",
    "\n",
    "# Add the class, division, and section from metadata to the dataframe\n",
    "cls_df['class'] = [md['class'] for md in metadata]\n",
    "cls_df['division'] = [md['division'] for md in metadata]\n",
    "cls_df['section'] = [md['section'] for md in metadata]\n",
    "\n",
    "cls_df"
   ],
   "metadata": {
    "collapsed": false,
    "ExecuteTime": {
     "end_time": "2024-02-24T13:49:58.493249300Z",
     "start_time": "2024-02-24T13:49:58.390937200Z"
    }
   },
   "id": "b09af619c5292133",
   "execution_count": 4
  },
  {
   "cell_type": "code",
   "outputs": [],
   "source": [
    "# Get the number of classes\n",
    "n_classes = cls_df['class'].nunique()"
   ],
   "metadata": {
    "collapsed": false,
    "ExecuteTime": {
     "end_time": "2024-02-24T13:49:58.499558900Z",
     "start_time": "2024-02-24T13:49:58.493249300Z"
    }
   },
   "id": "cd0630a75478e058",
   "execution_count": 5
  },
  {
   "cell_type": "markdown",
   "source": [
    "Now let's prepare the data for classification by converting the class, division, and section to numerical values."
   ],
   "metadata": {
    "collapsed": false
   },
   "id": "3501a068561a6136"
  },
  {
   "cell_type": "code",
   "outputs": [
    {
     "data": {
      "text/plain": "                   word                                          embedding  \\\n0             Existence  [-0.029754638671875, -0.0263671875, -0.0127792...   \n1           Inexistence  [-0.01029205322265625, 0.019256591796875, -0.0...   \n2         Consanguinity  [0.0386962890625, -0.01026153564453125, -0.013...   \n3            Trisection  [0.007350921630859375, -0.001903533935546875, ...   \n4             Innocence  [0.0338134765625, 0.0139923095703125, -0.03097...   \n...                 ...                                                ...   \n1052              Knave  [0.0032215118408203125, 0.01201629638671875, -...   \n1053  Disinterestedness  [-0.01776123046875, 0.020965576171875, -0.0221...   \n1054        Selfishness  [0.01071929931640625, 0.049468994140625, -0.03...   \n1055             Virtue  [0.0201416015625, 0.006626129150390625, -0.035...   \n1056               Vice  [0.0035228729248046875, -0.028533935546875, -0...   \n\n      class  division  section  \n0         0         4        7  \n1         0         4        7  \n2         0         4       29  \n3         0         4       19  \n4         4         4       16  \n...     ...       ...      ...  \n1052      4         4       16  \n1053      4         4       16  \n1054      4         4       16  \n1055      4         4       16  \n1056      4         4       16  \n\n[1057 rows x 5 columns]",
      "text/html": "<div>\n<style scoped>\n    .dataframe tbody tr th:only-of-type {\n        vertical-align: middle;\n    }\n\n    .dataframe tbody tr th {\n        vertical-align: top;\n    }\n\n    .dataframe thead th {\n        text-align: right;\n    }\n</style>\n<table border=\"1\" class=\"dataframe\">\n  <thead>\n    <tr style=\"text-align: right;\">\n      <th></th>\n      <th>word</th>\n      <th>embedding</th>\n      <th>class</th>\n      <th>division</th>\n      <th>section</th>\n    </tr>\n  </thead>\n  <tbody>\n    <tr>\n      <th>0</th>\n      <td>Existence</td>\n      <td>[-0.029754638671875, -0.0263671875, -0.0127792...</td>\n      <td>0</td>\n      <td>4</td>\n      <td>7</td>\n    </tr>\n    <tr>\n      <th>1</th>\n      <td>Inexistence</td>\n      <td>[-0.01029205322265625, 0.019256591796875, -0.0...</td>\n      <td>0</td>\n      <td>4</td>\n      <td>7</td>\n    </tr>\n    <tr>\n      <th>2</th>\n      <td>Consanguinity</td>\n      <td>[0.0386962890625, -0.01026153564453125, -0.013...</td>\n      <td>0</td>\n      <td>4</td>\n      <td>29</td>\n    </tr>\n    <tr>\n      <th>3</th>\n      <td>Trisection</td>\n      <td>[0.007350921630859375, -0.001903533935546875, ...</td>\n      <td>0</td>\n      <td>4</td>\n      <td>19</td>\n    </tr>\n    <tr>\n      <th>4</th>\n      <td>Innocence</td>\n      <td>[0.0338134765625, 0.0139923095703125, -0.03097...</td>\n      <td>4</td>\n      <td>4</td>\n      <td>16</td>\n    </tr>\n    <tr>\n      <th>...</th>\n      <td>...</td>\n      <td>...</td>\n      <td>...</td>\n      <td>...</td>\n      <td>...</td>\n    </tr>\n    <tr>\n      <th>1052</th>\n      <td>Knave</td>\n      <td>[0.0032215118408203125, 0.01201629638671875, -...</td>\n      <td>4</td>\n      <td>4</td>\n      <td>16</td>\n    </tr>\n    <tr>\n      <th>1053</th>\n      <td>Disinterestedness</td>\n      <td>[-0.01776123046875, 0.020965576171875, -0.0221...</td>\n      <td>4</td>\n      <td>4</td>\n      <td>16</td>\n    </tr>\n    <tr>\n      <th>1054</th>\n      <td>Selfishness</td>\n      <td>[0.01071929931640625, 0.049468994140625, -0.03...</td>\n      <td>4</td>\n      <td>4</td>\n      <td>16</td>\n    </tr>\n    <tr>\n      <th>1055</th>\n      <td>Virtue</td>\n      <td>[0.0201416015625, 0.006626129150390625, -0.035...</td>\n      <td>4</td>\n      <td>4</td>\n      <td>16</td>\n    </tr>\n    <tr>\n      <th>1056</th>\n      <td>Vice</td>\n      <td>[0.0035228729248046875, -0.028533935546875, -0...</td>\n      <td>4</td>\n      <td>4</td>\n      <td>16</td>\n    </tr>\n  </tbody>\n</table>\n<p>1057 rows × 5 columns</p>\n</div>"
     },
     "execution_count": 6,
     "metadata": {},
     "output_type": "execute_result"
    }
   ],
   "source": [
    "# Make all classes and divisions/sections as numerical values\n",
    "cls_df['class'] = pd.Categorical(cls_df['class'])\n",
    "cls_df['division'] = pd.Categorical(cls_df['division'])\n",
    "cls_df['section'] = pd.Categorical(cls_df['section'])\n",
    "\n",
    "cls_df['class'] = cls_df['class'].cat.codes\n",
    "cls_df['division'] = cls_df['division'].cat.codes\n",
    "cls_df['section'] = cls_df['section'].cat.codes\n",
    "cls_df"
   ],
   "metadata": {
    "collapsed": false,
    "ExecuteTime": {
     "end_time": "2024-02-24T13:49:58.509849200Z",
     "start_time": "2024-02-24T13:49:58.497558300Z"
    }
   },
   "id": "516a1edf25fbdd15",
   "execution_count": 6
  },
  {
   "cell_type": "markdown",
   "source": [
    "Easy to notice is that when the class has no division, the division is 4, which means `N/A` in our case.\n",
    "This will become important later when we perform the two-level classification.\n",
    "\n",
    "Let's also prepare the embeddings for classification by converting them to a numpy array."
   ],
   "metadata": {
    "collapsed": false
   },
   "id": "891ef0bbf5ddeecc"
  },
  {
   "cell_type": "code",
   "outputs": [],
   "source": [
    "X = np.vstack(cls_df['embedding'])"
   ],
   "metadata": {
    "collapsed": false,
    "ExecuteTime": {
     "end_time": "2024-02-24T13:49:58.574033900Z",
     "start_time": "2024-02-24T13:49:58.509849200Z"
    }
   },
   "id": "1d2b8c0fca50cf83",
   "execution_count": 7
  },
  {
   "cell_type": "markdown",
   "source": [
    "### Multi-class logistic regression\n",
    "\n",
    "Let us start by training a multi-class logistic regression model on the embeddings and the class.\n",
    "\n",
    "Before we do that, however, let's split the data into training and testing sets, using 80% of the data for training and 20% for testing."
   ],
   "metadata": {
    "collapsed": false
   },
   "id": "a0da1d957a8e1533"
  },
  {
   "cell_type": "code",
   "outputs": [],
   "source": [
    "y = cls_df['class']\n",
    "X_train, X_test, y_train, y_test = train_test_split(X, y, test_size=0.2, random_state=11234)"
   ],
   "metadata": {
    "collapsed": false,
    "ExecuteTime": {
     "end_time": "2024-02-24T13:49:58.603035Z",
     "start_time": "2024-02-24T13:49:58.531838600Z"
    }
   },
   "id": "e541551066686048",
   "execution_count": 8
  },
  {
   "cell_type": "markdown",
   "source": [
    "Now let's train a logistic regression model on the training data and evaluate it on the testing data."
   ],
   "metadata": {
    "collapsed": false
   },
   "id": "2b8a7c1f9edc9e63"
  },
  {
   "cell_type": "code",
   "outputs": [
    {
     "data": {
      "text/plain": "LogisticRegression(max_iter=1000, multi_class='ovr', n_jobs=-1, random_state=42)",
      "text/html": "<style>#sk-container-id-1 {\n  /* Definition of color scheme common for light and dark mode */\n  --sklearn-color-text: black;\n  --sklearn-color-line: gray;\n  /* Definition of color scheme for unfitted estimators */\n  --sklearn-color-unfitted-level-0: #fff5e6;\n  --sklearn-color-unfitted-level-1: #f6e4d2;\n  --sklearn-color-unfitted-level-2: #ffe0b3;\n  --sklearn-color-unfitted-level-3: chocolate;\n  /* Definition of color scheme for fitted estimators */\n  --sklearn-color-fitted-level-0: #f0f8ff;\n  --sklearn-color-fitted-level-1: #d4ebff;\n  --sklearn-color-fitted-level-2: #b3dbfd;\n  --sklearn-color-fitted-level-3: cornflowerblue;\n\n  /* Specific color for light theme */\n  --sklearn-color-text-on-default-background: var(--sg-text-color, var(--theme-code-foreground, var(--jp-content-font-color1, black)));\n  --sklearn-color-background: var(--sg-background-color, var(--theme-background, var(--jp-layout-color0, white)));\n  --sklearn-color-border-box: var(--sg-text-color, var(--theme-code-foreground, var(--jp-content-font-color1, black)));\n  --sklearn-color-icon: #696969;\n\n  @media (prefers-color-scheme: dark) {\n    /* Redefinition of color scheme for dark theme */\n    --sklearn-color-text-on-default-background: var(--sg-text-color, var(--theme-code-foreground, var(--jp-content-font-color1, white)));\n    --sklearn-color-background: var(--sg-background-color, var(--theme-background, var(--jp-layout-color0, #111)));\n    --sklearn-color-border-box: var(--sg-text-color, var(--theme-code-foreground, var(--jp-content-font-color1, white)));\n    --sklearn-color-icon: #878787;\n  }\n}\n\n#sk-container-id-1 {\n  color: var(--sklearn-color-text);\n}\n\n#sk-container-id-1 pre {\n  padding: 0;\n}\n\n#sk-container-id-1 input.sk-hidden--visually {\n  border: 0;\n  clip: rect(1px 1px 1px 1px);\n  clip: rect(1px, 1px, 1px, 1px);\n  height: 1px;\n  margin: -1px;\n  overflow: hidden;\n  padding: 0;\n  position: absolute;\n  width: 1px;\n}\n\n#sk-container-id-1 div.sk-dashed-wrapped {\n  border: 1px dashed var(--sklearn-color-line);\n  margin: 0 0.4em 0.5em 0.4em;\n  box-sizing: border-box;\n  padding-bottom: 0.4em;\n  background-color: var(--sklearn-color-background);\n}\n\n#sk-container-id-1 div.sk-container {\n  /* jupyter's `normalize.less` sets `[hidden] { display: none; }`\n     but bootstrap.min.css set `[hidden] { display: none !important; }`\n     so we also need the `!important` here to be able to override the\n     default hidden behavior on the sphinx rendered scikit-learn.org.\n     See: https://github.com/scikit-learn/scikit-learn/issues/21755 */\n  display: inline-block !important;\n  position: relative;\n}\n\n#sk-container-id-1 div.sk-text-repr-fallback {\n  display: none;\n}\n\ndiv.sk-parallel-item,\ndiv.sk-serial,\ndiv.sk-item {\n  /* draw centered vertical line to link estimators */\n  background-image: linear-gradient(var(--sklearn-color-text-on-default-background), var(--sklearn-color-text-on-default-background));\n  background-size: 2px 100%;\n  background-repeat: no-repeat;\n  background-position: center center;\n}\n\n/* Parallel-specific style estimator block */\n\n#sk-container-id-1 div.sk-parallel-item::after {\n  content: \"\";\n  width: 100%;\n  border-bottom: 2px solid var(--sklearn-color-text-on-default-background);\n  flex-grow: 1;\n}\n\n#sk-container-id-1 div.sk-parallel {\n  display: flex;\n  align-items: stretch;\n  justify-content: center;\n  background-color: var(--sklearn-color-background);\n  position: relative;\n}\n\n#sk-container-id-1 div.sk-parallel-item {\n  display: flex;\n  flex-direction: column;\n}\n\n#sk-container-id-1 div.sk-parallel-item:first-child::after {\n  align-self: flex-end;\n  width: 50%;\n}\n\n#sk-container-id-1 div.sk-parallel-item:last-child::after {\n  align-self: flex-start;\n  width: 50%;\n}\n\n#sk-container-id-1 div.sk-parallel-item:only-child::after {\n  width: 0;\n}\n\n/* Serial-specific style estimator block */\n\n#sk-container-id-1 div.sk-serial {\n  display: flex;\n  flex-direction: column;\n  align-items: center;\n  background-color: var(--sklearn-color-background);\n  padding-right: 1em;\n  padding-left: 1em;\n}\n\n\n/* Toggleable style: style used for estimator/Pipeline/ColumnTransformer box that is\nclickable and can be expanded/collapsed.\n- Pipeline and ColumnTransformer use this feature and define the default style\n- Estimators will overwrite some part of the style using the `sk-estimator` class\n*/\n\n/* Pipeline and ColumnTransformer style (default) */\n\n#sk-container-id-1 div.sk-toggleable {\n  /* Default theme specific background. It is overwritten whether we have a\n  specific estimator or a Pipeline/ColumnTransformer */\n  background-color: var(--sklearn-color-background);\n}\n\n/* Toggleable label */\n#sk-container-id-1 label.sk-toggleable__label {\n  cursor: pointer;\n  display: block;\n  width: 100%;\n  margin-bottom: 0;\n  padding: 0.5em;\n  box-sizing: border-box;\n  text-align: center;\n}\n\n#sk-container-id-1 label.sk-toggleable__label-arrow:before {\n  /* Arrow on the left of the label */\n  content: \"▸\";\n  float: left;\n  margin-right: 0.25em;\n  color: var(--sklearn-color-icon);\n}\n\n#sk-container-id-1 label.sk-toggleable__label-arrow:hover:before {\n  color: var(--sklearn-color-text);\n}\n\n/* Toggleable content - dropdown */\n\n#sk-container-id-1 div.sk-toggleable__content {\n  max-height: 0;\n  max-width: 0;\n  overflow: hidden;\n  text-align: left;\n  /* unfitted */\n  background-color: var(--sklearn-color-unfitted-level-0);\n}\n\n#sk-container-id-1 div.sk-toggleable__content.fitted {\n  /* fitted */\n  background-color: var(--sklearn-color-fitted-level-0);\n}\n\n#sk-container-id-1 div.sk-toggleable__content pre {\n  margin: 0.2em;\n  border-radius: 0.25em;\n  color: var(--sklearn-color-text);\n  /* unfitted */\n  background-color: var(--sklearn-color-unfitted-level-0);\n}\n\n#sk-container-id-1 div.sk-toggleable__content.fitted pre {\n  /* unfitted */\n  background-color: var(--sklearn-color-fitted-level-0);\n}\n\n#sk-container-id-1 input.sk-toggleable__control:checked~div.sk-toggleable__content {\n  /* Expand drop-down */\n  max-height: 200px;\n  max-width: 100%;\n  overflow: auto;\n}\n\n#sk-container-id-1 input.sk-toggleable__control:checked~label.sk-toggleable__label-arrow:before {\n  content: \"▾\";\n}\n\n/* Pipeline/ColumnTransformer-specific style */\n\n#sk-container-id-1 div.sk-label input.sk-toggleable__control:checked~label.sk-toggleable__label {\n  color: var(--sklearn-color-text);\n  background-color: var(--sklearn-color-unfitted-level-2);\n}\n\n#sk-container-id-1 div.sk-label.fitted input.sk-toggleable__control:checked~label.sk-toggleable__label {\n  background-color: var(--sklearn-color-fitted-level-2);\n}\n\n/* Estimator-specific style */\n\n/* Colorize estimator box */\n#sk-container-id-1 div.sk-estimator input.sk-toggleable__control:checked~label.sk-toggleable__label {\n  /* unfitted */\n  background-color: var(--sklearn-color-unfitted-level-2);\n}\n\n#sk-container-id-1 div.sk-estimator.fitted input.sk-toggleable__control:checked~label.sk-toggleable__label {\n  /* fitted */\n  background-color: var(--sklearn-color-fitted-level-2);\n}\n\n#sk-container-id-1 div.sk-label label.sk-toggleable__label,\n#sk-container-id-1 div.sk-label label {\n  /* The background is the default theme color */\n  color: var(--sklearn-color-text-on-default-background);\n}\n\n/* On hover, darken the color of the background */\n#sk-container-id-1 div.sk-label:hover label.sk-toggleable__label {\n  color: var(--sklearn-color-text);\n  background-color: var(--sklearn-color-unfitted-level-2);\n}\n\n/* Label box, darken color on hover, fitted */\n#sk-container-id-1 div.sk-label.fitted:hover label.sk-toggleable__label.fitted {\n  color: var(--sklearn-color-text);\n  background-color: var(--sklearn-color-fitted-level-2);\n}\n\n/* Estimator label */\n\n#sk-container-id-1 div.sk-label label {\n  font-family: monospace;\n  font-weight: bold;\n  display: inline-block;\n  line-height: 1.2em;\n}\n\n#sk-container-id-1 div.sk-label-container {\n  text-align: center;\n}\n\n/* Estimator-specific */\n#sk-container-id-1 div.sk-estimator {\n  font-family: monospace;\n  border: 1px dotted var(--sklearn-color-border-box);\n  border-radius: 0.25em;\n  box-sizing: border-box;\n  margin-bottom: 0.5em;\n  /* unfitted */\n  background-color: var(--sklearn-color-unfitted-level-0);\n}\n\n#sk-container-id-1 div.sk-estimator.fitted {\n  /* fitted */\n  background-color: var(--sklearn-color-fitted-level-0);\n}\n\n/* on hover */\n#sk-container-id-1 div.sk-estimator:hover {\n  /* unfitted */\n  background-color: var(--sklearn-color-unfitted-level-2);\n}\n\n#sk-container-id-1 div.sk-estimator.fitted:hover {\n  /* fitted */\n  background-color: var(--sklearn-color-fitted-level-2);\n}\n\n/* Specification for estimator info (e.g. \"i\" and \"?\") */\n\n/* Common style for \"i\" and \"?\" */\n\n.sk-estimator-doc-link,\na:link.sk-estimator-doc-link,\na:visited.sk-estimator-doc-link {\n  float: right;\n  font-size: smaller;\n  line-height: 1em;\n  font-family: monospace;\n  background-color: var(--sklearn-color-background);\n  border-radius: 1em;\n  height: 1em;\n  width: 1em;\n  text-decoration: none !important;\n  margin-left: 1ex;\n  /* unfitted */\n  border: var(--sklearn-color-unfitted-level-1) 1pt solid;\n  color: var(--sklearn-color-unfitted-level-1);\n}\n\n.sk-estimator-doc-link.fitted,\na:link.sk-estimator-doc-link.fitted,\na:visited.sk-estimator-doc-link.fitted {\n  /* fitted */\n  border: var(--sklearn-color-fitted-level-1) 1pt solid;\n  color: var(--sklearn-color-fitted-level-1);\n}\n\n/* On hover */\ndiv.sk-estimator:hover .sk-estimator-doc-link:hover,\n.sk-estimator-doc-link:hover,\ndiv.sk-label-container:hover .sk-estimator-doc-link:hover,\n.sk-estimator-doc-link:hover {\n  /* unfitted */\n  background-color: var(--sklearn-color-unfitted-level-3);\n  color: var(--sklearn-color-background);\n  text-decoration: none;\n}\n\ndiv.sk-estimator.fitted:hover .sk-estimator-doc-link.fitted:hover,\n.sk-estimator-doc-link.fitted:hover,\ndiv.sk-label-container:hover .sk-estimator-doc-link.fitted:hover,\n.sk-estimator-doc-link.fitted:hover {\n  /* fitted */\n  background-color: var(--sklearn-color-fitted-level-3);\n  color: var(--sklearn-color-background);\n  text-decoration: none;\n}\n\n/* Span, style for the box shown on hovering the info icon */\n.sk-estimator-doc-link span {\n  display: none;\n  z-index: 9999;\n  position: relative;\n  font-weight: normal;\n  right: .2ex;\n  padding: .5ex;\n  margin: .5ex;\n  width: min-content;\n  min-width: 20ex;\n  max-width: 50ex;\n  color: var(--sklearn-color-text);\n  box-shadow: 2pt 2pt 4pt #999;\n  /* unfitted */\n  background: var(--sklearn-color-unfitted-level-0);\n  border: .5pt solid var(--sklearn-color-unfitted-level-3);\n}\n\n.sk-estimator-doc-link.fitted span {\n  /* fitted */\n  background: var(--sklearn-color-fitted-level-0);\n  border: var(--sklearn-color-fitted-level-3);\n}\n\n.sk-estimator-doc-link:hover span {\n  display: block;\n}\n\n/* \"?\"-specific style due to the `<a>` HTML tag */\n\n#sk-container-id-1 a.estimator_doc_link {\n  float: right;\n  font-size: 1rem;\n  line-height: 1em;\n  font-family: monospace;\n  background-color: var(--sklearn-color-background);\n  border-radius: 1rem;\n  height: 1rem;\n  width: 1rem;\n  text-decoration: none;\n  /* unfitted */\n  color: var(--sklearn-color-unfitted-level-1);\n  border: var(--sklearn-color-unfitted-level-1) 1pt solid;\n}\n\n#sk-container-id-1 a.estimator_doc_link.fitted {\n  /* fitted */\n  border: var(--sklearn-color-fitted-level-1) 1pt solid;\n  color: var(--sklearn-color-fitted-level-1);\n}\n\n/* On hover */\n#sk-container-id-1 a.estimator_doc_link:hover {\n  /* unfitted */\n  background-color: var(--sklearn-color-unfitted-level-3);\n  color: var(--sklearn-color-background);\n  text-decoration: none;\n}\n\n#sk-container-id-1 a.estimator_doc_link.fitted:hover {\n  /* fitted */\n  background-color: var(--sklearn-color-fitted-level-3);\n}\n</style><div id=\"sk-container-id-1\" class=\"sk-top-container\"><div class=\"sk-text-repr-fallback\"><pre>LogisticRegression(max_iter=1000, multi_class=&#x27;ovr&#x27;, n_jobs=-1, random_state=42)</pre><b>In a Jupyter environment, please rerun this cell to show the HTML representation or trust the notebook. <br />On GitHub, the HTML representation is unable to render, please try loading this page with nbviewer.org.</b></div><div class=\"sk-container\" hidden><div class=\"sk-item\"><div class=\"sk-estimator fitted sk-toggleable\"><input class=\"sk-toggleable__control sk-hidden--visually\" id=\"sk-estimator-id-1\" type=\"checkbox\" checked><label for=\"sk-estimator-id-1\" class=\"sk-toggleable__label fitted sk-toggleable__label-arrow fitted\">&nbsp;&nbsp;LogisticRegression<a class=\"sk-estimator-doc-link fitted\" rel=\"noreferrer\" target=\"_blank\" href=\"https://scikit-learn.org/1.4/modules/generated/sklearn.linear_model.LogisticRegression.html\">?<span>Documentation for LogisticRegression</span></a><span class=\"sk-estimator-doc-link fitted\">i<span>Fitted</span></span></label><div class=\"sk-toggleable__content fitted\"><pre>LogisticRegression(max_iter=1000, multi_class=&#x27;ovr&#x27;, n_jobs=-1, random_state=42)</pre></div> </div></div></div></div>"
     },
     "execution_count": 9,
     "metadata": {},
     "output_type": "execute_result"
    }
   ],
   "source": [
    "# Train a logistic regression model\n",
    "\n",
    "model = LogisticRegression(max_iter=1000, multi_class='ovr' , n_jobs=-1, random_state=42)\n",
    "model.fit(X_train, y_train)"
   ],
   "metadata": {
    "collapsed": false,
    "ExecuteTime": {
     "end_time": "2024-02-24T13:50:01.441312500Z",
     "start_time": "2024-02-24T13:49:58.538035200Z"
    }
   },
   "id": "2a20c0e4ce5e28ab",
   "execution_count": 9
  },
  {
   "cell_type": "code",
   "outputs": [
    {
     "name": "stdout",
     "output_type": "stream",
     "text": [
      "              precision    recall  f1-score   support\n",
      "\n",
      "           0       0.63      0.67      0.65        43\n",
      "           1       0.73      0.61      0.67        31\n",
      "           2       0.79      0.56      0.66        34\n",
      "           3       0.70      0.73      0.72        26\n",
      "           4       0.55      0.63      0.59        27\n",
      "           5       0.66      0.75      0.70        51\n",
      "\n",
      "    accuracy                           0.67       212\n",
      "   macro avg       0.68      0.66      0.66       212\n",
      "weighted avg       0.68      0.67      0.67       212\n"
     ]
    }
   ],
   "source": [
    "# Generate classification report\n",
    "\n",
    "y_pred = model.predict(X_test)\n",
    "print(metrics.classification_report(y_test, y_pred))"
   ],
   "metadata": {
    "collapsed": false,
    "ExecuteTime": {
     "end_time": "2024-02-24T13:50:01.448686100Z",
     "start_time": "2024-02-24T13:50:01.441312500Z"
    }
   },
   "id": "8caa5ddbc9c9df03",
   "execution_count": 10
  },
  {
   "cell_type": "markdown",
   "source": [
    "Having trained and evaluated the model, we can see that the model has an accuracy of 0.67, \n",
    "which is not bad considering the previous results we got from the clustering of the embeddings.\n",
    "\n",
    "However, let's use a hyperparameter tuning library such as `optuna` to find the best hyperparameters for the model.\n",
    "\n",
    "We will use the `cross_val_score` function from `sklearn` to evaluate the model using cross-validation and the `optuna` library to find the best hyperparameters for the model based on the maximization of the accuracy."
   ],
   "metadata": {
    "collapsed": false
   },
   "id": "f52da790af8442a3"
  },
  {
   "cell_type": "code",
   "outputs": [
    {
     "name": "stderr",
     "output_type": "stream",
     "text": [
      "[I 2024-02-24 15:37:35,745] A new study created in memory with name: no-name-a6545a54-782a-4c8b-bd82-204da2c722dd\n",
      "[W 2024-02-24 15:37:37,844] Trial 0 failed with parameters: {'multi_class': 'ovr', 'C': 1.035041618345576} because of the following error: KeyboardInterrupt().\n",
      "Traceback (most recent call last):\n",
      "  File \"C:\\Users\\panagiotis\\AppData\\Local\\Programs\\Python\\Python311\\Lib\\site-packages\\optuna\\study\\_optimize.py\", line 200, in _run_trial\n",
      "    value_or_values = func(trial)\n",
      "                      ^^^^^^^^^^^\n",
      "  File \"C:\\Users\\panagiotis\\AppData\\Local\\Temp\\ipykernel_32352\\3733145933.py\", line 9, in objective\n",
      "    score = cross_val_score(model, X, y, scoring='accuracy')\n",
      "            ^^^^^^^^^^^^^^^^^^^^^^^^^^^^^^^^^^^^^^^^^^^^^^^^\n",
      "  File \"C:\\Users\\panagiotis\\AppData\\Local\\Programs\\Python\\Python311\\Lib\\site-packages\\sklearn\\utils\\_param_validation.py\", line 213, in wrapper\n",
      "    return func(*args, **kwargs)\n",
      "           ^^^^^^^^^^^^^^^^^^^^^\n",
      "  File \"C:\\Users\\panagiotis\\AppData\\Local\\Programs\\Python\\Python311\\Lib\\site-packages\\sklearn\\model_selection\\_validation.py\", line 714, in cross_val_score\n",
      "    cv_results = cross_validate(\n",
      "                 ^^^^^^^^^^^^^^^\n",
      "  File \"C:\\Users\\panagiotis\\AppData\\Local\\Programs\\Python\\Python311\\Lib\\site-packages\\sklearn\\utils\\_param_validation.py\", line 213, in wrapper\n",
      "    return func(*args, **kwargs)\n",
      "           ^^^^^^^^^^^^^^^^^^^^^\n",
      "  File \"C:\\Users\\panagiotis\\AppData\\Local\\Programs\\Python\\Python311\\Lib\\site-packages\\sklearn\\model_selection\\_validation.py\", line 425, in cross_validate\n",
      "    results = parallel(\n",
      "              ^^^^^^^^^\n",
      "  File \"C:\\Users\\panagiotis\\AppData\\Local\\Programs\\Python\\Python311\\Lib\\site-packages\\sklearn\\utils\\parallel.py\", line 67, in __call__\n",
      "    return super().__call__(iterable_with_config)\n",
      "           ^^^^^^^^^^^^^^^^^^^^^^^^^^^^^^^^^^^^^^\n",
      "  File \"C:\\Users\\panagiotis\\AppData\\Local\\Programs\\Python\\Python311\\Lib\\site-packages\\joblib\\parallel.py\", line 1863, in __call__\n",
      "    return output if self.return_generator else list(output)\n",
      "                                                ^^^^^^^^^^^^\n",
      "  File \"C:\\Users\\panagiotis\\AppData\\Local\\Programs\\Python\\Python311\\Lib\\site-packages\\joblib\\parallel.py\", line 1792, in _get_sequential_output\n",
      "    res = func(*args, **kwargs)\n",
      "          ^^^^^^^^^^^^^^^^^^^^^\n",
      "  File \"C:\\Users\\panagiotis\\AppData\\Local\\Programs\\Python\\Python311\\Lib\\site-packages\\sklearn\\utils\\parallel.py\", line 129, in __call__\n",
      "    return self.function(*args, **kwargs)\n",
      "           ^^^^^^^^^^^^^^^^^^^^^^^^^^^^^^\n",
      "  File \"C:\\Users\\panagiotis\\AppData\\Local\\Programs\\Python\\Python311\\Lib\\site-packages\\sklearn\\model_selection\\_validation.py\", line 890, in _fit_and_score\n",
      "    estimator.fit(X_train, y_train, **fit_params)\n",
      "  File \"C:\\Users\\panagiotis\\AppData\\Local\\Programs\\Python\\Python311\\Lib\\site-packages\\sklearn\\base.py\", line 1351, in wrapper\n",
      "    return fit_method(estimator, *args, **kwargs)\n",
      "           ^^^^^^^^^^^^^^^^^^^^^^^^^^^^^^^^^^^^^^\n",
      "  File \"C:\\Users\\panagiotis\\AppData\\Local\\Programs\\Python\\Python311\\Lib\\site-packages\\sklearn\\linear_model\\_logistic.py\", line 1296, in fit\n",
      "    fold_coefs_ = Parallel(n_jobs=self.n_jobs, verbose=self.verbose, prefer=prefer)(\n",
      "                  ^^^^^^^^^^^^^^^^^^^^^^^^^^^^^^^^^^^^^^^^^^^^^^^^^^^^^^^^^^^^^^^^^^\n",
      "  File \"C:\\Users\\panagiotis\\AppData\\Local\\Programs\\Python\\Python311\\Lib\\site-packages\\sklearn\\utils\\parallel.py\", line 67, in __call__\n",
      "    return super().__call__(iterable_with_config)\n",
      "           ^^^^^^^^^^^^^^^^^^^^^^^^^^^^^^^^^^^^^^\n",
      "  File \"C:\\Users\\panagiotis\\AppData\\Local\\Programs\\Python\\Python311\\Lib\\site-packages\\joblib\\parallel.py\", line 1952, in __call__\n",
      "    return output if self.return_generator else list(output)\n",
      "                                                ^^^^^^^^^^^^\n",
      "  File \"C:\\Users\\panagiotis\\AppData\\Local\\Programs\\Python\\Python311\\Lib\\site-packages\\joblib\\parallel.py\", line 1595, in _get_outputs\n",
      "    yield from self._retrieve()\n",
      "  File \"C:\\Users\\panagiotis\\AppData\\Local\\Programs\\Python\\Python311\\Lib\\site-packages\\joblib\\parallel.py\", line 1707, in _retrieve\n",
      "    time.sleep(0.01)\n",
      "KeyboardInterrupt\n",
      "[W 2024-02-24 15:37:37,860] Trial 0 failed with value None.\n"
     ]
    },
    {
     "ename": "KeyboardInterrupt",
     "evalue": "",
     "output_type": "error",
     "traceback": [
      "\u001B[1;31m---------------------------------------------------------------------------\u001B[0m",
      "\u001B[1;31mKeyboardInterrupt\u001B[0m                         Traceback (most recent call last)",
      "Cell \u001B[1;32mIn[42], line 15\u001B[0m\n\u001B[0;32m     13\u001B[0m \u001B[38;5;66;03m# Create a study object and specify the optimization direction\u001B[39;00m\n\u001B[0;32m     14\u001B[0m study \u001B[38;5;241m=\u001B[39m optuna\u001B[38;5;241m.\u001B[39mcreate_study(direction\u001B[38;5;241m=\u001B[39m\u001B[38;5;124m'\u001B[39m\u001B[38;5;124mmaximize\u001B[39m\u001B[38;5;124m'\u001B[39m)\n\u001B[1;32m---> 15\u001B[0m \u001B[43mstudy\u001B[49m\u001B[38;5;241;43m.\u001B[39;49m\u001B[43moptimize\u001B[49m\u001B[43m(\u001B[49m\u001B[43mobjective\u001B[49m\u001B[43m,\u001B[49m\u001B[43m \u001B[49m\u001B[43mn_trials\u001B[49m\u001B[38;5;241;43m=\u001B[39;49m\u001B[38;5;241;43m100\u001B[39;49m\u001B[43m)\u001B[49m  \u001B[38;5;66;03m# You can adjust the number of trials\u001B[39;00m\n\u001B[0;32m     17\u001B[0m \u001B[38;5;66;03m# Output the best hyperparameters\u001B[39;00m\n\u001B[0;32m     18\u001B[0m \u001B[38;5;28mprint\u001B[39m(\u001B[38;5;124m'\u001B[39m\u001B[38;5;124mBest trial:\u001B[39m\u001B[38;5;124m'\u001B[39m, study\u001B[38;5;241m.\u001B[39mbest_trial\u001B[38;5;241m.\u001B[39mparams)\n",
      "File \u001B[1;32m~\\AppData\\Local\\Programs\\Python\\Python311\\Lib\\site-packages\\optuna\\study\\study.py:451\u001B[0m, in \u001B[0;36mStudy.optimize\u001B[1;34m(self, func, n_trials, timeout, n_jobs, catch, callbacks, gc_after_trial, show_progress_bar)\u001B[0m\n\u001B[0;32m    348\u001B[0m \u001B[38;5;28;01mdef\u001B[39;00m \u001B[38;5;21moptimize\u001B[39m(\n\u001B[0;32m    349\u001B[0m     \u001B[38;5;28mself\u001B[39m,\n\u001B[0;32m    350\u001B[0m     func: ObjectiveFuncType,\n\u001B[1;32m   (...)\u001B[0m\n\u001B[0;32m    357\u001B[0m     show_progress_bar: \u001B[38;5;28mbool\u001B[39m \u001B[38;5;241m=\u001B[39m \u001B[38;5;28;01mFalse\u001B[39;00m,\n\u001B[0;32m    358\u001B[0m ) \u001B[38;5;241m-\u001B[39m\u001B[38;5;241m>\u001B[39m \u001B[38;5;28;01mNone\u001B[39;00m:\n\u001B[0;32m    359\u001B[0m \u001B[38;5;250m    \u001B[39m\u001B[38;5;124;03m\"\"\"Optimize an objective function.\u001B[39;00m\n\u001B[0;32m    360\u001B[0m \n\u001B[0;32m    361\u001B[0m \u001B[38;5;124;03m    Optimization is done by choosing a suitable set of hyperparameter values from a given\u001B[39;00m\n\u001B[1;32m   (...)\u001B[0m\n\u001B[0;32m    449\u001B[0m \u001B[38;5;124;03m            If nested invocation of this method occurs.\u001B[39;00m\n\u001B[0;32m    450\u001B[0m \u001B[38;5;124;03m    \"\"\"\u001B[39;00m\n\u001B[1;32m--> 451\u001B[0m     \u001B[43m_optimize\u001B[49m\u001B[43m(\u001B[49m\n\u001B[0;32m    452\u001B[0m \u001B[43m        \u001B[49m\u001B[43mstudy\u001B[49m\u001B[38;5;241;43m=\u001B[39;49m\u001B[38;5;28;43mself\u001B[39;49m\u001B[43m,\u001B[49m\n\u001B[0;32m    453\u001B[0m \u001B[43m        \u001B[49m\u001B[43mfunc\u001B[49m\u001B[38;5;241;43m=\u001B[39;49m\u001B[43mfunc\u001B[49m\u001B[43m,\u001B[49m\n\u001B[0;32m    454\u001B[0m \u001B[43m        \u001B[49m\u001B[43mn_trials\u001B[49m\u001B[38;5;241;43m=\u001B[39;49m\u001B[43mn_trials\u001B[49m\u001B[43m,\u001B[49m\n\u001B[0;32m    455\u001B[0m \u001B[43m        \u001B[49m\u001B[43mtimeout\u001B[49m\u001B[38;5;241;43m=\u001B[39;49m\u001B[43mtimeout\u001B[49m\u001B[43m,\u001B[49m\n\u001B[0;32m    456\u001B[0m \u001B[43m        \u001B[49m\u001B[43mn_jobs\u001B[49m\u001B[38;5;241;43m=\u001B[39;49m\u001B[43mn_jobs\u001B[49m\u001B[43m,\u001B[49m\n\u001B[0;32m    457\u001B[0m \u001B[43m        \u001B[49m\u001B[43mcatch\u001B[49m\u001B[38;5;241;43m=\u001B[39;49m\u001B[38;5;28;43mtuple\u001B[39;49m\u001B[43m(\u001B[49m\u001B[43mcatch\u001B[49m\u001B[43m)\u001B[49m\u001B[43m \u001B[49m\u001B[38;5;28;43;01mif\u001B[39;49;00m\u001B[43m \u001B[49m\u001B[38;5;28;43misinstance\u001B[39;49m\u001B[43m(\u001B[49m\u001B[43mcatch\u001B[49m\u001B[43m,\u001B[49m\u001B[43m \u001B[49m\u001B[43mIterable\u001B[49m\u001B[43m)\u001B[49m\u001B[43m \u001B[49m\u001B[38;5;28;43;01melse\u001B[39;49;00m\u001B[43m \u001B[49m\u001B[43m(\u001B[49m\u001B[43mcatch\u001B[49m\u001B[43m,\u001B[49m\u001B[43m)\u001B[49m\u001B[43m,\u001B[49m\n\u001B[0;32m    458\u001B[0m \u001B[43m        \u001B[49m\u001B[43mcallbacks\u001B[49m\u001B[38;5;241;43m=\u001B[39;49m\u001B[43mcallbacks\u001B[49m\u001B[43m,\u001B[49m\n\u001B[0;32m    459\u001B[0m \u001B[43m        \u001B[49m\u001B[43mgc_after_trial\u001B[49m\u001B[38;5;241;43m=\u001B[39;49m\u001B[43mgc_after_trial\u001B[49m\u001B[43m,\u001B[49m\n\u001B[0;32m    460\u001B[0m \u001B[43m        \u001B[49m\u001B[43mshow_progress_bar\u001B[49m\u001B[38;5;241;43m=\u001B[39;49m\u001B[43mshow_progress_bar\u001B[49m\u001B[43m,\u001B[49m\n\u001B[0;32m    461\u001B[0m \u001B[43m    \u001B[49m\u001B[43m)\u001B[49m\n",
      "File \u001B[1;32m~\\AppData\\Local\\Programs\\Python\\Python311\\Lib\\site-packages\\optuna\\study\\_optimize.py:66\u001B[0m, in \u001B[0;36m_optimize\u001B[1;34m(study, func, n_trials, timeout, n_jobs, catch, callbacks, gc_after_trial, show_progress_bar)\u001B[0m\n\u001B[0;32m     64\u001B[0m \u001B[38;5;28;01mtry\u001B[39;00m:\n\u001B[0;32m     65\u001B[0m     \u001B[38;5;28;01mif\u001B[39;00m n_jobs \u001B[38;5;241m==\u001B[39m \u001B[38;5;241m1\u001B[39m:\n\u001B[1;32m---> 66\u001B[0m         \u001B[43m_optimize_sequential\u001B[49m\u001B[43m(\u001B[49m\n\u001B[0;32m     67\u001B[0m \u001B[43m            \u001B[49m\u001B[43mstudy\u001B[49m\u001B[43m,\u001B[49m\n\u001B[0;32m     68\u001B[0m \u001B[43m            \u001B[49m\u001B[43mfunc\u001B[49m\u001B[43m,\u001B[49m\n\u001B[0;32m     69\u001B[0m \u001B[43m            \u001B[49m\u001B[43mn_trials\u001B[49m\u001B[43m,\u001B[49m\n\u001B[0;32m     70\u001B[0m \u001B[43m            \u001B[49m\u001B[43mtimeout\u001B[49m\u001B[43m,\u001B[49m\n\u001B[0;32m     71\u001B[0m \u001B[43m            \u001B[49m\u001B[43mcatch\u001B[49m\u001B[43m,\u001B[49m\n\u001B[0;32m     72\u001B[0m \u001B[43m            \u001B[49m\u001B[43mcallbacks\u001B[49m\u001B[43m,\u001B[49m\n\u001B[0;32m     73\u001B[0m \u001B[43m            \u001B[49m\u001B[43mgc_after_trial\u001B[49m\u001B[43m,\u001B[49m\n\u001B[0;32m     74\u001B[0m \u001B[43m            \u001B[49m\u001B[43mreseed_sampler_rng\u001B[49m\u001B[38;5;241;43m=\u001B[39;49m\u001B[38;5;28;43;01mFalse\u001B[39;49;00m\u001B[43m,\u001B[49m\n\u001B[0;32m     75\u001B[0m \u001B[43m            \u001B[49m\u001B[43mtime_start\u001B[49m\u001B[38;5;241;43m=\u001B[39;49m\u001B[38;5;28;43;01mNone\u001B[39;49;00m\u001B[43m,\u001B[49m\n\u001B[0;32m     76\u001B[0m \u001B[43m            \u001B[49m\u001B[43mprogress_bar\u001B[49m\u001B[38;5;241;43m=\u001B[39;49m\u001B[43mprogress_bar\u001B[49m\u001B[43m,\u001B[49m\n\u001B[0;32m     77\u001B[0m \u001B[43m        \u001B[49m\u001B[43m)\u001B[49m\n\u001B[0;32m     78\u001B[0m     \u001B[38;5;28;01melse\u001B[39;00m:\n\u001B[0;32m     79\u001B[0m         \u001B[38;5;28;01mif\u001B[39;00m n_jobs \u001B[38;5;241m==\u001B[39m \u001B[38;5;241m-\u001B[39m\u001B[38;5;241m1\u001B[39m:\n",
      "File \u001B[1;32m~\\AppData\\Local\\Programs\\Python\\Python311\\Lib\\site-packages\\optuna\\study\\_optimize.py:163\u001B[0m, in \u001B[0;36m_optimize_sequential\u001B[1;34m(study, func, n_trials, timeout, catch, callbacks, gc_after_trial, reseed_sampler_rng, time_start, progress_bar)\u001B[0m\n\u001B[0;32m    160\u001B[0m         \u001B[38;5;28;01mbreak\u001B[39;00m\n\u001B[0;32m    162\u001B[0m \u001B[38;5;28;01mtry\u001B[39;00m:\n\u001B[1;32m--> 163\u001B[0m     frozen_trial \u001B[38;5;241m=\u001B[39m \u001B[43m_run_trial\u001B[49m\u001B[43m(\u001B[49m\u001B[43mstudy\u001B[49m\u001B[43m,\u001B[49m\u001B[43m \u001B[49m\u001B[43mfunc\u001B[49m\u001B[43m,\u001B[49m\u001B[43m \u001B[49m\u001B[43mcatch\u001B[49m\u001B[43m)\u001B[49m\n\u001B[0;32m    164\u001B[0m \u001B[38;5;28;01mfinally\u001B[39;00m:\n\u001B[0;32m    165\u001B[0m     \u001B[38;5;66;03m# The following line mitigates memory problems that can be occurred in some\u001B[39;00m\n\u001B[0;32m    166\u001B[0m     \u001B[38;5;66;03m# environments (e.g., services that use computing containers such as GitHub Actions).\u001B[39;00m\n\u001B[0;32m    167\u001B[0m     \u001B[38;5;66;03m# Please refer to the following PR for further details:\u001B[39;00m\n\u001B[0;32m    168\u001B[0m     \u001B[38;5;66;03m# https://github.com/optuna/optuna/pull/325.\u001B[39;00m\n\u001B[0;32m    169\u001B[0m     \u001B[38;5;28;01mif\u001B[39;00m gc_after_trial:\n",
      "File \u001B[1;32m~\\AppData\\Local\\Programs\\Python\\Python311\\Lib\\site-packages\\optuna\\study\\_optimize.py:251\u001B[0m, in \u001B[0;36m_run_trial\u001B[1;34m(study, func, catch)\u001B[0m\n\u001B[0;32m    244\u001B[0m         \u001B[38;5;28;01massert\u001B[39;00m \u001B[38;5;28;01mFalse\u001B[39;00m, \u001B[38;5;124m\"\u001B[39m\u001B[38;5;124mShould not reach.\u001B[39m\u001B[38;5;124m\"\u001B[39m\n\u001B[0;32m    246\u001B[0m \u001B[38;5;28;01mif\u001B[39;00m (\n\u001B[0;32m    247\u001B[0m     frozen_trial\u001B[38;5;241m.\u001B[39mstate \u001B[38;5;241m==\u001B[39m TrialState\u001B[38;5;241m.\u001B[39mFAIL\n\u001B[0;32m    248\u001B[0m     \u001B[38;5;129;01mand\u001B[39;00m func_err \u001B[38;5;129;01mis\u001B[39;00m \u001B[38;5;129;01mnot\u001B[39;00m \u001B[38;5;28;01mNone\u001B[39;00m\n\u001B[0;32m    249\u001B[0m     \u001B[38;5;129;01mand\u001B[39;00m \u001B[38;5;129;01mnot\u001B[39;00m \u001B[38;5;28misinstance\u001B[39m(func_err, catch)\n\u001B[0;32m    250\u001B[0m ):\n\u001B[1;32m--> 251\u001B[0m     \u001B[38;5;28;01mraise\u001B[39;00m func_err\n\u001B[0;32m    252\u001B[0m \u001B[38;5;28;01mreturn\u001B[39;00m frozen_trial\n",
      "File \u001B[1;32m~\\AppData\\Local\\Programs\\Python\\Python311\\Lib\\site-packages\\optuna\\study\\_optimize.py:200\u001B[0m, in \u001B[0;36m_run_trial\u001B[1;34m(study, func, catch)\u001B[0m\n\u001B[0;32m    198\u001B[0m \u001B[38;5;28;01mwith\u001B[39;00m get_heartbeat_thread(trial\u001B[38;5;241m.\u001B[39m_trial_id, study\u001B[38;5;241m.\u001B[39m_storage):\n\u001B[0;32m    199\u001B[0m     \u001B[38;5;28;01mtry\u001B[39;00m:\n\u001B[1;32m--> 200\u001B[0m         value_or_values \u001B[38;5;241m=\u001B[39m \u001B[43mfunc\u001B[49m\u001B[43m(\u001B[49m\u001B[43mtrial\u001B[49m\u001B[43m)\u001B[49m\n\u001B[0;32m    201\u001B[0m     \u001B[38;5;28;01mexcept\u001B[39;00m exceptions\u001B[38;5;241m.\u001B[39mTrialPruned \u001B[38;5;28;01mas\u001B[39;00m e:\n\u001B[0;32m    202\u001B[0m         \u001B[38;5;66;03m# TODO(mamu): Handle multi-objective cases.\u001B[39;00m\n\u001B[0;32m    203\u001B[0m         state \u001B[38;5;241m=\u001B[39m TrialState\u001B[38;5;241m.\u001B[39mPRUNED\n",
      "Cell \u001B[1;32mIn[42], line 9\u001B[0m, in \u001B[0;36mobjective\u001B[1;34m(trial)\u001B[0m\n\u001B[0;32m      7\u001B[0m model \u001B[38;5;241m=\u001B[39m LogisticRegression(C\u001B[38;5;241m=\u001B[39mC, random_state\u001B[38;5;241m=\u001B[39m\u001B[38;5;241m42\u001B[39m, max_iter\u001B[38;5;241m=\u001B[39m\u001B[38;5;241m1000\u001B[39m, multi_class\u001B[38;5;241m=\u001B[39mmulti_class , n_jobs\u001B[38;5;241m=\u001B[39m\u001B[38;5;241m-\u001B[39m\u001B[38;5;241m1\u001B[39m)\n\u001B[0;32m      8\u001B[0m \u001B[38;5;66;03m# Perform cross-validation and return the mean score\u001B[39;00m\n\u001B[1;32m----> 9\u001B[0m score \u001B[38;5;241m=\u001B[39m \u001B[43mcross_val_score\u001B[49m\u001B[43m(\u001B[49m\u001B[43mmodel\u001B[49m\u001B[43m,\u001B[49m\u001B[43m \u001B[49m\u001B[43mX\u001B[49m\u001B[43m,\u001B[49m\u001B[43m \u001B[49m\u001B[43my\u001B[49m\u001B[43m,\u001B[49m\u001B[43m \u001B[49m\u001B[43mscoring\u001B[49m\u001B[38;5;241;43m=\u001B[39;49m\u001B[38;5;124;43m'\u001B[39;49m\u001B[38;5;124;43maccuracy\u001B[39;49m\u001B[38;5;124;43m'\u001B[39;49m\u001B[43m)\u001B[49m\n\u001B[0;32m     10\u001B[0m \u001B[38;5;28;01mreturn\u001B[39;00m score\u001B[38;5;241m.\u001B[39mmean()\n",
      "File \u001B[1;32m~\\AppData\\Local\\Programs\\Python\\Python311\\Lib\\site-packages\\sklearn\\utils\\_param_validation.py:213\u001B[0m, in \u001B[0;36mvalidate_params.<locals>.decorator.<locals>.wrapper\u001B[1;34m(*args, **kwargs)\u001B[0m\n\u001B[0;32m    207\u001B[0m \u001B[38;5;28;01mtry\u001B[39;00m:\n\u001B[0;32m    208\u001B[0m     \u001B[38;5;28;01mwith\u001B[39;00m config_context(\n\u001B[0;32m    209\u001B[0m         skip_parameter_validation\u001B[38;5;241m=\u001B[39m(\n\u001B[0;32m    210\u001B[0m             prefer_skip_nested_validation \u001B[38;5;129;01mor\u001B[39;00m global_skip_validation\n\u001B[0;32m    211\u001B[0m         )\n\u001B[0;32m    212\u001B[0m     ):\n\u001B[1;32m--> 213\u001B[0m         \u001B[38;5;28;01mreturn\u001B[39;00m \u001B[43mfunc\u001B[49m\u001B[43m(\u001B[49m\u001B[38;5;241;43m*\u001B[39;49m\u001B[43margs\u001B[49m\u001B[43m,\u001B[49m\u001B[43m \u001B[49m\u001B[38;5;241;43m*\u001B[39;49m\u001B[38;5;241;43m*\u001B[39;49m\u001B[43mkwargs\u001B[49m\u001B[43m)\u001B[49m\n\u001B[0;32m    214\u001B[0m \u001B[38;5;28;01mexcept\u001B[39;00m InvalidParameterError \u001B[38;5;28;01mas\u001B[39;00m e:\n\u001B[0;32m    215\u001B[0m     \u001B[38;5;66;03m# When the function is just a wrapper around an estimator, we allow\u001B[39;00m\n\u001B[0;32m    216\u001B[0m     \u001B[38;5;66;03m# the function to delegate validation to the estimator, but we replace\u001B[39;00m\n\u001B[0;32m    217\u001B[0m     \u001B[38;5;66;03m# the name of the estimator by the name of the function in the error\u001B[39;00m\n\u001B[0;32m    218\u001B[0m     \u001B[38;5;66;03m# message to avoid confusion.\u001B[39;00m\n\u001B[0;32m    219\u001B[0m     msg \u001B[38;5;241m=\u001B[39m re\u001B[38;5;241m.\u001B[39msub(\n\u001B[0;32m    220\u001B[0m         \u001B[38;5;124mr\u001B[39m\u001B[38;5;124m\"\u001B[39m\u001B[38;5;124mparameter of \u001B[39m\u001B[38;5;124m\\\u001B[39m\u001B[38;5;124mw+ must be\u001B[39m\u001B[38;5;124m\"\u001B[39m,\n\u001B[0;32m    221\u001B[0m         \u001B[38;5;124mf\u001B[39m\u001B[38;5;124m\"\u001B[39m\u001B[38;5;124mparameter of \u001B[39m\u001B[38;5;132;01m{\u001B[39;00mfunc\u001B[38;5;241m.\u001B[39m\u001B[38;5;18m__qualname__\u001B[39m\u001B[38;5;132;01m}\u001B[39;00m\u001B[38;5;124m must be\u001B[39m\u001B[38;5;124m\"\u001B[39m,\n\u001B[0;32m    222\u001B[0m         \u001B[38;5;28mstr\u001B[39m(e),\n\u001B[0;32m    223\u001B[0m     )\n",
      "File \u001B[1;32m~\\AppData\\Local\\Programs\\Python\\Python311\\Lib\\site-packages\\sklearn\\model_selection\\_validation.py:714\u001B[0m, in \u001B[0;36mcross_val_score\u001B[1;34m(estimator, X, y, groups, scoring, cv, n_jobs, verbose, fit_params, params, pre_dispatch, error_score)\u001B[0m\n\u001B[0;32m    711\u001B[0m \u001B[38;5;66;03m# To ensure multimetric format is not supported\u001B[39;00m\n\u001B[0;32m    712\u001B[0m scorer \u001B[38;5;241m=\u001B[39m check_scoring(estimator, scoring\u001B[38;5;241m=\u001B[39mscoring)\n\u001B[1;32m--> 714\u001B[0m cv_results \u001B[38;5;241m=\u001B[39m \u001B[43mcross_validate\u001B[49m\u001B[43m(\u001B[49m\n\u001B[0;32m    715\u001B[0m \u001B[43m    \u001B[49m\u001B[43mestimator\u001B[49m\u001B[38;5;241;43m=\u001B[39;49m\u001B[43mestimator\u001B[49m\u001B[43m,\u001B[49m\n\u001B[0;32m    716\u001B[0m \u001B[43m    \u001B[49m\u001B[43mX\u001B[49m\u001B[38;5;241;43m=\u001B[39;49m\u001B[43mX\u001B[49m\u001B[43m,\u001B[49m\n\u001B[0;32m    717\u001B[0m \u001B[43m    \u001B[49m\u001B[43my\u001B[49m\u001B[38;5;241;43m=\u001B[39;49m\u001B[43my\u001B[49m\u001B[43m,\u001B[49m\n\u001B[0;32m    718\u001B[0m \u001B[43m    \u001B[49m\u001B[43mgroups\u001B[49m\u001B[38;5;241;43m=\u001B[39;49m\u001B[43mgroups\u001B[49m\u001B[43m,\u001B[49m\n\u001B[0;32m    719\u001B[0m \u001B[43m    \u001B[49m\u001B[43mscoring\u001B[49m\u001B[38;5;241;43m=\u001B[39;49m\u001B[43m{\u001B[49m\u001B[38;5;124;43m\"\u001B[39;49m\u001B[38;5;124;43mscore\u001B[39;49m\u001B[38;5;124;43m\"\u001B[39;49m\u001B[43m:\u001B[49m\u001B[43m \u001B[49m\u001B[43mscorer\u001B[49m\u001B[43m}\u001B[49m\u001B[43m,\u001B[49m\n\u001B[0;32m    720\u001B[0m \u001B[43m    \u001B[49m\u001B[43mcv\u001B[49m\u001B[38;5;241;43m=\u001B[39;49m\u001B[43mcv\u001B[49m\u001B[43m,\u001B[49m\n\u001B[0;32m    721\u001B[0m \u001B[43m    \u001B[49m\u001B[43mn_jobs\u001B[49m\u001B[38;5;241;43m=\u001B[39;49m\u001B[43mn_jobs\u001B[49m\u001B[43m,\u001B[49m\n\u001B[0;32m    722\u001B[0m \u001B[43m    \u001B[49m\u001B[43mverbose\u001B[49m\u001B[38;5;241;43m=\u001B[39;49m\u001B[43mverbose\u001B[49m\u001B[43m,\u001B[49m\n\u001B[0;32m    723\u001B[0m \u001B[43m    \u001B[49m\u001B[43mfit_params\u001B[49m\u001B[38;5;241;43m=\u001B[39;49m\u001B[43mfit_params\u001B[49m\u001B[43m,\u001B[49m\n\u001B[0;32m    724\u001B[0m \u001B[43m    \u001B[49m\u001B[43mparams\u001B[49m\u001B[38;5;241;43m=\u001B[39;49m\u001B[43mparams\u001B[49m\u001B[43m,\u001B[49m\n\u001B[0;32m    725\u001B[0m \u001B[43m    \u001B[49m\u001B[43mpre_dispatch\u001B[49m\u001B[38;5;241;43m=\u001B[39;49m\u001B[43mpre_dispatch\u001B[49m\u001B[43m,\u001B[49m\n\u001B[0;32m    726\u001B[0m \u001B[43m    \u001B[49m\u001B[43merror_score\u001B[49m\u001B[38;5;241;43m=\u001B[39;49m\u001B[43merror_score\u001B[49m\u001B[43m,\u001B[49m\n\u001B[0;32m    727\u001B[0m \u001B[43m\u001B[49m\u001B[43m)\u001B[49m\n\u001B[0;32m    728\u001B[0m \u001B[38;5;28;01mreturn\u001B[39;00m cv_results[\u001B[38;5;124m\"\u001B[39m\u001B[38;5;124mtest_score\u001B[39m\u001B[38;5;124m\"\u001B[39m]\n",
      "File \u001B[1;32m~\\AppData\\Local\\Programs\\Python\\Python311\\Lib\\site-packages\\sklearn\\utils\\_param_validation.py:213\u001B[0m, in \u001B[0;36mvalidate_params.<locals>.decorator.<locals>.wrapper\u001B[1;34m(*args, **kwargs)\u001B[0m\n\u001B[0;32m    207\u001B[0m \u001B[38;5;28;01mtry\u001B[39;00m:\n\u001B[0;32m    208\u001B[0m     \u001B[38;5;28;01mwith\u001B[39;00m config_context(\n\u001B[0;32m    209\u001B[0m         skip_parameter_validation\u001B[38;5;241m=\u001B[39m(\n\u001B[0;32m    210\u001B[0m             prefer_skip_nested_validation \u001B[38;5;129;01mor\u001B[39;00m global_skip_validation\n\u001B[0;32m    211\u001B[0m         )\n\u001B[0;32m    212\u001B[0m     ):\n\u001B[1;32m--> 213\u001B[0m         \u001B[38;5;28;01mreturn\u001B[39;00m \u001B[43mfunc\u001B[49m\u001B[43m(\u001B[49m\u001B[38;5;241;43m*\u001B[39;49m\u001B[43margs\u001B[49m\u001B[43m,\u001B[49m\u001B[43m \u001B[49m\u001B[38;5;241;43m*\u001B[39;49m\u001B[38;5;241;43m*\u001B[39;49m\u001B[43mkwargs\u001B[49m\u001B[43m)\u001B[49m\n\u001B[0;32m    214\u001B[0m \u001B[38;5;28;01mexcept\u001B[39;00m InvalidParameterError \u001B[38;5;28;01mas\u001B[39;00m e:\n\u001B[0;32m    215\u001B[0m     \u001B[38;5;66;03m# When the function is just a wrapper around an estimator, we allow\u001B[39;00m\n\u001B[0;32m    216\u001B[0m     \u001B[38;5;66;03m# the function to delegate validation to the estimator, but we replace\u001B[39;00m\n\u001B[0;32m    217\u001B[0m     \u001B[38;5;66;03m# the name of the estimator by the name of the function in the error\u001B[39;00m\n\u001B[0;32m    218\u001B[0m     \u001B[38;5;66;03m# message to avoid confusion.\u001B[39;00m\n\u001B[0;32m    219\u001B[0m     msg \u001B[38;5;241m=\u001B[39m re\u001B[38;5;241m.\u001B[39msub(\n\u001B[0;32m    220\u001B[0m         \u001B[38;5;124mr\u001B[39m\u001B[38;5;124m\"\u001B[39m\u001B[38;5;124mparameter of \u001B[39m\u001B[38;5;124m\\\u001B[39m\u001B[38;5;124mw+ must be\u001B[39m\u001B[38;5;124m\"\u001B[39m,\n\u001B[0;32m    221\u001B[0m         \u001B[38;5;124mf\u001B[39m\u001B[38;5;124m\"\u001B[39m\u001B[38;5;124mparameter of \u001B[39m\u001B[38;5;132;01m{\u001B[39;00mfunc\u001B[38;5;241m.\u001B[39m\u001B[38;5;18m__qualname__\u001B[39m\u001B[38;5;132;01m}\u001B[39;00m\u001B[38;5;124m must be\u001B[39m\u001B[38;5;124m\"\u001B[39m,\n\u001B[0;32m    222\u001B[0m         \u001B[38;5;28mstr\u001B[39m(e),\n\u001B[0;32m    223\u001B[0m     )\n",
      "File \u001B[1;32m~\\AppData\\Local\\Programs\\Python\\Python311\\Lib\\site-packages\\sklearn\\model_selection\\_validation.py:425\u001B[0m, in \u001B[0;36mcross_validate\u001B[1;34m(estimator, X, y, groups, scoring, cv, n_jobs, verbose, fit_params, params, pre_dispatch, return_train_score, return_estimator, return_indices, error_score)\u001B[0m\n\u001B[0;32m    422\u001B[0m \u001B[38;5;66;03m# We clone the estimator to make sure that all the folds are\u001B[39;00m\n\u001B[0;32m    423\u001B[0m \u001B[38;5;66;03m# independent, and that it is pickle-able.\u001B[39;00m\n\u001B[0;32m    424\u001B[0m parallel \u001B[38;5;241m=\u001B[39m Parallel(n_jobs\u001B[38;5;241m=\u001B[39mn_jobs, verbose\u001B[38;5;241m=\u001B[39mverbose, pre_dispatch\u001B[38;5;241m=\u001B[39mpre_dispatch)\n\u001B[1;32m--> 425\u001B[0m results \u001B[38;5;241m=\u001B[39m \u001B[43mparallel\u001B[49m\u001B[43m(\u001B[49m\n\u001B[0;32m    426\u001B[0m \u001B[43m    \u001B[49m\u001B[43mdelayed\u001B[49m\u001B[43m(\u001B[49m\u001B[43m_fit_and_score\u001B[49m\u001B[43m)\u001B[49m\u001B[43m(\u001B[49m\n\u001B[0;32m    427\u001B[0m \u001B[43m        \u001B[49m\u001B[43mclone\u001B[49m\u001B[43m(\u001B[49m\u001B[43mestimator\u001B[49m\u001B[43m)\u001B[49m\u001B[43m,\u001B[49m\n\u001B[0;32m    428\u001B[0m \u001B[43m        \u001B[49m\u001B[43mX\u001B[49m\u001B[43m,\u001B[49m\n\u001B[0;32m    429\u001B[0m \u001B[43m        \u001B[49m\u001B[43my\u001B[49m\u001B[43m,\u001B[49m\n\u001B[0;32m    430\u001B[0m \u001B[43m        \u001B[49m\u001B[43mscorer\u001B[49m\u001B[38;5;241;43m=\u001B[39;49m\u001B[43mscorers\u001B[49m\u001B[43m,\u001B[49m\n\u001B[0;32m    431\u001B[0m \u001B[43m        \u001B[49m\u001B[43mtrain\u001B[49m\u001B[38;5;241;43m=\u001B[39;49m\u001B[43mtrain\u001B[49m\u001B[43m,\u001B[49m\n\u001B[0;32m    432\u001B[0m \u001B[43m        \u001B[49m\u001B[43mtest\u001B[49m\u001B[38;5;241;43m=\u001B[39;49m\u001B[43mtest\u001B[49m\u001B[43m,\u001B[49m\n\u001B[0;32m    433\u001B[0m \u001B[43m        \u001B[49m\u001B[43mverbose\u001B[49m\u001B[38;5;241;43m=\u001B[39;49m\u001B[43mverbose\u001B[49m\u001B[43m,\u001B[49m\n\u001B[0;32m    434\u001B[0m \u001B[43m        \u001B[49m\u001B[43mparameters\u001B[49m\u001B[38;5;241;43m=\u001B[39;49m\u001B[38;5;28;43;01mNone\u001B[39;49;00m\u001B[43m,\u001B[49m\n\u001B[0;32m    435\u001B[0m \u001B[43m        \u001B[49m\u001B[43mfit_params\u001B[49m\u001B[38;5;241;43m=\u001B[39;49m\u001B[43mrouted_params\u001B[49m\u001B[38;5;241;43m.\u001B[39;49m\u001B[43mestimator\u001B[49m\u001B[38;5;241;43m.\u001B[39;49m\u001B[43mfit\u001B[49m\u001B[43m,\u001B[49m\n\u001B[0;32m    436\u001B[0m \u001B[43m        \u001B[49m\u001B[43mscore_params\u001B[49m\u001B[38;5;241;43m=\u001B[39;49m\u001B[43mrouted_params\u001B[49m\u001B[38;5;241;43m.\u001B[39;49m\u001B[43mscorer\u001B[49m\u001B[38;5;241;43m.\u001B[39;49m\u001B[43mscore\u001B[49m\u001B[43m,\u001B[49m\n\u001B[0;32m    437\u001B[0m \u001B[43m        \u001B[49m\u001B[43mreturn_train_score\u001B[49m\u001B[38;5;241;43m=\u001B[39;49m\u001B[43mreturn_train_score\u001B[49m\u001B[43m,\u001B[49m\n\u001B[0;32m    438\u001B[0m \u001B[43m        \u001B[49m\u001B[43mreturn_times\u001B[49m\u001B[38;5;241;43m=\u001B[39;49m\u001B[38;5;28;43;01mTrue\u001B[39;49;00m\u001B[43m,\u001B[49m\n\u001B[0;32m    439\u001B[0m \u001B[43m        \u001B[49m\u001B[43mreturn_estimator\u001B[49m\u001B[38;5;241;43m=\u001B[39;49m\u001B[43mreturn_estimator\u001B[49m\u001B[43m,\u001B[49m\n\u001B[0;32m    440\u001B[0m \u001B[43m        \u001B[49m\u001B[43merror_score\u001B[49m\u001B[38;5;241;43m=\u001B[39;49m\u001B[43merror_score\u001B[49m\u001B[43m,\u001B[49m\n\u001B[0;32m    441\u001B[0m \u001B[43m    \u001B[49m\u001B[43m)\u001B[49m\n\u001B[0;32m    442\u001B[0m \u001B[43m    \u001B[49m\u001B[38;5;28;43;01mfor\u001B[39;49;00m\u001B[43m \u001B[49m\u001B[43mtrain\u001B[49m\u001B[43m,\u001B[49m\u001B[43m \u001B[49m\u001B[43mtest\u001B[49m\u001B[43m \u001B[49m\u001B[38;5;129;43;01min\u001B[39;49;00m\u001B[43m \u001B[49m\u001B[43mindices\u001B[49m\n\u001B[0;32m    443\u001B[0m \u001B[43m\u001B[49m\u001B[43m)\u001B[49m\n\u001B[0;32m    445\u001B[0m _warn_or_raise_about_fit_failures(results, error_score)\n\u001B[0;32m    447\u001B[0m \u001B[38;5;66;03m# For callable scoring, the return type is only know after calling. If the\u001B[39;00m\n\u001B[0;32m    448\u001B[0m \u001B[38;5;66;03m# return type is a dictionary, the error scores can now be inserted with\u001B[39;00m\n\u001B[0;32m    449\u001B[0m \u001B[38;5;66;03m# the correct key.\u001B[39;00m\n",
      "File \u001B[1;32m~\\AppData\\Local\\Programs\\Python\\Python311\\Lib\\site-packages\\sklearn\\utils\\parallel.py:67\u001B[0m, in \u001B[0;36mParallel.__call__\u001B[1;34m(self, iterable)\u001B[0m\n\u001B[0;32m     62\u001B[0m config \u001B[38;5;241m=\u001B[39m get_config()\n\u001B[0;32m     63\u001B[0m iterable_with_config \u001B[38;5;241m=\u001B[39m (\n\u001B[0;32m     64\u001B[0m     (_with_config(delayed_func, config), args, kwargs)\n\u001B[0;32m     65\u001B[0m     \u001B[38;5;28;01mfor\u001B[39;00m delayed_func, args, kwargs \u001B[38;5;129;01min\u001B[39;00m iterable\n\u001B[0;32m     66\u001B[0m )\n\u001B[1;32m---> 67\u001B[0m \u001B[38;5;28;01mreturn\u001B[39;00m \u001B[38;5;28;43msuper\u001B[39;49m\u001B[43m(\u001B[49m\u001B[43m)\u001B[49m\u001B[38;5;241;43m.\u001B[39;49m\u001B[38;5;21;43m__call__\u001B[39;49m\u001B[43m(\u001B[49m\u001B[43miterable_with_config\u001B[49m\u001B[43m)\u001B[49m\n",
      "File \u001B[1;32m~\\AppData\\Local\\Programs\\Python\\Python311\\Lib\\site-packages\\joblib\\parallel.py:1863\u001B[0m, in \u001B[0;36mParallel.__call__\u001B[1;34m(self, iterable)\u001B[0m\n\u001B[0;32m   1861\u001B[0m     output \u001B[38;5;241m=\u001B[39m \u001B[38;5;28mself\u001B[39m\u001B[38;5;241m.\u001B[39m_get_sequential_output(iterable)\n\u001B[0;32m   1862\u001B[0m     \u001B[38;5;28mnext\u001B[39m(output)\n\u001B[1;32m-> 1863\u001B[0m     \u001B[38;5;28;01mreturn\u001B[39;00m output \u001B[38;5;28;01mif\u001B[39;00m \u001B[38;5;28mself\u001B[39m\u001B[38;5;241m.\u001B[39mreturn_generator \u001B[38;5;28;01melse\u001B[39;00m \u001B[38;5;28mlist\u001B[39m(output)\n\u001B[0;32m   1865\u001B[0m \u001B[38;5;66;03m# Let's create an ID that uniquely identifies the current call. If the\u001B[39;00m\n\u001B[0;32m   1866\u001B[0m \u001B[38;5;66;03m# call is interrupted early and that the same instance is immediately\u001B[39;00m\n\u001B[0;32m   1867\u001B[0m \u001B[38;5;66;03m# re-used, this id will be used to prevent workers that were\u001B[39;00m\n\u001B[0;32m   1868\u001B[0m \u001B[38;5;66;03m# concurrently finalizing a task from the previous call to run the\u001B[39;00m\n\u001B[0;32m   1869\u001B[0m \u001B[38;5;66;03m# callback.\u001B[39;00m\n\u001B[0;32m   1870\u001B[0m \u001B[38;5;28;01mwith\u001B[39;00m \u001B[38;5;28mself\u001B[39m\u001B[38;5;241m.\u001B[39m_lock:\n",
      "File \u001B[1;32m~\\AppData\\Local\\Programs\\Python\\Python311\\Lib\\site-packages\\joblib\\parallel.py:1792\u001B[0m, in \u001B[0;36mParallel._get_sequential_output\u001B[1;34m(self, iterable)\u001B[0m\n\u001B[0;32m   1790\u001B[0m \u001B[38;5;28mself\u001B[39m\u001B[38;5;241m.\u001B[39mn_dispatched_batches \u001B[38;5;241m+\u001B[39m\u001B[38;5;241m=\u001B[39m \u001B[38;5;241m1\u001B[39m\n\u001B[0;32m   1791\u001B[0m \u001B[38;5;28mself\u001B[39m\u001B[38;5;241m.\u001B[39mn_dispatched_tasks \u001B[38;5;241m+\u001B[39m\u001B[38;5;241m=\u001B[39m \u001B[38;5;241m1\u001B[39m\n\u001B[1;32m-> 1792\u001B[0m res \u001B[38;5;241m=\u001B[39m \u001B[43mfunc\u001B[49m\u001B[43m(\u001B[49m\u001B[38;5;241;43m*\u001B[39;49m\u001B[43margs\u001B[49m\u001B[43m,\u001B[49m\u001B[43m \u001B[49m\u001B[38;5;241;43m*\u001B[39;49m\u001B[38;5;241;43m*\u001B[39;49m\u001B[43mkwargs\u001B[49m\u001B[43m)\u001B[49m\n\u001B[0;32m   1793\u001B[0m \u001B[38;5;28mself\u001B[39m\u001B[38;5;241m.\u001B[39mn_completed_tasks \u001B[38;5;241m+\u001B[39m\u001B[38;5;241m=\u001B[39m \u001B[38;5;241m1\u001B[39m\n\u001B[0;32m   1794\u001B[0m \u001B[38;5;28mself\u001B[39m\u001B[38;5;241m.\u001B[39mprint_progress()\n",
      "File \u001B[1;32m~\\AppData\\Local\\Programs\\Python\\Python311\\Lib\\site-packages\\sklearn\\utils\\parallel.py:129\u001B[0m, in \u001B[0;36m_FuncWrapper.__call__\u001B[1;34m(self, *args, **kwargs)\u001B[0m\n\u001B[0;32m    127\u001B[0m     config \u001B[38;5;241m=\u001B[39m {}\n\u001B[0;32m    128\u001B[0m \u001B[38;5;28;01mwith\u001B[39;00m config_context(\u001B[38;5;241m*\u001B[39m\u001B[38;5;241m*\u001B[39mconfig):\n\u001B[1;32m--> 129\u001B[0m     \u001B[38;5;28;01mreturn\u001B[39;00m \u001B[38;5;28;43mself\u001B[39;49m\u001B[38;5;241;43m.\u001B[39;49m\u001B[43mfunction\u001B[49m\u001B[43m(\u001B[49m\u001B[38;5;241;43m*\u001B[39;49m\u001B[43margs\u001B[49m\u001B[43m,\u001B[49m\u001B[43m \u001B[49m\u001B[38;5;241;43m*\u001B[39;49m\u001B[38;5;241;43m*\u001B[39;49m\u001B[43mkwargs\u001B[49m\u001B[43m)\u001B[49m\n",
      "File \u001B[1;32m~\\AppData\\Local\\Programs\\Python\\Python311\\Lib\\site-packages\\sklearn\\model_selection\\_validation.py:890\u001B[0m, in \u001B[0;36m_fit_and_score\u001B[1;34m(estimator, X, y, scorer, train, test, verbose, parameters, fit_params, score_params, return_train_score, return_parameters, return_n_test_samples, return_times, return_estimator, split_progress, candidate_progress, error_score)\u001B[0m\n\u001B[0;32m    888\u001B[0m         estimator\u001B[38;5;241m.\u001B[39mfit(X_train, \u001B[38;5;241m*\u001B[39m\u001B[38;5;241m*\u001B[39mfit_params)\n\u001B[0;32m    889\u001B[0m     \u001B[38;5;28;01melse\u001B[39;00m:\n\u001B[1;32m--> 890\u001B[0m         \u001B[43mestimator\u001B[49m\u001B[38;5;241;43m.\u001B[39;49m\u001B[43mfit\u001B[49m\u001B[43m(\u001B[49m\u001B[43mX_train\u001B[49m\u001B[43m,\u001B[49m\u001B[43m \u001B[49m\u001B[43my_train\u001B[49m\u001B[43m,\u001B[49m\u001B[43m \u001B[49m\u001B[38;5;241;43m*\u001B[39;49m\u001B[38;5;241;43m*\u001B[39;49m\u001B[43mfit_params\u001B[49m\u001B[43m)\u001B[49m\n\u001B[0;32m    892\u001B[0m \u001B[38;5;28;01mexcept\u001B[39;00m \u001B[38;5;167;01mException\u001B[39;00m:\n\u001B[0;32m    893\u001B[0m     \u001B[38;5;66;03m# Note fit time as time until error\u001B[39;00m\n\u001B[0;32m    894\u001B[0m     fit_time \u001B[38;5;241m=\u001B[39m time\u001B[38;5;241m.\u001B[39mtime() \u001B[38;5;241m-\u001B[39m start_time\n",
      "File \u001B[1;32m~\\AppData\\Local\\Programs\\Python\\Python311\\Lib\\site-packages\\sklearn\\base.py:1351\u001B[0m, in \u001B[0;36m_fit_context.<locals>.decorator.<locals>.wrapper\u001B[1;34m(estimator, *args, **kwargs)\u001B[0m\n\u001B[0;32m   1344\u001B[0m     estimator\u001B[38;5;241m.\u001B[39m_validate_params()\n\u001B[0;32m   1346\u001B[0m \u001B[38;5;28;01mwith\u001B[39;00m config_context(\n\u001B[0;32m   1347\u001B[0m     skip_parameter_validation\u001B[38;5;241m=\u001B[39m(\n\u001B[0;32m   1348\u001B[0m         prefer_skip_nested_validation \u001B[38;5;129;01mor\u001B[39;00m global_skip_validation\n\u001B[0;32m   1349\u001B[0m     )\n\u001B[0;32m   1350\u001B[0m ):\n\u001B[1;32m-> 1351\u001B[0m     \u001B[38;5;28;01mreturn\u001B[39;00m \u001B[43mfit_method\u001B[49m\u001B[43m(\u001B[49m\u001B[43mestimator\u001B[49m\u001B[43m,\u001B[49m\u001B[43m \u001B[49m\u001B[38;5;241;43m*\u001B[39;49m\u001B[43margs\u001B[49m\u001B[43m,\u001B[49m\u001B[43m \u001B[49m\u001B[38;5;241;43m*\u001B[39;49m\u001B[38;5;241;43m*\u001B[39;49m\u001B[43mkwargs\u001B[49m\u001B[43m)\u001B[49m\n",
      "File \u001B[1;32m~\\AppData\\Local\\Programs\\Python\\Python311\\Lib\\site-packages\\sklearn\\linear_model\\_logistic.py:1296\u001B[0m, in \u001B[0;36mLogisticRegression.fit\u001B[1;34m(self, X, y, sample_weight)\u001B[0m\n\u001B[0;32m   1293\u001B[0m \u001B[38;5;28;01melse\u001B[39;00m:\n\u001B[0;32m   1294\u001B[0m     n_threads \u001B[38;5;241m=\u001B[39m \u001B[38;5;241m1\u001B[39m\n\u001B[1;32m-> 1296\u001B[0m fold_coefs_ \u001B[38;5;241m=\u001B[39m \u001B[43mParallel\u001B[49m\u001B[43m(\u001B[49m\u001B[43mn_jobs\u001B[49m\u001B[38;5;241;43m=\u001B[39;49m\u001B[38;5;28;43mself\u001B[39;49m\u001B[38;5;241;43m.\u001B[39;49m\u001B[43mn_jobs\u001B[49m\u001B[43m,\u001B[49m\u001B[43m \u001B[49m\u001B[43mverbose\u001B[49m\u001B[38;5;241;43m=\u001B[39;49m\u001B[38;5;28;43mself\u001B[39;49m\u001B[38;5;241;43m.\u001B[39;49m\u001B[43mverbose\u001B[49m\u001B[43m,\u001B[49m\u001B[43m \u001B[49m\u001B[43mprefer\u001B[49m\u001B[38;5;241;43m=\u001B[39;49m\u001B[43mprefer\u001B[49m\u001B[43m)\u001B[49m\u001B[43m(\u001B[49m\n\u001B[0;32m   1297\u001B[0m \u001B[43m    \u001B[49m\u001B[43mpath_func\u001B[49m\u001B[43m(\u001B[49m\n\u001B[0;32m   1298\u001B[0m \u001B[43m        \u001B[49m\u001B[43mX\u001B[49m\u001B[43m,\u001B[49m\n\u001B[0;32m   1299\u001B[0m \u001B[43m        \u001B[49m\u001B[43my\u001B[49m\u001B[43m,\u001B[49m\n\u001B[0;32m   1300\u001B[0m \u001B[43m        \u001B[49m\u001B[43mpos_class\u001B[49m\u001B[38;5;241;43m=\u001B[39;49m\u001B[43mclass_\u001B[49m\u001B[43m,\u001B[49m\n\u001B[0;32m   1301\u001B[0m \u001B[43m        \u001B[49m\u001B[43mCs\u001B[49m\u001B[38;5;241;43m=\u001B[39;49m\u001B[43m[\u001B[49m\u001B[43mC_\u001B[49m\u001B[43m]\u001B[49m\u001B[43m,\u001B[49m\n\u001B[0;32m   1302\u001B[0m \u001B[43m        \u001B[49m\u001B[43ml1_ratio\u001B[49m\u001B[38;5;241;43m=\u001B[39;49m\u001B[38;5;28;43mself\u001B[39;49m\u001B[38;5;241;43m.\u001B[39;49m\u001B[43ml1_ratio\u001B[49m\u001B[43m,\u001B[49m\n\u001B[0;32m   1303\u001B[0m \u001B[43m        \u001B[49m\u001B[43mfit_intercept\u001B[49m\u001B[38;5;241;43m=\u001B[39;49m\u001B[38;5;28;43mself\u001B[39;49m\u001B[38;5;241;43m.\u001B[39;49m\u001B[43mfit_intercept\u001B[49m\u001B[43m,\u001B[49m\n\u001B[0;32m   1304\u001B[0m \u001B[43m        \u001B[49m\u001B[43mtol\u001B[49m\u001B[38;5;241;43m=\u001B[39;49m\u001B[38;5;28;43mself\u001B[39;49m\u001B[38;5;241;43m.\u001B[39;49m\u001B[43mtol\u001B[49m\u001B[43m,\u001B[49m\n\u001B[0;32m   1305\u001B[0m \u001B[43m        \u001B[49m\u001B[43mverbose\u001B[49m\u001B[38;5;241;43m=\u001B[39;49m\u001B[38;5;28;43mself\u001B[39;49m\u001B[38;5;241;43m.\u001B[39;49m\u001B[43mverbose\u001B[49m\u001B[43m,\u001B[49m\n\u001B[0;32m   1306\u001B[0m \u001B[43m        \u001B[49m\u001B[43msolver\u001B[49m\u001B[38;5;241;43m=\u001B[39;49m\u001B[43msolver\u001B[49m\u001B[43m,\u001B[49m\n\u001B[0;32m   1307\u001B[0m \u001B[43m        \u001B[49m\u001B[43mmulti_class\u001B[49m\u001B[38;5;241;43m=\u001B[39;49m\u001B[43mmulti_class\u001B[49m\u001B[43m,\u001B[49m\n\u001B[0;32m   1308\u001B[0m \u001B[43m        \u001B[49m\u001B[43mmax_iter\u001B[49m\u001B[38;5;241;43m=\u001B[39;49m\u001B[38;5;28;43mself\u001B[39;49m\u001B[38;5;241;43m.\u001B[39;49m\u001B[43mmax_iter\u001B[49m\u001B[43m,\u001B[49m\n\u001B[0;32m   1309\u001B[0m \u001B[43m        \u001B[49m\u001B[43mclass_weight\u001B[49m\u001B[38;5;241;43m=\u001B[39;49m\u001B[38;5;28;43mself\u001B[39;49m\u001B[38;5;241;43m.\u001B[39;49m\u001B[43mclass_weight\u001B[49m\u001B[43m,\u001B[49m\n\u001B[0;32m   1310\u001B[0m \u001B[43m        \u001B[49m\u001B[43mcheck_input\u001B[49m\u001B[38;5;241;43m=\u001B[39;49m\u001B[38;5;28;43;01mFalse\u001B[39;49;00m\u001B[43m,\u001B[49m\n\u001B[0;32m   1311\u001B[0m \u001B[43m        \u001B[49m\u001B[43mrandom_state\u001B[49m\u001B[38;5;241;43m=\u001B[39;49m\u001B[38;5;28;43mself\u001B[39;49m\u001B[38;5;241;43m.\u001B[39;49m\u001B[43mrandom_state\u001B[49m\u001B[43m,\u001B[49m\n\u001B[0;32m   1312\u001B[0m \u001B[43m        \u001B[49m\u001B[43mcoef\u001B[49m\u001B[38;5;241;43m=\u001B[39;49m\u001B[43mwarm_start_coef_\u001B[49m\u001B[43m,\u001B[49m\n\u001B[0;32m   1313\u001B[0m \u001B[43m        \u001B[49m\u001B[43mpenalty\u001B[49m\u001B[38;5;241;43m=\u001B[39;49m\u001B[43mpenalty\u001B[49m\u001B[43m,\u001B[49m\n\u001B[0;32m   1314\u001B[0m \u001B[43m        \u001B[49m\u001B[43mmax_squared_sum\u001B[49m\u001B[38;5;241;43m=\u001B[39;49m\u001B[43mmax_squared_sum\u001B[49m\u001B[43m,\u001B[49m\n\u001B[0;32m   1315\u001B[0m \u001B[43m        \u001B[49m\u001B[43msample_weight\u001B[49m\u001B[38;5;241;43m=\u001B[39;49m\u001B[43msample_weight\u001B[49m\u001B[43m,\u001B[49m\n\u001B[0;32m   1316\u001B[0m \u001B[43m        \u001B[49m\u001B[43mn_threads\u001B[49m\u001B[38;5;241;43m=\u001B[39;49m\u001B[43mn_threads\u001B[49m\u001B[43m,\u001B[49m\n\u001B[0;32m   1317\u001B[0m \u001B[43m    \u001B[49m\u001B[43m)\u001B[49m\n\u001B[0;32m   1318\u001B[0m \u001B[43m    \u001B[49m\u001B[38;5;28;43;01mfor\u001B[39;49;00m\u001B[43m \u001B[49m\u001B[43mclass_\u001B[49m\u001B[43m,\u001B[49m\u001B[43m \u001B[49m\u001B[43mwarm_start_coef_\u001B[49m\u001B[43m \u001B[49m\u001B[38;5;129;43;01min\u001B[39;49;00m\u001B[43m \u001B[49m\u001B[38;5;28;43mzip\u001B[39;49m\u001B[43m(\u001B[49m\u001B[43mclasses_\u001B[49m\u001B[43m,\u001B[49m\u001B[43m \u001B[49m\u001B[43mwarm_start_coef\u001B[49m\u001B[43m)\u001B[49m\n\u001B[0;32m   1319\u001B[0m \u001B[43m\u001B[49m\u001B[43m)\u001B[49m\n\u001B[0;32m   1321\u001B[0m fold_coefs_, _, n_iter_ \u001B[38;5;241m=\u001B[39m \u001B[38;5;28mzip\u001B[39m(\u001B[38;5;241m*\u001B[39mfold_coefs_)\n\u001B[0;32m   1322\u001B[0m \u001B[38;5;28mself\u001B[39m\u001B[38;5;241m.\u001B[39mn_iter_ \u001B[38;5;241m=\u001B[39m np\u001B[38;5;241m.\u001B[39masarray(n_iter_, dtype\u001B[38;5;241m=\u001B[39mnp\u001B[38;5;241m.\u001B[39mint32)[:, \u001B[38;5;241m0\u001B[39m]\n",
      "File \u001B[1;32m~\\AppData\\Local\\Programs\\Python\\Python311\\Lib\\site-packages\\sklearn\\utils\\parallel.py:67\u001B[0m, in \u001B[0;36mParallel.__call__\u001B[1;34m(self, iterable)\u001B[0m\n\u001B[0;32m     62\u001B[0m config \u001B[38;5;241m=\u001B[39m get_config()\n\u001B[0;32m     63\u001B[0m iterable_with_config \u001B[38;5;241m=\u001B[39m (\n\u001B[0;32m     64\u001B[0m     (_with_config(delayed_func, config), args, kwargs)\n\u001B[0;32m     65\u001B[0m     \u001B[38;5;28;01mfor\u001B[39;00m delayed_func, args, kwargs \u001B[38;5;129;01min\u001B[39;00m iterable\n\u001B[0;32m     66\u001B[0m )\n\u001B[1;32m---> 67\u001B[0m \u001B[38;5;28;01mreturn\u001B[39;00m \u001B[38;5;28;43msuper\u001B[39;49m\u001B[43m(\u001B[49m\u001B[43m)\u001B[49m\u001B[38;5;241;43m.\u001B[39;49m\u001B[38;5;21;43m__call__\u001B[39;49m\u001B[43m(\u001B[49m\u001B[43miterable_with_config\u001B[49m\u001B[43m)\u001B[49m\n",
      "File \u001B[1;32m~\\AppData\\Local\\Programs\\Python\\Python311\\Lib\\site-packages\\joblib\\parallel.py:1952\u001B[0m, in \u001B[0;36mParallel.__call__\u001B[1;34m(self, iterable)\u001B[0m\n\u001B[0;32m   1946\u001B[0m \u001B[38;5;66;03m# The first item from the output is blank, but it makes the interpreter\u001B[39;00m\n\u001B[0;32m   1947\u001B[0m \u001B[38;5;66;03m# progress until it enters the Try/Except block of the generator and\u001B[39;00m\n\u001B[0;32m   1948\u001B[0m \u001B[38;5;66;03m# reach the first `yield` statement. This starts the aynchronous\u001B[39;00m\n\u001B[0;32m   1949\u001B[0m \u001B[38;5;66;03m# dispatch of the tasks to the workers.\u001B[39;00m\n\u001B[0;32m   1950\u001B[0m \u001B[38;5;28mnext\u001B[39m(output)\n\u001B[1;32m-> 1952\u001B[0m \u001B[38;5;28;01mreturn\u001B[39;00m output \u001B[38;5;28;01mif\u001B[39;00m \u001B[38;5;28mself\u001B[39m\u001B[38;5;241m.\u001B[39mreturn_generator \u001B[38;5;28;01melse\u001B[39;00m \u001B[38;5;28mlist\u001B[39m(output)\n",
      "File \u001B[1;32m~\\AppData\\Local\\Programs\\Python\\Python311\\Lib\\site-packages\\joblib\\parallel.py:1595\u001B[0m, in \u001B[0;36mParallel._get_outputs\u001B[1;34m(self, iterator, pre_dispatch)\u001B[0m\n\u001B[0;32m   1592\u001B[0m     \u001B[38;5;28;01myield\u001B[39;00m\n\u001B[0;32m   1594\u001B[0m     \u001B[38;5;28;01mwith\u001B[39;00m \u001B[38;5;28mself\u001B[39m\u001B[38;5;241m.\u001B[39m_backend\u001B[38;5;241m.\u001B[39mretrieval_context():\n\u001B[1;32m-> 1595\u001B[0m         \u001B[38;5;28;01myield from\u001B[39;00m \u001B[38;5;28mself\u001B[39m\u001B[38;5;241m.\u001B[39m_retrieve()\n\u001B[0;32m   1597\u001B[0m \u001B[38;5;28;01mexcept\u001B[39;00m \u001B[38;5;167;01mGeneratorExit\u001B[39;00m:\n\u001B[0;32m   1598\u001B[0m     \u001B[38;5;66;03m# The generator has been garbage collected before being fully\u001B[39;00m\n\u001B[0;32m   1599\u001B[0m     \u001B[38;5;66;03m# consumed. This aborts the remaining tasks if possible and warn\u001B[39;00m\n\u001B[0;32m   1600\u001B[0m     \u001B[38;5;66;03m# the user if necessary.\u001B[39;00m\n\u001B[0;32m   1601\u001B[0m     \u001B[38;5;28mself\u001B[39m\u001B[38;5;241m.\u001B[39m_exception \u001B[38;5;241m=\u001B[39m \u001B[38;5;28;01mTrue\u001B[39;00m\n",
      "File \u001B[1;32m~\\AppData\\Local\\Programs\\Python\\Python311\\Lib\\site-packages\\joblib\\parallel.py:1707\u001B[0m, in \u001B[0;36mParallel._retrieve\u001B[1;34m(self)\u001B[0m\n\u001B[0;32m   1702\u001B[0m \u001B[38;5;66;03m# If the next job is not ready for retrieval yet, we just wait for\u001B[39;00m\n\u001B[0;32m   1703\u001B[0m \u001B[38;5;66;03m# async callbacks to progress.\u001B[39;00m\n\u001B[0;32m   1704\u001B[0m \u001B[38;5;28;01mif\u001B[39;00m ((\u001B[38;5;28mlen\u001B[39m(\u001B[38;5;28mself\u001B[39m\u001B[38;5;241m.\u001B[39m_jobs) \u001B[38;5;241m==\u001B[39m \u001B[38;5;241m0\u001B[39m) \u001B[38;5;129;01mor\u001B[39;00m\n\u001B[0;32m   1705\u001B[0m     (\u001B[38;5;28mself\u001B[39m\u001B[38;5;241m.\u001B[39m_jobs[\u001B[38;5;241m0\u001B[39m]\u001B[38;5;241m.\u001B[39mget_status(\n\u001B[0;32m   1706\u001B[0m         timeout\u001B[38;5;241m=\u001B[39m\u001B[38;5;28mself\u001B[39m\u001B[38;5;241m.\u001B[39mtimeout) \u001B[38;5;241m==\u001B[39m TASK_PENDING)):\n\u001B[1;32m-> 1707\u001B[0m     time\u001B[38;5;241m.\u001B[39msleep(\u001B[38;5;241m0.01\u001B[39m)\n\u001B[0;32m   1708\u001B[0m     \u001B[38;5;28;01mcontinue\u001B[39;00m\n\u001B[0;32m   1710\u001B[0m \u001B[38;5;66;03m# We need to be careful: the job list can be filling up as\u001B[39;00m\n\u001B[0;32m   1711\u001B[0m \u001B[38;5;66;03m# we empty it and Python list are not thread-safe by\u001B[39;00m\n\u001B[0;32m   1712\u001B[0m \u001B[38;5;66;03m# default hence the use of the lock\u001B[39;00m\n",
      "\u001B[1;31mKeyboardInterrupt\u001B[0m: "
     ]
    }
   ],
   "source": [
    "def objective(trial):\n",
    "    # Define the hyperparameters to tune\n",
    "    multi_class = trial.suggest_categorical('multi_class', ['ovr', 'multinomial'])\n",
    "    C = trial.suggest_float('C', 1e-4, 1e4, log=True)\n",
    "\n",
    "    # Create logistic regression model with suggested hyperparameters\n",
    "    model = LogisticRegression(C=C, random_state=42, max_iter=1000, multi_class=multi_class , n_jobs=-1)\n",
    "    # Perform cross-validation and return the mean score\n",
    "    score = cross_val_score(model, X, y, scoring='accuracy')\n",
    "    return score.mean()\n",
    "\n",
    "\n",
    "# Create a study object and specify the optimization direction\n",
    "study = optuna.create_study(direction='maximize')\n",
    "study.optimize(objective, n_trials=100)  # You can adjust the number of trials\n",
    "\n",
    "# Output the best hyperparameters\n",
    "print('Best trial:', study.best_trial.params)"
   ],
   "metadata": {
    "collapsed": false,
    "ExecuteTime": {
     "end_time": "2024-02-24T13:37:38.119889900Z",
     "start_time": "2024-02-24T13:37:35.745813500Z"
    }
   },
   "id": "9e76682b23c63239",
   "execution_count": 42
  },
  {
   "cell_type": "markdown",
   "source": [
    "### Multi-class SVM\n",
    "\n",
    "Let's now train a multi-class SVM model on the embeddings and the class."
   ],
   "metadata": {
    "collapsed": false
   },
   "id": "e86e3dc9de132389"
  },
  {
   "cell_type": "code",
   "outputs": [
    {
     "data": {
      "text/plain": "SVC(random_state=22)",
      "text/html": "<style>#sk-container-id-6 {\n  /* Definition of color scheme common for light and dark mode */\n  --sklearn-color-text: black;\n  --sklearn-color-line: gray;\n  /* Definition of color scheme for unfitted estimators */\n  --sklearn-color-unfitted-level-0: #fff5e6;\n  --sklearn-color-unfitted-level-1: #f6e4d2;\n  --sklearn-color-unfitted-level-2: #ffe0b3;\n  --sklearn-color-unfitted-level-3: chocolate;\n  /* Definition of color scheme for fitted estimators */\n  --sklearn-color-fitted-level-0: #f0f8ff;\n  --sklearn-color-fitted-level-1: #d4ebff;\n  --sklearn-color-fitted-level-2: #b3dbfd;\n  --sklearn-color-fitted-level-3: cornflowerblue;\n\n  /* Specific color for light theme */\n  --sklearn-color-text-on-default-background: var(--sg-text-color, var(--theme-code-foreground, var(--jp-content-font-color1, black)));\n  --sklearn-color-background: var(--sg-background-color, var(--theme-background, var(--jp-layout-color0, white)));\n  --sklearn-color-border-box: var(--sg-text-color, var(--theme-code-foreground, var(--jp-content-font-color1, black)));\n  --sklearn-color-icon: #696969;\n\n  @media (prefers-color-scheme: dark) {\n    /* Redefinition of color scheme for dark theme */\n    --sklearn-color-text-on-default-background: var(--sg-text-color, var(--theme-code-foreground, var(--jp-content-font-color1, white)));\n    --sklearn-color-background: var(--sg-background-color, var(--theme-background, var(--jp-layout-color0, #111)));\n    --sklearn-color-border-box: var(--sg-text-color, var(--theme-code-foreground, var(--jp-content-font-color1, white)));\n    --sklearn-color-icon: #878787;\n  }\n}\n\n#sk-container-id-6 {\n  color: var(--sklearn-color-text);\n}\n\n#sk-container-id-6 pre {\n  padding: 0;\n}\n\n#sk-container-id-6 input.sk-hidden--visually {\n  border: 0;\n  clip: rect(1px 1px 1px 1px);\n  clip: rect(1px, 1px, 1px, 1px);\n  height: 1px;\n  margin: -1px;\n  overflow: hidden;\n  padding: 0;\n  position: absolute;\n  width: 1px;\n}\n\n#sk-container-id-6 div.sk-dashed-wrapped {\n  border: 1px dashed var(--sklearn-color-line);\n  margin: 0 0.4em 0.5em 0.4em;\n  box-sizing: border-box;\n  padding-bottom: 0.4em;\n  background-color: var(--sklearn-color-background);\n}\n\n#sk-container-id-6 div.sk-container {\n  /* jupyter's `normalize.less` sets `[hidden] { display: none; }`\n     but bootstrap.min.css set `[hidden] { display: none !important; }`\n     so we also need the `!important` here to be able to override the\n     default hidden behavior on the sphinx rendered scikit-learn.org.\n     See: https://github.com/scikit-learn/scikit-learn/issues/21755 */\n  display: inline-block !important;\n  position: relative;\n}\n\n#sk-container-id-6 div.sk-text-repr-fallback {\n  display: none;\n}\n\ndiv.sk-parallel-item,\ndiv.sk-serial,\ndiv.sk-item {\n  /* draw centered vertical line to link estimators */\n  background-image: linear-gradient(var(--sklearn-color-text-on-default-background), var(--sklearn-color-text-on-default-background));\n  background-size: 2px 100%;\n  background-repeat: no-repeat;\n  background-position: center center;\n}\n\n/* Parallel-specific style estimator block */\n\n#sk-container-id-6 div.sk-parallel-item::after {\n  content: \"\";\n  width: 100%;\n  border-bottom: 2px solid var(--sklearn-color-text-on-default-background);\n  flex-grow: 1;\n}\n\n#sk-container-id-6 div.sk-parallel {\n  display: flex;\n  align-items: stretch;\n  justify-content: center;\n  background-color: var(--sklearn-color-background);\n  position: relative;\n}\n\n#sk-container-id-6 div.sk-parallel-item {\n  display: flex;\n  flex-direction: column;\n}\n\n#sk-container-id-6 div.sk-parallel-item:first-child::after {\n  align-self: flex-end;\n  width: 50%;\n}\n\n#sk-container-id-6 div.sk-parallel-item:last-child::after {\n  align-self: flex-start;\n  width: 50%;\n}\n\n#sk-container-id-6 div.sk-parallel-item:only-child::after {\n  width: 0;\n}\n\n/* Serial-specific style estimator block */\n\n#sk-container-id-6 div.sk-serial {\n  display: flex;\n  flex-direction: column;\n  align-items: center;\n  background-color: var(--sklearn-color-background);\n  padding-right: 1em;\n  padding-left: 1em;\n}\n\n\n/* Toggleable style: style used for estimator/Pipeline/ColumnTransformer box that is\nclickable and can be expanded/collapsed.\n- Pipeline and ColumnTransformer use this feature and define the default style\n- Estimators will overwrite some part of the style using the `sk-estimator` class\n*/\n\n/* Pipeline and ColumnTransformer style (default) */\n\n#sk-container-id-6 div.sk-toggleable {\n  /* Default theme specific background. It is overwritten whether we have a\n  specific estimator or a Pipeline/ColumnTransformer */\n  background-color: var(--sklearn-color-background);\n}\n\n/* Toggleable label */\n#sk-container-id-6 label.sk-toggleable__label {\n  cursor: pointer;\n  display: block;\n  width: 100%;\n  margin-bottom: 0;\n  padding: 0.5em;\n  box-sizing: border-box;\n  text-align: center;\n}\n\n#sk-container-id-6 label.sk-toggleable__label-arrow:before {\n  /* Arrow on the left of the label */\n  content: \"▸\";\n  float: left;\n  margin-right: 0.25em;\n  color: var(--sklearn-color-icon);\n}\n\n#sk-container-id-6 label.sk-toggleable__label-arrow:hover:before {\n  color: var(--sklearn-color-text);\n}\n\n/* Toggleable content - dropdown */\n\n#sk-container-id-6 div.sk-toggleable__content {\n  max-height: 0;\n  max-width: 0;\n  overflow: hidden;\n  text-align: left;\n  /* unfitted */\n  background-color: var(--sklearn-color-unfitted-level-0);\n}\n\n#sk-container-id-6 div.sk-toggleable__content.fitted {\n  /* fitted */\n  background-color: var(--sklearn-color-fitted-level-0);\n}\n\n#sk-container-id-6 div.sk-toggleable__content pre {\n  margin: 0.2em;\n  border-radius: 0.25em;\n  color: var(--sklearn-color-text);\n  /* unfitted */\n  background-color: var(--sklearn-color-unfitted-level-0);\n}\n\n#sk-container-id-6 div.sk-toggleable__content.fitted pre {\n  /* unfitted */\n  background-color: var(--sklearn-color-fitted-level-0);\n}\n\n#sk-container-id-6 input.sk-toggleable__control:checked~div.sk-toggleable__content {\n  /* Expand drop-down */\n  max-height: 200px;\n  max-width: 100%;\n  overflow: auto;\n}\n\n#sk-container-id-6 input.sk-toggleable__control:checked~label.sk-toggleable__label-arrow:before {\n  content: \"▾\";\n}\n\n/* Pipeline/ColumnTransformer-specific style */\n\n#sk-container-id-6 div.sk-label input.sk-toggleable__control:checked~label.sk-toggleable__label {\n  color: var(--sklearn-color-text);\n  background-color: var(--sklearn-color-unfitted-level-2);\n}\n\n#sk-container-id-6 div.sk-label.fitted input.sk-toggleable__control:checked~label.sk-toggleable__label {\n  background-color: var(--sklearn-color-fitted-level-2);\n}\n\n/* Estimator-specific style */\n\n/* Colorize estimator box */\n#sk-container-id-6 div.sk-estimator input.sk-toggleable__control:checked~label.sk-toggleable__label {\n  /* unfitted */\n  background-color: var(--sklearn-color-unfitted-level-2);\n}\n\n#sk-container-id-6 div.sk-estimator.fitted input.sk-toggleable__control:checked~label.sk-toggleable__label {\n  /* fitted */\n  background-color: var(--sklearn-color-fitted-level-2);\n}\n\n#sk-container-id-6 div.sk-label label.sk-toggleable__label,\n#sk-container-id-6 div.sk-label label {\n  /* The background is the default theme color */\n  color: var(--sklearn-color-text-on-default-background);\n}\n\n/* On hover, darken the color of the background */\n#sk-container-id-6 div.sk-label:hover label.sk-toggleable__label {\n  color: var(--sklearn-color-text);\n  background-color: var(--sklearn-color-unfitted-level-2);\n}\n\n/* Label box, darken color on hover, fitted */\n#sk-container-id-6 div.sk-label.fitted:hover label.sk-toggleable__label.fitted {\n  color: var(--sklearn-color-text);\n  background-color: var(--sklearn-color-fitted-level-2);\n}\n\n/* Estimator label */\n\n#sk-container-id-6 div.sk-label label {\n  font-family: monospace;\n  font-weight: bold;\n  display: inline-block;\n  line-height: 1.2em;\n}\n\n#sk-container-id-6 div.sk-label-container {\n  text-align: center;\n}\n\n/* Estimator-specific */\n#sk-container-id-6 div.sk-estimator {\n  font-family: monospace;\n  border: 1px dotted var(--sklearn-color-border-box);\n  border-radius: 0.25em;\n  box-sizing: border-box;\n  margin-bottom: 0.5em;\n  /* unfitted */\n  background-color: var(--sklearn-color-unfitted-level-0);\n}\n\n#sk-container-id-6 div.sk-estimator.fitted {\n  /* fitted */\n  background-color: var(--sklearn-color-fitted-level-0);\n}\n\n/* on hover */\n#sk-container-id-6 div.sk-estimator:hover {\n  /* unfitted */\n  background-color: var(--sklearn-color-unfitted-level-2);\n}\n\n#sk-container-id-6 div.sk-estimator.fitted:hover {\n  /* fitted */\n  background-color: var(--sklearn-color-fitted-level-2);\n}\n\n/* Specification for estimator info (e.g. \"i\" and \"?\") */\n\n/* Common style for \"i\" and \"?\" */\n\n.sk-estimator-doc-link,\na:link.sk-estimator-doc-link,\na:visited.sk-estimator-doc-link {\n  float: right;\n  font-size: smaller;\n  line-height: 1em;\n  font-family: monospace;\n  background-color: var(--sklearn-color-background);\n  border-radius: 1em;\n  height: 1em;\n  width: 1em;\n  text-decoration: none !important;\n  margin-left: 1ex;\n  /* unfitted */\n  border: var(--sklearn-color-unfitted-level-1) 1pt solid;\n  color: var(--sklearn-color-unfitted-level-1);\n}\n\n.sk-estimator-doc-link.fitted,\na:link.sk-estimator-doc-link.fitted,\na:visited.sk-estimator-doc-link.fitted {\n  /* fitted */\n  border: var(--sklearn-color-fitted-level-1) 1pt solid;\n  color: var(--sklearn-color-fitted-level-1);\n}\n\n/* On hover */\ndiv.sk-estimator:hover .sk-estimator-doc-link:hover,\n.sk-estimator-doc-link:hover,\ndiv.sk-label-container:hover .sk-estimator-doc-link:hover,\n.sk-estimator-doc-link:hover {\n  /* unfitted */\n  background-color: var(--sklearn-color-unfitted-level-3);\n  color: var(--sklearn-color-background);\n  text-decoration: none;\n}\n\ndiv.sk-estimator.fitted:hover .sk-estimator-doc-link.fitted:hover,\n.sk-estimator-doc-link.fitted:hover,\ndiv.sk-label-container:hover .sk-estimator-doc-link.fitted:hover,\n.sk-estimator-doc-link.fitted:hover {\n  /* fitted */\n  background-color: var(--sklearn-color-fitted-level-3);\n  color: var(--sklearn-color-background);\n  text-decoration: none;\n}\n\n/* Span, style for the box shown on hovering the info icon */\n.sk-estimator-doc-link span {\n  display: none;\n  z-index: 9999;\n  position: relative;\n  font-weight: normal;\n  right: .2ex;\n  padding: .5ex;\n  margin: .5ex;\n  width: min-content;\n  min-width: 20ex;\n  max-width: 50ex;\n  color: var(--sklearn-color-text);\n  box-shadow: 2pt 2pt 4pt #999;\n  /* unfitted */\n  background: var(--sklearn-color-unfitted-level-0);\n  border: .5pt solid var(--sklearn-color-unfitted-level-3);\n}\n\n.sk-estimator-doc-link.fitted span {\n  /* fitted */\n  background: var(--sklearn-color-fitted-level-0);\n  border: var(--sklearn-color-fitted-level-3);\n}\n\n.sk-estimator-doc-link:hover span {\n  display: block;\n}\n\n/* \"?\"-specific style due to the `<a>` HTML tag */\n\n#sk-container-id-6 a.estimator_doc_link {\n  float: right;\n  font-size: 1rem;\n  line-height: 1em;\n  font-family: monospace;\n  background-color: var(--sklearn-color-background);\n  border-radius: 1rem;\n  height: 1rem;\n  width: 1rem;\n  text-decoration: none;\n  /* unfitted */\n  color: var(--sklearn-color-unfitted-level-1);\n  border: var(--sklearn-color-unfitted-level-1) 1pt solid;\n}\n\n#sk-container-id-6 a.estimator_doc_link.fitted {\n  /* fitted */\n  border: var(--sklearn-color-fitted-level-1) 1pt solid;\n  color: var(--sklearn-color-fitted-level-1);\n}\n\n/* On hover */\n#sk-container-id-6 a.estimator_doc_link:hover {\n  /* unfitted */\n  background-color: var(--sklearn-color-unfitted-level-3);\n  color: var(--sklearn-color-background);\n  text-decoration: none;\n}\n\n#sk-container-id-6 a.estimator_doc_link.fitted:hover {\n  /* fitted */\n  background-color: var(--sklearn-color-fitted-level-3);\n}\n</style><div id=\"sk-container-id-6\" class=\"sk-top-container\"><div class=\"sk-text-repr-fallback\"><pre>SVC(random_state=22)</pre><b>In a Jupyter environment, please rerun this cell to show the HTML representation or trust the notebook. <br />On GitHub, the HTML representation is unable to render, please try loading this page with nbviewer.org.</b></div><div class=\"sk-container\" hidden><div class=\"sk-item\"><div class=\"sk-estimator fitted sk-toggleable\"><input class=\"sk-toggleable__control sk-hidden--visually\" id=\"sk-estimator-id-6\" type=\"checkbox\" checked><label for=\"sk-estimator-id-6\" class=\"sk-toggleable__label fitted sk-toggleable__label-arrow fitted\">&nbsp;&nbsp;SVC<a class=\"sk-estimator-doc-link fitted\" rel=\"noreferrer\" target=\"_blank\" href=\"https://scikit-learn.org/1.4/modules/generated/sklearn.svm.SVC.html\">?<span>Documentation for SVC</span></a><span class=\"sk-estimator-doc-link fitted\">i<span>Fitted</span></span></label><div class=\"sk-toggleable__content fitted\"><pre>SVC(random_state=22)</pre></div> </div></div></div></div>"
     },
     "execution_count": 43,
     "metadata": {},
     "output_type": "execute_result"
    }
   ],
   "source": [
    "svm_model = SVC(kernel='rbf', random_state=22)\n",
    "svm_model.fit(X_train, y_train)"
   ],
   "metadata": {
    "collapsed": false,
    "ExecuteTime": {
     "end_time": "2024-02-24T13:37:41.567936200Z",
     "start_time": "2024-02-24T13:37:41.483041400Z"
    }
   },
   "id": "2c66c7edab0d64",
   "execution_count": 43
  },
  {
   "cell_type": "code",
   "outputs": [
    {
     "name": "stdout",
     "output_type": "stream",
     "text": [
      "              precision    recall  f1-score   support\n",
      "\n",
      "           0       0.65      0.65      0.65        43\n",
      "           1       0.78      0.68      0.72        31\n",
      "           2       0.77      0.68      0.72        34\n",
      "           3       0.69      0.77      0.73        26\n",
      "           4       0.58      0.56      0.57        27\n",
      "           5       0.70      0.78      0.74        51\n",
      "\n",
      "    accuracy                           0.69       212\n",
      "   macro avg       0.69      0.69      0.69       212\n",
      "weighted avg       0.70      0.69      0.69       212\n"
     ]
    }
   ],
   "source": [
    "# Generate classification report\n",
    "y_pred = svm_model.predict(X_test)\n",
    "print(metrics.classification_report(y_test, y_pred))"
   ],
   "metadata": {
    "collapsed": false,
    "ExecuteTime": {
     "end_time": "2024-02-24T13:37:41.699568600Z",
     "start_time": "2024-02-24T13:37:41.657120800Z"
    }
   },
   "id": "62835de5722c9451",
   "execution_count": 44
  },
  {
   "cell_type": "markdown",
   "source": [
    "Let's use the `optuna` library to find the best hyperparameters for the model based on the maximization of the accuracy.\n"
   ],
   "metadata": {
    "collapsed": false
   },
   "id": "a87564b264fa6a83"
  },
  {
   "cell_type": "code",
   "outputs": [
    {
     "name": "stderr",
     "output_type": "stream",
     "text": [
      "[I 2024-02-24 15:21:53,815] A new study created in memory with name: no-name-fbb0df03-3332-4ee6-88b9-63dab539915d\n",
      "[I 2024-02-24 15:21:54,150] Trial 0 finished with value: 0.4844272556559063 and parameters: {'C': 7.601359404948779, 'kernel': 'linear', 'gamma': 'auto'}. Best is trial 0 with value: 0.4844272556559063.\n",
      "[I 2024-02-24 15:21:54,670] Trial 1 finished with value: 0.21570240543682373 and parameters: {'C': 0.001925613168034482, 'kernel': 'poly', 'gamma': 'auto', 'degree': 4}. Best is trial 0 with value: 0.4844272556559063.\n",
      "[I 2024-02-24 15:21:55,067] Trial 2 finished with value: 0.46643566127157293 and parameters: {'C': 24.637615145321337, 'kernel': 'linear', 'gamma': 'auto'}. Best is trial 0 with value: 0.4844272556559063.\n",
      "[I 2024-02-24 15:21:55,604] Trial 3 finished with value: 0.425744433515157 and parameters: {'C': 6832.795980529893, 'kernel': 'sigmoid', 'gamma': 'scale'}. Best is trial 0 with value: 0.4844272556559063.\n",
      "[I 2024-02-24 15:21:56,014] Trial 4 finished with value: 0.5317401412858803 and parameters: {'C': 1.4379973680508373, 'kernel': 'linear', 'gamma': 'scale'}. Best is trial 4 with value: 0.5317401412858803.\n",
      "[I 2024-02-24 15:21:56,618] Trial 5 finished with value: 0.21570240543682373 and parameters: {'C': 0.000217696136663899, 'kernel': 'poly', 'gamma': 'auto', 'degree': 3}. Best is trial 4 with value: 0.5317401412858803.\n",
      "[I 2024-02-24 15:21:57,206] Trial 6 finished with value: 0.21570240543682373 and parameters: {'C': 0.06706648734553318, 'kernel': 'linear', 'gamma': 'scale'}. Best is trial 4 with value: 0.5317401412858803.\n",
      "[I 2024-02-24 15:21:57,771] Trial 7 finished with value: 0.21570240543682373 and parameters: {'C': 0.0003486572030786427, 'kernel': 'poly', 'gamma': 'scale', 'degree': 9}. Best is trial 4 with value: 0.5317401412858803.\n",
      "[I 2024-02-24 15:21:58,274] Trial 8 finished with value: 0.21570240543682373 and parameters: {'C': 0.00019261412167823918, 'kernel': 'linear', 'gamma': 'auto'}. Best is trial 4 with value: 0.5317401412858803.\n",
      "[I 2024-02-24 15:21:58,703] Trial 9 finished with value: 0.5345748010372887 and parameters: {'C': 1349.686937395348, 'kernel': 'sigmoid', 'gamma': 'auto'}. Best is trial 9 with value: 0.5345748010372887.\n",
      "[I 2024-02-24 15:21:59,136] Trial 10 finished with value: 0.4626263077886078 and parameters: {'C': 44898.19741475613, 'kernel': 'sigmoid', 'gamma': 'auto'}. Best is trial 9 with value: 0.5345748010372887.\n",
      "[I 2024-02-24 15:22:00,089] Trial 11 finished with value: 0.5109049450058124 and parameters: {'C': 362.64192955214537, 'kernel': 'rbf', 'gamma': 'scale'}. Best is trial 9 with value: 0.5345748010372887.\n",
      "[I 2024-02-24 15:22:00,800] Trial 12 finished with value: 0.21665027273540197 and parameters: {'C': 0.16166637889362026, 'kernel': 'sigmoid', 'gamma': 'scale'}. Best is trial 9 with value: 0.5345748010372887.\n",
      "[I 2024-02-24 15:22:01,631] Trial 13 finished with value: 0.5109049450058124 and parameters: {'C': 457.7325417452622, 'kernel': 'rbf', 'gamma': 'scale'}. Best is trial 9 with value: 0.5345748010372887.\n",
      "[I 2024-02-24 15:22:02,233] Trial 14 finished with value: 0.21570240543682373 and parameters: {'C': 2.6596456078573207, 'kernel': 'sigmoid', 'gamma': 'auto'}. Best is trial 9 with value: 0.5345748010372887.\n",
      "[I 2024-02-24 15:22:02,836] Trial 15 finished with value: 0.21570240543682373 and parameters: {'C': 0.013186305784828524, 'kernel': 'linear', 'gamma': 'scale'}. Best is trial 9 with value: 0.5345748010372887.\n",
      "[I 2024-02-24 15:22:03,275] Trial 16 finished with value: 0.42193508003219177 and parameters: {'C': 173.5294969190992, 'kernel': 'sigmoid', 'gamma': 'scale'}. Best is trial 9 with value: 0.5345748010372887.\n",
      "[I 2024-02-24 15:22:03,884] Trial 17 finished with value: 0.4711660556201377 and parameters: {'C': 5308.8213445462225, 'kernel': 'rbf', 'gamma': 'auto'}. Best is trial 9 with value: 0.5345748010372887.\n",
      "[I 2024-02-24 15:22:04,311] Trial 18 finished with value: 0.4607395153357775 and parameters: {'C': 35.01917464112912, 'kernel': 'linear', 'gamma': 'scale'}. Best is trial 9 with value: 0.5345748010372887.\n",
      "[I 2024-02-24 15:22:04,974] Trial 19 finished with value: 0.21570240543682373 and parameters: {'C': 0.6164190668102112, 'kernel': 'sigmoid', 'gamma': 'auto'}. Best is trial 9 with value: 0.5345748010372887.\n",
      "[I 2024-02-24 15:22:05,393] Trial 20 finished with value: 0.4626263077886078 and parameters: {'C': 79144.72132756445, 'kernel': 'linear', 'gamma': 'scale'}. Best is trial 9 with value: 0.5345748010372887.\n",
      "[I 2024-02-24 15:22:06,085] Trial 21 finished with value: 0.5109049450058124 and parameters: {'C': 736.8500821551859, 'kernel': 'rbf', 'gamma': 'scale'}. Best is trial 9 with value: 0.5345748010372887.\n",
      "[I 2024-02-24 15:22:06,747] Trial 22 finished with value: 0.5109049450058124 and parameters: {'C': 2094.8480298218074, 'kernel': 'rbf', 'gamma': 'scale'}. Best is trial 9 with value: 0.5345748010372887.\n",
      "[I 2024-02-24 15:22:07,406] Trial 23 finished with value: 0.5109049450058124 and parameters: {'C': 71.13359417171642, 'kernel': 'rbf', 'gamma': 'scale'}. Best is trial 9 with value: 0.5345748010372887.\n",
      "[I 2024-02-24 15:22:07,970] Trial 24 finished with value: 0.5364839488509345 and parameters: {'C': 1.2898399952483892, 'kernel': 'rbf', 'gamma': 'scale'}. Best is trial 24 with value: 0.5364839488509345.\n",
      "[I 2024-02-24 15:22:08,554] Trial 25 finished with value: 0.5374139318608602 and parameters: {'C': 0.7230932292213924, 'kernel': 'rbf', 'gamma': 'scale'}. Best is trial 25 with value: 0.5374139318608602.\n",
      "[I 2024-02-24 15:22:09,184] Trial 26 finished with value: 0.21570240543682373 and parameters: {'C': 1.4471352501689741e-05, 'kernel': 'rbf', 'gamma': 'auto'}. Best is trial 25 with value: 0.5374139318608602.\n",
      "[I 2024-02-24 15:22:09,849] Trial 27 finished with value: 0.21570240543682373 and parameters: {'C': 0.018144029431884836, 'kernel': 'rbf', 'gamma': 'scale'}. Best is trial 25 with value: 0.5374139318608602.\n",
      "[I 2024-02-24 15:22:10,488] Trial 28 finished with value: 0.21570240543682373 and parameters: {'C': 0.24751487521293652, 'kernel': 'rbf', 'gamma': 'auto'}. Best is trial 25 with value: 0.5374139318608602.\n",
      "[I 2024-02-24 15:22:11,141] Trial 29 finished with value: 0.21570240543682373 and parameters: {'C': 10.378344769194756, 'kernel': 'rbf', 'gamma': 'auto'}. Best is trial 25 with value: 0.5374139318608602.\n",
      "[I 2024-02-24 15:22:11,497] Trial 30 finished with value: 0.5043101135652329 and parameters: {'C': 7.710235543437327, 'kernel': 'sigmoid', 'gamma': 'scale'}. Best is trial 25 with value: 0.5374139318608602.\n",
      "[I 2024-02-24 15:22:11,893] Trial 31 finished with value: 0.5393051953858536 and parameters: {'C': 0.9821176466487772, 'kernel': 'linear', 'gamma': 'scale'}. Best is trial 31 with value: 0.5393051953858536.\n",
      "[I 2024-02-24 15:22:12,420] Trial 32 finished with value: 0.21570240543682373 and parameters: {'C': 0.023957248284480558, 'kernel': 'poly', 'gamma': 'scale', 'degree': 10}. Best is trial 31 with value: 0.5393051953858536.\n",
      "[I 2024-02-24 15:22:12,973] Trial 33 finished with value: 0.5307788607708128 and parameters: {'C': 2.007292432436496, 'kernel': 'rbf', 'gamma': 'scale'}. Best is trial 31 with value: 0.5393051953858536.\n",
      "[I 2024-02-24 15:22:13,419] Trial 34 finished with value: 0.5222659393722615 and parameters: {'C': 0.428706656618169, 'kernel': 'linear', 'gamma': 'scale'}. Best is trial 31 with value: 0.5393051953858536.\n",
      "[I 2024-02-24 15:22:13,938] Trial 35 finished with value: 0.21570240543682373 and parameters: {'C': 0.003076987031322429, 'kernel': 'sigmoid', 'gamma': 'scale'}. Best is trial 31 with value: 0.5393051953858536.\n",
      "[I 2024-02-24 15:22:14,424] Trial 36 finished with value: 0.21570240543682373 and parameters: {'C': 3.2099247266279747, 'kernel': 'poly', 'gamma': 'auto', 'degree': 1}. Best is trial 31 with value: 0.5393051953858536.\n",
      "[I 2024-02-24 15:22:14,905] Trial 37 finished with value: 0.21570240543682373 and parameters: {'C': 0.07169969401820692, 'kernel': 'linear', 'gamma': 'scale'}. Best is trial 31 with value: 0.5393051953858536.\n",
      "[I 2024-02-24 15:22:15,552] Trial 38 finished with value: 0.21570240543682373 and parameters: {'C': 16.025041858118353, 'kernel': 'rbf', 'gamma': 'auto'}. Best is trial 31 with value: 0.5393051953858536.\n",
      "[I 2024-02-24 15:22:16,069] Trial 39 finished with value: 0.21570240543682373 and parameters: {'C': 0.0037381167878459557, 'kernel': 'poly', 'gamma': 'scale', 'degree': 7}. Best is trial 31 with value: 0.5393051953858536.\n",
      "[I 2024-02-24 15:22:16,434] Trial 40 finished with value: 0.4626263077886078 and parameters: {'C': 21593.214598857678, 'kernel': 'linear', 'gamma': 'scale'}. Best is trial 31 with value: 0.5393051953858536.\n",
      "[I 2024-02-24 15:22:16,820] Trial 41 finished with value: 0.5364705356344451 and parameters: {'C': 1.1698150360061574, 'kernel': 'linear', 'gamma': 'scale'}. Best is trial 31 with value: 0.5393051953858536.\n",
      "[I 2024-02-24 15:22:17,221] Trial 42 finished with value: 0.5421398551372618 and parameters: {'C': 0.8233556021830791, 'kernel': 'linear', 'gamma': 'scale'}. Best is trial 42 with value: 0.5421398551372618.\n",
      "[I 2024-02-24 15:22:17,630] Trial 43 finished with value: 0.5459357954037378 and parameters: {'C': 0.751796233971926, 'kernel': 'linear', 'gamma': 'scale'}. Best is trial 43 with value: 0.5459357954037378.\n",
      "[I 2024-02-24 15:22:18,116] Trial 44 finished with value: 0.21665027273540197 and parameters: {'C': 0.10817776622138571, 'kernel': 'linear', 'gamma': 'scale'}. Best is trial 43 with value: 0.5459357954037378.\n",
      "[I 2024-02-24 15:22:18,543] Trial 45 finished with value: 0.5374273450773496 and parameters: {'C': 0.5448644436372487, 'kernel': 'linear', 'gamma': 'scale'}. Best is trial 43 with value: 0.5459357954037378.\n",
      "[I 2024-02-24 15:22:18,900] Trial 46 finished with value: 0.5071268890279889 and parameters: {'C': 4.255075471261124, 'kernel': 'linear', 'gamma': 'scale'}. Best is trial 43 with value: 0.5459357954037378.\n",
      "[I 2024-02-24 15:22:19,336] Trial 47 finished with value: 0.5364794777787714 and parameters: {'C': 0.5422385226700206, 'kernel': 'linear', 'gamma': 'scale'}. Best is trial 43 with value: 0.5459357954037378.\n",
      "[I 2024-02-24 15:22:19,818] Trial 48 finished with value: 0.21570240543682373 and parameters: {'C': 0.04948907568078755, 'kernel': 'linear', 'gamma': 'scale'}. Best is trial 43 with value: 0.5459357954037378.\n",
      "[I 2024-02-24 15:22:20,184] Trial 49 finished with value: 0.4616873826343557 and parameters: {'C': 42.58697250850883, 'kernel': 'linear', 'gamma': 'scale'}. Best is trial 43 with value: 0.5459357954037378.\n",
      "[I 2024-02-24 15:22:20,652] Trial 50 finished with value: 0.46735223106500945 and parameters: {'C': 0.3004121182515278, 'kernel': 'linear', 'gamma': 'scale'}. Best is trial 43 with value: 0.5459357954037378.\n",
      "[I 2024-02-24 15:22:21,038] Trial 51 finished with value: 0.541205401055173 and parameters: {'C': 1.1347945577487542, 'kernel': 'linear', 'gamma': 'scale'}. Best is trial 43 with value: 0.5459357954037378.\n",
      "[I 2024-02-24 15:22:21,437] Trial 52 finished with value: 0.5411964589108468 and parameters: {'C': 0.8860052238966536, 'kernel': 'linear', 'gamma': 'scale'}. Best is trial 43 with value: 0.5459357954037378.\n",
      "[I 2024-02-24 15:22:21,917] Trial 53 finished with value: 0.2904274344987928 and parameters: {'C': 0.17204781345243164, 'kernel': 'linear', 'gamma': 'scale'}. Best is trial 43 with value: 0.5459357954037378.\n",
      "[I 2024-02-24 15:22:22,263] Trial 54 finished with value: 0.5137619601180363 and parameters: {'C': 3.4011581200321803, 'kernel': 'linear', 'gamma': 'scale'}. Best is trial 43 with value: 0.5459357954037378.\n",
      "[I 2024-02-24 15:22:22,605] Trial 55 finished with value: 0.48726638647947773 and parameters: {'C': 6.432656089682004, 'kernel': 'linear', 'gamma': 'scale'}. Best is trial 43 with value: 0.5459357954037378.\n",
      "[I 2024-02-24 15:22:22,960] Trial 56 finished with value: 0.4645533398909058 and parameters: {'C': 20.406183611007563, 'kernel': 'linear', 'gamma': 'scale'}. Best is trial 43 with value: 0.5459357954037378.\n",
      "[I 2024-02-24 15:22:23,444] Trial 57 finished with value: 0.21570240543682373 and parameters: {'C': 0.04157224783572025, 'kernel': 'linear', 'gamma': 'scale'}. Best is trial 43 with value: 0.5459357954037378.\n",
      "[I 2024-02-24 15:22:23,809] Trial 58 finished with value: 0.4626263077886078 and parameters: {'C': 95.90704161792591, 'kernel': 'linear', 'gamma': 'scale'}. Best is trial 43 with value: 0.5459357954037378.\n",
      "[I 2024-02-24 15:22:24,294] Trial 59 finished with value: 0.21570240543682373 and parameters: {'C': 0.006704431105845286, 'kernel': 'linear', 'gamma': 'scale'}. Best is trial 43 with value: 0.5459357954037378.\n",
      "[I 2024-02-24 15:22:24,682] Trial 60 finished with value: 0.5345748010372888 and parameters: {'C': 1.236608983033544, 'kernel': 'linear', 'gamma': 'scale'}. Best is trial 43 with value: 0.5459357954037378.\n",
      "[I 2024-02-24 15:22:25,096] Trial 61 finished with value: 0.5431011356523293 and parameters: {'C': 0.7190603593664717, 'kernel': 'linear', 'gamma': 'scale'}. Best is trial 43 with value: 0.5459357954037378.\n",
      "[I 2024-02-24 15:22:25,578] Trial 62 finished with value: 0.22704104444245732 and parameters: {'C': 0.1320401009237171, 'kernel': 'linear', 'gamma': 'scale'}. Best is trial 43 with value: 0.5459357954037378.\n",
      "[I 2024-02-24 15:22:26,036] Trial 63 finished with value: 0.4929044084771529 and parameters: {'C': 0.3634492134956047, 'kernel': 'linear', 'gamma': 'scale'}. Best is trial 43 with value: 0.5459357954037378.\n",
      "[I 2024-02-24 15:22:26,400] Trial 64 finished with value: 0.5345748010372887 and parameters: {'C': 1.8450902275469931, 'kernel': 'linear', 'gamma': 'scale'}. Best is trial 43 with value: 0.5459357954037378.\n",
      "[I 2024-02-24 15:22:26,794] Trial 65 finished with value: 0.5440400608065815 and parameters: {'C': 1.0153308599928903, 'kernel': 'linear', 'gamma': 'scale'}. Best is trial 43 with value: 0.5459357954037378.\n",
      "[I 2024-02-24 15:22:27,135] Trial 66 finished with value: 0.4825136367700974 and parameters: {'C': 9.814389807499674, 'kernel': 'linear', 'gamma': 'scale'}. Best is trial 43 with value: 0.5459357954037378.\n",
      "[I 2024-02-24 15:22:27,529] Trial 67 finished with value: 0.5431011356523294 and parameters: {'C': 1.033051130805212, 'kernel': 'linear', 'gamma': 'scale'}. Best is trial 43 with value: 0.5459357954037378.\n",
      "[I 2024-02-24 15:22:28,006] Trial 68 finished with value: 0.38408745417151036 and parameters: {'C': 0.21803648360561836, 'kernel': 'linear', 'gamma': 'scale'}. Best is trial 43 with value: 0.5459357954037378.\n",
      "[I 2024-02-24 15:22:28,477] Trial 69 finished with value: 0.21570240543682373 and parameters: {'C': 0.0004999350391905135, 'kernel': 'linear', 'gamma': 'scale'}. Best is trial 43 with value: 0.5459357954037378.\n",
      "[I 2024-02-24 15:22:29,028] Trial 70 finished with value: 0.5336358758830367 and parameters: {'C': 2.232089419195453, 'kernel': 'poly', 'gamma': 'scale', 'degree': 7}. Best is trial 43 with value: 0.5459357954037378.\n",
      "[I 2024-02-24 15:22:29,434] Trial 71 finished with value: 0.542144326209425 and parameters: {'C': 0.8000766304187258, 'kernel': 'linear', 'gamma': 'scale'}. Best is trial 43 with value: 0.5459357954037378.\n",
      "[I 2024-02-24 15:22:29,847] Trial 72 finished with value: 0.5449923991773227 and parameters: {'C': 0.7327553642642187, 'kernel': 'linear', 'gamma': 'scale'}. Best is trial 43 with value: 0.5459357954037378.\n",
      "[I 2024-02-24 15:22:30,202] Trial 73 finished with value: 0.5071492443888044 and parameters: {'C': 4.910351842357012, 'kernel': 'linear', 'gamma': 'scale'}. Best is trial 43 with value: 0.5459357954037378.\n",
      "[I 2024-02-24 15:22:30,692] Trial 74 finished with value: 0.21570240543682373 and parameters: {'C': 0.06835665082698622, 'kernel': 'linear', 'gamma': 'scale'}. Best is trial 43 with value: 0.5459357954037378.\n",
      "[I 2024-02-24 15:22:31,157] Trial 75 finished with value: 0.471134758114996 and parameters: {'C': 0.327076276738437, 'kernel': 'linear', 'gamma': 'scale'}. Best is trial 43 with value: 0.5459357954037378.\n",
      "[I 2024-02-24 15:22:31,644] Trial 76 finished with value: 0.21570240543682373 and parameters: {'C': 0.03302706149767862, 'kernel': 'linear', 'gamma': 'scale'}. Best is trial 43 with value: 0.5459357954037378.\n",
      "[I 2024-02-24 15:22:32,019] Trial 77 finished with value: 0.5345748010372887 and parameters: {'C': 1.75688732122823, 'kernel': 'linear', 'gamma': 'scale'}. Best is trial 43 with value: 0.5459357954037378.\n",
      "[I 2024-02-24 15:22:32,525] Trial 78 finished with value: 0.21570240543682373 and parameters: {'C': 0.08460924014026831, 'kernel': 'sigmoid', 'gamma': 'auto'}. Best is trial 43 with value: 0.5459357954037378.\n",
      "[I 2024-02-24 15:22:32,876] Trial 79 finished with value: 0.47020924617723325 and parameters: {'C': 15.592646875269537, 'kernel': 'linear', 'gamma': 'scale'}. Best is trial 43 with value: 0.5459357954037378.\n",
      "[I 2024-02-24 15:22:33,301] Trial 80 finished with value: 0.5440490029509075 and parameters: {'C': 0.711073742609546, 'kernel': 'poly', 'gamma': 'scale', 'degree': 1}. Best is trial 43 with value: 0.5459357954037378.\n",
      "[I 2024-02-24 15:22:33,709] Trial 81 finished with value: 0.5421398551372618 and parameters: {'C': 0.8964628292134403, 'kernel': 'poly', 'gamma': 'scale', 'degree': 1}. Best is trial 43 with value: 0.5459357954037378.\n",
      "[I 2024-02-24 15:22:34,138] Trial 82 finished with value: 0.5431011356523294 and parameters: {'C': 0.6520191273530229, 'kernel': 'poly', 'gamma': 'scale', 'degree': 1}. Best is trial 43 with value: 0.5459357954037378.\n",
      "[I 2024-02-24 15:22:34,636] Trial 83 finished with value: 0.44369131717785926 and parameters: {'C': 0.1978114966062945, 'kernel': 'poly', 'gamma': 'scale', 'degree': 3}. Best is trial 43 with value: 0.5459357954037378.\n",
      "[I 2024-02-24 15:22:35,073] Trial 84 finished with value: 0.5383707413037646 and parameters: {'C': 0.557726303171182, 'kernel': 'poly', 'gamma': 'scale', 'degree': 1}. Best is trial 43 with value: 0.5459357954037378.\n",
      "[I 2024-02-24 15:22:35,579] Trial 85 finished with value: 0.5232227488151658 and parameters: {'C': 2.988764946775258, 'kernel': 'poly', 'gamma': 'scale', 'degree': 3}. Best is trial 43 with value: 0.5459357954037378.\n",
      "[I 2024-02-24 15:22:36,062] Trial 86 finished with value: 0.519431279620853 and parameters: {'C': 0.4322847775280805, 'kernel': 'poly', 'gamma': 'scale', 'degree': 5}. Best is trial 43 with value: 0.5459357954037378.\n",
      "[I 2024-02-24 15:22:36,560] Trial 87 finished with value: 0.5014396852365197 and parameters: {'C': 6.843422616226855, 'kernel': 'poly', 'gamma': 'scale', 'degree': 2}. Best is trial 43 with value: 0.5459357954037378.\n",
      "[I 2024-02-24 15:22:37,078] Trial 88 finished with value: 0.21570240543682373 and parameters: {'C': 0.012122349937956727, 'kernel': 'poly', 'gamma': 'scale', 'degree': 6}. Best is trial 43 with value: 0.5459357954037378.\n",
      "[I 2024-02-24 15:22:37,548] Trial 89 finished with value: 0.21570240543682373 and parameters: {'C': 0.11950824827629233, 'kernel': 'poly', 'gamma': 'auto', 'degree': 2}. Best is trial 43 with value: 0.5459357954037378.\n",
      "[I 2024-02-24 15:22:38,028] Trial 90 finished with value: 0.5392962532415273 and parameters: {'C': 0.6683908109340915, 'kernel': 'poly', 'gamma': 'scale', 'degree': 5}. Best is trial 43 with value: 0.5459357954037378.\n",
      "[I 2024-02-24 15:22:38,410] Trial 91 finished with value: 0.5336314048108737 and parameters: {'C': 1.4834634070191286, 'kernel': 'poly', 'gamma': 'scale', 'degree': 1}. Best is trial 43 with value: 0.5459357954037378.\n",
      "[I 2024-02-24 15:22:38,818] Trial 92 finished with value: 0.540266475900921 and parameters: {'C': 0.8055984278138975, 'kernel': 'poly', 'gamma': 'scale', 'degree': 2}. Best is trial 43 with value: 0.5459357954037378.\n",
      "[I 2024-02-24 15:22:39,300] Trial 93 finished with value: 0.4597961191093624 and parameters: {'C': 0.28599700246719006, 'kernel': 'poly', 'gamma': 'scale', 'degree': 1}. Best is trial 43 with value: 0.5459357954037378.\n",
      "[I 2024-02-24 15:22:39,692] Trial 94 finished with value: 0.5222614683000983 and parameters: {'C': 2.7146086036731907, 'kernel': 'poly', 'gamma': 'scale', 'degree': 2}. Best is trial 43 with value: 0.5459357954037378.\n",
      "[I 2024-02-24 15:22:40,136] Trial 95 finished with value: 0.5449879281051596 and parameters: {'C': 1.003831959485295, 'kernel': 'sigmoid', 'gamma': 'scale'}. Best is trial 43 with value: 0.5459357954037378.\n",
      "[I 2024-02-24 15:22:40,492] Trial 96 finished with value: 0.5099704909237235 and parameters: {'C': 5.500791921280731, 'kernel': 'sigmoid', 'gamma': 'scale'}. Best is trial 43 with value: 0.5459357954037378.\n",
      "[I 2024-02-24 15:22:40,835] Trial 97 finished with value: 0.4967227041044442 and parameters: {'C': 11.772657150834235, 'kernel': 'sigmoid', 'gamma': 'scale'}. Best is trial 43 with value: 0.5459357954037378.\n",
      "[I 2024-02-24 15:22:41,353] Trial 98 finished with value: 0.21665027273540197 and parameters: {'C': 0.16566131148520663, 'kernel': 'sigmoid', 'gamma': 'scale'}. Best is trial 43 with value: 0.5459357954037378.\n",
      "[I 2024-02-24 15:22:41,709] Trial 99 finished with value: 0.4531834033801306 and parameters: {'C': 32.66110696578537, 'kernel': 'sigmoid', 'gamma': 'scale'}. Best is trial 43 with value: 0.5459357954037378.\n"
     ]
    },
    {
     "name": "stdout",
     "output_type": "stream",
     "text": [
      "Best trial: {'C': 0.751796233971926, 'kernel': 'linear', 'gamma': 'scale'}\n"
     ]
    }
   ],
   "source": [
    "def objective(trial):\n",
    "    # Hyperparameters to tune\n",
    "    C = trial.suggest_float('C', 1e-5, 1e5, log=True)\n",
    "    kernel = trial.suggest_categorical('kernel', ['linear', 'poly', 'rbf', 'sigmoid'])\n",
    "    gamma = trial.suggest_categorical('gamma', ['scale', 'auto'])\n",
    "\n",
    "    # If kernel is 'poly', we also tune degree\n",
    "    if kernel == 'poly':\n",
    "        degree = trial.suggest_int('degree', 1, 10)\n",
    "\n",
    "    # Create and train the SVM model\n",
    "    if kernel == 'poly':\n",
    "        model = SVC(C=C, kernel=kernel, degree=degree, gamma=gamma, random_state=22)\n",
    "    else:\n",
    "        model = SVC(C=C, kernel=kernel, gamma=gamma, random_state=22)\n",
    "\n",
    "    score = cross_val_score(model, X, y, scoring='accuracy')\n",
    "    return score.mean()\n",
    "\n",
    "\n",
    "# Create a study object and specify the optimization direction\n",
    "study = optuna.create_study(direction='maximize')\n",
    "study.optimize(objective, n_trials=100)  # You can adjust the number of trials\n",
    "\n",
    "# Output the best hyperparameters\n",
    "print('Best trial:', study.best_trial.params)"
   ],
   "metadata": {
    "collapsed": false,
    "ExecuteTime": {
     "end_time": "2024-02-24T13:22:41.713803300Z",
     "start_time": "2024-02-24T13:21:53.816564400Z"
    }
   },
   "id": "3352fe02bac0f7c4",
   "execution_count": 19
  },
  {
   "cell_type": "markdown",
   "source": [
    "### Multi-class SGD\n",
    "\n",
    "Let's now train a multi-class SGD model on the embeddings and the class."
   ],
   "metadata": {
    "collapsed": false
   },
   "id": "78bd39336c8fa4c1"
  },
  {
   "cell_type": "code",
   "outputs": [
    {
     "data": {
      "text/plain": "SGDClassifier(alpha=2.6545371602330262e-06, eta0=0.007698135990041223,\n              learning_rate='adaptive', loss='squared_hinge', n_jobs=-1,\n              random_state=42)",
      "text/html": "<style>#sk-container-id-7 {\n  /* Definition of color scheme common for light and dark mode */\n  --sklearn-color-text: black;\n  --sklearn-color-line: gray;\n  /* Definition of color scheme for unfitted estimators */\n  --sklearn-color-unfitted-level-0: #fff5e6;\n  --sklearn-color-unfitted-level-1: #f6e4d2;\n  --sklearn-color-unfitted-level-2: #ffe0b3;\n  --sklearn-color-unfitted-level-3: chocolate;\n  /* Definition of color scheme for fitted estimators */\n  --sklearn-color-fitted-level-0: #f0f8ff;\n  --sklearn-color-fitted-level-1: #d4ebff;\n  --sklearn-color-fitted-level-2: #b3dbfd;\n  --sklearn-color-fitted-level-3: cornflowerblue;\n\n  /* Specific color for light theme */\n  --sklearn-color-text-on-default-background: var(--sg-text-color, var(--theme-code-foreground, var(--jp-content-font-color1, black)));\n  --sklearn-color-background: var(--sg-background-color, var(--theme-background, var(--jp-layout-color0, white)));\n  --sklearn-color-border-box: var(--sg-text-color, var(--theme-code-foreground, var(--jp-content-font-color1, black)));\n  --sklearn-color-icon: #696969;\n\n  @media (prefers-color-scheme: dark) {\n    /* Redefinition of color scheme for dark theme */\n    --sklearn-color-text-on-default-background: var(--sg-text-color, var(--theme-code-foreground, var(--jp-content-font-color1, white)));\n    --sklearn-color-background: var(--sg-background-color, var(--theme-background, var(--jp-layout-color0, #111)));\n    --sklearn-color-border-box: var(--sg-text-color, var(--theme-code-foreground, var(--jp-content-font-color1, white)));\n    --sklearn-color-icon: #878787;\n  }\n}\n\n#sk-container-id-7 {\n  color: var(--sklearn-color-text);\n}\n\n#sk-container-id-7 pre {\n  padding: 0;\n}\n\n#sk-container-id-7 input.sk-hidden--visually {\n  border: 0;\n  clip: rect(1px 1px 1px 1px);\n  clip: rect(1px, 1px, 1px, 1px);\n  height: 1px;\n  margin: -1px;\n  overflow: hidden;\n  padding: 0;\n  position: absolute;\n  width: 1px;\n}\n\n#sk-container-id-7 div.sk-dashed-wrapped {\n  border: 1px dashed var(--sklearn-color-line);\n  margin: 0 0.4em 0.5em 0.4em;\n  box-sizing: border-box;\n  padding-bottom: 0.4em;\n  background-color: var(--sklearn-color-background);\n}\n\n#sk-container-id-7 div.sk-container {\n  /* jupyter's `normalize.less` sets `[hidden] { display: none; }`\n     but bootstrap.min.css set `[hidden] { display: none !important; }`\n     so we also need the `!important` here to be able to override the\n     default hidden behavior on the sphinx rendered scikit-learn.org.\n     See: https://github.com/scikit-learn/scikit-learn/issues/21755 */\n  display: inline-block !important;\n  position: relative;\n}\n\n#sk-container-id-7 div.sk-text-repr-fallback {\n  display: none;\n}\n\ndiv.sk-parallel-item,\ndiv.sk-serial,\ndiv.sk-item {\n  /* draw centered vertical line to link estimators */\n  background-image: linear-gradient(var(--sklearn-color-text-on-default-background), var(--sklearn-color-text-on-default-background));\n  background-size: 2px 100%;\n  background-repeat: no-repeat;\n  background-position: center center;\n}\n\n/* Parallel-specific style estimator block */\n\n#sk-container-id-7 div.sk-parallel-item::after {\n  content: \"\";\n  width: 100%;\n  border-bottom: 2px solid var(--sklearn-color-text-on-default-background);\n  flex-grow: 1;\n}\n\n#sk-container-id-7 div.sk-parallel {\n  display: flex;\n  align-items: stretch;\n  justify-content: center;\n  background-color: var(--sklearn-color-background);\n  position: relative;\n}\n\n#sk-container-id-7 div.sk-parallel-item {\n  display: flex;\n  flex-direction: column;\n}\n\n#sk-container-id-7 div.sk-parallel-item:first-child::after {\n  align-self: flex-end;\n  width: 50%;\n}\n\n#sk-container-id-7 div.sk-parallel-item:last-child::after {\n  align-self: flex-start;\n  width: 50%;\n}\n\n#sk-container-id-7 div.sk-parallel-item:only-child::after {\n  width: 0;\n}\n\n/* Serial-specific style estimator block */\n\n#sk-container-id-7 div.sk-serial {\n  display: flex;\n  flex-direction: column;\n  align-items: center;\n  background-color: var(--sklearn-color-background);\n  padding-right: 1em;\n  padding-left: 1em;\n}\n\n\n/* Toggleable style: style used for estimator/Pipeline/ColumnTransformer box that is\nclickable and can be expanded/collapsed.\n- Pipeline and ColumnTransformer use this feature and define the default style\n- Estimators will overwrite some part of the style using the `sk-estimator` class\n*/\n\n/* Pipeline and ColumnTransformer style (default) */\n\n#sk-container-id-7 div.sk-toggleable {\n  /* Default theme specific background. It is overwritten whether we have a\n  specific estimator or a Pipeline/ColumnTransformer */\n  background-color: var(--sklearn-color-background);\n}\n\n/* Toggleable label */\n#sk-container-id-7 label.sk-toggleable__label {\n  cursor: pointer;\n  display: block;\n  width: 100%;\n  margin-bottom: 0;\n  padding: 0.5em;\n  box-sizing: border-box;\n  text-align: center;\n}\n\n#sk-container-id-7 label.sk-toggleable__label-arrow:before {\n  /* Arrow on the left of the label */\n  content: \"▸\";\n  float: left;\n  margin-right: 0.25em;\n  color: var(--sklearn-color-icon);\n}\n\n#sk-container-id-7 label.sk-toggleable__label-arrow:hover:before {\n  color: var(--sklearn-color-text);\n}\n\n/* Toggleable content - dropdown */\n\n#sk-container-id-7 div.sk-toggleable__content {\n  max-height: 0;\n  max-width: 0;\n  overflow: hidden;\n  text-align: left;\n  /* unfitted */\n  background-color: var(--sklearn-color-unfitted-level-0);\n}\n\n#sk-container-id-7 div.sk-toggleable__content.fitted {\n  /* fitted */\n  background-color: var(--sklearn-color-fitted-level-0);\n}\n\n#sk-container-id-7 div.sk-toggleable__content pre {\n  margin: 0.2em;\n  border-radius: 0.25em;\n  color: var(--sklearn-color-text);\n  /* unfitted */\n  background-color: var(--sklearn-color-unfitted-level-0);\n}\n\n#sk-container-id-7 div.sk-toggleable__content.fitted pre {\n  /* unfitted */\n  background-color: var(--sklearn-color-fitted-level-0);\n}\n\n#sk-container-id-7 input.sk-toggleable__control:checked~div.sk-toggleable__content {\n  /* Expand drop-down */\n  max-height: 200px;\n  max-width: 100%;\n  overflow: auto;\n}\n\n#sk-container-id-7 input.sk-toggleable__control:checked~label.sk-toggleable__label-arrow:before {\n  content: \"▾\";\n}\n\n/* Pipeline/ColumnTransformer-specific style */\n\n#sk-container-id-7 div.sk-label input.sk-toggleable__control:checked~label.sk-toggleable__label {\n  color: var(--sklearn-color-text);\n  background-color: var(--sklearn-color-unfitted-level-2);\n}\n\n#sk-container-id-7 div.sk-label.fitted input.sk-toggleable__control:checked~label.sk-toggleable__label {\n  background-color: var(--sklearn-color-fitted-level-2);\n}\n\n/* Estimator-specific style */\n\n/* Colorize estimator box */\n#sk-container-id-7 div.sk-estimator input.sk-toggleable__control:checked~label.sk-toggleable__label {\n  /* unfitted */\n  background-color: var(--sklearn-color-unfitted-level-2);\n}\n\n#sk-container-id-7 div.sk-estimator.fitted input.sk-toggleable__control:checked~label.sk-toggleable__label {\n  /* fitted */\n  background-color: var(--sklearn-color-fitted-level-2);\n}\n\n#sk-container-id-7 div.sk-label label.sk-toggleable__label,\n#sk-container-id-7 div.sk-label label {\n  /* The background is the default theme color */\n  color: var(--sklearn-color-text-on-default-background);\n}\n\n/* On hover, darken the color of the background */\n#sk-container-id-7 div.sk-label:hover label.sk-toggleable__label {\n  color: var(--sklearn-color-text);\n  background-color: var(--sklearn-color-unfitted-level-2);\n}\n\n/* Label box, darken color on hover, fitted */\n#sk-container-id-7 div.sk-label.fitted:hover label.sk-toggleable__label.fitted {\n  color: var(--sklearn-color-text);\n  background-color: var(--sklearn-color-fitted-level-2);\n}\n\n/* Estimator label */\n\n#sk-container-id-7 div.sk-label label {\n  font-family: monospace;\n  font-weight: bold;\n  display: inline-block;\n  line-height: 1.2em;\n}\n\n#sk-container-id-7 div.sk-label-container {\n  text-align: center;\n}\n\n/* Estimator-specific */\n#sk-container-id-7 div.sk-estimator {\n  font-family: monospace;\n  border: 1px dotted var(--sklearn-color-border-box);\n  border-radius: 0.25em;\n  box-sizing: border-box;\n  margin-bottom: 0.5em;\n  /* unfitted */\n  background-color: var(--sklearn-color-unfitted-level-0);\n}\n\n#sk-container-id-7 div.sk-estimator.fitted {\n  /* fitted */\n  background-color: var(--sklearn-color-fitted-level-0);\n}\n\n/* on hover */\n#sk-container-id-7 div.sk-estimator:hover {\n  /* unfitted */\n  background-color: var(--sklearn-color-unfitted-level-2);\n}\n\n#sk-container-id-7 div.sk-estimator.fitted:hover {\n  /* fitted */\n  background-color: var(--sklearn-color-fitted-level-2);\n}\n\n/* Specification for estimator info (e.g. \"i\" and \"?\") */\n\n/* Common style for \"i\" and \"?\" */\n\n.sk-estimator-doc-link,\na:link.sk-estimator-doc-link,\na:visited.sk-estimator-doc-link {\n  float: right;\n  font-size: smaller;\n  line-height: 1em;\n  font-family: monospace;\n  background-color: var(--sklearn-color-background);\n  border-radius: 1em;\n  height: 1em;\n  width: 1em;\n  text-decoration: none !important;\n  margin-left: 1ex;\n  /* unfitted */\n  border: var(--sklearn-color-unfitted-level-1) 1pt solid;\n  color: var(--sklearn-color-unfitted-level-1);\n}\n\n.sk-estimator-doc-link.fitted,\na:link.sk-estimator-doc-link.fitted,\na:visited.sk-estimator-doc-link.fitted {\n  /* fitted */\n  border: var(--sklearn-color-fitted-level-1) 1pt solid;\n  color: var(--sklearn-color-fitted-level-1);\n}\n\n/* On hover */\ndiv.sk-estimator:hover .sk-estimator-doc-link:hover,\n.sk-estimator-doc-link:hover,\ndiv.sk-label-container:hover .sk-estimator-doc-link:hover,\n.sk-estimator-doc-link:hover {\n  /* unfitted */\n  background-color: var(--sklearn-color-unfitted-level-3);\n  color: var(--sklearn-color-background);\n  text-decoration: none;\n}\n\ndiv.sk-estimator.fitted:hover .sk-estimator-doc-link.fitted:hover,\n.sk-estimator-doc-link.fitted:hover,\ndiv.sk-label-container:hover .sk-estimator-doc-link.fitted:hover,\n.sk-estimator-doc-link.fitted:hover {\n  /* fitted */\n  background-color: var(--sklearn-color-fitted-level-3);\n  color: var(--sklearn-color-background);\n  text-decoration: none;\n}\n\n/* Span, style for the box shown on hovering the info icon */\n.sk-estimator-doc-link span {\n  display: none;\n  z-index: 9999;\n  position: relative;\n  font-weight: normal;\n  right: .2ex;\n  padding: .5ex;\n  margin: .5ex;\n  width: min-content;\n  min-width: 20ex;\n  max-width: 50ex;\n  color: var(--sklearn-color-text);\n  box-shadow: 2pt 2pt 4pt #999;\n  /* unfitted */\n  background: var(--sklearn-color-unfitted-level-0);\n  border: .5pt solid var(--sklearn-color-unfitted-level-3);\n}\n\n.sk-estimator-doc-link.fitted span {\n  /* fitted */\n  background: var(--sklearn-color-fitted-level-0);\n  border: var(--sklearn-color-fitted-level-3);\n}\n\n.sk-estimator-doc-link:hover span {\n  display: block;\n}\n\n/* \"?\"-specific style due to the `<a>` HTML tag */\n\n#sk-container-id-7 a.estimator_doc_link {\n  float: right;\n  font-size: 1rem;\n  line-height: 1em;\n  font-family: monospace;\n  background-color: var(--sklearn-color-background);\n  border-radius: 1rem;\n  height: 1rem;\n  width: 1rem;\n  text-decoration: none;\n  /* unfitted */\n  color: var(--sklearn-color-unfitted-level-1);\n  border: var(--sklearn-color-unfitted-level-1) 1pt solid;\n}\n\n#sk-container-id-7 a.estimator_doc_link.fitted {\n  /* fitted */\n  border: var(--sklearn-color-fitted-level-1) 1pt solid;\n  color: var(--sklearn-color-fitted-level-1);\n}\n\n/* On hover */\n#sk-container-id-7 a.estimator_doc_link:hover {\n  /* unfitted */\n  background-color: var(--sklearn-color-unfitted-level-3);\n  color: var(--sklearn-color-background);\n  text-decoration: none;\n}\n\n#sk-container-id-7 a.estimator_doc_link.fitted:hover {\n  /* fitted */\n  background-color: var(--sklearn-color-fitted-level-3);\n}\n</style><div id=\"sk-container-id-7\" class=\"sk-top-container\"><div class=\"sk-text-repr-fallback\"><pre>SGDClassifier(alpha=2.6545371602330262e-06, eta0=0.007698135990041223,\n              learning_rate=&#x27;adaptive&#x27;, loss=&#x27;squared_hinge&#x27;, n_jobs=-1,\n              random_state=42)</pre><b>In a Jupyter environment, please rerun this cell to show the HTML representation or trust the notebook. <br />On GitHub, the HTML representation is unable to render, please try loading this page with nbviewer.org.</b></div><div class=\"sk-container\" hidden><div class=\"sk-item\"><div class=\"sk-estimator fitted sk-toggleable\"><input class=\"sk-toggleable__control sk-hidden--visually\" id=\"sk-estimator-id-7\" type=\"checkbox\" checked><label for=\"sk-estimator-id-7\" class=\"sk-toggleable__label fitted sk-toggleable__label-arrow fitted\">&nbsp;&nbsp;SGDClassifier<a class=\"sk-estimator-doc-link fitted\" rel=\"noreferrer\" target=\"_blank\" href=\"https://scikit-learn.org/1.4/modules/generated/sklearn.linear_model.SGDClassifier.html\">?<span>Documentation for SGDClassifier</span></a><span class=\"sk-estimator-doc-link fitted\">i<span>Fitted</span></span></label><div class=\"sk-toggleable__content fitted\"><pre>SGDClassifier(alpha=2.6545371602330262e-06, eta0=0.007698135990041223,\n              learning_rate=&#x27;adaptive&#x27;, loss=&#x27;squared_hinge&#x27;, n_jobs=-1,\n              random_state=42)</pre></div> </div></div></div></div>"
     },
     "execution_count": 45,
     "metadata": {},
     "output_type": "execute_result"
    }
   ],
   "source": [
    "sgd_model = SGDClassifier(loss='squared_hinge', max_iter=1000, n_jobs=-1, random_state=42,\n",
    "                          penalty='l2', alpha=2.6545371602330262e-06,\n",
    "                          learning_rate='adaptive', eta0=0.007698135990041223)\n",
    "sgd_model.fit(X_train, y_train)"
   ],
   "metadata": {
    "collapsed": false,
    "ExecuteTime": {
     "end_time": "2024-02-24T13:37:47.218605400Z",
     "start_time": "2024-02-24T13:37:47.065594200Z"
    }
   },
   "id": "52c78921d9b40eea",
   "execution_count": 45
  },
  {
   "cell_type": "code",
   "outputs": [
    {
     "name": "stdout",
     "output_type": "stream",
     "text": [
      "              precision    recall  f1-score   support\n",
      "\n",
      "           0       0.77      0.70      0.73        43\n",
      "           1       0.73      0.71      0.72        31\n",
      "           2       0.76      0.74      0.75        34\n",
      "           3       0.67      0.69      0.68        26\n",
      "           4       0.62      0.67      0.64        27\n",
      "           5       0.72      0.76      0.74        51\n",
      "\n",
      "    accuracy                           0.72       212\n",
      "   macro avg       0.71      0.71      0.71       212\n",
      "weighted avg       0.72      0.72      0.72       212\n"
     ]
    }
   ],
   "source": [
    "# Generate classification report\n",
    "y_pred = sgd_model.predict(X_test)\n",
    "print(metrics.classification_report(y_test, y_pred))"
   ],
   "metadata": {
    "collapsed": false,
    "ExecuteTime": {
     "end_time": "2024-02-24T13:37:47.428834600Z",
     "start_time": "2024-02-24T13:37:47.419665Z"
    }
   },
   "id": "fe95d6f1c77a888d",
   "execution_count": 46
  },
  {
   "cell_type": "markdown",
   "source": [
    "Let's use the `optuna` library to find the best hyperparameters for the model based on the maximization of the accuracy."
   ],
   "metadata": {
    "collapsed": false
   },
   "id": "dc1256b67572c199"
  },
  {
   "cell_type": "code",
   "outputs": [
    {
     "name": "stderr",
     "output_type": "stream",
     "text": [
      "[I 2024-02-24 15:24:16,607] A new study created in memory with name: no-name-92fe01f2-11bc-4229-83df-456aa2fb7503\n",
      "[I 2024-02-24 15:24:17,084] Trial 0 finished with value: 0.6047337278106509 and parameters: {'loss': 'perceptron', 'penalty': 'l2', 'alpha': 5.849013687796652e-06, 'learning_rate': 'adaptive', 'eta0': 0.0013475657567535645}. Best is trial 0 with value: 0.6047337278106509.\n",
      "[I 2024-02-24 15:24:17,609] Trial 1 finished with value: 0.4958579881656805 and parameters: {'loss': 'squared_hinge', 'penalty': 'l2', 'alpha': 0.02749692429366791, 'learning_rate': 'constant', 'eta0': 0.02176202623344909}. Best is trial 0 with value: 0.6047337278106509.\n",
      "[I 2024-02-24 15:24:18,008] Trial 2 finished with value: 0.20946745562130178 and parameters: {'loss': 'log_loss', 'penalty': 'elasticnet', 'alpha': 1.997101470441552e-05, 'learning_rate': 'invscaling', 'eta0': 0.00022191668819864202}. Best is trial 0 with value: 0.6047337278106509.\n",
      "[I 2024-02-24 15:24:20,501] Trial 3 finished with value: 0.5396449704142012 and parameters: {'loss': 'log_loss', 'penalty': 'elasticnet', 'alpha': 0.0027546216060563697, 'learning_rate': 'optimal', 'eta0': 0.018066274256286548}. Best is trial 0 with value: 0.6047337278106509.\n",
      "[I 2024-02-24 15:24:21,326] Trial 4 finished with value: 0.20946745562130178 and parameters: {'loss': 'log_loss', 'penalty': 'l2', 'alpha': 0.02074583715225828, 'learning_rate': 'constant', 'eta0': 0.0003352475325948246}. Best is trial 0 with value: 0.6047337278106509.\n",
      "[I 2024-02-24 15:24:21,547] Trial 5 finished with value: 0.2201183431952663 and parameters: {'loss': 'log_loss', 'penalty': 'l2', 'alpha': 0.05143432818927347, 'learning_rate': 'optimal', 'eta0': 0.00012016007598521636}. Best is trial 0 with value: 0.6047337278106509.\n",
      "[I 2024-02-24 15:24:22,919] Trial 6 finished with value: 0.5893491124260355 and parameters: {'loss': 'squared_hinge', 'penalty': 'elasticnet', 'alpha': 3.622916129577757e-06, 'learning_rate': 'optimal', 'eta0': 5.1519238307542115e-05}. Best is trial 0 with value: 0.6047337278106509.\n",
      "[I 2024-02-24 15:24:29,176] Trial 7 finished with value: 0.6142011834319527 and parameters: {'loss': 'squared_hinge', 'penalty': 'elasticnet', 'alpha': 2.4658544456124004e-06, 'learning_rate': 'adaptive', 'eta0': 0.041784241447272046}. Best is trial 7 with value: 0.6142011834319527.\n",
      "[I 2024-02-24 15:24:38,191] Trial 8 finished with value: 0.20946745562130178 and parameters: {'loss': 'squared_hinge', 'penalty': 'l1', 'alpha': 0.01089458426470588, 'learning_rate': 'invscaling', 'eta0': 0.0003731696632510087}. Best is trial 7 with value: 0.6142011834319527.\n",
      "[I 2024-02-24 15:24:38,972] Trial 9 finished with value: 0.20946745562130178 and parameters: {'loss': 'log_loss', 'penalty': 'elasticnet', 'alpha': 2.9232576203632103e-06, 'learning_rate': 'constant', 'eta0': 0.0015070036355670194}. Best is trial 7 with value: 0.6142011834319527.\n",
      "[I 2024-02-24 15:24:43,898] Trial 10 finished with value: 0.6390532544378698 and parameters: {'loss': 'hinge', 'penalty': 'l1', 'alpha': 6.589324727664278e-05, 'learning_rate': 'adaptive', 'eta0': 0.08356603976765953}. Best is trial 10 with value: 0.6390532544378698.\n",
      "[I 2024-02-24 15:24:48,910] Trial 11 finished with value: 0.6307692307692307 and parameters: {'loss': 'hinge', 'penalty': 'l1', 'alpha': 0.00015472275939682194, 'learning_rate': 'adaptive', 'eta0': 0.07214098202895726}. Best is trial 10 with value: 0.6390532544378698.\n",
      "[I 2024-02-24 15:24:50,617] Trial 12 finished with value: 0.6307692307692307 and parameters: {'loss': 'hinge', 'penalty': 'l1', 'alpha': 0.00013082160055436523, 'learning_rate': 'adaptive', 'eta0': 0.006157260960841587}. Best is trial 10 with value: 0.6390532544378698.\n",
      "[I 2024-02-24 15:24:55,857] Trial 13 finished with value: 0.6307692307692307 and parameters: {'loss': 'hinge', 'penalty': 'l1', 'alpha': 0.00022018770025387775, 'learning_rate': 'adaptive', 'eta0': 0.08714171846882023}. Best is trial 10 with value: 0.6390532544378698.\n",
      "[I 2024-02-24 15:25:01,245] Trial 14 finished with value: 0.5207100591715975 and parameters: {'loss': 'hinge', 'penalty': 'l1', 'alpha': 4.17909630361708e-05, 'learning_rate': 'adaptive', 'eta0': 1.3261119506900109e-05}. Best is trial 10 with value: 0.6390532544378698.\n",
      "[I 2024-02-24 15:25:03,856] Trial 15 finished with value: 0.6082840236686391 and parameters: {'loss': 'hinge', 'penalty': 'l1', 'alpha': 0.0009466504317401401, 'learning_rate': 'adaptive', 'eta0': 0.006781869493491628}. Best is trial 10 with value: 0.6390532544378698.\n",
      "[I 2024-02-24 15:25:08,408] Trial 16 finished with value: 0.5644970414201185 and parameters: {'loss': 'hinge', 'penalty': 'l1', 'alpha': 0.0009254901771484319, 'learning_rate': 'adaptive', 'eta0': 0.07813984729698077}. Best is trial 10 with value: 0.6390532544378698.\n",
      "[I 2024-02-24 15:25:09,761] Trial 17 finished with value: 0.5988165680473372 and parameters: {'loss': 'perceptron', 'penalty': 'l1', 'alpha': 4.461737082127643e-05, 'learning_rate': 'adaptive', 'eta0': 0.005397831626914724}. Best is trial 10 with value: 0.6390532544378698.\n",
      "[I 2024-02-24 15:25:10,106] Trial 18 finished with value: 0.5680473372781065 and parameters: {'loss': 'hinge', 'penalty': 'l1', 'alpha': 0.0005269081311306156, 'learning_rate': 'invscaling', 'eta0': 0.01847177863689828}. Best is trial 10 with value: 0.6390532544378698.\n",
      "[I 2024-02-24 15:25:11,404] Trial 19 finished with value: 0.6319526627218934 and parameters: {'loss': 'hinge', 'penalty': 'l1', 'alpha': 1.368260880751569e-05, 'learning_rate': 'adaptive', 'eta0': 0.002339578979223399}. Best is trial 10 with value: 0.6390532544378698.\n",
      "[I 2024-02-24 15:25:12,710] Trial 20 finished with value: 0.6307692307692307 and parameters: {'loss': 'hinge', 'penalty': 'l1', 'alpha': 1.1656724363060256e-05, 'learning_rate': 'adaptive', 'eta0': 0.0023451391210514974}. Best is trial 10 with value: 0.6390532544378698.\n",
      "[I 2024-02-24 15:25:18,284] Trial 21 finished with value: 0.6402366863905326 and parameters: {'loss': 'hinge', 'penalty': 'l1', 'alpha': 9.129068390023895e-05, 'learning_rate': 'adaptive', 'eta0': 0.03833904395068281}. Best is trial 21 with value: 0.6402366863905326.\n",
      "[I 2024-02-24 15:25:23,936] Trial 22 finished with value: 0.6390532544378699 and parameters: {'loss': 'hinge', 'penalty': 'l1', 'alpha': 6.094233103368964e-05, 'learning_rate': 'adaptive', 'eta0': 0.03109242239810391}. Best is trial 21 with value: 0.6402366863905326.\n",
      "[I 2024-02-24 15:25:29,518] Trial 23 finished with value: 0.6366863905325444 and parameters: {'loss': 'hinge', 'penalty': 'l1', 'alpha': 1.0077028865768343e-06, 'learning_rate': 'adaptive', 'eta0': 0.03027255997202756}. Best is trial 21 with value: 0.6402366863905326.\n",
      "[I 2024-02-24 15:25:30,875] Trial 24 finished with value: 0.6106508875739645 and parameters: {'loss': 'perceptron', 'penalty': 'l1', 'alpha': 6.298287413893196e-05, 'learning_rate': 'adaptive', 'eta0': 0.010208342086710027}. Best is trial 21 with value: 0.6402366863905326.\n",
      "[I 2024-02-24 15:25:36,649] Trial 25 finished with value: 0.6378698224852072 and parameters: {'loss': 'hinge', 'penalty': 'l1', 'alpha': 9.333890637054054e-05, 'learning_rate': 'adaptive', 'eta0': 0.03271768553364727}. Best is trial 21 with value: 0.6402366863905326.\n",
      "[I 2024-02-24 15:25:40,416] Trial 26 finished with value: 0.6402366863905327 and parameters: {'loss': 'hinge', 'penalty': 'l1', 'alpha': 2.4517122913654277e-05, 'learning_rate': 'constant', 'eta0': 0.051398377365923134}. Best is trial 26 with value: 0.6402366863905327.\n",
      "[I 2024-02-24 15:25:40,980] Trial 27 finished with value: 0.1668639053254438 and parameters: {'loss': 'hinge', 'penalty': 'l1', 'alpha': 0.003040172537221823, 'learning_rate': 'constant', 'eta0': 0.011143504220698161}. Best is trial 26 with value: 0.6402366863905327.\n",
      "[I 2024-02-24 15:25:42,578] Trial 28 finished with value: 0.6307692307692307 and parameters: {'loss': 'hinge', 'penalty': 'l2', 'alpha': 3.368863594442148e-05, 'learning_rate': 'constant', 'eta0': 0.044670007113525256}. Best is trial 26 with value: 0.6402366863905327.\n",
      "[I 2024-02-24 15:25:42,867] Trial 29 finished with value: 0.5218934911242603 and parameters: {'loss': 'perceptron', 'penalty': 'l1', 'alpha': 6.131674963415057e-06, 'learning_rate': 'constant', 'eta0': 0.0029964481147388596}. Best is trial 26 with value: 0.6402366863905327.\n",
      "[I 2024-02-24 15:25:42,985] Trial 30 finished with value: 0.5171597633136095 and parameters: {'loss': 'perceptron', 'penalty': 'l2', 'alpha': 0.0004042595929359824, 'learning_rate': 'constant', 'eta0': 0.01331598840483221}. Best is trial 26 with value: 0.6402366863905327.\n",
      "[I 2024-02-24 15:25:48,276] Trial 31 finished with value: 0.6378698224852071 and parameters: {'loss': 'hinge', 'penalty': 'l1', 'alpha': 2.2626975368050612e-05, 'learning_rate': 'adaptive', 'eta0': 0.05078285892294987}. Best is trial 26 with value: 0.6402366863905327.\n",
      "[I 2024-02-24 15:25:48,603] Trial 32 finished with value: 0.6047337278106509 and parameters: {'loss': 'hinge', 'penalty': 'l1', 'alpha': 8.48230027257953e-05, 'learning_rate': 'invscaling', 'eta0': 0.09505167605303566}. Best is trial 26 with value: 0.6402366863905327.\n",
      "[I 2024-02-24 15:25:49,992] Trial 33 finished with value: 0.6118343195266271 and parameters: {'loss': 'hinge', 'penalty': 'l1', 'alpha': 9.162039909506961e-06, 'learning_rate': 'optimal', 'eta0': 0.026192826582771528}. Best is trial 26 with value: 0.6402366863905327.\n",
      "[I 2024-02-24 15:25:54,082] Trial 34 finished with value: 0.6343195266272189 and parameters: {'loss': 'hinge', 'penalty': 'l1', 'alpha': 0.0002365930290977371, 'learning_rate': 'constant', 'eta0': 0.05231901036370639}. Best is trial 26 with value: 0.6402366863905327.\n",
      "[I 2024-02-24 15:26:00,077] Trial 35 finished with value: 0.6402366863905326 and parameters: {'loss': 'hinge', 'penalty': 'elasticnet', 'alpha': 3.143420229730486e-05, 'learning_rate': 'adaptive', 'eta0': 0.020428283199518556}. Best is trial 26 with value: 0.6402366863905327.\n",
      "[I 2024-02-24 15:26:04,008] Trial 36 finished with value: 0.6224852071005917 and parameters: {'loss': 'squared_hinge', 'penalty': 'elasticnet', 'alpha': 2.6099381430023626e-05, 'learning_rate': 'constant', 'eta0': 0.01950741511716031}. Best is trial 26 with value: 0.6402366863905327.\n",
      "[I 2024-02-24 15:26:05,758] Trial 37 finished with value: 0.6082840236686391 and parameters: {'loss': 'log_loss', 'penalty': 'elasticnet', 'alpha': 1.961410920515086e-05, 'learning_rate': 'optimal', 'eta0': 0.0006325547775143147}. Best is trial 26 with value: 0.6402366863905327.\n",
      "[I 2024-02-24 15:26:06,717] Trial 38 finished with value: 0.527810650887574 and parameters: {'loss': 'hinge', 'penalty': 'elasticnet', 'alpha': 6.520491994011774e-06, 'learning_rate': 'invscaling', 'eta0': 0.0047027675379338624}. Best is trial 26 with value: 0.6402366863905327.\n",
      "[I 2024-02-24 15:26:11,757] Trial 39 finished with value: 0.6295857988165681 and parameters: {'loss': 'squared_hinge', 'penalty': 'elasticnet', 'alpha': 0.0008312018683092522, 'learning_rate': 'adaptive', 'eta0': 0.012902186487012749}. Best is trial 26 with value: 0.6402366863905327.\n",
      "[I 2024-02-24 15:26:12,397] Trial 40 finished with value: 0.629585798816568 and parameters: {'loss': 'log_loss', 'penalty': 'l2', 'alpha': 0.0001442648624306383, 'learning_rate': 'optimal', 'eta0': 0.023642247680951686}. Best is trial 26 with value: 0.6402366863905327.\n",
      "[I 2024-02-24 15:26:17,206] Trial 41 finished with value: 0.6355029585798817 and parameters: {'loss': 'hinge', 'penalty': 'elasticnet', 'alpha': 6.108223589075113e-05, 'learning_rate': 'adaptive', 'eta0': 0.05905816590017775}. Best is trial 26 with value: 0.6402366863905327.\n",
      "[I 2024-02-24 15:26:22,452] Trial 42 finished with value: 0.6449704142011834 and parameters: {'loss': 'hinge', 'penalty': 'elasticnet', 'alpha': 1.729800114837331e-05, 'learning_rate': 'adaptive', 'eta0': 0.033509293980144975}. Best is trial 42 with value: 0.6449704142011834.\n",
      "[I 2024-02-24 15:26:27,804] Trial 43 finished with value: 0.6461538461538462 and parameters: {'loss': 'hinge', 'penalty': 'elasticnet', 'alpha': 1.7499949023290976e-05, 'learning_rate': 'adaptive', 'eta0': 0.03319923042456373}. Best is trial 43 with value: 0.6461538461538462.\n",
      "[I 2024-02-24 15:26:31,454] Trial 44 finished with value: 0.5609467455621302 and parameters: {'loss': 'hinge', 'penalty': 'elasticnet', 'alpha': 3.7621278758057134e-06, 'learning_rate': 'adaptive', 'eta0': 0.00880784824834428}. Best is trial 43 with value: 0.6461538461538462.\n",
      "[I 2024-02-24 15:26:37,542] Trial 45 finished with value: 0.6426035502958581 and parameters: {'loss': 'hinge', 'penalty': 'elasticnet', 'alpha': 1.7440042741295888e-06, 'learning_rate': 'adaptive', 'eta0': 0.017623850473962473}. Best is trial 43 with value: 0.6461538461538462.\n",
      "[I 2024-02-24 15:26:41,304] Trial 46 finished with value: 0.6142011834319526 and parameters: {'loss': 'squared_hinge', 'penalty': 'elasticnet', 'alpha': 1.4423096221857117e-06, 'learning_rate': 'constant', 'eta0': 0.034002953946884}. Best is trial 43 with value: 0.6461538461538462.\n",
      "[I 2024-02-24 15:26:46,941] Trial 47 finished with value: 0.6142011834319527 and parameters: {'loss': 'hinge', 'penalty': 'elasticnet', 'alpha': 4.593211858817286e-06, 'learning_rate': 'adaptive', 'eta0': 0.014988404944759112}. Best is trial 43 with value: 0.6461538461538462.\n",
      "[I 2024-02-24 15:26:47,259] Trial 48 finished with value: 0.20946745562130178 and parameters: {'loss': 'log_loss', 'penalty': 'elasticnet', 'alpha': 1.9173757848567267e-06, 'learning_rate': 'invscaling', 'eta0': 7.023619819020812e-05}. Best is trial 43 with value: 0.6461538461538462.\n",
      "[I 2024-02-24 15:26:48,591] Trial 49 finished with value: 0.6153846153846153 and parameters: {'loss': 'hinge', 'penalty': 'elasticnet', 'alpha': 1.3074713151045884e-05, 'learning_rate': 'adaptive', 'eta0': 0.0010075540222191607}. Best is trial 43 with value: 0.6461538461538462.\n",
      "[I 2024-02-24 15:26:53,889] Trial 50 finished with value: 0.6390532544378699 and parameters: {'loss': 'hinge', 'penalty': 'elasticnet', 'alpha': 7.742939554346577e-06, 'learning_rate': 'adaptive', 'eta0': 0.0439092946727205}. Best is trial 43 with value: 0.6461538461538462.\n",
      "[I 2024-02-24 15:27:00,130] Trial 51 finished with value: 0.6402366863905324 and parameters: {'loss': 'hinge', 'penalty': 'elasticnet', 'alpha': 1.756650371494326e-05, 'learning_rate': 'adaptive', 'eta0': 0.01725164367434085}. Best is trial 43 with value: 0.6461538461538462.\n",
      "[I 2024-02-24 15:27:05,012] Trial 52 finished with value: 0.6272189349112426 and parameters: {'loss': 'hinge', 'penalty': 'elasticnet', 'alpha': 3.080318847179081e-05, 'learning_rate': 'adaptive', 'eta0': 0.06868712243602494}. Best is trial 43 with value: 0.6461538461538462.\n",
      "[I 2024-02-24 15:27:10,698] Trial 53 finished with value: 0.6402366863905326 and parameters: {'loss': 'hinge', 'penalty': 'elasticnet', 'alpha': 2.5139324229184716e-06, 'learning_rate': 'adaptive', 'eta0': 0.022755423722794578}. Best is trial 43 with value: 0.6461538461538462.\n",
      "[I 2024-02-24 15:27:15,950] Trial 54 finished with value: 0.6378698224852071 and parameters: {'loss': 'hinge', 'penalty': 'elasticnet', 'alpha': 4.1349372544940304e-05, 'learning_rate': 'adaptive', 'eta0': 0.0406391196291012}. Best is trial 43 with value: 0.6461538461538462.\n",
      "[I 2024-02-24 15:27:17,472] Trial 55 finished with value: 0.6307692307692309 and parameters: {'loss': 'hinge', 'penalty': 'elasticnet', 'alpha': 0.00010879128576158248, 'learning_rate': 'adaptive', 'eta0': 0.003801484093519012}. Best is trial 43 with value: 0.6461538461538462.\n",
      "[I 2024-02-24 15:27:18,999] Trial 56 finished with value: 0.6153846153846154 and parameters: {'loss': 'hinge', 'penalty': 'elasticnet', 'alpha': 0.00021438572253088046, 'learning_rate': 'optimal', 'eta0': 0.008107910827243379}. Best is trial 43 with value: 0.6461538461538462.\n",
      "[I 2024-02-24 15:27:19,253] Trial 57 finished with value: 0.6047337278106509 and parameters: {'loss': 'perceptron', 'penalty': 'l2', 'alpha': 1.0349142361786697e-05, 'learning_rate': 'adaptive', 'eta0': 1.5894750858133533e-05}. Best is trial 43 with value: 0.6461538461538462.\n",
      "[I 2024-02-24 15:27:24,160] Trial 58 finished with value: 0.6201183431952663 and parameters: {'loss': 'hinge', 'penalty': 'elasticnet', 'alpha': 1.8339055783562057e-05, 'learning_rate': 'adaptive', 'eta0': 0.09418321880152757}. Best is trial 43 with value: 0.6461538461538462.\n",
      "[I 2024-02-24 15:27:27,741] Trial 59 finished with value: 0.6366863905325444 and parameters: {'loss': 'hinge', 'penalty': 'elasticnet', 'alpha': 4.612901291256103e-05, 'learning_rate': 'constant', 'eta0': 0.06042658452201947}. Best is trial 43 with value: 0.6461538461538462.\n",
      "[I 2024-02-24 15:27:29,979] Trial 60 finished with value: 0.3266272189349112 and parameters: {'loss': 'squared_hinge', 'penalty': 'elasticnet', 'alpha': 4.222195503637995e-06, 'learning_rate': 'adaptive', 'eta0': 0.0002209500955097753}. Best is trial 43 with value: 0.6461538461538462.\n",
      "[I 2024-02-24 15:27:35,543] Trial 61 finished with value: 0.6402366863905326 and parameters: {'loss': 'hinge', 'penalty': 'elasticnet', 'alpha': 2.6175731446975987e-06, 'learning_rate': 'adaptive', 'eta0': 0.023740258123560534}. Best is trial 43 with value: 0.6461538461538462.\n",
      "[I 2024-02-24 15:27:41,233] Trial 62 finished with value: 0.6402366863905326 and parameters: {'loss': 'hinge', 'penalty': 'elasticnet', 'alpha': 1.0317760235238744e-06, 'learning_rate': 'adaptive', 'eta0': 0.02136314822286426}. Best is trial 43 with value: 0.6461538461538462.\n",
      "[I 2024-02-24 15:27:46,600] Trial 63 finished with value: 0.6331360946745562 and parameters: {'loss': 'hinge', 'penalty': 'elasticnet', 'alpha': 2.540962524625386e-06, 'learning_rate': 'adaptive', 'eta0': 0.03690411791753403}. Best is trial 43 with value: 0.6461538461538462.\n",
      "[I 2024-02-24 15:27:52,677] Trial 64 finished with value: 0.6260355029585799 and parameters: {'loss': 'hinge', 'penalty': 'elasticnet', 'alpha': 5.26171863566028e-06, 'learning_rate': 'adaptive', 'eta0': 0.01598755568285184}. Best is trial 43 with value: 0.6461538461538462.\n",
      "[I 2024-02-24 15:27:53,544] Trial 65 finished with value: 0.6390532544378699 and parameters: {'loss': 'hinge', 'penalty': 'l2', 'alpha': 0.014164119490744293, 'learning_rate': 'adaptive', 'eta0': 0.028181530778404625}. Best is trial 43 with value: 0.6461538461538462.\n",
      "[I 2024-02-24 15:27:56,284] Trial 66 finished with value: 0.18224852071005918 and parameters: {'loss': 'hinge', 'penalty': 'elasticnet', 'alpha': 0.050569739746178774, 'learning_rate': 'adaptive', 'eta0': 0.007230384154053116}. Best is trial 43 with value: 0.6461538461538462.\n",
      "[I 2024-02-24 15:28:00,535] Trial 67 finished with value: 0.6071005917159763 and parameters: {'loss': 'log_loss', 'penalty': 'elasticnet', 'alpha': 1.4364807854786401e-05, 'learning_rate': 'constant', 'eta0': 0.012313921642563681}. Best is trial 43 with value: 0.6461538461538462.\n",
      "[I 2024-02-24 15:28:00,804] Trial 68 finished with value: 0.5384615384615385 and parameters: {'loss': 'perceptron', 'penalty': 'l1', 'alpha': 1.7327964392623613e-06, 'learning_rate': 'invscaling', 'eta0': 0.07236881796373945}. Best is trial 43 with value: 0.6461538461538462.\n",
      "[I 2024-02-24 15:28:05,953] Trial 69 finished with value: 0.6366863905325444 and parameters: {'loss': 'hinge', 'penalty': 'elasticnet', 'alpha': 8.122723961897233e-05, 'learning_rate': 'adaptive', 'eta0': 0.04597295428927044}. Best is trial 43 with value: 0.6461538461538462.\n",
      "[I 2024-02-24 15:28:11,736] Trial 70 finished with value: 0.6366863905325444 and parameters: {'loss': 'hinge', 'penalty': 'l1', 'alpha': 2.881835059095232e-05, 'learning_rate': 'adaptive', 'eta0': 0.02733796761417704}. Best is trial 43 with value: 0.6461538461538462.\n",
      "[I 2024-02-24 15:28:17,485] Trial 71 finished with value: 0.6390532544378699 and parameters: {'loss': 'hinge', 'penalty': 'elasticnet', 'alpha': 3.1348685796616186e-06, 'learning_rate': 'adaptive', 'eta0': 0.02281236536068055}. Best is trial 43 with value: 0.6461538461538462.\n",
      "[I 2024-02-24 15:28:23,530] Trial 72 finished with value: 0.6378698224852071 and parameters: {'loss': 'hinge', 'penalty': 'elasticnet', 'alpha': 7.934722287542843e-06, 'learning_rate': 'adaptive', 'eta0': 0.02027568566039753}. Best is trial 43 with value: 0.6461538461538462.\n",
      "[I 2024-02-24 15:28:28,137] Trial 73 finished with value: 0.5633136094674557 and parameters: {'loss': 'hinge', 'penalty': 'elasticnet', 'alpha': 3.0181553918743127e-06, 'learning_rate': 'adaptive', 'eta0': 0.010083061150161705}. Best is trial 43 with value: 0.6461538461538462.\n",
      "[I 2024-02-24 15:28:33,871] Trial 74 finished with value: 0.6355029585798817 and parameters: {'loss': 'hinge', 'penalty': 'elasticnet', 'alpha': 1.2858028497333426e-06, 'learning_rate': 'adaptive', 'eta0': 0.031373631761620856}. Best is trial 43 with value: 0.6461538461538462.\n",
      "[I 2024-02-24 15:28:37,567] Trial 75 finished with value: 0.6355029585798817 and parameters: {'loss': 'hinge', 'penalty': 'elasticnet', 'alpha': 4.383630875530443e-05, 'learning_rate': 'constant', 'eta0': 0.05719417373653118}. Best is trial 43 with value: 0.6461538461538462.\n",
      "[I 2024-02-24 15:28:43,721] Trial 76 finished with value: 0.6331360946745562 and parameters: {'loss': 'hinge', 'penalty': 'l1', 'alpha': 1.98513114866299e-06, 'learning_rate': 'adaptive', 'eta0': 0.016537481341585433}. Best is trial 43 with value: 0.6461538461538462.\n",
      "[I 2024-02-24 15:28:44,032] Trial 77 finished with value: 0.6248520710059171 and parameters: {'loss': 'hinge', 'penalty': 'l2', 'alpha': 0.003872411961116476, 'learning_rate': 'optimal', 'eta0': 0.02706755209776727}. Best is trial 43 with value: 0.6461538461538462.\n",
      "[I 2024-02-24 15:28:49,390] Trial 78 finished with value: 0.6414201183431952 and parameters: {'loss': 'hinge', 'penalty': 'elasticnet', 'alpha': 1.1317787288624247e-05, 'learning_rate': 'adaptive', 'eta0': 0.03792404261143385}. Best is trial 43 with value: 0.6461538461538462.\n",
      "[I 2024-02-24 15:28:54,758] Trial 79 finished with value: 0.6142011834319527 and parameters: {'loss': 'squared_hinge', 'penalty': 'l1', 'alpha': 1.111629341915845e-05, 'learning_rate': 'adaptive', 'eta0': 0.042097302347849405}. Best is trial 43 with value: 0.6461538461538462.\n",
      "[I 2024-02-24 15:28:55,309] Trial 80 finished with value: 0.20946745562130178 and parameters: {'loss': 'log_loss', 'penalty': 'elasticnet', 'alpha': 2.39577120875724e-05, 'learning_rate': 'invscaling', 'eta0': 0.07867622985011734}. Best is trial 43 with value: 0.6461538461538462.\n",
      "[I 2024-02-24 15:29:00,875] Trial 81 finished with value: 0.6426035502958579 and parameters: {'loss': 'hinge', 'penalty': 'elasticnet', 'alpha': 6.0603723744988215e-06, 'learning_rate': 'adaptive', 'eta0': 0.03250384817821399}. Best is trial 43 with value: 0.6461538461538462.\n",
      "[I 2024-02-24 15:29:06,445] Trial 82 finished with value: 0.6402366863905324 and parameters: {'loss': 'hinge', 'penalty': 'elasticnet', 'alpha': 6.133728148303729e-06, 'learning_rate': 'adaptive', 'eta0': 0.03604613772705587}. Best is trial 43 with value: 0.6461538461538462.\n",
      "[I 2024-02-24 15:29:11,610] Trial 83 finished with value: 0.6319526627218934 and parameters: {'loss': 'hinge', 'penalty': 'elasticnet', 'alpha': 1.6519577301724026e-05, 'learning_rate': 'adaptive', 'eta0': 0.05230894739829345}. Best is trial 43 with value: 0.6461538461538462.\n",
      "[I 2024-02-24 15:29:17,301] Trial 84 finished with value: 0.6414201183431952 and parameters: {'loss': 'hinge', 'penalty': 'elasticnet', 'alpha': 8.152398768953956e-06, 'learning_rate': 'adaptive', 'eta0': 0.03612362602656391}. Best is trial 43 with value: 0.6461538461538462.\n",
      "[I 2024-02-24 15:29:20,829] Trial 85 finished with value: 0.621301775147929 and parameters: {'loss': 'hinge', 'penalty': 'elasticnet', 'alpha': 9.324509642630837e-06, 'learning_rate': 'constant', 'eta0': 0.09801696771656891}. Best is trial 43 with value: 0.6461538461538462.\n",
      "[I 2024-02-24 15:29:28,705] Trial 86 finished with value: 0.6295857988165681 and parameters: {'loss': 'hinge', 'penalty': 'l1', 'alpha': 1.312578783182247e-05, 'learning_rate': 'adaptive', 'eta0': 0.06560105052700987}. Best is trial 43 with value: 0.6461538461538462.\n",
      "[I 2024-02-24 15:29:30,371] Trial 87 finished with value: 0.6082840236686391 and parameters: {'loss': 'perceptron', 'penalty': 'elasticnet', 'alpha': 3.596316541720573e-05, 'learning_rate': 'adaptive', 'eta0': 0.0380677037021714}. Best is trial 43 with value: 0.6461538461538462.\n",
      "[I 2024-02-24 15:29:32,648] Trial 88 finished with value: 0.6272189349112426 and parameters: {'loss': 'hinge', 'penalty': 'elasticnet', 'alpha': 2.4041182862169785e-05, 'learning_rate': 'adaptive', 'eta0': 0.001825738121680838}. Best is trial 43 with value: 0.6461538461538462.\n",
      "[I 2024-02-24 15:29:41,807] Trial 89 finished with value: 0.6011834319526628 and parameters: {'loss': 'hinge', 'penalty': 'l1', 'alpha': 7.268343629978522e-06, 'learning_rate': 'adaptive', 'eta0': 0.013217401165933477}. Best is trial 43 with value: 0.6461538461538462.\n",
      "[I 2024-02-24 15:29:43,561] Trial 90 finished with value: 0.5928994082840237 and parameters: {'loss': 'hinge', 'penalty': 'elasticnet', 'alpha': 4.877475500937537e-06, 'learning_rate': 'optimal', 'eta0': 0.04712126042135343}. Best is trial 43 with value: 0.6461538461538462.\n",
      "[I 2024-02-24 15:29:49,660] Trial 91 finished with value: 0.6402366863905326 and parameters: {'loss': 'hinge', 'penalty': 'elasticnet', 'alpha': 3.632998727978862e-06, 'learning_rate': 'adaptive', 'eta0': 0.03192419064252167}. Best is trial 43 with value: 0.6461538461538462.\n",
      "[I 2024-02-24 15:29:55,711] Trial 92 finished with value: 0.6378698224852071 and parameters: {'loss': 'hinge', 'penalty': 'elasticnet', 'alpha': 2.064220540824863e-05, 'learning_rate': 'adaptive', 'eta0': 0.018577702171666956}. Best is trial 43 with value: 0.6461538461538462.\n",
      "[I 2024-02-24 15:30:01,372] Trial 93 finished with value: 0.6402366863905326 and parameters: {'loss': 'hinge', 'penalty': 'elasticnet', 'alpha': 1.0087416452567715e-05, 'learning_rate': 'adaptive', 'eta0': 0.023155230359199735}. Best is trial 43 with value: 0.6461538461538462.\n",
      "[I 2024-02-24 15:30:06,537] Trial 94 finished with value: 0.6378698224852071 and parameters: {'loss': 'hinge', 'penalty': 'elasticnet', 'alpha': 4.90458921367411e-05, 'learning_rate': 'adaptive', 'eta0': 0.05462757278666812}. Best is trial 43 with value: 0.6461538461538462.\n",
      "[I 2024-02-24 15:30:11,843] Trial 95 finished with value: 0.6378698224852071 and parameters: {'loss': 'hinge', 'penalty': 'elasticnet', 'alpha': 1.480110009535194e-05, 'learning_rate': 'adaptive', 'eta0': 0.03515945949812483}. Best is trial 43 with value: 0.6461538461538462.\n",
      "[I 2024-02-24 15:30:13,290] Trial 96 finished with value: 0.5455621301775148 and parameters: {'loss': 'hinge', 'penalty': 'l2', 'alpha': 5.21180559585955e-06, 'learning_rate': 'constant', 'eta0': 0.009875472269278235}. Best is trial 43 with value: 0.6461538461538462.\n",
      "[I 2024-02-24 15:30:18,860] Trial 97 finished with value: 0.6378698224852071 and parameters: {'loss': 'hinge', 'penalty': 'elasticnet', 'alpha': 2.1270292862131553e-06, 'learning_rate': 'adaptive', 'eta0': 0.026803505699946262}. Best is trial 43 with value: 0.6461538461538462.\n",
      "[I 2024-02-24 15:30:24,199] Trial 98 finished with value: 0.6272189349112426 and parameters: {'loss': 'squared_hinge', 'penalty': 'elasticnet', 'alpha': 6.688330585800623e-05, 'learning_rate': 'adaptive', 'eta0': 0.015511386799331539}. Best is trial 43 with value: 0.6461538461538462.\n",
      "[I 2024-02-24 15:30:29,355] Trial 99 finished with value: 0.6236686390532544 and parameters: {'loss': 'hinge', 'penalty': 'l1', 'alpha': 8.205474790778455e-06, 'learning_rate': 'adaptive', 'eta0': 0.07998705012365065}. Best is trial 43 with value: 0.6461538461538462.\n"
     ]
    },
    {
     "name": "stdout",
     "output_type": "stream",
     "text": [
      "Best trial: {'loss': 'hinge', 'penalty': 'elasticnet', 'alpha': 1.7499949023290976e-05, 'learning_rate': 'adaptive', 'eta0': 0.03319923042456373}\n"
     ]
    }
   ],
   "source": [
    "def objective(trial):\n",
    "    # Hyperparameters to tune\n",
    "    loss = trial.suggest_categorical('loss', ['hinge', 'log_loss', 'squared_hinge', 'perceptron'])\n",
    "    penalty = trial.suggest_categorical('penalty', ['l2', 'l1', 'elasticnet'])\n",
    "    alpha = trial.suggest_float('alpha', 1e-6, 1e-1, log=True)\n",
    "    learning_rate = trial.suggest_categorical('learning_rate', ['constant', 'optimal', 'invscaling', 'adaptive'])\n",
    "    eta0 = trial.suggest_float('eta0', 1e-5, 1e-1, log=True)  # Only relevant for certain learning rates\n",
    "\n",
    "    # Create and train the SGD Classifier\n",
    "    model = SGDClassifier(loss=loss, penalty=penalty, alpha=alpha, learning_rate=learning_rate, eta0=eta0,\n",
    "                          random_state=42)\n",
    "    model.fit(X_train, y_train)\n",
    "\n",
    "    # Perform cross-validation and return the mean score\n",
    "    scores = cross_val_score(model, X_train, y_train, cv=5)  # cv=5 for 5-fold cross-validation\n",
    "    return scores.mean()\n",
    "\n",
    "\n",
    "# Create a study object and specify the optimization direction\n",
    "study = optuna.create_study(direction='maximize')\n",
    "study.optimize(objective, n_trials=100)  # Adjust the number of trials as needed\n",
    "\n",
    "# Best hyperparameters\n",
    "print('Best trial:', study.best_trial.params)"
   ],
   "metadata": {
    "collapsed": false,
    "ExecuteTime": {
     "end_time": "2024-02-24T13:30:29.359516Z",
     "start_time": "2024-02-24T13:24:16.607724900Z"
    }
   },
   "id": "4477cdb859019617",
   "execution_count": 26
  },
  {
   "cell_type": "markdown",
   "source": [
    "We notice that the SGD model gave the best accuracy of 0.72, which is the highest among the models we have tried so far.\n",
    "\n",
    "So, we will get the best hyperparameters for the model and use them to train the model again, for later use."
   ],
   "metadata": {
    "collapsed": false
   },
   "id": "68f9ee6d9062ffe6"
  },
  {
   "cell_type": "code",
   "outputs": [
    {
     "data": {
      "text/plain": "SGDClassifier(alpha=1.7499949023290976e-05, eta0=0.03319923042456373,\n              learning_rate='adaptive', penalty='elasticnet', random_state=42)",
      "text/html": "<style>#sk-container-id-12 {\n  /* Definition of color scheme common for light and dark mode */\n  --sklearn-color-text: black;\n  --sklearn-color-line: gray;\n  /* Definition of color scheme for unfitted estimators */\n  --sklearn-color-unfitted-level-0: #fff5e6;\n  --sklearn-color-unfitted-level-1: #f6e4d2;\n  --sklearn-color-unfitted-level-2: #ffe0b3;\n  --sklearn-color-unfitted-level-3: chocolate;\n  /* Definition of color scheme for fitted estimators */\n  --sklearn-color-fitted-level-0: #f0f8ff;\n  --sklearn-color-fitted-level-1: #d4ebff;\n  --sklearn-color-fitted-level-2: #b3dbfd;\n  --sklearn-color-fitted-level-3: cornflowerblue;\n\n  /* Specific color for light theme */\n  --sklearn-color-text-on-default-background: var(--sg-text-color, var(--theme-code-foreground, var(--jp-content-font-color1, black)));\n  --sklearn-color-background: var(--sg-background-color, var(--theme-background, var(--jp-layout-color0, white)));\n  --sklearn-color-border-box: var(--sg-text-color, var(--theme-code-foreground, var(--jp-content-font-color1, black)));\n  --sklearn-color-icon: #696969;\n\n  @media (prefers-color-scheme: dark) {\n    /* Redefinition of color scheme for dark theme */\n    --sklearn-color-text-on-default-background: var(--sg-text-color, var(--theme-code-foreground, var(--jp-content-font-color1, white)));\n    --sklearn-color-background: var(--sg-background-color, var(--theme-background, var(--jp-layout-color0, #111)));\n    --sklearn-color-border-box: var(--sg-text-color, var(--theme-code-foreground, var(--jp-content-font-color1, white)));\n    --sklearn-color-icon: #878787;\n  }\n}\n\n#sk-container-id-12 {\n  color: var(--sklearn-color-text);\n}\n\n#sk-container-id-12 pre {\n  padding: 0;\n}\n\n#sk-container-id-12 input.sk-hidden--visually {\n  border: 0;\n  clip: rect(1px 1px 1px 1px);\n  clip: rect(1px, 1px, 1px, 1px);\n  height: 1px;\n  margin: -1px;\n  overflow: hidden;\n  padding: 0;\n  position: absolute;\n  width: 1px;\n}\n\n#sk-container-id-12 div.sk-dashed-wrapped {\n  border: 1px dashed var(--sklearn-color-line);\n  margin: 0 0.4em 0.5em 0.4em;\n  box-sizing: border-box;\n  padding-bottom: 0.4em;\n  background-color: var(--sklearn-color-background);\n}\n\n#sk-container-id-12 div.sk-container {\n  /* jupyter's `normalize.less` sets `[hidden] { display: none; }`\n     but bootstrap.min.css set `[hidden] { display: none !important; }`\n     so we also need the `!important` here to be able to override the\n     default hidden behavior on the sphinx rendered scikit-learn.org.\n     See: https://github.com/scikit-learn/scikit-learn/issues/21755 */\n  display: inline-block !important;\n  position: relative;\n}\n\n#sk-container-id-12 div.sk-text-repr-fallback {\n  display: none;\n}\n\ndiv.sk-parallel-item,\ndiv.sk-serial,\ndiv.sk-item {\n  /* draw centered vertical line to link estimators */\n  background-image: linear-gradient(var(--sklearn-color-text-on-default-background), var(--sklearn-color-text-on-default-background));\n  background-size: 2px 100%;\n  background-repeat: no-repeat;\n  background-position: center center;\n}\n\n/* Parallel-specific style estimator block */\n\n#sk-container-id-12 div.sk-parallel-item::after {\n  content: \"\";\n  width: 100%;\n  border-bottom: 2px solid var(--sklearn-color-text-on-default-background);\n  flex-grow: 1;\n}\n\n#sk-container-id-12 div.sk-parallel {\n  display: flex;\n  align-items: stretch;\n  justify-content: center;\n  background-color: var(--sklearn-color-background);\n  position: relative;\n}\n\n#sk-container-id-12 div.sk-parallel-item {\n  display: flex;\n  flex-direction: column;\n}\n\n#sk-container-id-12 div.sk-parallel-item:first-child::after {\n  align-self: flex-end;\n  width: 50%;\n}\n\n#sk-container-id-12 div.sk-parallel-item:last-child::after {\n  align-self: flex-start;\n  width: 50%;\n}\n\n#sk-container-id-12 div.sk-parallel-item:only-child::after {\n  width: 0;\n}\n\n/* Serial-specific style estimator block */\n\n#sk-container-id-12 div.sk-serial {\n  display: flex;\n  flex-direction: column;\n  align-items: center;\n  background-color: var(--sklearn-color-background);\n  padding-right: 1em;\n  padding-left: 1em;\n}\n\n\n/* Toggleable style: style used for estimator/Pipeline/ColumnTransformer box that is\nclickable and can be expanded/collapsed.\n- Pipeline and ColumnTransformer use this feature and define the default style\n- Estimators will overwrite some part of the style using the `sk-estimator` class\n*/\n\n/* Pipeline and ColumnTransformer style (default) */\n\n#sk-container-id-12 div.sk-toggleable {\n  /* Default theme specific background. It is overwritten whether we have a\n  specific estimator or a Pipeline/ColumnTransformer */\n  background-color: var(--sklearn-color-background);\n}\n\n/* Toggleable label */\n#sk-container-id-12 label.sk-toggleable__label {\n  cursor: pointer;\n  display: block;\n  width: 100%;\n  margin-bottom: 0;\n  padding: 0.5em;\n  box-sizing: border-box;\n  text-align: center;\n}\n\n#sk-container-id-12 label.sk-toggleable__label-arrow:before {\n  /* Arrow on the left of the label */\n  content: \"▸\";\n  float: left;\n  margin-right: 0.25em;\n  color: var(--sklearn-color-icon);\n}\n\n#sk-container-id-12 label.sk-toggleable__label-arrow:hover:before {\n  color: var(--sklearn-color-text);\n}\n\n/* Toggleable content - dropdown */\n\n#sk-container-id-12 div.sk-toggleable__content {\n  max-height: 0;\n  max-width: 0;\n  overflow: hidden;\n  text-align: left;\n  /* unfitted */\n  background-color: var(--sklearn-color-unfitted-level-0);\n}\n\n#sk-container-id-12 div.sk-toggleable__content.fitted {\n  /* fitted */\n  background-color: var(--sklearn-color-fitted-level-0);\n}\n\n#sk-container-id-12 div.sk-toggleable__content pre {\n  margin: 0.2em;\n  border-radius: 0.25em;\n  color: var(--sklearn-color-text);\n  /* unfitted */\n  background-color: var(--sklearn-color-unfitted-level-0);\n}\n\n#sk-container-id-12 div.sk-toggleable__content.fitted pre {\n  /* unfitted */\n  background-color: var(--sklearn-color-fitted-level-0);\n}\n\n#sk-container-id-12 input.sk-toggleable__control:checked~div.sk-toggleable__content {\n  /* Expand drop-down */\n  max-height: 200px;\n  max-width: 100%;\n  overflow: auto;\n}\n\n#sk-container-id-12 input.sk-toggleable__control:checked~label.sk-toggleable__label-arrow:before {\n  content: \"▾\";\n}\n\n/* Pipeline/ColumnTransformer-specific style */\n\n#sk-container-id-12 div.sk-label input.sk-toggleable__control:checked~label.sk-toggleable__label {\n  color: var(--sklearn-color-text);\n  background-color: var(--sklearn-color-unfitted-level-2);\n}\n\n#sk-container-id-12 div.sk-label.fitted input.sk-toggleable__control:checked~label.sk-toggleable__label {\n  background-color: var(--sklearn-color-fitted-level-2);\n}\n\n/* Estimator-specific style */\n\n/* Colorize estimator box */\n#sk-container-id-12 div.sk-estimator input.sk-toggleable__control:checked~label.sk-toggleable__label {\n  /* unfitted */\n  background-color: var(--sklearn-color-unfitted-level-2);\n}\n\n#sk-container-id-12 div.sk-estimator.fitted input.sk-toggleable__control:checked~label.sk-toggleable__label {\n  /* fitted */\n  background-color: var(--sklearn-color-fitted-level-2);\n}\n\n#sk-container-id-12 div.sk-label label.sk-toggleable__label,\n#sk-container-id-12 div.sk-label label {\n  /* The background is the default theme color */\n  color: var(--sklearn-color-text-on-default-background);\n}\n\n/* On hover, darken the color of the background */\n#sk-container-id-12 div.sk-label:hover label.sk-toggleable__label {\n  color: var(--sklearn-color-text);\n  background-color: var(--sklearn-color-unfitted-level-2);\n}\n\n/* Label box, darken color on hover, fitted */\n#sk-container-id-12 div.sk-label.fitted:hover label.sk-toggleable__label.fitted {\n  color: var(--sklearn-color-text);\n  background-color: var(--sklearn-color-fitted-level-2);\n}\n\n/* Estimator label */\n\n#sk-container-id-12 div.sk-label label {\n  font-family: monospace;\n  font-weight: bold;\n  display: inline-block;\n  line-height: 1.2em;\n}\n\n#sk-container-id-12 div.sk-label-container {\n  text-align: center;\n}\n\n/* Estimator-specific */\n#sk-container-id-12 div.sk-estimator {\n  font-family: monospace;\n  border: 1px dotted var(--sklearn-color-border-box);\n  border-radius: 0.25em;\n  box-sizing: border-box;\n  margin-bottom: 0.5em;\n  /* unfitted */\n  background-color: var(--sklearn-color-unfitted-level-0);\n}\n\n#sk-container-id-12 div.sk-estimator.fitted {\n  /* fitted */\n  background-color: var(--sklearn-color-fitted-level-0);\n}\n\n/* on hover */\n#sk-container-id-12 div.sk-estimator:hover {\n  /* unfitted */\n  background-color: var(--sklearn-color-unfitted-level-2);\n}\n\n#sk-container-id-12 div.sk-estimator.fitted:hover {\n  /* fitted */\n  background-color: var(--sklearn-color-fitted-level-2);\n}\n\n/* Specification for estimator info (e.g. \"i\" and \"?\") */\n\n/* Common style for \"i\" and \"?\" */\n\n.sk-estimator-doc-link,\na:link.sk-estimator-doc-link,\na:visited.sk-estimator-doc-link {\n  float: right;\n  font-size: smaller;\n  line-height: 1em;\n  font-family: monospace;\n  background-color: var(--sklearn-color-background);\n  border-radius: 1em;\n  height: 1em;\n  width: 1em;\n  text-decoration: none !important;\n  margin-left: 1ex;\n  /* unfitted */\n  border: var(--sklearn-color-unfitted-level-1) 1pt solid;\n  color: var(--sklearn-color-unfitted-level-1);\n}\n\n.sk-estimator-doc-link.fitted,\na:link.sk-estimator-doc-link.fitted,\na:visited.sk-estimator-doc-link.fitted {\n  /* fitted */\n  border: var(--sklearn-color-fitted-level-1) 1pt solid;\n  color: var(--sklearn-color-fitted-level-1);\n}\n\n/* On hover */\ndiv.sk-estimator:hover .sk-estimator-doc-link:hover,\n.sk-estimator-doc-link:hover,\ndiv.sk-label-container:hover .sk-estimator-doc-link:hover,\n.sk-estimator-doc-link:hover {\n  /* unfitted */\n  background-color: var(--sklearn-color-unfitted-level-3);\n  color: var(--sklearn-color-background);\n  text-decoration: none;\n}\n\ndiv.sk-estimator.fitted:hover .sk-estimator-doc-link.fitted:hover,\n.sk-estimator-doc-link.fitted:hover,\ndiv.sk-label-container:hover .sk-estimator-doc-link.fitted:hover,\n.sk-estimator-doc-link.fitted:hover {\n  /* fitted */\n  background-color: var(--sklearn-color-fitted-level-3);\n  color: var(--sklearn-color-background);\n  text-decoration: none;\n}\n\n/* Span, style for the box shown on hovering the info icon */\n.sk-estimator-doc-link span {\n  display: none;\n  z-index: 9999;\n  position: relative;\n  font-weight: normal;\n  right: .2ex;\n  padding: .5ex;\n  margin: .5ex;\n  width: min-content;\n  min-width: 20ex;\n  max-width: 50ex;\n  color: var(--sklearn-color-text);\n  box-shadow: 2pt 2pt 4pt #999;\n  /* unfitted */\n  background: var(--sklearn-color-unfitted-level-0);\n  border: .5pt solid var(--sklearn-color-unfitted-level-3);\n}\n\n.sk-estimator-doc-link.fitted span {\n  /* fitted */\n  background: var(--sklearn-color-fitted-level-0);\n  border: var(--sklearn-color-fitted-level-3);\n}\n\n.sk-estimator-doc-link:hover span {\n  display: block;\n}\n\n/* \"?\"-specific style due to the `<a>` HTML tag */\n\n#sk-container-id-12 a.estimator_doc_link {\n  float: right;\n  font-size: 1rem;\n  line-height: 1em;\n  font-family: monospace;\n  background-color: var(--sklearn-color-background);\n  border-radius: 1rem;\n  height: 1rem;\n  width: 1rem;\n  text-decoration: none;\n  /* unfitted */\n  color: var(--sklearn-color-unfitted-level-1);\n  border: var(--sklearn-color-unfitted-level-1) 1pt solid;\n}\n\n#sk-container-id-12 a.estimator_doc_link.fitted {\n  /* fitted */\n  border: var(--sklearn-color-fitted-level-1) 1pt solid;\n  color: var(--sklearn-color-fitted-level-1);\n}\n\n/* On hover */\n#sk-container-id-12 a.estimator_doc_link:hover {\n  /* unfitted */\n  background-color: var(--sklearn-color-unfitted-level-3);\n  color: var(--sklearn-color-background);\n  text-decoration: none;\n}\n\n#sk-container-id-12 a.estimator_doc_link.fitted:hover {\n  /* fitted */\n  background-color: var(--sklearn-color-fitted-level-3);\n}\n</style><div id=\"sk-container-id-12\" class=\"sk-top-container\"><div class=\"sk-text-repr-fallback\"><pre>SGDClassifier(alpha=1.7499949023290976e-05, eta0=0.03319923042456373,\n              learning_rate=&#x27;adaptive&#x27;, penalty=&#x27;elasticnet&#x27;, random_state=42)</pre><b>In a Jupyter environment, please rerun this cell to show the HTML representation or trust the notebook. <br />On GitHub, the HTML representation is unable to render, please try loading this page with nbviewer.org.</b></div><div class=\"sk-container\" hidden><div class=\"sk-item\"><div class=\"sk-estimator fitted sk-toggleable\"><input class=\"sk-toggleable__control sk-hidden--visually\" id=\"sk-estimator-id-12\" type=\"checkbox\" checked><label for=\"sk-estimator-id-12\" class=\"sk-toggleable__label fitted sk-toggleable__label-arrow fitted\">&nbsp;&nbsp;SGDClassifier<a class=\"sk-estimator-doc-link fitted\" rel=\"noreferrer\" target=\"_blank\" href=\"https://scikit-learn.org/1.4/modules/generated/sklearn.linear_model.SGDClassifier.html\">?<span>Documentation for SGDClassifier</span></a><span class=\"sk-estimator-doc-link fitted\">i<span>Fitted</span></span></label><div class=\"sk-toggleable__content fitted\"><pre>SGDClassifier(alpha=1.7499949023290976e-05, eta0=0.03319923042456373,\n              learning_rate=&#x27;adaptive&#x27;, penalty=&#x27;elasticnet&#x27;, random_state=42)</pre></div> </div></div></div></div>"
     },
     "execution_count": 33,
     "metadata": {},
     "output_type": "execute_result"
    }
   ],
   "source": [
    "best_params = study.best_trial.params\n",
    "sgd_model = SGDClassifier(**best_params, random_state=42)\n",
    "sgd_model.fit(X_train, y_train)"
   ],
   "metadata": {
    "collapsed": false,
    "ExecuteTime": {
     "end_time": "2024-02-24T13:31:30.169150200Z",
     "start_time": "2024-02-24T13:31:28.113148500Z"
    }
   },
   "id": "114f2bb29b45ae2d",
   "execution_count": 33
  },
  {
   "cell_type": "markdown",
   "source": [
    "### Multi-class Naive Bayes\n",
    "\n",
    "It is known that Naive Bayes is a simple and effective algorithm for classification for NLP tasks. \n",
    "Let's now train a multi-class Naive Bayes model on the embeddings and the class, to see how it performs."
   ],
   "metadata": {
    "collapsed": false
   },
   "id": "5fab4ff2e2e09606"
  },
  {
   "cell_type": "code",
   "outputs": [
    {
     "name": "stdout",
     "output_type": "stream",
     "text": [
      "              precision    recall  f1-score   support\n",
      "\n",
      "           0       0.71      0.63      0.67        43\n",
      "           1       0.64      0.68      0.66        31\n",
      "           2       0.71      0.71      0.71        34\n",
      "           3       0.65      0.77      0.70        26\n",
      "           4       0.48      0.48      0.48        27\n",
      "           5       0.67      0.65      0.66        51\n",
      "\n",
      "    accuracy                           0.65       212\n",
      "   macro avg       0.64      0.65      0.65       212\n",
      "weighted avg       0.65      0.65      0.65       212\n"
     ]
    }
   ],
   "source": [
    "model = GaussianNB()\n",
    "model.fit(X_train, y_train)\n",
    "\n",
    "# Generate classification report\n",
    "y_pred = model.predict(X_test)\n",
    "print(metrics.classification_report(y_test, y_pred))"
   ],
   "metadata": {
    "collapsed": false,
    "ExecuteTime": {
     "end_time": "2024-02-24T13:32:25.746345800Z",
     "start_time": "2024-02-24T13:32:25.733285500Z"
    }
   },
   "id": "fa13a14098b3636c",
   "execution_count": 17
  },
  {
   "cell_type": "markdown",
   "source": [
    "We can see that the Naive Bayes model has an accuracy of 0.65, which does not differ much from the logistic regression model.\n",
    "So there is no need to use `optuna` to find the best hyperparameters for the model."
   ],
   "metadata": {
    "collapsed": false
   },
   "id": "e859bc93b6dcd506"
  },
  {
   "cell_type": "markdown",
   "source": [
    "### Multi-class Random Forest\n",
    "\n",
    "Let's now train a multi-class Random Forest model on the embeddings and the class."
   ],
   "metadata": {
    "collapsed": false
   },
   "id": "8c9e62a3e6912a48"
  },
  {
   "cell_type": "code",
   "outputs": [
    {
     "name": "stdout",
     "output_type": "stream",
     "text": [
      "              precision    recall  f1-score   support\n",
      "\n",
      "           0       0.57      0.65      0.61        43\n",
      "           1       0.86      0.61      0.72        31\n",
      "           2       0.90      0.56      0.69        34\n",
      "           3       0.71      0.65      0.68        26\n",
      "           4       0.55      0.67      0.60        27\n",
      "           5       0.59      0.73      0.65        51\n",
      "\n",
      "    accuracy                           0.65       212\n",
      "   macro avg       0.70      0.64      0.66       212\n",
      "weighted avg       0.68      0.65      0.66       212\n"
     ]
    }
   ],
   "source": [
    "model = RandomForestClassifier(n_estimators=1000, n_jobs=-1, random_state=15,\n",
    "                               max_depth=100, min_samples_split=2, min_samples_leaf=1, max_features='sqrt')\n",
    "model.fit(X_train, y_train)\n",
    "\n",
    "# Generate classification report\n",
    "y_pred = model.predict(X_test)\n",
    "print(metrics.classification_report(y_test, y_pred))"
   ],
   "metadata": {
    "collapsed": false,
    "ExecuteTime": {
     "end_time": "2024-02-24T13:32:40.117971900Z",
     "start_time": "2024-02-24T13:32:36.844346100Z"
    }
   },
   "id": "a8fc25a6a41a309b",
   "execution_count": 18
  },
  {
   "cell_type": "markdown",
   "source": [
    "### Multi-class CatBoost\n",
    "\n",
    "Having tried the above models, let us now proceed to more advanced models such as CatBoost, \n",
    "which is a gradient boosting library that is known to perform well on tabular data, to see how it performs \n",
    "and if it can outperform the other models."
   ],
   "metadata": {
    "collapsed": false
   },
   "id": "28cda8d8bf460600"
  },
  {
   "cell_type": "code",
   "outputs": [
    {
     "name": "stdout",
     "output_type": "stream",
     "text": [
      "Learning rate set to 0.134538\n",
      "0:\tlearn: 1.7254025\ttotal: 26.8ms\tremaining: 10.7s\n",
      "1:\tlearn: 1.6695749\ttotal: 51.8ms\tremaining: 10.3s\n",
      "2:\tlearn: 1.6175593\ttotal: 76ms\tremaining: 10.1s\n",
      "3:\tlearn: 1.5654316\ttotal: 98.7ms\tremaining: 9.77s\n",
      "4:\tlearn: 1.5203243\ttotal: 123ms\tremaining: 9.69s\n",
      "5:\tlearn: 1.4711252\ttotal: 147ms\tremaining: 9.65s\n",
      "6:\tlearn: 1.4305325\ttotal: 172ms\tremaining: 9.68s\n",
      "7:\tlearn: 1.3919494\ttotal: 197ms\tremaining: 9.66s\n",
      "8:\tlearn: 1.3552363\ttotal: 221ms\tremaining: 9.62s\n",
      "9:\tlearn: 1.3184468\ttotal: 245ms\tremaining: 9.55s\n",
      "10:\tlearn: 1.2855703\ttotal: 267ms\tremaining: 9.43s\n",
      "11:\tlearn: 1.2561113\ttotal: 289ms\tremaining: 9.34s\n",
      "12:\tlearn: 1.2270124\ttotal: 310ms\tremaining: 9.22s\n",
      "13:\tlearn: 1.1986041\ttotal: 331ms\tremaining: 9.13s\n",
      "14:\tlearn: 1.1696553\ttotal: 352ms\tremaining: 9.04s\n",
      "15:\tlearn: 1.1413859\ttotal: 374ms\tremaining: 8.98s\n",
      "16:\tlearn: 1.1152895\ttotal: 395ms\tremaining: 8.91s\n",
      "17:\tlearn: 1.0871917\ttotal: 417ms\tremaining: 8.86s\n",
      "18:\tlearn: 1.0641851\ttotal: 438ms\tremaining: 8.79s\n",
      "19:\tlearn: 1.0398989\ttotal: 460ms\tremaining: 8.74s\n",
      "20:\tlearn: 1.0156924\ttotal: 482ms\tremaining: 8.7s\n",
      "21:\tlearn: 0.9948616\ttotal: 503ms\tremaining: 8.65s\n",
      "22:\tlearn: 0.9726854\ttotal: 525ms\tremaining: 8.6s\n",
      "23:\tlearn: 0.9536191\ttotal: 545ms\tremaining: 8.54s\n",
      "24:\tlearn: 0.9316483\ttotal: 566ms\tremaining: 8.49s\n",
      "25:\tlearn: 0.9129895\ttotal: 587ms\tremaining: 8.45s\n",
      "26:\tlearn: 0.8971149\ttotal: 609ms\tremaining: 8.41s\n",
      "27:\tlearn: 0.8806011\ttotal: 629ms\tremaining: 8.36s\n",
      "28:\tlearn: 0.8645505\ttotal: 650ms\tremaining: 8.31s\n",
      "29:\tlearn: 0.8487692\ttotal: 671ms\tremaining: 8.27s\n",
      "30:\tlearn: 0.8300379\ttotal: 692ms\tremaining: 8.24s\n",
      "31:\tlearn: 0.8133141\ttotal: 714ms\tremaining: 8.21s\n",
      "32:\tlearn: 0.7992926\ttotal: 734ms\tremaining: 8.16s\n",
      "33:\tlearn: 0.7830541\ttotal: 755ms\tremaining: 8.13s\n",
      "34:\tlearn: 0.7664586\ttotal: 776ms\tremaining: 8.09s\n",
      "35:\tlearn: 0.7521716\ttotal: 796ms\tremaining: 8.05s\n",
      "36:\tlearn: 0.7375230\ttotal: 816ms\tremaining: 8.01s\n",
      "37:\tlearn: 0.7250831\ttotal: 836ms\tremaining: 7.96s\n",
      "38:\tlearn: 0.7111226\ttotal: 855ms\tremaining: 7.91s\n",
      "39:\tlearn: 0.6979888\ttotal: 876ms\tremaining: 7.88s\n",
      "40:\tlearn: 0.6836488\ttotal: 896ms\tremaining: 7.84s\n",
      "41:\tlearn: 0.6741129\ttotal: 917ms\tremaining: 7.81s\n",
      "42:\tlearn: 0.6623060\ttotal: 937ms\tremaining: 7.78s\n",
      "43:\tlearn: 0.6509261\ttotal: 956ms\tremaining: 7.74s\n",
      "44:\tlearn: 0.6388545\ttotal: 977ms\tremaining: 7.71s\n",
      "45:\tlearn: 0.6299115\ttotal: 998ms\tremaining: 7.68s\n",
      "46:\tlearn: 0.6196012\ttotal: 1.02s\tremaining: 7.64s\n",
      "47:\tlearn: 0.6076836\ttotal: 1.04s\tremaining: 7.62s\n",
      "48:\tlearn: 0.5962132\ttotal: 1.06s\tremaining: 7.58s\n",
      "49:\tlearn: 0.5865849\ttotal: 1.08s\tremaining: 7.56s\n",
      "50:\tlearn: 0.5775476\ttotal: 1.1s\tremaining: 7.52s\n",
      "51:\tlearn: 0.5676391\ttotal: 1.12s\tremaining: 7.49s\n",
      "52:\tlearn: 0.5593348\ttotal: 1.14s\tremaining: 7.46s\n",
      "53:\tlearn: 0.5495879\ttotal: 1.16s\tremaining: 7.44s\n",
      "54:\tlearn: 0.5405557\ttotal: 1.18s\tremaining: 7.4s\n",
      "55:\tlearn: 0.5314888\ttotal: 1.2s\tremaining: 7.37s\n",
      "56:\tlearn: 0.5242776\ttotal: 1.22s\tremaining: 7.34s\n",
      "57:\tlearn: 0.5157721\ttotal: 1.24s\tremaining: 7.32s\n",
      "58:\tlearn: 0.5075079\ttotal: 1.26s\tremaining: 7.3s\n",
      "59:\tlearn: 0.4993940\ttotal: 1.28s\tremaining: 7.27s\n",
      "60:\tlearn: 0.4916620\ttotal: 1.3s\tremaining: 7.25s\n",
      "61:\tlearn: 0.4846284\ttotal: 1.32s\tremaining: 7.22s\n",
      "62:\tlearn: 0.4762148\ttotal: 1.34s\tremaining: 7.2s\n",
      "63:\tlearn: 0.4691315\ttotal: 1.37s\tremaining: 7.17s\n",
      "64:\tlearn: 0.4607116\ttotal: 1.39s\tremaining: 7.15s\n",
      "65:\tlearn: 0.4554044\ttotal: 1.41s\tremaining: 7.12s\n",
      "66:\tlearn: 0.4496414\ttotal: 1.43s\tremaining: 7.08s\n",
      "67:\tlearn: 0.4431803\ttotal: 1.44s\tremaining: 7.05s\n",
      "68:\tlearn: 0.4369143\ttotal: 1.47s\tremaining: 7.03s\n",
      "69:\tlearn: 0.4324129\ttotal: 1.48s\tremaining: 6.99s\n",
      "70:\tlearn: 0.4276288\ttotal: 1.5s\tremaining: 6.95s\n",
      "71:\tlearn: 0.4227143\ttotal: 1.52s\tremaining: 6.92s\n",
      "72:\tlearn: 0.4170892\ttotal: 1.54s\tremaining: 6.89s\n",
      "73:\tlearn: 0.4118747\ttotal: 1.56s\tremaining: 6.86s\n",
      "74:\tlearn: 0.4058334\ttotal: 1.58s\tremaining: 6.83s\n",
      "75:\tlearn: 0.4014829\ttotal: 1.6s\tremaining: 6.8s\n",
      "76:\tlearn: 0.3961519\ttotal: 1.62s\tremaining: 6.78s\n",
      "77:\tlearn: 0.3919467\ttotal: 1.63s\tremaining: 6.75s\n",
      "78:\tlearn: 0.3861807\ttotal: 1.65s\tremaining: 6.72s\n",
      "79:\tlearn: 0.3808253\ttotal: 1.68s\tremaining: 6.7s\n",
      "80:\tlearn: 0.3744535\ttotal: 1.69s\tremaining: 6.67s\n",
      "81:\tlearn: 0.3696623\ttotal: 1.71s\tremaining: 6.64s\n",
      "82:\tlearn: 0.3644553\ttotal: 1.73s\tremaining: 6.62s\n",
      "83:\tlearn: 0.3601316\ttotal: 1.75s\tremaining: 6.59s\n",
      "84:\tlearn: 0.3565833\ttotal: 1.77s\tremaining: 6.56s\n",
      "85:\tlearn: 0.3524690\ttotal: 1.79s\tremaining: 6.54s\n",
      "86:\tlearn: 0.3485837\ttotal: 1.81s\tremaining: 6.51s\n",
      "87:\tlearn: 0.3442450\ttotal: 1.83s\tremaining: 6.48s\n",
      "88:\tlearn: 0.3396056\ttotal: 1.85s\tremaining: 6.46s\n",
      "89:\tlearn: 0.3355214\ttotal: 1.87s\tremaining: 6.43s\n",
      "90:\tlearn: 0.3313087\ttotal: 1.89s\tremaining: 6.41s\n",
      "91:\tlearn: 0.3266425\ttotal: 1.91s\tremaining: 6.38s\n",
      "92:\tlearn: 0.3243103\ttotal: 1.92s\tremaining: 6.35s\n",
      "93:\tlearn: 0.3205719\ttotal: 1.94s\tremaining: 6.32s\n",
      "94:\tlearn: 0.3165374\ttotal: 1.96s\tremaining: 6.3s\n",
      "95:\tlearn: 0.3123869\ttotal: 1.98s\tremaining: 6.28s\n",
      "96:\tlearn: 0.3087995\ttotal: 2s\tremaining: 6.26s\n",
      "97:\tlearn: 0.3049524\ttotal: 2.02s\tremaining: 6.24s\n",
      "98:\tlearn: 0.3012952\ttotal: 2.04s\tremaining: 6.21s\n",
      "99:\tlearn: 0.2981261\ttotal: 2.06s\tremaining: 6.18s\n",
      "100:\tlearn: 0.2947523\ttotal: 2.08s\tremaining: 6.16s\n",
      "101:\tlearn: 0.2906915\ttotal: 2.1s\tremaining: 6.14s\n",
      "102:\tlearn: 0.2874717\ttotal: 2.12s\tremaining: 6.11s\n",
      "103:\tlearn: 0.2841607\ttotal: 2.14s\tremaining: 6.09s\n",
      "104:\tlearn: 0.2805698\ttotal: 2.16s\tremaining: 6.07s\n",
      "105:\tlearn: 0.2774673\ttotal: 2.18s\tremaining: 6.04s\n",
      "106:\tlearn: 0.2742335\ttotal: 2.2s\tremaining: 6.01s\n",
      "107:\tlearn: 0.2711559\ttotal: 2.22s\tremaining: 5.99s\n",
      "108:\tlearn: 0.2687158\ttotal: 2.23s\tremaining: 5.96s\n",
      "109:\tlearn: 0.2649575\ttotal: 2.25s\tremaining: 5.94s\n",
      "110:\tlearn: 0.2617146\ttotal: 2.27s\tremaining: 5.92s\n",
      "111:\tlearn: 0.2589010\ttotal: 2.29s\tremaining: 5.89s\n",
      "112:\tlearn: 0.2565163\ttotal: 2.31s\tremaining: 5.86s\n",
      "113:\tlearn: 0.2540353\ttotal: 2.33s\tremaining: 5.83s\n",
      "114:\tlearn: 0.2518414\ttotal: 2.34s\tremaining: 5.81s\n",
      "115:\tlearn: 0.2491933\ttotal: 2.36s\tremaining: 5.79s\n",
      "116:\tlearn: 0.2466153\ttotal: 2.38s\tremaining: 5.76s\n",
      "117:\tlearn: 0.2442349\ttotal: 2.4s\tremaining: 5.74s\n",
      "118:\tlearn: 0.2421800\ttotal: 2.42s\tremaining: 5.71s\n",
      "119:\tlearn: 0.2403954\ttotal: 2.44s\tremaining: 5.69s\n",
      "120:\tlearn: 0.2372647\ttotal: 2.46s\tremaining: 5.67s\n",
      "121:\tlearn: 0.2345694\ttotal: 2.48s\tremaining: 5.64s\n",
      "122:\tlearn: 0.2325911\ttotal: 2.5s\tremaining: 5.62s\n",
      "123:\tlearn: 0.2298886\ttotal: 2.52s\tremaining: 5.6s\n",
      "124:\tlearn: 0.2284529\ttotal: 2.54s\tremaining: 5.58s\n",
      "125:\tlearn: 0.2263268\ttotal: 2.55s\tremaining: 5.55s\n",
      "126:\tlearn: 0.2245414\ttotal: 2.57s\tremaining: 5.53s\n",
      "127:\tlearn: 0.2230170\ttotal: 2.59s\tremaining: 5.5s\n",
      "128:\tlearn: 0.2208970\ttotal: 2.61s\tremaining: 5.48s\n",
      "129:\tlearn: 0.2186598\ttotal: 2.63s\tremaining: 5.45s\n",
      "130:\tlearn: 0.2173428\ttotal: 2.64s\tremaining: 5.43s\n",
      "131:\tlearn: 0.2150005\ttotal: 2.66s\tremaining: 5.41s\n",
      "132:\tlearn: 0.2133167\ttotal: 2.68s\tremaining: 5.38s\n",
      "133:\tlearn: 0.2110383\ttotal: 2.7s\tremaining: 5.36s\n",
      "134:\tlearn: 0.2099272\ttotal: 2.71s\tremaining: 5.33s\n",
      "135:\tlearn: 0.2082592\ttotal: 2.73s\tremaining: 5.31s\n",
      "136:\tlearn: 0.2066058\ttotal: 2.75s\tremaining: 5.28s\n",
      "137:\tlearn: 0.2050414\ttotal: 2.77s\tremaining: 5.26s\n",
      "138:\tlearn: 0.2030872\ttotal: 2.79s\tremaining: 5.23s\n",
      "139:\tlearn: 0.2020165\ttotal: 2.8s\tremaining: 5.21s\n",
      "140:\tlearn: 0.2001405\ttotal: 2.82s\tremaining: 5.18s\n",
      "141:\tlearn: 0.1982069\ttotal: 2.84s\tremaining: 5.16s\n",
      "142:\tlearn: 0.1967525\ttotal: 2.86s\tremaining: 5.14s\n",
      "143:\tlearn: 0.1953756\ttotal: 2.88s\tremaining: 5.11s\n",
      "144:\tlearn: 0.1940662\ttotal: 2.89s\tremaining: 5.09s\n",
      "145:\tlearn: 0.1924060\ttotal: 2.91s\tremaining: 5.07s\n",
      "146:\tlearn: 0.1908448\ttotal: 2.93s\tremaining: 5.04s\n",
      "147:\tlearn: 0.1891449\ttotal: 2.95s\tremaining: 5.02s\n",
      "148:\tlearn: 0.1876357\ttotal: 2.97s\tremaining: 5s\n",
      "149:\tlearn: 0.1860379\ttotal: 2.99s\tremaining: 4.98s\n",
      "150:\tlearn: 0.1841348\ttotal: 3.01s\tremaining: 4.96s\n",
      "151:\tlearn: 0.1826380\ttotal: 3.02s\tremaining: 4.93s\n",
      "152:\tlearn: 0.1809202\ttotal: 3.04s\tremaining: 4.91s\n",
      "153:\tlearn: 0.1798490\ttotal: 3.06s\tremaining: 4.89s\n",
      "154:\tlearn: 0.1780784\ttotal: 3.08s\tremaining: 4.87s\n",
      "155:\tlearn: 0.1765820\ttotal: 3.1s\tremaining: 4.85s\n",
      "156:\tlearn: 0.1756014\ttotal: 3.12s\tremaining: 4.83s\n",
      "157:\tlearn: 0.1740530\ttotal: 3.13s\tremaining: 4.8s\n",
      "158:\tlearn: 0.1729071\ttotal: 3.15s\tremaining: 4.78s\n",
      "159:\tlearn: 0.1712562\ttotal: 3.17s\tremaining: 4.76s\n",
      "160:\tlearn: 0.1696873\ttotal: 3.19s\tremaining: 4.73s\n",
      "161:\tlearn: 0.1682620\ttotal: 3.21s\tremaining: 4.71s\n",
      "162:\tlearn: 0.1671060\ttotal: 3.22s\tremaining: 4.69s\n",
      "163:\tlearn: 0.1659965\ttotal: 3.24s\tremaining: 4.67s\n",
      "164:\tlearn: 0.1643670\ttotal: 3.26s\tremaining: 4.65s\n",
      "165:\tlearn: 0.1626753\ttotal: 3.28s\tremaining: 4.63s\n",
      "166:\tlearn: 0.1615152\ttotal: 3.31s\tremaining: 4.61s\n",
      "167:\tlearn: 0.1602209\ttotal: 3.32s\tremaining: 4.59s\n",
      "168:\tlearn: 0.1590537\ttotal: 3.34s\tremaining: 4.57s\n",
      "169:\tlearn: 0.1575855\ttotal: 3.36s\tremaining: 4.54s\n",
      "170:\tlearn: 0.1561717\ttotal: 3.38s\tremaining: 4.52s\n",
      "171:\tlearn: 0.1549893\ttotal: 3.4s\tremaining: 4.5s\n",
      "172:\tlearn: 0.1536382\ttotal: 3.41s\tremaining: 4.48s\n",
      "173:\tlearn: 0.1525569\ttotal: 3.43s\tremaining: 4.46s\n",
      "174:\tlearn: 0.1512807\ttotal: 3.45s\tremaining: 4.43s\n",
      "175:\tlearn: 0.1501450\ttotal: 3.47s\tremaining: 4.41s\n",
      "176:\tlearn: 0.1486485\ttotal: 3.49s\tremaining: 4.39s\n",
      "177:\tlearn: 0.1478137\ttotal: 3.5s\tremaining: 4.37s\n",
      "178:\tlearn: 0.1468782\ttotal: 3.52s\tremaining: 4.35s\n",
      "179:\tlearn: 0.1456580\ttotal: 3.54s\tremaining: 4.33s\n",
      "180:\tlearn: 0.1447441\ttotal: 3.56s\tremaining: 4.31s\n",
      "181:\tlearn: 0.1437960\ttotal: 3.58s\tremaining: 4.29s\n",
      "182:\tlearn: 0.1428354\ttotal: 3.6s\tremaining: 4.26s\n",
      "183:\tlearn: 0.1417032\ttotal: 3.61s\tremaining: 4.24s\n",
      "184:\tlearn: 0.1403624\ttotal: 3.63s\tremaining: 4.22s\n",
      "185:\tlearn: 0.1392091\ttotal: 3.65s\tremaining: 4.2s\n",
      "186:\tlearn: 0.1380842\ttotal: 3.67s\tremaining: 4.18s\n",
      "187:\tlearn: 0.1369947\ttotal: 3.7s\tremaining: 4.18s\n",
      "188:\tlearn: 0.1361261\ttotal: 3.72s\tremaining: 4.16s\n",
      "189:\tlearn: 0.1348728\ttotal: 3.74s\tremaining: 4.13s\n",
      "190:\tlearn: 0.1336363\ttotal: 3.76s\tremaining: 4.11s\n",
      "191:\tlearn: 0.1327732\ttotal: 3.78s\tremaining: 4.09s\n",
      "192:\tlearn: 0.1319016\ttotal: 3.79s\tremaining: 4.07s\n",
      "193:\tlearn: 0.1309549\ttotal: 3.81s\tremaining: 4.05s\n",
      "194:\tlearn: 0.1303814\ttotal: 3.83s\tremaining: 4.02s\n",
      "195:\tlearn: 0.1295490\ttotal: 3.85s\tremaining: 4s\n",
      "196:\tlearn: 0.1285690\ttotal: 3.86s\tremaining: 3.98s\n",
      "197:\tlearn: 0.1278798\ttotal: 3.88s\tremaining: 3.96s\n",
      "198:\tlearn: 0.1273912\ttotal: 3.9s\tremaining: 3.94s\n",
      "199:\tlearn: 0.1261979\ttotal: 3.92s\tremaining: 3.92s\n",
      "200:\tlearn: 0.1252520\ttotal: 3.94s\tremaining: 3.9s\n",
      "201:\tlearn: 0.1245635\ttotal: 3.95s\tremaining: 3.87s\n",
      "202:\tlearn: 0.1236760\ttotal: 3.97s\tremaining: 3.85s\n",
      "203:\tlearn: 0.1227569\ttotal: 3.99s\tremaining: 3.83s\n",
      "204:\tlearn: 0.1219795\ttotal: 4.01s\tremaining: 3.81s\n",
      "205:\tlearn: 0.1209417\ttotal: 4.03s\tremaining: 3.79s\n",
      "206:\tlearn: 0.1200357\ttotal: 4.05s\tremaining: 3.77s\n",
      "207:\tlearn: 0.1193566\ttotal: 4.07s\tremaining: 3.75s\n",
      "208:\tlearn: 0.1189938\ttotal: 4.08s\tremaining: 3.73s\n",
      "209:\tlearn: 0.1181642\ttotal: 4.1s\tremaining: 3.71s\n",
      "210:\tlearn: 0.1172938\ttotal: 4.12s\tremaining: 3.69s\n",
      "211:\tlearn: 0.1166091\ttotal: 4.14s\tremaining: 3.67s\n",
      "212:\tlearn: 0.1159043\ttotal: 4.16s\tremaining: 3.65s\n",
      "213:\tlearn: 0.1154858\ttotal: 4.17s\tremaining: 3.63s\n",
      "214:\tlearn: 0.1146418\ttotal: 4.19s\tremaining: 3.61s\n",
      "215:\tlearn: 0.1137043\ttotal: 4.21s\tremaining: 3.59s\n",
      "216:\tlearn: 0.1130603\ttotal: 4.23s\tremaining: 3.57s\n",
      "217:\tlearn: 0.1122573\ttotal: 4.25s\tremaining: 3.55s\n",
      "218:\tlearn: 0.1113487\ttotal: 4.27s\tremaining: 3.53s\n",
      "219:\tlearn: 0.1108876\ttotal: 4.29s\tremaining: 3.51s\n",
      "220:\tlearn: 0.1101933\ttotal: 4.3s\tremaining: 3.49s\n",
      "221:\tlearn: 0.1095278\ttotal: 4.32s\tremaining: 3.46s\n",
      "222:\tlearn: 0.1088585\ttotal: 4.34s\tremaining: 3.44s\n",
      "223:\tlearn: 0.1083156\ttotal: 4.36s\tremaining: 3.42s\n",
      "224:\tlearn: 0.1075402\ttotal: 4.38s\tremaining: 3.4s\n",
      "225:\tlearn: 0.1069617\ttotal: 4.39s\tremaining: 3.38s\n",
      "226:\tlearn: 0.1062581\ttotal: 4.41s\tremaining: 3.36s\n",
      "227:\tlearn: 0.1055452\ttotal: 4.43s\tremaining: 3.34s\n",
      "228:\tlearn: 0.1050078\ttotal: 4.45s\tremaining: 3.33s\n",
      "229:\tlearn: 0.1045148\ttotal: 4.47s\tremaining: 3.31s\n",
      "230:\tlearn: 0.1038775\ttotal: 4.49s\tremaining: 3.29s\n",
      "231:\tlearn: 0.1031312\ttotal: 4.51s\tremaining: 3.27s\n",
      "232:\tlearn: 0.1024587\ttotal: 4.53s\tremaining: 3.25s\n",
      "233:\tlearn: 0.1019067\ttotal: 4.55s\tremaining: 3.23s\n",
      "234:\tlearn: 0.1014303\ttotal: 4.57s\tremaining: 3.21s\n",
      "235:\tlearn: 0.1011078\ttotal: 4.59s\tremaining: 3.19s\n",
      "236:\tlearn: 0.1005027\ttotal: 4.61s\tremaining: 3.17s\n",
      "237:\tlearn: 0.0999983\ttotal: 4.62s\tremaining: 3.15s\n",
      "238:\tlearn: 0.0992581\ttotal: 4.65s\tremaining: 3.13s\n",
      "239:\tlearn: 0.0986960\ttotal: 4.66s\tremaining: 3.11s\n",
      "240:\tlearn: 0.0980405\ttotal: 4.68s\tremaining: 3.09s\n",
      "241:\tlearn: 0.0973821\ttotal: 4.7s\tremaining: 3.07s\n",
      "242:\tlearn: 0.0967629\ttotal: 4.72s\tremaining: 3.05s\n",
      "243:\tlearn: 0.0960422\ttotal: 4.74s\tremaining: 3.03s\n",
      "244:\tlearn: 0.0954735\ttotal: 4.76s\tremaining: 3.01s\n",
      "245:\tlearn: 0.0949145\ttotal: 4.78s\tremaining: 2.99s\n",
      "246:\tlearn: 0.0942966\ttotal: 4.79s\tremaining: 2.97s\n",
      "247:\tlearn: 0.0935964\ttotal: 4.81s\tremaining: 2.95s\n",
      "248:\tlearn: 0.0931840\ttotal: 4.84s\tremaining: 2.93s\n",
      "249:\tlearn: 0.0925083\ttotal: 4.86s\tremaining: 2.91s\n",
      "250:\tlearn: 0.0919600\ttotal: 4.87s\tremaining: 2.89s\n",
      "251:\tlearn: 0.0914836\ttotal: 4.89s\tremaining: 2.87s\n",
      "252:\tlearn: 0.0908727\ttotal: 4.91s\tremaining: 2.85s\n",
      "253:\tlearn: 0.0901999\ttotal: 4.93s\tremaining: 2.83s\n",
      "254:\tlearn: 0.0896865\ttotal: 4.95s\tremaining: 2.81s\n",
      "255:\tlearn: 0.0891651\ttotal: 4.97s\tremaining: 2.79s\n",
      "256:\tlearn: 0.0887197\ttotal: 4.99s\tremaining: 2.77s\n",
      "257:\tlearn: 0.0881337\ttotal: 5.01s\tremaining: 2.75s\n",
      "258:\tlearn: 0.0875722\ttotal: 5.03s\tremaining: 2.74s\n",
      "259:\tlearn: 0.0871017\ttotal: 5.04s\tremaining: 2.71s\n",
      "260:\tlearn: 0.0866601\ttotal: 5.06s\tremaining: 2.69s\n",
      "261:\tlearn: 0.0860262\ttotal: 5.08s\tremaining: 2.68s\n",
      "262:\tlearn: 0.0855928\ttotal: 5.1s\tremaining: 2.66s\n",
      "263:\tlearn: 0.0850932\ttotal: 5.12s\tremaining: 2.64s\n",
      "264:\tlearn: 0.0846493\ttotal: 5.14s\tremaining: 2.62s\n",
      "265:\tlearn: 0.0842235\ttotal: 5.15s\tremaining: 2.6s\n",
      "266:\tlearn: 0.0836395\ttotal: 5.17s\tremaining: 2.58s\n",
      "267:\tlearn: 0.0831542\ttotal: 5.19s\tremaining: 2.56s\n",
      "268:\tlearn: 0.0827229\ttotal: 5.21s\tremaining: 2.54s\n",
      "269:\tlearn: 0.0823706\ttotal: 5.23s\tremaining: 2.52s\n",
      "270:\tlearn: 0.0819368\ttotal: 5.25s\tremaining: 2.5s\n",
      "271:\tlearn: 0.0814313\ttotal: 5.27s\tremaining: 2.48s\n",
      "272:\tlearn: 0.0809061\ttotal: 5.29s\tremaining: 2.46s\n",
      "273:\tlearn: 0.0803651\ttotal: 5.31s\tremaining: 2.44s\n",
      "274:\tlearn: 0.0799672\ttotal: 5.32s\tremaining: 2.42s\n",
      "275:\tlearn: 0.0795507\ttotal: 5.34s\tremaining: 2.4s\n",
      "276:\tlearn: 0.0791653\ttotal: 5.36s\tremaining: 2.38s\n",
      "277:\tlearn: 0.0786663\ttotal: 5.38s\tremaining: 2.36s\n",
      "278:\tlearn: 0.0782065\ttotal: 5.39s\tremaining: 2.34s\n",
      "279:\tlearn: 0.0778696\ttotal: 5.41s\tremaining: 2.32s\n",
      "280:\tlearn: 0.0774773\ttotal: 5.43s\tremaining: 2.3s\n",
      "281:\tlearn: 0.0771669\ttotal: 5.45s\tremaining: 2.28s\n",
      "282:\tlearn: 0.0767590\ttotal: 5.47s\tremaining: 2.26s\n",
      "283:\tlearn: 0.0763746\ttotal: 5.49s\tremaining: 2.24s\n",
      "284:\tlearn: 0.0760756\ttotal: 5.5s\tremaining: 2.22s\n",
      "285:\tlearn: 0.0756730\ttotal: 5.52s\tremaining: 2.2s\n",
      "286:\tlearn: 0.0752272\ttotal: 5.54s\tremaining: 2.18s\n",
      "287:\tlearn: 0.0748248\ttotal: 5.56s\tremaining: 2.16s\n",
      "288:\tlearn: 0.0743724\ttotal: 5.58s\tremaining: 2.14s\n",
      "289:\tlearn: 0.0739885\ttotal: 5.59s\tremaining: 2.12s\n",
      "290:\tlearn: 0.0736957\ttotal: 5.61s\tremaining: 2.1s\n",
      "291:\tlearn: 0.0733962\ttotal: 5.63s\tremaining: 2.08s\n",
      "292:\tlearn: 0.0730896\ttotal: 5.65s\tremaining: 2.06s\n",
      "293:\tlearn: 0.0728686\ttotal: 5.67s\tremaining: 2.04s\n",
      "294:\tlearn: 0.0724281\ttotal: 5.69s\tremaining: 2.02s\n",
      "295:\tlearn: 0.0720621\ttotal: 5.71s\tremaining: 2.01s\n",
      "296:\tlearn: 0.0717157\ttotal: 5.73s\tremaining: 1.99s\n",
      "297:\tlearn: 0.0712965\ttotal: 5.75s\tremaining: 1.97s\n",
      "298:\tlearn: 0.0709153\ttotal: 5.76s\tremaining: 1.95s\n",
      "299:\tlearn: 0.0705704\ttotal: 5.78s\tremaining: 1.93s\n",
      "300:\tlearn: 0.0702679\ttotal: 5.8s\tremaining: 1.91s\n",
      "301:\tlearn: 0.0699442\ttotal: 5.82s\tremaining: 1.89s\n",
      "302:\tlearn: 0.0695005\ttotal: 5.84s\tremaining: 1.87s\n",
      "303:\tlearn: 0.0691620\ttotal: 5.85s\tremaining: 1.85s\n",
      "304:\tlearn: 0.0689299\ttotal: 5.87s\tremaining: 1.83s\n",
      "305:\tlearn: 0.0686079\ttotal: 5.89s\tremaining: 1.81s\n",
      "306:\tlearn: 0.0682780\ttotal: 5.91s\tremaining: 1.79s\n",
      "307:\tlearn: 0.0678827\ttotal: 5.93s\tremaining: 1.77s\n",
      "308:\tlearn: 0.0676655\ttotal: 5.94s\tremaining: 1.75s\n",
      "309:\tlearn: 0.0672929\ttotal: 5.96s\tremaining: 1.73s\n",
      "310:\tlearn: 0.0669605\ttotal: 5.98s\tremaining: 1.71s\n",
      "311:\tlearn: 0.0665860\ttotal: 6s\tremaining: 1.69s\n",
      "312:\tlearn: 0.0662704\ttotal: 6.02s\tremaining: 1.67s\n",
      "313:\tlearn: 0.0660391\ttotal: 6.04s\tremaining: 1.65s\n",
      "314:\tlearn: 0.0657424\ttotal: 6.06s\tremaining: 1.63s\n",
      "315:\tlearn: 0.0654357\ttotal: 6.08s\tremaining: 1.61s\n",
      "316:\tlearn: 0.0650592\ttotal: 6.09s\tremaining: 1.59s\n",
      "317:\tlearn: 0.0646848\ttotal: 6.11s\tremaining: 1.58s\n",
      "318:\tlearn: 0.0644017\ttotal: 6.13s\tremaining: 1.56s\n",
      "319:\tlearn: 0.0640659\ttotal: 6.15s\tremaining: 1.54s\n",
      "320:\tlearn: 0.0638688\ttotal: 6.17s\tremaining: 1.52s\n",
      "321:\tlearn: 0.0635795\ttotal: 6.18s\tremaining: 1.5s\n",
      "322:\tlearn: 0.0632025\ttotal: 6.2s\tremaining: 1.48s\n",
      "323:\tlearn: 0.0628822\ttotal: 6.22s\tremaining: 1.46s\n",
      "324:\tlearn: 0.0627068\ttotal: 6.24s\tremaining: 1.44s\n",
      "325:\tlearn: 0.0624865\ttotal: 6.25s\tremaining: 1.42s\n",
      "326:\tlearn: 0.0621532\ttotal: 6.28s\tremaining: 1.4s\n",
      "327:\tlearn: 0.0618522\ttotal: 6.29s\tremaining: 1.38s\n",
      "328:\tlearn: 0.0616013\ttotal: 6.31s\tremaining: 1.36s\n",
      "329:\tlearn: 0.0613426\ttotal: 6.33s\tremaining: 1.34s\n",
      "330:\tlearn: 0.0609836\ttotal: 6.35s\tremaining: 1.32s\n",
      "331:\tlearn: 0.0607033\ttotal: 6.37s\tremaining: 1.3s\n",
      "332:\tlearn: 0.0604291\ttotal: 6.39s\tremaining: 1.28s\n",
      "333:\tlearn: 0.0602229\ttotal: 6.41s\tremaining: 1.27s\n",
      "334:\tlearn: 0.0599353\ttotal: 6.42s\tremaining: 1.25s\n",
      "335:\tlearn: 0.0596420\ttotal: 6.44s\tremaining: 1.23s\n",
      "336:\tlearn: 0.0593491\ttotal: 6.46s\tremaining: 1.21s\n",
      "337:\tlearn: 0.0590343\ttotal: 6.48s\tremaining: 1.19s\n",
      "338:\tlearn: 0.0587601\ttotal: 6.5s\tremaining: 1.17s\n",
      "339:\tlearn: 0.0585145\ttotal: 6.52s\tremaining: 1.15s\n",
      "340:\tlearn: 0.0583883\ttotal: 6.54s\tremaining: 1.13s\n",
      "341:\tlearn: 0.0580927\ttotal: 6.56s\tremaining: 1.11s\n",
      "342:\tlearn: 0.0578626\ttotal: 6.58s\tremaining: 1.09s\n",
      "343:\tlearn: 0.0576059\ttotal: 6.59s\tremaining: 1.07s\n",
      "344:\tlearn: 0.0573296\ttotal: 6.61s\tremaining: 1.05s\n",
      "345:\tlearn: 0.0571000\ttotal: 6.63s\tremaining: 1.03s\n",
      "346:\tlearn: 0.0568941\ttotal: 6.65s\tremaining: 1.01s\n",
      "347:\tlearn: 0.0566131\ttotal: 6.67s\tremaining: 996ms\n",
      "348:\tlearn: 0.0564233\ttotal: 6.69s\tremaining: 977ms\n",
      "349:\tlearn: 0.0562073\ttotal: 6.7s\tremaining: 958ms\n",
      "350:\tlearn: 0.0559799\ttotal: 6.72s\tremaining: 938ms\n",
      "351:\tlearn: 0.0557481\ttotal: 6.74s\tremaining: 919ms\n",
      "352:\tlearn: 0.0555538\ttotal: 6.76s\tremaining: 900ms\n",
      "353:\tlearn: 0.0553367\ttotal: 6.78s\tremaining: 881ms\n",
      "354:\tlearn: 0.0551577\ttotal: 6.8s\tremaining: 861ms\n",
      "355:\tlearn: 0.0549297\ttotal: 6.81s\tremaining: 842ms\n",
      "356:\tlearn: 0.0546909\ttotal: 6.83s\tremaining: 823ms\n",
      "357:\tlearn: 0.0544781\ttotal: 6.85s\tremaining: 803ms\n",
      "358:\tlearn: 0.0542152\ttotal: 6.87s\tremaining: 784ms\n",
      "359:\tlearn: 0.0539168\ttotal: 6.88s\tremaining: 765ms\n",
      "360:\tlearn: 0.0536750\ttotal: 6.9s\tremaining: 746ms\n",
      "361:\tlearn: 0.0535401\ttotal: 6.92s\tremaining: 726ms\n",
      "362:\tlearn: 0.0533400\ttotal: 6.94s\tremaining: 707ms\n",
      "363:\tlearn: 0.0531060\ttotal: 6.96s\tremaining: 688ms\n",
      "364:\tlearn: 0.0528641\ttotal: 6.98s\tremaining: 669ms\n",
      "365:\tlearn: 0.0526575\ttotal: 7s\tremaining: 650ms\n",
      "366:\tlearn: 0.0524011\ttotal: 7.02s\tremaining: 631ms\n",
      "367:\tlearn: 0.0521789\ttotal: 7.03s\tremaining: 612ms\n",
      "368:\tlearn: 0.0519289\ttotal: 7.05s\tremaining: 592ms\n",
      "369:\tlearn: 0.0516724\ttotal: 7.07s\tremaining: 573ms\n",
      "370:\tlearn: 0.0514686\ttotal: 7.09s\tremaining: 554ms\n",
      "371:\tlearn: 0.0512040\ttotal: 7.1s\tremaining: 535ms\n",
      "372:\tlearn: 0.0509985\ttotal: 7.12s\tremaining: 515ms\n",
      "373:\tlearn: 0.0507985\ttotal: 7.14s\tremaining: 496ms\n",
      "374:\tlearn: 0.0505726\ttotal: 7.16s\tremaining: 477ms\n",
      "375:\tlearn: 0.0503493\ttotal: 7.17s\tremaining: 458ms\n",
      "376:\tlearn: 0.0501426\ttotal: 7.2s\tremaining: 439ms\n",
      "377:\tlearn: 0.0499607\ttotal: 7.21s\tremaining: 420ms\n",
      "378:\tlearn: 0.0497767\ttotal: 7.23s\tremaining: 401ms\n",
      "379:\tlearn: 0.0496260\ttotal: 7.25s\tremaining: 382ms\n",
      "380:\tlearn: 0.0494488\ttotal: 7.27s\tremaining: 362ms\n",
      "381:\tlearn: 0.0492234\ttotal: 7.29s\tremaining: 343ms\n",
      "382:\tlearn: 0.0490347\ttotal: 7.3s\tremaining: 324ms\n",
      "383:\tlearn: 0.0488405\ttotal: 7.32s\tremaining: 305ms\n",
      "384:\tlearn: 0.0486342\ttotal: 7.34s\tremaining: 286ms\n",
      "385:\tlearn: 0.0485161\ttotal: 7.36s\tremaining: 267ms\n",
      "386:\tlearn: 0.0483290\ttotal: 7.37s\tremaining: 248ms\n",
      "387:\tlearn: 0.0481349\ttotal: 7.39s\tremaining: 229ms\n",
      "388:\tlearn: 0.0479320\ttotal: 7.41s\tremaining: 210ms\n",
      "389:\tlearn: 0.0477085\ttotal: 7.43s\tremaining: 191ms\n",
      "390:\tlearn: 0.0475273\ttotal: 7.45s\tremaining: 171ms\n",
      "391:\tlearn: 0.0473450\ttotal: 7.47s\tremaining: 152ms\n",
      "392:\tlearn: 0.0471554\ttotal: 7.49s\tremaining: 133ms\n",
      "393:\tlearn: 0.0470044\ttotal: 7.5s\tremaining: 114ms\n",
      "394:\tlearn: 0.0468218\ttotal: 7.52s\tremaining: 95.2ms\n",
      "395:\tlearn: 0.0466728\ttotal: 7.54s\tremaining: 76.2ms\n",
      "396:\tlearn: 0.0464709\ttotal: 7.56s\tremaining: 57.1ms\n",
      "397:\tlearn: 0.0463061\ttotal: 7.58s\tremaining: 38.1ms\n",
      "398:\tlearn: 0.0461488\ttotal: 7.6s\tremaining: 19ms\n",
      "399:\tlearn: 0.0460201\ttotal: 7.62s\tremaining: 0us\n",
      "              precision    recall  f1-score   support\n",
      "\n",
      "           0       0.63      0.60      0.62        43\n",
      "           1       0.75      0.68      0.71        31\n",
      "           2       0.72      0.68      0.70        34\n",
      "           3       0.57      0.62      0.59        26\n",
      "           4       0.55      0.59      0.57        27\n",
      "           5       0.69      0.73      0.70        51\n",
      "\n",
      "    accuracy                           0.66       212\n",
      "   macro avg       0.65      0.65      0.65       212\n",
      "weighted avg       0.66      0.66      0.66       212\n"
     ]
    }
   ],
   "source": [
    "model = cb.CatBoostClassifier(iterations=400, task_type='GPU')\n",
    "model.fit(X_train, y_train)\n",
    "# Generate classification report\n",
    "y_pred = model.predict(X_test)\n",
    "print(metrics.classification_report(y_test, y_pred))"
   ],
   "metadata": {
    "collapsed": false,
    "ExecuteTime": {
     "end_time": "2024-02-24T13:33:13.302839300Z",
     "start_time": "2024-02-24T13:33:04.815260800Z"
    }
   },
   "id": "c14f291177ba9793",
   "execution_count": 20
  },
  {
   "cell_type": "markdown",
   "source": [
    "Very interesting to note is that the Catboost model gave a score of 0.66, not better from the logistic regression,\n",
    "and from other models we have tried so far, \n",
    "meaning that the more complex models do not always outperform the simpler ones."
   ],
   "metadata": {
    "collapsed": false
   },
   "id": "66b66ab411e286e6"
  },
  {
   "cell_type": "markdown",
   "source": [
    "### Neural Network\n",
    "\n",
    "While neural networks need a lot of data to perform well, let's try a simple neural network model to see how it performs.\n",
    "\n",
    "We will use the `keras` library to build the neural network model.\n",
    "\n",
    "Let's start by making the train and test splits from above into TensorFlow datasets.\n",
    "\n",
    "We will also define a validation dataset from the training data to monitor the model's performance during training.\n",
    "All the tensors will be batched and pre-fetched to improve performance and also cached to avoid loading the data from the disk during training."
   ],
   "metadata": {
    "collapsed": false
   },
   "id": "be15e3c101722f61"
  },
  {
   "cell_type": "code",
   "outputs": [],
   "source": [
    "# Parameters\n",
    "BATCH_SIZE = 32\n",
    "SHUFFLE_BUFFER_SIZE = 600  # Adjust based on your dataset size\n",
    "VALIDATION_SPLIT = 0.2  # Fraction of training data to use for validation\n",
    "\n",
    "# Calculate the number of validation samples\n",
    "n_validation_samples = int(len(X_train) * VALIDATION_SPLIT)\n",
    "\n",
    "# Create and process the validation dataset from the training data\n",
    "val_ds = tf.data.Dataset.from_tensor_slices((X_train[:n_validation_samples], y_train[:n_validation_samples]))\n",
    "val_ds = val_ds.batch(BATCH_SIZE).cache().prefetch(buffer_size=tf.data.AUTOTUNE)\n",
    "\n",
    "# Update the training dataset to exclude the validation data and process it\n",
    "train_ds = tf.data.Dataset.from_tensor_slices((X_train[n_validation_samples:], y_train[n_validation_samples:]))\n",
    "train_ds = train_ds.shuffle(SHUFFLE_BUFFER_SIZE).batch(BATCH_SIZE).cache().prefetch(buffer_size=tf.data.AUTOTUNE)\n",
    "\n",
    "# Create and process the test dataset\n",
    "test_ds = tf.data.Dataset.from_tensor_slices((X_test, y_test))\n",
    "test_ds = test_ds.batch(BATCH_SIZE).cache().prefetch(buffer_size=tf.data.AUTOTUNE)"
   ],
   "metadata": {
    "collapsed": false,
    "ExecuteTime": {
     "end_time": "2024-02-24T13:52:22.285466400Z",
     "start_time": "2024-02-24T13:52:22.249102400Z"
    }
   },
   "id": "fac050077fcb120",
   "execution_count": 61
  },
  {
   "cell_type": "markdown",
   "source": [
    "With that done, let's have a look at the first batch of the training dataset."
   ],
   "metadata": {
    "collapsed": false
   },
   "id": "c1bc0a932557566"
  },
  {
   "cell_type": "code",
   "outputs": [
    {
     "name": "stdout",
     "output_type": "stream",
     "text": [
      "Features: [[ 0.0134964   0.0063858  -0.01190186 ... -0.02804565 -0.06958008\n",
      "  -0.003479  ]\n",
      " [-0.02084351 -0.02166748 -0.00558472 ...  0.03881836 -0.05783081\n",
      "  -0.00146484]\n",
      " [ 0.02546692 -0.00386047 -0.01843262 ...  0.03790283 -0.04391479\n",
      "  -0.0231781 ]\n",
      " ...\n",
      " [ 0.02223206 -0.0027256  -0.01734924 ...  0.02944946 -0.0213623\n",
      "  -0.03393555]\n",
      " [ 0.02932739  0.03114319 -0.03488159 ... -0.00068331 -0.0161438\n",
      "  -0.00129414]\n",
      " [ 0.01000977  0.0178833  -0.02072144 ...  0.0010643  -0.06463623\n",
      "   0.0123291 ]], Target: [4 0 5 5 3 0 5 3 1 3 0 3 3 0 0 3 3 5 4 3 5 3 3 5 0 1 0 2 5 1 3 5]\n"
     ]
    }
   ],
   "source": [
    "for feat, targ in train_ds.take(1):\n",
    "    print('Features: {}, Target: {}'.format(feat, targ))"
   ],
   "metadata": {
    "collapsed": false,
    "ExecuteTime": {
     "end_time": "2024-02-24T13:52:22.548918600Z",
     "start_time": "2024-02-24T13:52:22.536833500Z"
    }
   },
   "id": "28b6cd6e52c06ff9",
   "execution_count": 62
  },
  {
   "cell_type": "markdown",
   "source": [
    "We can see that the training dataset is structured as expected, with the features and the targets batched together with a size of 32."
   ],
   "metadata": {
    "collapsed": false
   },
   "id": "2200f63d62e00072"
  },
  {
   "cell_type": "markdown",
   "source": [
    "Now let's define an early stopping callback to stop training the model when the validation loss does not improve after a certain number of epochs. "
   ],
   "metadata": {
    "collapsed": false
   },
   "id": "55faaf898903bf36"
  },
  {
   "cell_type": "code",
   "outputs": [],
   "source": [
    "early_stopping_callback = tf.keras.callbacks.EarlyStopping(\n",
    "    monitor='val_loss',  # Monitor the validation loss\n",
    "    patience=30,  # Number of epochs with no improvement after which training will be stopped\n",
    "    restore_best_weights=True  # Restores model weights from the epoch with the best value of the monitored quantity\n",
    ")"
   ],
   "metadata": {
    "collapsed": false,
    "ExecuteTime": {
     "end_time": "2024-02-24T13:52:23.033607100Z",
     "start_time": "2024-02-24T13:52:23.024722900Z"
    }
   },
   "id": "a2a85456f6f0206a",
   "execution_count": 63
  },
  {
   "cell_type": "markdown",
   "source": [
    "Another useful callback method in TensorFlow is the ModelCheckpoint callback. This callback saves the model at regular intervals during training, allowing you to retain and load the best version of your model based on a certain monitored metric, such as validation loss or accuracy."
   ],
   "metadata": {
    "collapsed": false
   },
   "id": "58e3c995a8f8d943"
  },
  {
   "cell_type": "code",
   "outputs": [],
   "source": [
    "model_checkpoint_callback = tf.keras.callbacks.ModelCheckpoint(\n",
    "    filepath='model_{epoch:02d}-{val_loss:.2f}.keras',  # Change the extension to '.keras'\n",
    "    save_weights_only=False,  # Set to True to save only weights, False to save the entire model\n",
    "    monitor='val_loss',  # Monitor the validation loss\n",
    "    mode='min',  # The model is saved when the monitored metric stops decreasing\n",
    "    save_best_only=True,  # Only the best model is saved\n",
    "    verbose=1  # Verbosity mode, 1 or 0\n",
    ")\n",
    "\n",
    "CALLBACKS = [\n",
    "    tfdocs.modeling.EpochDots(),\n",
    "    early_stopping_callback,\n",
    "    model_checkpoint_callback\n",
    "]"
   ],
   "metadata": {
    "collapsed": false,
    "ExecuteTime": {
     "end_time": "2024-02-24T13:52:23.595363100Z",
     "start_time": "2024-02-24T13:52:23.588277800Z"
    }
   },
   "id": "e99e3b0058d27c4b",
   "execution_count": 64
  },
  {
   "cell_type": "markdown",
   "source": [
    "Lastly, let's define a scheduler callback to adjust the learning rate during training."
   ],
   "metadata": {
    "collapsed": false
   },
   "id": "e70949e4096c0a1f"
  },
  {
   "cell_type": "code",
   "outputs": [],
   "source": [
    "BATCH_SIZE = 32\n",
    "STEPS_PER_EPOCH = X_train.shape[0] // BATCH_SIZE\n",
    "lr_scheduler = tf.keras.optimizers.schedules.InverseTimeDecay(\n",
    "    initial_learning_rate=1e-3,  # Initial learning rate\n",
    "    decay_steps=STEPS_PER_EPOCH * 1000,  # Decay steps\n",
    "    decay_rate=0.9,  # Decay rate\n",
    "    staircase=True  # If True, decay the learning rate at discrete intervals\n",
    ")"
   ],
   "metadata": {
    "collapsed": false,
    "ExecuteTime": {
     "end_time": "2024-02-24T13:52:24.037393700Z",
     "start_time": "2024-02-24T13:52:24.031370200Z"
    }
   },
   "id": "b24cce175aac2630",
   "execution_count": 65
  },
  {
   "cell_type": "markdown",
   "source": [
    "With all the callbacks and the learning rate scheduler defined, let's now build the neural network model.\n",
    "\n",
    "We will use a simple neural network with 3 dense layers, the first with 32 units and the second with 16, and a ReLU activation function.\n",
    "The last layer will have 6 units, one for each class, and a softmax activation function.\n",
    "\n",
    "Also, we will use the Adam optimizer and the SparseCategoricalCrossentropy loss function, as well as the accuracy metric.\n",
    "\n",
    "Lastly, we will add WeightRegularization to the model as well as DropoutLayers to prevent overfitting."
   ],
   "metadata": {
    "collapsed": false
   },
   "id": "396c45887ea4ddcd"
  },
  {
   "cell_type": "code",
   "outputs": [],
   "source": [
    "weight_regularizer = regularizers.l2(0.0001)\n",
    "\n",
    "model = keras.Sequential([\n",
    "    layers.Dense(32, activation='relu', input_shape=(X_train.shape[1],), kernel_regularizer=weight_regularizer),\n",
    "    layers.Dropout(0.3),\n",
    "    layers.Dense(16, activation='relu', kernel_regularizer=weight_regularizer),\n",
    "    layers.Dropout(0.2),\n",
    "    layers.Dense(n_classes, activation='softmax')\n",
    "])"
   ],
   "metadata": {
    "collapsed": false,
    "ExecuteTime": {
     "end_time": "2024-02-24T13:52:24.399629700Z",
     "start_time": "2024-02-24T13:52:24.371662300Z"
    }
   },
   "id": "ed010b4c406e22d7",
   "execution_count": 66
  },
  {
   "cell_type": "markdown",
   "source": [
    "With the model created, let's compile it using the Adam optimizer, the SparseCategoricalCrossentropy loss function, and the accuracy metric."
   ],
   "metadata": {
    "collapsed": false
   },
   "id": "9600efc4cd8cdafb"
  },
  {
   "cell_type": "code",
   "outputs": [],
   "source": [
    "# Compile the model\n",
    "model.compile(optimizer=tf.keras.optimizers.Adam(learning_rate=lr_scheduler),\n",
    "              loss=tf.keras.losses.SparseCategoricalCrossentropy(from_logits=False),\n",
    "              metrics=(['accuracy',\n",
    "                        tf.keras.losses.SparseCategoricalCrossentropy(\n",
    "                            from_logits=False, name='sparse_categorical_crossentropy')]))"
   ],
   "metadata": {
    "collapsed": false,
    "ExecuteTime": {
     "end_time": "2024-02-24T13:52:25.491265200Z",
     "start_time": "2024-02-24T13:52:25.483276600Z"
    }
   },
   "id": "3dc26bb0fade8741",
   "execution_count": 67
  },
  {
   "cell_type": "markdown",
   "source": [
    "Let's see now the model summary"
   ],
   "metadata": {
    "collapsed": false
   },
   "id": "d19eb4b55cb1da4d"
  },
  {
   "cell_type": "code",
   "outputs": [
    {
     "name": "stdout",
     "output_type": "stream",
     "text": [
      "Model: \"sequential_4\"\n",
      "_________________________________________________________________\n",
      " Layer (type)                Output Shape              Param #   \n",
      "=================================================================\n",
      " dense_12 (Dense)            (None, 32)                24608     \n",
      "                                                                 \n",
      " dropout_8 (Dropout)         (None, 32)                0         \n",
      "                                                                 \n",
      " dense_13 (Dense)            (None, 16)                528       \n",
      "                                                                 \n",
      " dropout_9 (Dropout)         (None, 16)                0         \n",
      "                                                                 \n",
      " dense_14 (Dense)            (None, 6)                 102       \n",
      "                                                                 \n",
      "=================================================================\n",
      "Total params: 25238 (98.59 KB)\n",
      "Trainable params: 25238 (98.59 KB)\n",
      "Non-trainable params: 0 (0.00 Byte)\n",
      "_________________________________________________________________\n"
     ]
    }
   ],
   "source": [
    "model.summary()"
   ],
   "metadata": {
    "collapsed": false,
    "ExecuteTime": {
     "end_time": "2024-02-24T13:52:26.076270700Z",
     "start_time": "2024-02-24T13:52:26.040637900Z"
    }
   },
   "id": "7794956153aea89d",
   "execution_count": 68
  },
  {
   "cell_type": "markdown",
   "source": [
    "We can see that the model has 25238 parameters to train, which are quite a lot for the small dataset we have.\n",
    "However, with the Dropout layers and the WeightRegularization, we hope to prevent excessive overfitting.\n",
    "\n",
    "Let's now train the model using the training dataset and the validation dataset we created earlier."
   ],
   "metadata": {
    "collapsed": false
   },
   "id": "689f9ac49e7e4324"
  },
  {
   "cell_type": "code",
   "outputs": [
    {
     "name": "stdout",
     "output_type": "stream",
     "text": [
      "Epoch 1/100\n",
      " 1/22 [>.............................] - ETA: 7s - loss: 1.8055 - accuracy: 0.0625 - sparse_categorical_crossentropy: 1.7972\n",
      "Epoch: 0, accuracy:0.1820,  loss:1.7972,  sparse_categorical_crossentropy:1.7882,  val_accuracy:0.2012,  val_loss:1.7907,  val_sparse_categorical_crossentropy:1.7829,  \n",
      ".\n",
      "Epoch 1: val_loss improved from inf to 1.79069, saving model to model_01-1.79.keras\n",
      "22/22 [==============================] - 0s 6ms/step - loss: 1.7972 - accuracy: 0.1820 - sparse_categorical_crossentropy: 1.7882 - val_loss: 1.7907 - val_accuracy: 0.2012 - val_sparse_categorical_crossentropy: 1.7829\n",
      "Epoch 2/100\n",
      " 1/22 [>.............................] - ETA: 0s - loss: 1.7894 - accuracy: 0.2188 - sparse_categorical_crossentropy: 1.7817.\n",
      "Epoch 2: val_loss improved from 1.79069 to 1.78117, saving model to model_02-1.78.keras\n",
      "22/22 [==============================] - 0s 2ms/step - loss: 1.7890 - accuracy: 0.2160 - sparse_categorical_crossentropy: 1.7795 - val_loss: 1.7812 - val_accuracy: 0.2130 - val_sparse_categorical_crossentropy: 1.7754\n",
      "Epoch 3/100\n",
      " 1/22 [>.............................] - ETA: 0s - loss: 1.7726 - accuracy: 0.2812 - sparse_categorical_crossentropy: 1.7653.\n",
      "Epoch 3: val_loss improved from 1.78117 to 1.76914, saving model to model_03-1.77.keras\n",
      "22/22 [==============================] - 0s 2ms/step - loss: 1.7711 - accuracy: 0.2308 - sparse_categorical_crossentropy: 1.7596 - val_loss: 1.7691 - val_accuracy: 0.2012 - val_sparse_categorical_crossentropy: 1.7657\n",
      "Epoch 4/100\n",
      " 1/22 [>.............................] - ETA: 0s - loss: 1.7471 - accuracy: 0.2188 - sparse_categorical_crossentropy: 1.7401.\n",
      "Epoch 4: val_loss improved from 1.76914 to 1.75572, saving model to model_04-1.76.keras\n",
      "22/22 [==============================] - 0s 2ms/step - loss: 1.7523 - accuracy: 0.2470 - sparse_categorical_crossentropy: 1.7404 - val_loss: 1.7557 - val_accuracy: 0.2367 - val_sparse_categorical_crossentropy: 1.7526\n",
      "Epoch 5/100\n",
      " 1/22 [>.............................] - ETA: 0s - loss: 1.7305 - accuracy: 0.2188 - sparse_categorical_crossentropy: 1.7238.\n",
      "Epoch 5: val_loss improved from 1.75572 to 1.73186, saving model to model_05-1.73.keras\n",
      "22/22 [==============================] - 0s 2ms/step - loss: 1.7360 - accuracy: 0.2796 - sparse_categorical_crossentropy: 1.7186 - val_loss: 1.7319 - val_accuracy: 0.2604 - val_sparse_categorical_crossentropy: 1.7308\n",
      "Epoch 6/100\n",
      " 1/22 [>.............................] - ETA: 0s - loss: 1.7159 - accuracy: 0.1875 - sparse_categorical_crossentropy: 1.7091.\n",
      "Epoch 6: val_loss improved from 1.73186 to 1.70813, saving model to model_06-1.71.keras\n",
      "22/22 [==============================] - 0s 2ms/step - loss: 1.6983 - accuracy: 0.3077 - sparse_categorical_crossentropy: 1.6863 - val_loss: 1.7081 - val_accuracy: 0.2663 - val_sparse_categorical_crossentropy: 1.7090\n",
      "Epoch 7/100\n",
      " 1/22 [>.............................] - ETA: 0s - loss: 1.7262 - accuracy: 0.2188 - sparse_categorical_crossentropy: 1.7193.\n",
      "Epoch 7: val_loss improved from 1.70813 to 1.68530, saving model to model_07-1.69.keras\n",
      "22/22 [==============================] - 0s 2ms/step - loss: 1.6800 - accuracy: 0.3299 - sparse_categorical_crossentropy: 1.6555 - val_loss: 1.6853 - val_accuracy: 0.2899 - val_sparse_categorical_crossentropy: 1.6872\n",
      "Epoch 8/100\n",
      " 1/22 [>.............................] - ETA: 0s - loss: 1.6322 - accuracy: 0.3438 - sparse_categorical_crossentropy: 1.6251.\n",
      "Epoch 8: val_loss improved from 1.68530 to 1.65181, saving model to model_08-1.65.keras\n",
      "22/22 [==============================] - 0s 2ms/step - loss: 1.6477 - accuracy: 0.3491 - sparse_categorical_crossentropy: 1.6267 - val_loss: 1.6518 - val_accuracy: 0.2959 - val_sparse_categorical_crossentropy: 1.6544\n",
      "Epoch 9/100\n",
      " 1/22 [>.............................] - ETA: 0s - loss: 1.6636 - accuracy: 0.3750 - sparse_categorical_crossentropy: 1.6561.\n",
      "Epoch 9: val_loss improved from 1.65181 to 1.63069, saving model to model_09-1.63.keras\n",
      "22/22 [==============================] - 0s 2ms/step - loss: 1.6067 - accuracy: 0.3817 - sparse_categorical_crossentropy: 1.5863 - val_loss: 1.6307 - val_accuracy: 0.3077 - val_sparse_categorical_crossentropy: 1.6356\n",
      "Epoch 10/100\n",
      " 1/22 [>.............................] - ETA: 0s - loss: 1.6079 - accuracy: 0.4375 - sparse_categorical_crossentropy: 1.5999.\n",
      "Epoch 10: val_loss improved from 1.63069 to 1.58601, saving model to model_10-1.59.keras\n",
      "22/22 [==============================] - 0s 2ms/step - loss: 1.5623 - accuracy: 0.4172 - sparse_categorical_crossentropy: 1.5353 - val_loss: 1.5860 - val_accuracy: 0.3964 - val_sparse_categorical_crossentropy: 1.5891\n",
      "Epoch 11/100\n",
      " 1/22 [>.............................] - ETA: 0s - loss: 1.5608 - accuracy: 0.3750 - sparse_categorical_crossentropy: 1.5523.\n",
      "Epoch 11: val_loss improved from 1.58601 to 1.54522, saving model to model_11-1.55.keras\n",
      "22/22 [==============================] - 0s 2ms/step - loss: 1.5260 - accuracy: 0.4364 - sparse_categorical_crossentropy: 1.4916 - val_loss: 1.5452 - val_accuracy: 0.3964 - val_sparse_categorical_crossentropy: 1.5515\n",
      "Epoch 12/100\n",
      " 1/22 [>.............................] - ETA: 0s - loss: 1.5063 - accuracy: 0.3750 - sparse_categorical_crossentropy: 1.4973.\n",
      "Epoch 12: val_loss improved from 1.54522 to 1.51295, saving model to model_12-1.51.keras\n",
      "22/22 [==============================] - 0s 2ms/step - loss: 1.4901 - accuracy: 0.4615 - sparse_categorical_crossentropy: 1.4615 - val_loss: 1.5129 - val_accuracy: 0.4083 - val_sparse_categorical_crossentropy: 1.5190\n",
      "Epoch 13/100\n",
      " 1/22 [>.............................] - ETA: 0s - loss: 1.4287 - accuracy: 0.4688 - sparse_categorical_crossentropy: 1.4190.\n",
      "Epoch 13: val_loss improved from 1.51295 to 1.47155, saving model to model_13-1.47.keras\n",
      "22/22 [==============================] - 0s 2ms/step - loss: 1.4375 - accuracy: 0.4512 - sparse_categorical_crossentropy: 1.4002 - val_loss: 1.4716 - val_accuracy: 0.4497 - val_sparse_categorical_crossentropy: 1.4782\n",
      "Epoch 14/100\n",
      " 1/22 [>.............................] - ETA: 0s - loss: 1.4074 - accuracy: 0.4688 - sparse_categorical_crossentropy: 1.3970.\n",
      "Epoch 14: val_loss improved from 1.47155 to 1.43399, saving model to model_14-1.43.keras\n",
      "22/22 [==============================] - 0s 2ms/step - loss: 1.3936 - accuracy: 0.4985 - sparse_categorical_crossentropy: 1.3567 - val_loss: 1.4340 - val_accuracy: 0.4615 - val_sparse_categorical_crossentropy: 1.4392\n",
      "Epoch 15/100\n",
      " 1/22 [>.............................] - ETA: 0s - loss: 1.3436 - accuracy: 0.5312 - sparse_categorical_crossentropy: 1.3326.\n",
      "Epoch 15: val_loss improved from 1.43399 to 1.40588, saving model to model_15-1.41.keras\n",
      "22/22 [==============================] - 0s 2ms/step - loss: 1.3604 - accuracy: 0.5030 - sparse_categorical_crossentropy: 1.3167 - val_loss: 1.4059 - val_accuracy: 0.4675 - val_sparse_categorical_crossentropy: 1.4122\n",
      "Epoch 16/100\n",
      " 1/22 [>.............................] - ETA: 0s - loss: 1.3585 - accuracy: 0.5000 - sparse_categorical_crossentropy: 1.3469.\n",
      "Epoch 16: val_loss improved from 1.40588 to 1.37776, saving model to model_16-1.38.keras\n",
      "22/22 [==============================] - 0s 2ms/step - loss: 1.3156 - accuracy: 0.5222 - sparse_categorical_crossentropy: 1.2755 - val_loss: 1.3778 - val_accuracy: 0.4615 - val_sparse_categorical_crossentropy: 1.3824\n",
      "Epoch 17/100\n",
      " 1/22 [>.............................] - ETA: 0s - loss: 1.3430 - accuracy: 0.5000 - sparse_categorical_crossentropy: 1.3306.\n",
      "Epoch 17: val_loss improved from 1.37776 to 1.34474, saving model to model_17-1.34.keras\n",
      "22/22 [==============================] - 0s 2ms/step - loss: 1.2967 - accuracy: 0.5399 - sparse_categorical_crossentropy: 1.2690 - val_loss: 1.3447 - val_accuracy: 0.5148 - val_sparse_categorical_crossentropy: 1.3470\n",
      "Epoch 18/100\n",
      " 1/22 [>.............................] - ETA: 0s - loss: 1.3263 - accuracy: 0.5000 - sparse_categorical_crossentropy: 1.3132.\n",
      "Epoch 18: val_loss improved from 1.34474 to 1.31953, saving model to model_18-1.32.keras\n",
      "22/22 [==============================] - 0s 2ms/step - loss: 1.2432 - accuracy: 0.5577 - sparse_categorical_crossentropy: 1.1981 - val_loss: 1.3195 - val_accuracy: 0.5089 - val_sparse_categorical_crossentropy: 1.3226\n",
      "Epoch 19/100\n",
      " 1/22 [>.............................] - ETA: 0s - loss: 1.3051 - accuracy: 0.3750 - sparse_categorical_crossentropy: 1.2914.\n",
      "Epoch 19: val_loss improved from 1.31953 to 1.30287, saving model to model_19-1.30.keras\n",
      "22/22 [==============================] - 0s 2ms/step - loss: 1.2311 - accuracy: 0.5414 - sparse_categorical_crossentropy: 1.1845 - val_loss: 1.3029 - val_accuracy: 0.5148 - val_sparse_categorical_crossentropy: 1.3021\n",
      "Epoch 20/100\n",
      " 1/22 [>.............................] - ETA: 0s - loss: 1.2849 - accuracy: 0.4375 - sparse_categorical_crossentropy: 1.2706.\n",
      "Epoch 20: val_loss improved from 1.30287 to 1.26689, saving model to model_20-1.27.keras\n",
      "22/22 [==============================] - 0s 2ms/step - loss: 1.1759 - accuracy: 0.5695 - sparse_categorical_crossentropy: 1.1358 - val_loss: 1.2669 - val_accuracy: 0.5562 - val_sparse_categorical_crossentropy: 1.2677\n",
      "Epoch 21/100\n",
      " 1/22 [>.............................] - ETA: 0s - loss: 1.2025 - accuracy: 0.5312 - sparse_categorical_crossentropy: 1.1874.\n",
      "Epoch 21: val_loss improved from 1.26689 to 1.26505, saving model to model_21-1.27.keras\n",
      "22/22 [==============================] - 0s 2ms/step - loss: 1.1632 - accuracy: 0.5695 - sparse_categorical_crossentropy: 1.1114 - val_loss: 1.2651 - val_accuracy: 0.5148 - val_sparse_categorical_crossentropy: 1.2614\n",
      "Epoch 22/100\n",
      " 1/22 [>.............................] - ETA: 0s - loss: 1.0960 - accuracy: 0.6562 - sparse_categorical_crossentropy: 1.0803.\n",
      "Epoch 22: val_loss improved from 1.26505 to 1.23552, saving model to model_22-1.24.keras\n",
      "22/22 [==============================] - 0s 2ms/step - loss: 1.1208 - accuracy: 0.5902 - sparse_categorical_crossentropy: 1.0894 - val_loss: 1.2355 - val_accuracy: 0.5680 - val_sparse_categorical_crossentropy: 1.2313\n",
      "Epoch 23/100\n",
      " 1/22 [>.............................] - ETA: 0s - loss: 1.1903 - accuracy: 0.5938 - sparse_categorical_crossentropy: 1.1740.\n",
      "Epoch 23: val_loss improved from 1.23552 to 1.21454, saving model to model_23-1.21.keras\n",
      "22/22 [==============================] - 0s 2ms/step - loss: 1.1116 - accuracy: 0.6050 - sparse_categorical_crossentropy: 1.0743 - val_loss: 1.2145 - val_accuracy: 0.6036 - val_sparse_categorical_crossentropy: 1.2111\n",
      "Epoch 24/100\n",
      " 1/22 [>.............................] - ETA: 0s - loss: 1.0502 - accuracy: 0.5938 - sparse_categorical_crossentropy: 1.0333.\n",
      "Epoch 24: val_loss improved from 1.21454 to 1.21104, saving model to model_24-1.21.keras\n",
      "22/22 [==============================] - 0s 2ms/step - loss: 1.0883 - accuracy: 0.6302 - sparse_categorical_crossentropy: 1.0371 - val_loss: 1.2110 - val_accuracy: 0.5680 - val_sparse_categorical_crossentropy: 1.2086\n",
      "Epoch 25/100\n",
      " 1/22 [>.............................] - ETA: 0s - loss: 0.9654 - accuracy: 0.6562 - sparse_categorical_crossentropy: 0.9480.\n",
      "Epoch 25: val_loss improved from 1.21104 to 1.19836, saving model to model_25-1.20.keras\n",
      "22/22 [==============================] - 0s 2ms/step - loss: 1.0564 - accuracy: 0.6257 - sparse_categorical_crossentropy: 1.0162 - val_loss: 1.1984 - val_accuracy: 0.5799 - val_sparse_categorical_crossentropy: 1.1928\n",
      "Epoch 26/100\n",
      " 1/22 [>.............................] - ETA: 0s - loss: 1.1452 - accuracy: 0.4688 - sparse_categorical_crossentropy: 1.1272.\n",
      "Epoch 26: val_loss improved from 1.19836 to 1.18997, saving model to model_26-1.19.keras\n",
      "22/22 [==============================] - 0s 2ms/step - loss: 1.0549 - accuracy: 0.6420 - sparse_categorical_crossentropy: 1.0067 - val_loss: 1.1900 - val_accuracy: 0.5976 - val_sparse_categorical_crossentropy: 1.1839\n",
      "Epoch 27/100\n",
      " 1/22 [>.............................] - ETA: 0s - loss: 1.0022 - accuracy: 0.6875 - sparse_categorical_crossentropy: 0.9836.\n",
      "Epoch 27: val_loss improved from 1.18997 to 1.17420, saving model to model_27-1.17.keras\n",
      "22/22 [==============================] - 0s 2ms/step - loss: 1.0218 - accuracy: 0.6553 - sparse_categorical_crossentropy: 0.9729 - val_loss: 1.1742 - val_accuracy: 0.5917 - val_sparse_categorical_crossentropy: 1.1681\n",
      "Epoch 28/100\n",
      " 1/22 [>.............................] - ETA: 0s - loss: 1.0145 - accuracy: 0.6250 - sparse_categorical_crossentropy: 0.9953.\n",
      "Epoch 28: val_loss did not improve from 1.17420\n",
      "22/22 [==============================] - 0s 1ms/step - loss: 1.0015 - accuracy: 0.6538 - sparse_categorical_crossentropy: 0.9638 - val_loss: 1.1768 - val_accuracy: 0.5917 - val_sparse_categorical_crossentropy: 1.1711\n",
      "Epoch 29/100\n",
      " 1/22 [>.............................] - ETA: 0s - loss: 0.9520 - accuracy: 0.6875 - sparse_categorical_crossentropy: 0.9323.\n",
      "Epoch 29: val_loss improved from 1.17420 to 1.15834, saving model to model_29-1.16.keras\n",
      "22/22 [==============================] - 0s 2ms/step - loss: 0.9580 - accuracy: 0.6820 - sparse_categorical_crossentropy: 0.9082 - val_loss: 1.1583 - val_accuracy: 0.6272 - val_sparse_categorical_crossentropy: 1.1501\n",
      "Epoch 30/100\n",
      " 1/22 [>.............................] - ETA: 0s - loss: 1.0607 - accuracy: 0.6875 - sparse_categorical_crossentropy: 1.0405.\n",
      "Epoch 30: val_loss improved from 1.15834 to 1.14732, saving model to model_30-1.15.keras\n",
      "22/22 [==============================] - 0s 2ms/step - loss: 0.9437 - accuracy: 0.6967 - sparse_categorical_crossentropy: 0.9111 - val_loss: 1.1473 - val_accuracy: 0.6213 - val_sparse_categorical_crossentropy: 1.1411\n",
      "Epoch 31/100\n",
      " 1/22 [>.............................] - ETA: 0s - loss: 0.8820 - accuracy: 0.6562 - sparse_categorical_crossentropy: 0.8612.\n",
      "Epoch 31: val_loss improved from 1.14732 to 1.14128, saving model to model_31-1.14.keras\n",
      "22/22 [==============================] - 0s 2ms/step - loss: 0.9337 - accuracy: 0.6672 - sparse_categorical_crossentropy: 0.8789 - val_loss: 1.1413 - val_accuracy: 0.6095 - val_sparse_categorical_crossentropy: 1.1376\n",
      "Epoch 32/100\n",
      " 1/22 [>.............................] - ETA: 0s - loss: 0.9384 - accuracy: 0.6875 - sparse_categorical_crossentropy: 0.9171.\n",
      "Epoch 32: val_loss did not improve from 1.14128\n",
      "22/22 [==============================] - 0s 1ms/step - loss: 0.9349 - accuracy: 0.6923 - sparse_categorical_crossentropy: 0.8865 - val_loss: 1.1492 - val_accuracy: 0.5976 - val_sparse_categorical_crossentropy: 1.1397\n",
      "Epoch 33/100\n",
      " 1/22 [>.............................] - ETA: 0s - loss: 0.9479 - accuracy: 0.6875 - sparse_categorical_crossentropy: 0.9261.\n",
      "Epoch 33: val_loss improved from 1.14128 to 1.13338, saving model to model_33-1.13.keras\n",
      "22/22 [==============================] - 0s 2ms/step - loss: 0.9033 - accuracy: 0.7189 - sparse_categorical_crossentropy: 0.8575 - val_loss: 1.1334 - val_accuracy: 0.6272 - val_sparse_categorical_crossentropy: 1.1267\n",
      "Epoch 34/100\n",
      " 1/22 [>.............................] - ETA: 0s - loss: 0.7287 - accuracy: 0.8125 - sparse_categorical_crossentropy: 0.7065.\n",
      "Epoch 34: val_loss did not improve from 1.13338\n",
      "22/22 [==============================] - 0s 1ms/step - loss: 0.8952 - accuracy: 0.6923 - sparse_categorical_crossentropy: 0.8447 - val_loss: 1.1395 - val_accuracy: 0.6213 - val_sparse_categorical_crossentropy: 1.1301\n",
      "Epoch 35/100\n",
      " 1/22 [>.............................] - ETA: 0s - loss: 0.9263 - accuracy: 0.6875 - sparse_categorical_crossentropy: 0.9036.\n",
      "Epoch 35: val_loss improved from 1.13338 to 1.12907, saving model to model_35-1.13.keras\n",
      "22/22 [==============================] - 0s 2ms/step - loss: 0.9311 - accuracy: 0.6760 - sparse_categorical_crossentropy: 0.8850 - val_loss: 1.1291 - val_accuracy: 0.6154 - val_sparse_categorical_crossentropy: 1.1195\n",
      "Epoch 36/100\n",
      " 1/22 [>.............................] - ETA: 0s - loss: 0.8549 - accuracy: 0.7812 - sparse_categorical_crossentropy: 0.8317.\n",
      "Epoch 36: val_loss improved from 1.12907 to 1.12107, saving model to model_36-1.12.keras\n",
      "22/22 [==============================] - 0s 2ms/step - loss: 0.8649 - accuracy: 0.7263 - sparse_categorical_crossentropy: 0.8144 - val_loss: 1.1211 - val_accuracy: 0.6331 - val_sparse_categorical_crossentropy: 1.1107\n",
      "Epoch 37/100\n",
      " 1/22 [>.............................] - ETA: 0s - loss: 0.7489 - accuracy: 0.7812 - sparse_categorical_crossentropy: 0.7252.\n",
      "Epoch 37: val_loss did not improve from 1.12107\n",
      "22/22 [==============================] - 0s 1ms/step - loss: 0.8682 - accuracy: 0.7219 - sparse_categorical_crossentropy: 0.8194 - val_loss: 1.1215 - val_accuracy: 0.6213 - val_sparse_categorical_crossentropy: 1.1100\n",
      "Epoch 38/100\n",
      " 1/22 [>.............................] - ETA: 0s - loss: 0.7768 - accuracy: 0.8125 - sparse_categorical_crossentropy: 0.7527.\n",
      "Epoch 38: val_loss did not improve from 1.12107\n",
      "22/22 [==============================] - 0s 1ms/step - loss: 0.8571 - accuracy: 0.7352 - sparse_categorical_crossentropy: 0.8066 - val_loss: 1.1232 - val_accuracy: 0.6095 - val_sparse_categorical_crossentropy: 1.1168\n",
      "Epoch 39/100\n",
      " 1/22 [>.............................] - ETA: 0s - loss: 0.7510 - accuracy: 0.8125 - sparse_categorical_crossentropy: 0.7265.\n",
      "Epoch 39: val_loss improved from 1.12107 to 1.11792, saving model to model_39-1.12.keras\n",
      "22/22 [==============================] - 0s 2ms/step - loss: 0.8121 - accuracy: 0.7322 - sparse_categorical_crossentropy: 0.7591 - val_loss: 1.1179 - val_accuracy: 0.6154 - val_sparse_categorical_crossentropy: 1.1116\n",
      "Epoch 40/100\n",
      " 1/22 [>.............................] - ETA: 0s - loss: 0.6948 - accuracy: 0.7812 - sparse_categorical_crossentropy: 0.6699.\n",
      "Epoch 40: val_loss did not improve from 1.11792\n",
      "22/22 [==============================] - 0s 1ms/step - loss: 0.8348 - accuracy: 0.7189 - sparse_categorical_crossentropy: 0.7825 - val_loss: 1.1248 - val_accuracy: 0.6095 - val_sparse_categorical_crossentropy: 1.1177\n",
      "Epoch 41/100\n",
      " 1/22 [>.............................] - ETA: 0s - loss: 0.8099 - accuracy: 0.7812 - sparse_categorical_crossentropy: 0.7844.\n",
      "Epoch 41: val_loss did not improve from 1.11792\n",
      "22/22 [==============================] - 0s 1ms/step - loss: 0.8149 - accuracy: 0.7500 - sparse_categorical_crossentropy: 0.7607 - val_loss: 1.1296 - val_accuracy: 0.6154 - val_sparse_categorical_crossentropy: 1.1206\n",
      "Epoch 42/100\n",
      " 1/22 [>.............................] - ETA: 0s - loss: 0.6577 - accuracy: 0.8438 - sparse_categorical_crossentropy: 0.6319.\n",
      "Epoch 42: val_loss did not improve from 1.11792\n",
      "22/22 [==============================] - 0s 1ms/step - loss: 0.8187 - accuracy: 0.7352 - sparse_categorical_crossentropy: 0.7727 - val_loss: 1.1211 - val_accuracy: 0.6154 - val_sparse_categorical_crossentropy: 1.1109\n",
      "Epoch 43/100\n",
      " 1/22 [>.............................] - ETA: 0s - loss: 0.7420 - accuracy: 0.7812 - sparse_categorical_crossentropy: 0.7158.\n",
      "Epoch 43: val_loss improved from 1.11792 to 1.10995, saving model to model_43-1.11.keras\n",
      "22/22 [==============================] - 0s 2ms/step - loss: 0.8047 - accuracy: 0.7145 - sparse_categorical_crossentropy: 0.7587 - val_loss: 1.1100 - val_accuracy: 0.6095 - val_sparse_categorical_crossentropy: 1.1029\n",
      "Epoch 44/100\n",
      " 1/22 [>.............................] - ETA: 0s - loss: 0.5854 - accuracy: 0.8750 - sparse_categorical_crossentropy: 0.5588.\n",
      "Epoch 44: val_loss did not improve from 1.10995\n",
      "22/22 [==============================] - 0s 1ms/step - loss: 0.7649 - accuracy: 0.7559 - sparse_categorical_crossentropy: 0.7096 - val_loss: 1.1179 - val_accuracy: 0.6213 - val_sparse_categorical_crossentropy: 1.1117\n",
      "Epoch 45/100\n",
      " 1/22 [>.............................] - ETA: 0s - loss: 0.7234 - accuracy: 0.7812 - sparse_categorical_crossentropy: 0.6963.\n",
      "Epoch 45: val_loss did not improve from 1.10995\n",
      "22/22 [==============================] - 0s 1ms/step - loss: 0.7622 - accuracy: 0.7544 - sparse_categorical_crossentropy: 0.7167 - val_loss: 1.1343 - val_accuracy: 0.6095 - val_sparse_categorical_crossentropy: 1.1273\n",
      "Epoch 46/100\n",
      " 1/22 [>.............................] - ETA: 0s - loss: 0.7005 - accuracy: 0.8125 - sparse_categorical_crossentropy: 0.6730.\n",
      "Epoch 46: val_loss improved from 1.10995 to 1.10698, saving model to model_46-1.11.keras\n",
      "22/22 [==============================] - 0s 2ms/step - loss: 0.7709 - accuracy: 0.7485 - sparse_categorical_crossentropy: 0.7274 - val_loss: 1.1070 - val_accuracy: 0.6331 - val_sparse_categorical_crossentropy: 1.0970\n",
      "Epoch 47/100\n",
      " 1/22 [>.............................] - ETA: 0s - loss: 0.6790 - accuracy: 0.8125 - sparse_categorical_crossentropy: 0.6512.\n",
      "Epoch 47: val_loss did not improve from 1.10698\n",
      "22/22 [==============================] - 0s 2ms/step - loss: 0.7260 - accuracy: 0.7663 - sparse_categorical_crossentropy: 0.6769 - val_loss: 1.1154 - val_accuracy: 0.6391 - val_sparse_categorical_crossentropy: 1.1102\n",
      "Epoch 48/100\n",
      " 1/22 [>.............................] - ETA: 0s - loss: 0.5791 - accuracy: 0.7812 - sparse_categorical_crossentropy: 0.5508.\n",
      "Epoch 48: val_loss improved from 1.10698 to 1.10516, saving model to model_48-1.11.keras\n",
      "22/22 [==============================] - 0s 2ms/step - loss: 0.7514 - accuracy: 0.7500 - sparse_categorical_crossentropy: 0.6984 - val_loss: 1.1052 - val_accuracy: 0.6213 - val_sparse_categorical_crossentropy: 1.0956\n",
      "Epoch 49/100\n",
      " 1/22 [>.............................] - ETA: 0s - loss: 0.5974 - accuracy: 0.8750 - sparse_categorical_crossentropy: 0.5688.\n",
      "Epoch 49: val_loss did not improve from 1.10516\n",
      "22/22 [==============================] - 0s 2ms/step - loss: 0.6989 - accuracy: 0.7811 - sparse_categorical_crossentropy: 0.6561 - val_loss: 1.1285 - val_accuracy: 0.6095 - val_sparse_categorical_crossentropy: 1.1253\n",
      "Epoch 50/100\n",
      " 1/22 [>.............................] - ETA: 0s - loss: 0.6924 - accuracy: 0.8125 - sparse_categorical_crossentropy: 0.6633.\n",
      "Epoch 50: val_loss did not improve from 1.10516\n",
      "22/22 [==============================] - 0s 1ms/step - loss: 0.7287 - accuracy: 0.7574 - sparse_categorical_crossentropy: 0.6778 - val_loss: 1.1184 - val_accuracy: 0.6213 - val_sparse_categorical_crossentropy: 1.1109\n",
      "Epoch 51/100\n",
      " 1/22 [>.............................] - ETA: 0s - loss: 0.7107 - accuracy: 0.8125 - sparse_categorical_crossentropy: 0.6813.\n",
      "Epoch 51: val_loss did not improve from 1.10516\n",
      "22/22 [==============================] - 0s 1ms/step - loss: 0.6829 - accuracy: 0.7840 - sparse_categorical_crossentropy: 0.6411 - val_loss: 1.1206 - val_accuracy: 0.6154 - val_sparse_categorical_crossentropy: 1.1130\n",
      "Epoch 52/100\n",
      " 1/22 [>.............................] - ETA: 0s - loss: 0.6500 - accuracy: 0.8750 - sparse_categorical_crossentropy: 0.6202.\n",
      "Epoch 52: val_loss did not improve from 1.10516\n",
      "22/22 [==============================] - 0s 1ms/step - loss: 0.7154 - accuracy: 0.7485 - sparse_categorical_crossentropy: 0.6594 - val_loss: 1.1322 - val_accuracy: 0.6154 - val_sparse_categorical_crossentropy: 1.1256\n",
      "Epoch 53/100\n",
      " 1/22 [>.............................] - ETA: 0s - loss: 0.6539 - accuracy: 0.8438 - sparse_categorical_crossentropy: 0.6238.\n",
      "Epoch 53: val_loss did not improve from 1.10516\n",
      "22/22 [==============================] - 0s 1ms/step - loss: 0.6635 - accuracy: 0.8018 - sparse_categorical_crossentropy: 0.6121 - val_loss: 1.1282 - val_accuracy: 0.6272 - val_sparse_categorical_crossentropy: 1.1197\n",
      "Epoch 54/100\n",
      " 1/22 [>.............................] - ETA: 0s - loss: 0.5416 - accuracy: 0.8438 - sparse_categorical_crossentropy: 0.5111.\n",
      "Epoch 54: val_loss did not improve from 1.10516\n",
      "22/22 [==============================] - 0s 2ms/step - loss: 0.6619 - accuracy: 0.7722 - sparse_categorical_crossentropy: 0.6089 - val_loss: 1.1270 - val_accuracy: 0.6213 - val_sparse_categorical_crossentropy: 1.1241\n",
      "Epoch 55/100\n",
      " 1/22 [>.............................] - ETA: 0s - loss: 0.6854 - accuracy: 0.8438 - sparse_categorical_crossentropy: 0.6545.\n",
      "Epoch 55: val_loss did not improve from 1.10516\n",
      "22/22 [==============================] - 0s 1ms/step - loss: 0.6438 - accuracy: 0.8107 - sparse_categorical_crossentropy: 0.5902 - val_loss: 1.1314 - val_accuracy: 0.6095 - val_sparse_categorical_crossentropy: 1.1259\n",
      "Epoch 56/100\n",
      " 1/22 [>.............................] - ETA: 0s - loss: 0.6480 - accuracy: 0.8750 - sparse_categorical_crossentropy: 0.6167.\n",
      "Epoch 56: val_loss did not improve from 1.10516\n",
      "22/22 [==============================] - 0s 1ms/step - loss: 0.6620 - accuracy: 0.7914 - sparse_categorical_crossentropy: 0.6058 - val_loss: 1.1303 - val_accuracy: 0.6213 - val_sparse_categorical_crossentropy: 1.1232\n",
      "Epoch 57/100\n",
      " 1/22 [>.............................] - ETA: 0s - loss: 0.5174 - accuracy: 0.8438 - sparse_categorical_crossentropy: 0.4858.\n",
      "Epoch 57: val_loss did not improve from 1.10516\n",
      "22/22 [==============================] - 0s 1ms/step - loss: 0.6155 - accuracy: 0.8107 - sparse_categorical_crossentropy: 0.5614 - val_loss: 1.1542 - val_accuracy: 0.6095 - val_sparse_categorical_crossentropy: 1.1508\n",
      "Epoch 58/100\n",
      " 1/22 [>.............................] - ETA: 0s - loss: 0.6471 - accuracy: 0.8438 - sparse_categorical_crossentropy: 0.6151.\n",
      "Epoch 58: val_loss did not improve from 1.10516\n",
      "22/22 [==============================] - 0s 2ms/step - loss: 0.6376 - accuracy: 0.7929 - sparse_categorical_crossentropy: 0.5913 - val_loss: 1.1499 - val_accuracy: 0.6095 - val_sparse_categorical_crossentropy: 1.1491\n",
      "Epoch 59/100\n",
      " 1/22 [>.............................] - ETA: 0s - loss: 0.4128 - accuracy: 0.9375 - sparse_categorical_crossentropy: 0.3805.\n",
      "Epoch 59: val_loss did not improve from 1.10516\n",
      "22/22 [==============================] - 0s 1ms/step - loss: 0.6418 - accuracy: 0.7973 - sparse_categorical_crossentropy: 0.5869 - val_loss: 1.1437 - val_accuracy: 0.5917 - val_sparse_categorical_crossentropy: 1.1404\n",
      "Epoch 60/100\n",
      " 1/22 [>.............................] - ETA: 0s - loss: 0.5270 - accuracy: 0.8438 - sparse_categorical_crossentropy: 0.4943.\n",
      "Epoch 60: val_loss did not improve from 1.10516\n",
      "22/22 [==============================] - 0s 1ms/step - loss: 0.6383 - accuracy: 0.8018 - sparse_categorical_crossentropy: 0.5847 - val_loss: 1.1437 - val_accuracy: 0.6154 - val_sparse_categorical_crossentropy: 1.1394\n",
      "Epoch 61/100\n",
      " 1/22 [>.............................] - ETA: 0s - loss: 0.5782 - accuracy: 0.8438 - sparse_categorical_crossentropy: 0.5452.\n",
      "Epoch 61: val_loss did not improve from 1.10516\n",
      "22/22 [==============================] - 0s 1ms/step - loss: 0.5855 - accuracy: 0.8195 - sparse_categorical_crossentropy: 0.5371 - val_loss: 1.1654 - val_accuracy: 0.5976 - val_sparse_categorical_crossentropy: 1.1633\n",
      "Epoch 62/100\n",
      " 1/22 [>.............................] - ETA: 0s - loss: 0.7184 - accuracy: 0.8438 - sparse_categorical_crossentropy: 0.6850.\n",
      "Epoch 62: val_loss did not improve from 1.10516\n",
      "22/22 [==============================] - 0s 1ms/step - loss: 0.5766 - accuracy: 0.8358 - sparse_categorical_crossentropy: 0.5294 - val_loss: 1.1657 - val_accuracy: 0.6095 - val_sparse_categorical_crossentropy: 1.1658\n",
      "Epoch 63/100\n",
      " 1/22 [>.............................] - ETA: 0s - loss: 0.7317 - accuracy: 0.6875 - sparse_categorical_crossentropy: 0.6980.\n",
      "Epoch 63: val_loss did not improve from 1.10516\n",
      "22/22 [==============================] - 0s 1ms/step - loss: 0.5909 - accuracy: 0.8151 - sparse_categorical_crossentropy: 0.5389 - val_loss: 1.1623 - val_accuracy: 0.6331 - val_sparse_categorical_crossentropy: 1.1539\n",
      "Epoch 64/100\n",
      " 1/22 [>.............................] - ETA: 0s - loss: 0.6406 - accuracy: 0.8125 - sparse_categorical_crossentropy: 0.6064.\n",
      "Epoch 64: val_loss did not improve from 1.10516\n",
      "22/22 [==============================] - 0s 1ms/step - loss: 0.5701 - accuracy: 0.8240 - sparse_categorical_crossentropy: 0.5216 - val_loss: 1.1706 - val_accuracy: 0.6154 - val_sparse_categorical_crossentropy: 1.1669\n",
      "Epoch 65/100\n",
      " 1/22 [>.............................] - ETA: 0s - loss: 0.5839 - accuracy: 0.9062 - sparse_categorical_crossentropy: 0.5494.\n",
      "Epoch 65: val_loss did not improve from 1.10516\n",
      "22/22 [==============================] - 0s 1ms/step - loss: 0.5989 - accuracy: 0.8269 - sparse_categorical_crossentropy: 0.5437 - val_loss: 1.1696 - val_accuracy: 0.6213 - val_sparse_categorical_crossentropy: 1.1682\n",
      "Epoch 66/100\n",
      " 1/22 [>.............................] - ETA: 0s - loss: 0.5990 - accuracy: 0.7812 - sparse_categorical_crossentropy: 0.5642.\n",
      "Epoch 66: val_loss did not improve from 1.10516\n",
      "22/22 [==============================] - 0s 1ms/step - loss: 0.5629 - accuracy: 0.8225 - sparse_categorical_crossentropy: 0.5081 - val_loss: 1.1708 - val_accuracy: 0.6272 - val_sparse_categorical_crossentropy: 1.1698\n",
      "Epoch 67/100\n",
      " 1/22 [>.............................] - ETA: 0s - loss: 0.6331 - accuracy: 0.7500 - sparse_categorical_crossentropy: 0.5979.\n",
      "Epoch 67: val_loss did not improve from 1.10516\n",
      "22/22 [==============================] - 0s 1ms/step - loss: 0.5431 - accuracy: 0.8447 - sparse_categorical_crossentropy: 0.4885 - val_loss: 1.1829 - val_accuracy: 0.6272 - val_sparse_categorical_crossentropy: 1.1826\n",
      "Epoch 68/100\n",
      " 1/22 [>.............................] - ETA: 0s - loss: 0.5781 - accuracy: 0.8125 - sparse_categorical_crossentropy: 0.5426.\n",
      "Epoch 68: val_loss did not improve from 1.10516\n",
      "22/22 [==============================] - 0s 1ms/step - loss: 0.5606 - accuracy: 0.8195 - sparse_categorical_crossentropy: 0.5062 - val_loss: 1.1871 - val_accuracy: 0.6272 - val_sparse_categorical_crossentropy: 1.1847\n",
      "Epoch 69/100\n",
      " 1/22 [>.............................] - ETA: 0s - loss: 0.6090 - accuracy: 0.8750 - sparse_categorical_crossentropy: 0.5732.\n",
      "Epoch 69: val_loss did not improve from 1.10516\n",
      "22/22 [==============================] - 0s 1ms/step - loss: 0.5338 - accuracy: 0.8373 - sparse_categorical_crossentropy: 0.4824 - val_loss: 1.1756 - val_accuracy: 0.6095 - val_sparse_categorical_crossentropy: 1.1718\n",
      "Epoch 70/100\n",
      " 1/22 [>.............................] - ETA: 0s - loss: 0.5982 - accuracy: 0.7812 - sparse_categorical_crossentropy: 0.5621.\n",
      "Epoch 70: val_loss did not improve from 1.10516\n",
      "22/22 [==============================] - 0s 1ms/step - loss: 0.5235 - accuracy: 0.8343 - sparse_categorical_crossentropy: 0.4693 - val_loss: 1.2020 - val_accuracy: 0.6331 - val_sparse_categorical_crossentropy: 1.2007\n",
      "Epoch 71/100\n",
      " 1/22 [>.............................] - ETA: 0s - loss: 0.3822 - accuracy: 0.9062 - sparse_categorical_crossentropy: 0.3458.\n",
      "Epoch 71: val_loss did not improve from 1.10516\n",
      "22/22 [==============================] - 0s 1ms/step - loss: 0.5133 - accuracy: 0.8388 - sparse_categorical_crossentropy: 0.4595 - val_loss: 1.2052 - val_accuracy: 0.6272 - val_sparse_categorical_crossentropy: 1.2010\n",
      "Epoch 72/100\n",
      " 1/22 [>.............................] - ETA: 0s - loss: 0.4160 - accuracy: 0.9062 - sparse_categorical_crossentropy: 0.3792.\n",
      "Epoch 72: val_loss did not improve from 1.10516\n",
      "22/22 [==============================] - 0s 1ms/step - loss: 0.4678 - accuracy: 0.8609 - sparse_categorical_crossentropy: 0.4154 - val_loss: 1.2121 - val_accuracy: 0.6331 - val_sparse_categorical_crossentropy: 1.2120\n",
      "Epoch 73/100\n",
      " 1/22 [>.............................] - ETA: 0s - loss: 0.3628 - accuracy: 0.9375 - sparse_categorical_crossentropy: 0.3257.\n",
      "Epoch 73: val_loss did not improve from 1.10516\n",
      "22/22 [==============================] - 0s 1ms/step - loss: 0.5146 - accuracy: 0.8299 - sparse_categorical_crossentropy: 0.4606 - val_loss: 1.2111 - val_accuracy: 0.6154 - val_sparse_categorical_crossentropy: 1.2106\n",
      "Epoch 74/100\n",
      " 1/22 [>.............................] - ETA: 0s - loss: 0.7651 - accuracy: 0.6250 - sparse_categorical_crossentropy: 0.7277.\n",
      "Epoch 74: val_loss did not improve from 1.10516\n",
      "22/22 [==============================] - 0s 2ms/step - loss: 0.5100 - accuracy: 0.8595 - sparse_categorical_crossentropy: 0.4588 - val_loss: 1.2167 - val_accuracy: 0.6272 - val_sparse_categorical_crossentropy: 1.2096\n",
      "Epoch 75/100\n",
      " 1/22 [>.............................] - ETA: 0s - loss: 0.5158 - accuracy: 0.8438 - sparse_categorical_crossentropy: 0.4781.\n",
      "Epoch 75: val_loss did not improve from 1.10516\n",
      "22/22 [==============================] - 0s 1ms/step - loss: 0.5204 - accuracy: 0.8432 - sparse_categorical_crossentropy: 0.4730 - val_loss: 1.2159 - val_accuracy: 0.6213 - val_sparse_categorical_crossentropy: 1.2119\n",
      "Epoch 76/100\n",
      " 1/22 [>.............................] - ETA: 0s - loss: 0.5193 - accuracy: 0.9062 - sparse_categorical_crossentropy: 0.4812.\n",
      "Epoch 76: val_loss did not improve from 1.10516\n",
      "22/22 [==============================] - 0s 1ms/step - loss: 0.5055 - accuracy: 0.8506 - sparse_categorical_crossentropy: 0.4509 - val_loss: 1.2215 - val_accuracy: 0.6213 - val_sparse_categorical_crossentropy: 1.2142\n",
      "Epoch 77/100\n",
      " 1/22 [>.............................] - ETA: 0s - loss: 0.5107 - accuracy: 0.8750 - sparse_categorical_crossentropy: 0.4723.\n",
      "Epoch 77: val_loss did not improve from 1.10516\n",
      "22/22 [==============================] - 0s 1ms/step - loss: 0.5009 - accuracy: 0.8550 - sparse_categorical_crossentropy: 0.4514 - val_loss: 1.2249 - val_accuracy: 0.6154 - val_sparse_categorical_crossentropy: 1.2215\n",
      "Epoch 78/100\n",
      " 1/22 [>.............................] - ETA: 0s - loss: 0.5836 - accuracy: 0.8438 - sparse_categorical_crossentropy: 0.5450.\n",
      "Epoch 78: val_loss did not improve from 1.10516\n",
      "22/22 [==============================] - 0s 2ms/step - loss: 0.4636 - accuracy: 0.8772 - sparse_categorical_crossentropy: 0.4081 - val_loss: 1.2363 - val_accuracy: 0.6213 - val_sparse_categorical_crossentropy: 1.2307\n"
     ]
    }
   ],
   "source": [
    "history = model.fit(train_ds, epochs=100, validation_data=val_ds, callbacks=CALLBACKS)"
   ],
   "metadata": {
    "collapsed": false,
    "ExecuteTime": {
     "end_time": "2024-02-24T13:52:31.385244100Z",
     "start_time": "2024-02-24T13:52:27.401666300Z"
    }
   },
   "id": "18398cf390d74222",
   "execution_count": 69
  },
  {
   "cell_type": "code",
   "outputs": [
    {
     "name": "stdout",
     "output_type": "stream",
     "text": [
      "Best epoch: 48\n"
     ]
    }
   ],
   "source": [
    "# Print the best epoch\n",
    "print(f\"Best epoch: {np.argmin(history.history['val_loss']) + 1}\")"
   ],
   "metadata": {
    "collapsed": false,
    "ExecuteTime": {
     "end_time": "2024-02-24T13:52:31.385244100Z",
     "start_time": "2024-02-24T13:52:31.380733700Z"
    }
   },
   "id": "9e94b94dac4e6eeb",
   "execution_count": 70
  },
  {
   "cell_type": "markdown",
   "source": [
    "Now using tfdocs.plots.HistoryPlotter, we can visualize the training and validation loss and accuracy."
   ],
   "metadata": {
    "collapsed": false
   },
   "id": "fc642328f72f6966"
  },
  {
   "cell_type": "code",
   "outputs": [
    {
     "data": {
      "text/plain": "<Figure size 640x480 with 1 Axes>",
      "image/png": "[encoded data removed]"
     },
     "metadata": {},
     "output_type": "display_data"
    }
   ],
   "source": [
    "size_histories = {}\n",
    "size_histories['Baseline'] = history\n",
    "plotter = tfdocs.plots.HistoryPlotter(metric='sparse_categorical_crossentropy', smoothing_std=10)\n",
    "plotter.plot(size_histories)"
   ],
   "metadata": {
    "collapsed": false,
    "ExecuteTime": {
     "end_time": "2024-02-24T13:52:31.469964500Z",
     "start_time": "2024-02-24T13:52:31.384243900Z"
    }
   },
   "id": "a7a2ea0769fdc279",
   "execution_count": 71
  },
  {
   "cell_type": "markdown",
   "source": [
    "Let's also plot the training and validation accuracy values, to see how the model performs throughout the epochs."
   ],
   "metadata": {
    "collapsed": false
   },
   "id": "3e826876952f5fb0"
  },
  {
   "cell_type": "code",
   "outputs": [
    {
     "data": {
      "text/plain": "<matplotlib.legend.Legend at 0x2389e73ffd0>"
     },
     "execution_count": 72,
     "metadata": {},
     "output_type": "execute_result"
    },
    {
     "data": {
      "text/plain": "<Figure size 1400x500 with 1 Axes>",
      "image/png": "[encoded data removed]"
     },
     "metadata": {},
     "output_type": "display_data"
    }
   ],
   "source": [
    "# Plot training & validation accuracy values\n",
    "history_data = history.history\n",
    "\n",
    "epochs = range(1, len(history_data['accuracy']) + 1)\n",
    "\n",
    "plt.figure(figsize=(14, 5))\n",
    "\n",
    "plt.subplot(1, 2, 1)\n",
    "plt.plot(epochs, history_data['accuracy'], label='Training Accuracy')\n",
    "plt.plot(epochs, history_data['val_accuracy'], label='Validation Accuracy')\n",
    "plt.title('Training and Validation Accuracy')\n",
    "plt.xlabel('Epochs')\n",
    "plt.ylabel('Accuracy')\n",
    "plt.legend()"
   ],
   "metadata": {
    "collapsed": false,
    "ExecuteTime": {
     "end_time": "2024-02-24T13:52:31.573156900Z",
     "start_time": "2024-02-24T13:52:31.470964400Z"
    }
   },
   "id": "2ef73d4bcd5566df",
   "execution_count": 72
  },
  {
   "cell_type": "markdown",
   "source": [
    "We can see that the model the validation loss becomes stagnant after about 40 epochs.\n",
    "\n",
    "Let's now evaluate the model on the test dataset."
   ],
   "metadata": {
    "collapsed": false
   },
   "id": "a97fe8c00c1e28e0"
  },
  {
   "cell_type": "code",
   "outputs": [
    {
     "name": "stdout",
     "output_type": "stream",
     "text": [
      "7/7 [==============================] - 0s 1ms/step - loss: 1.0647 - accuracy: 0.6840 - sparse_categorical_crossentropy: 1.0440\n"
     ]
    },
    {
     "data": {
      "text/plain": "[1.0646954774856567, 0.6839622855186462, 1.0439884662628174]"
     },
     "execution_count": 32,
     "metadata": {},
     "output_type": "execute_result"
    }
   ],
   "source": [
    "model.evaluate(test_ds, verbose=1, batch_size=BATCH_SIZE)"
   ],
   "metadata": {
    "collapsed": false,
    "ExecuteTime": {
     "end_time": "2024-02-24T10:53:53.810373100Z",
     "start_time": "2024-02-24T10:53:53.783897Z"
    }
   },
   "id": "d52c2208aed74b8b",
   "execution_count": 32
  },
  {
   "cell_type": "markdown",
   "source": [
    "Let's also generate a classification report for the model along with the confusion matrix."
   ],
   "metadata": {
    "collapsed": false
   },
   "id": "bb4f229959c3287d"
  },
  {
   "cell_type": "code",
   "outputs": [
    {
     "name": "stdout",
     "output_type": "stream",
     "text": [
      "7/7 [==============================] - 0s 833us/step\n",
      "              precision    recall  f1-score   support\n",
      "\n",
      "           0       0.64      0.65      0.64        43\n",
      "           1       0.73      0.71      0.72        31\n",
      "           2       0.85      0.68      0.75        34\n",
      "           3       0.52      0.62      0.56        26\n",
      "           4       0.57      0.63      0.60        27\n",
      "           5       0.78      0.76      0.77        51\n",
      "\n",
      "    accuracy                           0.68       212\n",
      "   macro avg       0.68      0.67      0.67       212\n",
      "weighted avg       0.70      0.68      0.69       212\n",
      "\n",
      "[[28  0  2  6  2  5]\n",
      " [ 2 22  1  1  3  2]\n",
      " [ 3  4 23  2  1  1]\n",
      " [ 5  1  0 16  3  1]\n",
      " [ 2  1  0  5 17  2]\n",
      " [ 4  2  1  1  4 39]]\n"
     ]
    }
   ],
   "source": [
    "y_pred = model.predict(test_ds)\n",
    "y_pred = np.argmax(y_pred, axis=1)\n",
    "\n",
    "print(classification_report(y_test, y_pred))\n",
    "print(metrics.confusion_matrix(y_test, y_pred))"
   ],
   "metadata": {
    "collapsed": false,
    "ExecuteTime": {
     "end_time": "2024-02-24T10:53:57.591156400Z",
     "start_time": "2024-02-24T10:53:57.526120700Z"
    }
   },
   "id": "73a947990a3f8705",
   "execution_count": 33
  },
  {
   "cell_type": "markdown",
   "source": [
    "We can see that the model has an accuracy of 0.68, which is not bad considering the small dataset we have.\n",
    "\n",
    "However, we can see that the model is overfitting the training data, as the validation loss becomes higher than the training loss quickly,\n",
    "which makes sense given the small dataset we have.\n",
    "\n",
    "Ironically, the simpler models such as SVM and SGD outperformed the neural network model."
   ],
   "metadata": {
    "collapsed": false
   },
   "id": "6ab41048404b3e7b"
  },
  {
   "cell_type": "markdown",
   "source": [
    "### Two-Level Classification\n",
    "\n",
    "As we saw from before, we got the best results using the SGD Classifier.\n",
    "\n",
    "Let's now try to perform a two-level classification, where we first classify the class of the word and then classify the division/section of the word based on the class it belongs to.\n",
    "\n",
    "Firstly, we will create a new column in the dataframe named division/section, \n",
    "where it has as value the division if the division is not 4 (meaning `N/A` in our case),\n",
    " otherwise it has the value of the section.\n",
    "\n",
    "Then we will split the data into training and testing sets, using 80% of the data for training and 20% for testing."
   ],
   "metadata": {
    "collapsed": false
   },
   "id": "7cece51585462464"
  },
  {
   "cell_type": "code",
   "outputs": [],
   "source": [
    "# For the cls_df dataframe create a new column named division/section where it has as value the division if the division is not 4, otherwise it has the value of the section\n",
    "cls_df['division/section'] = cls_df['division']\n",
    "\n",
    "# 4 Means No Division and this is evident if we take a look at the dataset\n",
    "cls_df.loc[cls_df['division'] == 4, 'division/section'] = cls_df['section']"
   ],
   "metadata": {
    "collapsed": false,
    "ExecuteTime": {
     "end_time": "2024-02-24T13:34:14.808145500Z",
     "start_time": "2024-02-24T13:34:14.792206100Z"
    }
   },
   "id": "a7f158c0df67a4a0",
   "execution_count": 21
  },
  {
   "cell_type": "markdown",
   "source": [
    "Now let's split the data into training and testing sets, using 80% of the data for training and 20% for testing."
   ],
   "metadata": {
    "collapsed": false
   },
   "id": "2411460d85eb8e55"
  },
  {
   "cell_type": "code",
   "outputs": [],
   "source": [
    "# Get class and division/section\n",
    "y = cls_df[['class', 'division/section']]\n",
    "X_train, X_test, y_train, y_test = train_test_split(X, y, test_size=0.2, random_state=11234)"
   ],
   "metadata": {
    "collapsed": false,
    "ExecuteTime": {
     "end_time": "2024-02-24T13:34:15.047855600Z",
     "start_time": "2024-02-24T13:34:15.040314500Z"
    }
   },
   "id": "85fde21674eaec17",
   "execution_count": 22
  },
  {
   "cell_type": "markdown",
   "source": [
    "Having done that we can now approach the two-level classification using the SGD Classifier as before, but this\n",
    "time we will use the `MultiOutputClassifier` from sklearn to perform the multi-output classification.\n",
    "However, there is a drawback to this approach, because at present, no metric in sklearn.metrics supports the multiclass-multioutput classification task.\n",
    "This means that we will have to create our own custom accuracy metric for the multi-output classification."
   ],
   "metadata": {
    "collapsed": false
   },
   "id": "25d67e79115b7dd8"
  },
  {
   "cell_type": "code",
   "outputs": [
    {
     "name": "stdout",
     "output_type": "stream",
     "text": [
      "Multi-output Accuracy: 0.5377358490566038\n"
     ]
    }
   ],
   "source": [
    "# Create a multi-output classifier\n",
    "multi_output_model = MultiOutputClassifier(\n",
    "    sgd_model, n_jobs=-1)\n",
    "\n",
    "# Train the multi-output classifier\n",
    "multi_output_model.fit(X_train, y_train)\n",
    "\n",
    "# Generate classification report\n",
    "y_pred = multi_output_model.predict(X_test)\n",
    "\n",
    "# Custom accuracy for multi-output\n",
    "def multioutput_accuracy(y_true, y_pred):\n",
    "    correct = np.all(y_true == y_pred, axis=1)\n",
    "    return np.mean(correct)\n",
    "\n",
    "accuracy = multioutput_accuracy(y_test, y_pred)\n",
    "print(f\"Multi-output Accuracy: {accuracy}\")"
   ],
   "metadata": {
    "collapsed": false,
    "ExecuteTime": {
     "end_time": "2024-02-24T13:34:18.119601500Z",
     "start_time": "2024-02-24T13:34:15.590134400Z"
    }
   },
   "id": "79b2a49fecb749be",
   "execution_count": 23
  },
  {
   "cell_type": "markdown",
   "source": [
    "We can see that the multi-output accuracy is 0.538 which is not bad considering the small dataset we have,\n",
    "however, it is not as good as the single-output classification we performed earlier.\n",
    "Also, the custom accuracy metric we created may not be the best way to evaluate the multi-output classification.\n",
    "\n",
    "For that reason, let's also look at the accuracy of each target separately."
   ],
   "metadata": {
    "collapsed": false
   },
   "id": "7326f9175f93ceb"
  },
  {
   "cell_type": "code",
   "outputs": [
    {
     "name": "stdout",
     "output_type": "stream",
     "text": [
      "Target 0 accuracy: 0.7169811320754716\n",
      "Target 1 accuracy: 0.589622641509434\n"
     ]
    }
   ],
   "source": [
    "for i in range(y_test.shape[1]):\n",
    "    # Use .iloc to select all rows and the ith column for both Y_test and predictions\n",
    "    accuracy = metrics.accuracy_score(y_test.iloc[:, i], y_pred[:, i])\n",
    "    print(f\"Target {i} accuracy: {accuracy}\")"
   ],
   "metadata": {
    "collapsed": false,
    "ExecuteTime": {
     "end_time": "2024-02-24T13:35:39.651822300Z",
     "start_time": "2024-02-24T13:35:39.629788900Z"
    }
   },
   "id": "aad02505956f90b5",
   "execution_count": 26
  },
  {
   "cell_type": "markdown",
   "source": [
    "We can see that the accuracy of the first target (class) is around 0.716, which is the same as the single-output classification we performed earlier,\n",
    "however, the accuracy of the second target (division/section) is around 0.589, which is not as good as the single-output classification we performed earlier."
   ],
   "metadata": {
    "collapsed": false
   },
   "id": "f28f8346f842146b"
  }
 ],
 "metadata": {
  "kernelspec": {
   "display_name": "Python 3",
   "language": "python",
   "name": "python3"
  },
  "language_info": {
   "codemirror_mode": {
    "name": "ipython",
    "version": 2
   },
   "file_extension": ".py",
   "mimetype": "text/x-python",
   "name": "python",
   "nbconvert_exporter": "python",
   "pygments_lexer": "ipython2",
   "version": "2.7.6"
  }
 },
 "nbformat": 4,
 "nbformat_minor": 5
}
