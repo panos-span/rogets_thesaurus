{
 "cells": [
  {
   "cell_type": "markdown",
   "source": [
    "## Classification\n",
    "\n",
    "Let's now retrieve the classification embeddings from the chromadb vector database and perform classification on them."
   ],
   "metadata": {
    "collapsed": false
   },
   "id": "eb007503dc588dee"
  },
  {
   "cell_type": "code",
   "outputs": [],
   "source": [
    "import chromadb\n",
    "\n",
    "client = chromadb.PersistentClient(path=\"./chroma_db\")\n",
    "collection = client.get_collection(\"nomic_classification_v1\")"
   ],
   "metadata": {
    "collapsed": true,
    "ExecuteTime": {
     "end_time": "2024-02-24T00:20:31.456795800Z",
     "start_time": "2024-02-24T00:20:30.346782100Z"
    }
   },
   "id": "initial_id",
   "execution_count": 1
  },
  {
   "cell_type": "markdown",
   "source": [
    "Now let us get the words along with their classes and division and sections from the json file we created earlier."
   ],
   "metadata": {
    "collapsed": false
   },
   "id": "84452ecc48ce9511"
  },
  {
   "cell_type": "code",
   "outputs": [],
   "source": [
    "import json\n",
    "\n",
    "with open(\"hierarchy.json\", \"r\") as f:\n",
    "    categories = json.load(f)"
   ],
   "metadata": {
    "collapsed": false,
    "ExecuteTime": {
     "end_time": "2024-02-24T00:20:31.464161900Z",
     "start_time": "2024-02-24T00:20:31.457796500Z"
    }
   },
   "id": "6185d3b32070a313",
   "execution_count": 2
  },
  {
   "cell_type": "markdown",
   "source": [
    "Let's retrieve the embeddings and the words along with the class, division, and section from the chromadb and create a dataframe with them."
   ],
   "metadata": {
    "collapsed": false
   },
   "id": "11d5ef59ed70ec91"
  },
  {
   "cell_type": "code",
   "outputs": [
    {
     "data": {
      "text/plain": "                   word                                          embedding  \\\n0             Existence  [-0.029754638671875, -0.0263671875, -0.0127792...   \n1           Inexistence  [-0.01029205322265625, 0.019256591796875, -0.0...   \n2         Consanguinity  [0.0386962890625, -0.01026153564453125, -0.013...   \n3            Trisection  [0.007350921630859375, -0.001903533935546875, ...   \n4             Innocence  [0.0338134765625, 0.0139923095703125, -0.03097...   \n...                 ...                                                ...   \n1052              Knave  [0.0032215118408203125, 0.01201629638671875, -...   \n1053  Disinterestedness  [-0.01776123046875, 0.020965576171875, -0.0221...   \n1054        Selfishness  [0.01071929931640625, 0.049468994140625, -0.03...   \n1055             Virtue  [0.0201416015625, 0.006626129150390625, -0.035...   \n1056               Vice  [0.0035228729248046875, -0.028533935546875, -0...   \n\n                                                class division  \\\n0                 WORDS EXPRESSING ABSTRACT RELATIONS      N/A   \n1                 WORDS EXPRESSING ABSTRACT RELATIONS      N/A   \n2                 WORDS EXPRESSING ABSTRACT RELATIONS      N/A   \n3                 WORDS EXPRESSING ABSTRACT RELATIONS      N/A   \n4     WORDS RELATING TO THE SENTIENT AND MORAL POWERS      N/A   \n...                                               ...      ...   \n1052  WORDS RELATING TO THE SENTIENT AND MORAL POWERS      N/A   \n1053  WORDS RELATING TO THE SENTIENT AND MORAL POWERS      N/A   \n1054  WORDS RELATING TO THE SENTIENT AND MORAL POWERS      N/A   \n1055  WORDS RELATING TO THE SENTIENT AND MORAL POWERS      N/A   \n1056  WORDS RELATING TO THE SENTIENT AND MORAL POWERS      N/A   \n\n               section  \n0            EXISTENCE  \n1            EXISTENCE  \n2             RELATION  \n3               NUMBER  \n4     MORAL AFFECTIONS  \n...                ...  \n1052  MORAL AFFECTIONS  \n1053  MORAL AFFECTIONS  \n1054  MORAL AFFECTIONS  \n1055  MORAL AFFECTIONS  \n1056  MORAL AFFECTIONS  \n\n[1057 rows x 5 columns]",
      "text/html": "<div>\n<style scoped>\n    .dataframe tbody tr th:only-of-type {\n        vertical-align: middle;\n    }\n\n    .dataframe tbody tr th {\n        vertical-align: top;\n    }\n\n    .dataframe thead th {\n        text-align: right;\n    }\n</style>\n<table border=\"1\" class=\"dataframe\">\n  <thead>\n    <tr style=\"text-align: right;\">\n      <th></th>\n      <th>word</th>\n      <th>embedding</th>\n      <th>class</th>\n      <th>division</th>\n      <th>section</th>\n    </tr>\n  </thead>\n  <tbody>\n    <tr>\n      <th>0</th>\n      <td>Existence</td>\n      <td>[-0.029754638671875, -0.0263671875, -0.0127792...</td>\n      <td>WORDS EXPRESSING ABSTRACT RELATIONS</td>\n      <td>N/A</td>\n      <td>EXISTENCE</td>\n    </tr>\n    <tr>\n      <th>1</th>\n      <td>Inexistence</td>\n      <td>[-0.01029205322265625, 0.019256591796875, -0.0...</td>\n      <td>WORDS EXPRESSING ABSTRACT RELATIONS</td>\n      <td>N/A</td>\n      <td>EXISTENCE</td>\n    </tr>\n    <tr>\n      <th>2</th>\n      <td>Consanguinity</td>\n      <td>[0.0386962890625, -0.01026153564453125, -0.013...</td>\n      <td>WORDS EXPRESSING ABSTRACT RELATIONS</td>\n      <td>N/A</td>\n      <td>RELATION</td>\n    </tr>\n    <tr>\n      <th>3</th>\n      <td>Trisection</td>\n      <td>[0.007350921630859375, -0.001903533935546875, ...</td>\n      <td>WORDS EXPRESSING ABSTRACT RELATIONS</td>\n      <td>N/A</td>\n      <td>NUMBER</td>\n    </tr>\n    <tr>\n      <th>4</th>\n      <td>Innocence</td>\n      <td>[0.0338134765625, 0.0139923095703125, -0.03097...</td>\n      <td>WORDS RELATING TO THE SENTIENT AND MORAL POWERS</td>\n      <td>N/A</td>\n      <td>MORAL AFFECTIONS</td>\n    </tr>\n    <tr>\n      <th>...</th>\n      <td>...</td>\n      <td>...</td>\n      <td>...</td>\n      <td>...</td>\n      <td>...</td>\n    </tr>\n    <tr>\n      <th>1052</th>\n      <td>Knave</td>\n      <td>[0.0032215118408203125, 0.01201629638671875, -...</td>\n      <td>WORDS RELATING TO THE SENTIENT AND MORAL POWERS</td>\n      <td>N/A</td>\n      <td>MORAL AFFECTIONS</td>\n    </tr>\n    <tr>\n      <th>1053</th>\n      <td>Disinterestedness</td>\n      <td>[-0.01776123046875, 0.020965576171875, -0.0221...</td>\n      <td>WORDS RELATING TO THE SENTIENT AND MORAL POWERS</td>\n      <td>N/A</td>\n      <td>MORAL AFFECTIONS</td>\n    </tr>\n    <tr>\n      <th>1054</th>\n      <td>Selfishness</td>\n      <td>[0.01071929931640625, 0.049468994140625, -0.03...</td>\n      <td>WORDS RELATING TO THE SENTIENT AND MORAL POWERS</td>\n      <td>N/A</td>\n      <td>MORAL AFFECTIONS</td>\n    </tr>\n    <tr>\n      <th>1055</th>\n      <td>Virtue</td>\n      <td>[0.0201416015625, 0.006626129150390625, -0.035...</td>\n      <td>WORDS RELATING TO THE SENTIENT AND MORAL POWERS</td>\n      <td>N/A</td>\n      <td>MORAL AFFECTIONS</td>\n    </tr>\n    <tr>\n      <th>1056</th>\n      <td>Vice</td>\n      <td>[0.0035228729248046875, -0.028533935546875, -0...</td>\n      <td>WORDS RELATING TO THE SENTIENT AND MORAL POWERS</td>\n      <td>N/A</td>\n      <td>MORAL AFFECTIONS</td>\n    </tr>\n  </tbody>\n</table>\n<p>1057 rows × 5 columns</p>\n</div>"
     },
     "execution_count": 3,
     "metadata": {},
     "output_type": "execute_result"
    }
   ],
   "source": [
    "import pandas as pd\n",
    "\n",
    "# Retrieve the embeddings, words, and metadata\n",
    "words = collection.get(include=[\"embeddings\", \"documents\"])['documents']\n",
    "embeddings = collection.get(include=[\"embeddings\", \"documents\"])['embeddings']\n",
    "metadata = collection.get(include=[\"embeddings\", \"documents\", \"metadatas\"])['metadatas']\n",
    "\n",
    "# Create a dataframe with the embeddings and the words\n",
    "cls_df = pd.DataFrame({'word': words, 'embedding': embeddings})\n",
    "\n",
    "# Add the class, division, and section from metadata to the dataframe\n",
    "cls_df['class'] = [md['class'] for md in metadata]\n",
    "cls_df['division'] = [md['division'] for md in metadata]\n",
    "cls_df['section'] = [md['section'] for md in metadata]\n",
    "\n",
    "cls_df"
   ],
   "metadata": {
    "collapsed": false,
    "ExecuteTime": {
     "end_time": "2024-02-24T00:20:32.120252600Z",
     "start_time": "2024-02-24T00:20:31.461160300Z"
    }
   },
   "id": "b09af619c5292133",
   "execution_count": 3
  },
  {
   "cell_type": "markdown",
   "source": [
    "Now let's prepare the data for classification by converting the class, division, and section to numerical values."
   ],
   "metadata": {
    "collapsed": false
   },
   "id": "3501a068561a6136"
  },
  {
   "cell_type": "code",
   "outputs": [
    {
     "data": {
      "text/plain": "                   word                                          embedding  \\\n0             Existence  [-0.029754638671875, -0.0263671875, -0.0127792...   \n1           Inexistence  [-0.01029205322265625, 0.019256591796875, -0.0...   \n2         Consanguinity  [0.0386962890625, -0.01026153564453125, -0.013...   \n3            Trisection  [0.007350921630859375, -0.001903533935546875, ...   \n4             Innocence  [0.0338134765625, 0.0139923095703125, -0.03097...   \n...                 ...                                                ...   \n1052              Knave  [0.0032215118408203125, 0.01201629638671875, -...   \n1053  Disinterestedness  [-0.01776123046875, 0.020965576171875, -0.0221...   \n1054        Selfishness  [0.01071929931640625, 0.049468994140625, -0.03...   \n1055             Virtue  [0.0201416015625, 0.006626129150390625, -0.035...   \n1056               Vice  [0.0035228729248046875, -0.028533935546875, -0...   \n\n      class  division  section  \n0         0         4        7  \n1         0         4        7  \n2         0         4       29  \n3         0         4       19  \n4         4         4       16  \n...     ...       ...      ...  \n1052      4         4       16  \n1053      4         4       16  \n1054      4         4       16  \n1055      4         4       16  \n1056      4         4       16  \n\n[1057 rows x 5 columns]",
      "text/html": "<div>\n<style scoped>\n    .dataframe tbody tr th:only-of-type {\n        vertical-align: middle;\n    }\n\n    .dataframe tbody tr th {\n        vertical-align: top;\n    }\n\n    .dataframe thead th {\n        text-align: right;\n    }\n</style>\n<table border=\"1\" class=\"dataframe\">\n  <thead>\n    <tr style=\"text-align: right;\">\n      <th></th>\n      <th>word</th>\n      <th>embedding</th>\n      <th>class</th>\n      <th>division</th>\n      <th>section</th>\n    </tr>\n  </thead>\n  <tbody>\n    <tr>\n      <th>0</th>\n      <td>Existence</td>\n      <td>[-0.029754638671875, -0.0263671875, -0.0127792...</td>\n      <td>0</td>\n      <td>4</td>\n      <td>7</td>\n    </tr>\n    <tr>\n      <th>1</th>\n      <td>Inexistence</td>\n      <td>[-0.01029205322265625, 0.019256591796875, -0.0...</td>\n      <td>0</td>\n      <td>4</td>\n      <td>7</td>\n    </tr>\n    <tr>\n      <th>2</th>\n      <td>Consanguinity</td>\n      <td>[0.0386962890625, -0.01026153564453125, -0.013...</td>\n      <td>0</td>\n      <td>4</td>\n      <td>29</td>\n    </tr>\n    <tr>\n      <th>3</th>\n      <td>Trisection</td>\n      <td>[0.007350921630859375, -0.001903533935546875, ...</td>\n      <td>0</td>\n      <td>4</td>\n      <td>19</td>\n    </tr>\n    <tr>\n      <th>4</th>\n      <td>Innocence</td>\n      <td>[0.0338134765625, 0.0139923095703125, -0.03097...</td>\n      <td>4</td>\n      <td>4</td>\n      <td>16</td>\n    </tr>\n    <tr>\n      <th>...</th>\n      <td>...</td>\n      <td>...</td>\n      <td>...</td>\n      <td>...</td>\n      <td>...</td>\n    </tr>\n    <tr>\n      <th>1052</th>\n      <td>Knave</td>\n      <td>[0.0032215118408203125, 0.01201629638671875, -...</td>\n      <td>4</td>\n      <td>4</td>\n      <td>16</td>\n    </tr>\n    <tr>\n      <th>1053</th>\n      <td>Disinterestedness</td>\n      <td>[-0.01776123046875, 0.020965576171875, -0.0221...</td>\n      <td>4</td>\n      <td>4</td>\n      <td>16</td>\n    </tr>\n    <tr>\n      <th>1054</th>\n      <td>Selfishness</td>\n      <td>[0.01071929931640625, 0.049468994140625, -0.03...</td>\n      <td>4</td>\n      <td>4</td>\n      <td>16</td>\n    </tr>\n    <tr>\n      <th>1055</th>\n      <td>Virtue</td>\n      <td>[0.0201416015625, 0.006626129150390625, -0.035...</td>\n      <td>4</td>\n      <td>4</td>\n      <td>16</td>\n    </tr>\n    <tr>\n      <th>1056</th>\n      <td>Vice</td>\n      <td>[0.0035228729248046875, -0.028533935546875, -0...</td>\n      <td>4</td>\n      <td>4</td>\n      <td>16</td>\n    </tr>\n  </tbody>\n</table>\n<p>1057 rows × 5 columns</p>\n</div>"
     },
     "execution_count": 4,
     "metadata": {},
     "output_type": "execute_result"
    }
   ],
   "source": [
    "# Make all classes and divisions/sections as numerical values\n",
    "cls_df['class'] = pd.Categorical(cls_df['class'])\n",
    "cls_df['division'] = pd.Categorical(cls_df['division'])\n",
    "cls_df['section'] = pd.Categorical(cls_df['section'])\n",
    "\n",
    "cls_df['class'] = cls_df['class'].cat.codes\n",
    "cls_df['division'] = cls_df['division'].cat.codes\n",
    "cls_df['section'] = cls_df['section'].cat.codes\n",
    "cls_df"
   ],
   "metadata": {
    "collapsed": false,
    "ExecuteTime": {
     "end_time": "2024-02-24T00:20:32.121252700Z",
     "start_time": "2024-02-24T00:20:32.086160500Z"
    }
   },
   "id": "516a1edf25fbdd15",
   "execution_count": 4
  },
  {
   "cell_type": "markdown",
   "source": [
    "Let's also prepare the embeddings for classification by converting them to a numpy array."
   ],
   "metadata": {
    "collapsed": false
   },
   "id": "891ef0bbf5ddeecc"
  },
  {
   "cell_type": "code",
   "outputs": [],
   "source": [
    "import numpy as np\n",
    "\n",
    "X = np.vstack(cls_df['embedding'])"
   ],
   "metadata": {
    "collapsed": false,
    "ExecuteTime": {
     "end_time": "2024-02-24T00:20:32.168254800Z",
     "start_time": "2024-02-24T00:20:32.102251400Z"
    }
   },
   "id": "1d2b8c0fca50cf83",
   "execution_count": 5
  },
  {
   "cell_type": "markdown",
   "source": [
    "### Multi-class logistic regression\n",
    "\n",
    "Let us start by training a multi-class logistic regression model on the embeddings and the class.\n",
    "\n",
    "Before we do that, however, let's split the data into training and testing sets, using 80% of the data for training and 20% for testing."
   ],
   "metadata": {
    "collapsed": false
   },
   "id": "a0da1d957a8e1533"
  },
  {
   "cell_type": "code",
   "outputs": [],
   "source": [
    "from sklearn.model_selection import train_test_split\n",
    "\n",
    "y = cls_df['class']\n",
    "X_train, X_test, y_train, y_test = train_test_split(X, y, test_size=0.2, random_state=42)"
   ],
   "metadata": {
    "collapsed": false,
    "ExecuteTime": {
     "end_time": "2024-02-24T00:20:33.268251900Z",
     "start_time": "2024-02-24T00:20:32.130252600Z"
    }
   },
   "id": "e541551066686048",
   "execution_count": 6
  },
  {
   "cell_type": "markdown",
   "source": [
    "Now let's train a logistic regression model on the training data and evaluate it on the testing data."
   ],
   "metadata": {
    "collapsed": false
   },
   "id": "2b8a7c1f9edc9e63"
  },
  {
   "cell_type": "code",
   "outputs": [
    {
     "data": {
      "text/plain": "LogisticRegression(max_iter=1000, multi_class='ovr', n_jobs=-1, random_state=42)",
      "text/html": "<style>#sk-container-id-1 {\n  /* Definition of color scheme common for light and dark mode */\n  --sklearn-color-text: black;\n  --sklearn-color-line: gray;\n  /* Definition of color scheme for unfitted estimators */\n  --sklearn-color-unfitted-level-0: #fff5e6;\n  --sklearn-color-unfitted-level-1: #f6e4d2;\n  --sklearn-color-unfitted-level-2: #ffe0b3;\n  --sklearn-color-unfitted-level-3: chocolate;\n  /* Definition of color scheme for fitted estimators */\n  --sklearn-color-fitted-level-0: #f0f8ff;\n  --sklearn-color-fitted-level-1: #d4ebff;\n  --sklearn-color-fitted-level-2: #b3dbfd;\n  --sklearn-color-fitted-level-3: cornflowerblue;\n\n  /* Specific color for light theme */\n  --sklearn-color-text-on-default-background: var(--sg-text-color, var(--theme-code-foreground, var(--jp-content-font-color1, black)));\n  --sklearn-color-background: var(--sg-background-color, var(--theme-background, var(--jp-layout-color0, white)));\n  --sklearn-color-border-box: var(--sg-text-color, var(--theme-code-foreground, var(--jp-content-font-color1, black)));\n  --sklearn-color-icon: #696969;\n\n  @media (prefers-color-scheme: dark) {\n    /* Redefinition of color scheme for dark theme */\n    --sklearn-color-text-on-default-background: var(--sg-text-color, var(--theme-code-foreground, var(--jp-content-font-color1, white)));\n    --sklearn-color-background: var(--sg-background-color, var(--theme-background, var(--jp-layout-color0, #111)));\n    --sklearn-color-border-box: var(--sg-text-color, var(--theme-code-foreground, var(--jp-content-font-color1, white)));\n    --sklearn-color-icon: #878787;\n  }\n}\n\n#sk-container-id-1 {\n  color: var(--sklearn-color-text);\n}\n\n#sk-container-id-1 pre {\n  padding: 0;\n}\n\n#sk-container-id-1 input.sk-hidden--visually {\n  border: 0;\n  clip: rect(1px 1px 1px 1px);\n  clip: rect(1px, 1px, 1px, 1px);\n  height: 1px;\n  margin: -1px;\n  overflow: hidden;\n  padding: 0;\n  position: absolute;\n  width: 1px;\n}\n\n#sk-container-id-1 div.sk-dashed-wrapped {\n  border: 1px dashed var(--sklearn-color-line);\n  margin: 0 0.4em 0.5em 0.4em;\n  box-sizing: border-box;\n  padding-bottom: 0.4em;\n  background-color: var(--sklearn-color-background);\n}\n\n#sk-container-id-1 div.sk-container {\n  /* jupyter's `normalize.less` sets `[hidden] { display: none; }`\n     but bootstrap.min.css set `[hidden] { display: none !important; }`\n     so we also need the `!important` here to be able to override the\n     default hidden behavior on the sphinx rendered scikit-learn.org.\n     See: https://github.com/scikit-learn/scikit-learn/issues/21755 */\n  display: inline-block !important;\n  position: relative;\n}\n\n#sk-container-id-1 div.sk-text-repr-fallback {\n  display: none;\n}\n\ndiv.sk-parallel-item,\ndiv.sk-serial,\ndiv.sk-item {\n  /* draw centered vertical line to link estimators */\n  background-image: linear-gradient(var(--sklearn-color-text-on-default-background), var(--sklearn-color-text-on-default-background));\n  background-size: 2px 100%;\n  background-repeat: no-repeat;\n  background-position: center center;\n}\n\n/* Parallel-specific style estimator block */\n\n#sk-container-id-1 div.sk-parallel-item::after {\n  content: \"\";\n  width: 100%;\n  border-bottom: 2px solid var(--sklearn-color-text-on-default-background);\n  flex-grow: 1;\n}\n\n#sk-container-id-1 div.sk-parallel {\n  display: flex;\n  align-items: stretch;\n  justify-content: center;\n  background-color: var(--sklearn-color-background);\n  position: relative;\n}\n\n#sk-container-id-1 div.sk-parallel-item {\n  display: flex;\n  flex-direction: column;\n}\n\n#sk-container-id-1 div.sk-parallel-item:first-child::after {\n  align-self: flex-end;\n  width: 50%;\n}\n\n#sk-container-id-1 div.sk-parallel-item:last-child::after {\n  align-self: flex-start;\n  width: 50%;\n}\n\n#sk-container-id-1 div.sk-parallel-item:only-child::after {\n  width: 0;\n}\n\n/* Serial-specific style estimator block */\n\n#sk-container-id-1 div.sk-serial {\n  display: flex;\n  flex-direction: column;\n  align-items: center;\n  background-color: var(--sklearn-color-background);\n  padding-right: 1em;\n  padding-left: 1em;\n}\n\n\n/* Toggleable style: style used for estimator/Pipeline/ColumnTransformer box that is\nclickable and can be expanded/collapsed.\n- Pipeline and ColumnTransformer use this feature and define the default style\n- Estimators will overwrite some part of the style using the `sk-estimator` class\n*/\n\n/* Pipeline and ColumnTransformer style (default) */\n\n#sk-container-id-1 div.sk-toggleable {\n  /* Default theme specific background. It is overwritten whether we have a\n  specific estimator or a Pipeline/ColumnTransformer */\n  background-color: var(--sklearn-color-background);\n}\n\n/* Toggleable label */\n#sk-container-id-1 label.sk-toggleable__label {\n  cursor: pointer;\n  display: block;\n  width: 100%;\n  margin-bottom: 0;\n  padding: 0.5em;\n  box-sizing: border-box;\n  text-align: center;\n}\n\n#sk-container-id-1 label.sk-toggleable__label-arrow:before {\n  /* Arrow on the left of the label */\n  content: \"▸\";\n  float: left;\n  margin-right: 0.25em;\n  color: var(--sklearn-color-icon);\n}\n\n#sk-container-id-1 label.sk-toggleable__label-arrow:hover:before {\n  color: var(--sklearn-color-text);\n}\n\n/* Toggleable content - dropdown */\n\n#sk-container-id-1 div.sk-toggleable__content {\n  max-height: 0;\n  max-width: 0;\n  overflow: hidden;\n  text-align: left;\n  /* unfitted */\n  background-color: var(--sklearn-color-unfitted-level-0);\n}\n\n#sk-container-id-1 div.sk-toggleable__content.fitted {\n  /* fitted */\n  background-color: var(--sklearn-color-fitted-level-0);\n}\n\n#sk-container-id-1 div.sk-toggleable__content pre {\n  margin: 0.2em;\n  border-radius: 0.25em;\n  color: var(--sklearn-color-text);\n  /* unfitted */\n  background-color: var(--sklearn-color-unfitted-level-0);\n}\n\n#sk-container-id-1 div.sk-toggleable__content.fitted pre {\n  /* unfitted */\n  background-color: var(--sklearn-color-fitted-level-0);\n}\n\n#sk-container-id-1 input.sk-toggleable__control:checked~div.sk-toggleable__content {\n  /* Expand drop-down */\n  max-height: 200px;\n  max-width: 100%;\n  overflow: auto;\n}\n\n#sk-container-id-1 input.sk-toggleable__control:checked~label.sk-toggleable__label-arrow:before {\n  content: \"▾\";\n}\n\n/* Pipeline/ColumnTransformer-specific style */\n\n#sk-container-id-1 div.sk-label input.sk-toggleable__control:checked~label.sk-toggleable__label {\n  color: var(--sklearn-color-text);\n  background-color: var(--sklearn-color-unfitted-level-2);\n}\n\n#sk-container-id-1 div.sk-label.fitted input.sk-toggleable__control:checked~label.sk-toggleable__label {\n  background-color: var(--sklearn-color-fitted-level-2);\n}\n\n/* Estimator-specific style */\n\n/* Colorize estimator box */\n#sk-container-id-1 div.sk-estimator input.sk-toggleable__control:checked~label.sk-toggleable__label {\n  /* unfitted */\n  background-color: var(--sklearn-color-unfitted-level-2);\n}\n\n#sk-container-id-1 div.sk-estimator.fitted input.sk-toggleable__control:checked~label.sk-toggleable__label {\n  /* fitted */\n  background-color: var(--sklearn-color-fitted-level-2);\n}\n\n#sk-container-id-1 div.sk-label label.sk-toggleable__label,\n#sk-container-id-1 div.sk-label label {\n  /* The background is the default theme color */\n  color: var(--sklearn-color-text-on-default-background);\n}\n\n/* On hover, darken the color of the background */\n#sk-container-id-1 div.sk-label:hover label.sk-toggleable__label {\n  color: var(--sklearn-color-text);\n  background-color: var(--sklearn-color-unfitted-level-2);\n}\n\n/* Label box, darken color on hover, fitted */\n#sk-container-id-1 div.sk-label.fitted:hover label.sk-toggleable__label.fitted {\n  color: var(--sklearn-color-text);\n  background-color: var(--sklearn-color-fitted-level-2);\n}\n\n/* Estimator label */\n\n#sk-container-id-1 div.sk-label label {\n  font-family: monospace;\n  font-weight: bold;\n  display: inline-block;\n  line-height: 1.2em;\n}\n\n#sk-container-id-1 div.sk-label-container {\n  text-align: center;\n}\n\n/* Estimator-specific */\n#sk-container-id-1 div.sk-estimator {\n  font-family: monospace;\n  border: 1px dotted var(--sklearn-color-border-box);\n  border-radius: 0.25em;\n  box-sizing: border-box;\n  margin-bottom: 0.5em;\n  /* unfitted */\n  background-color: var(--sklearn-color-unfitted-level-0);\n}\n\n#sk-container-id-1 div.sk-estimator.fitted {\n  /* fitted */\n  background-color: var(--sklearn-color-fitted-level-0);\n}\n\n/* on hover */\n#sk-container-id-1 div.sk-estimator:hover {\n  /* unfitted */\n  background-color: var(--sklearn-color-unfitted-level-2);\n}\n\n#sk-container-id-1 div.sk-estimator.fitted:hover {\n  /* fitted */\n  background-color: var(--sklearn-color-fitted-level-2);\n}\n\n/* Specification for estimator info (e.g. \"i\" and \"?\") */\n\n/* Common style for \"i\" and \"?\" */\n\n.sk-estimator-doc-link,\na:link.sk-estimator-doc-link,\na:visited.sk-estimator-doc-link {\n  float: right;\n  font-size: smaller;\n  line-height: 1em;\n  font-family: monospace;\n  background-color: var(--sklearn-color-background);\n  border-radius: 1em;\n  height: 1em;\n  width: 1em;\n  text-decoration: none !important;\n  margin-left: 1ex;\n  /* unfitted */\n  border: var(--sklearn-color-unfitted-level-1) 1pt solid;\n  color: var(--sklearn-color-unfitted-level-1);\n}\n\n.sk-estimator-doc-link.fitted,\na:link.sk-estimator-doc-link.fitted,\na:visited.sk-estimator-doc-link.fitted {\n  /* fitted */\n  border: var(--sklearn-color-fitted-level-1) 1pt solid;\n  color: var(--sklearn-color-fitted-level-1);\n}\n\n/* On hover */\ndiv.sk-estimator:hover .sk-estimator-doc-link:hover,\n.sk-estimator-doc-link:hover,\ndiv.sk-label-container:hover .sk-estimator-doc-link:hover,\n.sk-estimator-doc-link:hover {\n  /* unfitted */\n  background-color: var(--sklearn-color-unfitted-level-3);\n  color: var(--sklearn-color-background);\n  text-decoration: none;\n}\n\ndiv.sk-estimator.fitted:hover .sk-estimator-doc-link.fitted:hover,\n.sk-estimator-doc-link.fitted:hover,\ndiv.sk-label-container:hover .sk-estimator-doc-link.fitted:hover,\n.sk-estimator-doc-link.fitted:hover {\n  /* fitted */\n  background-color: var(--sklearn-color-fitted-level-3);\n  color: var(--sklearn-color-background);\n  text-decoration: none;\n}\n\n/* Span, style for the box shown on hovering the info icon */\n.sk-estimator-doc-link span {\n  display: none;\n  z-index: 9999;\n  position: relative;\n  font-weight: normal;\n  right: .2ex;\n  padding: .5ex;\n  margin: .5ex;\n  width: min-content;\n  min-width: 20ex;\n  max-width: 50ex;\n  color: var(--sklearn-color-text);\n  box-shadow: 2pt 2pt 4pt #999;\n  /* unfitted */\n  background: var(--sklearn-color-unfitted-level-0);\n  border: .5pt solid var(--sklearn-color-unfitted-level-3);\n}\n\n.sk-estimator-doc-link.fitted span {\n  /* fitted */\n  background: var(--sklearn-color-fitted-level-0);\n  border: var(--sklearn-color-fitted-level-3);\n}\n\n.sk-estimator-doc-link:hover span {\n  display: block;\n}\n\n/* \"?\"-specific style due to the `<a>` HTML tag */\n\n#sk-container-id-1 a.estimator_doc_link {\n  float: right;\n  font-size: 1rem;\n  line-height: 1em;\n  font-family: monospace;\n  background-color: var(--sklearn-color-background);\n  border-radius: 1rem;\n  height: 1rem;\n  width: 1rem;\n  text-decoration: none;\n  /* unfitted */\n  color: var(--sklearn-color-unfitted-level-1);\n  border: var(--sklearn-color-unfitted-level-1) 1pt solid;\n}\n\n#sk-container-id-1 a.estimator_doc_link.fitted {\n  /* fitted */\n  border: var(--sklearn-color-fitted-level-1) 1pt solid;\n  color: var(--sklearn-color-fitted-level-1);\n}\n\n/* On hover */\n#sk-container-id-1 a.estimator_doc_link:hover {\n  /* unfitted */\n  background-color: var(--sklearn-color-unfitted-level-3);\n  color: var(--sklearn-color-background);\n  text-decoration: none;\n}\n\n#sk-container-id-1 a.estimator_doc_link.fitted:hover {\n  /* fitted */\n  background-color: var(--sklearn-color-fitted-level-3);\n}\n</style><div id=\"sk-container-id-1\" class=\"sk-top-container\"><div class=\"sk-text-repr-fallback\"><pre>LogisticRegression(max_iter=1000, multi_class=&#x27;ovr&#x27;, n_jobs=-1, random_state=42)</pre><b>In a Jupyter environment, please rerun this cell to show the HTML representation or trust the notebook. <br />On GitHub, the HTML representation is unable to render, please try loading this page with nbviewer.org.</b></div><div class=\"sk-container\" hidden><div class=\"sk-item\"><div class=\"sk-estimator fitted sk-toggleable\"><input class=\"sk-toggleable__control sk-hidden--visually\" id=\"sk-estimator-id-1\" type=\"checkbox\" checked><label for=\"sk-estimator-id-1\" class=\"sk-toggleable__label fitted sk-toggleable__label-arrow fitted\">&nbsp;&nbsp;LogisticRegression<a class=\"sk-estimator-doc-link fitted\" rel=\"noreferrer\" target=\"_blank\" href=\"https://scikit-learn.org/1.4/modules/generated/sklearn.linear_model.LogisticRegression.html\">?<span>Documentation for LogisticRegression</span></a><span class=\"sk-estimator-doc-link fitted\">i<span>Fitted</span></span></label><div class=\"sk-toggleable__content fitted\"><pre>LogisticRegression(max_iter=1000, multi_class=&#x27;ovr&#x27;, n_jobs=-1, random_state=42)</pre></div> </div></div></div></div>"
     },
     "execution_count": 7,
     "metadata": {},
     "output_type": "execute_result"
    }
   ],
   "source": [
    "# Train a logistic regression model\n",
    "from sklearn.linear_model import LogisticRegression\n",
    "\n",
    "model = LogisticRegression(max_iter=1000, multi_class='ovr', n_jobs=-1, random_state=42)\n",
    "model.fit(X_train, y_train)"
   ],
   "metadata": {
    "collapsed": false,
    "ExecuteTime": {
     "end_time": "2024-02-24T00:20:37.352335600Z",
     "start_time": "2024-02-24T00:20:33.731770100Z"
    }
   },
   "id": "2a20c0e4ce5e28ab",
   "execution_count": 7
  },
  {
   "cell_type": "code",
   "outputs": [
    {
     "name": "stdout",
     "output_type": "stream",
     "text": [
      "              precision    recall  f1-score   support\n",
      "\n",
      "           0       0.68      0.68      0.68        44\n",
      "           1       0.62      0.50      0.56        30\n",
      "           2       0.67      0.45      0.54        31\n",
      "           3       0.77      0.74      0.75        27\n",
      "           4       0.63      0.77      0.70        31\n",
      "           5       0.58      0.69      0.63        49\n",
      "\n",
      "    accuracy                           0.65       212\n",
      "   macro avg       0.66      0.64      0.64       212\n",
      "weighted avg       0.65      0.65      0.64       212\n"
     ]
    }
   ],
   "source": [
    "from sklearn import metrics\n",
    "\n",
    "# Generate classification report\n",
    "\n",
    "y_pred = model.predict(X_test)\n",
    "print(metrics.classification_report(y_test, y_pred))"
   ],
   "metadata": {
    "collapsed": false,
    "ExecuteTime": {
     "end_time": "2024-02-24T00:20:37.353335900Z",
     "start_time": "2024-02-24T00:20:37.322596800Z"
    }
   },
   "id": "8caa5ddbc9c9df03",
   "execution_count": 8
  },
  {
   "cell_type": "markdown",
   "source": [
    "Having trained and evaluated the model, we can see that the model has an accuracy of 0.64, \n",
    "which is not bad considering the previous results we got from the clustering of the embeddings.\n",
    "\n",
    "However, let's use a hyperparameter tuning library such as `optuna` to find the best hyperparameters for the model.\n",
    "\n",
    "We will use the `cross_val_score` function from `sklearn` to evaluate the model using cross-validation and the `optuna` library to find the best hyperparameters for the model based on the maximization of the accuracy."
   ],
   "metadata": {
    "collapsed": false
   },
   "id": "f52da790af8442a3"
  },
  {
   "cell_type": "code",
   "outputs": [
    {
     "name": "stderr",
     "output_type": "stream",
     "text": [
      "[I 2024-02-24 02:12:50,317] A new study created in memory with name: no-name-69d8a854-349f-485b-a37a-5ba3d4228075\n",
      "[W 2024-02-24 02:12:52,534] Trial 0 failed with parameters: {'multi_class': 'ovr', 'C': 0.002435712112797069} because of the following error: KeyboardInterrupt().\n",
      "Traceback (most recent call last):\n",
      "  File \"C:\\Users\\panagiotis\\AppData\\Local\\Programs\\Python\\Python311\\Lib\\site-packages\\optuna\\study\\_optimize.py\", line 200, in _run_trial\n",
      "    value_or_values = func(trial)\n",
      "                      ^^^^^^^^^^^\n",
      "  File \"C:\\Users\\panagiotis\\AppData\\Local\\Temp\\ipykernel_31096\\3990631084.py\", line 13, in objective\n",
      "    score = cross_val_score(model, X, y, scoring='accuracy')\n",
      "            ^^^^^^^^^^^^^^^^^^^^^^^^^^^^^^^^^^^^^^^^^^^^^^^^\n",
      "  File \"C:\\Users\\panagiotis\\AppData\\Local\\Programs\\Python\\Python311\\Lib\\site-packages\\sklearn\\utils\\_param_validation.py\", line 213, in wrapper\n",
      "    return func(*args, **kwargs)\n",
      "           ^^^^^^^^^^^^^^^^^^^^^\n",
      "  File \"C:\\Users\\panagiotis\\AppData\\Local\\Programs\\Python\\Python311\\Lib\\site-packages\\sklearn\\model_selection\\_validation.py\", line 714, in cross_val_score\n",
      "    cv_results = cross_validate(\n",
      "                 ^^^^^^^^^^^^^^^\n",
      "  File \"C:\\Users\\panagiotis\\AppData\\Local\\Programs\\Python\\Python311\\Lib\\site-packages\\sklearn\\utils\\_param_validation.py\", line 213, in wrapper\n",
      "    return func(*args, **kwargs)\n",
      "           ^^^^^^^^^^^^^^^^^^^^^\n",
      "  File \"C:\\Users\\panagiotis\\AppData\\Local\\Programs\\Python\\Python311\\Lib\\site-packages\\sklearn\\model_selection\\_validation.py\", line 425, in cross_validate\n",
      "    results = parallel(\n",
      "              ^^^^^^^^^\n",
      "  File \"C:\\Users\\panagiotis\\AppData\\Local\\Programs\\Python\\Python311\\Lib\\site-packages\\sklearn\\utils\\parallel.py\", line 67, in __call__\n",
      "    return super().__call__(iterable_with_config)\n",
      "           ^^^^^^^^^^^^^^^^^^^^^^^^^^^^^^^^^^^^^^\n",
      "  File \"C:\\Users\\panagiotis\\AppData\\Local\\Programs\\Python\\Python311\\Lib\\site-packages\\joblib\\parallel.py\", line 1863, in __call__\n",
      "    return output if self.return_generator else list(output)\n",
      "                                                ^^^^^^^^^^^^\n",
      "  File \"C:\\Users\\panagiotis\\AppData\\Local\\Programs\\Python\\Python311\\Lib\\site-packages\\joblib\\parallel.py\", line 1792, in _get_sequential_output\n",
      "    res = func(*args, **kwargs)\n",
      "          ^^^^^^^^^^^^^^^^^^^^^\n",
      "  File \"C:\\Users\\panagiotis\\AppData\\Local\\Programs\\Python\\Python311\\Lib\\site-packages\\sklearn\\utils\\parallel.py\", line 129, in __call__\n",
      "    return self.function(*args, **kwargs)\n",
      "           ^^^^^^^^^^^^^^^^^^^^^^^^^^^^^^\n",
      "  File \"C:\\Users\\panagiotis\\AppData\\Local\\Programs\\Python\\Python311\\Lib\\site-packages\\sklearn\\model_selection\\_validation.py\", line 890, in _fit_and_score\n",
      "    estimator.fit(X_train, y_train, **fit_params)\n",
      "  File \"C:\\Users\\panagiotis\\AppData\\Local\\Programs\\Python\\Python311\\Lib\\site-packages\\sklearn\\base.py\", line 1351, in wrapper\n",
      "    return fit_method(estimator, *args, **kwargs)\n",
      "           ^^^^^^^^^^^^^^^^^^^^^^^^^^^^^^^^^^^^^^\n",
      "  File \"C:\\Users\\panagiotis\\AppData\\Local\\Programs\\Python\\Python311\\Lib\\site-packages\\sklearn\\linear_model\\_logistic.py\", line 1296, in fit\n",
      "    fold_coefs_ = Parallel(n_jobs=self.n_jobs, verbose=self.verbose, prefer=prefer)(\n",
      "                  ^^^^^^^^^^^^^^^^^^^^^^^^^^^^^^^^^^^^^^^^^^^^^^^^^^^^^^^^^^^^^^^^^^\n",
      "  File \"C:\\Users\\panagiotis\\AppData\\Local\\Programs\\Python\\Python311\\Lib\\site-packages\\sklearn\\utils\\parallel.py\", line 67, in __call__\n",
      "    return super().__call__(iterable_with_config)\n",
      "           ^^^^^^^^^^^^^^^^^^^^^^^^^^^^^^^^^^^^^^\n",
      "  File \"C:\\Users\\panagiotis\\AppData\\Local\\Programs\\Python\\Python311\\Lib\\site-packages\\joblib\\parallel.py\", line 1952, in __call__\n",
      "    return output if self.return_generator else list(output)\n",
      "                                                ^^^^^^^^^^^^\n",
      "  File \"C:\\Users\\panagiotis\\AppData\\Local\\Programs\\Python\\Python311\\Lib\\site-packages\\joblib\\parallel.py\", line 1595, in _get_outputs\n",
      "    yield from self._retrieve()\n",
      "  File \"C:\\Users\\panagiotis\\AppData\\Local\\Programs\\Python\\Python311\\Lib\\site-packages\\joblib\\parallel.py\", line 1707, in _retrieve\n",
      "    time.sleep(0.01)\n",
      "KeyboardInterrupt\n",
      "[W 2024-02-24 02:12:52,558] Trial 0 failed with value None.\n"
     ]
    },
    {
     "ename": "KeyboardInterrupt",
     "evalue": "",
     "output_type": "error",
     "traceback": [
      "\u001B[1;31m---------------------------------------------------------------------------\u001B[0m",
      "\u001B[1;31mKeyboardInterrupt\u001B[0m                         Traceback (most recent call last)",
      "Cell \u001B[1;32mIn[16], line 19\u001B[0m\n\u001B[0;32m     17\u001B[0m \u001B[38;5;66;03m# Create a study object and specify the optimization direction\u001B[39;00m\n\u001B[0;32m     18\u001B[0m study \u001B[38;5;241m=\u001B[39m optuna\u001B[38;5;241m.\u001B[39mcreate_study(direction\u001B[38;5;241m=\u001B[39m\u001B[38;5;124m'\u001B[39m\u001B[38;5;124mmaximize\u001B[39m\u001B[38;5;124m'\u001B[39m)\n\u001B[1;32m---> 19\u001B[0m \u001B[43mstudy\u001B[49m\u001B[38;5;241;43m.\u001B[39;49m\u001B[43moptimize\u001B[49m\u001B[43m(\u001B[49m\u001B[43mobjective\u001B[49m\u001B[43m,\u001B[49m\u001B[43m \u001B[49m\u001B[43mn_trials\u001B[49m\u001B[38;5;241;43m=\u001B[39;49m\u001B[38;5;241;43m100\u001B[39;49m\u001B[43m)\u001B[49m  \u001B[38;5;66;03m# You can adjust the number of trials\u001B[39;00m\n\u001B[0;32m     21\u001B[0m \u001B[38;5;66;03m# Output the best hyperparameters\u001B[39;00m\n\u001B[0;32m     22\u001B[0m \u001B[38;5;28mprint\u001B[39m(\u001B[38;5;124m'\u001B[39m\u001B[38;5;124mBest trial:\u001B[39m\u001B[38;5;124m'\u001B[39m, study\u001B[38;5;241m.\u001B[39mbest_trial\u001B[38;5;241m.\u001B[39mparams)\n",
      "File \u001B[1;32m~\\AppData\\Local\\Programs\\Python\\Python311\\Lib\\site-packages\\optuna\\study\\study.py:451\u001B[0m, in \u001B[0;36mStudy.optimize\u001B[1;34m(self, func, n_trials, timeout, n_jobs, catch, callbacks, gc_after_trial, show_progress_bar)\u001B[0m\n\u001B[0;32m    348\u001B[0m \u001B[38;5;28;01mdef\u001B[39;00m \u001B[38;5;21moptimize\u001B[39m(\n\u001B[0;32m    349\u001B[0m     \u001B[38;5;28mself\u001B[39m,\n\u001B[0;32m    350\u001B[0m     func: ObjectiveFuncType,\n\u001B[1;32m   (...)\u001B[0m\n\u001B[0;32m    357\u001B[0m     show_progress_bar: \u001B[38;5;28mbool\u001B[39m \u001B[38;5;241m=\u001B[39m \u001B[38;5;28;01mFalse\u001B[39;00m,\n\u001B[0;32m    358\u001B[0m ) \u001B[38;5;241m-\u001B[39m\u001B[38;5;241m>\u001B[39m \u001B[38;5;28;01mNone\u001B[39;00m:\n\u001B[0;32m    359\u001B[0m \u001B[38;5;250m    \u001B[39m\u001B[38;5;124;03m\"\"\"Optimize an objective function.\u001B[39;00m\n\u001B[0;32m    360\u001B[0m \n\u001B[0;32m    361\u001B[0m \u001B[38;5;124;03m    Optimization is done by choosing a suitable set of hyperparameter values from a given\u001B[39;00m\n\u001B[1;32m   (...)\u001B[0m\n\u001B[0;32m    449\u001B[0m \u001B[38;5;124;03m            If nested invocation of this method occurs.\u001B[39;00m\n\u001B[0;32m    450\u001B[0m \u001B[38;5;124;03m    \"\"\"\u001B[39;00m\n\u001B[1;32m--> 451\u001B[0m     \u001B[43m_optimize\u001B[49m\u001B[43m(\u001B[49m\n\u001B[0;32m    452\u001B[0m \u001B[43m        \u001B[49m\u001B[43mstudy\u001B[49m\u001B[38;5;241;43m=\u001B[39;49m\u001B[38;5;28;43mself\u001B[39;49m\u001B[43m,\u001B[49m\n\u001B[0;32m    453\u001B[0m \u001B[43m        \u001B[49m\u001B[43mfunc\u001B[49m\u001B[38;5;241;43m=\u001B[39;49m\u001B[43mfunc\u001B[49m\u001B[43m,\u001B[49m\n\u001B[0;32m    454\u001B[0m \u001B[43m        \u001B[49m\u001B[43mn_trials\u001B[49m\u001B[38;5;241;43m=\u001B[39;49m\u001B[43mn_trials\u001B[49m\u001B[43m,\u001B[49m\n\u001B[0;32m    455\u001B[0m \u001B[43m        \u001B[49m\u001B[43mtimeout\u001B[49m\u001B[38;5;241;43m=\u001B[39;49m\u001B[43mtimeout\u001B[49m\u001B[43m,\u001B[49m\n\u001B[0;32m    456\u001B[0m \u001B[43m        \u001B[49m\u001B[43mn_jobs\u001B[49m\u001B[38;5;241;43m=\u001B[39;49m\u001B[43mn_jobs\u001B[49m\u001B[43m,\u001B[49m\n\u001B[0;32m    457\u001B[0m \u001B[43m        \u001B[49m\u001B[43mcatch\u001B[49m\u001B[38;5;241;43m=\u001B[39;49m\u001B[38;5;28;43mtuple\u001B[39;49m\u001B[43m(\u001B[49m\u001B[43mcatch\u001B[49m\u001B[43m)\u001B[49m\u001B[43m \u001B[49m\u001B[38;5;28;43;01mif\u001B[39;49;00m\u001B[43m \u001B[49m\u001B[38;5;28;43misinstance\u001B[39;49m\u001B[43m(\u001B[49m\u001B[43mcatch\u001B[49m\u001B[43m,\u001B[49m\u001B[43m \u001B[49m\u001B[43mIterable\u001B[49m\u001B[43m)\u001B[49m\u001B[43m \u001B[49m\u001B[38;5;28;43;01melse\u001B[39;49;00m\u001B[43m \u001B[49m\u001B[43m(\u001B[49m\u001B[43mcatch\u001B[49m\u001B[43m,\u001B[49m\u001B[43m)\u001B[49m\u001B[43m,\u001B[49m\n\u001B[0;32m    458\u001B[0m \u001B[43m        \u001B[49m\u001B[43mcallbacks\u001B[49m\u001B[38;5;241;43m=\u001B[39;49m\u001B[43mcallbacks\u001B[49m\u001B[43m,\u001B[49m\n\u001B[0;32m    459\u001B[0m \u001B[43m        \u001B[49m\u001B[43mgc_after_trial\u001B[49m\u001B[38;5;241;43m=\u001B[39;49m\u001B[43mgc_after_trial\u001B[49m\u001B[43m,\u001B[49m\n\u001B[0;32m    460\u001B[0m \u001B[43m        \u001B[49m\u001B[43mshow_progress_bar\u001B[49m\u001B[38;5;241;43m=\u001B[39;49m\u001B[43mshow_progress_bar\u001B[49m\u001B[43m,\u001B[49m\n\u001B[0;32m    461\u001B[0m \u001B[43m    \u001B[49m\u001B[43m)\u001B[49m\n",
      "File \u001B[1;32m~\\AppData\\Local\\Programs\\Python\\Python311\\Lib\\site-packages\\optuna\\study\\_optimize.py:66\u001B[0m, in \u001B[0;36m_optimize\u001B[1;34m(study, func, n_trials, timeout, n_jobs, catch, callbacks, gc_after_trial, show_progress_bar)\u001B[0m\n\u001B[0;32m     64\u001B[0m \u001B[38;5;28;01mtry\u001B[39;00m:\n\u001B[0;32m     65\u001B[0m     \u001B[38;5;28;01mif\u001B[39;00m n_jobs \u001B[38;5;241m==\u001B[39m \u001B[38;5;241m1\u001B[39m:\n\u001B[1;32m---> 66\u001B[0m         \u001B[43m_optimize_sequential\u001B[49m\u001B[43m(\u001B[49m\n\u001B[0;32m     67\u001B[0m \u001B[43m            \u001B[49m\u001B[43mstudy\u001B[49m\u001B[43m,\u001B[49m\n\u001B[0;32m     68\u001B[0m \u001B[43m            \u001B[49m\u001B[43mfunc\u001B[49m\u001B[43m,\u001B[49m\n\u001B[0;32m     69\u001B[0m \u001B[43m            \u001B[49m\u001B[43mn_trials\u001B[49m\u001B[43m,\u001B[49m\n\u001B[0;32m     70\u001B[0m \u001B[43m            \u001B[49m\u001B[43mtimeout\u001B[49m\u001B[43m,\u001B[49m\n\u001B[0;32m     71\u001B[0m \u001B[43m            \u001B[49m\u001B[43mcatch\u001B[49m\u001B[43m,\u001B[49m\n\u001B[0;32m     72\u001B[0m \u001B[43m            \u001B[49m\u001B[43mcallbacks\u001B[49m\u001B[43m,\u001B[49m\n\u001B[0;32m     73\u001B[0m \u001B[43m            \u001B[49m\u001B[43mgc_after_trial\u001B[49m\u001B[43m,\u001B[49m\n\u001B[0;32m     74\u001B[0m \u001B[43m            \u001B[49m\u001B[43mreseed_sampler_rng\u001B[49m\u001B[38;5;241;43m=\u001B[39;49m\u001B[38;5;28;43;01mFalse\u001B[39;49;00m\u001B[43m,\u001B[49m\n\u001B[0;32m     75\u001B[0m \u001B[43m            \u001B[49m\u001B[43mtime_start\u001B[49m\u001B[38;5;241;43m=\u001B[39;49m\u001B[38;5;28;43;01mNone\u001B[39;49;00m\u001B[43m,\u001B[49m\n\u001B[0;32m     76\u001B[0m \u001B[43m            \u001B[49m\u001B[43mprogress_bar\u001B[49m\u001B[38;5;241;43m=\u001B[39;49m\u001B[43mprogress_bar\u001B[49m\u001B[43m,\u001B[49m\n\u001B[0;32m     77\u001B[0m \u001B[43m        \u001B[49m\u001B[43m)\u001B[49m\n\u001B[0;32m     78\u001B[0m     \u001B[38;5;28;01melse\u001B[39;00m:\n\u001B[0;32m     79\u001B[0m         \u001B[38;5;28;01mif\u001B[39;00m n_jobs \u001B[38;5;241m==\u001B[39m \u001B[38;5;241m-\u001B[39m\u001B[38;5;241m1\u001B[39m:\n",
      "File \u001B[1;32m~\\AppData\\Local\\Programs\\Python\\Python311\\Lib\\site-packages\\optuna\\study\\_optimize.py:163\u001B[0m, in \u001B[0;36m_optimize_sequential\u001B[1;34m(study, func, n_trials, timeout, catch, callbacks, gc_after_trial, reseed_sampler_rng, time_start, progress_bar)\u001B[0m\n\u001B[0;32m    160\u001B[0m         \u001B[38;5;28;01mbreak\u001B[39;00m\n\u001B[0;32m    162\u001B[0m \u001B[38;5;28;01mtry\u001B[39;00m:\n\u001B[1;32m--> 163\u001B[0m     frozen_trial \u001B[38;5;241m=\u001B[39m \u001B[43m_run_trial\u001B[49m\u001B[43m(\u001B[49m\u001B[43mstudy\u001B[49m\u001B[43m,\u001B[49m\u001B[43m \u001B[49m\u001B[43mfunc\u001B[49m\u001B[43m,\u001B[49m\u001B[43m \u001B[49m\u001B[43mcatch\u001B[49m\u001B[43m)\u001B[49m\n\u001B[0;32m    164\u001B[0m \u001B[38;5;28;01mfinally\u001B[39;00m:\n\u001B[0;32m    165\u001B[0m     \u001B[38;5;66;03m# The following line mitigates memory problems that can be occurred in some\u001B[39;00m\n\u001B[0;32m    166\u001B[0m     \u001B[38;5;66;03m# environments (e.g., services that use computing containers such as GitHub Actions).\u001B[39;00m\n\u001B[0;32m    167\u001B[0m     \u001B[38;5;66;03m# Please refer to the following PR for further details:\u001B[39;00m\n\u001B[0;32m    168\u001B[0m     \u001B[38;5;66;03m# https://github.com/optuna/optuna/pull/325.\u001B[39;00m\n\u001B[0;32m    169\u001B[0m     \u001B[38;5;28;01mif\u001B[39;00m gc_after_trial:\n",
      "File \u001B[1;32m~\\AppData\\Local\\Programs\\Python\\Python311\\Lib\\site-packages\\optuna\\study\\_optimize.py:251\u001B[0m, in \u001B[0;36m_run_trial\u001B[1;34m(study, func, catch)\u001B[0m\n\u001B[0;32m    244\u001B[0m         \u001B[38;5;28;01massert\u001B[39;00m \u001B[38;5;28;01mFalse\u001B[39;00m, \u001B[38;5;124m\"\u001B[39m\u001B[38;5;124mShould not reach.\u001B[39m\u001B[38;5;124m\"\u001B[39m\n\u001B[0;32m    246\u001B[0m \u001B[38;5;28;01mif\u001B[39;00m (\n\u001B[0;32m    247\u001B[0m     frozen_trial\u001B[38;5;241m.\u001B[39mstate \u001B[38;5;241m==\u001B[39m TrialState\u001B[38;5;241m.\u001B[39mFAIL\n\u001B[0;32m    248\u001B[0m     \u001B[38;5;129;01mand\u001B[39;00m func_err \u001B[38;5;129;01mis\u001B[39;00m \u001B[38;5;129;01mnot\u001B[39;00m \u001B[38;5;28;01mNone\u001B[39;00m\n\u001B[0;32m    249\u001B[0m     \u001B[38;5;129;01mand\u001B[39;00m \u001B[38;5;129;01mnot\u001B[39;00m \u001B[38;5;28misinstance\u001B[39m(func_err, catch)\n\u001B[0;32m    250\u001B[0m ):\n\u001B[1;32m--> 251\u001B[0m     \u001B[38;5;28;01mraise\u001B[39;00m func_err\n\u001B[0;32m    252\u001B[0m \u001B[38;5;28;01mreturn\u001B[39;00m frozen_trial\n",
      "File \u001B[1;32m~\\AppData\\Local\\Programs\\Python\\Python311\\Lib\\site-packages\\optuna\\study\\_optimize.py:200\u001B[0m, in \u001B[0;36m_run_trial\u001B[1;34m(study, func, catch)\u001B[0m\n\u001B[0;32m    198\u001B[0m \u001B[38;5;28;01mwith\u001B[39;00m get_heartbeat_thread(trial\u001B[38;5;241m.\u001B[39m_trial_id, study\u001B[38;5;241m.\u001B[39m_storage):\n\u001B[0;32m    199\u001B[0m     \u001B[38;5;28;01mtry\u001B[39;00m:\n\u001B[1;32m--> 200\u001B[0m         value_or_values \u001B[38;5;241m=\u001B[39m \u001B[43mfunc\u001B[49m\u001B[43m(\u001B[49m\u001B[43mtrial\u001B[49m\u001B[43m)\u001B[49m\n\u001B[0;32m    201\u001B[0m     \u001B[38;5;28;01mexcept\u001B[39;00m exceptions\u001B[38;5;241m.\u001B[39mTrialPruned \u001B[38;5;28;01mas\u001B[39;00m e:\n\u001B[0;32m    202\u001B[0m         \u001B[38;5;66;03m# TODO(mamu): Handle multi-objective cases.\u001B[39;00m\n\u001B[0;32m    203\u001B[0m         state \u001B[38;5;241m=\u001B[39m TrialState\u001B[38;5;241m.\u001B[39mPRUNED\n",
      "Cell \u001B[1;32mIn[16], line 13\u001B[0m, in \u001B[0;36mobjective\u001B[1;34m(trial)\u001B[0m\n\u001B[0;32m     11\u001B[0m model \u001B[38;5;241m=\u001B[39m LogisticRegression(C\u001B[38;5;241m=\u001B[39mC, random_state\u001B[38;5;241m=\u001B[39m\u001B[38;5;241m42\u001B[39m, max_iter\u001B[38;5;241m=\u001B[39m\u001B[38;5;241m1000\u001B[39m, multi_class\u001B[38;5;241m=\u001B[39mmulti_class , n_jobs\u001B[38;5;241m=\u001B[39m\u001B[38;5;241m-\u001B[39m\u001B[38;5;241m1\u001B[39m)\n\u001B[0;32m     12\u001B[0m \u001B[38;5;66;03m# Perform cross-validation and return the mean score\u001B[39;00m\n\u001B[1;32m---> 13\u001B[0m score \u001B[38;5;241m=\u001B[39m \u001B[43mcross_val_score\u001B[49m\u001B[43m(\u001B[49m\u001B[43mmodel\u001B[49m\u001B[43m,\u001B[49m\u001B[43m \u001B[49m\u001B[43mX\u001B[49m\u001B[43m,\u001B[49m\u001B[43m \u001B[49m\u001B[43my\u001B[49m\u001B[43m,\u001B[49m\u001B[43m \u001B[49m\u001B[43mscoring\u001B[49m\u001B[38;5;241;43m=\u001B[39;49m\u001B[38;5;124;43m'\u001B[39;49m\u001B[38;5;124;43maccuracy\u001B[39;49m\u001B[38;5;124;43m'\u001B[39;49m\u001B[43m)\u001B[49m\n\u001B[0;32m     14\u001B[0m \u001B[38;5;28;01mreturn\u001B[39;00m score\u001B[38;5;241m.\u001B[39mmean()\n",
      "File \u001B[1;32m~\\AppData\\Local\\Programs\\Python\\Python311\\Lib\\site-packages\\sklearn\\utils\\_param_validation.py:213\u001B[0m, in \u001B[0;36mvalidate_params.<locals>.decorator.<locals>.wrapper\u001B[1;34m(*args, **kwargs)\u001B[0m\n\u001B[0;32m    207\u001B[0m \u001B[38;5;28;01mtry\u001B[39;00m:\n\u001B[0;32m    208\u001B[0m     \u001B[38;5;28;01mwith\u001B[39;00m config_context(\n\u001B[0;32m    209\u001B[0m         skip_parameter_validation\u001B[38;5;241m=\u001B[39m(\n\u001B[0;32m    210\u001B[0m             prefer_skip_nested_validation \u001B[38;5;129;01mor\u001B[39;00m global_skip_validation\n\u001B[0;32m    211\u001B[0m         )\n\u001B[0;32m    212\u001B[0m     ):\n\u001B[1;32m--> 213\u001B[0m         \u001B[38;5;28;01mreturn\u001B[39;00m \u001B[43mfunc\u001B[49m\u001B[43m(\u001B[49m\u001B[38;5;241;43m*\u001B[39;49m\u001B[43margs\u001B[49m\u001B[43m,\u001B[49m\u001B[43m \u001B[49m\u001B[38;5;241;43m*\u001B[39;49m\u001B[38;5;241;43m*\u001B[39;49m\u001B[43mkwargs\u001B[49m\u001B[43m)\u001B[49m\n\u001B[0;32m    214\u001B[0m \u001B[38;5;28;01mexcept\u001B[39;00m InvalidParameterError \u001B[38;5;28;01mas\u001B[39;00m e:\n\u001B[0;32m    215\u001B[0m     \u001B[38;5;66;03m# When the function is just a wrapper around an estimator, we allow\u001B[39;00m\n\u001B[0;32m    216\u001B[0m     \u001B[38;5;66;03m# the function to delegate validation to the estimator, but we replace\u001B[39;00m\n\u001B[0;32m    217\u001B[0m     \u001B[38;5;66;03m# the name of the estimator by the name of the function in the error\u001B[39;00m\n\u001B[0;32m    218\u001B[0m     \u001B[38;5;66;03m# message to avoid confusion.\u001B[39;00m\n\u001B[0;32m    219\u001B[0m     msg \u001B[38;5;241m=\u001B[39m re\u001B[38;5;241m.\u001B[39msub(\n\u001B[0;32m    220\u001B[0m         \u001B[38;5;124mr\u001B[39m\u001B[38;5;124m\"\u001B[39m\u001B[38;5;124mparameter of \u001B[39m\u001B[38;5;124m\\\u001B[39m\u001B[38;5;124mw+ must be\u001B[39m\u001B[38;5;124m\"\u001B[39m,\n\u001B[0;32m    221\u001B[0m         \u001B[38;5;124mf\u001B[39m\u001B[38;5;124m\"\u001B[39m\u001B[38;5;124mparameter of \u001B[39m\u001B[38;5;132;01m{\u001B[39;00mfunc\u001B[38;5;241m.\u001B[39m\u001B[38;5;18m__qualname__\u001B[39m\u001B[38;5;132;01m}\u001B[39;00m\u001B[38;5;124m must be\u001B[39m\u001B[38;5;124m\"\u001B[39m,\n\u001B[0;32m    222\u001B[0m         \u001B[38;5;28mstr\u001B[39m(e),\n\u001B[0;32m    223\u001B[0m     )\n",
      "File \u001B[1;32m~\\AppData\\Local\\Programs\\Python\\Python311\\Lib\\site-packages\\sklearn\\model_selection\\_validation.py:714\u001B[0m, in \u001B[0;36mcross_val_score\u001B[1;34m(estimator, X, y, groups, scoring, cv, n_jobs, verbose, fit_params, params, pre_dispatch, error_score)\u001B[0m\n\u001B[0;32m    711\u001B[0m \u001B[38;5;66;03m# To ensure multimetric format is not supported\u001B[39;00m\n\u001B[0;32m    712\u001B[0m scorer \u001B[38;5;241m=\u001B[39m check_scoring(estimator, scoring\u001B[38;5;241m=\u001B[39mscoring)\n\u001B[1;32m--> 714\u001B[0m cv_results \u001B[38;5;241m=\u001B[39m \u001B[43mcross_validate\u001B[49m\u001B[43m(\u001B[49m\n\u001B[0;32m    715\u001B[0m \u001B[43m    \u001B[49m\u001B[43mestimator\u001B[49m\u001B[38;5;241;43m=\u001B[39;49m\u001B[43mestimator\u001B[49m\u001B[43m,\u001B[49m\n\u001B[0;32m    716\u001B[0m \u001B[43m    \u001B[49m\u001B[43mX\u001B[49m\u001B[38;5;241;43m=\u001B[39;49m\u001B[43mX\u001B[49m\u001B[43m,\u001B[49m\n\u001B[0;32m    717\u001B[0m \u001B[43m    \u001B[49m\u001B[43my\u001B[49m\u001B[38;5;241;43m=\u001B[39;49m\u001B[43my\u001B[49m\u001B[43m,\u001B[49m\n\u001B[0;32m    718\u001B[0m \u001B[43m    \u001B[49m\u001B[43mgroups\u001B[49m\u001B[38;5;241;43m=\u001B[39;49m\u001B[43mgroups\u001B[49m\u001B[43m,\u001B[49m\n\u001B[0;32m    719\u001B[0m \u001B[43m    \u001B[49m\u001B[43mscoring\u001B[49m\u001B[38;5;241;43m=\u001B[39;49m\u001B[43m{\u001B[49m\u001B[38;5;124;43m\"\u001B[39;49m\u001B[38;5;124;43mscore\u001B[39;49m\u001B[38;5;124;43m\"\u001B[39;49m\u001B[43m:\u001B[49m\u001B[43m \u001B[49m\u001B[43mscorer\u001B[49m\u001B[43m}\u001B[49m\u001B[43m,\u001B[49m\n\u001B[0;32m    720\u001B[0m \u001B[43m    \u001B[49m\u001B[43mcv\u001B[49m\u001B[38;5;241;43m=\u001B[39;49m\u001B[43mcv\u001B[49m\u001B[43m,\u001B[49m\n\u001B[0;32m    721\u001B[0m \u001B[43m    \u001B[49m\u001B[43mn_jobs\u001B[49m\u001B[38;5;241;43m=\u001B[39;49m\u001B[43mn_jobs\u001B[49m\u001B[43m,\u001B[49m\n\u001B[0;32m    722\u001B[0m \u001B[43m    \u001B[49m\u001B[43mverbose\u001B[49m\u001B[38;5;241;43m=\u001B[39;49m\u001B[43mverbose\u001B[49m\u001B[43m,\u001B[49m\n\u001B[0;32m    723\u001B[0m \u001B[43m    \u001B[49m\u001B[43mfit_params\u001B[49m\u001B[38;5;241;43m=\u001B[39;49m\u001B[43mfit_params\u001B[49m\u001B[43m,\u001B[49m\n\u001B[0;32m    724\u001B[0m \u001B[43m    \u001B[49m\u001B[43mparams\u001B[49m\u001B[38;5;241;43m=\u001B[39;49m\u001B[43mparams\u001B[49m\u001B[43m,\u001B[49m\n\u001B[0;32m    725\u001B[0m \u001B[43m    \u001B[49m\u001B[43mpre_dispatch\u001B[49m\u001B[38;5;241;43m=\u001B[39;49m\u001B[43mpre_dispatch\u001B[49m\u001B[43m,\u001B[49m\n\u001B[0;32m    726\u001B[0m \u001B[43m    \u001B[49m\u001B[43merror_score\u001B[49m\u001B[38;5;241;43m=\u001B[39;49m\u001B[43merror_score\u001B[49m\u001B[43m,\u001B[49m\n\u001B[0;32m    727\u001B[0m \u001B[43m\u001B[49m\u001B[43m)\u001B[49m\n\u001B[0;32m    728\u001B[0m \u001B[38;5;28;01mreturn\u001B[39;00m cv_results[\u001B[38;5;124m\"\u001B[39m\u001B[38;5;124mtest_score\u001B[39m\u001B[38;5;124m\"\u001B[39m]\n",
      "File \u001B[1;32m~\\AppData\\Local\\Programs\\Python\\Python311\\Lib\\site-packages\\sklearn\\utils\\_param_validation.py:213\u001B[0m, in \u001B[0;36mvalidate_params.<locals>.decorator.<locals>.wrapper\u001B[1;34m(*args, **kwargs)\u001B[0m\n\u001B[0;32m    207\u001B[0m \u001B[38;5;28;01mtry\u001B[39;00m:\n\u001B[0;32m    208\u001B[0m     \u001B[38;5;28;01mwith\u001B[39;00m config_context(\n\u001B[0;32m    209\u001B[0m         skip_parameter_validation\u001B[38;5;241m=\u001B[39m(\n\u001B[0;32m    210\u001B[0m             prefer_skip_nested_validation \u001B[38;5;129;01mor\u001B[39;00m global_skip_validation\n\u001B[0;32m    211\u001B[0m         )\n\u001B[0;32m    212\u001B[0m     ):\n\u001B[1;32m--> 213\u001B[0m         \u001B[38;5;28;01mreturn\u001B[39;00m \u001B[43mfunc\u001B[49m\u001B[43m(\u001B[49m\u001B[38;5;241;43m*\u001B[39;49m\u001B[43margs\u001B[49m\u001B[43m,\u001B[49m\u001B[43m \u001B[49m\u001B[38;5;241;43m*\u001B[39;49m\u001B[38;5;241;43m*\u001B[39;49m\u001B[43mkwargs\u001B[49m\u001B[43m)\u001B[49m\n\u001B[0;32m    214\u001B[0m \u001B[38;5;28;01mexcept\u001B[39;00m InvalidParameterError \u001B[38;5;28;01mas\u001B[39;00m e:\n\u001B[0;32m    215\u001B[0m     \u001B[38;5;66;03m# When the function is just a wrapper around an estimator, we allow\u001B[39;00m\n\u001B[0;32m    216\u001B[0m     \u001B[38;5;66;03m# the function to delegate validation to the estimator, but we replace\u001B[39;00m\n\u001B[0;32m    217\u001B[0m     \u001B[38;5;66;03m# the name of the estimator by the name of the function in the error\u001B[39;00m\n\u001B[0;32m    218\u001B[0m     \u001B[38;5;66;03m# message to avoid confusion.\u001B[39;00m\n\u001B[0;32m    219\u001B[0m     msg \u001B[38;5;241m=\u001B[39m re\u001B[38;5;241m.\u001B[39msub(\n\u001B[0;32m    220\u001B[0m         \u001B[38;5;124mr\u001B[39m\u001B[38;5;124m\"\u001B[39m\u001B[38;5;124mparameter of \u001B[39m\u001B[38;5;124m\\\u001B[39m\u001B[38;5;124mw+ must be\u001B[39m\u001B[38;5;124m\"\u001B[39m,\n\u001B[0;32m    221\u001B[0m         \u001B[38;5;124mf\u001B[39m\u001B[38;5;124m\"\u001B[39m\u001B[38;5;124mparameter of \u001B[39m\u001B[38;5;132;01m{\u001B[39;00mfunc\u001B[38;5;241m.\u001B[39m\u001B[38;5;18m__qualname__\u001B[39m\u001B[38;5;132;01m}\u001B[39;00m\u001B[38;5;124m must be\u001B[39m\u001B[38;5;124m\"\u001B[39m,\n\u001B[0;32m    222\u001B[0m         \u001B[38;5;28mstr\u001B[39m(e),\n\u001B[0;32m    223\u001B[0m     )\n",
      "File \u001B[1;32m~\\AppData\\Local\\Programs\\Python\\Python311\\Lib\\site-packages\\sklearn\\model_selection\\_validation.py:425\u001B[0m, in \u001B[0;36mcross_validate\u001B[1;34m(estimator, X, y, groups, scoring, cv, n_jobs, verbose, fit_params, params, pre_dispatch, return_train_score, return_estimator, return_indices, error_score)\u001B[0m\n\u001B[0;32m    422\u001B[0m \u001B[38;5;66;03m# We clone the estimator to make sure that all the folds are\u001B[39;00m\n\u001B[0;32m    423\u001B[0m \u001B[38;5;66;03m# independent, and that it is pickle-able.\u001B[39;00m\n\u001B[0;32m    424\u001B[0m parallel \u001B[38;5;241m=\u001B[39m Parallel(n_jobs\u001B[38;5;241m=\u001B[39mn_jobs, verbose\u001B[38;5;241m=\u001B[39mverbose, pre_dispatch\u001B[38;5;241m=\u001B[39mpre_dispatch)\n\u001B[1;32m--> 425\u001B[0m results \u001B[38;5;241m=\u001B[39m \u001B[43mparallel\u001B[49m\u001B[43m(\u001B[49m\n\u001B[0;32m    426\u001B[0m \u001B[43m    \u001B[49m\u001B[43mdelayed\u001B[49m\u001B[43m(\u001B[49m\u001B[43m_fit_and_score\u001B[49m\u001B[43m)\u001B[49m\u001B[43m(\u001B[49m\n\u001B[0;32m    427\u001B[0m \u001B[43m        \u001B[49m\u001B[43mclone\u001B[49m\u001B[43m(\u001B[49m\u001B[43mestimator\u001B[49m\u001B[43m)\u001B[49m\u001B[43m,\u001B[49m\n\u001B[0;32m    428\u001B[0m \u001B[43m        \u001B[49m\u001B[43mX\u001B[49m\u001B[43m,\u001B[49m\n\u001B[0;32m    429\u001B[0m \u001B[43m        \u001B[49m\u001B[43my\u001B[49m\u001B[43m,\u001B[49m\n\u001B[0;32m    430\u001B[0m \u001B[43m        \u001B[49m\u001B[43mscorer\u001B[49m\u001B[38;5;241;43m=\u001B[39;49m\u001B[43mscorers\u001B[49m\u001B[43m,\u001B[49m\n\u001B[0;32m    431\u001B[0m \u001B[43m        \u001B[49m\u001B[43mtrain\u001B[49m\u001B[38;5;241;43m=\u001B[39;49m\u001B[43mtrain\u001B[49m\u001B[43m,\u001B[49m\n\u001B[0;32m    432\u001B[0m \u001B[43m        \u001B[49m\u001B[43mtest\u001B[49m\u001B[38;5;241;43m=\u001B[39;49m\u001B[43mtest\u001B[49m\u001B[43m,\u001B[49m\n\u001B[0;32m    433\u001B[0m \u001B[43m        \u001B[49m\u001B[43mverbose\u001B[49m\u001B[38;5;241;43m=\u001B[39;49m\u001B[43mverbose\u001B[49m\u001B[43m,\u001B[49m\n\u001B[0;32m    434\u001B[0m \u001B[43m        \u001B[49m\u001B[43mparameters\u001B[49m\u001B[38;5;241;43m=\u001B[39;49m\u001B[38;5;28;43;01mNone\u001B[39;49;00m\u001B[43m,\u001B[49m\n\u001B[0;32m    435\u001B[0m \u001B[43m        \u001B[49m\u001B[43mfit_params\u001B[49m\u001B[38;5;241;43m=\u001B[39;49m\u001B[43mrouted_params\u001B[49m\u001B[38;5;241;43m.\u001B[39;49m\u001B[43mestimator\u001B[49m\u001B[38;5;241;43m.\u001B[39;49m\u001B[43mfit\u001B[49m\u001B[43m,\u001B[49m\n\u001B[0;32m    436\u001B[0m \u001B[43m        \u001B[49m\u001B[43mscore_params\u001B[49m\u001B[38;5;241;43m=\u001B[39;49m\u001B[43mrouted_params\u001B[49m\u001B[38;5;241;43m.\u001B[39;49m\u001B[43mscorer\u001B[49m\u001B[38;5;241;43m.\u001B[39;49m\u001B[43mscore\u001B[49m\u001B[43m,\u001B[49m\n\u001B[0;32m    437\u001B[0m \u001B[43m        \u001B[49m\u001B[43mreturn_train_score\u001B[49m\u001B[38;5;241;43m=\u001B[39;49m\u001B[43mreturn_train_score\u001B[49m\u001B[43m,\u001B[49m\n\u001B[0;32m    438\u001B[0m \u001B[43m        \u001B[49m\u001B[43mreturn_times\u001B[49m\u001B[38;5;241;43m=\u001B[39;49m\u001B[38;5;28;43;01mTrue\u001B[39;49;00m\u001B[43m,\u001B[49m\n\u001B[0;32m    439\u001B[0m \u001B[43m        \u001B[49m\u001B[43mreturn_estimator\u001B[49m\u001B[38;5;241;43m=\u001B[39;49m\u001B[43mreturn_estimator\u001B[49m\u001B[43m,\u001B[49m\n\u001B[0;32m    440\u001B[0m \u001B[43m        \u001B[49m\u001B[43merror_score\u001B[49m\u001B[38;5;241;43m=\u001B[39;49m\u001B[43merror_score\u001B[49m\u001B[43m,\u001B[49m\n\u001B[0;32m    441\u001B[0m \u001B[43m    \u001B[49m\u001B[43m)\u001B[49m\n\u001B[0;32m    442\u001B[0m \u001B[43m    \u001B[49m\u001B[38;5;28;43;01mfor\u001B[39;49;00m\u001B[43m \u001B[49m\u001B[43mtrain\u001B[49m\u001B[43m,\u001B[49m\u001B[43m \u001B[49m\u001B[43mtest\u001B[49m\u001B[43m \u001B[49m\u001B[38;5;129;43;01min\u001B[39;49;00m\u001B[43m \u001B[49m\u001B[43mindices\u001B[49m\n\u001B[0;32m    443\u001B[0m \u001B[43m\u001B[49m\u001B[43m)\u001B[49m\n\u001B[0;32m    445\u001B[0m _warn_or_raise_about_fit_failures(results, error_score)\n\u001B[0;32m    447\u001B[0m \u001B[38;5;66;03m# For callable scoring, the return type is only know after calling. If the\u001B[39;00m\n\u001B[0;32m    448\u001B[0m \u001B[38;5;66;03m# return type is a dictionary, the error scores can now be inserted with\u001B[39;00m\n\u001B[0;32m    449\u001B[0m \u001B[38;5;66;03m# the correct key.\u001B[39;00m\n",
      "File \u001B[1;32m~\\AppData\\Local\\Programs\\Python\\Python311\\Lib\\site-packages\\sklearn\\utils\\parallel.py:67\u001B[0m, in \u001B[0;36mParallel.__call__\u001B[1;34m(self, iterable)\u001B[0m\n\u001B[0;32m     62\u001B[0m config \u001B[38;5;241m=\u001B[39m get_config()\n\u001B[0;32m     63\u001B[0m iterable_with_config \u001B[38;5;241m=\u001B[39m (\n\u001B[0;32m     64\u001B[0m     (_with_config(delayed_func, config), args, kwargs)\n\u001B[0;32m     65\u001B[0m     \u001B[38;5;28;01mfor\u001B[39;00m delayed_func, args, kwargs \u001B[38;5;129;01min\u001B[39;00m iterable\n\u001B[0;32m     66\u001B[0m )\n\u001B[1;32m---> 67\u001B[0m \u001B[38;5;28;01mreturn\u001B[39;00m \u001B[38;5;28;43msuper\u001B[39;49m\u001B[43m(\u001B[49m\u001B[43m)\u001B[49m\u001B[38;5;241;43m.\u001B[39;49m\u001B[38;5;21;43m__call__\u001B[39;49m\u001B[43m(\u001B[49m\u001B[43miterable_with_config\u001B[49m\u001B[43m)\u001B[49m\n",
      "File \u001B[1;32m~\\AppData\\Local\\Programs\\Python\\Python311\\Lib\\site-packages\\joblib\\parallel.py:1863\u001B[0m, in \u001B[0;36mParallel.__call__\u001B[1;34m(self, iterable)\u001B[0m\n\u001B[0;32m   1861\u001B[0m     output \u001B[38;5;241m=\u001B[39m \u001B[38;5;28mself\u001B[39m\u001B[38;5;241m.\u001B[39m_get_sequential_output(iterable)\n\u001B[0;32m   1862\u001B[0m     \u001B[38;5;28mnext\u001B[39m(output)\n\u001B[1;32m-> 1863\u001B[0m     \u001B[38;5;28;01mreturn\u001B[39;00m output \u001B[38;5;28;01mif\u001B[39;00m \u001B[38;5;28mself\u001B[39m\u001B[38;5;241m.\u001B[39mreturn_generator \u001B[38;5;28;01melse\u001B[39;00m \u001B[38;5;28;43mlist\u001B[39;49m\u001B[43m(\u001B[49m\u001B[43moutput\u001B[49m\u001B[43m)\u001B[49m\n\u001B[0;32m   1865\u001B[0m \u001B[38;5;66;03m# Let's create an ID that uniquely identifies the current call. If the\u001B[39;00m\n\u001B[0;32m   1866\u001B[0m \u001B[38;5;66;03m# call is interrupted early and that the same instance is immediately\u001B[39;00m\n\u001B[0;32m   1867\u001B[0m \u001B[38;5;66;03m# re-used, this id will be used to prevent workers that were\u001B[39;00m\n\u001B[0;32m   1868\u001B[0m \u001B[38;5;66;03m# concurrently finalizing a task from the previous call to run the\u001B[39;00m\n\u001B[0;32m   1869\u001B[0m \u001B[38;5;66;03m# callback.\u001B[39;00m\n\u001B[0;32m   1870\u001B[0m \u001B[38;5;28;01mwith\u001B[39;00m \u001B[38;5;28mself\u001B[39m\u001B[38;5;241m.\u001B[39m_lock:\n",
      "File \u001B[1;32m~\\AppData\\Local\\Programs\\Python\\Python311\\Lib\\site-packages\\joblib\\parallel.py:1792\u001B[0m, in \u001B[0;36mParallel._get_sequential_output\u001B[1;34m(self, iterable)\u001B[0m\n\u001B[0;32m   1790\u001B[0m \u001B[38;5;28mself\u001B[39m\u001B[38;5;241m.\u001B[39mn_dispatched_batches \u001B[38;5;241m+\u001B[39m\u001B[38;5;241m=\u001B[39m \u001B[38;5;241m1\u001B[39m\n\u001B[0;32m   1791\u001B[0m \u001B[38;5;28mself\u001B[39m\u001B[38;5;241m.\u001B[39mn_dispatched_tasks \u001B[38;5;241m+\u001B[39m\u001B[38;5;241m=\u001B[39m \u001B[38;5;241m1\u001B[39m\n\u001B[1;32m-> 1792\u001B[0m res \u001B[38;5;241m=\u001B[39m \u001B[43mfunc\u001B[49m\u001B[43m(\u001B[49m\u001B[38;5;241;43m*\u001B[39;49m\u001B[43margs\u001B[49m\u001B[43m,\u001B[49m\u001B[43m \u001B[49m\u001B[38;5;241;43m*\u001B[39;49m\u001B[38;5;241;43m*\u001B[39;49m\u001B[43mkwargs\u001B[49m\u001B[43m)\u001B[49m\n\u001B[0;32m   1793\u001B[0m \u001B[38;5;28mself\u001B[39m\u001B[38;5;241m.\u001B[39mn_completed_tasks \u001B[38;5;241m+\u001B[39m\u001B[38;5;241m=\u001B[39m \u001B[38;5;241m1\u001B[39m\n\u001B[0;32m   1794\u001B[0m \u001B[38;5;28mself\u001B[39m\u001B[38;5;241m.\u001B[39mprint_progress()\n",
      "File \u001B[1;32m~\\AppData\\Local\\Programs\\Python\\Python311\\Lib\\site-packages\\sklearn\\utils\\parallel.py:129\u001B[0m, in \u001B[0;36m_FuncWrapper.__call__\u001B[1;34m(self, *args, **kwargs)\u001B[0m\n\u001B[0;32m    127\u001B[0m     config \u001B[38;5;241m=\u001B[39m {}\n\u001B[0;32m    128\u001B[0m \u001B[38;5;28;01mwith\u001B[39;00m config_context(\u001B[38;5;241m*\u001B[39m\u001B[38;5;241m*\u001B[39mconfig):\n\u001B[1;32m--> 129\u001B[0m     \u001B[38;5;28;01mreturn\u001B[39;00m \u001B[38;5;28;43mself\u001B[39;49m\u001B[38;5;241;43m.\u001B[39;49m\u001B[43mfunction\u001B[49m\u001B[43m(\u001B[49m\u001B[38;5;241;43m*\u001B[39;49m\u001B[43margs\u001B[49m\u001B[43m,\u001B[49m\u001B[43m \u001B[49m\u001B[38;5;241;43m*\u001B[39;49m\u001B[38;5;241;43m*\u001B[39;49m\u001B[43mkwargs\u001B[49m\u001B[43m)\u001B[49m\n",
      "File \u001B[1;32m~\\AppData\\Local\\Programs\\Python\\Python311\\Lib\\site-packages\\sklearn\\model_selection\\_validation.py:890\u001B[0m, in \u001B[0;36m_fit_and_score\u001B[1;34m(estimator, X, y, scorer, train, test, verbose, parameters, fit_params, score_params, return_train_score, return_parameters, return_n_test_samples, return_times, return_estimator, split_progress, candidate_progress, error_score)\u001B[0m\n\u001B[0;32m    888\u001B[0m         estimator\u001B[38;5;241m.\u001B[39mfit(X_train, \u001B[38;5;241m*\u001B[39m\u001B[38;5;241m*\u001B[39mfit_params)\n\u001B[0;32m    889\u001B[0m     \u001B[38;5;28;01melse\u001B[39;00m:\n\u001B[1;32m--> 890\u001B[0m         \u001B[43mestimator\u001B[49m\u001B[38;5;241;43m.\u001B[39;49m\u001B[43mfit\u001B[49m\u001B[43m(\u001B[49m\u001B[43mX_train\u001B[49m\u001B[43m,\u001B[49m\u001B[43m \u001B[49m\u001B[43my_train\u001B[49m\u001B[43m,\u001B[49m\u001B[43m \u001B[49m\u001B[38;5;241;43m*\u001B[39;49m\u001B[38;5;241;43m*\u001B[39;49m\u001B[43mfit_params\u001B[49m\u001B[43m)\u001B[49m\n\u001B[0;32m    892\u001B[0m \u001B[38;5;28;01mexcept\u001B[39;00m \u001B[38;5;167;01mException\u001B[39;00m:\n\u001B[0;32m    893\u001B[0m     \u001B[38;5;66;03m# Note fit time as time until error\u001B[39;00m\n\u001B[0;32m    894\u001B[0m     fit_time \u001B[38;5;241m=\u001B[39m time\u001B[38;5;241m.\u001B[39mtime() \u001B[38;5;241m-\u001B[39m start_time\n",
      "File \u001B[1;32m~\\AppData\\Local\\Programs\\Python\\Python311\\Lib\\site-packages\\sklearn\\base.py:1351\u001B[0m, in \u001B[0;36m_fit_context.<locals>.decorator.<locals>.wrapper\u001B[1;34m(estimator, *args, **kwargs)\u001B[0m\n\u001B[0;32m   1344\u001B[0m     estimator\u001B[38;5;241m.\u001B[39m_validate_params()\n\u001B[0;32m   1346\u001B[0m \u001B[38;5;28;01mwith\u001B[39;00m config_context(\n\u001B[0;32m   1347\u001B[0m     skip_parameter_validation\u001B[38;5;241m=\u001B[39m(\n\u001B[0;32m   1348\u001B[0m         prefer_skip_nested_validation \u001B[38;5;129;01mor\u001B[39;00m global_skip_validation\n\u001B[0;32m   1349\u001B[0m     )\n\u001B[0;32m   1350\u001B[0m ):\n\u001B[1;32m-> 1351\u001B[0m     \u001B[38;5;28;01mreturn\u001B[39;00m \u001B[43mfit_method\u001B[49m\u001B[43m(\u001B[49m\u001B[43mestimator\u001B[49m\u001B[43m,\u001B[49m\u001B[43m \u001B[49m\u001B[38;5;241;43m*\u001B[39;49m\u001B[43margs\u001B[49m\u001B[43m,\u001B[49m\u001B[43m \u001B[49m\u001B[38;5;241;43m*\u001B[39;49m\u001B[38;5;241;43m*\u001B[39;49m\u001B[43mkwargs\u001B[49m\u001B[43m)\u001B[49m\n",
      "File \u001B[1;32m~\\AppData\\Local\\Programs\\Python\\Python311\\Lib\\site-packages\\sklearn\\linear_model\\_logistic.py:1296\u001B[0m, in \u001B[0;36mLogisticRegression.fit\u001B[1;34m(self, X, y, sample_weight)\u001B[0m\n\u001B[0;32m   1293\u001B[0m \u001B[38;5;28;01melse\u001B[39;00m:\n\u001B[0;32m   1294\u001B[0m     n_threads \u001B[38;5;241m=\u001B[39m \u001B[38;5;241m1\u001B[39m\n\u001B[1;32m-> 1296\u001B[0m fold_coefs_ \u001B[38;5;241m=\u001B[39m \u001B[43mParallel\u001B[49m\u001B[43m(\u001B[49m\u001B[43mn_jobs\u001B[49m\u001B[38;5;241;43m=\u001B[39;49m\u001B[38;5;28;43mself\u001B[39;49m\u001B[38;5;241;43m.\u001B[39;49m\u001B[43mn_jobs\u001B[49m\u001B[43m,\u001B[49m\u001B[43m \u001B[49m\u001B[43mverbose\u001B[49m\u001B[38;5;241;43m=\u001B[39;49m\u001B[38;5;28;43mself\u001B[39;49m\u001B[38;5;241;43m.\u001B[39;49m\u001B[43mverbose\u001B[49m\u001B[43m,\u001B[49m\u001B[43m \u001B[49m\u001B[43mprefer\u001B[49m\u001B[38;5;241;43m=\u001B[39;49m\u001B[43mprefer\u001B[49m\u001B[43m)\u001B[49m\u001B[43m(\u001B[49m\n\u001B[0;32m   1297\u001B[0m \u001B[43m    \u001B[49m\u001B[43mpath_func\u001B[49m\u001B[43m(\u001B[49m\n\u001B[0;32m   1298\u001B[0m \u001B[43m        \u001B[49m\u001B[43mX\u001B[49m\u001B[43m,\u001B[49m\n\u001B[0;32m   1299\u001B[0m \u001B[43m        \u001B[49m\u001B[43my\u001B[49m\u001B[43m,\u001B[49m\n\u001B[0;32m   1300\u001B[0m \u001B[43m        \u001B[49m\u001B[43mpos_class\u001B[49m\u001B[38;5;241;43m=\u001B[39;49m\u001B[43mclass_\u001B[49m\u001B[43m,\u001B[49m\n\u001B[0;32m   1301\u001B[0m \u001B[43m        \u001B[49m\u001B[43mCs\u001B[49m\u001B[38;5;241;43m=\u001B[39;49m\u001B[43m[\u001B[49m\u001B[43mC_\u001B[49m\u001B[43m]\u001B[49m\u001B[43m,\u001B[49m\n\u001B[0;32m   1302\u001B[0m \u001B[43m        \u001B[49m\u001B[43ml1_ratio\u001B[49m\u001B[38;5;241;43m=\u001B[39;49m\u001B[38;5;28;43mself\u001B[39;49m\u001B[38;5;241;43m.\u001B[39;49m\u001B[43ml1_ratio\u001B[49m\u001B[43m,\u001B[49m\n\u001B[0;32m   1303\u001B[0m \u001B[43m        \u001B[49m\u001B[43mfit_intercept\u001B[49m\u001B[38;5;241;43m=\u001B[39;49m\u001B[38;5;28;43mself\u001B[39;49m\u001B[38;5;241;43m.\u001B[39;49m\u001B[43mfit_intercept\u001B[49m\u001B[43m,\u001B[49m\n\u001B[0;32m   1304\u001B[0m \u001B[43m        \u001B[49m\u001B[43mtol\u001B[49m\u001B[38;5;241;43m=\u001B[39;49m\u001B[38;5;28;43mself\u001B[39;49m\u001B[38;5;241;43m.\u001B[39;49m\u001B[43mtol\u001B[49m\u001B[43m,\u001B[49m\n\u001B[0;32m   1305\u001B[0m \u001B[43m        \u001B[49m\u001B[43mverbose\u001B[49m\u001B[38;5;241;43m=\u001B[39;49m\u001B[38;5;28;43mself\u001B[39;49m\u001B[38;5;241;43m.\u001B[39;49m\u001B[43mverbose\u001B[49m\u001B[43m,\u001B[49m\n\u001B[0;32m   1306\u001B[0m \u001B[43m        \u001B[49m\u001B[43msolver\u001B[49m\u001B[38;5;241;43m=\u001B[39;49m\u001B[43msolver\u001B[49m\u001B[43m,\u001B[49m\n\u001B[0;32m   1307\u001B[0m \u001B[43m        \u001B[49m\u001B[43mmulti_class\u001B[49m\u001B[38;5;241;43m=\u001B[39;49m\u001B[43mmulti_class\u001B[49m\u001B[43m,\u001B[49m\n\u001B[0;32m   1308\u001B[0m \u001B[43m        \u001B[49m\u001B[43mmax_iter\u001B[49m\u001B[38;5;241;43m=\u001B[39;49m\u001B[38;5;28;43mself\u001B[39;49m\u001B[38;5;241;43m.\u001B[39;49m\u001B[43mmax_iter\u001B[49m\u001B[43m,\u001B[49m\n\u001B[0;32m   1309\u001B[0m \u001B[43m        \u001B[49m\u001B[43mclass_weight\u001B[49m\u001B[38;5;241;43m=\u001B[39;49m\u001B[38;5;28;43mself\u001B[39;49m\u001B[38;5;241;43m.\u001B[39;49m\u001B[43mclass_weight\u001B[49m\u001B[43m,\u001B[49m\n\u001B[0;32m   1310\u001B[0m \u001B[43m        \u001B[49m\u001B[43mcheck_input\u001B[49m\u001B[38;5;241;43m=\u001B[39;49m\u001B[38;5;28;43;01mFalse\u001B[39;49;00m\u001B[43m,\u001B[49m\n\u001B[0;32m   1311\u001B[0m \u001B[43m        \u001B[49m\u001B[43mrandom_state\u001B[49m\u001B[38;5;241;43m=\u001B[39;49m\u001B[38;5;28;43mself\u001B[39;49m\u001B[38;5;241;43m.\u001B[39;49m\u001B[43mrandom_state\u001B[49m\u001B[43m,\u001B[49m\n\u001B[0;32m   1312\u001B[0m \u001B[43m        \u001B[49m\u001B[43mcoef\u001B[49m\u001B[38;5;241;43m=\u001B[39;49m\u001B[43mwarm_start_coef_\u001B[49m\u001B[43m,\u001B[49m\n\u001B[0;32m   1313\u001B[0m \u001B[43m        \u001B[49m\u001B[43mpenalty\u001B[49m\u001B[38;5;241;43m=\u001B[39;49m\u001B[43mpenalty\u001B[49m\u001B[43m,\u001B[49m\n\u001B[0;32m   1314\u001B[0m \u001B[43m        \u001B[49m\u001B[43mmax_squared_sum\u001B[49m\u001B[38;5;241;43m=\u001B[39;49m\u001B[43mmax_squared_sum\u001B[49m\u001B[43m,\u001B[49m\n\u001B[0;32m   1315\u001B[0m \u001B[43m        \u001B[49m\u001B[43msample_weight\u001B[49m\u001B[38;5;241;43m=\u001B[39;49m\u001B[43msample_weight\u001B[49m\u001B[43m,\u001B[49m\n\u001B[0;32m   1316\u001B[0m \u001B[43m        \u001B[49m\u001B[43mn_threads\u001B[49m\u001B[38;5;241;43m=\u001B[39;49m\u001B[43mn_threads\u001B[49m\u001B[43m,\u001B[49m\n\u001B[0;32m   1317\u001B[0m \u001B[43m    \u001B[49m\u001B[43m)\u001B[49m\n\u001B[0;32m   1318\u001B[0m \u001B[43m    \u001B[49m\u001B[38;5;28;43;01mfor\u001B[39;49;00m\u001B[43m \u001B[49m\u001B[43mclass_\u001B[49m\u001B[43m,\u001B[49m\u001B[43m \u001B[49m\u001B[43mwarm_start_coef_\u001B[49m\u001B[43m \u001B[49m\u001B[38;5;129;43;01min\u001B[39;49;00m\u001B[43m \u001B[49m\u001B[38;5;28;43mzip\u001B[39;49m\u001B[43m(\u001B[49m\u001B[43mclasses_\u001B[49m\u001B[43m,\u001B[49m\u001B[43m \u001B[49m\u001B[43mwarm_start_coef\u001B[49m\u001B[43m)\u001B[49m\n\u001B[0;32m   1319\u001B[0m \u001B[43m\u001B[49m\u001B[43m)\u001B[49m\n\u001B[0;32m   1321\u001B[0m fold_coefs_, _, n_iter_ \u001B[38;5;241m=\u001B[39m \u001B[38;5;28mzip\u001B[39m(\u001B[38;5;241m*\u001B[39mfold_coefs_)\n\u001B[0;32m   1322\u001B[0m \u001B[38;5;28mself\u001B[39m\u001B[38;5;241m.\u001B[39mn_iter_ \u001B[38;5;241m=\u001B[39m np\u001B[38;5;241m.\u001B[39masarray(n_iter_, dtype\u001B[38;5;241m=\u001B[39mnp\u001B[38;5;241m.\u001B[39mint32)[:, \u001B[38;5;241m0\u001B[39m]\n",
      "File \u001B[1;32m~\\AppData\\Local\\Programs\\Python\\Python311\\Lib\\site-packages\\sklearn\\utils\\parallel.py:67\u001B[0m, in \u001B[0;36mParallel.__call__\u001B[1;34m(self, iterable)\u001B[0m\n\u001B[0;32m     62\u001B[0m config \u001B[38;5;241m=\u001B[39m get_config()\n\u001B[0;32m     63\u001B[0m iterable_with_config \u001B[38;5;241m=\u001B[39m (\n\u001B[0;32m     64\u001B[0m     (_with_config(delayed_func, config), args, kwargs)\n\u001B[0;32m     65\u001B[0m     \u001B[38;5;28;01mfor\u001B[39;00m delayed_func, args, kwargs \u001B[38;5;129;01min\u001B[39;00m iterable\n\u001B[0;32m     66\u001B[0m )\n\u001B[1;32m---> 67\u001B[0m \u001B[38;5;28;01mreturn\u001B[39;00m \u001B[38;5;28;43msuper\u001B[39;49m\u001B[43m(\u001B[49m\u001B[43m)\u001B[49m\u001B[38;5;241;43m.\u001B[39;49m\u001B[38;5;21;43m__call__\u001B[39;49m\u001B[43m(\u001B[49m\u001B[43miterable_with_config\u001B[49m\u001B[43m)\u001B[49m\n",
      "File \u001B[1;32m~\\AppData\\Local\\Programs\\Python\\Python311\\Lib\\site-packages\\joblib\\parallel.py:1952\u001B[0m, in \u001B[0;36mParallel.__call__\u001B[1;34m(self, iterable)\u001B[0m\n\u001B[0;32m   1946\u001B[0m \u001B[38;5;66;03m# The first item from the output is blank, but it makes the interpreter\u001B[39;00m\n\u001B[0;32m   1947\u001B[0m \u001B[38;5;66;03m# progress until it enters the Try/Except block of the generator and\u001B[39;00m\n\u001B[0;32m   1948\u001B[0m \u001B[38;5;66;03m# reach the first `yield` statement. This starts the aynchronous\u001B[39;00m\n\u001B[0;32m   1949\u001B[0m \u001B[38;5;66;03m# dispatch of the tasks to the workers.\u001B[39;00m\n\u001B[0;32m   1950\u001B[0m \u001B[38;5;28mnext\u001B[39m(output)\n\u001B[1;32m-> 1952\u001B[0m \u001B[38;5;28;01mreturn\u001B[39;00m output \u001B[38;5;28;01mif\u001B[39;00m \u001B[38;5;28mself\u001B[39m\u001B[38;5;241m.\u001B[39mreturn_generator \u001B[38;5;28;01melse\u001B[39;00m \u001B[38;5;28;43mlist\u001B[39;49m\u001B[43m(\u001B[49m\u001B[43moutput\u001B[49m\u001B[43m)\u001B[49m\n",
      "File \u001B[1;32m~\\AppData\\Local\\Programs\\Python\\Python311\\Lib\\site-packages\\joblib\\parallel.py:1595\u001B[0m, in \u001B[0;36mParallel._get_outputs\u001B[1;34m(self, iterator, pre_dispatch)\u001B[0m\n\u001B[0;32m   1592\u001B[0m     \u001B[38;5;28;01myield\u001B[39;00m\n\u001B[0;32m   1594\u001B[0m     \u001B[38;5;28;01mwith\u001B[39;00m \u001B[38;5;28mself\u001B[39m\u001B[38;5;241m.\u001B[39m_backend\u001B[38;5;241m.\u001B[39mretrieval_context():\n\u001B[1;32m-> 1595\u001B[0m         \u001B[38;5;28;01myield from\u001B[39;00m \u001B[38;5;28mself\u001B[39m\u001B[38;5;241m.\u001B[39m_retrieve()\n\u001B[0;32m   1597\u001B[0m \u001B[38;5;28;01mexcept\u001B[39;00m \u001B[38;5;167;01mGeneratorExit\u001B[39;00m:\n\u001B[0;32m   1598\u001B[0m     \u001B[38;5;66;03m# The generator has been garbage collected before being fully\u001B[39;00m\n\u001B[0;32m   1599\u001B[0m     \u001B[38;5;66;03m# consumed. This aborts the remaining tasks if possible and warn\u001B[39;00m\n\u001B[0;32m   1600\u001B[0m     \u001B[38;5;66;03m# the user if necessary.\u001B[39;00m\n\u001B[0;32m   1601\u001B[0m     \u001B[38;5;28mself\u001B[39m\u001B[38;5;241m.\u001B[39m_exception \u001B[38;5;241m=\u001B[39m \u001B[38;5;28;01mTrue\u001B[39;00m\n",
      "File \u001B[1;32m~\\AppData\\Local\\Programs\\Python\\Python311\\Lib\\site-packages\\joblib\\parallel.py:1707\u001B[0m, in \u001B[0;36mParallel._retrieve\u001B[1;34m(self)\u001B[0m\n\u001B[0;32m   1702\u001B[0m \u001B[38;5;66;03m# If the next job is not ready for retrieval yet, we just wait for\u001B[39;00m\n\u001B[0;32m   1703\u001B[0m \u001B[38;5;66;03m# async callbacks to progress.\u001B[39;00m\n\u001B[0;32m   1704\u001B[0m \u001B[38;5;28;01mif\u001B[39;00m ((\u001B[38;5;28mlen\u001B[39m(\u001B[38;5;28mself\u001B[39m\u001B[38;5;241m.\u001B[39m_jobs) \u001B[38;5;241m==\u001B[39m \u001B[38;5;241m0\u001B[39m) \u001B[38;5;129;01mor\u001B[39;00m\n\u001B[0;32m   1705\u001B[0m     (\u001B[38;5;28mself\u001B[39m\u001B[38;5;241m.\u001B[39m_jobs[\u001B[38;5;241m0\u001B[39m]\u001B[38;5;241m.\u001B[39mget_status(\n\u001B[0;32m   1706\u001B[0m         timeout\u001B[38;5;241m=\u001B[39m\u001B[38;5;28mself\u001B[39m\u001B[38;5;241m.\u001B[39mtimeout) \u001B[38;5;241m==\u001B[39m TASK_PENDING)):\n\u001B[1;32m-> 1707\u001B[0m     time\u001B[38;5;241m.\u001B[39msleep(\u001B[38;5;241m0.01\u001B[39m)\n\u001B[0;32m   1708\u001B[0m     \u001B[38;5;28;01mcontinue\u001B[39;00m\n\u001B[0;32m   1710\u001B[0m \u001B[38;5;66;03m# We need to be careful: the job list can be filling up as\u001B[39;00m\n\u001B[0;32m   1711\u001B[0m \u001B[38;5;66;03m# we empty it and Python list are not thread-safe by\u001B[39;00m\n\u001B[0;32m   1712\u001B[0m \u001B[38;5;66;03m# default hence the use of the lock\u001B[39;00m\n",
      "\u001B[1;31mKeyboardInterrupt\u001B[0m: "
     ]
    }
   ],
   "source": [
    "from sklearn.model_selection import cross_val_score\n",
    "import optuna\n",
    "\n",
    "\n",
    "def objective(trial):\n",
    "    # Define the hyperparameters to tune\n",
    "    multi_class = trial.suggest_categorical('multi_class', ['ovr', 'multinomial'])\n",
    "    C = trial.suggest_float('C', 1e-4, 1e4, log=True)\n",
    "\n",
    "    # Create logistic regression model with suggested hyperparameters\n",
    "    model = LogisticRegression(C=C, random_state=22, max_iter=1000, multi_class=multi_class , n_jobs=-1)\n",
    "    # Perform cross-validation and return the mean score\n",
    "    score = cross_val_score(model, X, y, scoring='accuracy')\n",
    "    return score.mean()\n",
    "\n",
    "\n",
    "# Create a study object and specify the optimization direction\n",
    "study = optuna.create_study(direction='maximize')\n",
    "study.optimize(objective, n_trials=100)  # You can adjust the number of trials\n",
    "\n",
    "# Output the best hyperparameters\n",
    "print('Best trial:', study.best_trial.params)"
   ],
   "metadata": {
    "collapsed": false,
    "ExecuteTime": {
     "end_time": "2024-02-24T00:12:53.170361100Z",
     "start_time": "2024-02-24T00:12:49.842999700Z"
    }
   },
   "id": "9e76682b23c63239",
   "execution_count": 16
  },
  {
   "cell_type": "markdown",
   "source": [
    "### Multi-class SVM\n",
    "\n",
    "Let's now train a multi-class SVM model on the embeddings and the class."
   ],
   "metadata": {
    "collapsed": false
   },
   "id": "e86e3dc9de132389"
  },
  {
   "cell_type": "code",
   "outputs": [
    {
     "data": {
      "text/plain": "SVC(C=0.7524791632787694, kernel='linear', random_state=22)",
      "text/html": "<style>#sk-container-id-6 {\n  /* Definition of color scheme common for light and dark mode */\n  --sklearn-color-text: black;\n  --sklearn-color-line: gray;\n  /* Definition of color scheme for unfitted estimators */\n  --sklearn-color-unfitted-level-0: #fff5e6;\n  --sklearn-color-unfitted-level-1: #f6e4d2;\n  --sklearn-color-unfitted-level-2: #ffe0b3;\n  --sklearn-color-unfitted-level-3: chocolate;\n  /* Definition of color scheme for fitted estimators */\n  --sklearn-color-fitted-level-0: #f0f8ff;\n  --sklearn-color-fitted-level-1: #d4ebff;\n  --sklearn-color-fitted-level-2: #b3dbfd;\n  --sklearn-color-fitted-level-3: cornflowerblue;\n\n  /* Specific color for light theme */\n  --sklearn-color-text-on-default-background: var(--sg-text-color, var(--theme-code-foreground, var(--jp-content-font-color1, black)));\n  --sklearn-color-background: var(--sg-background-color, var(--theme-background, var(--jp-layout-color0, white)));\n  --sklearn-color-border-box: var(--sg-text-color, var(--theme-code-foreground, var(--jp-content-font-color1, black)));\n  --sklearn-color-icon: #696969;\n\n  @media (prefers-color-scheme: dark) {\n    /* Redefinition of color scheme for dark theme */\n    --sklearn-color-text-on-default-background: var(--sg-text-color, var(--theme-code-foreground, var(--jp-content-font-color1, white)));\n    --sklearn-color-background: var(--sg-background-color, var(--theme-background, var(--jp-layout-color0, #111)));\n    --sklearn-color-border-box: var(--sg-text-color, var(--theme-code-foreground, var(--jp-content-font-color1, white)));\n    --sklearn-color-icon: #878787;\n  }\n}\n\n#sk-container-id-6 {\n  color: var(--sklearn-color-text);\n}\n\n#sk-container-id-6 pre {\n  padding: 0;\n}\n\n#sk-container-id-6 input.sk-hidden--visually {\n  border: 0;\n  clip: rect(1px 1px 1px 1px);\n  clip: rect(1px, 1px, 1px, 1px);\n  height: 1px;\n  margin: -1px;\n  overflow: hidden;\n  padding: 0;\n  position: absolute;\n  width: 1px;\n}\n\n#sk-container-id-6 div.sk-dashed-wrapped {\n  border: 1px dashed var(--sklearn-color-line);\n  margin: 0 0.4em 0.5em 0.4em;\n  box-sizing: border-box;\n  padding-bottom: 0.4em;\n  background-color: var(--sklearn-color-background);\n}\n\n#sk-container-id-6 div.sk-container {\n  /* jupyter's `normalize.less` sets `[hidden] { display: none; }`\n     but bootstrap.min.css set `[hidden] { display: none !important; }`\n     so we also need the `!important` here to be able to override the\n     default hidden behavior on the sphinx rendered scikit-learn.org.\n     See: https://github.com/scikit-learn/scikit-learn/issues/21755 */\n  display: inline-block !important;\n  position: relative;\n}\n\n#sk-container-id-6 div.sk-text-repr-fallback {\n  display: none;\n}\n\ndiv.sk-parallel-item,\ndiv.sk-serial,\ndiv.sk-item {\n  /* draw centered vertical line to link estimators */\n  background-image: linear-gradient(var(--sklearn-color-text-on-default-background), var(--sklearn-color-text-on-default-background));\n  background-size: 2px 100%;\n  background-repeat: no-repeat;\n  background-position: center center;\n}\n\n/* Parallel-specific style estimator block */\n\n#sk-container-id-6 div.sk-parallel-item::after {\n  content: \"\";\n  width: 100%;\n  border-bottom: 2px solid var(--sklearn-color-text-on-default-background);\n  flex-grow: 1;\n}\n\n#sk-container-id-6 div.sk-parallel {\n  display: flex;\n  align-items: stretch;\n  justify-content: center;\n  background-color: var(--sklearn-color-background);\n  position: relative;\n}\n\n#sk-container-id-6 div.sk-parallel-item {\n  display: flex;\n  flex-direction: column;\n}\n\n#sk-container-id-6 div.sk-parallel-item:first-child::after {\n  align-self: flex-end;\n  width: 50%;\n}\n\n#sk-container-id-6 div.sk-parallel-item:last-child::after {\n  align-self: flex-start;\n  width: 50%;\n}\n\n#sk-container-id-6 div.sk-parallel-item:only-child::after {\n  width: 0;\n}\n\n/* Serial-specific style estimator block */\n\n#sk-container-id-6 div.sk-serial {\n  display: flex;\n  flex-direction: column;\n  align-items: center;\n  background-color: var(--sklearn-color-background);\n  padding-right: 1em;\n  padding-left: 1em;\n}\n\n\n/* Toggleable style: style used for estimator/Pipeline/ColumnTransformer box that is\nclickable and can be expanded/collapsed.\n- Pipeline and ColumnTransformer use this feature and define the default style\n- Estimators will overwrite some part of the style using the `sk-estimator` class\n*/\n\n/* Pipeline and ColumnTransformer style (default) */\n\n#sk-container-id-6 div.sk-toggleable {\n  /* Default theme specific background. It is overwritten whether we have a\n  specific estimator or a Pipeline/ColumnTransformer */\n  background-color: var(--sklearn-color-background);\n}\n\n/* Toggleable label */\n#sk-container-id-6 label.sk-toggleable__label {\n  cursor: pointer;\n  display: block;\n  width: 100%;\n  margin-bottom: 0;\n  padding: 0.5em;\n  box-sizing: border-box;\n  text-align: center;\n}\n\n#sk-container-id-6 label.sk-toggleable__label-arrow:before {\n  /* Arrow on the left of the label */\n  content: \"▸\";\n  float: left;\n  margin-right: 0.25em;\n  color: var(--sklearn-color-icon);\n}\n\n#sk-container-id-6 label.sk-toggleable__label-arrow:hover:before {\n  color: var(--sklearn-color-text);\n}\n\n/* Toggleable content - dropdown */\n\n#sk-container-id-6 div.sk-toggleable__content {\n  max-height: 0;\n  max-width: 0;\n  overflow: hidden;\n  text-align: left;\n  /* unfitted */\n  background-color: var(--sklearn-color-unfitted-level-0);\n}\n\n#sk-container-id-6 div.sk-toggleable__content.fitted {\n  /* fitted */\n  background-color: var(--sklearn-color-fitted-level-0);\n}\n\n#sk-container-id-6 div.sk-toggleable__content pre {\n  margin: 0.2em;\n  border-radius: 0.25em;\n  color: var(--sklearn-color-text);\n  /* unfitted */\n  background-color: var(--sklearn-color-unfitted-level-0);\n}\n\n#sk-container-id-6 div.sk-toggleable__content.fitted pre {\n  /* unfitted */\n  background-color: var(--sklearn-color-fitted-level-0);\n}\n\n#sk-container-id-6 input.sk-toggleable__control:checked~div.sk-toggleable__content {\n  /* Expand drop-down */\n  max-height: 200px;\n  max-width: 100%;\n  overflow: auto;\n}\n\n#sk-container-id-6 input.sk-toggleable__control:checked~label.sk-toggleable__label-arrow:before {\n  content: \"▾\";\n}\n\n/* Pipeline/ColumnTransformer-specific style */\n\n#sk-container-id-6 div.sk-label input.sk-toggleable__control:checked~label.sk-toggleable__label {\n  color: var(--sklearn-color-text);\n  background-color: var(--sklearn-color-unfitted-level-2);\n}\n\n#sk-container-id-6 div.sk-label.fitted input.sk-toggleable__control:checked~label.sk-toggleable__label {\n  background-color: var(--sklearn-color-fitted-level-2);\n}\n\n/* Estimator-specific style */\n\n/* Colorize estimator box */\n#sk-container-id-6 div.sk-estimator input.sk-toggleable__control:checked~label.sk-toggleable__label {\n  /* unfitted */\n  background-color: var(--sklearn-color-unfitted-level-2);\n}\n\n#sk-container-id-6 div.sk-estimator.fitted input.sk-toggleable__control:checked~label.sk-toggleable__label {\n  /* fitted */\n  background-color: var(--sklearn-color-fitted-level-2);\n}\n\n#sk-container-id-6 div.sk-label label.sk-toggleable__label,\n#sk-container-id-6 div.sk-label label {\n  /* The background is the default theme color */\n  color: var(--sklearn-color-text-on-default-background);\n}\n\n/* On hover, darken the color of the background */\n#sk-container-id-6 div.sk-label:hover label.sk-toggleable__label {\n  color: var(--sklearn-color-text);\n  background-color: var(--sklearn-color-unfitted-level-2);\n}\n\n/* Label box, darken color on hover, fitted */\n#sk-container-id-6 div.sk-label.fitted:hover label.sk-toggleable__label.fitted {\n  color: var(--sklearn-color-text);\n  background-color: var(--sklearn-color-fitted-level-2);\n}\n\n/* Estimator label */\n\n#sk-container-id-6 div.sk-label label {\n  font-family: monospace;\n  font-weight: bold;\n  display: inline-block;\n  line-height: 1.2em;\n}\n\n#sk-container-id-6 div.sk-label-container {\n  text-align: center;\n}\n\n/* Estimator-specific */\n#sk-container-id-6 div.sk-estimator {\n  font-family: monospace;\n  border: 1px dotted var(--sklearn-color-border-box);\n  border-radius: 0.25em;\n  box-sizing: border-box;\n  margin-bottom: 0.5em;\n  /* unfitted */\n  background-color: var(--sklearn-color-unfitted-level-0);\n}\n\n#sk-container-id-6 div.sk-estimator.fitted {\n  /* fitted */\n  background-color: var(--sklearn-color-fitted-level-0);\n}\n\n/* on hover */\n#sk-container-id-6 div.sk-estimator:hover {\n  /* unfitted */\n  background-color: var(--sklearn-color-unfitted-level-2);\n}\n\n#sk-container-id-6 div.sk-estimator.fitted:hover {\n  /* fitted */\n  background-color: var(--sklearn-color-fitted-level-2);\n}\n\n/* Specification for estimator info (e.g. \"i\" and \"?\") */\n\n/* Common style for \"i\" and \"?\" */\n\n.sk-estimator-doc-link,\na:link.sk-estimator-doc-link,\na:visited.sk-estimator-doc-link {\n  float: right;\n  font-size: smaller;\n  line-height: 1em;\n  font-family: monospace;\n  background-color: var(--sklearn-color-background);\n  border-radius: 1em;\n  height: 1em;\n  width: 1em;\n  text-decoration: none !important;\n  margin-left: 1ex;\n  /* unfitted */\n  border: var(--sklearn-color-unfitted-level-1) 1pt solid;\n  color: var(--sklearn-color-unfitted-level-1);\n}\n\n.sk-estimator-doc-link.fitted,\na:link.sk-estimator-doc-link.fitted,\na:visited.sk-estimator-doc-link.fitted {\n  /* fitted */\n  border: var(--sklearn-color-fitted-level-1) 1pt solid;\n  color: var(--sklearn-color-fitted-level-1);\n}\n\n/* On hover */\ndiv.sk-estimator:hover .sk-estimator-doc-link:hover,\n.sk-estimator-doc-link:hover,\ndiv.sk-label-container:hover .sk-estimator-doc-link:hover,\n.sk-estimator-doc-link:hover {\n  /* unfitted */\n  background-color: var(--sklearn-color-unfitted-level-3);\n  color: var(--sklearn-color-background);\n  text-decoration: none;\n}\n\ndiv.sk-estimator.fitted:hover .sk-estimator-doc-link.fitted:hover,\n.sk-estimator-doc-link.fitted:hover,\ndiv.sk-label-container:hover .sk-estimator-doc-link.fitted:hover,\n.sk-estimator-doc-link.fitted:hover {\n  /* fitted */\n  background-color: var(--sklearn-color-fitted-level-3);\n  color: var(--sklearn-color-background);\n  text-decoration: none;\n}\n\n/* Span, style for the box shown on hovering the info icon */\n.sk-estimator-doc-link span {\n  display: none;\n  z-index: 9999;\n  position: relative;\n  font-weight: normal;\n  right: .2ex;\n  padding: .5ex;\n  margin: .5ex;\n  width: min-content;\n  min-width: 20ex;\n  max-width: 50ex;\n  color: var(--sklearn-color-text);\n  box-shadow: 2pt 2pt 4pt #999;\n  /* unfitted */\n  background: var(--sklearn-color-unfitted-level-0);\n  border: .5pt solid var(--sklearn-color-unfitted-level-3);\n}\n\n.sk-estimator-doc-link.fitted span {\n  /* fitted */\n  background: var(--sklearn-color-fitted-level-0);\n  border: var(--sklearn-color-fitted-level-3);\n}\n\n.sk-estimator-doc-link:hover span {\n  display: block;\n}\n\n/* \"?\"-specific style due to the `<a>` HTML tag */\n\n#sk-container-id-6 a.estimator_doc_link {\n  float: right;\n  font-size: 1rem;\n  line-height: 1em;\n  font-family: monospace;\n  background-color: var(--sklearn-color-background);\n  border-radius: 1rem;\n  height: 1rem;\n  width: 1rem;\n  text-decoration: none;\n  /* unfitted */\n  color: var(--sklearn-color-unfitted-level-1);\n  border: var(--sklearn-color-unfitted-level-1) 1pt solid;\n}\n\n#sk-container-id-6 a.estimator_doc_link.fitted {\n  /* fitted */\n  border: var(--sklearn-color-fitted-level-1) 1pt solid;\n  color: var(--sklearn-color-fitted-level-1);\n}\n\n/* On hover */\n#sk-container-id-6 a.estimator_doc_link:hover {\n  /* unfitted */\n  background-color: var(--sklearn-color-unfitted-level-3);\n  color: var(--sklearn-color-background);\n  text-decoration: none;\n}\n\n#sk-container-id-6 a.estimator_doc_link.fitted:hover {\n  /* fitted */\n  background-color: var(--sklearn-color-fitted-level-3);\n}\n</style><div id=\"sk-container-id-6\" class=\"sk-top-container\"><div class=\"sk-text-repr-fallback\"><pre>SVC(C=0.7524791632787694, kernel=&#x27;linear&#x27;, random_state=22)</pre><b>In a Jupyter environment, please rerun this cell to show the HTML representation or trust the notebook. <br />On GitHub, the HTML representation is unable to render, please try loading this page with nbviewer.org.</b></div><div class=\"sk-container\" hidden><div class=\"sk-item\"><div class=\"sk-estimator fitted sk-toggleable\"><input class=\"sk-toggleable__control sk-hidden--visually\" id=\"sk-estimator-id-6\" type=\"checkbox\" checked><label for=\"sk-estimator-id-6\" class=\"sk-toggleable__label fitted sk-toggleable__label-arrow fitted\">&nbsp;&nbsp;SVC<a class=\"sk-estimator-doc-link fitted\" rel=\"noreferrer\" target=\"_blank\" href=\"https://scikit-learn.org/1.4/modules/generated/sklearn.svm.SVC.html\">?<span>Documentation for SVC</span></a><span class=\"sk-estimator-doc-link fitted\">i<span>Fitted</span></span></label><div class=\"sk-toggleable__content fitted\"><pre>SVC(C=0.7524791632787694, kernel=&#x27;linear&#x27;, random_state=22)</pre></div> </div></div></div></div>"
     },
     "execution_count": 18,
     "metadata": {},
     "output_type": "execute_result"
    }
   ],
   "source": [
    "from sklearn.svm import SVC\n",
    "\n",
    "svm_model = SVC(kernel='linear', random_state=22)\n",
    "svm_model.fit(X_train, y_train)"
   ],
   "metadata": {
    "collapsed": false,
    "ExecuteTime": {
     "end_time": "2024-02-24T00:17:06.711543300Z",
     "start_time": "2024-02-24T00:17:06.630847500Z"
    }
   },
   "id": "2c66c7edab0d64",
   "execution_count": 18
  },
  {
   "cell_type": "code",
   "outputs": [
    {
     "name": "stdout",
     "output_type": "stream",
     "text": [
      "              precision    recall  f1-score   support\n",
      "\n",
      "           0       0.73      0.69      0.71        35\n",
      "           1       0.72      0.66      0.69        35\n",
      "           2       0.68      0.46      0.55        28\n",
      "           3       0.69      0.69      0.69        35\n",
      "           4       0.71      0.69      0.70        36\n",
      "           5       0.55      0.74      0.63        43\n",
      "\n",
      "    accuracy                           0.67       212\n",
      "   macro avg       0.68      0.66      0.66       212\n",
      "weighted avg       0.68      0.67      0.66       212\n"
     ]
    }
   ],
   "source": [
    "from sklearn import metrics\n",
    "\n",
    "# Generate classification report\n",
    "y_pred = svm_model.predict(X_test)\n",
    "print(metrics.classification_report(y_test, y_pred))"
   ],
   "metadata": {
    "collapsed": false,
    "ExecuteTime": {
     "end_time": "2024-02-24T00:17:06.834200100Z",
     "start_time": "2024-02-24T00:17:06.808759Z"
    }
   },
   "id": "62835de5722c9451",
   "execution_count": 19
  },
  {
   "cell_type": "markdown",
   "source": [
    "Let's use the `optuna` library to find the best hyperparameters for the model based on the maximization of the accuracy.\n"
   ],
   "metadata": {
    "collapsed": false
   },
   "id": "a87564b264fa6a83"
  },
  {
   "cell_type": "code",
   "outputs": [
    {
     "name": "stderr",
     "output_type": "stream",
     "text": [
      "[I 2024-02-24 02:14:01,506] A new study created in memory with name: no-name-38251ba7-1be7-47a7-8447-1a6506656109\n",
      "[I 2024-02-24 02:14:01,984] Trial 0 finished with value: 0.21570240543682373 and parameters: {'C': 7.346606385706798e-05, 'kernel': 'linear', 'gamma': 'auto'}. Best is trial 0 with value: 0.21570240543682373.\n",
      "[I 2024-02-24 02:14:02,383] Trial 1 finished with value: 0.5298399356165608 and parameters: {'C': 3.112791470896396, 'kernel': 'sigmoid', 'gamma': 'scale'}. Best is trial 1 with value: 0.5298399356165608.\n",
      "[I 2024-02-24 02:14:02,752] Trial 2 finished with value: 0.4626263077886078 and parameters: {'C': 19925.399492522036, 'kernel': 'linear', 'gamma': 'auto'}. Best is trial 1 with value: 0.5298399356165608.\n",
      "[I 2024-02-24 02:14:03,368] Trial 3 finished with value: 0.21570240543682373 and parameters: {'C': 2.6544817175931484e-05, 'kernel': 'sigmoid', 'gamma': 'scale'}. Best is trial 1 with value: 0.5298399356165608.\n",
      "[I 2024-02-24 02:14:03,985] Trial 4 finished with value: 0.21570240543682373 and parameters: {'C': 0.0010931590179148747, 'kernel': 'sigmoid', 'gamma': 'auto'}. Best is trial 1 with value: 0.5298399356165608.\n",
      "[I 2024-02-24 02:14:04,535] Trial 5 finished with value: 0.4418179379415184 and parameters: {'C': 0.2618748005711188, 'kernel': 'linear', 'gamma': 'auto'}. Best is trial 1 with value: 0.5298399356165608.\n",
      "[I 2024-02-24 02:14:05,081] Trial 6 finished with value: 0.21570240543682373 and parameters: {'C': 0.0016734952877087974, 'kernel': 'poly', 'gamma': 'auto', 'degree': 10}. Best is trial 1 with value: 0.5298399356165608.\n",
      "[I 2024-02-24 02:14:05,677] Trial 7 finished with value: 0.21570240543682373 and parameters: {'C': 0.024678213832132836, 'kernel': 'linear', 'gamma': 'scale'}. Best is trial 1 with value: 0.5298399356165608.\n",
      "[I 2024-02-24 02:14:06,575] Trial 8 finished with value: 0.5109049450058124 and parameters: {'C': 3382.900960405658, 'kernel': 'rbf', 'gamma': 'scale'}. Best is trial 1 with value: 0.5298399356165608.\n",
      "[I 2024-02-24 02:14:07,282] Trial 9 finished with value: 0.21570240543682373 and parameters: {'C': 0.2914004942967366, 'kernel': 'sigmoid', 'gamma': 'auto'}. Best is trial 1 with value: 0.5298399356165608.\n",
      "[I 2024-02-24 02:14:08,025] Trial 10 finished with value: 0.5109049450058124 and parameters: {'C': 158.62626562796882, 'kernel': 'rbf', 'gamma': 'scale'}. Best is trial 1 with value: 0.5298399356165608.\n",
      "[I 2024-02-24 02:14:08,854] Trial 11 finished with value: 0.5109049450058124 and parameters: {'C': 243.042782155625, 'kernel': 'rbf', 'gamma': 'scale'}. Best is trial 1 with value: 0.5298399356165608.\n",
      "[I 2024-02-24 02:14:09,779] Trial 12 finished with value: 0.5109049450058124 and parameters: {'C': 82.46745502159425, 'kernel': 'rbf', 'gamma': 'scale'}. Best is trial 1 with value: 0.5298399356165608.\n",
      "[I 2024-02-24 02:14:10,290] Trial 13 finished with value: 0.4626263077886078 and parameters: {'C': 60674.23868770223, 'kernel': 'poly', 'gamma': 'scale', 'degree': 1}. Best is trial 1 with value: 0.5298399356165608.\n",
      "[I 2024-02-24 02:14:10,633] Trial 14 finished with value: 0.49482696950728783 and parameters: {'C': 11.465461833486582, 'kernel': 'sigmoid', 'gamma': 'scale'}. Best is trial 1 with value: 0.5298399356165608.\n",
      "[I 2024-02-24 02:14:11,424] Trial 15 finished with value: 0.5109049450058124 and parameters: {'C': 1041.2310585659307, 'kernel': 'rbf', 'gamma': 'scale'}. Best is trial 1 with value: 0.5298399356165608.\n",
      "[I 2024-02-24 02:14:11,771] Trial 16 finished with value: 0.5042967003487436 and parameters: {'C': 9.537121569869601, 'kernel': 'sigmoid', 'gamma': 'scale'}. Best is trial 1 with value: 0.5298399356165608.\n",
      "[I 2024-02-24 02:14:12,541] Trial 17 finished with value: 0.5109049450058124 and parameters: {'C': 7503.777002531191, 'kernel': 'rbf', 'gamma': 'scale'}. Best is trial 1 with value: 0.5298399356165608.\n",
      "[I 2024-02-24 02:14:13,137] Trial 18 finished with value: 0.5336314048108737 and parameters: {'C': 1.9728533582587526, 'kernel': 'poly', 'gamma': 'scale', 'degree': 6}. Best is trial 18 with value: 0.5336314048108737.\n",
      "[I 2024-02-24 02:14:13,795] Trial 19 finished with value: 0.5355226683358669 and parameters: {'C': 3.023913918769061, 'kernel': 'poly', 'gamma': 'scale', 'degree': 6}. Best is trial 19 with value: 0.5355226683358669.\n",
      "[I 2024-02-24 02:14:14,390] Trial 20 finished with value: 0.21570240543682373 and parameters: {'C': 0.024904514496397377, 'kernel': 'poly', 'gamma': 'scale', 'degree': 6}. Best is trial 19 with value: 0.5355226683358669.\n",
      "[I 2024-02-24 02:14:15,012] Trial 21 finished with value: 0.5355226683358669 and parameters: {'C': 4.614991357064005, 'kernel': 'poly', 'gamma': 'scale', 'degree': 6}. Best is trial 19 with value: 0.5355226683358669.\n",
      "[I 2024-02-24 02:14:15,639] Trial 22 finished with value: 0.5289010104623089 and parameters: {'C': 0.5732884490434929, 'kernel': 'poly', 'gamma': 'scale', 'degree': 6}. Best is trial 19 with value: 0.5355226683358669.\n",
      "[I 2024-02-24 02:14:16,402] Trial 23 finished with value: 0.5355226683358669 and parameters: {'C': 17.84496562628588, 'kernel': 'poly', 'gamma': 'scale', 'degree': 6}. Best is trial 19 with value: 0.5355226683358669.\n",
      "[I 2024-02-24 02:14:17,194] Trial 24 finished with value: 0.5213270142180095 and parameters: {'C': 23.645512656614542, 'kernel': 'poly', 'gamma': 'scale', 'degree': 4}. Best is trial 19 with value: 0.5355226683358669.\n",
      "[I 2024-02-24 02:14:17,790] Trial 25 finished with value: 0.21570240543682373 and parameters: {'C': 0.09760123070904306, 'kernel': 'poly', 'gamma': 'scale', 'degree': 8}. Best is trial 19 with value: 0.5355226683358669.\n",
      "[I 2024-02-24 02:14:18,480] Trial 26 finished with value: 0.5213270142180095 and parameters: {'C': 509.85438950811795, 'kernel': 'poly', 'gamma': 'scale', 'degree': 4}. Best is trial 19 with value: 0.5355226683358669.\n",
      "[I 2024-02-24 02:14:19,219] Trial 27 finished with value: 0.5307922739873021 and parameters: {'C': 35.76338410722615, 'kernel': 'poly', 'gamma': 'scale', 'degree': 8}. Best is trial 19 with value: 0.5355226683358669.\n",
      "[I 2024-02-24 02:14:19,832] Trial 28 finished with value: 0.5260574085665743 and parameters: {'C': 3.2324271922395726, 'kernel': 'poly', 'gamma': 'scale', 'degree': 4}. Best is trial 19 with value: 0.5355226683358669.\n",
      "[I 2024-02-24 02:14:20,380] Trial 29 finished with value: 0.21570240543682373 and parameters: {'C': 0.002621909168361747, 'kernel': 'poly', 'gamma': 'auto', 'degree': 8}. Best is trial 19 with value: 0.5355226683358669.\n",
      "[I 2024-02-24 02:14:20,971] Trial 30 finished with value: 0.21570240543682373 and parameters: {'C': 0.06635143962780242, 'kernel': 'poly', 'gamma': 'scale', 'degree': 5}. Best is trial 19 with value: 0.5355226683358669.\n",
      "[I 2024-02-24 02:14:21,622] Trial 31 finished with value: 0.5355226683358669 and parameters: {'C': 6.5915162663526825, 'kernel': 'poly', 'gamma': 'scale', 'degree': 6}. Best is trial 19 with value: 0.5355226683358669.\n",
      "[I 2024-02-24 02:14:22,285] Trial 32 finished with value: 0.534583743181615 and parameters: {'C': 3.462183407514682, 'kernel': 'poly', 'gamma': 'scale', 'degree': 7}. Best is trial 19 with value: 0.5355226683358669.\n",
      "[I 2024-02-24 02:14:22,891] Trial 33 finished with value: 0.5374094607886971 and parameters: {'C': 0.9026372397485738, 'kernel': 'poly', 'gamma': 'scale', 'degree': 5}. Best is trial 33 with value: 0.5374094607886971.\n",
      "[I 2024-02-24 02:14:23,614] Trial 34 finished with value: 0.5336224626665474 and parameters: {'C': 0.5312726272712668, 'kernel': 'poly', 'gamma': 'scale', 'degree': 5}. Best is trial 33 with value: 0.5374094607886971.\n",
      "[I 2024-02-24 02:14:24,004] Trial 35 finished with value: 0.4626263077886078 and parameters: {'C': 54.11290893785433, 'kernel': 'linear', 'gamma': 'scale'}. Best is trial 33 with value: 0.5374094607886971.\n",
      "[I 2024-02-24 02:14:24,616] Trial 36 finished with value: 0.21570240543682373 and parameters: {'C': 0.9315320838386998, 'kernel': 'poly', 'gamma': 'auto', 'degree': 3}. Best is trial 33 with value: 0.5374094607886971.\n",
      "[I 2024-02-24 02:14:25,181] Trial 37 finished with value: 0.21570240543682373 and parameters: {'C': 0.00021208867109387075, 'kernel': 'poly', 'gamma': 'scale', 'degree': 7}. Best is trial 33 with value: 0.5374094607886971.\n",
      "[I 2024-02-24 02:14:25,701] Trial 38 finished with value: 0.21570240543682373 and parameters: {'C': 0.0068736336994536795, 'kernel': 'poly', 'gamma': 'auto', 'degree': 7}. Best is trial 33 with value: 0.5374094607886971.\n",
      "[I 2024-02-24 02:14:26,098] Trial 39 finished with value: 0.5326880085844585 and parameters: {'C': 1.424011940705963, 'kernel': 'linear', 'gamma': 'scale'}. Best is trial 33 with value: 0.5374094607886971.\n",
      "[I 2024-02-24 02:14:26,649] Trial 40 finished with value: 0.21570240543682373 and parameters: {'C': 0.14252336973024157, 'kernel': 'poly', 'gamma': 'auto', 'degree': 5}. Best is trial 33 with value: 0.5374094607886971.\n",
      "[I 2024-02-24 02:14:27,613] Trial 41 finished with value: 0.5355226683358669 and parameters: {'C': 7.711318939134139, 'kernel': 'poly', 'gamma': 'scale', 'degree': 6}. Best is trial 33 with value: 0.5374094607886971.\n",
      "[I 2024-02-24 02:14:28,289] Trial 42 finished with value: 0.534583743181615 and parameters: {'C': 6.167424147060117, 'kernel': 'poly', 'gamma': 'scale', 'degree': 7}. Best is trial 33 with value: 0.5374094607886971.\n",
      "[I 2024-02-24 02:14:28,900] Trial 43 finished with value: 0.5336314048108737 and parameters: {'C': 1.4785914758203473, 'kernel': 'poly', 'gamma': 'scale', 'degree': 5}. Best is trial 33 with value: 0.5374094607886971.\n",
      "[I 2024-02-24 02:14:29,266] Trial 44 finished with value: 0.4664446034158992 and parameters: {'C': 20.805209413340524, 'kernel': 'linear', 'gamma': 'scale'}. Best is trial 33 with value: 0.5374094607886971.\n",
      "[I 2024-02-24 02:14:30,059] Trial 45 finished with value: 0.5355226683358669 and parameters: {'C': 217.90789016283912, 'kernel': 'poly', 'gamma': 'scale', 'degree': 6}. Best is trial 33 with value: 0.5374094607886971.\n",
      "[I 2024-02-24 02:14:30,651] Trial 46 finished with value: 0.4229187159080747 and parameters: {'C': 1413.5227870445026, 'kernel': 'sigmoid', 'gamma': 'scale'}. Best is trial 33 with value: 0.5374094607886971.\n",
      "[I 2024-02-24 02:14:31,172] Trial 47 finished with value: 0.5336224626665474 and parameters: {'C': 0.5194985462632763, 'kernel': 'poly', 'gamma': 'scale', 'degree': 5}. Best is trial 33 with value: 0.5374094607886971.\n",
      "[I 2024-02-24 02:14:31,781] Trial 48 finished with value: 0.534583743181615 and parameters: {'C': 75.57955392671461, 'kernel': 'poly', 'gamma': 'scale', 'degree': 7}. Best is trial 33 with value: 0.5374094607886971.\n",
      "[I 2024-02-24 02:14:32,335] Trial 49 finished with value: 0.21570240543682373 and parameters: {'C': 0.0365429641014625, 'kernel': 'sigmoid', 'gamma': 'auto'}. Best is trial 33 with value: 0.5374094607886971.\n",
      "[I 2024-02-24 02:14:33,068] Trial 50 finished with value: 0.5023786103907717 and parameters: {'C': 0.27757726970235086, 'kernel': 'poly', 'gamma': 'scale', 'degree': 3}. Best is trial 33 with value: 0.5374094607886971.\n",
      "[I 2024-02-24 02:14:33,714] Trial 51 finished with value: 0.5355226683358669 and parameters: {'C': 6.848269747924963, 'kernel': 'poly', 'gamma': 'scale', 'degree': 6}. Best is trial 33 with value: 0.5374094607886971.\n",
      "[I 2024-02-24 02:14:34,418] Trial 52 finished with value: 0.5355226683358669 and parameters: {'C': 16.80561387045163, 'kernel': 'poly', 'gamma': 'scale', 'degree': 6}. Best is trial 33 with value: 0.5374094607886971.\n",
      "[I 2024-02-24 02:14:35,064] Trial 53 finished with value: 0.5118528123043906 and parameters: {'C': 3.9086699080565106, 'kernel': 'poly', 'gamma': 'scale', 'degree': 10}. Best is trial 33 with value: 0.5374094607886971.\n",
      "[I 2024-02-24 02:14:35,888] Trial 54 finished with value: 0.5099570777072342 and parameters: {'C': 10.447532038358121, 'kernel': 'rbf', 'gamma': 'scale'}. Best is trial 33 with value: 0.5374094607886971.\n",
      "[I 2024-02-24 02:14:36,503] Trial 55 finished with value: 0.5355226683358669 and parameters: {'C': 156.0361326224669, 'kernel': 'poly', 'gamma': 'scale', 'degree': 6}. Best is trial 33 with value: 0.5374094607886971.\n",
      "[I 2024-02-24 02:14:37,079] Trial 56 finished with value: 0.5288920683179826 and parameters: {'C': 31.65481865104537, 'kernel': 'poly', 'gamma': 'scale', 'degree': 5}. Best is trial 33 with value: 0.5374094607886971.\n",
      "[I 2024-02-24 02:14:37,465] Trial 57 finished with value: 0.5317401412858803 and parameters: {'C': 1.44795799847154, 'kernel': 'linear', 'gamma': 'scale'}. Best is trial 33 with value: 0.5374094607886971.\n",
      "[I 2024-02-24 02:14:37,993] Trial 58 finished with value: 0.22231512116605562 and parameters: {'C': 0.1829106060369741, 'kernel': 'poly', 'gamma': 'scale', 'degree': 7}. Best is trial 33 with value: 0.5374094607886971.\n",
      "[I 2024-02-24 02:14:38,627] Trial 59 finished with value: 0.5109049450058124 and parameters: {'C': 106.1984205669056, 'kernel': 'rbf', 'gamma': 'scale'}. Best is trial 33 with value: 0.5374094607886971.\n",
      "[I 2024-02-24 02:14:38,989] Trial 60 finished with value: 0.5222659393722615 and parameters: {'C': 3.674873348824021, 'kernel': 'sigmoid', 'gamma': 'scale'}. Best is trial 33 with value: 0.5374094607886971.\n",
      "[I 2024-02-24 02:14:39,535] Trial 61 finished with value: 0.5355226683358669 and parameters: {'C': 262.2828930075466, 'kernel': 'poly', 'gamma': 'scale', 'degree': 6}. Best is trial 33 with value: 0.5374094607886971.\n",
      "[I 2024-02-24 02:14:40,070] Trial 62 finished with value: 0.5355226683358669 and parameters: {'C': 4748.848370190109, 'kernel': 'poly', 'gamma': 'scale', 'degree': 6}. Best is trial 33 with value: 0.5374094607886971.\n",
      "[I 2024-02-24 02:14:40,626] Trial 63 finished with value: 0.5355226683358669 and parameters: {'C': 535.2470686029187, 'kernel': 'poly', 'gamma': 'scale', 'degree': 6}. Best is trial 33 with value: 0.5374094607886971.\n",
      "[I 2024-02-24 02:14:41,162] Trial 64 finished with value: 0.5355226683358669 and parameters: {'C': 36.45428192595595, 'kernel': 'poly', 'gamma': 'scale', 'degree': 6}. Best is trial 33 with value: 0.5374094607886971.\n",
      "[I 2024-02-24 02:14:41,697] Trial 65 finished with value: 0.5288920683179826 and parameters: {'C': 10.483774575544533, 'kernel': 'poly', 'gamma': 'scale', 'degree': 5}. Best is trial 33 with value: 0.5374094607886971.\n",
      "[I 2024-02-24 02:14:42,140] Trial 66 finished with value: 0.535518197263704 and parameters: {'C': 0.7336524246176801, 'kernel': 'poly', 'gamma': 'scale', 'degree': 4}. Best is trial 33 with value: 0.5374094607886971.\n",
      "[I 2024-02-24 02:14:42,604] Trial 67 finished with value: 0.21570240543682373 and parameters: {'C': 6.087300196171019, 'kernel': 'poly', 'gamma': 'auto', 'degree': 7}. Best is trial 33 with value: 0.5374094607886971.\n",
      "[I 2024-02-24 02:14:43,139] Trial 68 finished with value: 0.5336314048108737 and parameters: {'C': 2.0080034187000457, 'kernel': 'poly', 'gamma': 'scale', 'degree': 6}. Best is trial 33 with value: 0.5374094607886971.\n",
      "[I 2024-02-24 02:14:43,675] Trial 69 finished with value: 0.5355226683358669 and parameters: {'C': 66.69880425620553, 'kernel': 'poly', 'gamma': 'scale', 'degree': 6}. Best is trial 33 with value: 0.5374094607886971.\n",
      "[I 2024-02-24 02:14:44,217] Trial 70 finished with value: 0.5307922739873021 and parameters: {'C': 16.970642609816174, 'kernel': 'poly', 'gamma': 'scale', 'degree': 8}. Best is trial 33 with value: 0.5374094607886971.\n",
      "[I 2024-02-24 02:14:44,754] Trial 71 finished with value: 0.5355226683358669 and parameters: {'C': 8.881313740684615, 'kernel': 'poly', 'gamma': 'scale', 'degree': 6}. Best is trial 33 with value: 0.5374094607886971.\n",
      "[I 2024-02-24 02:14:45,284] Trial 72 finished with value: 0.5288920683179826 and parameters: {'C': 19798.010409563736, 'kernel': 'poly', 'gamma': 'scale', 'degree': 5}. Best is trial 33 with value: 0.5374094607886971.\n",
      "[I 2024-02-24 02:14:45,818] Trial 73 finished with value: 0.5355226683358669 and parameters: {'C': 5.114326804077785, 'kernel': 'poly', 'gamma': 'scale', 'degree': 6}. Best is trial 33 with value: 0.5374094607886971.\n",
      "[I 2024-02-24 02:14:46,337] Trial 74 finished with value: 0.5260618796387374 and parameters: {'C': 2.029786383635188, 'kernel': 'poly', 'gamma': 'scale', 'degree': 4}. Best is trial 33 with value: 0.5374094607886971.\n",
      "[I 2024-02-24 02:14:46,795] Trial 75 finished with value: 0.5146830009836358 and parameters: {'C': 0.4056469387280418, 'kernel': 'poly', 'gamma': 'scale', 'degree': 1}. Best is trial 33 with value: 0.5374094607886971.\n",
      "[I 2024-02-24 02:14:47,439] Trial 76 finished with value: 0.5109049450058124 and parameters: {'C': 44.031801478427845, 'kernel': 'rbf', 'gamma': 'scale'}. Best is trial 33 with value: 0.5374094607886971.\n",
      "[I 2024-02-24 02:14:47,798] Trial 77 finished with value: 0.4626263077886078 and parameters: {'C': 191.67466005532665, 'kernel': 'linear', 'gamma': 'auto'}. Best is trial 33 with value: 0.5374094607886971.\n",
      "[I 2024-02-24 02:14:48,328] Trial 78 finished with value: 0.5317267280693911 and parameters: {'C': 1.0795506377525674, 'kernel': 'poly', 'gamma': 'scale', 'degree': 7}. Best is trial 33 with value: 0.5374094607886971.\n",
      "[I 2024-02-24 02:14:48,727] Trial 79 finished with value: 0.4219753196816597 and parameters: {'C': 580.1386003515998, 'kernel': 'sigmoid', 'gamma': 'scale'}. Best is trial 33 with value: 0.5374094607886971.\n",
      "[I 2024-02-24 02:14:49,255] Trial 80 finished with value: 0.5326835375122954 and parameters: {'C': 2.3032331872917036, 'kernel': 'poly', 'gamma': 'scale', 'degree': 6}. Best is trial 33 with value: 0.5374094607886971.\n",
      "[I 2024-02-24 02:14:49,783] Trial 81 finished with value: 0.5355226683358669 and parameters: {'C': 23.032570493244908, 'kernel': 'poly', 'gamma': 'scale', 'degree': 6}. Best is trial 33 with value: 0.5374094607886971.\n",
      "[I 2024-02-24 02:14:50,314] Trial 82 finished with value: 0.5288920683179826 and parameters: {'C': 15.818218195136149, 'kernel': 'poly', 'gamma': 'scale', 'degree': 5}. Best is trial 33 with value: 0.5374094607886971.\n",
      "[I 2024-02-24 02:14:50,854] Trial 83 finished with value: 0.534583743181615 and parameters: {'C': 1617.522968963623, 'kernel': 'poly', 'gamma': 'scale', 'degree': 7}. Best is trial 33 with value: 0.5374094607886971.\n",
      "[I 2024-02-24 02:14:51,387] Trial 84 finished with value: 0.5355226683358669 and parameters: {'C': 5.617711191753373, 'kernel': 'poly', 'gamma': 'scale', 'degree': 6}. Best is trial 33 with value: 0.5374094607886971.\n",
      "[I 2024-02-24 02:14:51,914] Trial 85 finished with value: 0.5288920683179826 and parameters: {'C': 14.529764458039478, 'kernel': 'poly', 'gamma': 'scale', 'degree': 5}. Best is trial 33 with value: 0.5374094607886971.\n",
      "[I 2024-02-24 02:14:52,594] Trial 86 finished with value: 0.5355226683358669 and parameters: {'C': 106.36438761922028, 'kernel': 'poly', 'gamma': 'scale', 'degree': 6}. Best is trial 33 with value: 0.5374094607886971.\n",
      "[I 2024-02-24 02:14:53,171] Trial 87 finished with value: 0.21570240543682373 and parameters: {'C': 1.6343498784826046e-05, 'kernel': 'poly', 'gamma': 'scale', 'degree': 7}. Best is trial 33 with value: 0.5374094607886971.\n",
      "[I 2024-02-24 02:14:53,742] Trial 88 finished with value: 0.5383483859429491 and parameters: {'C': 0.860546850257075, 'kernel': 'poly', 'gamma': 'scale', 'degree': 5}. Best is trial 88 with value: 0.5383483859429491.\n",
      "[I 2024-02-24 02:14:54,272] Trial 89 finished with value: 0.21570240543682373 and parameters: {'C': 0.09445466327145915, 'kernel': 'poly', 'gamma': 'auto', 'degree': 4}. Best is trial 88 with value: 0.5383483859429491.\n",
      "[I 2024-02-24 02:14:54,709] Trial 90 finished with value: 0.5440400608065815 and parameters: {'C': 1.015130945730916, 'kernel': 'linear', 'gamma': 'scale'}. Best is trial 90 with value: 0.5440400608065815.\n",
      "[I 2024-02-24 02:14:55,138] Trial 91 finished with value: 0.5411964589108468 and parameters: {'C': 0.8853419263104957, 'kernel': 'linear', 'gamma': 'scale'}. Best is trial 90 with value: 0.5440400608065815.\n",
      "[I 2024-02-24 02:14:55,694] Trial 92 finished with value: 0.471134758114996 and parameters: {'C': 0.32217222427849246, 'kernel': 'linear', 'gamma': 'scale'}. Best is trial 90 with value: 0.5440400608065815.\n",
      "[I 2024-02-24 02:14:56,139] Trial 93 finished with value: 0.5459357954037378 and parameters: {'C': 0.7524791632787694, 'kernel': 'linear', 'gamma': 'scale'}. Best is trial 93 with value: 0.5459357954037378.\n",
      "[I 2024-02-24 02:14:56,751] Trial 94 finished with value: 0.5431011356523294 and parameters: {'C': 0.706730055598791, 'kernel': 'linear', 'gamma': 'scale'}. Best is trial 93 with value: 0.5459357954037378.\n",
      "[I 2024-02-24 02:14:57,311] Trial 95 finished with value: 0.2904274344987928 and parameters: {'C': 0.17166104470492818, 'kernel': 'linear', 'gamma': 'scale'}. Best is trial 93 with value: 0.5459357954037378.\n",
      "[I 2024-02-24 02:14:57,781] Trial 96 finished with value: 0.5411964589108468 and parameters: {'C': 0.8086426643126694, 'kernel': 'linear', 'gamma': 'scale'}. Best is trial 93 with value: 0.5459357954037378.\n",
      "[I 2024-02-24 02:14:58,246] Trial 97 finished with value: 0.5421353840650988 and parameters: {'C': 0.8456665785399886, 'kernel': 'linear', 'gamma': 'scale'}. Best is trial 93 with value: 0.5459357954037378.\n",
      "[I 2024-02-24 02:14:58,672] Trial 98 finished with value: 0.5421398551372618 and parameters: {'C': 0.8786041415033211, 'kernel': 'linear', 'gamma': 'scale'}. Best is trial 93 with value: 0.5459357954037378.\n",
      "[I 2024-02-24 02:14:59,287] Trial 99 finished with value: 0.21570240543682373 and parameters: {'C': 0.037648027213254186, 'kernel': 'linear', 'gamma': 'scale'}. Best is trial 93 with value: 0.5459357954037378.\n"
     ]
    },
    {
     "name": "stdout",
     "output_type": "stream",
     "text": [
      "Best trial: {'C': 0.7524791632787694, 'kernel': 'linear', 'gamma': 'scale'}\n"
     ]
    }
   ],
   "source": [
    "def objective(trial):\n",
    "    # Hyperparameters to tune\n",
    "    C = trial.suggest_float('C', 1e-5, 1e5, log=True)\n",
    "    kernel = trial.suggest_categorical('kernel', ['linear', 'poly', 'rbf', 'sigmoid'])\n",
    "    gamma = trial.suggest_categorical('gamma', ['scale', 'auto'])\n",
    "\n",
    "    # If kernel is 'poly', we also tune degree\n",
    "    if kernel == 'poly':\n",
    "        degree = trial.suggest_int('degree', 1, 10)\n",
    "\n",
    "    # Create and train the SVM model\n",
    "    if kernel == 'poly':\n",
    "        model = SVC(C=C, kernel=kernel, degree=degree, gamma=gamma, random_state=42)\n",
    "    else:\n",
    "        model = SVC(C=C, kernel=kernel, gamma=gamma, random_state=22)\n",
    "\n",
    "    score = cross_val_score(model, X, y, scoring='accuracy')\n",
    "    return score.mean()\n",
    "\n",
    "\n",
    "# Create a study object and specify the optimization direction\n",
    "study = optuna.create_study(direction='maximize')\n",
    "study.optimize(objective, n_trials=100)  # You can adjust the number of trials\n",
    "\n",
    "# Output the best hyperparameters\n",
    "print('Best trial:', study.best_trial.params)"
   ],
   "metadata": {
    "collapsed": false,
    "ExecuteTime": {
     "end_time": "2024-02-24T00:14:59.318273900Z",
     "start_time": "2024-02-24T00:14:01.506329200Z"
    }
   },
   "id": "3352fe02bac0f7c4",
   "execution_count": 21
  },
  {
   "cell_type": "markdown",
   "source": [
    "### Multi-class SGD\n",
    "\n",
    "Let's now train a multi-class SGD model on the embeddings and the class."
   ],
   "metadata": {
    "collapsed": false
   },
   "id": "78bd39336c8fa4c1"
  },
  {
   "cell_type": "code",
   "outputs": [
    {
     "data": {
      "text/plain": "SGDClassifier(alpha=2.6545371602330262e-06, eta0=0.007698135990041223,\n              learning_rate='constant', loss='squared_hinge', n_jobs=-1,\n              penalty='l1', random_state=62)",
      "text/html": "<style>#sk-container-id-9 {\n  /* Definition of color scheme common for light and dark mode */\n  --sklearn-color-text: black;\n  --sklearn-color-line: gray;\n  /* Definition of color scheme for unfitted estimators */\n  --sklearn-color-unfitted-level-0: #fff5e6;\n  --sklearn-color-unfitted-level-1: #f6e4d2;\n  --sklearn-color-unfitted-level-2: #ffe0b3;\n  --sklearn-color-unfitted-level-3: chocolate;\n  /* Definition of color scheme for fitted estimators */\n  --sklearn-color-fitted-level-0: #f0f8ff;\n  --sklearn-color-fitted-level-1: #d4ebff;\n  --sklearn-color-fitted-level-2: #b3dbfd;\n  --sklearn-color-fitted-level-3: cornflowerblue;\n\n  /* Specific color for light theme */\n  --sklearn-color-text-on-default-background: var(--sg-text-color, var(--theme-code-foreground, var(--jp-content-font-color1, black)));\n  --sklearn-color-background: var(--sg-background-color, var(--theme-background, var(--jp-layout-color0, white)));\n  --sklearn-color-border-box: var(--sg-text-color, var(--theme-code-foreground, var(--jp-content-font-color1, black)));\n  --sklearn-color-icon: #696969;\n\n  @media (prefers-color-scheme: dark) {\n    /* Redefinition of color scheme for dark theme */\n    --sklearn-color-text-on-default-background: var(--sg-text-color, var(--theme-code-foreground, var(--jp-content-font-color1, white)));\n    --sklearn-color-background: var(--sg-background-color, var(--theme-background, var(--jp-layout-color0, #111)));\n    --sklearn-color-border-box: var(--sg-text-color, var(--theme-code-foreground, var(--jp-content-font-color1, white)));\n    --sklearn-color-icon: #878787;\n  }\n}\n\n#sk-container-id-9 {\n  color: var(--sklearn-color-text);\n}\n\n#sk-container-id-9 pre {\n  padding: 0;\n}\n\n#sk-container-id-9 input.sk-hidden--visually {\n  border: 0;\n  clip: rect(1px 1px 1px 1px);\n  clip: rect(1px, 1px, 1px, 1px);\n  height: 1px;\n  margin: -1px;\n  overflow: hidden;\n  padding: 0;\n  position: absolute;\n  width: 1px;\n}\n\n#sk-container-id-9 div.sk-dashed-wrapped {\n  border: 1px dashed var(--sklearn-color-line);\n  margin: 0 0.4em 0.5em 0.4em;\n  box-sizing: border-box;\n  padding-bottom: 0.4em;\n  background-color: var(--sklearn-color-background);\n}\n\n#sk-container-id-9 div.sk-container {\n  /* jupyter's `normalize.less` sets `[hidden] { display: none; }`\n     but bootstrap.min.css set `[hidden] { display: none !important; }`\n     so we also need the `!important` here to be able to override the\n     default hidden behavior on the sphinx rendered scikit-learn.org.\n     See: https://github.com/scikit-learn/scikit-learn/issues/21755 */\n  display: inline-block !important;\n  position: relative;\n}\n\n#sk-container-id-9 div.sk-text-repr-fallback {\n  display: none;\n}\n\ndiv.sk-parallel-item,\ndiv.sk-serial,\ndiv.sk-item {\n  /* draw centered vertical line to link estimators */\n  background-image: linear-gradient(var(--sklearn-color-text-on-default-background), var(--sklearn-color-text-on-default-background));\n  background-size: 2px 100%;\n  background-repeat: no-repeat;\n  background-position: center center;\n}\n\n/* Parallel-specific style estimator block */\n\n#sk-container-id-9 div.sk-parallel-item::after {\n  content: \"\";\n  width: 100%;\n  border-bottom: 2px solid var(--sklearn-color-text-on-default-background);\n  flex-grow: 1;\n}\n\n#sk-container-id-9 div.sk-parallel {\n  display: flex;\n  align-items: stretch;\n  justify-content: center;\n  background-color: var(--sklearn-color-background);\n  position: relative;\n}\n\n#sk-container-id-9 div.sk-parallel-item {\n  display: flex;\n  flex-direction: column;\n}\n\n#sk-container-id-9 div.sk-parallel-item:first-child::after {\n  align-self: flex-end;\n  width: 50%;\n}\n\n#sk-container-id-9 div.sk-parallel-item:last-child::after {\n  align-self: flex-start;\n  width: 50%;\n}\n\n#sk-container-id-9 div.sk-parallel-item:only-child::after {\n  width: 0;\n}\n\n/* Serial-specific style estimator block */\n\n#sk-container-id-9 div.sk-serial {\n  display: flex;\n  flex-direction: column;\n  align-items: center;\n  background-color: var(--sklearn-color-background);\n  padding-right: 1em;\n  padding-left: 1em;\n}\n\n\n/* Toggleable style: style used for estimator/Pipeline/ColumnTransformer box that is\nclickable and can be expanded/collapsed.\n- Pipeline and ColumnTransformer use this feature and define the default style\n- Estimators will overwrite some part of the style using the `sk-estimator` class\n*/\n\n/* Pipeline and ColumnTransformer style (default) */\n\n#sk-container-id-9 div.sk-toggleable {\n  /* Default theme specific background. It is overwritten whether we have a\n  specific estimator or a Pipeline/ColumnTransformer */\n  background-color: var(--sklearn-color-background);\n}\n\n/* Toggleable label */\n#sk-container-id-9 label.sk-toggleable__label {\n  cursor: pointer;\n  display: block;\n  width: 100%;\n  margin-bottom: 0;\n  padding: 0.5em;\n  box-sizing: border-box;\n  text-align: center;\n}\n\n#sk-container-id-9 label.sk-toggleable__label-arrow:before {\n  /* Arrow on the left of the label */\n  content: \"▸\";\n  float: left;\n  margin-right: 0.25em;\n  color: var(--sklearn-color-icon);\n}\n\n#sk-container-id-9 label.sk-toggleable__label-arrow:hover:before {\n  color: var(--sklearn-color-text);\n}\n\n/* Toggleable content - dropdown */\n\n#sk-container-id-9 div.sk-toggleable__content {\n  max-height: 0;\n  max-width: 0;\n  overflow: hidden;\n  text-align: left;\n  /* unfitted */\n  background-color: var(--sklearn-color-unfitted-level-0);\n}\n\n#sk-container-id-9 div.sk-toggleable__content.fitted {\n  /* fitted */\n  background-color: var(--sklearn-color-fitted-level-0);\n}\n\n#sk-container-id-9 div.sk-toggleable__content pre {\n  margin: 0.2em;\n  border-radius: 0.25em;\n  color: var(--sklearn-color-text);\n  /* unfitted */\n  background-color: var(--sklearn-color-unfitted-level-0);\n}\n\n#sk-container-id-9 div.sk-toggleable__content.fitted pre {\n  /* unfitted */\n  background-color: var(--sklearn-color-fitted-level-0);\n}\n\n#sk-container-id-9 input.sk-toggleable__control:checked~div.sk-toggleable__content {\n  /* Expand drop-down */\n  max-height: 200px;\n  max-width: 100%;\n  overflow: auto;\n}\n\n#sk-container-id-9 input.sk-toggleable__control:checked~label.sk-toggleable__label-arrow:before {\n  content: \"▾\";\n}\n\n/* Pipeline/ColumnTransformer-specific style */\n\n#sk-container-id-9 div.sk-label input.sk-toggleable__control:checked~label.sk-toggleable__label {\n  color: var(--sklearn-color-text);\n  background-color: var(--sklearn-color-unfitted-level-2);\n}\n\n#sk-container-id-9 div.sk-label.fitted input.sk-toggleable__control:checked~label.sk-toggleable__label {\n  background-color: var(--sklearn-color-fitted-level-2);\n}\n\n/* Estimator-specific style */\n\n/* Colorize estimator box */\n#sk-container-id-9 div.sk-estimator input.sk-toggleable__control:checked~label.sk-toggleable__label {\n  /* unfitted */\n  background-color: var(--sklearn-color-unfitted-level-2);\n}\n\n#sk-container-id-9 div.sk-estimator.fitted input.sk-toggleable__control:checked~label.sk-toggleable__label {\n  /* fitted */\n  background-color: var(--sklearn-color-fitted-level-2);\n}\n\n#sk-container-id-9 div.sk-label label.sk-toggleable__label,\n#sk-container-id-9 div.sk-label label {\n  /* The background is the default theme color */\n  color: var(--sklearn-color-text-on-default-background);\n}\n\n/* On hover, darken the color of the background */\n#sk-container-id-9 div.sk-label:hover label.sk-toggleable__label {\n  color: var(--sklearn-color-text);\n  background-color: var(--sklearn-color-unfitted-level-2);\n}\n\n/* Label box, darken color on hover, fitted */\n#sk-container-id-9 div.sk-label.fitted:hover label.sk-toggleable__label.fitted {\n  color: var(--sklearn-color-text);\n  background-color: var(--sklearn-color-fitted-level-2);\n}\n\n/* Estimator label */\n\n#sk-container-id-9 div.sk-label label {\n  font-family: monospace;\n  font-weight: bold;\n  display: inline-block;\n  line-height: 1.2em;\n}\n\n#sk-container-id-9 div.sk-label-container {\n  text-align: center;\n}\n\n/* Estimator-specific */\n#sk-container-id-9 div.sk-estimator {\n  font-family: monospace;\n  border: 1px dotted var(--sklearn-color-border-box);\n  border-radius: 0.25em;\n  box-sizing: border-box;\n  margin-bottom: 0.5em;\n  /* unfitted */\n  background-color: var(--sklearn-color-unfitted-level-0);\n}\n\n#sk-container-id-9 div.sk-estimator.fitted {\n  /* fitted */\n  background-color: var(--sklearn-color-fitted-level-0);\n}\n\n/* on hover */\n#sk-container-id-9 div.sk-estimator:hover {\n  /* unfitted */\n  background-color: var(--sklearn-color-unfitted-level-2);\n}\n\n#sk-container-id-9 div.sk-estimator.fitted:hover {\n  /* fitted */\n  background-color: var(--sklearn-color-fitted-level-2);\n}\n\n/* Specification for estimator info (e.g. \"i\" and \"?\") */\n\n/* Common style for \"i\" and \"?\" */\n\n.sk-estimator-doc-link,\na:link.sk-estimator-doc-link,\na:visited.sk-estimator-doc-link {\n  float: right;\n  font-size: smaller;\n  line-height: 1em;\n  font-family: monospace;\n  background-color: var(--sklearn-color-background);\n  border-radius: 1em;\n  height: 1em;\n  width: 1em;\n  text-decoration: none !important;\n  margin-left: 1ex;\n  /* unfitted */\n  border: var(--sklearn-color-unfitted-level-1) 1pt solid;\n  color: var(--sklearn-color-unfitted-level-1);\n}\n\n.sk-estimator-doc-link.fitted,\na:link.sk-estimator-doc-link.fitted,\na:visited.sk-estimator-doc-link.fitted {\n  /* fitted */\n  border: var(--sklearn-color-fitted-level-1) 1pt solid;\n  color: var(--sklearn-color-fitted-level-1);\n}\n\n/* On hover */\ndiv.sk-estimator:hover .sk-estimator-doc-link:hover,\n.sk-estimator-doc-link:hover,\ndiv.sk-label-container:hover .sk-estimator-doc-link:hover,\n.sk-estimator-doc-link:hover {\n  /* unfitted */\n  background-color: var(--sklearn-color-unfitted-level-3);\n  color: var(--sklearn-color-background);\n  text-decoration: none;\n}\n\ndiv.sk-estimator.fitted:hover .sk-estimator-doc-link.fitted:hover,\n.sk-estimator-doc-link.fitted:hover,\ndiv.sk-label-container:hover .sk-estimator-doc-link.fitted:hover,\n.sk-estimator-doc-link.fitted:hover {\n  /* fitted */\n  background-color: var(--sklearn-color-fitted-level-3);\n  color: var(--sklearn-color-background);\n  text-decoration: none;\n}\n\n/* Span, style for the box shown on hovering the info icon */\n.sk-estimator-doc-link span {\n  display: none;\n  z-index: 9999;\n  position: relative;\n  font-weight: normal;\n  right: .2ex;\n  padding: .5ex;\n  margin: .5ex;\n  width: min-content;\n  min-width: 20ex;\n  max-width: 50ex;\n  color: var(--sklearn-color-text);\n  box-shadow: 2pt 2pt 4pt #999;\n  /* unfitted */\n  background: var(--sklearn-color-unfitted-level-0);\n  border: .5pt solid var(--sklearn-color-unfitted-level-3);\n}\n\n.sk-estimator-doc-link.fitted span {\n  /* fitted */\n  background: var(--sklearn-color-fitted-level-0);\n  border: var(--sklearn-color-fitted-level-3);\n}\n\n.sk-estimator-doc-link:hover span {\n  display: block;\n}\n\n/* \"?\"-specific style due to the `<a>` HTML tag */\n\n#sk-container-id-9 a.estimator_doc_link {\n  float: right;\n  font-size: 1rem;\n  line-height: 1em;\n  font-family: monospace;\n  background-color: var(--sklearn-color-background);\n  border-radius: 1rem;\n  height: 1rem;\n  width: 1rem;\n  text-decoration: none;\n  /* unfitted */\n  color: var(--sklearn-color-unfitted-level-1);\n  border: var(--sklearn-color-unfitted-level-1) 1pt solid;\n}\n\n#sk-container-id-9 a.estimator_doc_link.fitted {\n  /* fitted */\n  border: var(--sklearn-color-fitted-level-1) 1pt solid;\n  color: var(--sklearn-color-fitted-level-1);\n}\n\n/* On hover */\n#sk-container-id-9 a.estimator_doc_link:hover {\n  /* unfitted */\n  background-color: var(--sklearn-color-unfitted-level-3);\n  color: var(--sklearn-color-background);\n  text-decoration: none;\n}\n\n#sk-container-id-9 a.estimator_doc_link.fitted:hover {\n  /* fitted */\n  background-color: var(--sklearn-color-fitted-level-3);\n}\n</style><div id=\"sk-container-id-9\" class=\"sk-top-container\"><div class=\"sk-text-repr-fallback\"><pre>SGDClassifier(alpha=2.6545371602330262e-06, eta0=0.007698135990041223,\n              learning_rate=&#x27;constant&#x27;, loss=&#x27;squared_hinge&#x27;, n_jobs=-1,\n              penalty=&#x27;l1&#x27;, random_state=62)</pre><b>In a Jupyter environment, please rerun this cell to show the HTML representation or trust the notebook. <br />On GitHub, the HTML representation is unable to render, please try loading this page with nbviewer.org.</b></div><div class=\"sk-container\" hidden><div class=\"sk-item\"><div class=\"sk-estimator fitted sk-toggleable\"><input class=\"sk-toggleable__control sk-hidden--visually\" id=\"sk-estimator-id-9\" type=\"checkbox\" checked><label for=\"sk-estimator-id-9\" class=\"sk-toggleable__label fitted sk-toggleable__label-arrow fitted\">&nbsp;&nbsp;SGDClassifier<a class=\"sk-estimator-doc-link fitted\" rel=\"noreferrer\" target=\"_blank\" href=\"https://scikit-learn.org/1.4/modules/generated/sklearn.linear_model.SGDClassifier.html\">?<span>Documentation for SGDClassifier</span></a><span class=\"sk-estimator-doc-link fitted\">i<span>Fitted</span></span></label><div class=\"sk-toggleable__content fitted\"><pre>SGDClassifier(alpha=2.6545371602330262e-06, eta0=0.007698135990041223,\n              learning_rate=&#x27;constant&#x27;, loss=&#x27;squared_hinge&#x27;, n_jobs=-1,\n              penalty=&#x27;l1&#x27;, random_state=62)</pre></div> </div></div></div></div>"
     },
     "execution_count": 25,
     "metadata": {},
     "output_type": "execute_result"
    }
   ],
   "source": [
    "from sklearn.linear_model import SGDClassifier\n",
    "\n",
    "sgd_model = SGDClassifier(loss='squared_hinge', max_iter=1000, n_jobs=-1, random_state=42,\n",
    "                          penalty='l2', alpha=2.6545371602330262e-06,\n",
    "                          learning_rate='adaptive', eta0=0.007698135990041223)\n",
    "sgd_model.fit(X_train, y_train)"
   ],
   "metadata": {
    "collapsed": false,
    "ExecuteTime": {
     "end_time": "2024-02-24T00:19:30.160680600Z",
     "start_time": "2024-02-24T00:19:29.921243600Z"
    }
   },
   "id": "52c78921d9b40eea",
   "execution_count": 25
  },
  {
   "cell_type": "code",
   "outputs": [
    {
     "name": "stdout",
     "output_type": "stream",
     "text": [
      "              precision    recall  f1-score   support\n",
      "\n",
      "           0       0.68      0.74      0.71        35\n",
      "           1       0.61      0.63      0.62        35\n",
      "           2       0.63      0.61      0.62        28\n",
      "           3       0.65      0.57      0.61        35\n",
      "           4       0.70      0.58      0.64        36\n",
      "           5       0.58      0.67      0.62        43\n",
      "\n",
      "    accuracy                           0.64       212\n",
      "   macro avg       0.64      0.63      0.64       212\n",
      "weighted avg       0.64      0.64      0.64       212\n"
     ]
    }
   ],
   "source": [
    "# Generate classification report\n",
    "y_pred = sgd_model.predict(X_test)\n",
    "print(metrics.classification_report(y_test, y_pred))"
   ],
   "metadata": {
    "collapsed": false,
    "ExecuteTime": {
     "end_time": "2024-02-24T00:19:30.166882300Z",
     "start_time": "2024-02-24T00:19:30.160680600Z"
    }
   },
   "id": "fe95d6f1c77a888d",
   "execution_count": 26
  },
  {
   "cell_type": "markdown",
   "source": [
    "Let's use the `optuna` library to find the best hyperparameters for the model based on the maximization of the accuracy."
   ],
   "metadata": {
    "collapsed": false
   },
   "id": "dc1256b67572c199"
  },
  {
   "cell_type": "code",
   "outputs": [
    {
     "name": "stderr",
     "output_type": "stream",
     "text": [
      "[I 2024-02-24 02:17:19,710] A new study created in memory with name: no-name-d54b32b9-2b9b-44e5-9e8f-adf87eb8c0ca\n",
      "[I 2024-02-24 02:17:21,536] Trial 0 finished with value: 0.21893491124260356 and parameters: {'loss': 'log_loss', 'penalty': 'l1', 'alpha': 5.397077366142353e-06, 'learning_rate': 'invscaling', 'eta0': 0.012154057015426751}. Best is trial 0 with value: 0.21893491124260356.\n",
      "[I 2024-02-24 02:17:25,654] Trial 1 finished with value: 0.21893491124260356 and parameters: {'loss': 'squared_hinge', 'penalty': 'elasticnet', 'alpha': 4.125115444756784e-06, 'learning_rate': 'invscaling', 'eta0': 0.00040753222638232397}. Best is trial 0 with value: 0.21893491124260356.\n",
      "[I 2024-02-24 02:17:30,979] Trial 2 finished with value: 0.6343195266272189 and parameters: {'loss': 'squared_hinge', 'penalty': 'l1', 'alpha': 8.339938338594167e-05, 'learning_rate': 'adaptive', 'eta0': 0.030827234927732625}. Best is trial 2 with value: 0.6343195266272189.\n",
      "[I 2024-02-24 02:17:31,344] Trial 3 finished with value: 0.5289940828402366 and parameters: {'loss': 'perceptron', 'penalty': 'elasticnet', 'alpha': 0.0008793051761092773, 'learning_rate': 'constant', 'eta0': 4.621493431690658e-05}. Best is trial 2 with value: 0.6343195266272189.\n",
      "[I 2024-02-24 02:17:31,492] Trial 4 finished with value: 0.5976331360946746 and parameters: {'loss': 'hinge', 'penalty': 'l2', 'alpha': 1.4543914303955113e-06, 'learning_rate': 'invscaling', 'eta0': 0.0686440917272869}. Best is trial 2 with value: 0.6343195266272189.\n",
      "[I 2024-02-24 02:17:32,365] Trial 5 finished with value: 0.5408284023668639 and parameters: {'loss': 'perceptron', 'penalty': 'elasticnet', 'alpha': 0.0011979040571914207, 'learning_rate': 'optimal', 'eta0': 5.441068949560297e-05}. Best is trial 2 with value: 0.6343195266272189.\n",
      "[I 2024-02-24 02:17:33,710] Trial 6 finished with value: 0.6035502958579881 and parameters: {'loss': 'hinge', 'penalty': 'elasticnet', 'alpha': 7.754020392244619e-06, 'learning_rate': 'adaptive', 'eta0': 0.0009854259674513918}. Best is trial 2 with value: 0.6343195266272189.\n",
      "[I 2024-02-24 02:17:35,458] Trial 7 finished with value: 0.3479289940828402 and parameters: {'loss': 'perceptron', 'penalty': 'elasticnet', 'alpha': 0.006600075130613508, 'learning_rate': 'adaptive', 'eta0': 0.0008967228192267549}. Best is trial 2 with value: 0.6343195266272189.\n",
      "[I 2024-02-24 02:17:35,642] Trial 8 finished with value: 0.21893491124260356 and parameters: {'loss': 'log_loss', 'penalty': 'l2', 'alpha': 0.015012179872132138, 'learning_rate': 'invscaling', 'eta0': 3.9258916644254854e-05}. Best is trial 2 with value: 0.6343195266272189.\n",
      "[I 2024-02-24 02:17:36,193] Trial 9 finished with value: 0.5940828402366863 and parameters: {'loss': 'hinge', 'penalty': 'l2', 'alpha': 1.75124035686528e-05, 'learning_rate': 'adaptive', 'eta0': 0.0005321301146962189}. Best is trial 2 with value: 0.6343195266272189.\n",
      "[I 2024-02-24 02:17:40,721] Trial 10 finished with value: 0.6378698224852071 and parameters: {'loss': 'squared_hinge', 'penalty': 'l1', 'alpha': 4.3548043725952286e-05, 'learning_rate': 'constant', 'eta0': 0.008264085265426907}. Best is trial 10 with value: 0.6378698224852071.\n",
      "[I 2024-02-24 02:17:45,017] Trial 11 finished with value: 0.6355029585798816 and parameters: {'loss': 'squared_hinge', 'penalty': 'l1', 'alpha': 0.00010872346364688557, 'learning_rate': 'constant', 'eta0': 0.010159928570801766}. Best is trial 10 with value: 0.6378698224852071.\n",
      "[I 2024-02-24 02:17:51,210] Trial 12 finished with value: 0.6402366863905326 and parameters: {'loss': 'squared_hinge', 'penalty': 'l1', 'alpha': 7.437708477578699e-05, 'learning_rate': 'constant', 'eta0': 0.005549573541449363}. Best is trial 12 with value: 0.6402366863905326.\n",
      "[I 2024-02-24 02:17:56,719] Trial 13 finished with value: 0.6402366863905324 and parameters: {'loss': 'squared_hinge', 'penalty': 'l1', 'alpha': 7.125558555440648e-05, 'learning_rate': 'constant', 'eta0': 0.004735567757223871}. Best is trial 12 with value: 0.6402366863905326.\n",
      "[I 2024-02-24 02:18:04,711] Trial 14 finished with value: 0.6284023668639053 and parameters: {'loss': 'squared_hinge', 'penalty': 'l1', 'alpha': 0.00031786464357312844, 'learning_rate': 'constant', 'eta0': 0.0036874153061294823}. Best is trial 12 with value: 0.6402366863905326.\n",
      "[I 2024-02-24 02:18:12,493] Trial 15 finished with value: 0.6047337278106509 and parameters: {'loss': 'squared_hinge', 'penalty': 'l1', 'alpha': 0.0014124878122787864, 'learning_rate': 'constant', 'eta0': 0.003031949545935699}. Best is trial 12 with value: 0.6402366863905326.\n",
      "C:\\Users\\panagiotis\\AppData\\Local\\Programs\\Python\\Python311\\Lib\\site-packages\\sklearn\\linear_model\\_stochastic_gradient.py:723: ConvergenceWarning: Maximum number of iteration reached before convergence. Consider increasing max_iter to improve the fit.\n",
      "  warnings.warn(\n",
      "C:\\Users\\panagiotis\\AppData\\Local\\Programs\\Python\\Python311\\Lib\\site-packages\\sklearn\\linear_model\\_stochastic_gradient.py:723: ConvergenceWarning: Maximum number of iteration reached before convergence. Consider increasing max_iter to improve the fit.\n",
      "  warnings.warn(\n",
      "C:\\Users\\panagiotis\\AppData\\Local\\Programs\\Python\\Python311\\Lib\\site-packages\\sklearn\\linear_model\\_stochastic_gradient.py:723: ConvergenceWarning: Maximum number of iteration reached before convergence. Consider increasing max_iter to improve the fit.\n",
      "  warnings.warn(\n",
      "C:\\Users\\panagiotis\\AppData\\Local\\Programs\\Python\\Python311\\Lib\\site-packages\\sklearn\\linear_model\\_stochastic_gradient.py:723: ConvergenceWarning: Maximum number of iteration reached before convergence. Consider increasing max_iter to improve the fit.\n",
      "  warnings.warn(\n",
      "C:\\Users\\panagiotis\\AppData\\Local\\Programs\\Python\\Python311\\Lib\\site-packages\\sklearn\\linear_model\\_stochastic_gradient.py:723: ConvergenceWarning: Maximum number of iteration reached before convergence. Consider increasing max_iter to improve the fit.\n",
      "  warnings.warn(\n",
      "C:\\Users\\panagiotis\\AppData\\Local\\Programs\\Python\\Python311\\Lib\\site-packages\\sklearn\\linear_model\\_stochastic_gradient.py:723: ConvergenceWarning: Maximum number of iteration reached before convergence. Consider increasing max_iter to improve the fit.\n",
      "  warnings.warn(\n",
      "[I 2024-02-24 02:18:37,853] Trial 16 finished with value: 0.3289940828402367 and parameters: {'loss': 'squared_hinge', 'penalty': 'l1', 'alpha': 0.046225104990148015, 'learning_rate': 'optimal', 'eta0': 0.00017644080970614966}. Best is trial 12 with value: 0.6402366863905326.\n",
      "[I 2024-02-24 02:18:41,636] Trial 17 finished with value: 0.21893491124260356 and parameters: {'loss': 'squared_hinge', 'penalty': 'l1', 'alpha': 0.00029898194884213434, 'learning_rate': 'constant', 'eta0': 1.0269951798953467e-05}. Best is trial 12 with value: 0.6402366863905326.\n",
      "[I 2024-02-24 02:18:42,368] Trial 18 finished with value: 0.21893491124260356 and parameters: {'loss': 'log_loss', 'penalty': 'l1', 'alpha': 4.2205743098340456e-05, 'learning_rate': 'constant', 'eta0': 0.0027452017301174574}. Best is trial 12 with value: 0.6402366863905326.\n",
      "[I 2024-02-24 02:18:46,531] Trial 19 finished with value: 0.6130177514792899 and parameters: {'loss': 'squared_hinge', 'penalty': 'l1', 'alpha': 0.0002206031318841139, 'learning_rate': 'constant', 'eta0': 0.09239463894916515}. Best is trial 12 with value: 0.6402366863905326.\n",
      "[I 2024-02-24 02:18:52,222] Trial 20 finished with value: 0.5881656804733728 and parameters: {'loss': 'squared_hinge', 'penalty': 'l2', 'alpha': 0.003615080552877013, 'learning_rate': 'optimal', 'eta0': 0.024609224990146915}. Best is trial 12 with value: 0.6402366863905326.\n",
      "[I 2024-02-24 02:18:59,653] Trial 21 finished with value: 0.6449704142011835 and parameters: {'loss': 'squared_hinge', 'penalty': 'l1', 'alpha': 2.6436435375161252e-05, 'learning_rate': 'constant', 'eta0': 0.006488169283859697}. Best is trial 21 with value: 0.6449704142011835.\n",
      "[I 2024-02-24 02:19:05,525] Trial 22 finished with value: 0.6414201183431952 and parameters: {'loss': 'squared_hinge', 'penalty': 'l1', 'alpha': 1.643424337598053e-05, 'learning_rate': 'constant', 'eta0': 0.005143115292816024}. Best is trial 21 with value: 0.6449704142011835.\n",
      "[I 2024-02-24 02:19:10,748] Trial 23 finished with value: 0.6272189349112426 and parameters: {'loss': 'squared_hinge', 'penalty': 'l1', 'alpha': 2.2177108443847467e-05, 'learning_rate': 'constant', 'eta0': 0.0022388852594668585}. Best is trial 21 with value: 0.6449704142011835.\n",
      "[W 2024-02-24 02:19:10,840] Trial 24 failed with parameters: {'loss': 'squared_hinge', 'penalty': 'l1', 'alpha': 1.50333898909903e-06, 'learning_rate': 'constant', 'eta0': 0.029123393068772888} because of the following error: KeyboardInterrupt().\n",
      "Traceback (most recent call last):\n",
      "  File \"C:\\Users\\panagiotis\\AppData\\Local\\Programs\\Python\\Python311\\Lib\\site-packages\\optuna\\study\\_optimize.py\", line 200, in _run_trial\n",
      "    value_or_values = func(trial)\n",
      "                      ^^^^^^^^^^^\n",
      "  File \"C:\\Users\\panagiotis\\AppData\\Local\\Temp\\ipykernel_17788\\3227327.py\", line 16, in objective\n",
      "    model.fit(X_train, y_train)\n",
      "  File \"C:\\Users\\panagiotis\\AppData\\Local\\Programs\\Python\\Python311\\Lib\\site-packages\\sklearn\\base.py\", line 1351, in wrapper\n",
      "    return fit_method(estimator, *args, **kwargs)\n",
      "           ^^^^^^^^^^^^^^^^^^^^^^^^^^^^^^^^^^^^^^\n",
      "  File \"C:\\Users\\panagiotis\\AppData\\Local\\Programs\\Python\\Python311\\Lib\\site-packages\\sklearn\\linear_model\\_stochastic_gradient.py\", line 917, in fit\n",
      "    return self._fit(\n",
      "           ^^^^^^^^^^\n",
      "  File \"C:\\Users\\panagiotis\\AppData\\Local\\Programs\\Python\\Python311\\Lib\\site-packages\\sklearn\\linear_model\\_stochastic_gradient.py\", line 704, in _fit\n",
      "    self._partial_fit(\n",
      "  File \"C:\\Users\\panagiotis\\AppData\\Local\\Programs\\Python\\Python311\\Lib\\site-packages\\sklearn\\linear_model\\_stochastic_gradient.py\", line 638, in _partial_fit\n",
      "    self._fit_multiclass(\n",
      "  File \"C:\\Users\\panagiotis\\AppData\\Local\\Programs\\Python\\Python311\\Lib\\site-packages\\sklearn\\linear_model\\_stochastic_gradient.py\", line 783, in _fit_multiclass\n",
      "    result = Parallel(\n",
      "             ^^^^^^^^^\n",
      "  File \"C:\\Users\\panagiotis\\AppData\\Local\\Programs\\Python\\Python311\\Lib\\site-packages\\sklearn\\utils\\parallel.py\", line 67, in __call__\n",
      "    return super().__call__(iterable_with_config)\n",
      "           ^^^^^^^^^^^^^^^^^^^^^^^^^^^^^^^^^^^^^^\n",
      "  File \"C:\\Users\\panagiotis\\AppData\\Local\\Programs\\Python\\Python311\\Lib\\site-packages\\joblib\\parallel.py\", line 1863, in __call__\n",
      "    return output if self.return_generator else list(output)\n",
      "                                                ^^^^^^^^^^^^\n",
      "  File \"C:\\Users\\panagiotis\\AppData\\Local\\Programs\\Python\\Python311\\Lib\\site-packages\\joblib\\parallel.py\", line 1792, in _get_sequential_output\n",
      "    res = func(*args, **kwargs)\n",
      "          ^^^^^^^^^^^^^^^^^^^^^\n",
      "  File \"C:\\Users\\panagiotis\\AppData\\Local\\Programs\\Python\\Python311\\Lib\\site-packages\\sklearn\\utils\\parallel.py\", line 129, in __call__\n",
      "    return self.function(*args, **kwargs)\n",
      "           ^^^^^^^^^^^^^^^^^^^^^^^^^^^^^^\n",
      "  File \"C:\\Users\\panagiotis\\AppData\\Local\\Programs\\Python\\Python311\\Lib\\site-packages\\sklearn\\linear_model\\_stochastic_gradient.py\", line 463, in fit_binary\n",
      "    coef, intercept, average_coef, average_intercept, n_iter_ = _plain_sgd(\n",
      "                                                                ^^^^^^^^^^^\n",
      "KeyboardInterrupt\n",
      "[W 2024-02-24 02:19:10,848] Trial 24 failed with value None.\n"
     ]
    },
    {
     "ename": "KeyboardInterrupt",
     "evalue": "",
     "output_type": "error",
     "traceback": [
      "\u001B[1;31m---------------------------------------------------------------------------\u001B[0m",
      "\u001B[1;31mKeyboardInterrupt\u001B[0m                         Traceback (most recent call last)",
      "Cell \u001B[1;32mIn[22], line 25\u001B[0m\n\u001B[0;32m     23\u001B[0m \u001B[38;5;66;03m# Create a study object and specify the optimization direction\u001B[39;00m\n\u001B[0;32m     24\u001B[0m study \u001B[38;5;241m=\u001B[39m optuna\u001B[38;5;241m.\u001B[39mcreate_study(direction\u001B[38;5;241m=\u001B[39m\u001B[38;5;124m'\u001B[39m\u001B[38;5;124mmaximize\u001B[39m\u001B[38;5;124m'\u001B[39m)\n\u001B[1;32m---> 25\u001B[0m \u001B[43mstudy\u001B[49m\u001B[38;5;241;43m.\u001B[39;49m\u001B[43moptimize\u001B[49m\u001B[43m(\u001B[49m\u001B[43mobjective\u001B[49m\u001B[43m,\u001B[49m\u001B[43m \u001B[49m\u001B[43mn_trials\u001B[49m\u001B[38;5;241;43m=\u001B[39;49m\u001B[38;5;241;43m100\u001B[39;49m\u001B[43m)\u001B[49m  \u001B[38;5;66;03m# Adjust the number of trials as needed\u001B[39;00m\n\u001B[0;32m     27\u001B[0m \u001B[38;5;66;03m# Best hyperparameters\u001B[39;00m\n\u001B[0;32m     28\u001B[0m \u001B[38;5;28mprint\u001B[39m(\u001B[38;5;124m'\u001B[39m\u001B[38;5;124mBest trial:\u001B[39m\u001B[38;5;124m'\u001B[39m, study\u001B[38;5;241m.\u001B[39mbest_trial\u001B[38;5;241m.\u001B[39mparams)\n",
      "File \u001B[1;32m~\\AppData\\Local\\Programs\\Python\\Python311\\Lib\\site-packages\\optuna\\study\\study.py:451\u001B[0m, in \u001B[0;36mStudy.optimize\u001B[1;34m(self, func, n_trials, timeout, n_jobs, catch, callbacks, gc_after_trial, show_progress_bar)\u001B[0m\n\u001B[0;32m    348\u001B[0m \u001B[38;5;28;01mdef\u001B[39;00m \u001B[38;5;21moptimize\u001B[39m(\n\u001B[0;32m    349\u001B[0m     \u001B[38;5;28mself\u001B[39m,\n\u001B[0;32m    350\u001B[0m     func: ObjectiveFuncType,\n\u001B[1;32m   (...)\u001B[0m\n\u001B[0;32m    357\u001B[0m     show_progress_bar: \u001B[38;5;28mbool\u001B[39m \u001B[38;5;241m=\u001B[39m \u001B[38;5;28;01mFalse\u001B[39;00m,\n\u001B[0;32m    358\u001B[0m ) \u001B[38;5;241m-\u001B[39m\u001B[38;5;241m>\u001B[39m \u001B[38;5;28;01mNone\u001B[39;00m:\n\u001B[0;32m    359\u001B[0m \u001B[38;5;250m    \u001B[39m\u001B[38;5;124;03m\"\"\"Optimize an objective function.\u001B[39;00m\n\u001B[0;32m    360\u001B[0m \n\u001B[0;32m    361\u001B[0m \u001B[38;5;124;03m    Optimization is done by choosing a suitable set of hyperparameter values from a given\u001B[39;00m\n\u001B[1;32m   (...)\u001B[0m\n\u001B[0;32m    449\u001B[0m \u001B[38;5;124;03m            If nested invocation of this method occurs.\u001B[39;00m\n\u001B[0;32m    450\u001B[0m \u001B[38;5;124;03m    \"\"\"\u001B[39;00m\n\u001B[1;32m--> 451\u001B[0m     \u001B[43m_optimize\u001B[49m\u001B[43m(\u001B[49m\n\u001B[0;32m    452\u001B[0m \u001B[43m        \u001B[49m\u001B[43mstudy\u001B[49m\u001B[38;5;241;43m=\u001B[39;49m\u001B[38;5;28;43mself\u001B[39;49m\u001B[43m,\u001B[49m\n\u001B[0;32m    453\u001B[0m \u001B[43m        \u001B[49m\u001B[43mfunc\u001B[49m\u001B[38;5;241;43m=\u001B[39;49m\u001B[43mfunc\u001B[49m\u001B[43m,\u001B[49m\n\u001B[0;32m    454\u001B[0m \u001B[43m        \u001B[49m\u001B[43mn_trials\u001B[49m\u001B[38;5;241;43m=\u001B[39;49m\u001B[43mn_trials\u001B[49m\u001B[43m,\u001B[49m\n\u001B[0;32m    455\u001B[0m \u001B[43m        \u001B[49m\u001B[43mtimeout\u001B[49m\u001B[38;5;241;43m=\u001B[39;49m\u001B[43mtimeout\u001B[49m\u001B[43m,\u001B[49m\n\u001B[0;32m    456\u001B[0m \u001B[43m        \u001B[49m\u001B[43mn_jobs\u001B[49m\u001B[38;5;241;43m=\u001B[39;49m\u001B[43mn_jobs\u001B[49m\u001B[43m,\u001B[49m\n\u001B[0;32m    457\u001B[0m \u001B[43m        \u001B[49m\u001B[43mcatch\u001B[49m\u001B[38;5;241;43m=\u001B[39;49m\u001B[38;5;28;43mtuple\u001B[39;49m\u001B[43m(\u001B[49m\u001B[43mcatch\u001B[49m\u001B[43m)\u001B[49m\u001B[43m \u001B[49m\u001B[38;5;28;43;01mif\u001B[39;49;00m\u001B[43m \u001B[49m\u001B[38;5;28;43misinstance\u001B[39;49m\u001B[43m(\u001B[49m\u001B[43mcatch\u001B[49m\u001B[43m,\u001B[49m\u001B[43m \u001B[49m\u001B[43mIterable\u001B[49m\u001B[43m)\u001B[49m\u001B[43m \u001B[49m\u001B[38;5;28;43;01melse\u001B[39;49;00m\u001B[43m \u001B[49m\u001B[43m(\u001B[49m\u001B[43mcatch\u001B[49m\u001B[43m,\u001B[49m\u001B[43m)\u001B[49m\u001B[43m,\u001B[49m\n\u001B[0;32m    458\u001B[0m \u001B[43m        \u001B[49m\u001B[43mcallbacks\u001B[49m\u001B[38;5;241;43m=\u001B[39;49m\u001B[43mcallbacks\u001B[49m\u001B[43m,\u001B[49m\n\u001B[0;32m    459\u001B[0m \u001B[43m        \u001B[49m\u001B[43mgc_after_trial\u001B[49m\u001B[38;5;241;43m=\u001B[39;49m\u001B[43mgc_after_trial\u001B[49m\u001B[43m,\u001B[49m\n\u001B[0;32m    460\u001B[0m \u001B[43m        \u001B[49m\u001B[43mshow_progress_bar\u001B[49m\u001B[38;5;241;43m=\u001B[39;49m\u001B[43mshow_progress_bar\u001B[49m\u001B[43m,\u001B[49m\n\u001B[0;32m    461\u001B[0m \u001B[43m    \u001B[49m\u001B[43m)\u001B[49m\n",
      "File \u001B[1;32m~\\AppData\\Local\\Programs\\Python\\Python311\\Lib\\site-packages\\optuna\\study\\_optimize.py:66\u001B[0m, in \u001B[0;36m_optimize\u001B[1;34m(study, func, n_trials, timeout, n_jobs, catch, callbacks, gc_after_trial, show_progress_bar)\u001B[0m\n\u001B[0;32m     64\u001B[0m \u001B[38;5;28;01mtry\u001B[39;00m:\n\u001B[0;32m     65\u001B[0m     \u001B[38;5;28;01mif\u001B[39;00m n_jobs \u001B[38;5;241m==\u001B[39m \u001B[38;5;241m1\u001B[39m:\n\u001B[1;32m---> 66\u001B[0m         \u001B[43m_optimize_sequential\u001B[49m\u001B[43m(\u001B[49m\n\u001B[0;32m     67\u001B[0m \u001B[43m            \u001B[49m\u001B[43mstudy\u001B[49m\u001B[43m,\u001B[49m\n\u001B[0;32m     68\u001B[0m \u001B[43m            \u001B[49m\u001B[43mfunc\u001B[49m\u001B[43m,\u001B[49m\n\u001B[0;32m     69\u001B[0m \u001B[43m            \u001B[49m\u001B[43mn_trials\u001B[49m\u001B[43m,\u001B[49m\n\u001B[0;32m     70\u001B[0m \u001B[43m            \u001B[49m\u001B[43mtimeout\u001B[49m\u001B[43m,\u001B[49m\n\u001B[0;32m     71\u001B[0m \u001B[43m            \u001B[49m\u001B[43mcatch\u001B[49m\u001B[43m,\u001B[49m\n\u001B[0;32m     72\u001B[0m \u001B[43m            \u001B[49m\u001B[43mcallbacks\u001B[49m\u001B[43m,\u001B[49m\n\u001B[0;32m     73\u001B[0m \u001B[43m            \u001B[49m\u001B[43mgc_after_trial\u001B[49m\u001B[43m,\u001B[49m\n\u001B[0;32m     74\u001B[0m \u001B[43m            \u001B[49m\u001B[43mreseed_sampler_rng\u001B[49m\u001B[38;5;241;43m=\u001B[39;49m\u001B[38;5;28;43;01mFalse\u001B[39;49;00m\u001B[43m,\u001B[49m\n\u001B[0;32m     75\u001B[0m \u001B[43m            \u001B[49m\u001B[43mtime_start\u001B[49m\u001B[38;5;241;43m=\u001B[39;49m\u001B[38;5;28;43;01mNone\u001B[39;49;00m\u001B[43m,\u001B[49m\n\u001B[0;32m     76\u001B[0m \u001B[43m            \u001B[49m\u001B[43mprogress_bar\u001B[49m\u001B[38;5;241;43m=\u001B[39;49m\u001B[43mprogress_bar\u001B[49m\u001B[43m,\u001B[49m\n\u001B[0;32m     77\u001B[0m \u001B[43m        \u001B[49m\u001B[43m)\u001B[49m\n\u001B[0;32m     78\u001B[0m     \u001B[38;5;28;01melse\u001B[39;00m:\n\u001B[0;32m     79\u001B[0m         \u001B[38;5;28;01mif\u001B[39;00m n_jobs \u001B[38;5;241m==\u001B[39m \u001B[38;5;241m-\u001B[39m\u001B[38;5;241m1\u001B[39m:\n",
      "File \u001B[1;32m~\\AppData\\Local\\Programs\\Python\\Python311\\Lib\\site-packages\\optuna\\study\\_optimize.py:163\u001B[0m, in \u001B[0;36m_optimize_sequential\u001B[1;34m(study, func, n_trials, timeout, catch, callbacks, gc_after_trial, reseed_sampler_rng, time_start, progress_bar)\u001B[0m\n\u001B[0;32m    160\u001B[0m         \u001B[38;5;28;01mbreak\u001B[39;00m\n\u001B[0;32m    162\u001B[0m \u001B[38;5;28;01mtry\u001B[39;00m:\n\u001B[1;32m--> 163\u001B[0m     frozen_trial \u001B[38;5;241m=\u001B[39m \u001B[43m_run_trial\u001B[49m\u001B[43m(\u001B[49m\u001B[43mstudy\u001B[49m\u001B[43m,\u001B[49m\u001B[43m \u001B[49m\u001B[43mfunc\u001B[49m\u001B[43m,\u001B[49m\u001B[43m \u001B[49m\u001B[43mcatch\u001B[49m\u001B[43m)\u001B[49m\n\u001B[0;32m    164\u001B[0m \u001B[38;5;28;01mfinally\u001B[39;00m:\n\u001B[0;32m    165\u001B[0m     \u001B[38;5;66;03m# The following line mitigates memory problems that can be occurred in some\u001B[39;00m\n\u001B[0;32m    166\u001B[0m     \u001B[38;5;66;03m# environments (e.g., services that use computing containers such as GitHub Actions).\u001B[39;00m\n\u001B[0;32m    167\u001B[0m     \u001B[38;5;66;03m# Please refer to the following PR for further details:\u001B[39;00m\n\u001B[0;32m    168\u001B[0m     \u001B[38;5;66;03m# https://github.com/optuna/optuna/pull/325.\u001B[39;00m\n\u001B[0;32m    169\u001B[0m     \u001B[38;5;28;01mif\u001B[39;00m gc_after_trial:\n",
      "File \u001B[1;32m~\\AppData\\Local\\Programs\\Python\\Python311\\Lib\\site-packages\\optuna\\study\\_optimize.py:251\u001B[0m, in \u001B[0;36m_run_trial\u001B[1;34m(study, func, catch)\u001B[0m\n\u001B[0;32m    244\u001B[0m         \u001B[38;5;28;01massert\u001B[39;00m \u001B[38;5;28;01mFalse\u001B[39;00m, \u001B[38;5;124m\"\u001B[39m\u001B[38;5;124mShould not reach.\u001B[39m\u001B[38;5;124m\"\u001B[39m\n\u001B[0;32m    246\u001B[0m \u001B[38;5;28;01mif\u001B[39;00m (\n\u001B[0;32m    247\u001B[0m     frozen_trial\u001B[38;5;241m.\u001B[39mstate \u001B[38;5;241m==\u001B[39m TrialState\u001B[38;5;241m.\u001B[39mFAIL\n\u001B[0;32m    248\u001B[0m     \u001B[38;5;129;01mand\u001B[39;00m func_err \u001B[38;5;129;01mis\u001B[39;00m \u001B[38;5;129;01mnot\u001B[39;00m \u001B[38;5;28;01mNone\u001B[39;00m\n\u001B[0;32m    249\u001B[0m     \u001B[38;5;129;01mand\u001B[39;00m \u001B[38;5;129;01mnot\u001B[39;00m \u001B[38;5;28misinstance\u001B[39m(func_err, catch)\n\u001B[0;32m    250\u001B[0m ):\n\u001B[1;32m--> 251\u001B[0m     \u001B[38;5;28;01mraise\u001B[39;00m func_err\n\u001B[0;32m    252\u001B[0m \u001B[38;5;28;01mreturn\u001B[39;00m frozen_trial\n",
      "File \u001B[1;32m~\\AppData\\Local\\Programs\\Python\\Python311\\Lib\\site-packages\\optuna\\study\\_optimize.py:200\u001B[0m, in \u001B[0;36m_run_trial\u001B[1;34m(study, func, catch)\u001B[0m\n\u001B[0;32m    198\u001B[0m \u001B[38;5;28;01mwith\u001B[39;00m get_heartbeat_thread(trial\u001B[38;5;241m.\u001B[39m_trial_id, study\u001B[38;5;241m.\u001B[39m_storage):\n\u001B[0;32m    199\u001B[0m     \u001B[38;5;28;01mtry\u001B[39;00m:\n\u001B[1;32m--> 200\u001B[0m         value_or_values \u001B[38;5;241m=\u001B[39m \u001B[43mfunc\u001B[49m\u001B[43m(\u001B[49m\u001B[43mtrial\u001B[49m\u001B[43m)\u001B[49m\n\u001B[0;32m    201\u001B[0m     \u001B[38;5;28;01mexcept\u001B[39;00m exceptions\u001B[38;5;241m.\u001B[39mTrialPruned \u001B[38;5;28;01mas\u001B[39;00m e:\n\u001B[0;32m    202\u001B[0m         \u001B[38;5;66;03m# TODO(mamu): Handle multi-objective cases.\u001B[39;00m\n\u001B[0;32m    203\u001B[0m         state \u001B[38;5;241m=\u001B[39m TrialState\u001B[38;5;241m.\u001B[39mPRUNED\n",
      "Cell \u001B[1;32mIn[22], line 16\u001B[0m, in \u001B[0;36mobjective\u001B[1;34m(trial)\u001B[0m\n\u001B[0;32m     13\u001B[0m \u001B[38;5;66;03m# Create and train the SGD Classifier\u001B[39;00m\n\u001B[0;32m     14\u001B[0m model \u001B[38;5;241m=\u001B[39m SGDClassifier(loss\u001B[38;5;241m=\u001B[39mloss, penalty\u001B[38;5;241m=\u001B[39mpenalty, alpha\u001B[38;5;241m=\u001B[39malpha, learning_rate\u001B[38;5;241m=\u001B[39mlearning_rate, eta0\u001B[38;5;241m=\u001B[39meta0,\n\u001B[0;32m     15\u001B[0m                       random_state\u001B[38;5;241m=\u001B[39m\u001B[38;5;241m42\u001B[39m)\n\u001B[1;32m---> 16\u001B[0m \u001B[43mmodel\u001B[49m\u001B[38;5;241;43m.\u001B[39;49m\u001B[43mfit\u001B[49m\u001B[43m(\u001B[49m\u001B[43mX_train\u001B[49m\u001B[43m,\u001B[49m\u001B[43m \u001B[49m\u001B[43my_train\u001B[49m\u001B[43m)\u001B[49m\n\u001B[0;32m     18\u001B[0m \u001B[38;5;66;03m# Perform cross-validation and return the mean score\u001B[39;00m\n\u001B[0;32m     19\u001B[0m scores \u001B[38;5;241m=\u001B[39m cross_val_score(model, X_train, y_train, cv\u001B[38;5;241m=\u001B[39m\u001B[38;5;241m5\u001B[39m)  \u001B[38;5;66;03m# cv=5 for 5-fold cross-validation\u001B[39;00m\n",
      "File \u001B[1;32m~\\AppData\\Local\\Programs\\Python\\Python311\\Lib\\site-packages\\sklearn\\base.py:1351\u001B[0m, in \u001B[0;36m_fit_context.<locals>.decorator.<locals>.wrapper\u001B[1;34m(estimator, *args, **kwargs)\u001B[0m\n\u001B[0;32m   1344\u001B[0m     estimator\u001B[38;5;241m.\u001B[39m_validate_params()\n\u001B[0;32m   1346\u001B[0m \u001B[38;5;28;01mwith\u001B[39;00m config_context(\n\u001B[0;32m   1347\u001B[0m     skip_parameter_validation\u001B[38;5;241m=\u001B[39m(\n\u001B[0;32m   1348\u001B[0m         prefer_skip_nested_validation \u001B[38;5;129;01mor\u001B[39;00m global_skip_validation\n\u001B[0;32m   1349\u001B[0m     )\n\u001B[0;32m   1350\u001B[0m ):\n\u001B[1;32m-> 1351\u001B[0m     \u001B[38;5;28;01mreturn\u001B[39;00m \u001B[43mfit_method\u001B[49m\u001B[43m(\u001B[49m\u001B[43mestimator\u001B[49m\u001B[43m,\u001B[49m\u001B[43m \u001B[49m\u001B[38;5;241;43m*\u001B[39;49m\u001B[43margs\u001B[49m\u001B[43m,\u001B[49m\u001B[43m \u001B[49m\u001B[38;5;241;43m*\u001B[39;49m\u001B[38;5;241;43m*\u001B[39;49m\u001B[43mkwargs\u001B[49m\u001B[43m)\u001B[49m\n",
      "File \u001B[1;32m~\\AppData\\Local\\Programs\\Python\\Python311\\Lib\\site-packages\\sklearn\\linear_model\\_stochastic_gradient.py:917\u001B[0m, in \u001B[0;36mBaseSGDClassifier.fit\u001B[1;34m(self, X, y, coef_init, intercept_init, sample_weight)\u001B[0m\n\u001B[0;32m    888\u001B[0m \u001B[38;5;250m\u001B[39m\u001B[38;5;124;03m\"\"\"Fit linear model with Stochastic Gradient Descent.\u001B[39;00m\n\u001B[0;32m    889\u001B[0m \n\u001B[0;32m    890\u001B[0m \u001B[38;5;124;03mParameters\u001B[39;00m\n\u001B[1;32m   (...)\u001B[0m\n\u001B[0;32m    913\u001B[0m \u001B[38;5;124;03m    Returns an instance of self.\u001B[39;00m\n\u001B[0;32m    914\u001B[0m \u001B[38;5;124;03m\"\"\"\u001B[39;00m\n\u001B[0;32m    915\u001B[0m \u001B[38;5;28mself\u001B[39m\u001B[38;5;241m.\u001B[39m_more_validate_params()\n\u001B[1;32m--> 917\u001B[0m \u001B[38;5;28;01mreturn\u001B[39;00m \u001B[38;5;28;43mself\u001B[39;49m\u001B[38;5;241;43m.\u001B[39;49m\u001B[43m_fit\u001B[49m\u001B[43m(\u001B[49m\n\u001B[0;32m    918\u001B[0m \u001B[43m    \u001B[49m\u001B[43mX\u001B[49m\u001B[43m,\u001B[49m\n\u001B[0;32m    919\u001B[0m \u001B[43m    \u001B[49m\u001B[43my\u001B[49m\u001B[43m,\u001B[49m\n\u001B[0;32m    920\u001B[0m \u001B[43m    \u001B[49m\u001B[43malpha\u001B[49m\u001B[38;5;241;43m=\u001B[39;49m\u001B[38;5;28;43mself\u001B[39;49m\u001B[38;5;241;43m.\u001B[39;49m\u001B[43malpha\u001B[49m\u001B[43m,\u001B[49m\n\u001B[0;32m    921\u001B[0m \u001B[43m    \u001B[49m\u001B[43mC\u001B[49m\u001B[38;5;241;43m=\u001B[39;49m\u001B[38;5;241;43m1.0\u001B[39;49m\u001B[43m,\u001B[49m\n\u001B[0;32m    922\u001B[0m \u001B[43m    \u001B[49m\u001B[43mloss\u001B[49m\u001B[38;5;241;43m=\u001B[39;49m\u001B[38;5;28;43mself\u001B[39;49m\u001B[38;5;241;43m.\u001B[39;49m\u001B[43mloss\u001B[49m\u001B[43m,\u001B[49m\n\u001B[0;32m    923\u001B[0m \u001B[43m    \u001B[49m\u001B[43mlearning_rate\u001B[49m\u001B[38;5;241;43m=\u001B[39;49m\u001B[38;5;28;43mself\u001B[39;49m\u001B[38;5;241;43m.\u001B[39;49m\u001B[43mlearning_rate\u001B[49m\u001B[43m,\u001B[49m\n\u001B[0;32m    924\u001B[0m \u001B[43m    \u001B[49m\u001B[43mcoef_init\u001B[49m\u001B[38;5;241;43m=\u001B[39;49m\u001B[43mcoef_init\u001B[49m\u001B[43m,\u001B[49m\n\u001B[0;32m    925\u001B[0m \u001B[43m    \u001B[49m\u001B[43mintercept_init\u001B[49m\u001B[38;5;241;43m=\u001B[39;49m\u001B[43mintercept_init\u001B[49m\u001B[43m,\u001B[49m\n\u001B[0;32m    926\u001B[0m \u001B[43m    \u001B[49m\u001B[43msample_weight\u001B[49m\u001B[38;5;241;43m=\u001B[39;49m\u001B[43msample_weight\u001B[49m\u001B[43m,\u001B[49m\n\u001B[0;32m    927\u001B[0m \u001B[43m\u001B[49m\u001B[43m)\u001B[49m\n",
      "File \u001B[1;32m~\\AppData\\Local\\Programs\\Python\\Python311\\Lib\\site-packages\\sklearn\\linear_model\\_stochastic_gradient.py:704\u001B[0m, in \u001B[0;36mBaseSGDClassifier._fit\u001B[1;34m(self, X, y, alpha, C, loss, learning_rate, coef_init, intercept_init, sample_weight)\u001B[0m\n\u001B[0;32m    701\u001B[0m \u001B[38;5;66;03m# Clear iteration count for multiple call to fit.\u001B[39;00m\n\u001B[0;32m    702\u001B[0m \u001B[38;5;28mself\u001B[39m\u001B[38;5;241m.\u001B[39mt_ \u001B[38;5;241m=\u001B[39m \u001B[38;5;241m1.0\u001B[39m\n\u001B[1;32m--> 704\u001B[0m \u001B[38;5;28;43mself\u001B[39;49m\u001B[38;5;241;43m.\u001B[39;49m\u001B[43m_partial_fit\u001B[49m\u001B[43m(\u001B[49m\n\u001B[0;32m    705\u001B[0m \u001B[43m    \u001B[49m\u001B[43mX\u001B[49m\u001B[43m,\u001B[49m\n\u001B[0;32m    706\u001B[0m \u001B[43m    \u001B[49m\u001B[43my\u001B[49m\u001B[43m,\u001B[49m\n\u001B[0;32m    707\u001B[0m \u001B[43m    \u001B[49m\u001B[43malpha\u001B[49m\u001B[43m,\u001B[49m\n\u001B[0;32m    708\u001B[0m \u001B[43m    \u001B[49m\u001B[43mC\u001B[49m\u001B[43m,\u001B[49m\n\u001B[0;32m    709\u001B[0m \u001B[43m    \u001B[49m\u001B[43mloss\u001B[49m\u001B[43m,\u001B[49m\n\u001B[0;32m    710\u001B[0m \u001B[43m    \u001B[49m\u001B[43mlearning_rate\u001B[49m\u001B[43m,\u001B[49m\n\u001B[0;32m    711\u001B[0m \u001B[43m    \u001B[49m\u001B[38;5;28;43mself\u001B[39;49m\u001B[38;5;241;43m.\u001B[39;49m\u001B[43mmax_iter\u001B[49m\u001B[43m,\u001B[49m\n\u001B[0;32m    712\u001B[0m \u001B[43m    \u001B[49m\u001B[43mclasses\u001B[49m\u001B[43m,\u001B[49m\n\u001B[0;32m    713\u001B[0m \u001B[43m    \u001B[49m\u001B[43msample_weight\u001B[49m\u001B[43m,\u001B[49m\n\u001B[0;32m    714\u001B[0m \u001B[43m    \u001B[49m\u001B[43mcoef_init\u001B[49m\u001B[43m,\u001B[49m\n\u001B[0;32m    715\u001B[0m \u001B[43m    \u001B[49m\u001B[43mintercept_init\u001B[49m\u001B[43m,\u001B[49m\n\u001B[0;32m    716\u001B[0m \u001B[43m\u001B[49m\u001B[43m)\u001B[49m\n\u001B[0;32m    718\u001B[0m \u001B[38;5;28;01mif\u001B[39;00m (\n\u001B[0;32m    719\u001B[0m     \u001B[38;5;28mself\u001B[39m\u001B[38;5;241m.\u001B[39mtol \u001B[38;5;129;01mis\u001B[39;00m \u001B[38;5;129;01mnot\u001B[39;00m \u001B[38;5;28;01mNone\u001B[39;00m\n\u001B[0;32m    720\u001B[0m     \u001B[38;5;129;01mand\u001B[39;00m \u001B[38;5;28mself\u001B[39m\u001B[38;5;241m.\u001B[39mtol \u001B[38;5;241m>\u001B[39m \u001B[38;5;241m-\u001B[39mnp\u001B[38;5;241m.\u001B[39minf\n\u001B[0;32m    721\u001B[0m     \u001B[38;5;129;01mand\u001B[39;00m \u001B[38;5;28mself\u001B[39m\u001B[38;5;241m.\u001B[39mn_iter_ \u001B[38;5;241m==\u001B[39m \u001B[38;5;28mself\u001B[39m\u001B[38;5;241m.\u001B[39mmax_iter\n\u001B[0;32m    722\u001B[0m ):\n\u001B[0;32m    723\u001B[0m     warnings\u001B[38;5;241m.\u001B[39mwarn(\n\u001B[0;32m    724\u001B[0m         (\n\u001B[0;32m    725\u001B[0m             \u001B[38;5;124m\"\u001B[39m\u001B[38;5;124mMaximum number of iteration reached before \u001B[39m\u001B[38;5;124m\"\u001B[39m\n\u001B[1;32m   (...)\u001B[0m\n\u001B[0;32m    729\u001B[0m         ConvergenceWarning,\n\u001B[0;32m    730\u001B[0m     )\n",
      "File \u001B[1;32m~\\AppData\\Local\\Programs\\Python\\Python311\\Lib\\site-packages\\sklearn\\linear_model\\_stochastic_gradient.py:638\u001B[0m, in \u001B[0;36mBaseSGDClassifier._partial_fit\u001B[1;34m(self, X, y, alpha, C, loss, learning_rate, max_iter, classes, sample_weight, coef_init, intercept_init)\u001B[0m\n\u001B[0;32m    636\u001B[0m \u001B[38;5;66;03m# delegate to concrete training procedure\u001B[39;00m\n\u001B[0;32m    637\u001B[0m \u001B[38;5;28;01mif\u001B[39;00m n_classes \u001B[38;5;241m>\u001B[39m \u001B[38;5;241m2\u001B[39m:\n\u001B[1;32m--> 638\u001B[0m     \u001B[38;5;28;43mself\u001B[39;49m\u001B[38;5;241;43m.\u001B[39;49m\u001B[43m_fit_multiclass\u001B[49m\u001B[43m(\u001B[49m\n\u001B[0;32m    639\u001B[0m \u001B[43m        \u001B[49m\u001B[43mX\u001B[49m\u001B[43m,\u001B[49m\n\u001B[0;32m    640\u001B[0m \u001B[43m        \u001B[49m\u001B[43my\u001B[49m\u001B[43m,\u001B[49m\n\u001B[0;32m    641\u001B[0m \u001B[43m        \u001B[49m\u001B[43malpha\u001B[49m\u001B[38;5;241;43m=\u001B[39;49m\u001B[43malpha\u001B[49m\u001B[43m,\u001B[49m\n\u001B[0;32m    642\u001B[0m \u001B[43m        \u001B[49m\u001B[43mC\u001B[49m\u001B[38;5;241;43m=\u001B[39;49m\u001B[43mC\u001B[49m\u001B[43m,\u001B[49m\n\u001B[0;32m    643\u001B[0m \u001B[43m        \u001B[49m\u001B[43mlearning_rate\u001B[49m\u001B[38;5;241;43m=\u001B[39;49m\u001B[43mlearning_rate\u001B[49m\u001B[43m,\u001B[49m\n\u001B[0;32m    644\u001B[0m \u001B[43m        \u001B[49m\u001B[43msample_weight\u001B[49m\u001B[38;5;241;43m=\u001B[39;49m\u001B[43msample_weight\u001B[49m\u001B[43m,\u001B[49m\n\u001B[0;32m    645\u001B[0m \u001B[43m        \u001B[49m\u001B[43mmax_iter\u001B[49m\u001B[38;5;241;43m=\u001B[39;49m\u001B[43mmax_iter\u001B[49m\u001B[43m,\u001B[49m\n\u001B[0;32m    646\u001B[0m \u001B[43m    \u001B[49m\u001B[43m)\u001B[49m\n\u001B[0;32m    647\u001B[0m \u001B[38;5;28;01melif\u001B[39;00m n_classes \u001B[38;5;241m==\u001B[39m \u001B[38;5;241m2\u001B[39m:\n\u001B[0;32m    648\u001B[0m     \u001B[38;5;28mself\u001B[39m\u001B[38;5;241m.\u001B[39m_fit_binary(\n\u001B[0;32m    649\u001B[0m         X,\n\u001B[0;32m    650\u001B[0m         y,\n\u001B[1;32m   (...)\u001B[0m\n\u001B[0;32m    655\u001B[0m         max_iter\u001B[38;5;241m=\u001B[39mmax_iter,\n\u001B[0;32m    656\u001B[0m     )\n",
      "File \u001B[1;32m~\\AppData\\Local\\Programs\\Python\\Python311\\Lib\\site-packages\\sklearn\\linear_model\\_stochastic_gradient.py:783\u001B[0m, in \u001B[0;36mBaseSGDClassifier._fit_multiclass\u001B[1;34m(self, X, y, alpha, C, learning_rate, sample_weight, max_iter)\u001B[0m\n\u001B[0;32m    781\u001B[0m random_state \u001B[38;5;241m=\u001B[39m check_random_state(\u001B[38;5;28mself\u001B[39m\u001B[38;5;241m.\u001B[39mrandom_state)\n\u001B[0;32m    782\u001B[0m seeds \u001B[38;5;241m=\u001B[39m random_state\u001B[38;5;241m.\u001B[39mrandint(MAX_INT, size\u001B[38;5;241m=\u001B[39m\u001B[38;5;28mlen\u001B[39m(\u001B[38;5;28mself\u001B[39m\u001B[38;5;241m.\u001B[39mclasses_))\n\u001B[1;32m--> 783\u001B[0m result \u001B[38;5;241m=\u001B[39m \u001B[43mParallel\u001B[49m\u001B[43m(\u001B[49m\n\u001B[0;32m    784\u001B[0m \u001B[43m    \u001B[49m\u001B[43mn_jobs\u001B[49m\u001B[38;5;241;43m=\u001B[39;49m\u001B[38;5;28;43mself\u001B[39;49m\u001B[38;5;241;43m.\u001B[39;49m\u001B[43mn_jobs\u001B[49m\u001B[43m,\u001B[49m\u001B[43m \u001B[49m\u001B[43mverbose\u001B[49m\u001B[38;5;241;43m=\u001B[39;49m\u001B[38;5;28;43mself\u001B[39;49m\u001B[38;5;241;43m.\u001B[39;49m\u001B[43mverbose\u001B[49m\u001B[43m,\u001B[49m\u001B[43m \u001B[49m\u001B[43mrequire\u001B[49m\u001B[38;5;241;43m=\u001B[39;49m\u001B[38;5;124;43m\"\u001B[39;49m\u001B[38;5;124;43msharedmem\u001B[39;49m\u001B[38;5;124;43m\"\u001B[39;49m\n\u001B[0;32m    785\u001B[0m \u001B[43m\u001B[49m\u001B[43m)\u001B[49m\u001B[43m(\u001B[49m\n\u001B[0;32m    786\u001B[0m \u001B[43m    \u001B[49m\u001B[43mdelayed\u001B[49m\u001B[43m(\u001B[49m\u001B[43mfit_binary\u001B[49m\u001B[43m)\u001B[49m\u001B[43m(\u001B[49m\n\u001B[0;32m    787\u001B[0m \u001B[43m        \u001B[49m\u001B[38;5;28;43mself\u001B[39;49m\u001B[43m,\u001B[49m\n\u001B[0;32m    788\u001B[0m \u001B[43m        \u001B[49m\u001B[43mi\u001B[49m\u001B[43m,\u001B[49m\n\u001B[0;32m    789\u001B[0m \u001B[43m        \u001B[49m\u001B[43mX\u001B[49m\u001B[43m,\u001B[49m\n\u001B[0;32m    790\u001B[0m \u001B[43m        \u001B[49m\u001B[43my\u001B[49m\u001B[43m,\u001B[49m\n\u001B[0;32m    791\u001B[0m \u001B[43m        \u001B[49m\u001B[43malpha\u001B[49m\u001B[43m,\u001B[49m\n\u001B[0;32m    792\u001B[0m \u001B[43m        \u001B[49m\u001B[43mC\u001B[49m\u001B[43m,\u001B[49m\n\u001B[0;32m    793\u001B[0m \u001B[43m        \u001B[49m\u001B[43mlearning_rate\u001B[49m\u001B[43m,\u001B[49m\n\u001B[0;32m    794\u001B[0m \u001B[43m        \u001B[49m\u001B[43mmax_iter\u001B[49m\u001B[43m,\u001B[49m\n\u001B[0;32m    795\u001B[0m \u001B[43m        \u001B[49m\u001B[38;5;28;43mself\u001B[39;49m\u001B[38;5;241;43m.\u001B[39;49m\u001B[43m_expanded_class_weight\u001B[49m\u001B[43m[\u001B[49m\u001B[43mi\u001B[49m\u001B[43m]\u001B[49m\u001B[43m,\u001B[49m\n\u001B[0;32m    796\u001B[0m \u001B[43m        \u001B[49m\u001B[38;5;241;43m1.0\u001B[39;49m\u001B[43m,\u001B[49m\n\u001B[0;32m    797\u001B[0m \u001B[43m        \u001B[49m\u001B[43msample_weight\u001B[49m\u001B[43m,\u001B[49m\n\u001B[0;32m    798\u001B[0m \u001B[43m        \u001B[49m\u001B[43mvalidation_mask\u001B[49m\u001B[38;5;241;43m=\u001B[39;49m\u001B[43mvalidation_mask\u001B[49m\u001B[43m,\u001B[49m\n\u001B[0;32m    799\u001B[0m \u001B[43m        \u001B[49m\u001B[43mrandom_state\u001B[49m\u001B[38;5;241;43m=\u001B[39;49m\u001B[43mseed\u001B[49m\u001B[43m,\u001B[49m\n\u001B[0;32m    800\u001B[0m \u001B[43m    \u001B[49m\u001B[43m)\u001B[49m\n\u001B[0;32m    801\u001B[0m \u001B[43m    \u001B[49m\u001B[38;5;28;43;01mfor\u001B[39;49;00m\u001B[43m \u001B[49m\u001B[43mi\u001B[49m\u001B[43m,\u001B[49m\u001B[43m \u001B[49m\u001B[43mseed\u001B[49m\u001B[43m \u001B[49m\u001B[38;5;129;43;01min\u001B[39;49;00m\u001B[43m \u001B[49m\u001B[38;5;28;43menumerate\u001B[39;49m\u001B[43m(\u001B[49m\u001B[43mseeds\u001B[49m\u001B[43m)\u001B[49m\n\u001B[0;32m    802\u001B[0m \u001B[43m\u001B[49m\u001B[43m)\u001B[49m\n\u001B[0;32m    804\u001B[0m \u001B[38;5;66;03m# take the maximum of n_iter_ over every binary fit\u001B[39;00m\n\u001B[0;32m    805\u001B[0m n_iter_ \u001B[38;5;241m=\u001B[39m \u001B[38;5;241m0.0\u001B[39m\n",
      "File \u001B[1;32m~\\AppData\\Local\\Programs\\Python\\Python311\\Lib\\site-packages\\sklearn\\utils\\parallel.py:67\u001B[0m, in \u001B[0;36mParallel.__call__\u001B[1;34m(self, iterable)\u001B[0m\n\u001B[0;32m     62\u001B[0m config \u001B[38;5;241m=\u001B[39m get_config()\n\u001B[0;32m     63\u001B[0m iterable_with_config \u001B[38;5;241m=\u001B[39m (\n\u001B[0;32m     64\u001B[0m     (_with_config(delayed_func, config), args, kwargs)\n\u001B[0;32m     65\u001B[0m     \u001B[38;5;28;01mfor\u001B[39;00m delayed_func, args, kwargs \u001B[38;5;129;01min\u001B[39;00m iterable\n\u001B[0;32m     66\u001B[0m )\n\u001B[1;32m---> 67\u001B[0m \u001B[38;5;28;01mreturn\u001B[39;00m \u001B[38;5;28;43msuper\u001B[39;49m\u001B[43m(\u001B[49m\u001B[43m)\u001B[49m\u001B[38;5;241;43m.\u001B[39;49m\u001B[38;5;21;43m__call__\u001B[39;49m\u001B[43m(\u001B[49m\u001B[43miterable_with_config\u001B[49m\u001B[43m)\u001B[49m\n",
      "File \u001B[1;32m~\\AppData\\Local\\Programs\\Python\\Python311\\Lib\\site-packages\\joblib\\parallel.py:1863\u001B[0m, in \u001B[0;36mParallel.__call__\u001B[1;34m(self, iterable)\u001B[0m\n\u001B[0;32m   1861\u001B[0m     output \u001B[38;5;241m=\u001B[39m \u001B[38;5;28mself\u001B[39m\u001B[38;5;241m.\u001B[39m_get_sequential_output(iterable)\n\u001B[0;32m   1862\u001B[0m     \u001B[38;5;28mnext\u001B[39m(output)\n\u001B[1;32m-> 1863\u001B[0m     \u001B[38;5;28;01mreturn\u001B[39;00m output \u001B[38;5;28;01mif\u001B[39;00m \u001B[38;5;28mself\u001B[39m\u001B[38;5;241m.\u001B[39mreturn_generator \u001B[38;5;28;01melse\u001B[39;00m \u001B[38;5;28mlist\u001B[39m(output)\n\u001B[0;32m   1865\u001B[0m \u001B[38;5;66;03m# Let's create an ID that uniquely identifies the current call. If the\u001B[39;00m\n\u001B[0;32m   1866\u001B[0m \u001B[38;5;66;03m# call is interrupted early and that the same instance is immediately\u001B[39;00m\n\u001B[0;32m   1867\u001B[0m \u001B[38;5;66;03m# re-used, this id will be used to prevent workers that were\u001B[39;00m\n\u001B[0;32m   1868\u001B[0m \u001B[38;5;66;03m# concurrently finalizing a task from the previous call to run the\u001B[39;00m\n\u001B[0;32m   1869\u001B[0m \u001B[38;5;66;03m# callback.\u001B[39;00m\n\u001B[0;32m   1870\u001B[0m \u001B[38;5;28;01mwith\u001B[39;00m \u001B[38;5;28mself\u001B[39m\u001B[38;5;241m.\u001B[39m_lock:\n",
      "File \u001B[1;32m~\\AppData\\Local\\Programs\\Python\\Python311\\Lib\\site-packages\\joblib\\parallel.py:1792\u001B[0m, in \u001B[0;36mParallel._get_sequential_output\u001B[1;34m(self, iterable)\u001B[0m\n\u001B[0;32m   1790\u001B[0m \u001B[38;5;28mself\u001B[39m\u001B[38;5;241m.\u001B[39mn_dispatched_batches \u001B[38;5;241m+\u001B[39m\u001B[38;5;241m=\u001B[39m \u001B[38;5;241m1\u001B[39m\n\u001B[0;32m   1791\u001B[0m \u001B[38;5;28mself\u001B[39m\u001B[38;5;241m.\u001B[39mn_dispatched_tasks \u001B[38;5;241m+\u001B[39m\u001B[38;5;241m=\u001B[39m \u001B[38;5;241m1\u001B[39m\n\u001B[1;32m-> 1792\u001B[0m res \u001B[38;5;241m=\u001B[39m \u001B[43mfunc\u001B[49m\u001B[43m(\u001B[49m\u001B[38;5;241;43m*\u001B[39;49m\u001B[43margs\u001B[49m\u001B[43m,\u001B[49m\u001B[43m \u001B[49m\u001B[38;5;241;43m*\u001B[39;49m\u001B[38;5;241;43m*\u001B[39;49m\u001B[43mkwargs\u001B[49m\u001B[43m)\u001B[49m\n\u001B[0;32m   1793\u001B[0m \u001B[38;5;28mself\u001B[39m\u001B[38;5;241m.\u001B[39mn_completed_tasks \u001B[38;5;241m+\u001B[39m\u001B[38;5;241m=\u001B[39m \u001B[38;5;241m1\u001B[39m\n\u001B[0;32m   1794\u001B[0m \u001B[38;5;28mself\u001B[39m\u001B[38;5;241m.\u001B[39mprint_progress()\n",
      "File \u001B[1;32m~\\AppData\\Local\\Programs\\Python\\Python311\\Lib\\site-packages\\sklearn\\utils\\parallel.py:129\u001B[0m, in \u001B[0;36m_FuncWrapper.__call__\u001B[1;34m(self, *args, **kwargs)\u001B[0m\n\u001B[0;32m    127\u001B[0m     config \u001B[38;5;241m=\u001B[39m {}\n\u001B[0;32m    128\u001B[0m \u001B[38;5;28;01mwith\u001B[39;00m config_context(\u001B[38;5;241m*\u001B[39m\u001B[38;5;241m*\u001B[39mconfig):\n\u001B[1;32m--> 129\u001B[0m     \u001B[38;5;28;01mreturn\u001B[39;00m \u001B[38;5;28;43mself\u001B[39;49m\u001B[38;5;241;43m.\u001B[39;49m\u001B[43mfunction\u001B[49m\u001B[43m(\u001B[49m\u001B[38;5;241;43m*\u001B[39;49m\u001B[43margs\u001B[49m\u001B[43m,\u001B[49m\u001B[43m \u001B[49m\u001B[38;5;241;43m*\u001B[39;49m\u001B[38;5;241;43m*\u001B[39;49m\u001B[43mkwargs\u001B[49m\u001B[43m)\u001B[49m\n",
      "File \u001B[1;32m~\\AppData\\Local\\Programs\\Python\\Python311\\Lib\\site-packages\\sklearn\\linear_model\\_stochastic_gradient.py:463\u001B[0m, in \u001B[0;36mfit_binary\u001B[1;34m(est, i, X, y, alpha, C, learning_rate, max_iter, pos_weight, neg_weight, sample_weight, validation_mask, random_state)\u001B[0m\n\u001B[0;32m    460\u001B[0m tol \u001B[38;5;241m=\u001B[39m est\u001B[38;5;241m.\u001B[39mtol \u001B[38;5;28;01mif\u001B[39;00m est\u001B[38;5;241m.\u001B[39mtol \u001B[38;5;129;01mis\u001B[39;00m \u001B[38;5;129;01mnot\u001B[39;00m \u001B[38;5;28;01mNone\u001B[39;00m \u001B[38;5;28;01melse\u001B[39;00m \u001B[38;5;241m-\u001B[39mnp\u001B[38;5;241m.\u001B[39minf\n\u001B[0;32m    462\u001B[0m _plain_sgd \u001B[38;5;241m=\u001B[39m _get_plain_sgd_function(input_dtype\u001B[38;5;241m=\u001B[39mcoef\u001B[38;5;241m.\u001B[39mdtype)\n\u001B[1;32m--> 463\u001B[0m coef, intercept, average_coef, average_intercept, n_iter_ \u001B[38;5;241m=\u001B[39m \u001B[43m_plain_sgd\u001B[49m\u001B[43m(\u001B[49m\n\u001B[0;32m    464\u001B[0m \u001B[43m    \u001B[49m\u001B[43mcoef\u001B[49m\u001B[43m,\u001B[49m\n\u001B[0;32m    465\u001B[0m \u001B[43m    \u001B[49m\u001B[43mintercept\u001B[49m\u001B[43m,\u001B[49m\n\u001B[0;32m    466\u001B[0m \u001B[43m    \u001B[49m\u001B[43maverage_coef\u001B[49m\u001B[43m,\u001B[49m\n\u001B[0;32m    467\u001B[0m \u001B[43m    \u001B[49m\u001B[43maverage_intercept\u001B[49m\u001B[43m,\u001B[49m\n\u001B[0;32m    468\u001B[0m \u001B[43m    \u001B[49m\u001B[43mest\u001B[49m\u001B[38;5;241;43m.\u001B[39;49m\u001B[43m_loss_function_\u001B[49m\u001B[43m,\u001B[49m\n\u001B[0;32m    469\u001B[0m \u001B[43m    \u001B[49m\u001B[43mpenalty_type\u001B[49m\u001B[43m,\u001B[49m\n\u001B[0;32m    470\u001B[0m \u001B[43m    \u001B[49m\u001B[43malpha\u001B[49m\u001B[43m,\u001B[49m\n\u001B[0;32m    471\u001B[0m \u001B[43m    \u001B[49m\u001B[43mC\u001B[49m\u001B[43m,\u001B[49m\n\u001B[0;32m    472\u001B[0m \u001B[43m    \u001B[49m\u001B[43mest\u001B[49m\u001B[38;5;241;43m.\u001B[39;49m\u001B[43ml1_ratio\u001B[49m\u001B[43m,\u001B[49m\n\u001B[0;32m    473\u001B[0m \u001B[43m    \u001B[49m\u001B[43mdataset\u001B[49m\u001B[43m,\u001B[49m\n\u001B[0;32m    474\u001B[0m \u001B[43m    \u001B[49m\u001B[43mvalidation_mask\u001B[49m\u001B[43m,\u001B[49m\n\u001B[0;32m    475\u001B[0m \u001B[43m    \u001B[49m\u001B[43mest\u001B[49m\u001B[38;5;241;43m.\u001B[39;49m\u001B[43mearly_stopping\u001B[49m\u001B[43m,\u001B[49m\n\u001B[0;32m    476\u001B[0m \u001B[43m    \u001B[49m\u001B[43mvalidation_score_cb\u001B[49m\u001B[43m,\u001B[49m\n\u001B[0;32m    477\u001B[0m \u001B[43m    \u001B[49m\u001B[38;5;28;43mint\u001B[39;49m\u001B[43m(\u001B[49m\u001B[43mest\u001B[49m\u001B[38;5;241;43m.\u001B[39;49m\u001B[43mn_iter_no_change\u001B[49m\u001B[43m)\u001B[49m\u001B[43m,\u001B[49m\n\u001B[0;32m    478\u001B[0m \u001B[43m    \u001B[49m\u001B[43mmax_iter\u001B[49m\u001B[43m,\u001B[49m\n\u001B[0;32m    479\u001B[0m \u001B[43m    \u001B[49m\u001B[43mtol\u001B[49m\u001B[43m,\u001B[49m\n\u001B[0;32m    480\u001B[0m \u001B[43m    \u001B[49m\u001B[38;5;28;43mint\u001B[39;49m\u001B[43m(\u001B[49m\u001B[43mest\u001B[49m\u001B[38;5;241;43m.\u001B[39;49m\u001B[43mfit_intercept\u001B[49m\u001B[43m)\u001B[49m\u001B[43m,\u001B[49m\n\u001B[0;32m    481\u001B[0m \u001B[43m    \u001B[49m\u001B[38;5;28;43mint\u001B[39;49m\u001B[43m(\u001B[49m\u001B[43mest\u001B[49m\u001B[38;5;241;43m.\u001B[39;49m\u001B[43mverbose\u001B[49m\u001B[43m)\u001B[49m\u001B[43m,\u001B[49m\n\u001B[0;32m    482\u001B[0m \u001B[43m    \u001B[49m\u001B[38;5;28;43mint\u001B[39;49m\u001B[43m(\u001B[49m\u001B[43mest\u001B[49m\u001B[38;5;241;43m.\u001B[39;49m\u001B[43mshuffle\u001B[49m\u001B[43m)\u001B[49m\u001B[43m,\u001B[49m\n\u001B[0;32m    483\u001B[0m \u001B[43m    \u001B[49m\u001B[43mseed\u001B[49m\u001B[43m,\u001B[49m\n\u001B[0;32m    484\u001B[0m \u001B[43m    \u001B[49m\u001B[43mpos_weight\u001B[49m\u001B[43m,\u001B[49m\n\u001B[0;32m    485\u001B[0m \u001B[43m    \u001B[49m\u001B[43mneg_weight\u001B[49m\u001B[43m,\u001B[49m\n\u001B[0;32m    486\u001B[0m \u001B[43m    \u001B[49m\u001B[43mlearning_rate_type\u001B[49m\u001B[43m,\u001B[49m\n\u001B[0;32m    487\u001B[0m \u001B[43m    \u001B[49m\u001B[43mest\u001B[49m\u001B[38;5;241;43m.\u001B[39;49m\u001B[43meta0\u001B[49m\u001B[43m,\u001B[49m\n\u001B[0;32m    488\u001B[0m \u001B[43m    \u001B[49m\u001B[43mest\u001B[49m\u001B[38;5;241;43m.\u001B[39;49m\u001B[43mpower_t\u001B[49m\u001B[43m,\u001B[49m\n\u001B[0;32m    489\u001B[0m \u001B[43m    \u001B[49m\u001B[38;5;241;43m0\u001B[39;49m\u001B[43m,\u001B[49m\n\u001B[0;32m    490\u001B[0m \u001B[43m    \u001B[49m\u001B[43mest\u001B[49m\u001B[38;5;241;43m.\u001B[39;49m\u001B[43mt_\u001B[49m\u001B[43m,\u001B[49m\n\u001B[0;32m    491\u001B[0m \u001B[43m    \u001B[49m\u001B[43mintercept_decay\u001B[49m\u001B[43m,\u001B[49m\n\u001B[0;32m    492\u001B[0m \u001B[43m    \u001B[49m\u001B[43mest\u001B[49m\u001B[38;5;241;43m.\u001B[39;49m\u001B[43maverage\u001B[49m\u001B[43m,\u001B[49m\n\u001B[0;32m    493\u001B[0m \u001B[43m\u001B[49m\u001B[43m)\u001B[49m\n\u001B[0;32m    495\u001B[0m \u001B[38;5;28;01mif\u001B[39;00m est\u001B[38;5;241m.\u001B[39maverage:\n\u001B[0;32m    496\u001B[0m     \u001B[38;5;28;01mif\u001B[39;00m \u001B[38;5;28mlen\u001B[39m(est\u001B[38;5;241m.\u001B[39mclasses_) \u001B[38;5;241m==\u001B[39m \u001B[38;5;241m2\u001B[39m:\n",
      "\u001B[1;31mKeyboardInterrupt\u001B[0m: "
     ]
    }
   ],
   "source": [
    "import optuna\n",
    "from sklearn.model_selection import cross_val_score\n",
    "\n",
    "\n",
    "def objective(trial):\n",
    "    # Hyperparameters to tune\n",
    "    loss = trial.suggest_categorical('loss', ['hinge', 'log_loss', 'squared_hinge', 'perceptron'])\n",
    "    penalty = trial.suggest_categorical('penalty', ['l2', 'l1', 'elasticnet'])\n",
    "    alpha = trial.suggest_float('alpha', 1e-6, 1e-1, log=True)\n",
    "    learning_rate = trial.suggest_categorical('learning_rate', ['constant', 'optimal', 'invscaling', 'adaptive'])\n",
    "    eta0 = trial.suggest_float('eta0', 1e-5, 1e-1, log=True)  # Only relevant for certain learning rates\n",
    "\n",
    "    # Create and train the SGD Classifier\n",
    "    model = SGDClassifier(loss=loss, penalty=penalty, alpha=alpha, learning_rate=learning_rate, eta0=eta0,\n",
    "                          random_state=42)\n",
    "    model.fit(X_train, y_train)\n",
    "\n",
    "    # Perform cross-validation and return the mean score\n",
    "    scores = cross_val_score(model, X_train, y_train, cv=5)  # cv=5 for 5-fold cross-validation\n",
    "    return scores.mean()\n",
    "\n",
    "\n",
    "# Create a study object and specify the optimization direction\n",
    "study = optuna.create_study(direction='maximize')\n",
    "study.optimize(objective, n_trials=100)  # Adjust the number of trials as needed\n",
    "\n",
    "# Best hyperparameters\n",
    "print('Best trial:', study.best_trial.params)"
   ],
   "metadata": {
    "collapsed": false,
    "ExecuteTime": {
     "end_time": "2024-02-24T00:19:11.874211400Z",
     "start_time": "2024-02-24T00:17:18.662871300Z"
    }
   },
   "id": "4477cdb859019617",
   "execution_count": 22
  },
  {
   "cell_type": "markdown",
   "source": [
    "We notice that the SGD model gave the best accuracy of 0.65, which is the highest among the models we have tried so far.\n",
    "\n",
    "So, we will get the best hyperparameters for the model and use them to train the model again, for later use."
   ],
   "metadata": {
    "collapsed": false
   },
   "id": "68f9ee6d9062ffe6"
  },
  {
   "cell_type": "code",
   "outputs": [],
   "source": [
    "best_params = study.best_trial.params\n",
    "sgd_model = SGDClassifier(**best_params, random_state=42)\n",
    "sgd_model.fit(X_train, y_train)"
   ],
   "metadata": {
    "collapsed": false
   },
   "id": "114f2bb29b45ae2d"
  },
  {
   "cell_type": "markdown",
   "source": [
    "### Multi-class Naive Bayes\n",
    "\n",
    "It is known that Naive Bayes is a simple and effective algorithm for classification for NLP tasks. \n",
    "Let's now train a multi-class Naive Bayes model on the embeddings and the class, to see how it performs."
   ],
   "metadata": {
    "collapsed": false
   },
   "id": "5fab4ff2e2e09606"
  },
  {
   "cell_type": "code",
   "outputs": [
    {
     "name": "stdout",
     "output_type": "stream",
     "text": [
      "              precision    recall  f1-score   support\n",
      "\n",
      "           0       0.74      0.70      0.72        44\n",
      "           1       0.55      0.53      0.54        30\n",
      "           2       0.58      0.45      0.51        31\n",
      "           3       0.74      0.85      0.79        27\n",
      "           4       0.51      0.61      0.56        31\n",
      "           5       0.61      0.61      0.61        49\n",
      "\n",
      "    accuracy                           0.63       212\n",
      "   macro avg       0.62      0.63      0.62       212\n",
      "weighted avg       0.63      0.63      0.63       212\n"
     ]
    }
   ],
   "source": [
    "from sklearn.naive_bayes import GaussianNB\n",
    "\n",
    "model = GaussianNB()\n",
    "model.fit(X_train, y_train)\n",
    "\n",
    "# Generate classification report\n",
    "y_pred = model.predict(X_test)\n",
    "print(metrics.classification_report(y_test, y_pred))"
   ],
   "metadata": {
    "collapsed": false,
    "ExecuteTime": {
     "end_time": "2024-02-22T00:02:04.765241900Z",
     "start_time": "2024-02-22T00:02:04.749418400Z"
    }
   },
   "id": "fa13a14098b3636c",
   "execution_count": 68
  },
  {
   "cell_type": "markdown",
   "source": [
    "We can see that the Naive Bayes model has an accuracy of 0.63, which does not differ much from the logistic regression model.\n",
    "So there is no need to use `optuna` to find the best hyperparameters for the model."
   ],
   "metadata": {
    "collapsed": false
   },
   "id": "e859bc93b6dcd506"
  },
  {
   "cell_type": "markdown",
   "source": [
    "### Multi-class Random Forest\n",
    "\n",
    "Let's now train a multi-class Random Forest model on the embeddings and the class."
   ],
   "metadata": {
    "collapsed": false
   },
   "id": "8c9e62a3e6912a48"
  },
  {
   "cell_type": "code",
   "outputs": [
    {
     "name": "stdout",
     "output_type": "stream",
     "text": [
      "              precision    recall  f1-score   support\n",
      "\n",
      "           0       0.67      0.66      0.67        44\n",
      "           1       0.61      0.47      0.53        30\n",
      "           2       0.86      0.39      0.53        31\n",
      "           3       0.77      0.63      0.69        27\n",
      "           4       0.56      0.77      0.65        31\n",
      "           5       0.52      0.71      0.60        49\n",
      "\n",
      "    accuracy                           0.62       212\n",
      "   macro avg       0.67      0.61      0.61       212\n",
      "weighted avg       0.65      0.62      0.61       212\n"
     ]
    }
   ],
   "source": [
    "from sklearn.ensemble import RandomForestClassifier\n",
    "\n",
    "model = RandomForestClassifier(n_estimators=1000, n_jobs=-1, random_state=15,\n",
    "                               max_depth=100, min_samples_split=2, min_samples_leaf=1, max_features='sqrt')\n",
    "model.fit(X_train, y_train)\n",
    "\n",
    "# Generate classification report\n",
    "y_pred = model.predict(X_test)\n",
    "print(metrics.classification_report(y_test, y_pred))"
   ],
   "metadata": {
    "collapsed": false,
    "ExecuteTime": {
     "end_time": "2024-02-21T23:59:20.973163800Z",
     "start_time": "2024-02-21T23:59:19.524753300Z"
    }
   },
   "id": "a8fc25a6a41a309b",
   "execution_count": 58
  },
  {
   "cell_type": "markdown",
   "source": [
    "### Multi-class CatBoost\n",
    "\n",
    "Having tried the above models, let us now proceed to more advanced models such as CatBoost, \n",
    "which is a gradient boosting library that is known to perform well on tabular data, to see how it performs \n",
    "and if it can outperform the other models."
   ],
   "metadata": {
    "collapsed": false
   },
   "id": "28cda8d8bf460600"
  },
  {
   "cell_type": "code",
   "outputs": [
    {
     "name": "stdout",
     "output_type": "stream",
     "text": [
      "Learning rate set to 0.134538\n",
      "0:\tlearn: 1.7228745\ttotal: 25.9ms\tremaining: 10.3s\n",
      "1:\tlearn: 1.6604869\ttotal: 47.1ms\tremaining: 9.37s\n",
      "2:\tlearn: 1.6080402\ttotal: 68.8ms\tremaining: 9.11s\n",
      "3:\tlearn: 1.5585689\ttotal: 89.7ms\tremaining: 8.88s\n",
      "4:\tlearn: 1.5091478\ttotal: 110ms\tremaining: 8.72s\n",
      "5:\tlearn: 1.4662697\ttotal: 131ms\tremaining: 8.62s\n",
      "6:\tlearn: 1.4287979\ttotal: 152ms\tremaining: 8.52s\n",
      "7:\tlearn: 1.3910584\ttotal: 173ms\tremaining: 8.46s\n",
      "8:\tlearn: 1.3552419\ttotal: 194ms\tremaining: 8.41s\n",
      "9:\tlearn: 1.3165946\ttotal: 214ms\tremaining: 8.36s\n",
      "10:\tlearn: 1.2851901\ttotal: 235ms\tremaining: 8.32s\n",
      "11:\tlearn: 1.2504925\ttotal: 257ms\tremaining: 8.31s\n",
      "12:\tlearn: 1.2190597\ttotal: 279ms\tremaining: 8.31s\n",
      "13:\tlearn: 1.1924688\ttotal: 301ms\tremaining: 8.29s\n",
      "14:\tlearn: 1.1640413\ttotal: 323ms\tremaining: 8.3s\n",
      "15:\tlearn: 1.1362085\ttotal: 346ms\tremaining: 8.29s\n",
      "16:\tlearn: 1.1100424\ttotal: 367ms\tremaining: 8.27s\n",
      "17:\tlearn: 1.0878752\ttotal: 388ms\tremaining: 8.22s\n",
      "18:\tlearn: 1.0624523\ttotal: 408ms\tremaining: 8.19s\n",
      "19:\tlearn: 1.0358713\ttotal: 429ms\tremaining: 8.16s\n",
      "20:\tlearn: 1.0105685\ttotal: 451ms\tremaining: 8.14s\n",
      "21:\tlearn: 0.9889355\ttotal: 471ms\tremaining: 8.1s\n",
      "22:\tlearn: 0.9693468\ttotal: 492ms\tremaining: 8.07s\n",
      "23:\tlearn: 0.9472586\ttotal: 513ms\tremaining: 8.04s\n",
      "24:\tlearn: 0.9278074\ttotal: 535ms\tremaining: 8.02s\n",
      "25:\tlearn: 0.9062782\ttotal: 556ms\tremaining: 7.99s\n",
      "26:\tlearn: 0.8873076\ttotal: 576ms\tremaining: 7.96s\n",
      "27:\tlearn: 0.8661164\ttotal: 597ms\tremaining: 7.94s\n",
      "28:\tlearn: 0.8476778\ttotal: 619ms\tremaining: 7.92s\n",
      "29:\tlearn: 0.8313398\ttotal: 640ms\tremaining: 7.89s\n",
      "30:\tlearn: 0.8165745\ttotal: 660ms\tremaining: 7.85s\n",
      "31:\tlearn: 0.8015096\ttotal: 681ms\tremaining: 7.84s\n",
      "32:\tlearn: 0.7840770\ttotal: 704ms\tremaining: 7.82s\n",
      "33:\tlearn: 0.7662083\ttotal: 725ms\tremaining: 7.8s\n",
      "34:\tlearn: 0.7498120\ttotal: 746ms\tremaining: 7.78s\n",
      "35:\tlearn: 0.7370386\ttotal: 766ms\tremaining: 7.74s\n",
      "36:\tlearn: 0.7256692\ttotal: 787ms\tremaining: 7.72s\n",
      "37:\tlearn: 0.7139216\ttotal: 804ms\tremaining: 7.66s\n",
      "38:\tlearn: 0.6983130\ttotal: 826ms\tremaining: 7.64s\n",
      "39:\tlearn: 0.6876474\ttotal: 846ms\tremaining: 7.61s\n",
      "40:\tlearn: 0.6749084\ttotal: 867ms\tremaining: 7.59s\n",
      "41:\tlearn: 0.6631446\ttotal: 887ms\tremaining: 7.56s\n",
      "42:\tlearn: 0.6547389\ttotal: 907ms\tremaining: 7.53s\n",
      "43:\tlearn: 0.6416111\ttotal: 928ms\tremaining: 7.51s\n",
      "44:\tlearn: 0.6300260\ttotal: 950ms\tremaining: 7.49s\n",
      "45:\tlearn: 0.6227455\ttotal: 968ms\tremaining: 7.45s\n",
      "46:\tlearn: 0.6116992\ttotal: 985ms\tremaining: 7.4s\n",
      "47:\tlearn: 0.6017839\ttotal: 1s\tremaining: 7.37s\n",
      "48:\tlearn: 0.5913679\ttotal: 1.03s\tremaining: 7.36s\n",
      "49:\tlearn: 0.5811772\ttotal: 1.05s\tremaining: 7.33s\n",
      "50:\tlearn: 0.5744012\ttotal: 1.06s\tremaining: 7.29s\n",
      "51:\tlearn: 0.5661624\ttotal: 1.09s\tremaining: 7.27s\n",
      "52:\tlearn: 0.5583602\ttotal: 1.1s\tremaining: 7.23s\n",
      "53:\tlearn: 0.5498467\ttotal: 1.12s\tremaining: 7.21s\n",
      "54:\tlearn: 0.5410277\ttotal: 1.15s\tremaining: 7.19s\n",
      "55:\tlearn: 0.5344122\ttotal: 1.17s\tremaining: 7.16s\n",
      "56:\tlearn: 0.5256119\ttotal: 1.19s\tremaining: 7.14s\n",
      "57:\tlearn: 0.5168590\ttotal: 1.21s\tremaining: 7.11s\n",
      "58:\tlearn: 0.5090309\ttotal: 1.22s\tremaining: 7.08s\n",
      "59:\tlearn: 0.5007300\ttotal: 1.24s\tremaining: 7.05s\n",
      "60:\tlearn: 0.4930892\ttotal: 1.26s\tremaining: 7.02s\n",
      "61:\tlearn: 0.4862400\ttotal: 1.28s\tremaining: 7s\n",
      "62:\tlearn: 0.4796660\ttotal: 1.3s\tremaining: 6.97s\n",
      "63:\tlearn: 0.4744049\ttotal: 1.32s\tremaining: 6.93s\n",
      "64:\tlearn: 0.4672496\ttotal: 1.34s\tremaining: 6.91s\n",
      "65:\tlearn: 0.4599536\ttotal: 1.36s\tremaining: 6.9s\n",
      "66:\tlearn: 0.4526283\ttotal: 1.38s\tremaining: 6.88s\n",
      "67:\tlearn: 0.4464831\ttotal: 1.4s\tremaining: 6.85s\n",
      "68:\tlearn: 0.4403173\ttotal: 1.42s\tremaining: 6.83s\n",
      "69:\tlearn: 0.4353264\ttotal: 1.44s\tremaining: 6.79s\n",
      "70:\tlearn: 0.4292748\ttotal: 1.46s\tremaining: 6.77s\n",
      "71:\tlearn: 0.4231607\ttotal: 1.48s\tremaining: 6.74s\n",
      "72:\tlearn: 0.4173319\ttotal: 1.5s\tremaining: 6.71s\n",
      "73:\tlearn: 0.4120874\ttotal: 1.52s\tremaining: 6.69s\n",
      "74:\tlearn: 0.4075504\ttotal: 1.54s\tremaining: 6.66s\n",
      "75:\tlearn: 0.4036470\ttotal: 1.55s\tremaining: 6.63s\n",
      "76:\tlearn: 0.3971942\ttotal: 1.58s\tremaining: 6.61s\n",
      "77:\tlearn: 0.3923635\ttotal: 1.59s\tremaining: 6.59s\n",
      "78:\tlearn: 0.3871207\ttotal: 1.62s\tremaining: 6.57s\n",
      "79:\tlearn: 0.3824068\ttotal: 1.64s\tremaining: 6.54s\n",
      "80:\tlearn: 0.3781196\ttotal: 1.65s\tremaining: 6.52s\n",
      "81:\tlearn: 0.3720005\ttotal: 1.67s\tremaining: 6.49s\n",
      "82:\tlearn: 0.3662377\ttotal: 1.69s\tremaining: 6.47s\n",
      "83:\tlearn: 0.3621305\ttotal: 1.71s\tremaining: 6.44s\n",
      "84:\tlearn: 0.3580423\ttotal: 1.73s\tremaining: 6.41s\n",
      "85:\tlearn: 0.3542212\ttotal: 1.75s\tremaining: 6.39s\n",
      "86:\tlearn: 0.3493992\ttotal: 1.77s\tremaining: 6.37s\n",
      "87:\tlearn: 0.3446388\ttotal: 1.79s\tremaining: 6.35s\n",
      "88:\tlearn: 0.3398332\ttotal: 1.81s\tremaining: 6.33s\n",
      "89:\tlearn: 0.3350392\ttotal: 1.83s\tremaining: 6.31s\n",
      "90:\tlearn: 0.3310729\ttotal: 1.85s\tremaining: 6.29s\n",
      "91:\tlearn: 0.3277042\ttotal: 1.87s\tremaining: 6.25s\n",
      "92:\tlearn: 0.3239233\ttotal: 1.89s\tremaining: 6.23s\n",
      "93:\tlearn: 0.3200518\ttotal: 1.91s\tremaining: 6.21s\n",
      "94:\tlearn: 0.3159525\ttotal: 1.93s\tremaining: 6.19s\n",
      "95:\tlearn: 0.3117227\ttotal: 1.95s\tremaining: 6.17s\n",
      "96:\tlearn: 0.3078341\ttotal: 1.97s\tremaining: 6.14s\n",
      "97:\tlearn: 0.3037615\ttotal: 1.99s\tremaining: 6.13s\n",
      "98:\tlearn: 0.3009603\ttotal: 2.01s\tremaining: 6.11s\n",
      "99:\tlearn: 0.2972008\ttotal: 2.03s\tremaining: 6.08s\n",
      "100:\tlearn: 0.2940256\ttotal: 2.04s\tremaining: 6.05s\n",
      "101:\tlearn: 0.2912744\ttotal: 2.06s\tremaining: 6.03s\n",
      "102:\tlearn: 0.2874840\ttotal: 2.08s\tremaining: 6s\n",
      "103:\tlearn: 0.2851025\ttotal: 2.1s\tremaining: 5.97s\n",
      "104:\tlearn: 0.2817369\ttotal: 2.12s\tremaining: 5.96s\n",
      "105:\tlearn: 0.2787950\ttotal: 2.14s\tremaining: 5.93s\n",
      "106:\tlearn: 0.2753153\ttotal: 2.16s\tremaining: 5.91s\n",
      "107:\tlearn: 0.2726117\ttotal: 2.18s\tremaining: 5.89s\n",
      "108:\tlearn: 0.2700277\ttotal: 2.2s\tremaining: 5.86s\n",
      "109:\tlearn: 0.2671003\ttotal: 2.22s\tremaining: 5.84s\n",
      "110:\tlearn: 0.2641920\ttotal: 2.24s\tremaining: 5.82s\n",
      "111:\tlearn: 0.2622460\ttotal: 2.25s\tremaining: 5.8s\n",
      "112:\tlearn: 0.2597229\ttotal: 2.27s\tremaining: 5.77s\n",
      "113:\tlearn: 0.2567605\ttotal: 2.29s\tremaining: 5.75s\n",
      "114:\tlearn: 0.2538125\ttotal: 2.31s\tremaining: 5.74s\n",
      "115:\tlearn: 0.2512457\ttotal: 2.33s\tremaining: 5.72s\n",
      "116:\tlearn: 0.2493987\ttotal: 2.35s\tremaining: 5.69s\n",
      "117:\tlearn: 0.2470901\ttotal: 2.37s\tremaining: 5.67s\n",
      "118:\tlearn: 0.2436367\ttotal: 2.39s\tremaining: 5.64s\n",
      "119:\tlearn: 0.2412490\ttotal: 2.41s\tremaining: 5.62s\n",
      "120:\tlearn: 0.2382601\ttotal: 2.43s\tremaining: 5.6s\n",
      "121:\tlearn: 0.2358525\ttotal: 2.45s\tremaining: 5.57s\n",
      "122:\tlearn: 0.2335635\ttotal: 2.46s\tremaining: 5.55s\n",
      "123:\tlearn: 0.2313625\ttotal: 2.48s\tremaining: 5.53s\n",
      "124:\tlearn: 0.2298685\ttotal: 2.5s\tremaining: 5.5s\n",
      "125:\tlearn: 0.2276978\ttotal: 2.52s\tremaining: 5.48s\n",
      "126:\tlearn: 0.2262614\ttotal: 2.54s\tremaining: 5.45s\n",
      "127:\tlearn: 0.2237244\ttotal: 2.55s\tremaining: 5.43s\n",
      "128:\tlearn: 0.2216352\ttotal: 2.57s\tremaining: 5.41s\n",
      "129:\tlearn: 0.2196897\ttotal: 2.59s\tremaining: 5.38s\n",
      "130:\tlearn: 0.2182188\ttotal: 2.61s\tremaining: 5.36s\n",
      "131:\tlearn: 0.2159438\ttotal: 2.63s\tremaining: 5.33s\n",
      "132:\tlearn: 0.2135043\ttotal: 2.65s\tremaining: 5.31s\n",
      "133:\tlearn: 0.2115320\ttotal: 2.67s\tremaining: 5.3s\n",
      "134:\tlearn: 0.2094532\ttotal: 2.69s\tremaining: 5.27s\n",
      "135:\tlearn: 0.2079651\ttotal: 2.71s\tremaining: 5.25s\n",
      "136:\tlearn: 0.2062597\ttotal: 2.72s\tremaining: 5.23s\n",
      "137:\tlearn: 0.2040880\ttotal: 2.74s\tremaining: 5.21s\n",
      "138:\tlearn: 0.2021655\ttotal: 2.76s\tremaining: 5.18s\n",
      "139:\tlearn: 0.2006026\ttotal: 2.77s\tremaining: 5.16s\n",
      "140:\tlearn: 0.1985812\ttotal: 2.79s\tremaining: 5.13s\n",
      "141:\tlearn: 0.1965836\ttotal: 2.81s\tremaining: 5.11s\n",
      "142:\tlearn: 0.1948308\ttotal: 2.83s\tremaining: 5.08s\n",
      "143:\tlearn: 0.1927285\ttotal: 2.85s\tremaining: 5.07s\n",
      "144:\tlearn: 0.1907884\ttotal: 2.87s\tremaining: 5.05s\n",
      "145:\tlearn: 0.1892524\ttotal: 2.89s\tremaining: 5.03s\n",
      "146:\tlearn: 0.1876610\ttotal: 2.91s\tremaining: 5.01s\n",
      "147:\tlearn: 0.1858838\ttotal: 2.93s\tremaining: 4.99s\n",
      "148:\tlearn: 0.1840987\ttotal: 2.95s\tremaining: 4.96s\n",
      "149:\tlearn: 0.1826783\ttotal: 2.96s\tremaining: 4.94s\n",
      "150:\tlearn: 0.1809587\ttotal: 2.98s\tremaining: 4.92s\n",
      "151:\tlearn: 0.1793601\ttotal: 3s\tremaining: 4.9s\n",
      "152:\tlearn: 0.1783546\ttotal: 3.02s\tremaining: 4.87s\n",
      "153:\tlearn: 0.1774691\ttotal: 3.04s\tremaining: 4.85s\n",
      "154:\tlearn: 0.1758001\ttotal: 3.05s\tremaining: 4.83s\n",
      "155:\tlearn: 0.1744380\ttotal: 3.07s\tremaining: 4.81s\n",
      "156:\tlearn: 0.1731060\ttotal: 3.09s\tremaining: 4.79s\n",
      "157:\tlearn: 0.1715699\ttotal: 3.11s\tremaining: 4.77s\n",
      "158:\tlearn: 0.1696787\ttotal: 3.13s\tremaining: 4.75s\n",
      "159:\tlearn: 0.1682388\ttotal: 3.15s\tremaining: 4.73s\n",
      "160:\tlearn: 0.1673331\ttotal: 3.17s\tremaining: 4.7s\n",
      "161:\tlearn: 0.1659585\ttotal: 3.19s\tremaining: 4.68s\n",
      "162:\tlearn: 0.1643622\ttotal: 3.2s\tremaining: 4.66s\n",
      "163:\tlearn: 0.1636660\ttotal: 3.22s\tremaining: 4.63s\n",
      "164:\tlearn: 0.1621060\ttotal: 3.24s\tremaining: 4.61s\n",
      "165:\tlearn: 0.1607724\ttotal: 3.26s\tremaining: 4.59s\n",
      "166:\tlearn: 0.1594912\ttotal: 3.27s\tremaining: 4.57s\n",
      "167:\tlearn: 0.1576651\ttotal: 3.3s\tremaining: 4.55s\n",
      "168:\tlearn: 0.1567447\ttotal: 3.31s\tremaining: 4.53s\n",
      "169:\tlearn: 0.1552850\ttotal: 3.33s\tremaining: 4.51s\n",
      "170:\tlearn: 0.1543368\ttotal: 3.35s\tremaining: 4.49s\n",
      "171:\tlearn: 0.1526851\ttotal: 3.37s\tremaining: 4.46s\n",
      "172:\tlearn: 0.1516548\ttotal: 3.39s\tremaining: 4.44s\n",
      "173:\tlearn: 0.1503451\ttotal: 3.4s\tremaining: 4.42s\n",
      "174:\tlearn: 0.1489448\ttotal: 3.42s\tremaining: 4.4s\n",
      "175:\tlearn: 0.1479130\ttotal: 3.44s\tremaining: 4.38s\n",
      "176:\tlearn: 0.1468269\ttotal: 3.46s\tremaining: 4.35s\n",
      "177:\tlearn: 0.1457061\ttotal: 3.48s\tremaining: 4.33s\n",
      "178:\tlearn: 0.1447622\ttotal: 3.49s\tremaining: 4.31s\n",
      "179:\tlearn: 0.1438747\ttotal: 3.51s\tremaining: 4.29s\n",
      "180:\tlearn: 0.1430759\ttotal: 3.53s\tremaining: 4.27s\n",
      "181:\tlearn: 0.1418740\ttotal: 3.55s\tremaining: 4.25s\n",
      "182:\tlearn: 0.1406074\ttotal: 3.57s\tremaining: 4.23s\n",
      "183:\tlearn: 0.1393027\ttotal: 3.59s\tremaining: 4.21s\n",
      "184:\tlearn: 0.1384271\ttotal: 3.61s\tremaining: 4.19s\n",
      "185:\tlearn: 0.1379717\ttotal: 3.62s\tremaining: 4.17s\n",
      "186:\tlearn: 0.1372064\ttotal: 3.64s\tremaining: 4.15s\n",
      "187:\tlearn: 0.1363515\ttotal: 3.66s\tremaining: 4.13s\n",
      "188:\tlearn: 0.1353696\ttotal: 3.68s\tremaining: 4.1s\n",
      "189:\tlearn: 0.1345634\ttotal: 3.69s\tremaining: 4.08s\n",
      "190:\tlearn: 0.1334954\ttotal: 3.71s\tremaining: 4.06s\n",
      "191:\tlearn: 0.1325677\ttotal: 3.73s\tremaining: 4.04s\n",
      "192:\tlearn: 0.1315723\ttotal: 3.75s\tremaining: 4.02s\n",
      "193:\tlearn: 0.1309626\ttotal: 3.76s\tremaining: 4s\n",
      "194:\tlearn: 0.1300535\ttotal: 3.78s\tremaining: 3.98s\n",
      "195:\tlearn: 0.1288905\ttotal: 3.8s\tremaining: 3.96s\n",
      "196:\tlearn: 0.1277924\ttotal: 3.82s\tremaining: 3.94s\n",
      "197:\tlearn: 0.1265409\ttotal: 3.84s\tremaining: 3.92s\n",
      "198:\tlearn: 0.1255739\ttotal: 3.86s\tremaining: 3.9s\n",
      "199:\tlearn: 0.1248684\ttotal: 3.88s\tremaining: 3.88s\n",
      "200:\tlearn: 0.1241837\ttotal: 3.89s\tremaining: 3.86s\n",
      "201:\tlearn: 0.1232042\ttotal: 3.91s\tremaining: 3.83s\n",
      "202:\tlearn: 0.1222603\ttotal: 3.93s\tremaining: 3.81s\n",
      "203:\tlearn: 0.1213459\ttotal: 3.95s\tremaining: 3.79s\n",
      "204:\tlearn: 0.1205817\ttotal: 3.97s\tremaining: 3.78s\n",
      "205:\tlearn: 0.1198251\ttotal: 3.99s\tremaining: 3.76s\n",
      "206:\tlearn: 0.1189689\ttotal: 4.01s\tremaining: 3.74s\n",
      "207:\tlearn: 0.1181024\ttotal: 4.03s\tremaining: 3.72s\n",
      "208:\tlearn: 0.1172190\ttotal: 4.04s\tremaining: 3.69s\n",
      "209:\tlearn: 0.1166187\ttotal: 4.06s\tremaining: 3.67s\n",
      "210:\tlearn: 0.1158746\ttotal: 4.08s\tremaining: 3.65s\n",
      "211:\tlearn: 0.1153167\ttotal: 4.1s\tremaining: 3.63s\n",
      "212:\tlearn: 0.1148056\ttotal: 4.11s\tremaining: 3.61s\n",
      "213:\tlearn: 0.1139654\ttotal: 4.13s\tremaining: 3.59s\n",
      "214:\tlearn: 0.1133325\ttotal: 4.15s\tremaining: 3.57s\n",
      "215:\tlearn: 0.1127448\ttotal: 4.17s\tremaining: 3.55s\n",
      "216:\tlearn: 0.1118552\ttotal: 4.19s\tremaining: 3.53s\n",
      "217:\tlearn: 0.1109735\ttotal: 4.21s\tremaining: 3.51s\n",
      "218:\tlearn: 0.1101663\ttotal: 4.23s\tremaining: 3.49s\n",
      "219:\tlearn: 0.1094057\ttotal: 4.25s\tremaining: 3.47s\n",
      "220:\tlearn: 0.1086842\ttotal: 4.27s\tremaining: 3.46s\n",
      "221:\tlearn: 0.1081635\ttotal: 4.29s\tremaining: 3.44s\n",
      "222:\tlearn: 0.1074615\ttotal: 4.3s\tremaining: 3.42s\n",
      "223:\tlearn: 0.1067836\ttotal: 4.32s\tremaining: 3.4s\n",
      "224:\tlearn: 0.1061558\ttotal: 4.34s\tremaining: 3.38s\n",
      "225:\tlearn: 0.1054296\ttotal: 4.36s\tremaining: 3.36s\n",
      "226:\tlearn: 0.1047350\ttotal: 4.38s\tremaining: 3.34s\n",
      "227:\tlearn: 0.1040358\ttotal: 4.4s\tremaining: 3.32s\n",
      "228:\tlearn: 0.1033799\ttotal: 4.41s\tremaining: 3.3s\n",
      "229:\tlearn: 0.1028751\ttotal: 4.43s\tremaining: 3.28s\n",
      "230:\tlearn: 0.1021686\ttotal: 4.45s\tremaining: 3.26s\n",
      "231:\tlearn: 0.1014326\ttotal: 4.47s\tremaining: 3.23s\n",
      "232:\tlearn: 0.1009049\ttotal: 4.49s\tremaining: 3.21s\n",
      "233:\tlearn: 0.1003008\ttotal: 4.5s\tremaining: 3.19s\n",
      "234:\tlearn: 0.0999129\ttotal: 4.52s\tremaining: 3.17s\n",
      "235:\tlearn: 0.0993210\ttotal: 4.54s\tremaining: 3.15s\n",
      "236:\tlearn: 0.0988379\ttotal: 4.56s\tremaining: 3.13s\n",
      "237:\tlearn: 0.0982119\ttotal: 4.58s\tremaining: 3.11s\n",
      "238:\tlearn: 0.0976786\ttotal: 4.59s\tremaining: 3.1s\n",
      "239:\tlearn: 0.0970612\ttotal: 4.61s\tremaining: 3.08s\n",
      "240:\tlearn: 0.0966120\ttotal: 4.63s\tremaining: 3.06s\n",
      "241:\tlearn: 0.0959420\ttotal: 4.65s\tremaining: 3.04s\n",
      "242:\tlearn: 0.0953684\ttotal: 4.67s\tremaining: 3.02s\n",
      "243:\tlearn: 0.0947231\ttotal: 4.69s\tremaining: 3s\n",
      "244:\tlearn: 0.0942221\ttotal: 4.7s\tremaining: 2.98s\n",
      "245:\tlearn: 0.0936252\ttotal: 4.72s\tremaining: 2.96s\n",
      "246:\tlearn: 0.0930829\ttotal: 4.74s\tremaining: 2.94s\n",
      "247:\tlearn: 0.0926261\ttotal: 4.76s\tremaining: 2.92s\n",
      "248:\tlearn: 0.0920309\ttotal: 4.78s\tremaining: 2.9s\n",
      "249:\tlearn: 0.0913719\ttotal: 4.79s\tremaining: 2.88s\n",
      "250:\tlearn: 0.0908123\ttotal: 4.81s\tremaining: 2.86s\n",
      "251:\tlearn: 0.0901615\ttotal: 4.83s\tremaining: 2.84s\n",
      "252:\tlearn: 0.0895904\ttotal: 4.85s\tremaining: 2.82s\n",
      "253:\tlearn: 0.0889963\ttotal: 4.87s\tremaining: 2.8s\n",
      "254:\tlearn: 0.0884139\ttotal: 4.89s\tremaining: 2.78s\n",
      "255:\tlearn: 0.0880217\ttotal: 4.91s\tremaining: 2.76s\n",
      "256:\tlearn: 0.0875964\ttotal: 4.92s\tremaining: 2.74s\n",
      "257:\tlearn: 0.0870218\ttotal: 4.94s\tremaining: 2.72s\n",
      "258:\tlearn: 0.0865999\ttotal: 4.96s\tremaining: 2.7s\n",
      "259:\tlearn: 0.0860540\ttotal: 4.98s\tremaining: 2.68s\n",
      "260:\tlearn: 0.0853690\ttotal: 5s\tremaining: 2.66s\n",
      "261:\tlearn: 0.0847425\ttotal: 5.02s\tremaining: 2.64s\n",
      "262:\tlearn: 0.0841182\ttotal: 5.03s\tremaining: 2.62s\n",
      "263:\tlearn: 0.0835568\ttotal: 5.05s\tremaining: 2.6s\n",
      "264:\tlearn: 0.0830860\ttotal: 5.08s\tremaining: 2.58s\n",
      "265:\tlearn: 0.0826953\ttotal: 5.09s\tremaining: 2.56s\n",
      "266:\tlearn: 0.0821504\ttotal: 5.11s\tremaining: 2.54s\n",
      "267:\tlearn: 0.0816057\ttotal: 5.13s\tremaining: 2.53s\n",
      "268:\tlearn: 0.0811668\ttotal: 5.15s\tremaining: 2.51s\n",
      "269:\tlearn: 0.0806370\ttotal: 5.17s\tremaining: 2.49s\n",
      "270:\tlearn: 0.0803147\ttotal: 5.18s\tremaining: 2.47s\n",
      "271:\tlearn: 0.0799147\ttotal: 5.2s\tremaining: 2.45s\n",
      "272:\tlearn: 0.0796684\ttotal: 5.22s\tremaining: 2.43s\n",
      "273:\tlearn: 0.0791950\ttotal: 5.24s\tremaining: 2.41s\n",
      "274:\tlearn: 0.0787248\ttotal: 5.26s\tremaining: 2.39s\n",
      "275:\tlearn: 0.0782419\ttotal: 5.28s\tremaining: 2.37s\n",
      "276:\tlearn: 0.0780074\ttotal: 5.29s\tremaining: 2.35s\n",
      "277:\tlearn: 0.0775958\ttotal: 5.31s\tremaining: 2.33s\n",
      "278:\tlearn: 0.0771180\ttotal: 5.33s\tremaining: 2.31s\n",
      "279:\tlearn: 0.0767341\ttotal: 5.35s\tremaining: 2.29s\n",
      "280:\tlearn: 0.0763011\ttotal: 5.37s\tremaining: 2.27s\n",
      "281:\tlearn: 0.0758194\ttotal: 5.38s\tremaining: 2.25s\n",
      "282:\tlearn: 0.0754358\ttotal: 5.4s\tremaining: 2.23s\n",
      "283:\tlearn: 0.0750667\ttotal: 5.42s\tremaining: 2.21s\n",
      "284:\tlearn: 0.0747107\ttotal: 5.44s\tremaining: 2.19s\n",
      "285:\tlearn: 0.0742531\ttotal: 5.46s\tremaining: 2.17s\n",
      "286:\tlearn: 0.0737926\ttotal: 5.48s\tremaining: 2.16s\n",
      "287:\tlearn: 0.0735905\ttotal: 5.49s\tremaining: 2.14s\n",
      "288:\tlearn: 0.0732208\ttotal: 5.51s\tremaining: 2.12s\n",
      "289:\tlearn: 0.0727946\ttotal: 5.53s\tremaining: 2.1s\n",
      "290:\tlearn: 0.0724306\ttotal: 5.55s\tremaining: 2.08s\n",
      "291:\tlearn: 0.0720317\ttotal: 5.57s\tremaining: 2.06s\n",
      "292:\tlearn: 0.0716278\ttotal: 5.58s\tremaining: 2.04s\n",
      "293:\tlearn: 0.0712362\ttotal: 5.6s\tremaining: 2.02s\n",
      "294:\tlearn: 0.0707410\ttotal: 5.62s\tremaining: 2s\n",
      "295:\tlearn: 0.0704118\ttotal: 5.64s\tremaining: 1.98s\n",
      "296:\tlearn: 0.0700204\ttotal: 5.66s\tremaining: 1.96s\n",
      "297:\tlearn: 0.0696531\ttotal: 5.68s\tremaining: 1.94s\n",
      "298:\tlearn: 0.0692932\ttotal: 5.7s\tremaining: 1.92s\n",
      "299:\tlearn: 0.0689641\ttotal: 5.72s\tremaining: 1.91s\n",
      "300:\tlearn: 0.0687036\ttotal: 5.74s\tremaining: 1.89s\n",
      "301:\tlearn: 0.0682465\ttotal: 5.75s\tremaining: 1.87s\n",
      "302:\tlearn: 0.0679109\ttotal: 5.77s\tremaining: 1.85s\n",
      "303:\tlearn: 0.0675415\ttotal: 5.79s\tremaining: 1.83s\n",
      "304:\tlearn: 0.0671175\ttotal: 5.81s\tremaining: 1.81s\n",
      "305:\tlearn: 0.0668401\ttotal: 5.83s\tremaining: 1.79s\n",
      "306:\tlearn: 0.0665337\ttotal: 5.84s\tremaining: 1.77s\n",
      "307:\tlearn: 0.0662038\ttotal: 5.86s\tremaining: 1.75s\n",
      "308:\tlearn: 0.0659299\ttotal: 5.88s\tremaining: 1.73s\n",
      "309:\tlearn: 0.0656950\ttotal: 5.9s\tremaining: 1.71s\n",
      "310:\tlearn: 0.0653329\ttotal: 5.92s\tremaining: 1.69s\n",
      "311:\tlearn: 0.0650142\ttotal: 5.93s\tremaining: 1.67s\n",
      "312:\tlearn: 0.0647410\ttotal: 5.95s\tremaining: 1.65s\n",
      "313:\tlearn: 0.0644334\ttotal: 5.97s\tremaining: 1.63s\n",
      "314:\tlearn: 0.0641182\ttotal: 5.99s\tremaining: 1.61s\n",
      "315:\tlearn: 0.0638325\ttotal: 6s\tremaining: 1.6s\n",
      "316:\tlearn: 0.0635122\ttotal: 6.02s\tremaining: 1.58s\n",
      "317:\tlearn: 0.0631894\ttotal: 6.04s\tremaining: 1.56s\n",
      "318:\tlearn: 0.0628921\ttotal: 6.06s\tremaining: 1.54s\n",
      "319:\tlearn: 0.0625070\ttotal: 6.08s\tremaining: 1.52s\n",
      "320:\tlearn: 0.0621223\ttotal: 6.1s\tremaining: 1.5s\n",
      "321:\tlearn: 0.0619032\ttotal: 6.11s\tremaining: 1.48s\n",
      "322:\tlearn: 0.0615653\ttotal: 6.13s\tremaining: 1.46s\n",
      "323:\tlearn: 0.0613404\ttotal: 6.15s\tremaining: 1.44s\n",
      "324:\tlearn: 0.0611619\ttotal: 6.17s\tremaining: 1.42s\n",
      "325:\tlearn: 0.0608453\ttotal: 6.19s\tremaining: 1.4s\n",
      "326:\tlearn: 0.0605806\ttotal: 6.2s\tremaining: 1.39s\n",
      "327:\tlearn: 0.0603465\ttotal: 6.22s\tremaining: 1.36s\n",
      "328:\tlearn: 0.0600413\ttotal: 6.24s\tremaining: 1.35s\n",
      "329:\tlearn: 0.0597975\ttotal: 6.26s\tremaining: 1.33s\n",
      "330:\tlearn: 0.0595617\ttotal: 6.28s\tremaining: 1.31s\n",
      "331:\tlearn: 0.0593571\ttotal: 6.29s\tremaining: 1.29s\n",
      "332:\tlearn: 0.0591896\ttotal: 6.31s\tremaining: 1.27s\n",
      "333:\tlearn: 0.0589029\ttotal: 6.33s\tremaining: 1.25s\n",
      "334:\tlearn: 0.0586641\ttotal: 6.35s\tremaining: 1.23s\n",
      "335:\tlearn: 0.0584050\ttotal: 6.37s\tremaining: 1.21s\n",
      "336:\tlearn: 0.0581356\ttotal: 6.38s\tremaining: 1.19s\n",
      "337:\tlearn: 0.0579161\ttotal: 6.4s\tremaining: 1.17s\n",
      "338:\tlearn: 0.0575914\ttotal: 6.42s\tremaining: 1.16s\n",
      "339:\tlearn: 0.0574563\ttotal: 6.44s\tremaining: 1.14s\n",
      "340:\tlearn: 0.0571344\ttotal: 6.46s\tremaining: 1.12s\n",
      "341:\tlearn: 0.0568670\ttotal: 6.47s\tremaining: 1.1s\n",
      "342:\tlearn: 0.0566196\ttotal: 6.49s\tremaining: 1.08s\n",
      "343:\tlearn: 0.0563139\ttotal: 6.51s\tremaining: 1.06s\n",
      "344:\tlearn: 0.0560689\ttotal: 6.53s\tremaining: 1.04s\n",
      "345:\tlearn: 0.0557970\ttotal: 6.55s\tremaining: 1.02s\n",
      "346:\tlearn: 0.0555744\ttotal: 6.57s\tremaining: 1s\n",
      "347:\tlearn: 0.0553663\ttotal: 6.58s\tremaining: 984ms\n",
      "348:\tlearn: 0.0550987\ttotal: 6.61s\tremaining: 965ms\n",
      "349:\tlearn: 0.0548580\ttotal: 6.63s\tremaining: 947ms\n",
      "350:\tlearn: 0.0546271\ttotal: 6.64s\tremaining: 928ms\n",
      "351:\tlearn: 0.0544627\ttotal: 6.66s\tremaining: 909ms\n",
      "352:\tlearn: 0.0542735\ttotal: 6.68s\tremaining: 890ms\n",
      "353:\tlearn: 0.0540566\ttotal: 6.7s\tremaining: 871ms\n",
      "354:\tlearn: 0.0537670\ttotal: 6.72s\tremaining: 852ms\n",
      "355:\tlearn: 0.0534931\ttotal: 6.74s\tremaining: 833ms\n",
      "356:\tlearn: 0.0532458\ttotal: 6.76s\tremaining: 814ms\n",
      "357:\tlearn: 0.0530554\ttotal: 6.78s\tremaining: 795ms\n",
      "358:\tlearn: 0.0528663\ttotal: 6.8s\tremaining: 777ms\n",
      "359:\tlearn: 0.0525924\ttotal: 6.82s\tremaining: 757ms\n",
      "360:\tlearn: 0.0523859\ttotal: 6.83s\tremaining: 738ms\n",
      "361:\tlearn: 0.0521683\ttotal: 6.85s\tremaining: 719ms\n",
      "362:\tlearn: 0.0519234\ttotal: 6.87s\tremaining: 700ms\n",
      "363:\tlearn: 0.0516844\ttotal: 6.89s\tremaining: 681ms\n",
      "364:\tlearn: 0.0515064\ttotal: 6.9s\tremaining: 662ms\n",
      "365:\tlearn: 0.0512855\ttotal: 6.92s\tremaining: 643ms\n",
      "366:\tlearn: 0.0511138\ttotal: 6.94s\tremaining: 624ms\n",
      "367:\tlearn: 0.0508781\ttotal: 6.96s\tremaining: 605ms\n",
      "368:\tlearn: 0.0506872\ttotal: 6.97s\tremaining: 586ms\n",
      "369:\tlearn: 0.0504707\ttotal: 6.99s\tremaining: 567ms\n",
      "370:\tlearn: 0.0502115\ttotal: 7.01s\tremaining: 548ms\n",
      "371:\tlearn: 0.0500338\ttotal: 7.03s\tremaining: 529ms\n",
      "372:\tlearn: 0.0498045\ttotal: 7.04s\tremaining: 510ms\n",
      "373:\tlearn: 0.0495770\ttotal: 7.07s\tremaining: 491ms\n",
      "374:\tlearn: 0.0494049\ttotal: 7.08s\tremaining: 472ms\n",
      "375:\tlearn: 0.0491638\ttotal: 7.11s\tremaining: 454ms\n",
      "376:\tlearn: 0.0489267\ttotal: 7.12s\tremaining: 435ms\n",
      "377:\tlearn: 0.0487657\ttotal: 7.14s\tremaining: 416ms\n",
      "378:\tlearn: 0.0485915\ttotal: 7.16s\tremaining: 397ms\n",
      "379:\tlearn: 0.0484395\ttotal: 7.18s\tremaining: 378ms\n",
      "380:\tlearn: 0.0482877\ttotal: 7.2s\tremaining: 359ms\n",
      "381:\tlearn: 0.0480858\ttotal: 7.21s\tremaining: 340ms\n",
      "382:\tlearn: 0.0478687\ttotal: 7.24s\tremaining: 321ms\n",
      "383:\tlearn: 0.0476853\ttotal: 7.25s\tremaining: 302ms\n",
      "384:\tlearn: 0.0474993\ttotal: 7.27s\tremaining: 283ms\n",
      "385:\tlearn: 0.0472943\ttotal: 7.29s\tremaining: 264ms\n",
      "386:\tlearn: 0.0470829\ttotal: 7.31s\tremaining: 246ms\n",
      "387:\tlearn: 0.0468742\ttotal: 7.33s\tremaining: 227ms\n",
      "388:\tlearn: 0.0466857\ttotal: 7.35s\tremaining: 208ms\n",
      "389:\tlearn: 0.0465460\ttotal: 7.37s\tremaining: 189ms\n",
      "390:\tlearn: 0.0463967\ttotal: 7.38s\tremaining: 170ms\n",
      "391:\tlearn: 0.0462451\ttotal: 7.4s\tremaining: 151ms\n",
      "392:\tlearn: 0.0460232\ttotal: 7.42s\tremaining: 132ms\n",
      "393:\tlearn: 0.0458569\ttotal: 7.44s\tremaining: 113ms\n",
      "394:\tlearn: 0.0455861\ttotal: 7.46s\tremaining: 94.4ms\n",
      "395:\tlearn: 0.0454279\ttotal: 7.47s\tremaining: 75.5ms\n",
      "396:\tlearn: 0.0452607\ttotal: 7.49s\tremaining: 56.6ms\n",
      "397:\tlearn: 0.0450495\ttotal: 7.51s\tremaining: 37.7ms\n",
      "398:\tlearn: 0.0449415\ttotal: 7.53s\tremaining: 18.9ms\n",
      "399:\tlearn: 0.0447709\ttotal: 7.55s\tremaining: 0us\n",
      "              precision    recall  f1-score   support\n",
      "\n",
      "           0       0.64      0.61      0.63        44\n",
      "           1       0.56      0.60      0.58        30\n",
      "           2       0.64      0.52      0.57        31\n",
      "           3       0.65      0.63      0.64        27\n",
      "           4       0.57      0.74      0.65        31\n",
      "           5       0.64      0.61      0.62        49\n",
      "\n",
      "    accuracy                           0.62       212\n",
      "   macro avg       0.62      0.62      0.62       212\n",
      "weighted avg       0.62      0.62      0.62       212\n"
     ]
    }
   ],
   "source": [
    "import catboost as cb\n",
    "\n",
    "model = cb.CatBoostClassifier(iterations=500, task_type='GPU')\n",
    "model.fit(X_train, y_train)\n",
    "# Generate classification report\n",
    "y_pred = model.predict(X_test)\n",
    "print(metrics.classification_report(y_test, y_pred))"
   ],
   "metadata": {
    "collapsed": false,
    "ExecuteTime": {
     "end_time": "2024-02-22T00:01:44.601009500Z",
     "start_time": "2024-02-22T00:01:36.225891400Z"
    }
   },
   "id": "c14f291177ba9793",
   "execution_count": 65
  },
  {
   "cell_type": "markdown",
   "source": [
    "Very interesting to note is that the Catboost model gave the lowest accuracy of 0.62,\n",
    "which is lower than the other models we have tried so far, \n",
    "meaning that the more complex models do not always outperform the simpler ones."
   ],
   "metadata": {
    "collapsed": false
   },
   "id": "66b66ab411e286e6"
  },
  {
   "cell_type": "markdown",
   "source": [
    "### Neural Network\n",
    "\n",
    "While neural networks need a lot of data to perform well, let's try a simple neural network model to see how it performs.\n",
    "\n",
    "We will use the `keras` library to build the neural network model.\n",
    "\n",
    "Let's start by making the train and test splits from above into TensorFlow datasets.\n",
    "\n",
    "We will also define a validation dataset from the training data to monitor the model's performance during training.\n",
    "All the tensors will be batched and pre-fetched to improve performance and also cached to avoid loading the data from the disk during training."
   ],
   "metadata": {
    "collapsed": false
   },
   "id": "be15e3c101722f61"
  },
  {
   "cell_type": "code",
   "outputs": [],
   "source": [
    "import tensorflow as tf\n",
    "\n",
    "# Parameters\n",
    "BATCH_SIZE = 32\n",
    "SHUFFLE_BUFFER_SIZE = 600  # Adjust based on your dataset size\n",
    "VALIDATION_SPLIT = 0.2  # Fraction of training data to use for validation\n",
    "\n",
    "# Calculate the number of validation samples\n",
    "n_validation_samples = int(len(X_train) * VALIDATION_SPLIT)\n",
    "\n",
    "# Create and process the validation dataset from the training data\n",
    "val_ds = tf.data.Dataset.from_tensor_slices((X_train[:n_validation_samples], y_train[:n_validation_samples]))\n",
    "val_ds = val_ds.batch(BATCH_SIZE).cache().prefetch(buffer_size=tf.data.AUTOTUNE)\n",
    "\n",
    "# Update the training dataset to exclude the validation data and process it\n",
    "train_ds = tf.data.Dataset.from_tensor_slices((X_train[n_validation_samples:], y_train[n_validation_samples:]))\n",
    "train_ds = train_ds.shuffle(SHUFFLE_BUFFER_SIZE).batch(BATCH_SIZE).cache().prefetch(buffer_size=tf.data.AUTOTUNE)\n",
    "\n",
    "# Create and process the test dataset\n",
    "test_ds = tf.data.Dataset.from_tensor_slices((X_test, y_test))\n",
    "test_ds = test_ds.batch(BATCH_SIZE).cache().prefetch(buffer_size=tf.data.AUTOTUNE)"
   ],
   "metadata": {
    "collapsed": false,
    "ExecuteTime": {
     "end_time": "2024-02-24T00:21:03.997451400Z",
     "start_time": "2024-02-24T00:21:03.972444200Z"
    }
   },
   "id": "fac050077fcb120",
   "execution_count": 20
  },
  {
   "cell_type": "markdown",
   "source": [
    "With that done, let's have a look at the first batch of the training dataset."
   ],
   "metadata": {
    "collapsed": false
   },
   "id": "c1bc0a932557566"
  },
  {
   "cell_type": "code",
   "outputs": [
    {
     "name": "stdout",
     "output_type": "stream",
     "text": [
      "Features: [[ 0.01441193  0.01679993 -0.03109741 ...  0.01856995 -0.08996582\n",
      "   0.03582764]\n",
      " [ 0.04104614  0.00654221 -0.02853394 ...  0.00632477 -0.04309082\n",
      "  -0.00440216]\n",
      " [ 0.00843811 -0.01992798 -0.02073669 ...  0.02677917 -0.03234863\n",
      "  -0.03442383]\n",
      " ...\n",
      " [ 0.00078201 -0.00634003 -0.01808167 ...  0.00569534 -0.04315186\n",
      "   0.00452042]\n",
      " [-0.02398682  0.04241943 -0.0280304  ...  0.03460693 -0.0682373\n",
      "   0.00652695]\n",
      " [ 0.03005981 -0.01261139 -0.03665161 ...  0.03747559 -0.04443359\n",
      "  -0.00604248]], Target: [2 5 0 5 5 1 1 5 0 4 0 5 0 0 3 1 3 0 2 2 3 2 4 0 5 1 3 4 3 0 5 0]\n"
     ]
    }
   ],
   "source": [
    "for feat, targ in train_ds.take(1):\n",
    "    print('Features: {}, Target: {}'.format(feat, targ))"
   ],
   "metadata": {
    "collapsed": false,
    "ExecuteTime": {
     "end_time": "2024-02-24T00:21:04.265283600Z",
     "start_time": "2024-02-24T00:21:04.252424800Z"
    }
   },
   "id": "28b6cd6e52c06ff9",
   "execution_count": 21
  },
  {
   "cell_type": "markdown",
   "source": [
    "We can see that the training dataset is structured as expected, with the features and the targets batched together with a size of 32."
   ],
   "metadata": {
    "collapsed": false
   },
   "id": "2200f63d62e00072"
  },
  {
   "cell_type": "markdown",
   "source": [
    "Now let's define an early stopping callback to stop training the model when the validation loss does not improve after a certain number of epochs. "
   ],
   "metadata": {
    "collapsed": false
   },
   "id": "55faaf898903bf36"
  },
  {
   "cell_type": "code",
   "outputs": [],
   "source": [
    "early_stopping_callback = tf.keras.callbacks.EarlyStopping(\n",
    "    monitor='val_loss',  # Monitor the validation loss\n",
    "    patience=30,  # Number of epochs with no improvement after which training will be stopped\n",
    "    restore_best_weights=True  # Restores model weights from the epoch with the best value of the monitored quantity\n",
    ")"
   ],
   "metadata": {
    "collapsed": false,
    "ExecuteTime": {
     "end_time": "2024-02-24T00:21:04.723347Z",
     "start_time": "2024-02-24T00:21:04.717835100Z"
    }
   },
   "id": "a2a85456f6f0206a",
   "execution_count": 22
  },
  {
   "cell_type": "markdown",
   "source": [
    "Another useful callback method in TensorFlow is the ModelCheckpoint callback. This callback saves the model at regular intervals during training, allowing you to retain and load the best version of your model based on a certain monitored metric, such as validation loss or accuracy."
   ],
   "metadata": {
    "collapsed": false
   },
   "id": "58e3c995a8f8d943"
  },
  {
   "cell_type": "code",
   "outputs": [],
   "source": [
    "import tensorflow_docs as tfdocs\n",
    "import tensorflow_docs.modeling\n",
    "import tensorflow_docs.plots\n",
    "\n",
    "model_checkpoint_callback = tf.keras.callbacks.ModelCheckpoint(\n",
    "    filepath='model_{epoch:02d}-{val_loss:.2f}.keras',  # Change the extension to '.keras'\n",
    "    save_weights_only=False,  # Set to True to save only weights, False to save the entire model\n",
    "    monitor='val_loss',  # Monitor the validation loss\n",
    "    mode='min',  # The model is saved when the monitored metric stops decreasing\n",
    "    save_best_only=True,  # Only the best model is saved\n",
    "    verbose=1  # Verbosity mode, 1 or 0\n",
    ")\n",
    "\n",
    "CALLBACKS = [\n",
    "    tfdocs.modeling.EpochDots(),\n",
    "    early_stopping_callback,\n",
    "    model_checkpoint_callback\n",
    "]"
   ],
   "metadata": {
    "collapsed": false,
    "ExecuteTime": {
     "end_time": "2024-02-24T00:21:05.030638900Z",
     "start_time": "2024-02-24T00:21:05.026128500Z"
    }
   },
   "id": "e99e3b0058d27c4b",
   "execution_count": 23
  },
  {
   "cell_type": "markdown",
   "source": [
    "Lastly, let's define a scheduler callback to adjust the learning rate during training."
   ],
   "metadata": {
    "collapsed": false
   },
   "id": "e70949e4096c0a1f"
  },
  {
   "cell_type": "code",
   "outputs": [],
   "source": [
    "BATCH_SIZE = 32\n",
    "STEPS_PER_EPOCH = X_train.shape[0] // BATCH_SIZE\n",
    "lr_scheduler = tf.keras.optimizers.schedules.InverseTimeDecay(\n",
    "    initial_learning_rate=1e-3,  # Initial learning rate\n",
    "    decay_steps=STEPS_PER_EPOCH * 1000,  # Decay steps\n",
    "    decay_rate=0.9,  # Decay rate\n",
    "    staircase=True  # If True, decay the learning rate at discrete intervals\n",
    ")"
   ],
   "metadata": {
    "collapsed": false,
    "ExecuteTime": {
     "end_time": "2024-02-24T00:21:05.355806100Z",
     "start_time": "2024-02-24T00:21:05.350293700Z"
    }
   },
   "id": "b24cce175aac2630",
   "execution_count": 24
  },
  {
   "cell_type": "markdown",
   "source": [
    "With all the callbacks and the learning rate scheduler defined, let's now build the neural network model.\n",
    "\n",
    "We will use a simple neural network with two hidden layers, each with 64 units, and a ReLU activation function.\n",
    "\n",
    "Also, we will use the Adam optimizer and the SparseCategoricalCrossentropy loss function, as well as the accuracy metric.\n",
    "\n",
    "Lastly, we will add WeightRegularization to the model as well as DropoutLayers to prevent overfitting."
   ],
   "metadata": {
    "collapsed": false
   },
   "id": "396c45887ea4ddcd"
  },
  {
   "cell_type": "code",
   "outputs": [],
   "source": [
    "# Import keras \n",
    "from tensorflow.keras import layers\n",
    "import keras\n",
    "from keras import regularizers\n",
    "\n",
    "weight_regularizer = regularizers.l2(0.0001)\n",
    "\n",
    "model = keras.Sequential([\n",
    "    layers.Dense(32, activation='relu', input_shape=(X_train.shape[1],), kernel_regularizer=weight_regularizer),\n",
    "    layers.Dropout(0.3),\n",
    "    layers.Dense(16, activation='relu', kernel_regularizer=weight_regularizer),\n",
    "    layers.Dropout(0.2),\n",
    "    layers.Dense(6, activation='softmax')\n",
    "])"
   ],
   "metadata": {
    "collapsed": false,
    "ExecuteTime": {
     "end_time": "2024-02-24T00:21:05.715571800Z",
     "start_time": "2024-02-24T00:21:05.686759300Z"
    }
   },
   "id": "ed010b4c406e22d7",
   "execution_count": 25
  },
  {
   "cell_type": "markdown",
   "source": [
    "With the model created, let's compile it using the Adam optimizer, the SparseCategoricalCrossentropy loss function, and the accuracy metric."
   ],
   "metadata": {
    "collapsed": false
   },
   "id": "9600efc4cd8cdafb"
  },
  {
   "cell_type": "code",
   "outputs": [],
   "source": [
    "# Compile the model\n",
    "model.compile(optimizer=tf.keras.optimizers.Adam(learning_rate=lr_scheduler),\n",
    "              loss=tf.keras.losses.SparseCategoricalCrossentropy(from_logits=False),\n",
    "              metrics=(['accuracy',\n",
    "                        tf.keras.losses.SparseCategoricalCrossentropy(\n",
    "                            from_logits=False, name='sparse_categorical_crossentropy')]))"
   ],
   "metadata": {
    "collapsed": false,
    "ExecuteTime": {
     "end_time": "2024-02-24T00:21:06.022734700Z",
     "start_time": "2024-02-24T00:21:06.015395900Z"
    }
   },
   "id": "3dc26bb0fade8741",
   "execution_count": 26
  },
  {
   "cell_type": "markdown",
   "source": [
    "Let's see now the model summary"
   ],
   "metadata": {
    "collapsed": false
   },
   "id": "d19eb4b55cb1da4d"
  },
  {
   "cell_type": "code",
   "outputs": [
    {
     "name": "stdout",
     "output_type": "stream",
     "text": [
      "Model: \"sequential_1\"\n",
      "_________________________________________________________________\n",
      " Layer (type)                Output Shape              Param #   \n",
      "=================================================================\n",
      " dense_3 (Dense)             (None, 32)                24608     \n",
      "                                                                 \n",
      " dropout_2 (Dropout)         (None, 32)                0         \n",
      "                                                                 \n",
      " dense_4 (Dense)             (None, 16)                528       \n",
      "                                                                 \n",
      " dropout_3 (Dropout)         (None, 16)                0         \n",
      "                                                                 \n",
      " dense_5 (Dense)             (None, 6)                 102       \n",
      "                                                                 \n",
      "=================================================================\n",
      "Total params: 25238 (98.59 KB)\n",
      "Trainable params: 25238 (98.59 KB)\n",
      "Non-trainable params: 0 (0.00 Byte)\n",
      "_________________________________________________________________\n"
     ]
    }
   ],
   "source": [
    "model.summary()"
   ],
   "metadata": {
    "collapsed": false,
    "ExecuteTime": {
     "end_time": "2024-02-24T00:21:06.415246Z",
     "start_time": "2024-02-24T00:21:06.397734700Z"
    }
   },
   "id": "7794956153aea89d",
   "execution_count": 27
  },
  {
   "cell_type": "markdown",
   "source": [
    "We can see that the model has 24608 parameters to train, which are quite a lot for the small dataset we have.\n",
    "However, with the Dropout layers and the WeightRegularization, we hope to prevent excessive overfitting.\n",
    "\n",
    "Let's now train the model using the training dataset and the validation dataset we created earlier."
   ],
   "metadata": {
    "collapsed": false
   },
   "id": "689f9ac49e7e4324"
  },
  {
   "cell_type": "code",
   "outputs": [
    {
     "name": "stdout",
     "output_type": "stream",
     "text": [
      "Epoch 1/100\n",
      " 1/22 [>.............................] - ETA: 7s - loss: 1.7970 - accuracy: 0.2812 - sparse_categorical_crossentropy: 1.7888\n",
      "Epoch: 0, accuracy:0.1879,  loss:1.7952,  sparse_categorical_crossentropy:1.7863,  val_accuracy:0.2249,  val_loss:1.7883,  val_sparse_categorical_crossentropy:1.7767,  \n",
      ".\n",
      "Epoch 1: val_loss improved from inf to 1.78831, saving model to model_01-1.79.keras\n",
      "22/22 [==============================] - 0s 6ms/step - loss: 1.7952 - accuracy: 0.1879 - sparse_categorical_crossentropy: 1.7863 - val_loss: 1.7883 - val_accuracy: 0.2249 - val_sparse_categorical_crossentropy: 1.7767\n",
      "Epoch 2/100\n",
      " 1/22 [>.............................] - ETA: 0s - loss: 1.7606 - accuracy: 0.4375 - sparse_categorical_crossentropy: 1.7526.\n",
      "Epoch 2: val_loss improved from 1.78831 to 1.76768, saving model to model_02-1.77.keras\n",
      "22/22 [==============================] - 0s 2ms/step - loss: 1.7698 - accuracy: 0.2485 - sparse_categorical_crossentropy: 1.7560 - val_loss: 1.7677 - val_accuracy: 0.2899 - val_sparse_categorical_crossentropy: 1.7576\n",
      "Epoch 3/100\n",
      " 1/22 [>.............................] - ETA: 0s - loss: 1.7280 - accuracy: 0.2812 - sparse_categorical_crossentropy: 1.7200.\n",
      "Epoch 3: val_loss improved from 1.76768 to 1.74539, saving model to model_03-1.75.keras\n",
      "22/22 [==============================] - 0s 2ms/step - loss: 1.7455 - accuracy: 0.2811 - sparse_categorical_crossentropy: 1.7346 - val_loss: 1.7454 - val_accuracy: 0.3550 - val_sparse_categorical_crossentropy: 1.7346\n",
      "Epoch 4/100\n",
      " 1/22 [>.............................] - ETA: 0s - loss: 1.6743 - accuracy: 0.4062 - sparse_categorical_crossentropy: 1.6664.\n",
      "Epoch 4: val_loss improved from 1.74539 to 1.72217, saving model to model_04-1.72.keras\n",
      "22/22 [==============================] - 0s 2ms/step - loss: 1.7119 - accuracy: 0.3077 - sparse_categorical_crossentropy: 1.7004 - val_loss: 1.7222 - val_accuracy: 0.3728 - val_sparse_categorical_crossentropy: 1.7108\n",
      "Epoch 5/100\n",
      " 1/22 [>.............................] - ETA: 0s - loss: 1.7034 - accuracy: 0.2812 - sparse_categorical_crossentropy: 1.6953.\n",
      "Epoch 5: val_loss improved from 1.72217 to 1.69211, saving model to model_05-1.69.keras\n",
      "22/22 [==============================] - 0s 2ms/step - loss: 1.6825 - accuracy: 0.3388 - sparse_categorical_crossentropy: 1.6656 - val_loss: 1.6921 - val_accuracy: 0.3846 - val_sparse_categorical_crossentropy: 1.6815\n",
      "Epoch 6/100\n",
      " 1/22 [>.............................] - ETA: 0s - loss: 1.6473 - accuracy: 0.4375 - sparse_categorical_crossentropy: 1.6391.\n",
      "Epoch 6: val_loss improved from 1.69211 to 1.66660, saving model to model_06-1.67.keras\n",
      "22/22 [==============================] - 0s 2ms/step - loss: 1.6465 - accuracy: 0.3772 - sparse_categorical_crossentropy: 1.6251 - val_loss: 1.6666 - val_accuracy: 0.3905 - val_sparse_categorical_crossentropy: 1.6510\n",
      "Epoch 7/100\n",
      " 1/22 [>.............................] - ETA: 0s - loss: 1.6155 - accuracy: 0.3750 - sparse_categorical_crossentropy: 1.6071.\n",
      "Epoch 7: val_loss improved from 1.66660 to 1.64540, saving model to model_07-1.65.keras\n",
      "22/22 [==============================] - 0s 2ms/step - loss: 1.6056 - accuracy: 0.3846 - sparse_categorical_crossentropy: 1.5909 - val_loss: 1.6454 - val_accuracy: 0.4497 - val_sparse_categorical_crossentropy: 1.6327\n",
      "Epoch 8/100\n",
      " 1/22 [>.............................] - ETA: 0s - loss: 1.5516 - accuracy: 0.4688 - sparse_categorical_crossentropy: 1.5429.\n",
      "Epoch 8: val_loss improved from 1.64540 to 1.62147, saving model to model_08-1.62.keras\n",
      "22/22 [==============================] - 0s 2ms/step - loss: 1.5645 - accuracy: 0.4453 - sparse_categorical_crossentropy: 1.5483 - val_loss: 1.6215 - val_accuracy: 0.4320 - val_sparse_categorical_crossentropy: 1.6037\n",
      "Epoch 9/100\n",
      " 1/22 [>.............................] - ETA: 0s - loss: 1.4637 - accuracy: 0.5000 - sparse_categorical_crossentropy: 1.4546.\n",
      "Epoch 9: val_loss improved from 1.62147 to 1.60048, saving model to model_09-1.60.keras\n",
      "22/22 [==============================] - 0s 2ms/step - loss: 1.5040 - accuracy: 0.4719 - sparse_categorical_crossentropy: 1.4945 - val_loss: 1.6005 - val_accuracy: 0.4438 - val_sparse_categorical_crossentropy: 1.5816\n",
      "Epoch 10/100\n",
      " 1/22 [>.............................] - ETA: 0s - loss: 1.5262 - accuracy: 0.4062 - sparse_categorical_crossentropy: 1.5167.\n",
      "Epoch 10: val_loss improved from 1.60048 to 1.55870, saving model to model_10-1.56.keras\n",
      "22/22 [==============================] - 0s 2ms/step - loss: 1.4942 - accuracy: 0.4379 - sparse_categorical_crossentropy: 1.4698 - val_loss: 1.5587 - val_accuracy: 0.4556 - val_sparse_categorical_crossentropy: 1.5402\n",
      "Epoch 11/100\n",
      " 1/22 [>.............................] - ETA: 0s - loss: 1.4961 - accuracy: 0.4062 - sparse_categorical_crossentropy: 1.4862.\n",
      "Epoch 11: val_loss improved from 1.55870 to 1.53080, saving model to model_11-1.53.keras\n",
      "22/22 [==============================] - 0s 2ms/step - loss: 1.4275 - accuracy: 0.4808 - sparse_categorical_crossentropy: 1.4117 - val_loss: 1.5308 - val_accuracy: 0.4675 - val_sparse_categorical_crossentropy: 1.5056\n",
      "Epoch 12/100\n",
      " 1/22 [>.............................] - ETA: 0s - loss: 1.4337 - accuracy: 0.4688 - sparse_categorical_crossentropy: 1.4232.\n",
      "Epoch 12: val_loss improved from 1.53080 to 1.49169, saving model to model_12-1.49.keras\n",
      "22/22 [==============================] - 0s 2ms/step - loss: 1.3884 - accuracy: 0.5089 - sparse_categorical_crossentropy: 1.3589 - val_loss: 1.4917 - val_accuracy: 0.4675 - val_sparse_categorical_crossentropy: 1.4632\n",
      "Epoch 13/100\n",
      " 1/22 [>.............................] - ETA: 0s - loss: 1.4618 - accuracy: 0.4688 - sparse_categorical_crossentropy: 1.4507.\n",
      "Epoch 13: val_loss improved from 1.49169 to 1.45628, saving model to model_13-1.46.keras\n",
      "22/22 [==============================] - 0s 2ms/step - loss: 1.3254 - accuracy: 0.5340 - sparse_categorical_crossentropy: 1.2978 - val_loss: 1.4563 - val_accuracy: 0.4675 - val_sparse_categorical_crossentropy: 1.4291\n",
      "Epoch 14/100\n",
      " 1/22 [>.............................] - ETA: 0s - loss: 1.2865 - accuracy: 0.5312 - sparse_categorical_crossentropy: 1.2748.\n",
      "Epoch 14: val_loss improved from 1.45628 to 1.43289, saving model to model_14-1.43.keras\n",
      "22/22 [==============================] - 0s 2ms/step - loss: 1.3291 - accuracy: 0.4985 - sparse_categorical_crossentropy: 1.3056 - val_loss: 1.4329 - val_accuracy: 0.4852 - val_sparse_categorical_crossentropy: 1.3999\n",
      "Epoch 15/100\n",
      " 1/22 [>.............................] - ETA: 0s - loss: 1.2671 - accuracy: 0.5000 - sparse_categorical_crossentropy: 1.2548.\n",
      "Epoch 15: val_loss improved from 1.43289 to 1.40060, saving model to model_15-1.40.keras\n",
      "22/22 [==============================] - 0s 2ms/step - loss: 1.2816 - accuracy: 0.5133 - sparse_categorical_crossentropy: 1.2643 - val_loss: 1.4006 - val_accuracy: 0.5030 - val_sparse_categorical_crossentropy: 1.3682\n",
      "Epoch 16/100\n",
      " 1/22 [>.............................] - ETA: 0s - loss: 1.2720 - accuracy: 0.5000 - sparse_categorical_crossentropy: 1.2591.\n",
      "Epoch 16: val_loss improved from 1.40060 to 1.39223, saving model to model_16-1.39.keras\n",
      "22/22 [==============================] - 0s 2ms/step - loss: 1.2488 - accuracy: 0.5473 - sparse_categorical_crossentropy: 1.2136 - val_loss: 1.3922 - val_accuracy: 0.4911 - val_sparse_categorical_crossentropy: 1.3558\n",
      "Epoch 17/100\n",
      " 1/22 [>.............................] - ETA: 0s - loss: 1.2584 - accuracy: 0.4688 - sparse_categorical_crossentropy: 1.2450.\n",
      "Epoch 17: val_loss improved from 1.39223 to 1.35359, saving model to model_17-1.35.keras\n",
      "22/22 [==============================] - 0s 2ms/step - loss: 1.2003 - accuracy: 0.5740 - sparse_categorical_crossentropy: 1.1668 - val_loss: 1.3536 - val_accuracy: 0.5325 - val_sparse_categorical_crossentropy: 1.3151\n",
      "Epoch 18/100\n",
      " 1/22 [>.............................] - ETA: 0s - loss: 1.1784 - accuracy: 0.6250 - sparse_categorical_crossentropy: 1.1644.\n",
      "Epoch 18: val_loss improved from 1.35359 to 1.34083, saving model to model_18-1.34.keras\n",
      "22/22 [==============================] - 0s 2ms/step - loss: 1.1702 - accuracy: 0.5695 - sparse_categorical_crossentropy: 1.1318 - val_loss: 1.3408 - val_accuracy: 0.5266 - val_sparse_categorical_crossentropy: 1.3001\n",
      "Epoch 19/100\n",
      " 1/22 [>.............................] - ETA: 0s - loss: 1.2478 - accuracy: 0.6250 - sparse_categorical_crossentropy: 1.2333.\n",
      "Epoch 19: val_loss improved from 1.34083 to 1.33327, saving model to model_19-1.33.keras\n",
      "22/22 [==============================] - 0s 2ms/step - loss: 1.1597 - accuracy: 0.5947 - sparse_categorical_crossentropy: 1.1242 - val_loss: 1.3333 - val_accuracy: 0.5325 - val_sparse_categorical_crossentropy: 1.2914\n",
      "Epoch 20/100\n",
      " 1/22 [>.............................] - ETA: 0s - loss: 1.2102 - accuracy: 0.5000 - sparse_categorical_crossentropy: 1.1951.\n",
      "Epoch 20: val_loss did not improve from 1.33327\n",
      "22/22 [==============================] - 0s 1ms/step - loss: 1.1226 - accuracy: 0.5976 - sparse_categorical_crossentropy: 1.0873 - val_loss: 1.3412 - val_accuracy: 0.5089 - val_sparse_categorical_crossentropy: 1.3011\n",
      "Epoch 21/100\n",
      " 1/22 [>.............................] - ETA: 0s - loss: 1.0727 - accuracy: 0.6250 - sparse_categorical_crossentropy: 1.0571.\n",
      "Epoch 21: val_loss improved from 1.33327 to 1.29693, saving model to model_21-1.30.keras\n",
      "22/22 [==============================] - 0s 2ms/step - loss: 1.0887 - accuracy: 0.6124 - sparse_categorical_crossentropy: 1.0464 - val_loss: 1.2969 - val_accuracy: 0.5385 - val_sparse_categorical_crossentropy: 1.2481\n",
      "Epoch 22/100\n",
      " 1/22 [>.............................] - ETA: 0s - loss: 1.1348 - accuracy: 0.5625 - sparse_categorical_crossentropy: 1.1187.\n",
      "Epoch 22: val_loss improved from 1.29693 to 1.29140, saving model to model_22-1.29.keras\n",
      "22/22 [==============================] - 0s 2ms/step - loss: 1.0536 - accuracy: 0.6391 - sparse_categorical_crossentropy: 1.0178 - val_loss: 1.2914 - val_accuracy: 0.5325 - val_sparse_categorical_crossentropy: 1.2493\n",
      "Epoch 23/100\n",
      " 1/22 [>.............................] - ETA: 0s - loss: 1.0956 - accuracy: 0.6250 - sparse_categorical_crossentropy: 1.0789.\n",
      "Epoch 23: val_loss improved from 1.29140 to 1.25679, saving model to model_23-1.26.keras\n",
      "22/22 [==============================] - 0s 2ms/step - loss: 1.0776 - accuracy: 0.6139 - sparse_categorical_crossentropy: 1.0402 - val_loss: 1.2568 - val_accuracy: 0.5858 - val_sparse_categorical_crossentropy: 1.2071\n",
      "Epoch 24/100\n",
      " 1/22 [>.............................] - ETA: 0s - loss: 1.0718 - accuracy: 0.7500 - sparse_categorical_crossentropy: 1.0546.\n",
      "Epoch 24: val_loss improved from 1.25679 to 1.25532, saving model to model_24-1.26.keras\n",
      "22/22 [==============================] - 0s 2ms/step - loss: 1.0267 - accuracy: 0.6464 - sparse_categorical_crossentropy: 1.0097 - val_loss: 1.2553 - val_accuracy: 0.5858 - val_sparse_categorical_crossentropy: 1.2087\n",
      "Epoch 25/100\n",
      " 1/22 [>.............................] - ETA: 0s - loss: 1.0832 - accuracy: 0.5938 - sparse_categorical_crossentropy: 1.0655.\n",
      "Epoch 25: val_loss improved from 1.25532 to 1.24624, saving model to model_25-1.25.keras\n",
      "22/22 [==============================] - 0s 2ms/step - loss: 0.9857 - accuracy: 0.6864 - sparse_categorical_crossentropy: 0.9478 - val_loss: 1.2462 - val_accuracy: 0.5680 - val_sparse_categorical_crossentropy: 1.1998\n",
      "Epoch 26/100\n",
      " 1/22 [>.............................] - ETA: 0s - loss: 1.0637 - accuracy: 0.6250 - sparse_categorical_crossentropy: 1.0455.\n",
      "Epoch 26: val_loss improved from 1.24624 to 1.21800, saving model to model_26-1.22.keras\n",
      "22/22 [==============================] - 0s 2ms/step - loss: 0.9554 - accuracy: 0.6746 - sparse_categorical_crossentropy: 0.9228 - val_loss: 1.2180 - val_accuracy: 0.6036 - val_sparse_categorical_crossentropy: 1.1633\n",
      "Epoch 27/100\n",
      " 1/22 [>.............................] - ETA: 0s - loss: 0.9664 - accuracy: 0.6250 - sparse_categorical_crossentropy: 0.9476.\n",
      "Epoch 27: val_loss did not improve from 1.21800\n",
      "22/22 [==============================] - 0s 1ms/step - loss: 0.9931 - accuracy: 0.6538 - sparse_categorical_crossentropy: 0.9513 - val_loss: 1.2481 - val_accuracy: 0.5740 - val_sparse_categorical_crossentropy: 1.2047\n",
      "Epoch 28/100\n",
      " 1/22 [>.............................] - ETA: 0s - loss: 1.0892 - accuracy: 0.6250 - sparse_categorical_crossentropy: 1.0698.\n",
      "Epoch 28: val_loss did not improve from 1.21800\n",
      "22/22 [==============================] - 0s 1ms/step - loss: 0.9303 - accuracy: 0.7130 - sparse_categorical_crossentropy: 0.8909 - val_loss: 1.2289 - val_accuracy: 0.6036 - val_sparse_categorical_crossentropy: 1.1801\n",
      "Epoch 29/100\n",
      " 1/22 [>.............................] - ETA: 0s - loss: 0.8808 - accuracy: 0.6875 - sparse_categorical_crossentropy: 0.8610.\n",
      "Epoch 29: val_loss improved from 1.21800 to 1.20826, saving model to model_29-1.21.keras\n",
      "22/22 [==============================] - 0s 2ms/step - loss: 0.9593 - accuracy: 0.6760 - sparse_categorical_crossentropy: 0.9172 - val_loss: 1.2083 - val_accuracy: 0.6095 - val_sparse_categorical_crossentropy: 1.1569\n",
      "Epoch 30/100\n",
      " 1/22 [>.............................] - ETA: 0s - loss: 0.9338 - accuracy: 0.6562 - sparse_categorical_crossentropy: 0.9134.\n",
      "Epoch 30: val_loss did not improve from 1.20826\n",
      "22/22 [==============================] - 0s 1ms/step - loss: 0.9049 - accuracy: 0.7071 - sparse_categorical_crossentropy: 0.8664 - val_loss: 1.2131 - val_accuracy: 0.6036 - val_sparse_categorical_crossentropy: 1.1615\n",
      "Epoch 31/100\n",
      " 1/22 [>.............................] - ETA: 0s - loss: 1.0846 - accuracy: 0.5000 - sparse_categorical_crossentropy: 1.0638.\n",
      "Epoch 31: val_loss improved from 1.20826 to 1.20104, saving model to model_31-1.20.keras\n",
      "22/22 [==============================] - 0s 2ms/step - loss: 0.9054 - accuracy: 0.7086 - sparse_categorical_crossentropy: 0.8545 - val_loss: 1.2010 - val_accuracy: 0.5976 - val_sparse_categorical_crossentropy: 1.1441\n",
      "Epoch 32/100\n",
      " 1/22 [>.............................] - ETA: 0s - loss: 1.1454 - accuracy: 0.5000 - sparse_categorical_crossentropy: 1.1241.\n",
      "Epoch 32: val_loss improved from 1.20104 to 1.18157, saving model to model_32-1.18.keras\n",
      "22/22 [==============================] - 0s 2ms/step - loss: 0.8736 - accuracy: 0.7041 - sparse_categorical_crossentropy: 0.8374 - val_loss: 1.1816 - val_accuracy: 0.6213 - val_sparse_categorical_crossentropy: 1.1238\n",
      "Epoch 33/100\n",
      " 1/22 [>.............................] - ETA: 0s - loss: 1.0234 - accuracy: 0.6250 - sparse_categorical_crossentropy: 1.0016.\n",
      "Epoch 33: val_loss did not improve from 1.18157\n",
      "22/22 [==============================] - 0s 1ms/step - loss: 0.8943 - accuracy: 0.7130 - sparse_categorical_crossentropy: 0.8621 - val_loss: 1.2076 - val_accuracy: 0.6095 - val_sparse_categorical_crossentropy: 1.1530\n",
      "Epoch 34/100\n",
      " 1/22 [>.............................] - ETA: 0s - loss: 0.8948 - accuracy: 0.6562 - sparse_categorical_crossentropy: 0.8726.\n",
      "Epoch 34: val_loss did not improve from 1.18157\n",
      "22/22 [==============================] - 0s 1ms/step - loss: 0.8922 - accuracy: 0.7086 - sparse_categorical_crossentropy: 0.8446 - val_loss: 1.2031 - val_accuracy: 0.5976 - val_sparse_categorical_crossentropy: 1.1508\n",
      "Epoch 35/100\n",
      " 1/22 [>.............................] - ETA: 0s - loss: 0.8003 - accuracy: 0.7500 - sparse_categorical_crossentropy: 0.7776.\n",
      "Epoch 35: val_loss did not improve from 1.18157\n",
      "22/22 [==============================] - 0s 1ms/step - loss: 0.8350 - accuracy: 0.7263 - sparse_categorical_crossentropy: 0.7974 - val_loss: 1.1855 - val_accuracy: 0.6154 - val_sparse_categorical_crossentropy: 1.1328\n",
      "Epoch 36/100\n",
      " 1/22 [>.............................] - ETA: 0s - loss: 0.7784 - accuracy: 0.8125 - sparse_categorical_crossentropy: 0.7552.\n",
      "Epoch 36: val_loss did not improve from 1.18157\n",
      "22/22 [==============================] - 0s 1ms/step - loss: 0.8097 - accuracy: 0.7411 - sparse_categorical_crossentropy: 0.7746 - val_loss: 1.1955 - val_accuracy: 0.5917 - val_sparse_categorical_crossentropy: 1.1433\n",
      "Epoch 37/100\n",
      " 1/22 [>.............................] - ETA: 0s - loss: 0.7699 - accuracy: 0.7500 - sparse_categorical_crossentropy: 0.7462.\n",
      "Epoch 37: val_loss did not improve from 1.18157\n",
      "22/22 [==============================] - 0s 1ms/step - loss: 0.7877 - accuracy: 0.7515 - sparse_categorical_crossentropy: 0.7405 - val_loss: 1.1911 - val_accuracy: 0.5976 - val_sparse_categorical_crossentropy: 1.1322\n",
      "Epoch 38/100\n",
      " 1/22 [>.............................] - ETA: 0s - loss: 0.8884 - accuracy: 0.6875 - sparse_categorical_crossentropy: 0.8643.\n",
      "Epoch 38: val_loss did not improve from 1.18157\n",
      "22/22 [==============================] - 0s 1ms/step - loss: 0.7948 - accuracy: 0.7544 - sparse_categorical_crossentropy: 0.7493 - val_loss: 1.1937 - val_accuracy: 0.5740 - val_sparse_categorical_crossentropy: 1.1360\n",
      "Epoch 39/100\n",
      " 1/22 [>.............................] - ETA: 0s - loss: 0.8566 - accuracy: 0.6562 - sparse_categorical_crossentropy: 0.8320.\n",
      "Epoch 39: val_loss did not improve from 1.18157\n",
      "22/22 [==============================] - 0s 1ms/step - loss: 0.8027 - accuracy: 0.7263 - sparse_categorical_crossentropy: 0.7574 - val_loss: 1.1982 - val_accuracy: 0.5799 - val_sparse_categorical_crossentropy: 1.1453\n",
      "Epoch 40/100\n",
      " 1/22 [>.............................] - ETA: 0s - loss: 0.7335 - accuracy: 0.8125 - sparse_categorical_crossentropy: 0.7085.\n",
      "Epoch 40: val_loss did not improve from 1.18157\n",
      "22/22 [==============================] - 0s 1ms/step - loss: 0.7435 - accuracy: 0.7589 - sparse_categorical_crossentropy: 0.7123 - val_loss: 1.1920 - val_accuracy: 0.5976 - val_sparse_categorical_crossentropy: 1.1343\n",
      "Epoch 41/100\n",
      " 1/22 [>.............................] - ETA: 0s - loss: 0.9764 - accuracy: 0.7188 - sparse_categorical_crossentropy: 0.9509.\n",
      "Epoch 41: val_loss did not improve from 1.18157\n",
      "22/22 [==============================] - 0s 1ms/step - loss: 0.7566 - accuracy: 0.7633 - sparse_categorical_crossentropy: 0.7111 - val_loss: 1.1898 - val_accuracy: 0.5858 - val_sparse_categorical_crossentropy: 1.1336\n",
      "Epoch 42/100\n",
      " 1/22 [>.............................] - ETA: 0s - loss: 0.9218 - accuracy: 0.7188 - sparse_categorical_crossentropy: 0.8959.\n",
      "Epoch 42: val_loss did not improve from 1.18157\n",
      "22/22 [==============================] - 0s 1ms/step - loss: 0.7588 - accuracy: 0.7559 - sparse_categorical_crossentropy: 0.7109 - val_loss: 1.1991 - val_accuracy: 0.5799 - val_sparse_categorical_crossentropy: 1.1421\n",
      "Epoch 43/100\n",
      " 1/22 [>.............................] - ETA: 0s - loss: 0.7918 - accuracy: 0.7188 - sparse_categorical_crossentropy: 0.7655.\n",
      "Epoch 43: val_loss did not improve from 1.18157\n",
      "22/22 [==============================] - 0s 1ms/step - loss: 0.7023 - accuracy: 0.7722 - sparse_categorical_crossentropy: 0.6879 - val_loss: 1.2059 - val_accuracy: 0.5799 - val_sparse_categorical_crossentropy: 1.1442\n",
      "Epoch 44/100\n",
      " 1/22 [>.............................] - ETA: 0s - loss: 0.6243 - accuracy: 0.8438 - sparse_categorical_crossentropy: 0.5975.\n",
      "Epoch 44: val_loss did not improve from 1.18157\n",
      "22/22 [==============================] - 0s 1ms/step - loss: 0.6803 - accuracy: 0.7796 - sparse_categorical_crossentropy: 0.6471 - val_loss: 1.1999 - val_accuracy: 0.5799 - val_sparse_categorical_crossentropy: 1.1366\n",
      "Epoch 45/100\n",
      " 1/22 [>.............................] - ETA: 0s - loss: 0.5902 - accuracy: 0.8438 - sparse_categorical_crossentropy: 0.5630.\n",
      "Epoch 45: val_loss did not improve from 1.18157\n",
      "22/22 [==============================] - 0s 1ms/step - loss: 0.6605 - accuracy: 0.7988 - sparse_categorical_crossentropy: 0.6206 - val_loss: 1.2048 - val_accuracy: 0.6095 - val_sparse_categorical_crossentropy: 1.1437\n",
      "Epoch 46/100\n",
      " 1/22 [>.............................] - ETA: 0s - loss: 0.6756 - accuracy: 0.7500 - sparse_categorical_crossentropy: 0.6480.\n",
      "Epoch 46: val_loss did not improve from 1.18157\n",
      "22/22 [==============================] - 0s 1ms/step - loss: 0.6863 - accuracy: 0.7973 - sparse_categorical_crossentropy: 0.6451 - val_loss: 1.2161 - val_accuracy: 0.5740 - val_sparse_categorical_crossentropy: 1.1576\n",
      "Epoch 47/100\n",
      " 1/22 [>.............................] - ETA: 0s - loss: 0.6501 - accuracy: 0.8438 - sparse_categorical_crossentropy: 0.6221.\n",
      "Epoch 47: val_loss did not improve from 1.18157\n",
      "22/22 [==============================] - 0s 1ms/step - loss: 0.6647 - accuracy: 0.8062 - sparse_categorical_crossentropy: 0.6244 - val_loss: 1.2015 - val_accuracy: 0.5740 - val_sparse_categorical_crossentropy: 1.1425\n",
      "Epoch 48/100\n",
      " 1/22 [>.............................] - ETA: 0s - loss: 0.7738 - accuracy: 0.7812 - sparse_categorical_crossentropy: 0.7453.\n",
      "Epoch 48: val_loss did not improve from 1.18157\n",
      "22/22 [==============================] - 0s 1ms/step - loss: 0.6791 - accuracy: 0.7692 - sparse_categorical_crossentropy: 0.6361 - val_loss: 1.1868 - val_accuracy: 0.6036 - val_sparse_categorical_crossentropy: 1.1215\n",
      "Epoch 49/100\n",
      " 1/22 [>.............................] - ETA: 0s - loss: 0.7648 - accuracy: 0.6875 - sparse_categorical_crossentropy: 0.7359.\n",
      "Epoch 49: val_loss did not improve from 1.18157\n",
      "22/22 [==============================] - 0s 1ms/step - loss: 0.6536 - accuracy: 0.8062 - sparse_categorical_crossentropy: 0.6069 - val_loss: 1.2007 - val_accuracy: 0.5799 - val_sparse_categorical_crossentropy: 1.1333\n",
      "Epoch 50/100\n",
      " 1/22 [>.............................] - ETA: 0s - loss: 0.6341 - accuracy: 0.8125 - sparse_categorical_crossentropy: 0.6048.\n",
      "Epoch 50: val_loss did not improve from 1.18157\n",
      "22/22 [==============================] - 0s 1ms/step - loss: 0.6310 - accuracy: 0.8136 - sparse_categorical_crossentropy: 0.5842 - val_loss: 1.2334 - val_accuracy: 0.5740 - val_sparse_categorical_crossentropy: 1.1758\n",
      "Epoch 51/100\n",
      " 1/22 [>.............................] - ETA: 0s - loss: 0.6784 - accuracy: 0.8750 - sparse_categorical_crossentropy: 0.6487.\n",
      "Epoch 51: val_loss did not improve from 1.18157\n",
      "22/22 [==============================] - 0s 1ms/step - loss: 0.6575 - accuracy: 0.7959 - sparse_categorical_crossentropy: 0.6103 - val_loss: 1.2214 - val_accuracy: 0.5680 - val_sparse_categorical_crossentropy: 1.1571\n",
      "Epoch 52/100\n",
      " 1/22 [>.............................] - ETA: 0s - loss: 0.6536 - accuracy: 0.7500 - sparse_categorical_crossentropy: 0.6235.\n",
      "Epoch 52: val_loss did not improve from 1.18157\n",
      "22/22 [==============================] - 0s 1ms/step - loss: 0.5965 - accuracy: 0.8062 - sparse_categorical_crossentropy: 0.5482 - val_loss: 1.2318 - val_accuracy: 0.5917 - val_sparse_categorical_crossentropy: 1.1675\n",
      "Epoch 53/100\n",
      " 1/22 [>.............................] - ETA: 0s - loss: 0.7592 - accuracy: 0.7500 - sparse_categorical_crossentropy: 0.7287.\n",
      "Epoch 53: val_loss did not improve from 1.18157\n",
      "22/22 [==============================] - 0s 1ms/step - loss: 0.5998 - accuracy: 0.8195 - sparse_categorical_crossentropy: 0.5533 - val_loss: 1.2141 - val_accuracy: 0.5976 - val_sparse_categorical_crossentropy: 1.1467\n",
      "Epoch 54/100\n",
      " 1/22 [>.............................] - ETA: 0s - loss: 0.6270 - accuracy: 0.9375 - sparse_categorical_crossentropy: 0.5961.\n",
      "Epoch 54: val_loss did not improve from 1.18157\n",
      "22/22 [==============================] - 0s 1ms/step - loss: 0.6151 - accuracy: 0.8240 - sparse_categorical_crossentropy: 0.5796 - val_loss: 1.2473 - val_accuracy: 0.5976 - val_sparse_categorical_crossentropy: 1.1800\n",
      "Epoch 55/100\n",
      " 1/22 [>.............................] - ETA: 0s - loss: 0.7430 - accuracy: 0.7500 - sparse_categorical_crossentropy: 0.7117.\n",
      "Epoch 55: val_loss did not improve from 1.18157\n",
      "22/22 [==============================] - 0s 1ms/step - loss: 0.6089 - accuracy: 0.8284 - sparse_categorical_crossentropy: 0.5690 - val_loss: 1.2350 - val_accuracy: 0.5621 - val_sparse_categorical_crossentropy: 1.1648\n",
      "Epoch 56/100\n",
      " 1/22 [>.............................] - ETA: 0s - loss: 0.7870 - accuracy: 0.7812 - sparse_categorical_crossentropy: 0.7552.\n",
      "Epoch 56: val_loss did not improve from 1.18157\n",
      "22/22 [==============================] - 0s 1ms/step - loss: 0.5982 - accuracy: 0.8107 - sparse_categorical_crossentropy: 0.5525 - val_loss: 1.2401 - val_accuracy: 0.5799 - val_sparse_categorical_crossentropy: 1.1665\n",
      "Epoch 57/100\n",
      " 1/22 [>.............................] - ETA: 0s - loss: 0.5944 - accuracy: 0.7812 - sparse_categorical_crossentropy: 0.5623.\n",
      "Epoch 57: val_loss did not improve from 1.18157\n",
      "22/22 [==============================] - 0s 1ms/step - loss: 0.6148 - accuracy: 0.8077 - sparse_categorical_crossentropy: 0.5615 - val_loss: 1.2452 - val_accuracy: 0.5740 - val_sparse_categorical_crossentropy: 1.1710\n",
      "Epoch 58/100\n",
      " 1/22 [>.............................] - ETA: 0s - loss: 0.6822 - accuracy: 0.7812 - sparse_categorical_crossentropy: 0.6497.\n",
      "Epoch 58: val_loss did not improve from 1.18157\n",
      "22/22 [==============================] - 0s 1ms/step - loss: 0.5746 - accuracy: 0.8358 - sparse_categorical_crossentropy: 0.5268 - val_loss: 1.2735 - val_accuracy: 0.5621 - val_sparse_categorical_crossentropy: 1.1954\n",
      "Epoch 59/100\n",
      " 1/22 [>.............................] - ETA: 0s - loss: 0.5412 - accuracy: 0.8438 - sparse_categorical_crossentropy: 0.5083.\n",
      "Epoch 59: val_loss did not improve from 1.18157\n",
      "22/22 [==============================] - 0s 1ms/step - loss: 0.5724 - accuracy: 0.8136 - sparse_categorical_crossentropy: 0.5253 - val_loss: 1.2515 - val_accuracy: 0.5740 - val_sparse_categorical_crossentropy: 1.1713\n",
      "Epoch 60/100\n",
      " 1/22 [>.............................] - ETA: 0s - loss: 0.6353 - accuracy: 0.7812 - sparse_categorical_crossentropy: 0.6021.\n",
      "Epoch 60: val_loss did not improve from 1.18157\n",
      "22/22 [==============================] - 0s 1ms/step - loss: 0.5513 - accuracy: 0.8417 - sparse_categorical_crossentropy: 0.5035 - val_loss: 1.2515 - val_accuracy: 0.6036 - val_sparse_categorical_crossentropy: 1.1694\n",
      "Epoch 61/100\n",
      " 1/22 [>.............................] - ETA: 0s - loss: 0.6050 - accuracy: 0.8438 - sparse_categorical_crossentropy: 0.5714.\n",
      "Epoch 61: val_loss did not improve from 1.18157\n",
      "22/22 [==============================] - 0s 2ms/step - loss: 0.5665 - accuracy: 0.8343 - sparse_categorical_crossentropy: 0.5280 - val_loss: 1.2732 - val_accuracy: 0.5621 - val_sparse_categorical_crossentropy: 1.1952\n",
      "Epoch 62/100\n",
      " 1/22 [>.............................] - ETA: 0s - loss: 0.5537 - accuracy: 0.8438 - sparse_categorical_crossentropy: 0.5197.\n",
      "Epoch 62: val_loss did not improve from 1.18157\n",
      "22/22 [==============================] - 0s 1ms/step - loss: 0.5236 - accuracy: 0.8565 - sparse_categorical_crossentropy: 0.4717 - val_loss: 1.3111 - val_accuracy: 0.5680 - val_sparse_categorical_crossentropy: 1.2354\n"
     ]
    }
   ],
   "source": [
    "history = model.fit(train_ds, epochs=100, batch_size=BATCH_SIZE, validation_data=val_ds, callbacks=CALLBACKS)"
   ],
   "metadata": {
    "collapsed": false,
    "ExecuteTime": {
     "end_time": "2024-02-24T00:21:09.821035Z",
     "start_time": "2024-02-24T00:21:06.709876Z"
    }
   },
   "id": "18398cf390d74222",
   "execution_count": 28
  },
  {
   "cell_type": "markdown",
   "source": [
    "Now using tfdocs.plots.HistoryPlotter, we can visualize the training and validation loss and accuracy."
   ],
   "metadata": {
    "collapsed": false
   },
   "id": "fc642328f72f6966"
  },
  {
   "cell_type": "code",
   "outputs": [
    {
     "data": {
      "text/plain": "<Figure size 640x480 with 1 Axes>",
      "image/png": "[encoded data removed]"
     },
     "metadata": {},
     "output_type": "display_data"
    }
   ],
   "source": [
    "size_histories = {}\n",
    "size_histories['Baseline'] = history\n",
    "plotter = tfdocs.plots.HistoryPlotter(metric='sparse_categorical_crossentropy', smoothing_std=10)\n",
    "plotter.plot(size_histories)"
   ],
   "metadata": {
    "collapsed": false,
    "ExecuteTime": {
     "end_time": "2024-02-24T00:21:09.901764100Z",
     "start_time": "2024-02-24T00:21:09.821035Z"
    }
   },
   "id": "a7a2ea0769fdc279",
   "execution_count": 29
  },
  {
   "cell_type": "markdown",
   "source": [
    "We can see that the model the validation loss becomes stagnant after  about 40 epochs.\n",
    "\n",
    "Let's now evaluate the model on the test dataset."
   ],
   "metadata": {
    "collapsed": false
   },
   "id": "a97fe8c00c1e28e0"
  },
  {
   "cell_type": "code",
   "outputs": [
    {
     "name": "stdout",
     "output_type": "stream",
     "text": [
      "7/7 [==============================] - 0s 834us/step - loss: 1.0923 - accuracy: 0.6651 - sparse_categorical_crossentropy: 1.0560\n"
     ]
    },
    {
     "data": {
      "text/plain": "[1.0922902822494507, 0.6650943160057068, 1.0559929609298706]"
     },
     "execution_count": 30,
     "metadata": {},
     "output_type": "execute_result"
    }
   ],
   "source": [
    "model.evaluate(test_ds, verbose=1, batch_size=BATCH_SIZE)"
   ],
   "metadata": {
    "collapsed": false,
    "ExecuteTime": {
     "end_time": "2024-02-24T00:21:09.923456Z",
     "start_time": "2024-02-24T00:21:09.901764100Z"
    }
   },
   "id": "d52c2208aed74b8b",
   "execution_count": 30
  },
  {
   "cell_type": "markdown",
   "source": [
    "Let's also generate a classification report for the model along with the confusion matrix."
   ],
   "metadata": {
    "collapsed": false
   },
   "id": "bb4f229959c3287d"
  },
  {
   "cell_type": "code",
   "outputs": [
    {
     "name": "stdout",
     "output_type": "stream",
     "text": [
      "7/7 [==============================] - 0s 667us/step\n",
      "              precision    recall  f1-score   support\n",
      "\n",
      "           0       0.66      0.75      0.70        44\n",
      "           1       0.63      0.63      0.63        30\n",
      "           2       0.82      0.58      0.68        31\n",
      "           3       0.65      0.63      0.64        27\n",
      "           4       0.64      0.74      0.69        31\n",
      "           5       0.65      0.63      0.64        49\n",
      "\n",
      "    accuracy                           0.67       212\n",
      "   macro avg       0.68      0.66      0.66       212\n",
      "weighted avg       0.67      0.67      0.66       212\n",
      "\n",
      "[[33  2  1  2  0  6]\n",
      " [ 3 19  2  1  3  2]\n",
      " [ 3  4 18  0  3  3]\n",
      " [ 4  1  0 17  2  3]\n",
      " [ 1  2  0  2 23  3]\n",
      " [ 6  2  1  4  5 31]]\n"
     ]
    }
   ],
   "source": [
    "from sklearn.metrics import classification_report\n",
    "\n",
    "y_pred = model.predict(test_ds)\n",
    "y_pred = np.argmax(y_pred, axis=1)\n",
    "\n",
    "print(classification_report(y_test, y_pred))\n",
    "print(metrics.confusion_matrix(y_test, y_pred))"
   ],
   "metadata": {
    "collapsed": false,
    "ExecuteTime": {
     "end_time": "2024-02-24T00:21:19.370968200Z",
     "start_time": "2024-02-24T00:21:19.293456500Z"
    }
   },
   "id": "73a947990a3f8705",
   "execution_count": 31
  },
  {
   "cell_type": "markdown",
   "source": [
    "We can see that the model has an accuracy of 0.67, which is not bad considering the small dataset we have.\n",
    "Notable are the precision and recall scores for class 3, which are 0.67 and 0.30, respectively, showing that the model is not performing well on this class\n",
    "in comparison to the other classes. This class is about 'WORDS RELATING TO THE INTELLECTUAL FACULTIES', whose words may be more challenging to classify\n",
    "due to the philosophical nature of the words.\n",
    "\n",
    "However, we can see that the model is overfitting the training data, as the validation loss becomes higher than the training loss quickly,\n",
    "which makes sense given the small dataset we have.\n",
    "\n",
    "Ironically, the simpler models such as logistic regression and SGD outperformed the neural network model."
   ],
   "metadata": {
    "collapsed": false
   },
   "id": "6ab41048404b3e7b"
  },
  {
   "cell_type": "markdown",
   "source": [
    "### Two-Level Classification\n",
    "\n",
    "As we saw from before, we got the best results using the SGD Classifier.\n",
    "\n",
    "Let's now try to perform a two-level classification, where we first classify the class of the word and then classify the division/section of the word based on the class it belongs to.\n",
    "\n",
    "Firstly, we will create a new column in the dataframe named division/section, \n",
    "where it has as value the division if the division is not 4 (meaning `N/A` in our case),\n",
    " otherwise it has the value of the section.\n",
    "\n",
    "Then we will split the data into training and testing sets, using 80% of the data for training and 20% for testing."
   ],
   "metadata": {
    "collapsed": false
   },
   "id": "7cece51585462464"
  },
  {
   "cell_type": "code",
   "outputs": [],
   "source": [
    "# For the cls_df dataframe create a new column named division/section where it has as value the division if the division is not 4, otherwise it has the value of the section\n",
    "cls_df['division/section'] = cls_df['division']\n",
    "\n",
    "# 4 Means No Division\n",
    "cls_df.loc[cls_df['division'] == 4, 'division/section'] = cls_df['section']"
   ],
   "metadata": {
    "collapsed": false,
    "ExecuteTime": {
     "end_time": "2024-02-23T23:33:55.287154400Z",
     "start_time": "2024-02-23T23:33:55.269341Z"
    }
   },
   "id": "a7f158c0df67a4a0",
   "execution_count": 11
  },
  {
   "cell_type": "markdown",
   "source": [
    "Now let's split the data into training and testing sets, using 80% of the data for training and 20% for testing."
   ],
   "metadata": {
    "collapsed": false
   },
   "id": "2411460d85eb8e55"
  },
  {
   "cell_type": "code",
   "outputs": [],
   "source": [
    "from sklearn.model_selection import train_test_split\n",
    "\n",
    "# Get class and division/section\n",
    "y = cls_df[['class', 'division/section']]\n",
    "X_train, X_test, y_train, y_test = train_test_split(X, y, test_size=0.2, random_state=42)"
   ],
   "metadata": {
    "collapsed": false,
    "ExecuteTime": {
     "end_time": "2024-02-23T23:33:55.609492100Z",
     "start_time": "2024-02-23T23:33:55.603533400Z"
    }
   },
   "id": "85fde21674eaec17",
   "execution_count": 12
  },
  {
   "cell_type": "markdown",
   "source": [
    "Having done that we can now approach the two-level classification using the SGD Classifier as before, but this\n",
    "time we will use the `MultiOutputClassifier` from sklearn to perform the multi-output classification.\n",
    "However, there is a drawback to this approach, because at present, no metric in sklearn.metrics supports the multiclass-multioutput classification task.\n",
    "This means that we will have to create our own custom accuracy metric for the multi-output classification."
   ],
   "metadata": {
    "collapsed": false
   },
   "id": "25d67e79115b7dd8"
  },
  {
   "cell_type": "code",
   "outputs": [
    {
     "name": "stdout",
     "output_type": "stream",
     "text": [
      "Multi-output Accuracy: 0.4386792452830189\n"
     ]
    }
   ],
   "source": [
    "from sklearn.multioutput import MultiOutputClassifier\n",
    "from sklearn.linear_model import SGDClassifier\n",
    "\n",
    "# Create a multi-output classifier\n",
    "multi_output_model = MultiOutputClassifier(\n",
    "    sgd_model, n_jobs=-1)\n",
    "\n",
    "# Train the multi-output classifier\n",
    "multi_output_model.fit(X_train, y_train)\n",
    "\n",
    "# Generate classification report\n",
    "y_pred = multi_output_model.predict(X_test)\n",
    "\n",
    "# Custom accuracy for multi-output\n",
    "def multioutput_accuracy(y_true, y_pred):\n",
    "    correct = np.all(y_true == y_pred, axis=1)\n",
    "    return np.mean(correct)\n",
    "\n",
    "\n",
    "accuracy = multioutput_accuracy(y_test, y_pred)\n",
    "print(f\"Multi-output Accuracy: {accuracy}\")"
   ],
   "metadata": {
    "collapsed": false,
    "ExecuteTime": {
     "end_time": "2024-02-23T23:33:59.683944400Z",
     "start_time": "2024-02-23T23:33:56.308865800Z"
    }
   },
   "id": "79b2a49fecb749be",
   "execution_count": 13
  },
  {
   "cell_type": "markdown",
   "source": [
    "We can see that the multi-output accuracy is 0.438 which is not bad considering the small dataset we have,\n",
    "however, it is not as good as the single-output classification we performed earlier.\n",
    "Also, the custom accuracy metric we created may not be the best way to evaluate the multi-output classification.\n",
    "\n",
    "For that reason, let's try and train separate models for the class and the division/section and see how they perform.\n",
    "\n",
    "We will train a separate model (or models) for predicting the division/section within each class. This model will be trained only on data from a specific class. For example, you might have one model for each class, or a single model that uses the class prediction as an additional input."
   ],
   "metadata": {
    "collapsed": false
   },
   "id": "7326f9175f93ceb"
  },
  {
   "cell_type": "code",
   "outputs": [
    {
     "name": "stdout",
     "output_type": "stream",
     "text": [
      "Class 0 Accuracy: 0.6410256410256411\n",
      "Class 1 Accuracy: 0.7666666666666667\n",
      "Class 2 Accuracy: 0.7586206896551724\n",
      "Class 3 Accuracy: 0.696969696969697\n",
      "Class 4 Accuracy: 0.6756756756756757\n",
      "Class 5 Accuracy: 0.7608695652173914\n",
      "\n",
      "Average Accuracy: 0.7166379892017073\n"
     ]
    }
   ],
   "source": [
    "# For each class, train a separate model to predict the division/section\n",
    "class_models = {}\n",
    "accuracies = []\n",
    "for i in range(6):\n",
    "    # Get the data for the class\n",
    "    class_data = cls_df[cls_df['class'] == i]\n",
    "    X_C = np.vstack(class_data['embedding'])\n",
    "    y_C = class_data['division/section']\n",
    "    # Split the data into training and testing sets\n",
    "    X_C_train, X_C_test, y_C_train, y_C_test = train_test_split(X_C, y_C, test_size=0.2, random_state=62)\n",
    "\n",
    "    # Train the model\n",
    "    model = sgd_model\n",
    "    model.fit(X_C_train, y_C_train)\n",
    "\n",
    "    # Generate classification report\n",
    "    y_C_pred = model.predict(X_C_test)\n",
    "    print(f\"Class {i} Accuracy: {metrics.accuracy_score(y_C_test, y_C_pred)}\")\n",
    "    # Multi-output accuracy (multiply the accuracy for each class from the class model with the accuracy for the division/section model)\n",
    "    \n",
    "    # Firstly, get the f1-score for the class we are checking from the sgd model\n",
    "    f1_score = metrics.f1_score(y_C_test, y_C_pred, average='weighted')\n",
    "    \n",
    "    \n",
    "    \n",
    "    \n",
    "    accuracies.append(metrics.accuracy_score(y_C_test, y_C_pred))\n",
    "    class_models[i] = model\n",
    "\n",
    "print()\n",
    "print(f\"Average Accuracy: {np.mean(accuracies)}\")"
   ],
   "metadata": {
    "collapsed": false,
    "ExecuteTime": {
     "end_time": "2024-02-23T23:36:04.021641700Z",
     "start_time": "2024-02-23T23:36:03.764498700Z"
    }
   },
   "id": "200c547705fbd699",
   "execution_count": 15
  },
  {
   "cell_type": "markdown",
   "source": [
    "Now having the separate models for each class, we can now chain them together to predict the division/section based on the class."
   ],
   "metadata": {
    "collapsed": false
   },
   "id": "ec307bba8ff898af"
  },
  {
   "cell_type": "code",
   "outputs": [],
   "source": [
    "# Chain the models together to predict the division/section based on the class\n",
    "def predict_word_class_and_division(df):\n",
    "    predictions = []\n",
    "\n",
    "    for word in df[word_column]:\n",
    "        # Predict the class\n",
    "        predicted_class = sgd_model.predict(word)[0]  # Assuming the output is a list\n",
    "\n",
    "        # Predict the division/section within the predicted class\n",
    "        predicted_division = class_models[predicted_class].predict([word])[0]  # Assuming the output is a list\n",
    "\n",
    "        predictions.append({'class': predicted_class, 'division/section': predicted_division})\n",
    "\n",
    "    return pd.DataFrame(predictions)\n",
    "\n",
    "y_pred = predict_word_class_and_division(X_test)\n",
    "\n",
    "# Custom accuracy for multi-output\n",
    "def multioutput_accuracy(y_true, y_pred):\n",
    "    correct = np.all(y_true == y_pred, axis=1)\n",
    "    return np.mean(correct)\n"
   ],
   "metadata": {
    "collapsed": false
   },
   "id": "4007c2ce0b400bf8"
  }
 ],
 "metadata": {
  "kernelspec": {
   "display_name": "Python 3",
   "language": "python",
   "name": "python3"
  },
  "language_info": {
   "codemirror_mode": {
    "name": "ipython",
    "version": 2
   },
   "file_extension": ".py",
   "mimetype": "text/x-python",
   "name": "python",
   "nbconvert_exporter": "python",
   "pygments_lexer": "ipython2",
   "version": "2.7.6"
  }
 },
 "nbformat": 4,
 "nbformat_minor": 5
}
