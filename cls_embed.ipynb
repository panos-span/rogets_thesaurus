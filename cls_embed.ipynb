{
 "cells": [
  {
   "cell_type": "markdown",
   "source": [
    "## Classification\n",
    "\n",
    "Let's now retrieve the classification embeddings from the chromadb vector database and perform classification on them."
   ],
   "metadata": {
    "collapsed": false
   },
   "id": "eb007503dc588dee"
  },
  {
   "cell_type": "code",
   "outputs": [],
   "source": [
    "import chromadb\n",
    "\n",
    "client = chromadb.PersistentClient(path=\"./chroma_db\")\n",
    "collection = client.get_collection(\"nomic_classification_v1\")"
   ],
   "metadata": {
    "collapsed": true,
    "ExecuteTime": {
     "end_time": "2024-02-23T23:55:17.694824800Z",
     "start_time": "2024-02-23T23:55:16.606477900Z"
    }
   },
   "id": "initial_id",
   "execution_count": 1
  },
  {
   "cell_type": "markdown",
   "source": [
    "Now let us get the words along with their classes and division and sections from the json file we created earlier."
   ],
   "metadata": {
    "collapsed": false
   },
   "id": "84452ecc48ce9511"
  },
  {
   "cell_type": "code",
   "outputs": [],
   "source": [
    "import json\n",
    "\n",
    "with open(\"hierarchy.json\", \"r\") as f:\n",
    "    categories = json.load(f)"
   ],
   "metadata": {
    "collapsed": false,
    "ExecuteTime": {
     "end_time": "2024-02-23T23:55:17.702340300Z",
     "start_time": "2024-02-23T23:55:17.694824800Z"
    }
   },
   "id": "6185d3b32070a313",
   "execution_count": 2
  },
  {
   "cell_type": "markdown",
   "source": [
    "Let's retrieve the embeddings and the words along with the class, division, and section from the chromadb and create a dataframe with them."
   ],
   "metadata": {
    "collapsed": false
   },
   "id": "11d5ef59ed70ec91"
  },
  {
   "cell_type": "code",
   "outputs": [
    {
     "data": {
      "text/plain": "                   word                                          embedding  \\\n0             Existence  [-0.029754638671875, -0.0263671875, -0.0127792...   \n1           Inexistence  [-0.01029205322265625, 0.019256591796875, -0.0...   \n2         Consanguinity  [0.0386962890625, -0.01026153564453125, -0.013...   \n3            Trisection  [0.007350921630859375, -0.001903533935546875, ...   \n4             Innocence  [0.0338134765625, 0.0139923095703125, -0.03097...   \n...                 ...                                                ...   \n1052              Knave  [0.0032215118408203125, 0.01201629638671875, -...   \n1053  Disinterestedness  [-0.01776123046875, 0.020965576171875, -0.0221...   \n1054        Selfishness  [0.01071929931640625, 0.049468994140625, -0.03...   \n1055             Virtue  [0.0201416015625, 0.006626129150390625, -0.035...   \n1056               Vice  [0.0035228729248046875, -0.028533935546875, -0...   \n\n                                                class division  \\\n0                 WORDS EXPRESSING ABSTRACT RELATIONS      N/A   \n1                 WORDS EXPRESSING ABSTRACT RELATIONS      N/A   \n2                 WORDS EXPRESSING ABSTRACT RELATIONS      N/A   \n3                 WORDS EXPRESSING ABSTRACT RELATIONS      N/A   \n4     WORDS RELATING TO THE SENTIENT AND MORAL POWERS      N/A   \n...                                               ...      ...   \n1052  WORDS RELATING TO THE SENTIENT AND MORAL POWERS      N/A   \n1053  WORDS RELATING TO THE SENTIENT AND MORAL POWERS      N/A   \n1054  WORDS RELATING TO THE SENTIENT AND MORAL POWERS      N/A   \n1055  WORDS RELATING TO THE SENTIENT AND MORAL POWERS      N/A   \n1056  WORDS RELATING TO THE SENTIENT AND MORAL POWERS      N/A   \n\n               section  \n0            EXISTENCE  \n1            EXISTENCE  \n2             RELATION  \n3               NUMBER  \n4     MORAL AFFECTIONS  \n...                ...  \n1052  MORAL AFFECTIONS  \n1053  MORAL AFFECTIONS  \n1054  MORAL AFFECTIONS  \n1055  MORAL AFFECTIONS  \n1056  MORAL AFFECTIONS  \n\n[1057 rows x 5 columns]",
      "text/html": "<div>\n<style scoped>\n    .dataframe tbody tr th:only-of-type {\n        vertical-align: middle;\n    }\n\n    .dataframe tbody tr th {\n        vertical-align: top;\n    }\n\n    .dataframe thead th {\n        text-align: right;\n    }\n</style>\n<table border=\"1\" class=\"dataframe\">\n  <thead>\n    <tr style=\"text-align: right;\">\n      <th></th>\n      <th>word</th>\n      <th>embedding</th>\n      <th>class</th>\n      <th>division</th>\n      <th>section</th>\n    </tr>\n  </thead>\n  <tbody>\n    <tr>\n      <th>0</th>\n      <td>Existence</td>\n      <td>[-0.029754638671875, -0.0263671875, -0.0127792...</td>\n      <td>WORDS EXPRESSING ABSTRACT RELATIONS</td>\n      <td>N/A</td>\n      <td>EXISTENCE</td>\n    </tr>\n    <tr>\n      <th>1</th>\n      <td>Inexistence</td>\n      <td>[-0.01029205322265625, 0.019256591796875, -0.0...</td>\n      <td>WORDS EXPRESSING ABSTRACT RELATIONS</td>\n      <td>N/A</td>\n      <td>EXISTENCE</td>\n    </tr>\n    <tr>\n      <th>2</th>\n      <td>Consanguinity</td>\n      <td>[0.0386962890625, -0.01026153564453125, -0.013...</td>\n      <td>WORDS EXPRESSING ABSTRACT RELATIONS</td>\n      <td>N/A</td>\n      <td>RELATION</td>\n    </tr>\n    <tr>\n      <th>3</th>\n      <td>Trisection</td>\n      <td>[0.007350921630859375, -0.001903533935546875, ...</td>\n      <td>WORDS EXPRESSING ABSTRACT RELATIONS</td>\n      <td>N/A</td>\n      <td>NUMBER</td>\n    </tr>\n    <tr>\n      <th>4</th>\n      <td>Innocence</td>\n      <td>[0.0338134765625, 0.0139923095703125, -0.03097...</td>\n      <td>WORDS RELATING TO THE SENTIENT AND MORAL POWERS</td>\n      <td>N/A</td>\n      <td>MORAL AFFECTIONS</td>\n    </tr>\n    <tr>\n      <th>...</th>\n      <td>...</td>\n      <td>...</td>\n      <td>...</td>\n      <td>...</td>\n      <td>...</td>\n    </tr>\n    <tr>\n      <th>1052</th>\n      <td>Knave</td>\n      <td>[0.0032215118408203125, 0.01201629638671875, -...</td>\n      <td>WORDS RELATING TO THE SENTIENT AND MORAL POWERS</td>\n      <td>N/A</td>\n      <td>MORAL AFFECTIONS</td>\n    </tr>\n    <tr>\n      <th>1053</th>\n      <td>Disinterestedness</td>\n      <td>[-0.01776123046875, 0.020965576171875, -0.0221...</td>\n      <td>WORDS RELATING TO THE SENTIENT AND MORAL POWERS</td>\n      <td>N/A</td>\n      <td>MORAL AFFECTIONS</td>\n    </tr>\n    <tr>\n      <th>1054</th>\n      <td>Selfishness</td>\n      <td>[0.01071929931640625, 0.049468994140625, -0.03...</td>\n      <td>WORDS RELATING TO THE SENTIENT AND MORAL POWERS</td>\n      <td>N/A</td>\n      <td>MORAL AFFECTIONS</td>\n    </tr>\n    <tr>\n      <th>1055</th>\n      <td>Virtue</td>\n      <td>[0.0201416015625, 0.006626129150390625, -0.035...</td>\n      <td>WORDS RELATING TO THE SENTIENT AND MORAL POWERS</td>\n      <td>N/A</td>\n      <td>MORAL AFFECTIONS</td>\n    </tr>\n    <tr>\n      <th>1056</th>\n      <td>Vice</td>\n      <td>[0.0035228729248046875, -0.028533935546875, -0...</td>\n      <td>WORDS RELATING TO THE SENTIENT AND MORAL POWERS</td>\n      <td>N/A</td>\n      <td>MORAL AFFECTIONS</td>\n    </tr>\n  </tbody>\n</table>\n<p>1057 rows × 5 columns</p>\n</div>"
     },
     "execution_count": 3,
     "metadata": {},
     "output_type": "execute_result"
    }
   ],
   "source": [
    "import pandas as pd\n",
    "\n",
    "# Retrieve the embeddings, words, and metadata\n",
    "words = collection.get(include=[\"embeddings\", \"documents\"])['documents']\n",
    "embeddings = collection.get(include=[\"embeddings\", \"documents\"])['embeddings']\n",
    "metadata = collection.get(include=[\"embeddings\", \"documents\", \"metadatas\"])['metadatas']\n",
    "\n",
    "# Create a dataframe with the embeddings and the words\n",
    "cls_df = pd.DataFrame({'word': words, 'embedding': embeddings})\n",
    "\n",
    "# Add the class, division, and section from metadata to the dataframe\n",
    "cls_df['class'] = [md['class'] for md in metadata]\n",
    "cls_df['division'] = [md['division'] for md in metadata]\n",
    "cls_df['section'] = [md['section'] for md in metadata]\n",
    "\n",
    "cls_df"
   ],
   "metadata": {
    "collapsed": false,
    "ExecuteTime": {
     "end_time": "2024-02-23T23:55:18.164342400Z",
     "start_time": "2024-02-23T23:55:17.698340500Z"
    }
   },
   "id": "b09af619c5292133",
   "execution_count": 3
  },
  {
   "cell_type": "markdown",
   "source": [
    "Now let's prepare the data for classification by converting the class, division, and section to numerical values."
   ],
   "metadata": {
    "collapsed": false
   },
   "id": "3501a068561a6136"
  },
  {
   "cell_type": "code",
   "outputs": [
    {
     "data": {
      "text/plain": "                   word                                          embedding  \\\n0             Existence  [-0.029754638671875, -0.0263671875, -0.0127792...   \n1           Inexistence  [-0.01029205322265625, 0.019256591796875, -0.0...   \n2         Consanguinity  [0.0386962890625, -0.01026153564453125, -0.013...   \n3            Trisection  [0.007350921630859375, -0.001903533935546875, ...   \n4             Innocence  [0.0338134765625, 0.0139923095703125, -0.03097...   \n...                 ...                                                ...   \n1052              Knave  [0.0032215118408203125, 0.01201629638671875, -...   \n1053  Disinterestedness  [-0.01776123046875, 0.020965576171875, -0.0221...   \n1054        Selfishness  [0.01071929931640625, 0.049468994140625, -0.03...   \n1055             Virtue  [0.0201416015625, 0.006626129150390625, -0.035...   \n1056               Vice  [0.0035228729248046875, -0.028533935546875, -0...   \n\n      class  division  section  \n0         0         4        7  \n1         0         4        7  \n2         0         4       29  \n3         0         4       19  \n4         4         4       16  \n...     ...       ...      ...  \n1052      4         4       16  \n1053      4         4       16  \n1054      4         4       16  \n1055      4         4       16  \n1056      4         4       16  \n\n[1057 rows x 5 columns]",
      "text/html": "<div>\n<style scoped>\n    .dataframe tbody tr th:only-of-type {\n        vertical-align: middle;\n    }\n\n    .dataframe tbody tr th {\n        vertical-align: top;\n    }\n\n    .dataframe thead th {\n        text-align: right;\n    }\n</style>\n<table border=\"1\" class=\"dataframe\">\n  <thead>\n    <tr style=\"text-align: right;\">\n      <th></th>\n      <th>word</th>\n      <th>embedding</th>\n      <th>class</th>\n      <th>division</th>\n      <th>section</th>\n    </tr>\n  </thead>\n  <tbody>\n    <tr>\n      <th>0</th>\n      <td>Existence</td>\n      <td>[-0.029754638671875, -0.0263671875, -0.0127792...</td>\n      <td>0</td>\n      <td>4</td>\n      <td>7</td>\n    </tr>\n    <tr>\n      <th>1</th>\n      <td>Inexistence</td>\n      <td>[-0.01029205322265625, 0.019256591796875, -0.0...</td>\n      <td>0</td>\n      <td>4</td>\n      <td>7</td>\n    </tr>\n    <tr>\n      <th>2</th>\n      <td>Consanguinity</td>\n      <td>[0.0386962890625, -0.01026153564453125, -0.013...</td>\n      <td>0</td>\n      <td>4</td>\n      <td>29</td>\n    </tr>\n    <tr>\n      <th>3</th>\n      <td>Trisection</td>\n      <td>[0.007350921630859375, -0.001903533935546875, ...</td>\n      <td>0</td>\n      <td>4</td>\n      <td>19</td>\n    </tr>\n    <tr>\n      <th>4</th>\n      <td>Innocence</td>\n      <td>[0.0338134765625, 0.0139923095703125, -0.03097...</td>\n      <td>4</td>\n      <td>4</td>\n      <td>16</td>\n    </tr>\n    <tr>\n      <th>...</th>\n      <td>...</td>\n      <td>...</td>\n      <td>...</td>\n      <td>...</td>\n      <td>...</td>\n    </tr>\n    <tr>\n      <th>1052</th>\n      <td>Knave</td>\n      <td>[0.0032215118408203125, 0.01201629638671875, -...</td>\n      <td>4</td>\n      <td>4</td>\n      <td>16</td>\n    </tr>\n    <tr>\n      <th>1053</th>\n      <td>Disinterestedness</td>\n      <td>[-0.01776123046875, 0.020965576171875, -0.0221...</td>\n      <td>4</td>\n      <td>4</td>\n      <td>16</td>\n    </tr>\n    <tr>\n      <th>1054</th>\n      <td>Selfishness</td>\n      <td>[0.01071929931640625, 0.049468994140625, -0.03...</td>\n      <td>4</td>\n      <td>4</td>\n      <td>16</td>\n    </tr>\n    <tr>\n      <th>1055</th>\n      <td>Virtue</td>\n      <td>[0.0201416015625, 0.006626129150390625, -0.035...</td>\n      <td>4</td>\n      <td>4</td>\n      <td>16</td>\n    </tr>\n    <tr>\n      <th>1056</th>\n      <td>Vice</td>\n      <td>[0.0035228729248046875, -0.028533935546875, -0...</td>\n      <td>4</td>\n      <td>4</td>\n      <td>16</td>\n    </tr>\n  </tbody>\n</table>\n<p>1057 rows × 5 columns</p>\n</div>"
     },
     "execution_count": 4,
     "metadata": {},
     "output_type": "execute_result"
    }
   ],
   "source": [
    "# Make all classes and divisions/sections as numerical values\n",
    "cls_df['class'] = pd.Categorical(cls_df['class'])\n",
    "cls_df['division'] = pd.Categorical(cls_df['division'])\n",
    "cls_df['section'] = pd.Categorical(cls_df['section'])\n",
    "\n",
    "cls_df['class'] = cls_df['class'].cat.codes\n",
    "cls_df['division'] = cls_df['division'].cat.codes\n",
    "cls_df['section'] = cls_df['section'].cat.codes\n",
    "cls_df"
   ],
   "metadata": {
    "collapsed": false,
    "ExecuteTime": {
     "end_time": "2024-02-23T23:55:18.178286Z",
     "start_time": "2024-02-23T23:55:18.158341900Z"
    }
   },
   "id": "516a1edf25fbdd15",
   "execution_count": 4
  },
  {
   "cell_type": "markdown",
   "source": [
    "Let's also prepare the embeddings for classification by converting them to a numpy array."
   ],
   "metadata": {
    "collapsed": false
   },
   "id": "891ef0bbf5ddeecc"
  },
  {
   "cell_type": "code",
   "outputs": [],
   "source": [
    "import numpy as np\n",
    "\n",
    "X = np.vstack(cls_df['embedding'])"
   ],
   "metadata": {
    "collapsed": false,
    "ExecuteTime": {
     "end_time": "2024-02-23T23:55:18.191288700Z",
     "start_time": "2024-02-23T23:55:18.169285600Z"
    }
   },
   "id": "1d2b8c0fca50cf83",
   "execution_count": 5
  },
  {
   "cell_type": "markdown",
   "source": [
    "### Multi-class logistic regression\n",
    "\n",
    "Let us start by training a multi-class logistic regression model on the embeddings and the class.\n",
    "\n",
    "Before we do that, however, let's split the data into training and testing sets, using 80% of the data for training and 20% for testing."
   ],
   "metadata": {
    "collapsed": false
   },
   "id": "a0da1d957a8e1533"
  },
  {
   "cell_type": "code",
   "outputs": [],
   "source": [
    "from sklearn.model_selection import train_test_split\n",
    "\n",
    "y = cls_df['class']\n",
    "X_train, X_test, y_train, y_test = train_test_split(X, y, test_size=0.2, random_state=42)"
   ],
   "metadata": {
    "collapsed": false,
    "ExecuteTime": {
     "end_time": "2024-02-23T23:55:19.190260600Z",
     "start_time": "2024-02-23T23:55:18.192287200Z"
    }
   },
   "id": "e541551066686048",
   "execution_count": 6
  },
  {
   "cell_type": "markdown",
   "source": [
    "Now let's train a logistic regression model on the training data and evaluate it on the testing data."
   ],
   "metadata": {
    "collapsed": false
   },
   "id": "2b8a7c1f9edc9e63"
  },
  {
   "cell_type": "code",
   "outputs": [
    {
     "data": {
      "text/plain": "LogisticRegression(max_iter=1000, multi_class='ovr', n_jobs=-1, random_state=42)",
      "text/html": "<style>#sk-container-id-5 {\n  /* Definition of color scheme common for light and dark mode */\n  --sklearn-color-text: black;\n  --sklearn-color-line: gray;\n  /* Definition of color scheme for unfitted estimators */\n  --sklearn-color-unfitted-level-0: #fff5e6;\n  --sklearn-color-unfitted-level-1: #f6e4d2;\n  --sklearn-color-unfitted-level-2: #ffe0b3;\n  --sklearn-color-unfitted-level-3: chocolate;\n  /* Definition of color scheme for fitted estimators */\n  --sklearn-color-fitted-level-0: #f0f8ff;\n  --sklearn-color-fitted-level-1: #d4ebff;\n  --sklearn-color-fitted-level-2: #b3dbfd;\n  --sklearn-color-fitted-level-3: cornflowerblue;\n\n  /* Specific color for light theme */\n  --sklearn-color-text-on-default-background: var(--sg-text-color, var(--theme-code-foreground, var(--jp-content-font-color1, black)));\n  --sklearn-color-background: var(--sg-background-color, var(--theme-background, var(--jp-layout-color0, white)));\n  --sklearn-color-border-box: var(--sg-text-color, var(--theme-code-foreground, var(--jp-content-font-color1, black)));\n  --sklearn-color-icon: #696969;\n\n  @media (prefers-color-scheme: dark) {\n    /* Redefinition of color scheme for dark theme */\n    --sklearn-color-text-on-default-background: var(--sg-text-color, var(--theme-code-foreground, var(--jp-content-font-color1, white)));\n    --sklearn-color-background: var(--sg-background-color, var(--theme-background, var(--jp-layout-color0, #111)));\n    --sklearn-color-border-box: var(--sg-text-color, var(--theme-code-foreground, var(--jp-content-font-color1, white)));\n    --sklearn-color-icon: #878787;\n  }\n}\n\n#sk-container-id-5 {\n  color: var(--sklearn-color-text);\n}\n\n#sk-container-id-5 pre {\n  padding: 0;\n}\n\n#sk-container-id-5 input.sk-hidden--visually {\n  border: 0;\n  clip: rect(1px 1px 1px 1px);\n  clip: rect(1px, 1px, 1px, 1px);\n  height: 1px;\n  margin: -1px;\n  overflow: hidden;\n  padding: 0;\n  position: absolute;\n  width: 1px;\n}\n\n#sk-container-id-5 div.sk-dashed-wrapped {\n  border: 1px dashed var(--sklearn-color-line);\n  margin: 0 0.4em 0.5em 0.4em;\n  box-sizing: border-box;\n  padding-bottom: 0.4em;\n  background-color: var(--sklearn-color-background);\n}\n\n#sk-container-id-5 div.sk-container {\n  /* jupyter's `normalize.less` sets `[hidden] { display: none; }`\n     but bootstrap.min.css set `[hidden] { display: none !important; }`\n     so we also need the `!important` here to be able to override the\n     default hidden behavior on the sphinx rendered scikit-learn.org.\n     See: https://github.com/scikit-learn/scikit-learn/issues/21755 */\n  display: inline-block !important;\n  position: relative;\n}\n\n#sk-container-id-5 div.sk-text-repr-fallback {\n  display: none;\n}\n\ndiv.sk-parallel-item,\ndiv.sk-serial,\ndiv.sk-item {\n  /* draw centered vertical line to link estimators */\n  background-image: linear-gradient(var(--sklearn-color-text-on-default-background), var(--sklearn-color-text-on-default-background));\n  background-size: 2px 100%;\n  background-repeat: no-repeat;\n  background-position: center center;\n}\n\n/* Parallel-specific style estimator block */\n\n#sk-container-id-5 div.sk-parallel-item::after {\n  content: \"\";\n  width: 100%;\n  border-bottom: 2px solid var(--sklearn-color-text-on-default-background);\n  flex-grow: 1;\n}\n\n#sk-container-id-5 div.sk-parallel {\n  display: flex;\n  align-items: stretch;\n  justify-content: center;\n  background-color: var(--sklearn-color-background);\n  position: relative;\n}\n\n#sk-container-id-5 div.sk-parallel-item {\n  display: flex;\n  flex-direction: column;\n}\n\n#sk-container-id-5 div.sk-parallel-item:first-child::after {\n  align-self: flex-end;\n  width: 50%;\n}\n\n#sk-container-id-5 div.sk-parallel-item:last-child::after {\n  align-self: flex-start;\n  width: 50%;\n}\n\n#sk-container-id-5 div.sk-parallel-item:only-child::after {\n  width: 0;\n}\n\n/* Serial-specific style estimator block */\n\n#sk-container-id-5 div.sk-serial {\n  display: flex;\n  flex-direction: column;\n  align-items: center;\n  background-color: var(--sklearn-color-background);\n  padding-right: 1em;\n  padding-left: 1em;\n}\n\n\n/* Toggleable style: style used for estimator/Pipeline/ColumnTransformer box that is\nclickable and can be expanded/collapsed.\n- Pipeline and ColumnTransformer use this feature and define the default style\n- Estimators will overwrite some part of the style using the `sk-estimator` class\n*/\n\n/* Pipeline and ColumnTransformer style (default) */\n\n#sk-container-id-5 div.sk-toggleable {\n  /* Default theme specific background. It is overwritten whether we have a\n  specific estimator or a Pipeline/ColumnTransformer */\n  background-color: var(--sklearn-color-background);\n}\n\n/* Toggleable label */\n#sk-container-id-5 label.sk-toggleable__label {\n  cursor: pointer;\n  display: block;\n  width: 100%;\n  margin-bottom: 0;\n  padding: 0.5em;\n  box-sizing: border-box;\n  text-align: center;\n}\n\n#sk-container-id-5 label.sk-toggleable__label-arrow:before {\n  /* Arrow on the left of the label */\n  content: \"▸\";\n  float: left;\n  margin-right: 0.25em;\n  color: var(--sklearn-color-icon);\n}\n\n#sk-container-id-5 label.sk-toggleable__label-arrow:hover:before {\n  color: var(--sklearn-color-text);\n}\n\n/* Toggleable content - dropdown */\n\n#sk-container-id-5 div.sk-toggleable__content {\n  max-height: 0;\n  max-width: 0;\n  overflow: hidden;\n  text-align: left;\n  /* unfitted */\n  background-color: var(--sklearn-color-unfitted-level-0);\n}\n\n#sk-container-id-5 div.sk-toggleable__content.fitted {\n  /* fitted */\n  background-color: var(--sklearn-color-fitted-level-0);\n}\n\n#sk-container-id-5 div.sk-toggleable__content pre {\n  margin: 0.2em;\n  border-radius: 0.25em;\n  color: var(--sklearn-color-text);\n  /* unfitted */\n  background-color: var(--sklearn-color-unfitted-level-0);\n}\n\n#sk-container-id-5 div.sk-toggleable__content.fitted pre {\n  /* unfitted */\n  background-color: var(--sklearn-color-fitted-level-0);\n}\n\n#sk-container-id-5 input.sk-toggleable__control:checked~div.sk-toggleable__content {\n  /* Expand drop-down */\n  max-height: 200px;\n  max-width: 100%;\n  overflow: auto;\n}\n\n#sk-container-id-5 input.sk-toggleable__control:checked~label.sk-toggleable__label-arrow:before {\n  content: \"▾\";\n}\n\n/* Pipeline/ColumnTransformer-specific style */\n\n#sk-container-id-5 div.sk-label input.sk-toggleable__control:checked~label.sk-toggleable__label {\n  color: var(--sklearn-color-text);\n  background-color: var(--sklearn-color-unfitted-level-2);\n}\n\n#sk-container-id-5 div.sk-label.fitted input.sk-toggleable__control:checked~label.sk-toggleable__label {\n  background-color: var(--sklearn-color-fitted-level-2);\n}\n\n/* Estimator-specific style */\n\n/* Colorize estimator box */\n#sk-container-id-5 div.sk-estimator input.sk-toggleable__control:checked~label.sk-toggleable__label {\n  /* unfitted */\n  background-color: var(--sklearn-color-unfitted-level-2);\n}\n\n#sk-container-id-5 div.sk-estimator.fitted input.sk-toggleable__control:checked~label.sk-toggleable__label {\n  /* fitted */\n  background-color: var(--sklearn-color-fitted-level-2);\n}\n\n#sk-container-id-5 div.sk-label label.sk-toggleable__label,\n#sk-container-id-5 div.sk-label label {\n  /* The background is the default theme color */\n  color: var(--sklearn-color-text-on-default-background);\n}\n\n/* On hover, darken the color of the background */\n#sk-container-id-5 div.sk-label:hover label.sk-toggleable__label {\n  color: var(--sklearn-color-text);\n  background-color: var(--sklearn-color-unfitted-level-2);\n}\n\n/* Label box, darken color on hover, fitted */\n#sk-container-id-5 div.sk-label.fitted:hover label.sk-toggleable__label.fitted {\n  color: var(--sklearn-color-text);\n  background-color: var(--sklearn-color-fitted-level-2);\n}\n\n/* Estimator label */\n\n#sk-container-id-5 div.sk-label label {\n  font-family: monospace;\n  font-weight: bold;\n  display: inline-block;\n  line-height: 1.2em;\n}\n\n#sk-container-id-5 div.sk-label-container {\n  text-align: center;\n}\n\n/* Estimator-specific */\n#sk-container-id-5 div.sk-estimator {\n  font-family: monospace;\n  border: 1px dotted var(--sklearn-color-border-box);\n  border-radius: 0.25em;\n  box-sizing: border-box;\n  margin-bottom: 0.5em;\n  /* unfitted */\n  background-color: var(--sklearn-color-unfitted-level-0);\n}\n\n#sk-container-id-5 div.sk-estimator.fitted {\n  /* fitted */\n  background-color: var(--sklearn-color-fitted-level-0);\n}\n\n/* on hover */\n#sk-container-id-5 div.sk-estimator:hover {\n  /* unfitted */\n  background-color: var(--sklearn-color-unfitted-level-2);\n}\n\n#sk-container-id-5 div.sk-estimator.fitted:hover {\n  /* fitted */\n  background-color: var(--sklearn-color-fitted-level-2);\n}\n\n/* Specification for estimator info (e.g. \"i\" and \"?\") */\n\n/* Common style for \"i\" and \"?\" */\n\n.sk-estimator-doc-link,\na:link.sk-estimator-doc-link,\na:visited.sk-estimator-doc-link {\n  float: right;\n  font-size: smaller;\n  line-height: 1em;\n  font-family: monospace;\n  background-color: var(--sklearn-color-background);\n  border-radius: 1em;\n  height: 1em;\n  width: 1em;\n  text-decoration: none !important;\n  margin-left: 1ex;\n  /* unfitted */\n  border: var(--sklearn-color-unfitted-level-1) 1pt solid;\n  color: var(--sklearn-color-unfitted-level-1);\n}\n\n.sk-estimator-doc-link.fitted,\na:link.sk-estimator-doc-link.fitted,\na:visited.sk-estimator-doc-link.fitted {\n  /* fitted */\n  border: var(--sklearn-color-fitted-level-1) 1pt solid;\n  color: var(--sklearn-color-fitted-level-1);\n}\n\n/* On hover */\ndiv.sk-estimator:hover .sk-estimator-doc-link:hover,\n.sk-estimator-doc-link:hover,\ndiv.sk-label-container:hover .sk-estimator-doc-link:hover,\n.sk-estimator-doc-link:hover {\n  /* unfitted */\n  background-color: var(--sklearn-color-unfitted-level-3);\n  color: var(--sklearn-color-background);\n  text-decoration: none;\n}\n\ndiv.sk-estimator.fitted:hover .sk-estimator-doc-link.fitted:hover,\n.sk-estimator-doc-link.fitted:hover,\ndiv.sk-label-container:hover .sk-estimator-doc-link.fitted:hover,\n.sk-estimator-doc-link.fitted:hover {\n  /* fitted */\n  background-color: var(--sklearn-color-fitted-level-3);\n  color: var(--sklearn-color-background);\n  text-decoration: none;\n}\n\n/* Span, style for the box shown on hovering the info icon */\n.sk-estimator-doc-link span {\n  display: none;\n  z-index: 9999;\n  position: relative;\n  font-weight: normal;\n  right: .2ex;\n  padding: .5ex;\n  margin: .5ex;\n  width: min-content;\n  min-width: 20ex;\n  max-width: 50ex;\n  color: var(--sklearn-color-text);\n  box-shadow: 2pt 2pt 4pt #999;\n  /* unfitted */\n  background: var(--sklearn-color-unfitted-level-0);\n  border: .5pt solid var(--sklearn-color-unfitted-level-3);\n}\n\n.sk-estimator-doc-link.fitted span {\n  /* fitted */\n  background: var(--sklearn-color-fitted-level-0);\n  border: var(--sklearn-color-fitted-level-3);\n}\n\n.sk-estimator-doc-link:hover span {\n  display: block;\n}\n\n/* \"?\"-specific style due to the `<a>` HTML tag */\n\n#sk-container-id-5 a.estimator_doc_link {\n  float: right;\n  font-size: 1rem;\n  line-height: 1em;\n  font-family: monospace;\n  background-color: var(--sklearn-color-background);\n  border-radius: 1rem;\n  height: 1rem;\n  width: 1rem;\n  text-decoration: none;\n  /* unfitted */\n  color: var(--sklearn-color-unfitted-level-1);\n  border: var(--sklearn-color-unfitted-level-1) 1pt solid;\n}\n\n#sk-container-id-5 a.estimator_doc_link.fitted {\n  /* fitted */\n  border: var(--sklearn-color-fitted-level-1) 1pt solid;\n  color: var(--sklearn-color-fitted-level-1);\n}\n\n/* On hover */\n#sk-container-id-5 a.estimator_doc_link:hover {\n  /* unfitted */\n  background-color: var(--sklearn-color-unfitted-level-3);\n  color: var(--sklearn-color-background);\n  text-decoration: none;\n}\n\n#sk-container-id-5 a.estimator_doc_link.fitted:hover {\n  /* fitted */\n  background-color: var(--sklearn-color-fitted-level-3);\n}\n</style><div id=\"sk-container-id-5\" class=\"sk-top-container\"><div class=\"sk-text-repr-fallback\"><pre>LogisticRegression(max_iter=1000, multi_class=&#x27;ovr&#x27;, n_jobs=-1, random_state=42)</pre><b>In a Jupyter environment, please rerun this cell to show the HTML representation or trust the notebook. <br />On GitHub, the HTML representation is unable to render, please try loading this page with nbviewer.org.</b></div><div class=\"sk-container\" hidden><div class=\"sk-item\"><div class=\"sk-estimator fitted sk-toggleable\"><input class=\"sk-toggleable__control sk-hidden--visually\" id=\"sk-estimator-id-5\" type=\"checkbox\" checked><label for=\"sk-estimator-id-5\" class=\"sk-toggleable__label fitted sk-toggleable__label-arrow fitted\">&nbsp;&nbsp;LogisticRegression<a class=\"sk-estimator-doc-link fitted\" rel=\"noreferrer\" target=\"_blank\" href=\"https://scikit-learn.org/1.4/modules/generated/sklearn.linear_model.LogisticRegression.html\">?<span>Documentation for LogisticRegression</span></a><span class=\"sk-estimator-doc-link fitted\">i<span>Fitted</span></span></label><div class=\"sk-toggleable__content fitted\"><pre>LogisticRegression(max_iter=1000, multi_class=&#x27;ovr&#x27;, n_jobs=-1, random_state=42)</pre></div> </div></div></div></div>"
     },
     "execution_count": 99,
     "metadata": {},
     "output_type": "execute_result"
    }
   ],
   "source": [
    "# Train a logistic regression model\n",
    "from sklearn.linear_model import LogisticRegression\n",
    "\n",
    "model = LogisticRegression(max_iter=1000, multi_class='ovr', n_jobs=-1, random_state=42)\n",
    "model.fit(X_train, y_train)"
   ],
   "metadata": {
    "collapsed": false,
    "ExecuteTime": {
     "end_time": "2024-02-23T23:12:20.169952700Z",
     "start_time": "2024-02-23T23:12:16.592596900Z"
    }
   },
   "id": "2a20c0e4ce5e28ab",
   "execution_count": 99
  },
  {
   "cell_type": "code",
   "outputs": [
    {
     "ename": "NameError",
     "evalue": "name 'model' is not defined",
     "output_type": "error",
     "traceback": [
      "\u001B[1;31m---------------------------------------------------------------------------\u001B[0m",
      "\u001B[1;31mNameError\u001B[0m                                 Traceback (most recent call last)",
      "Cell \u001B[1;32mIn[7], line 5\u001B[0m\n\u001B[0;32m      1\u001B[0m \u001B[38;5;28;01mfrom\u001B[39;00m \u001B[38;5;21;01msklearn\u001B[39;00m \u001B[38;5;28;01mimport\u001B[39;00m metrics\n\u001B[0;32m      3\u001B[0m \u001B[38;5;66;03m# Generate classification report\u001B[39;00m\n\u001B[1;32m----> 5\u001B[0m y_pred \u001B[38;5;241m=\u001B[39m \u001B[43mmodel\u001B[49m\u001B[38;5;241m.\u001B[39mpredict(X_test)\n\u001B[0;32m      6\u001B[0m \u001B[38;5;28mprint\u001B[39m(metrics\u001B[38;5;241m.\u001B[39mclassification_report(y_test, y_pred))\n",
      "\u001B[1;31mNameError\u001B[0m: name 'model' is not defined"
     ]
    }
   ],
   "source": [
    "from sklearn import metrics\n",
    "\n",
    "# Generate classification report\n",
    "\n",
    "y_pred = model.predict(X_test)\n",
    "print(metrics.classification_report(y_test, y_pred))"
   ],
   "metadata": {
    "collapsed": false,
    "ExecuteTime": {
     "end_time": "2024-02-23T23:55:23.697915900Z",
     "start_time": "2024-02-23T23:55:22.781916Z"
    }
   },
   "id": "8caa5ddbc9c9df03",
   "execution_count": 7
  },
  {
   "cell_type": "markdown",
   "source": [
    "Having trained and evaluated the model, we can see that the model has an accuracy of 0.64, \n",
    "which is not bad considering the previous results we got from the clustering of the embeddings.\n",
    "\n",
    "However, let's use a hyperparameter tuning library such as `optuna` to find the best hyperparameters for the model.\n",
    "\n",
    "We will use the `cross_val_score` function from `sklearn` to evaluate the model using cross-validation and the `optuna` library to find the best hyperparameters for the model based on the maximization of the accuracy."
   ],
   "metadata": {
    "collapsed": false
   },
   "id": "f52da790af8442a3"
  },
  {
   "cell_type": "code",
   "outputs": [
    {
     "name": "stderr",
     "output_type": "stream",
     "text": [
      "[I 2024-02-23 12:26:45,484] A new study created in memory with name: no-name-305a575b-7f01-493b-a017-e69eaec63beb\n",
      "[I 2024-02-23 12:26:51,664] Trial 0 finished with value: 0.6023668639053255 and parameters: {'multi_class': 'ovr', 'C': 661.376255805555}. Best is trial 0 with value: 0.6023668639053255.\n",
      "[I 2024-02-23 12:26:57,083] Trial 1 finished with value: 0.6378698224852071 and parameters: {'multi_class': 'multinomial', 'C': 6.385372774006955}. Best is trial 1 with value: 0.6378698224852071.\n",
      "[I 2024-02-23 12:27:02,258] Trial 2 finished with value: 0.21183431952662723 and parameters: {'multi_class': 'multinomial', 'C': 0.0011120920175576884}. Best is trial 1 with value: 0.6378698224852071.\n",
      "[I 2024-02-23 12:27:07,827] Trial 3 finished with value: 0.6366863905325444 and parameters: {'multi_class': 'multinomial', 'C': 18.9677376569383}. Best is trial 1 with value: 0.6378698224852071.\n",
      "[I 2024-02-23 12:27:13,553] Trial 4 finished with value: 0.5917159763313611 and parameters: {'multi_class': 'multinomial', 'C': 770.3969372004187}. Best is trial 1 with value: 0.6378698224852071.\n",
      "[I 2024-02-23 12:27:18,846] Trial 5 finished with value: 0.6307692307692307 and parameters: {'multi_class': 'multinomial', 'C': 1.2739863944024226}. Best is trial 1 with value: 0.6378698224852071.\n",
      "[I 2024-02-23 12:27:24,045] Trial 6 finished with value: 0.21183431952662723 and parameters: {'multi_class': 'multinomial', 'C': 0.0003812640729113557}. Best is trial 1 with value: 0.6378698224852071.\n",
      "[I 2024-02-23 12:27:29,278] Trial 7 finished with value: 0.5952662721893491 and parameters: {'multi_class': 'multinomial', 'C': 0.43421583486972876}. Best is trial 1 with value: 0.6378698224852071.\n",
      "[I 2024-02-23 12:27:34,995] Trial 8 finished with value: 0.5905325443786982 and parameters: {'multi_class': 'multinomial', 'C': 845.63135619237}. Best is trial 1 with value: 0.6378698224852071.\n",
      "[I 2024-02-23 12:27:40,229] Trial 9 finished with value: 0.642603550295858 and parameters: {'multi_class': 'ovr', 'C': 5.2102742278469645}. Best is trial 9 with value: 0.642603550295858.\n",
      "[I 2024-02-23 12:27:45,437] Trial 10 finished with value: 0.21183431952662723 and parameters: {'multi_class': 'ovr', 'C': 0.017055805956169127}. Best is trial 9 with value: 0.642603550295858.\n",
      "[I 2024-02-23 12:27:50,663] Trial 11 finished with value: 0.6366863905325444 and parameters: {'multi_class': 'ovr', 'C': 10.059386790458108}. Best is trial 9 with value: 0.642603550295858.\n",
      "[I 2024-02-23 12:27:55,797] Trial 12 finished with value: 0.30532544378698223 and parameters: {'multi_class': 'ovr', 'C': 0.08425911639227203}. Best is trial 9 with value: 0.642603550295858.\n",
      "[I 2024-02-23 12:28:01,116] Trial 13 finished with value: 0.6414201183431953 and parameters: {'multi_class': 'ovr', 'C': 16.59365955781666}. Best is trial 9 with value: 0.642603550295858.\n",
      "[I 2024-02-23 12:28:06,346] Trial 14 finished with value: 0.6260355029585798 and parameters: {'multi_class': 'ovr', 'C': 59.50760529299438}. Best is trial 9 with value: 0.642603550295858.\n",
      "[I 2024-02-23 12:28:11,523] Trial 15 finished with value: 0.591715976331361 and parameters: {'multi_class': 'ovr', 'C': 7216.5593305356115}. Best is trial 9 with value: 0.642603550295858.\n",
      "[I 2024-02-23 12:28:16,703] Trial 16 finished with value: 0.6071005917159763 and parameters: {'multi_class': 'ovr', 'C': 0.7901032638322626}. Best is trial 9 with value: 0.642603550295858.\n",
      "[I 2024-02-23 12:28:21,994] Trial 17 finished with value: 0.6236686390532544 and parameters: {'multi_class': 'ovr', 'C': 96.87649470981486}. Best is trial 9 with value: 0.642603550295858.\n",
      "[I 2024-02-23 12:28:27,115] Trial 18 finished with value: 0.21183431952662723 and parameters: {'multi_class': 'ovr', 'C': 0.01473177987863997}. Best is trial 9 with value: 0.642603550295858.\n",
      "[I 2024-02-23 12:28:32,421] Trial 19 finished with value: 0.6366863905325443 and parameters: {'multi_class': 'ovr', 'C': 2.796732742045829}. Best is trial 9 with value: 0.642603550295858.\n",
      "[I 2024-02-23 12:28:37,619] Trial 20 finished with value: 0.3739644970414201 and parameters: {'multi_class': 'ovr', 'C': 0.1224591334896701}. Best is trial 9 with value: 0.642603550295858.\n",
      "[I 2024-02-23 12:28:43,325] Trial 21 finished with value: 0.6390532544378698 and parameters: {'multi_class': 'multinomial', 'C': 6.648596341660178}. Best is trial 9 with value: 0.642603550295858.\n",
      "[I 2024-02-23 12:28:48,505] Trial 22 finished with value: 0.6295857988165681 and parameters: {'multi_class': 'ovr', 'C': 50.68157333010183}. Best is trial 9 with value: 0.642603550295858.\n",
      "[I 2024-02-23 12:28:53,858] Trial 23 finished with value: 0.6366863905325444 and parameters: {'multi_class': 'multinomial', 'C': 4.0417741981614785}. Best is trial 9 with value: 0.642603550295858.\n",
      "[I 2024-02-23 12:28:59,052] Trial 24 finished with value: 0.6201183431952663 and parameters: {'multi_class': 'ovr', 'C': 112.3754937620061}. Best is trial 9 with value: 0.642603550295858.\n",
      "[I 2024-02-23 12:29:04,239] Trial 25 finished with value: 0.5230769230769231 and parameters: {'multi_class': 'ovr', 'C': 0.28707050854235727}. Best is trial 9 with value: 0.642603550295858.\n",
      "[I 2024-02-23 12:29:09,871] Trial 26 finished with value: 0.6355029585798817 and parameters: {'multi_class': 'multinomial', 'C': 16.639448040057466}. Best is trial 9 with value: 0.642603550295858.\n",
      "[I 2024-02-23 12:29:15,183] Trial 27 finished with value: 0.5928994082840238 and parameters: {'multi_class': 'ovr', 'C': 365.9690017954215}. Best is trial 9 with value: 0.642603550295858.\n",
      "[I 2024-02-23 12:29:20,468] Trial 28 finished with value: 0.6378698224852071 and parameters: {'multi_class': 'multinomial', 'C': 2.3071119730258167}. Best is trial 9 with value: 0.642603550295858.\n",
      "[I 2024-02-23 12:29:25,680] Trial 29 finished with value: 0.5940828402366864 and parameters: {'multi_class': 'ovr', 'C': 3630.6840145203096}. Best is trial 9 with value: 0.642603550295858.\n",
      "[I 2024-02-23 12:29:30,987] Trial 30 finished with value: 0.6071005917159764 and parameters: {'multi_class': 'ovr', 'C': 302.235452264418}. Best is trial 9 with value: 0.642603550295858.\n",
      "[I 2024-02-23 12:29:36,400] Trial 31 finished with value: 0.6355029585798817 and parameters: {'multi_class': 'multinomial', 'C': 3.945286668819994}. Best is trial 9 with value: 0.642603550295858.\n",
      "[I 2024-02-23 12:29:42,003] Trial 32 finished with value: 0.634319526627219 and parameters: {'multi_class': 'multinomial', 'C': 10.332592844614958}. Best is trial 9 with value: 0.642603550295858.\n",
      "[I 2024-02-23 12:29:47,546] Trial 33 finished with value: 0.6343195266272189 and parameters: {'multi_class': 'multinomial', 'C': 28.398455460462856}. Best is trial 9 with value: 0.642603550295858.\n",
      "[I 2024-02-23 12:29:53,035] Trial 34 finished with value: 0.6402366863905326 and parameters: {'multi_class': 'multinomial', 'C': 8.211781468875872}. Best is trial 9 with value: 0.642603550295858.\n",
      "[I 2024-02-23 12:29:58,351] Trial 35 finished with value: 0.6224852071005917 and parameters: {'multi_class': 'multinomial', 'C': 1.0357543481531144}. Best is trial 9 with value: 0.642603550295858.\n",
      "[I 2024-02-23 12:30:04,022] Trial 36 finished with value: 0.6071005917159764 and parameters: {'multi_class': 'multinomial', 'C': 160.01055238934677}. Best is trial 9 with value: 0.642603550295858.\n",
      "[I 2024-02-23 12:30:09,607] Trial 37 finished with value: 0.6343195266272189 and parameters: {'multi_class': 'multinomial', 'C': 24.208438251671875}. Best is trial 9 with value: 0.642603550295858.\n",
      "[I 2024-02-23 12:30:15,228] Trial 38 finished with value: 0.6390532544378698 and parameters: {'multi_class': 'multinomial', 'C': 6.885732966665508}. Best is trial 9 with value: 0.642603550295858.\n",
      "[I 2024-02-23 12:30:20,469] Trial 39 finished with value: 0.4650887573964497 and parameters: {'multi_class': 'multinomial', 'C': 0.16755469596442507}. Best is trial 9 with value: 0.642603550295858.\n",
      "[I 2024-02-23 12:30:25,641] Trial 40 finished with value: 0.21183431952662723 and parameters: {'multi_class': 'multinomial', 'C': 0.014295772856372542}. Best is trial 9 with value: 0.642603550295858.\n",
      "[I 2024-02-23 12:30:31,139] Trial 41 finished with value: 0.6366863905325444 and parameters: {'multi_class': 'multinomial', 'C': 9.60642215484635}. Best is trial 9 with value: 0.642603550295858.\n",
      "[I 2024-02-23 12:30:36,600] Trial 42 finished with value: 0.6390532544378698 and parameters: {'multi_class': 'multinomial', 'C': 6.217965034063374}. Best is trial 9 with value: 0.642603550295858.\n",
      "[I 2024-02-23 12:30:41,931] Trial 43 finished with value: 0.6355029585798817 and parameters: {'multi_class': 'multinomial', 'C': 1.8226486222643368}. Best is trial 9 with value: 0.642603550295858.\n",
      "[I 2024-02-23 12:30:47,172] Trial 44 finished with value: 0.6023668639053255 and parameters: {'multi_class': 'multinomial', 'C': 0.4970341888476986}. Best is trial 9 with value: 0.642603550295858.\n",
      "[I 2024-02-23 12:30:52,864] Trial 45 finished with value: 0.634319526627219 and parameters: {'multi_class': 'multinomial', 'C': 35.62201117319802}. Best is trial 9 with value: 0.642603550295858.\n",
      "[I 2024-02-23 12:30:58,412] Trial 46 finished with value: 0.6366863905325444 and parameters: {'multi_class': 'multinomial', 'C': 16.465104804530142}. Best is trial 9 with value: 0.642603550295858.\n",
      "[I 2024-02-23 12:31:03,612] Trial 47 finished with value: 0.6390532544378698 and parameters: {'multi_class': 'ovr', 'C': 4.7949183968320535}. Best is trial 9 with value: 0.642603550295858.\n",
      "[I 2024-02-23 12:31:08,913] Trial 48 finished with value: 0.6307692307692307 and parameters: {'multi_class': 'multinomial', 'C': 1.1726580601816083}. Best is trial 9 with value: 0.642603550295858.\n",
      "[I 2024-02-23 12:31:14,081] Trial 49 finished with value: 0.22485207100591714 and parameters: {'multi_class': 'ovr', 'C': 0.0478587296704084}. Best is trial 9 with value: 0.642603550295858.\n",
      "[I 2024-02-23 12:31:19,373] Trial 50 finished with value: 0.21183431952662723 and parameters: {'multi_class': 'ovr', 'C': 0.0035093330905880712}. Best is trial 9 with value: 0.642603550295858.\n",
      "[I 2024-02-23 12:31:24,775] Trial 51 finished with value: 0.6378698224852071 and parameters: {'multi_class': 'multinomial', 'C': 6.3297806322736605}. Best is trial 9 with value: 0.642603550295858.\n",
      "[I 2024-02-23 12:31:30,276] Trial 52 finished with value: 0.6378698224852071 and parameters: {'multi_class': 'multinomial', 'C': 7.688967878037122}. Best is trial 9 with value: 0.642603550295858.\n",
      "[I 2024-02-23 12:31:35,535] Trial 53 finished with value: 0.6047337278106509 and parameters: {'multi_class': 'multinomial', 'C': 0.6244994307197752}. Best is trial 9 with value: 0.642603550295858.\n",
      "[I 2024-02-23 12:31:41,251] Trial 54 finished with value: 0.6213017751479291 and parameters: {'multi_class': 'multinomial', 'C': 62.996774096346016}. Best is trial 9 with value: 0.642603550295858.\n",
      "[I 2024-02-23 12:31:46,633] Trial 55 finished with value: 0.6355029585798817 and parameters: {'multi_class': 'multinomial', 'C': 2.078839473459044}. Best is trial 9 with value: 0.642603550295858.\n",
      "[I 2024-02-23 12:31:51,868] Trial 56 finished with value: 0.6390532544378699 and parameters: {'multi_class': 'ovr', 'C': 26.2547003123418}. Best is trial 9 with value: 0.642603550295858.\n",
      "[I 2024-02-23 12:31:57,135] Trial 57 finished with value: 0.591715976331361 and parameters: {'multi_class': 'ovr', 'C': 1220.6023861193805}. Best is trial 9 with value: 0.642603550295858.\n",
      "[I 2024-02-23 12:32:02,387] Trial 58 finished with value: 0.642603550295858 and parameters: {'multi_class': 'ovr', 'C': 15.792046645759205}. Best is trial 9 with value: 0.642603550295858.\n",
      "[I 2024-02-23 12:32:07,570] Trial 59 finished with value: 0.21183431952662723 and parameters: {'multi_class': 'ovr', 'C': 0.00015352858302659125}. Best is trial 9 with value: 0.642603550295858.\n",
      "[I 2024-02-23 12:32:12,835] Trial 60 finished with value: 0.6142011834319527 and parameters: {'multi_class': 'ovr', 'C': 165.47585425202297}. Best is trial 9 with value: 0.642603550295858.\n",
      "[I 2024-02-23 12:32:18,083] Trial 61 finished with value: 0.642603550295858 and parameters: {'multi_class': 'ovr', 'C': 14.648631693359567}. Best is trial 9 with value: 0.642603550295858.\n",
      "[I 2024-02-23 12:32:23,404] Trial 62 finished with value: 0.642603550295858 and parameters: {'multi_class': 'ovr', 'C': 17.50253244549469}. Best is trial 9 with value: 0.642603550295858.\n",
      "[I 2024-02-23 12:32:28,620] Trial 63 finished with value: 0.621301775147929 and parameters: {'multi_class': 'ovr', 'C': 66.04473729032397}. Best is trial 9 with value: 0.642603550295858.\n",
      "[I 2024-02-23 12:32:33,795] Trial 64 finished with value: 0.6426035502958579 and parameters: {'multi_class': 'ovr', 'C': 17.88270057993157}. Best is trial 9 with value: 0.642603550295858.\n",
      "[I 2024-02-23 12:32:38,969] Trial 65 finished with value: 0.6402366863905326 and parameters: {'multi_class': 'ovr', 'C': 17.667140072483264}. Best is trial 9 with value: 0.642603550295858.\n",
      "[I 2024-02-23 12:32:44,148] Trial 66 finished with value: 0.634319526627219 and parameters: {'multi_class': 'ovr', 'C': 41.99389949594814}. Best is trial 9 with value: 0.642603550295858.\n",
      "[I 2024-02-23 12:32:49,325] Trial 67 finished with value: 0.642603550295858 and parameters: {'multi_class': 'ovr', 'C': 16.891057826172432}. Best is trial 9 with value: 0.642603550295858.\n",
      "[I 2024-02-23 12:32:54,512] Trial 68 finished with value: 0.6106508875739645 and parameters: {'multi_class': 'ovr', 'C': 234.80038306804983}. Best is trial 9 with value: 0.642603550295858.\n",
      "[I 2024-02-23 12:32:59,689] Trial 69 finished with value: 0.5905325443786983 and parameters: {'multi_class': 'ovr', 'C': 640.0606412891965}. Best is trial 9 with value: 0.642603550295858.\n",
      "[I 2024-02-23 12:33:04,866] Trial 70 finished with value: 0.6248520710059171 and parameters: {'multi_class': 'ovr', 'C': 96.77608961581541}. Best is trial 9 with value: 0.642603550295858.\n",
      "[I 2024-02-23 12:33:10,041] Trial 71 finished with value: 0.6402366863905326 and parameters: {'multi_class': 'ovr', 'C': 14.076753577795639}. Best is trial 9 with value: 0.642603550295858.\n",
      "[I 2024-02-23 12:33:15,217] Trial 72 finished with value: 0.6331360946745562 and parameters: {'multi_class': 'ovr', 'C': 3.3326868233309828}. Best is trial 9 with value: 0.642603550295858.\n",
      "[I 2024-02-23 12:33:20,403] Trial 73 finished with value: 0.6390532544378699 and parameters: {'multi_class': 'ovr', 'C': 10.64315933366284}. Best is trial 9 with value: 0.642603550295858.\n",
      "[I 2024-02-23 12:33:25,578] Trial 74 finished with value: 0.6378698224852071 and parameters: {'multi_class': 'ovr', 'C': 35.85815491493345}. Best is trial 9 with value: 0.642603550295858.\n",
      "[I 2024-02-23 12:33:30,743] Trial 75 finished with value: 0.6343195266272189 and parameters: {'multi_class': 'ovr', 'C': 1.6291475015023487}. Best is trial 9 with value: 0.642603550295858.\n",
      "[I 2024-02-23 12:33:35,919] Trial 76 finished with value: 0.6426035502958579 and parameters: {'multi_class': 'ovr', 'C': 17.09475533954898}. Best is trial 9 with value: 0.642603550295858.\n",
      "[I 2024-02-23 12:33:41,106] Trial 77 finished with value: 0.6177514792899408 and parameters: {'multi_class': 'ovr', 'C': 92.3346445053013}. Best is trial 9 with value: 0.642603550295858.\n",
      "[I 2024-02-23 12:33:46,649] Trial 78 finished with value: 0.642603550295858 and parameters: {'multi_class': 'ovr', 'C': 16.434419047914194}. Best is trial 9 with value: 0.642603550295858.\n",
      "[I 2024-02-23 12:33:51,825] Trial 79 finished with value: 0.6331360946745562 and parameters: {'multi_class': 'ovr', 'C': 3.3671202273770136}. Best is trial 9 with value: 0.642603550295858.\n",
      "[I 2024-02-23 12:33:56,999] Trial 80 finished with value: 0.6378698224852071 and parameters: {'multi_class': 'ovr', 'C': 19.713894728713353}. Best is trial 9 with value: 0.642603550295858.\n",
      "[I 2024-02-23 12:34:02,176] Trial 81 finished with value: 0.6390532544378698 and parameters: {'multi_class': 'ovr', 'C': 13.639402766158021}. Best is trial 9 with value: 0.642603550295858.\n",
      "[I 2024-02-23 12:34:07,364] Trial 82 finished with value: 0.6260355029585799 and parameters: {'multi_class': 'ovr', 'C': 51.767958696541534}. Best is trial 9 with value: 0.642603550295858.\n",
      "[I 2024-02-23 12:34:12,542] Trial 83 finished with value: 0.6414201183431952 and parameters: {'multi_class': 'ovr', 'C': 27.085673128730605}. Best is trial 9 with value: 0.642603550295858.\n",
      "[I 2024-02-23 12:34:17,720] Trial 84 finished with value: 0.6366863905325444 and parameters: {'multi_class': 'ovr', 'C': 5.566740318860573}. Best is trial 9 with value: 0.642603550295858.\n",
      "[I 2024-02-23 12:34:22,897] Trial 85 finished with value: 0.6378698224852071 and parameters: {'multi_class': 'ovr', 'C': 11.663986934718494}. Best is trial 9 with value: 0.642603550295858.\n",
      "[I 2024-02-23 12:34:28,072] Trial 86 finished with value: 0.6355029585798817 and parameters: {'multi_class': 'ovr', 'C': 2.9361826385008905}. Best is trial 9 with value: 0.642603550295858.\n",
      "[I 2024-02-23 12:34:33,248] Trial 87 finished with value: 0.6402366863905324 and parameters: {'multi_class': 'ovr', 'C': 19.16753329768419}. Best is trial 9 with value: 0.642603550295858.\n",
      "[I 2024-02-23 12:34:38,434] Trial 88 finished with value: 0.6343195266272189 and parameters: {'multi_class': 'ovr', 'C': 41.49601158098556}. Best is trial 9 with value: 0.642603550295858.\n",
      "[I 2024-02-23 12:34:43,610] Trial 89 finished with value: 0.6260355029585799 and parameters: {'multi_class': 'ovr', 'C': 73.16040581483503}. Best is trial 9 with value: 0.642603550295858.\n",
      "[I 2024-02-23 12:34:48,784] Trial 90 finished with value: 0.6402366863905324 and parameters: {'multi_class': 'ovr', 'C': 4.561689325633564}. Best is trial 9 with value: 0.642603550295858.\n",
      "[I 2024-02-23 12:34:53,958] Trial 91 finished with value: 0.6366863905325444 and parameters: {'multi_class': 'ovr', 'C': 28.81946050144084}. Best is trial 9 with value: 0.642603550295858.\n",
      "[I 2024-02-23 12:34:59,144] Trial 92 finished with value: 0.6165680473372781 and parameters: {'multi_class': 'ovr', 'C': 149.0801805434398}. Best is trial 9 with value: 0.642603550295858.\n",
      "[I 2024-02-23 12:35:04,319] Trial 93 finished with value: 0.6390532544378698 and parameters: {'multi_class': 'ovr', 'C': 25.62085438236995}. Best is trial 9 with value: 0.642603550295858.\n",
      "[I 2024-02-23 12:35:09,494] Trial 94 finished with value: 0.6402366863905324 and parameters: {'multi_class': 'ovr', 'C': 12.516103841010564}. Best is trial 9 with value: 0.642603550295858.\n",
      "[I 2024-02-23 12:35:14,669] Trial 95 finished with value: 0.6437869822485206 and parameters: {'multi_class': 'ovr', 'C': 8.038461586013085}. Best is trial 95 with value: 0.6437869822485206.\n",
      "[I 2024-02-23 12:35:19,845] Trial 96 finished with value: 0.6414201183431952 and parameters: {'multi_class': 'ovr', 'C': 8.971620727605226}. Best is trial 95 with value: 0.6437869822485206.\n",
      "[I 2024-02-23 12:35:25,021] Trial 97 finished with value: 0.642603550295858 and parameters: {'multi_class': 'ovr', 'C': 4.627839059606699}. Best is trial 95 with value: 0.6437869822485206.\n",
      "[I 2024-02-23 12:35:30,195] Trial 98 finished with value: 0.6343195266272189 and parameters: {'multi_class': 'ovr', 'C': 2.0813198836245714}. Best is trial 95 with value: 0.6437869822485206.\n",
      "[I 2024-02-23 12:35:35,372] Trial 99 finished with value: 0.6260355029585799 and parameters: {'multi_class': 'ovr', 'C': 1.3974374559335296}. Best is trial 95 with value: 0.6437869822485206.\n"
     ]
    },
    {
     "name": "stdout",
     "output_type": "stream",
     "text": [
      "Best trial: {'multi_class': 'ovr', 'C': 8.038461586013085}\n"
     ]
    }
   ],
   "source": [
    "from sklearn.model_selection import cross_val_score\n",
    "import optuna\n",
    "\n",
    "\n",
    "def objective(trial):\n",
    "    # Define the hyperparameters to tune\n",
    "    multi_class = trial.suggest_categorical('multi_class', ['ovr', 'multinomial'])\n",
    "    C = trial.suggest_float('C', 1e-4, 1e4, log=True)\n",
    "\n",
    "    # Create logistic regression model with suggested hyperparameters\n",
    "    model = LogisticRegression(C=C, random_state=42, max_iter=1000, multi_class=multi_class, n_jobs=-1)\n",
    "    # Perform cross-validation and return the mean score\n",
    "    score = cross_val_score(model, X, y, scoring='accuracy')\n",
    "    return score.mean()\n",
    "\n",
    "\n",
    "# Create a study object and specify the optimization direction\n",
    "study = optuna.create_study(direction='maximize')\n",
    "study.optimize(objective, n_trials=100)  # You can adjust the number of trials\n",
    "\n",
    "# Output the best hyperparameters\n",
    "print('Best trial:', study.best_trial.params)"
   ],
   "metadata": {
    "collapsed": false,
    "ExecuteTime": {
     "end_time": "2024-02-23T10:35:35.377104500Z",
     "start_time": "2024-02-23T10:26:45.022047500Z"
    }
   },
   "id": "9e76682b23c63239",
   "execution_count": 11
  },
  {
   "cell_type": "markdown",
   "source": [
    "### Multi-class SVM\n",
    "\n",
    "Let's now train a multi-class SVM model on the embeddings and the class."
   ],
   "metadata": {
    "collapsed": false
   },
   "id": "e86e3dc9de132389"
  },
  {
   "cell_type": "code",
   "outputs": [
    {
     "data": {
      "text/plain": "SVC(random_state=22)",
      "text/html": "<style>#sk-container-id-16 {\n  /* Definition of color scheme common for light and dark mode */\n  --sklearn-color-text: black;\n  --sklearn-color-line: gray;\n  /* Definition of color scheme for unfitted estimators */\n  --sklearn-color-unfitted-level-0: #fff5e6;\n  --sklearn-color-unfitted-level-1: #f6e4d2;\n  --sklearn-color-unfitted-level-2: #ffe0b3;\n  --sklearn-color-unfitted-level-3: chocolate;\n  /* Definition of color scheme for fitted estimators */\n  --sklearn-color-fitted-level-0: #f0f8ff;\n  --sklearn-color-fitted-level-1: #d4ebff;\n  --sklearn-color-fitted-level-2: #b3dbfd;\n  --sklearn-color-fitted-level-3: cornflowerblue;\n\n  /* Specific color for light theme */\n  --sklearn-color-text-on-default-background: var(--sg-text-color, var(--theme-code-foreground, var(--jp-content-font-color1, black)));\n  --sklearn-color-background: var(--sg-background-color, var(--theme-background, var(--jp-layout-color0, white)));\n  --sklearn-color-border-box: var(--sg-text-color, var(--theme-code-foreground, var(--jp-content-font-color1, black)));\n  --sklearn-color-icon: #696969;\n\n  @media (prefers-color-scheme: dark) {\n    /* Redefinition of color scheme for dark theme */\n    --sklearn-color-text-on-default-background: var(--sg-text-color, var(--theme-code-foreground, var(--jp-content-font-color1, white)));\n    --sklearn-color-background: var(--sg-background-color, var(--theme-background, var(--jp-layout-color0, #111)));\n    --sklearn-color-border-box: var(--sg-text-color, var(--theme-code-foreground, var(--jp-content-font-color1, white)));\n    --sklearn-color-icon: #878787;\n  }\n}\n\n#sk-container-id-16 {\n  color: var(--sklearn-color-text);\n}\n\n#sk-container-id-16 pre {\n  padding: 0;\n}\n\n#sk-container-id-16 input.sk-hidden--visually {\n  border: 0;\n  clip: rect(1px 1px 1px 1px);\n  clip: rect(1px, 1px, 1px, 1px);\n  height: 1px;\n  margin: -1px;\n  overflow: hidden;\n  padding: 0;\n  position: absolute;\n  width: 1px;\n}\n\n#sk-container-id-16 div.sk-dashed-wrapped {\n  border: 1px dashed var(--sklearn-color-line);\n  margin: 0 0.4em 0.5em 0.4em;\n  box-sizing: border-box;\n  padding-bottom: 0.4em;\n  background-color: var(--sklearn-color-background);\n}\n\n#sk-container-id-16 div.sk-container {\n  /* jupyter's `normalize.less` sets `[hidden] { display: none; }`\n     but bootstrap.min.css set `[hidden] { display: none !important; }`\n     so we also need the `!important` here to be able to override the\n     default hidden behavior on the sphinx rendered scikit-learn.org.\n     See: https://github.com/scikit-learn/scikit-learn/issues/21755 */\n  display: inline-block !important;\n  position: relative;\n}\n\n#sk-container-id-16 div.sk-text-repr-fallback {\n  display: none;\n}\n\ndiv.sk-parallel-item,\ndiv.sk-serial,\ndiv.sk-item {\n  /* draw centered vertical line to link estimators */\n  background-image: linear-gradient(var(--sklearn-color-text-on-default-background), var(--sklearn-color-text-on-default-background));\n  background-size: 2px 100%;\n  background-repeat: no-repeat;\n  background-position: center center;\n}\n\n/* Parallel-specific style estimator block */\n\n#sk-container-id-16 div.sk-parallel-item::after {\n  content: \"\";\n  width: 100%;\n  border-bottom: 2px solid var(--sklearn-color-text-on-default-background);\n  flex-grow: 1;\n}\n\n#sk-container-id-16 div.sk-parallel {\n  display: flex;\n  align-items: stretch;\n  justify-content: center;\n  background-color: var(--sklearn-color-background);\n  position: relative;\n}\n\n#sk-container-id-16 div.sk-parallel-item {\n  display: flex;\n  flex-direction: column;\n}\n\n#sk-container-id-16 div.sk-parallel-item:first-child::after {\n  align-self: flex-end;\n  width: 50%;\n}\n\n#sk-container-id-16 div.sk-parallel-item:last-child::after {\n  align-self: flex-start;\n  width: 50%;\n}\n\n#sk-container-id-16 div.sk-parallel-item:only-child::after {\n  width: 0;\n}\n\n/* Serial-specific style estimator block */\n\n#sk-container-id-16 div.sk-serial {\n  display: flex;\n  flex-direction: column;\n  align-items: center;\n  background-color: var(--sklearn-color-background);\n  padding-right: 1em;\n  padding-left: 1em;\n}\n\n\n/* Toggleable style: style used for estimator/Pipeline/ColumnTransformer box that is\nclickable and can be expanded/collapsed.\n- Pipeline and ColumnTransformer use this feature and define the default style\n- Estimators will overwrite some part of the style using the `sk-estimator` class\n*/\n\n/* Pipeline and ColumnTransformer style (default) */\n\n#sk-container-id-16 div.sk-toggleable {\n  /* Default theme specific background. It is overwritten whether we have a\n  specific estimator or a Pipeline/ColumnTransformer */\n  background-color: var(--sklearn-color-background);\n}\n\n/* Toggleable label */\n#sk-container-id-16 label.sk-toggleable__label {\n  cursor: pointer;\n  display: block;\n  width: 100%;\n  margin-bottom: 0;\n  padding: 0.5em;\n  box-sizing: border-box;\n  text-align: center;\n}\n\n#sk-container-id-16 label.sk-toggleable__label-arrow:before {\n  /* Arrow on the left of the label */\n  content: \"▸\";\n  float: left;\n  margin-right: 0.25em;\n  color: var(--sklearn-color-icon);\n}\n\n#sk-container-id-16 label.sk-toggleable__label-arrow:hover:before {\n  color: var(--sklearn-color-text);\n}\n\n/* Toggleable content - dropdown */\n\n#sk-container-id-16 div.sk-toggleable__content {\n  max-height: 0;\n  max-width: 0;\n  overflow: hidden;\n  text-align: left;\n  /* unfitted */\n  background-color: var(--sklearn-color-unfitted-level-0);\n}\n\n#sk-container-id-16 div.sk-toggleable__content.fitted {\n  /* fitted */\n  background-color: var(--sklearn-color-fitted-level-0);\n}\n\n#sk-container-id-16 div.sk-toggleable__content pre {\n  margin: 0.2em;\n  border-radius: 0.25em;\n  color: var(--sklearn-color-text);\n  /* unfitted */\n  background-color: var(--sklearn-color-unfitted-level-0);\n}\n\n#sk-container-id-16 div.sk-toggleable__content.fitted pre {\n  /* unfitted */\n  background-color: var(--sklearn-color-fitted-level-0);\n}\n\n#sk-container-id-16 input.sk-toggleable__control:checked~div.sk-toggleable__content {\n  /* Expand drop-down */\n  max-height: 200px;\n  max-width: 100%;\n  overflow: auto;\n}\n\n#sk-container-id-16 input.sk-toggleable__control:checked~label.sk-toggleable__label-arrow:before {\n  content: \"▾\";\n}\n\n/* Pipeline/ColumnTransformer-specific style */\n\n#sk-container-id-16 div.sk-label input.sk-toggleable__control:checked~label.sk-toggleable__label {\n  color: var(--sklearn-color-text);\n  background-color: var(--sklearn-color-unfitted-level-2);\n}\n\n#sk-container-id-16 div.sk-label.fitted input.sk-toggleable__control:checked~label.sk-toggleable__label {\n  background-color: var(--sklearn-color-fitted-level-2);\n}\n\n/* Estimator-specific style */\n\n/* Colorize estimator box */\n#sk-container-id-16 div.sk-estimator input.sk-toggleable__control:checked~label.sk-toggleable__label {\n  /* unfitted */\n  background-color: var(--sklearn-color-unfitted-level-2);\n}\n\n#sk-container-id-16 div.sk-estimator.fitted input.sk-toggleable__control:checked~label.sk-toggleable__label {\n  /* fitted */\n  background-color: var(--sklearn-color-fitted-level-2);\n}\n\n#sk-container-id-16 div.sk-label label.sk-toggleable__label,\n#sk-container-id-16 div.sk-label label {\n  /* The background is the default theme color */\n  color: var(--sklearn-color-text-on-default-background);\n}\n\n/* On hover, darken the color of the background */\n#sk-container-id-16 div.sk-label:hover label.sk-toggleable__label {\n  color: var(--sklearn-color-text);\n  background-color: var(--sklearn-color-unfitted-level-2);\n}\n\n/* Label box, darken color on hover, fitted */\n#sk-container-id-16 div.sk-label.fitted:hover label.sk-toggleable__label.fitted {\n  color: var(--sklearn-color-text);\n  background-color: var(--sklearn-color-fitted-level-2);\n}\n\n/* Estimator label */\n\n#sk-container-id-16 div.sk-label label {\n  font-family: monospace;\n  font-weight: bold;\n  display: inline-block;\n  line-height: 1.2em;\n}\n\n#sk-container-id-16 div.sk-label-container {\n  text-align: center;\n}\n\n/* Estimator-specific */\n#sk-container-id-16 div.sk-estimator {\n  font-family: monospace;\n  border: 1px dotted var(--sklearn-color-border-box);\n  border-radius: 0.25em;\n  box-sizing: border-box;\n  margin-bottom: 0.5em;\n  /* unfitted */\n  background-color: var(--sklearn-color-unfitted-level-0);\n}\n\n#sk-container-id-16 div.sk-estimator.fitted {\n  /* fitted */\n  background-color: var(--sklearn-color-fitted-level-0);\n}\n\n/* on hover */\n#sk-container-id-16 div.sk-estimator:hover {\n  /* unfitted */\n  background-color: var(--sklearn-color-unfitted-level-2);\n}\n\n#sk-container-id-16 div.sk-estimator.fitted:hover {\n  /* fitted */\n  background-color: var(--sklearn-color-fitted-level-2);\n}\n\n/* Specification for estimator info (e.g. \"i\" and \"?\") */\n\n/* Common style for \"i\" and \"?\" */\n\n.sk-estimator-doc-link,\na:link.sk-estimator-doc-link,\na:visited.sk-estimator-doc-link {\n  float: right;\n  font-size: smaller;\n  line-height: 1em;\n  font-family: monospace;\n  background-color: var(--sklearn-color-background);\n  border-radius: 1em;\n  height: 1em;\n  width: 1em;\n  text-decoration: none !important;\n  margin-left: 1ex;\n  /* unfitted */\n  border: var(--sklearn-color-unfitted-level-1) 1pt solid;\n  color: var(--sklearn-color-unfitted-level-1);\n}\n\n.sk-estimator-doc-link.fitted,\na:link.sk-estimator-doc-link.fitted,\na:visited.sk-estimator-doc-link.fitted {\n  /* fitted */\n  border: var(--sklearn-color-fitted-level-1) 1pt solid;\n  color: var(--sklearn-color-fitted-level-1);\n}\n\n/* On hover */\ndiv.sk-estimator:hover .sk-estimator-doc-link:hover,\n.sk-estimator-doc-link:hover,\ndiv.sk-label-container:hover .sk-estimator-doc-link:hover,\n.sk-estimator-doc-link:hover {\n  /* unfitted */\n  background-color: var(--sklearn-color-unfitted-level-3);\n  color: var(--sklearn-color-background);\n  text-decoration: none;\n}\n\ndiv.sk-estimator.fitted:hover .sk-estimator-doc-link.fitted:hover,\n.sk-estimator-doc-link.fitted:hover,\ndiv.sk-label-container:hover .sk-estimator-doc-link.fitted:hover,\n.sk-estimator-doc-link.fitted:hover {\n  /* fitted */\n  background-color: var(--sklearn-color-fitted-level-3);\n  color: var(--sklearn-color-background);\n  text-decoration: none;\n}\n\n/* Span, style for the box shown on hovering the info icon */\n.sk-estimator-doc-link span {\n  display: none;\n  z-index: 9999;\n  position: relative;\n  font-weight: normal;\n  right: .2ex;\n  padding: .5ex;\n  margin: .5ex;\n  width: min-content;\n  min-width: 20ex;\n  max-width: 50ex;\n  color: var(--sklearn-color-text);\n  box-shadow: 2pt 2pt 4pt #999;\n  /* unfitted */\n  background: var(--sklearn-color-unfitted-level-0);\n  border: .5pt solid var(--sklearn-color-unfitted-level-3);\n}\n\n.sk-estimator-doc-link.fitted span {\n  /* fitted */\n  background: var(--sklearn-color-fitted-level-0);\n  border: var(--sklearn-color-fitted-level-3);\n}\n\n.sk-estimator-doc-link:hover span {\n  display: block;\n}\n\n/* \"?\"-specific style due to the `<a>` HTML tag */\n\n#sk-container-id-16 a.estimator_doc_link {\n  float: right;\n  font-size: 1rem;\n  line-height: 1em;\n  font-family: monospace;\n  background-color: var(--sklearn-color-background);\n  border-radius: 1rem;\n  height: 1rem;\n  width: 1rem;\n  text-decoration: none;\n  /* unfitted */\n  color: var(--sklearn-color-unfitted-level-1);\n  border: var(--sklearn-color-unfitted-level-1) 1pt solid;\n}\n\n#sk-container-id-16 a.estimator_doc_link.fitted {\n  /* fitted */\n  border: var(--sklearn-color-fitted-level-1) 1pt solid;\n  color: var(--sklearn-color-fitted-level-1);\n}\n\n/* On hover */\n#sk-container-id-16 a.estimator_doc_link:hover {\n  /* unfitted */\n  background-color: var(--sklearn-color-unfitted-level-3);\n  color: var(--sklearn-color-background);\n  text-decoration: none;\n}\n\n#sk-container-id-16 a.estimator_doc_link.fitted:hover {\n  /* fitted */\n  background-color: var(--sklearn-color-fitted-level-3);\n}\n</style><div id=\"sk-container-id-16\" class=\"sk-top-container\"><div class=\"sk-text-repr-fallback\"><pre>SVC(random_state=22)</pre><b>In a Jupyter environment, please rerun this cell to show the HTML representation or trust the notebook. <br />On GitHub, the HTML representation is unable to render, please try loading this page with nbviewer.org.</b></div><div class=\"sk-container\" hidden><div class=\"sk-item\"><div class=\"sk-estimator fitted sk-toggleable\"><input class=\"sk-toggleable__control sk-hidden--visually\" id=\"sk-estimator-id-16\" type=\"checkbox\" checked><label for=\"sk-estimator-id-16\" class=\"sk-toggleable__label fitted sk-toggleable__label-arrow fitted\">&nbsp;&nbsp;SVC<a class=\"sk-estimator-doc-link fitted\" rel=\"noreferrer\" target=\"_blank\" href=\"https://scikit-learn.org/1.4/modules/generated/sklearn.svm.SVC.html\">?<span>Documentation for SVC</span></a><span class=\"sk-estimator-doc-link fitted\">i<span>Fitted</span></span></label><div class=\"sk-toggleable__content fitted\"><pre>SVC(random_state=22)</pre></div> </div></div></div></div>"
     },
     "execution_count": 75,
     "metadata": {},
     "output_type": "execute_result"
    }
   ],
   "source": [
    "from sklearn.svm import SVC\n",
    "\n",
    "svm_model = SVC(kernel='rbf', random_state=22)\n",
    "svm_model.fit(X_train, y_train)"
   ],
   "metadata": {
    "collapsed": false,
    "ExecuteTime": {
     "end_time": "2024-02-23T13:02:39.162338200Z",
     "start_time": "2024-02-23T13:02:39.075291700Z"
    }
   },
   "id": "2c66c7edab0d64",
   "execution_count": 75
  },
  {
   "cell_type": "code",
   "outputs": [
    {
     "name": "stdout",
     "output_type": "stream",
     "text": [
      "              precision    recall  f1-score   support\n",
      "\n",
      "           0       0.68      0.73      0.70        44\n",
      "           1       0.62      0.53      0.57        30\n",
      "           2       0.71      0.48      0.58        31\n",
      "           3       0.73      0.81      0.77        27\n",
      "           4       0.62      0.77      0.69        31\n",
      "           5       0.63      0.63      0.63        49\n",
      "\n",
      "    accuracy                           0.66       212\n",
      "   macro avg       0.67      0.66      0.66       212\n",
      "weighted avg       0.66      0.66      0.66       212\n"
     ]
    }
   ],
   "source": [
    "from sklearn import metrics\n",
    "\n",
    "# Generate classification report\n",
    "y_pred = svm_model.predict(X_test)\n",
    "print(metrics.classification_report(y_test, y_pred))"
   ],
   "metadata": {
    "collapsed": false,
    "ExecuteTime": {
     "end_time": "2024-02-23T13:02:39.325760700Z",
     "start_time": "2024-02-23T13:02:39.280369500Z"
    }
   },
   "id": "62835de5722c9451",
   "execution_count": 76
  },
  {
   "cell_type": "markdown",
   "source": [
    "Let's use the `optuna` library to find the best hyperparameters for the model based on the maximization of the accuracy.\n"
   ],
   "metadata": {
    "collapsed": false
   },
   "id": "a87564b264fa6a83"
  },
  {
   "cell_type": "code",
   "outputs": [
    {
     "name": "stderr",
     "output_type": "stream",
     "text": [
      "[I 2024-02-23 15:00:44,770] A new study created in memory with name: no-name-e83effc6-f9ff-42c6-819a-7d7b2e053cbe\n",
      "[I 2024-02-23 15:00:45,653] Trial 0 finished with value: 0.21570240543682373 and parameters: {'C': 0.6858905527983484, 'kernel': 'poly', 'gamma': 'auto', 'degree': 5}. Best is trial 0 with value: 0.21570240543682373.\n",
      "[I 2024-02-23 15:00:46,416] Trial 1 finished with value: 0.21570240543682373 and parameters: {'C': 0.00029909714045756334, 'kernel': 'rbf', 'gamma': 'auto'}. Best is trial 0 with value: 0.21570240543682373.\n",
      "[I 2024-02-23 15:00:46,847] Trial 2 finished with value: 0.4219708486094966 and parameters: {'C': 401.6327806521961, 'kernel': 'sigmoid', 'gamma': 'scale'}. Best is trial 2 with value: 0.4219708486094966.\n",
      "[I 2024-02-23 15:00:47,779] Trial 3 finished with value: 0.21570240543682373 and parameters: {'C': 0.05489127315400744, 'kernel': 'rbf', 'gamma': 'scale'}. Best is trial 2 with value: 0.4219708486094966.\n",
      "[I 2024-02-23 15:00:48,560] Trial 4 finished with value: 0.21570240543682373 and parameters: {'C': 2.853036044275423, 'kernel': 'rbf', 'gamma': 'auto'}. Best is trial 2 with value: 0.4219708486094966.\n",
      "[I 2024-02-23 15:00:49,004] Trial 5 finished with value: 0.5336314048108737 and parameters: {'C': 0.9367968795384186, 'kernel': 'poly', 'gamma': 'scale', 'degree': 3}. Best is trial 5 with value: 0.5336314048108737.\n",
      "[I 2024-02-23 15:00:49,910] Trial 6 finished with value: 0.21570240543682373 and parameters: {'C': 0.0030401619329988093, 'kernel': 'sigmoid', 'gamma': 'auto'}. Best is trial 5 with value: 0.5336314048108737.\n",
      "[I 2024-02-23 15:00:50,487] Trial 7 finished with value: 0.21570240543682373 and parameters: {'C': 28.873617996146482, 'kernel': 'sigmoid', 'gamma': 'auto'}. Best is trial 5 with value: 0.5336314048108737.\n",
      "[I 2024-02-23 15:00:51,298] Trial 8 finished with value: 0.21570240543682373 and parameters: {'C': 0.0007490059321435479, 'kernel': 'rbf', 'gamma': 'auto'}. Best is trial 5 with value: 0.5336314048108737.\n",
      "[I 2024-02-23 15:00:52,029] Trial 9 finished with value: 0.21570240543682373 and parameters: {'C': 0.00020321716745001284, 'kernel': 'rbf', 'gamma': 'auto'}. Best is trial 5 with value: 0.5336314048108737.\n",
      "[I 2024-02-23 15:00:52,665] Trial 10 finished with value: 0.21570240543682373 and parameters: {'C': 0.038371129551696734, 'kernel': 'poly', 'gamma': 'scale', 'degree': 2}. Best is trial 5 with value: 0.5336314048108737.\n",
      "[I 2024-02-23 15:00:53,063] Trial 11 finished with value: 0.4626263077886078 and parameters: {'C': 5045.7980319618, 'kernel': 'linear', 'gamma': 'scale'}. Best is trial 5 with value: 0.5336314048108737.\n",
      "[I 2024-02-23 15:00:53,470] Trial 12 finished with value: 0.4626263077886078 and parameters: {'C': 2695.0544686715093, 'kernel': 'linear', 'gamma': 'scale'}. Best is trial 5 with value: 0.5336314048108737.\n",
      "[I 2024-02-23 15:00:53,852] Trial 13 finished with value: 0.4626263077886078 and parameters: {'C': 57.12216783313387, 'kernel': 'linear', 'gamma': 'scale'}. Best is trial 5 with value: 0.5336314048108737.\n",
      "[I 2024-02-23 15:00:54,235] Trial 14 finished with value: 0.4626263077886078 and parameters: {'C': 5907.2629182623505, 'kernel': 'linear', 'gamma': 'scale'}. Best is trial 5 with value: 0.5336314048108737.\n",
      "[I 2024-02-23 15:00:54,896] Trial 15 finished with value: 0.5251184834123223 and parameters: {'C': 2.4146232938275527, 'kernel': 'poly', 'gamma': 'scale', 'degree': 4}. Best is trial 5 with value: 0.5336314048108737.\n",
      "[I 2024-02-23 15:00:55,454] Trial 16 finished with value: 0.5364750067066082 and parameters: {'C': 0.8330039710770271, 'kernel': 'poly', 'gamma': 'scale', 'degree': 4}. Best is trial 16 with value: 0.5364750067066082.\n",
      "[I 2024-02-23 15:00:56,008] Trial 17 finished with value: 0.4834346776356971 and parameters: {'C': 0.25672270426019855, 'kernel': 'poly', 'gamma': 'scale', 'degree': 3}. Best is trial 16 with value: 0.5364750067066082.\n",
      "[I 2024-02-23 15:00:56,884] Trial 18 finished with value: 0.5175310739515335 and parameters: {'C': 19.193727365164328, 'kernel': 'poly', 'gamma': 'scale', 'degree': 3}. Best is trial 16 with value: 0.5364750067066082.\n",
      "[I 2024-02-23 15:00:57,442] Trial 19 finished with value: 0.21570240543682373 and parameters: {'C': 0.012001114204796359, 'kernel': 'poly', 'gamma': 'scale', 'degree': 1}. Best is trial 16 with value: 0.5364750067066082.\n",
      "[I 2024-02-23 15:00:57,955] Trial 20 finished with value: 0.30841455781096305 and parameters: {'C': 0.1503502678381934, 'kernel': 'poly', 'gamma': 'scale', 'degree': 4}. Best is trial 16 with value: 0.5364750067066082.\n",
      "[I 2024-02-23 15:00:58,480] Trial 21 finished with value: 0.5270052758651526 and parameters: {'C': 3.0053666391153078, 'kernel': 'poly', 'gamma': 'scale', 'degree': 4}. Best is trial 16 with value: 0.5364750067066082.\n",
      "[I 2024-02-23 15:00:59,005] Trial 22 finished with value: 0.5222704104444246 and parameters: {'C': 5.206806082944573, 'kernel': 'poly', 'gamma': 'scale', 'degree': 4}. Best is trial 16 with value: 0.5364750067066082.\n",
      "[I 2024-02-23 15:00:59,478] Trial 23 finished with value: 0.5374139318608602 and parameters: {'C': 0.5574736539390779, 'kernel': 'poly', 'gamma': 'scale', 'degree': 5}. Best is trial 23 with value: 0.5374139318608602.\n",
      "[I 2024-02-23 15:00:59,954] Trial 24 finished with value: 0.537409460788697 and parameters: {'C': 0.5710010704739024, 'kernel': 'poly', 'gamma': 'scale', 'degree': 5}. Best is trial 23 with value: 0.5374139318608602.\n",
      "[I 2024-02-23 15:01:00,459] Trial 25 finished with value: 0.21570240543682373 and parameters: {'C': 0.00900565080246091, 'kernel': 'poly', 'gamma': 'scale', 'degree': 5}. Best is trial 23 with value: 0.5374139318608602.\n",
      "[I 2024-02-23 15:01:00,958] Trial 26 finished with value: 0.4020611642671913 and parameters: {'C': 0.2274328892636367, 'kernel': 'poly', 'gamma': 'scale', 'degree': 5}. Best is trial 23 with value: 0.5374139318608602.\n",
      "[I 2024-02-23 15:01:01,492] Trial 27 finished with value: 0.5288920683179826 and parameters: {'C': 80.39150177629784, 'kernel': 'poly', 'gamma': 'scale', 'degree': 5}. Best is trial 23 with value: 0.5374139318608602.\n",
      "[I 2024-02-23 15:01:02,028] Trial 28 finished with value: 0.5288920683179826 and parameters: {'C': 10.232186946875991, 'kernel': 'poly', 'gamma': 'scale', 'degree': 5}. Best is trial 23 with value: 0.5374139318608602.\n",
      "[I 2024-02-23 15:01:02,499] Trial 29 finished with value: 0.5165921487972815 and parameters: {'C': 0.35929075279492606, 'kernel': 'poly', 'gamma': 'scale', 'degree': 4}. Best is trial 23 with value: 0.5374139318608602.\n",
      "[I 2024-02-23 15:01:02,939] Trial 30 finished with value: 0.5449879281051596 and parameters: {'C': 1.0185860890704288, 'kernel': 'sigmoid', 'gamma': 'scale'}. Best is trial 30 with value: 0.5449879281051596.\n",
      "[I 2024-02-23 15:01:03,400] Trial 31 finished with value: 0.536461593490119 and parameters: {'C': 0.782917999203791, 'kernel': 'sigmoid', 'gamma': 'scale'}. Best is trial 30 with value: 0.5449879281051596.\n",
      "[I 2024-02-23 15:01:03,917] Trial 32 finished with value: 0.21570240543682373 and parameters: {'C': 0.0765970107839401, 'kernel': 'sigmoid', 'gamma': 'scale'}. Best is trial 30 with value: 0.5449879281051596.\n",
      "[I 2024-02-23 15:01:04,365] Trial 33 finished with value: 0.5411964589108468 and parameters: {'C': 0.8891815875481585, 'kernel': 'sigmoid', 'gamma': 'scale'}. Best is trial 30 with value: 0.5449879281051596.\n",
      "[I 2024-02-23 15:01:04,884] Trial 34 finished with value: 0.21570240543682373 and parameters: {'C': 0.01647351032103306, 'kernel': 'sigmoid', 'gamma': 'scale'}. Best is trial 30 with value: 0.5449879281051596.\n",
      "[I 2024-02-23 15:01:05,398] Trial 35 finished with value: 0.21570240543682373 and parameters: {'C': 6.5580976045012775, 'kernel': 'sigmoid', 'gamma': 'auto'}. Best is trial 30 with value: 0.5449879281051596.\n",
      "[I 2024-02-23 15:01:05,790] Trial 36 finished with value: 0.41722256997227936 and parameters: {'C': 272.4697304013837, 'kernel': 'sigmoid', 'gamma': 'scale'}. Best is trial 30 with value: 0.5449879281051596.\n",
      "[I 2024-02-23 15:01:06,194] Trial 37 finished with value: 0.5421532683537513 and parameters: {'C': 1.7455358794464686, 'kernel': 'sigmoid', 'gamma': 'scale'}. Best is trial 30 with value: 0.5449879281051596.\n",
      "[I 2024-02-23 15:01:06,700] Trial 38 finished with value: 0.21570240543682373 and parameters: {'C': 1.7337022687894112, 'kernel': 'sigmoid', 'gamma': 'auto'}. Best is trial 30 with value: 0.5449879281051596.\n",
      "[I 2024-02-23 15:01:07,218] Trial 39 finished with value: 0.21570240543682373 and parameters: {'C': 0.09132691816657261, 'kernel': 'sigmoid', 'gamma': 'scale'}. Best is trial 30 with value: 0.5449879281051596.\n",
      "[I 2024-02-23 15:01:07,729] Trial 40 finished with value: 0.21570240543682373 and parameters: {'C': 14.568529744128709, 'kernel': 'sigmoid', 'gamma': 'auto'}. Best is trial 30 with value: 0.5449879281051596.\n",
      "[I 2024-02-23 15:01:08,215] Trial 41 finished with value: 0.4928954663328266 and parameters: {'C': 0.5558256752155564, 'kernel': 'sigmoid', 'gamma': 'scale'}. Best is trial 30 with value: 0.5449879281051596.\n",
      "[I 2024-02-23 15:01:08,634] Trial 42 finished with value: 0.5431011356523294 and parameters: {'C': 1.3915608732583902, 'kernel': 'sigmoid', 'gamma': 'scale'}. Best is trial 30 with value: 0.5449879281051596.\n",
      "[I 2024-02-23 15:01:09,011] Trial 43 finished with value: 0.5317311991415542 and parameters: {'C': 2.819516663850495, 'kernel': 'sigmoid', 'gamma': 'scale'}. Best is trial 30 with value: 0.5449879281051596.\n",
      "[I 2024-02-23 15:01:09,538] Trial 44 finished with value: 0.21570240543682373 and parameters: {'C': 0.04018250814350936, 'kernel': 'sigmoid', 'gamma': 'scale'}. Best is trial 30 with value: 0.5449879281051596.\n",
      "[I 2024-02-23 15:01:10,080] Trial 45 finished with value: 0.5364615934901189 and parameters: {'C': 1.443961722416836, 'kernel': 'rbf', 'gamma': 'scale'}. Best is trial 30 with value: 0.5449879281051596.\n",
      "[I 2024-02-23 15:01:10,445] Trial 46 finished with value: 0.4456049360636681 and parameters: {'C': 36.74009892934497, 'kernel': 'sigmoid', 'gamma': 'scale'}. Best is trial 30 with value: 0.5449879281051596.\n",
      "[I 2024-02-23 15:01:10,960] Trial 47 finished with value: 0.21570240543682373 and parameters: {'C': 6.191261541193038, 'kernel': 'sigmoid', 'gamma': 'auto'}. Best is trial 30 with value: 0.5449879281051596.\n",
      "[I 2024-02-23 15:01:11,474] Trial 48 finished with value: 0.21570240543682373 and parameters: {'C': 0.12767078101655344, 'kernel': 'sigmoid', 'gamma': 'scale'}. Best is trial 30 with value: 0.5449879281051596.\n",
      "[I 2024-02-23 15:01:12,117] Trial 49 finished with value: 0.21570240543682373 and parameters: {'C': 0.0008903807858525186, 'kernel': 'rbf', 'gamma': 'scale'}. Best is trial 30 with value: 0.5449879281051596.\n",
      "[I 2024-02-23 15:01:12,480] Trial 50 finished with value: 0.4626263077886078 and parameters: {'C': 182.18971384708402, 'kernel': 'linear', 'gamma': 'scale'}. Best is trial 30 with value: 0.5449879281051596.\n",
      "[I 2024-02-23 15:01:12,964] Trial 51 finished with value: 0.5004739336492892 and parameters: {'C': 0.5794925566166821, 'kernel': 'sigmoid', 'gamma': 'scale'}. Best is trial 30 with value: 0.5449879281051596.\n",
      "[I 2024-02-23 15:01:13,470] Trial 52 finished with value: 0.42100062595010285 and parameters: {'C': 0.3722912680888432, 'kernel': 'sigmoid', 'gamma': 'scale'}. Best is trial 30 with value: 0.5449879281051596.\n",
      "[I 2024-02-23 15:01:13,911] Trial 53 finished with value: 0.5449879281051596 and parameters: {'C': 0.9888002310498957, 'kernel': 'sigmoid', 'gamma': 'scale'}. Best is trial 30 with value: 0.5449879281051596.\n",
      "[I 2024-02-23 15:01:14,278] Trial 54 finished with value: 0.5232093355986767 and parameters: {'C': 3.655195409031323, 'kernel': 'sigmoid', 'gamma': 'scale'}. Best is trial 30 with value: 0.5449879281051596.\n",
      "[I 2024-02-23 15:01:14,710] Trial 55 finished with value: 0.5459357954037378 and parameters: {'C': 1.1024927438677246, 'kernel': 'sigmoid', 'gamma': 'scale'}. Best is trial 55 with value: 0.5459357954037378.\n",
      "[I 2024-02-23 15:01:15,121] Trial 56 finished with value: 0.5383573280872753 and parameters: {'C': 1.5664565990685015, 'kernel': 'sigmoid', 'gamma': 'scale'}. Best is trial 55 with value: 0.5459357954037378.\n",
      "[I 2024-02-23 15:01:15,628] Trial 57 finished with value: 0.21570240543682373 and parameters: {'C': 1.143942725755809, 'kernel': 'sigmoid', 'gamma': 'auto'}. Best is trial 55 with value: 0.5459357954037378.\n",
      "[I 2024-02-23 15:01:16,044] Trial 58 finished with value: 0.42480997943306803 and parameters: {'C': 1279.6636374340785, 'kernel': 'sigmoid', 'gamma': 'scale'}. Best is trial 55 with value: 0.5459357954037378.\n",
      "[I 2024-02-23 15:01:16,559] Trial 59 finished with value: 0.23837521237592774 and parameters: {'C': 0.21578932374329343, 'kernel': 'sigmoid', 'gamma': 'scale'}. Best is trial 55 with value: 0.5459357954037378.\n",
      "[I 2024-02-23 15:01:16,900] Trial 60 finished with value: 0.4815657694715193 and parameters: {'C': 9.790669566961917, 'kernel': 'linear', 'gamma': 'scale'}. Best is trial 55 with value: 0.5459357954037378.\n",
      "[I 2024-02-23 15:01:17,327] Trial 61 finished with value: 0.5421577394259144 and parameters: {'C': 1.283658220072994, 'kernel': 'sigmoid', 'gamma': 'scale'}. Best is trial 55 with value: 0.5459357954037378.\n",
      "[I 2024-02-23 15:01:17,717] Trial 62 finished with value: 0.5364750067066082 and parameters: {'C': 2.2856034593866843, 'kernel': 'sigmoid', 'gamma': 'scale'}. Best is trial 55 with value: 0.5459357954037378.\n",
      "[I 2024-02-23 15:01:18,157] Trial 63 finished with value: 0.5478270589287311 and parameters: {'C': 1.0428184569634444, 'kernel': 'sigmoid', 'gamma': 'scale'}. Best is trial 63 with value: 0.5478270589287311.\n",
      "[I 2024-02-23 15:01:18,512] Trial 64 finished with value: 0.5147053563444514 and parameters: {'C': 4.849687352262712, 'kernel': 'sigmoid', 'gamma': 'scale'}. Best is trial 63 with value: 0.5478270589287311.\n",
      "[I 2024-02-23 15:01:19,142] Trial 65 finished with value: 0.4720781543414111 and parameters: {'C': 0.31822696471349954, 'kernel': 'rbf', 'gamma': 'scale'}. Best is trial 63 with value: 0.5478270589287311.\n",
      "[I 2024-02-23 15:01:19,478] Trial 66 finished with value: 0.4815881248323349 and parameters: {'C': 17.75776602316465, 'kernel': 'sigmoid', 'gamma': 'scale'}. Best is trial 63 with value: 0.5478270589287311.\n",
      "[I 2024-02-23 15:01:20,021] Trial 67 finished with value: 0.21570240543682373 and parameters: {'C': 0.02270826486074277, 'kernel': 'sigmoid', 'gamma': 'scale'}. Best is trial 63 with value: 0.5478270589287311.\n",
      "[I 2024-02-23 15:01:20,534] Trial 68 finished with value: 0.21570240543682373 and parameters: {'C': 0.15262186347727472, 'kernel': 'sigmoid', 'gamma': 'scale'}. Best is trial 63 with value: 0.5478270589287311.\n",
      "[I 2024-02-23 15:01:20,878] Trial 69 finished with value: 0.4976750424751855 and parameters: {'C': 8.429254046971945, 'kernel': 'sigmoid', 'gamma': 'scale'}. Best is trial 63 with value: 0.5478270589287311.\n",
      "[I 2024-02-23 15:01:21,246] Trial 70 finished with value: 0.5251050701958329 and parameters: {'C': 3.305818202714844, 'kernel': 'sigmoid', 'gamma': 'scale'}. Best is trial 63 with value: 0.5478270589287311.\n",
      "[I 2024-02-23 15:01:21,696] Trial 71 finished with value: 0.5402530626844317 and parameters: {'C': 0.8904763161618924, 'kernel': 'sigmoid', 'gamma': 'scale'}. Best is trial 63 with value: 0.5478270589287311.\n",
      "[I 2024-02-23 15:01:22,133] Trial 72 finished with value: 0.5497138513815613 and parameters: {'C': 1.0629033978826774, 'kernel': 'sigmoid', 'gamma': 'scale'}. Best is trial 72 with value: 0.5497138513815613.\n",
      "[I 2024-02-23 15:01:22,539] Trial 73 finished with value: 0.541205401055173 and parameters: {'C': 1.654511203025566, 'kernel': 'sigmoid', 'gamma': 'scale'}. Best is trial 72 with value: 0.5497138513815613.\n",
      "[I 2024-02-23 15:01:23,045] Trial 74 finished with value: 0.45412232853438256 and parameters: {'C': 0.40679067430084803, 'kernel': 'sigmoid', 'gamma': 'scale'}. Best is trial 72 with value: 0.5497138513815613.\n",
      "[I 2024-02-23 15:01:23,432] Trial 75 finished with value: 0.5431011356523294 and parameters: {'C': 1.053044941397734, 'kernel': 'linear', 'gamma': 'scale'}. Best is trial 72 with value: 0.5497138513815613.\n",
      "[I 2024-02-23 15:01:23,824] Trial 76 finished with value: 0.535522668335867 and parameters: {'C': 0.9501447665487768, 'kernel': 'linear', 'gamma': 'scale'}. Best is trial 72 with value: 0.5497138513815613.\n",
      "[I 2024-02-23 15:01:24,298] Trial 77 finished with value: 0.34907895913440046 and parameters: {'C': 0.19525645783848636, 'kernel': 'linear', 'gamma': 'auto'}. Best is trial 72 with value: 0.5497138513815613.\n",
      "[I 2024-02-23 15:01:24,779] Trial 78 finished with value: 0.21570240543682373 and parameters: {'C': 0.0868858891060779, 'kernel': 'linear', 'gamma': 'scale'}. Best is trial 72 with value: 0.5497138513815613.\n",
      "[I 2024-02-23 15:01:25,125] Trial 79 finished with value: 0.5128140928194581 and parameters: {'C': 3.6083601443402857, 'kernel': 'linear', 'gamma': 'scale'}. Best is trial 72 with value: 0.5497138513815613.\n",
      "[I 2024-02-23 15:01:25,703] Trial 80 finished with value: 0.5430921935080032 and parameters: {'C': 0.6475012997439689, 'kernel': 'rbf', 'gamma': 'scale'}. Best is trial 72 with value: 0.5497138513815613.\n",
      "[I 2024-02-23 15:01:26,296] Trial 81 finished with value: 0.5364750067066082 and parameters: {'C': 0.528625065412582, 'kernel': 'rbf', 'gamma': 'scale'}. Best is trial 72 with value: 0.5497138513815613.\n",
      "[I 2024-02-23 15:01:26,846] Trial 82 finished with value: 0.5345926853259412 and parameters: {'C': 1.2483620596006244, 'kernel': 'rbf', 'gamma': 'scale'}. Best is trial 72 with value: 0.5497138513815613.\n",
      "[I 2024-02-23 15:01:27,397] Trial 83 finished with value: 0.5336090494500582 and parameters: {'C': 2.283922608137933, 'kernel': 'rbf', 'gamma': 'scale'}. Best is trial 72 with value: 0.5497138513815613.\n",
      "[I 2024-02-23 15:01:27,968] Trial 84 finished with value: 0.5383617991594385 and parameters: {'C': 0.7309935233581463, 'kernel': 'rbf', 'gamma': 'scale'}. Best is trial 72 with value: 0.5497138513815613.\n",
      "[I 2024-02-23 15:01:28,430] Trial 85 finished with value: 0.4843870160064384 and parameters: {'C': 0.35735762189230674, 'kernel': 'linear', 'gamma': 'scale'}. Best is trial 72 with value: 0.5497138513815613.\n",
      "[I 2024-02-23 15:01:28,780] Trial 86 finished with value: 0.506187963873737 and parameters: {'C': 5.889925610084395, 'kernel': 'sigmoid', 'gamma': 'scale'}. Best is trial 72 with value: 0.5497138513815613.\n",
      "[I 2024-02-23 15:01:29,422] Trial 87 finished with value: 0.4370830725207905 and parameters: {'C': 0.24636871190910423, 'kernel': 'rbf', 'gamma': 'scale'}. Best is trial 72 with value: 0.5497138513815613.\n",
      "[I 2024-02-23 15:01:29,852] Trial 88 finished with value: 0.545001341321649 and parameters: {'C': 1.167103644722507, 'kernel': 'sigmoid', 'gamma': 'scale'}. Best is trial 72 with value: 0.5497138513815613.\n",
      "[I 2024-02-23 15:01:30,346] Trial 89 finished with value: 0.21570240543682373 and parameters: {'C': 0.1324785066699525, 'kernel': 'sigmoid', 'gamma': 'auto'}. Best is trial 72 with value: 0.5497138513815613.\n",
      "[I 2024-02-23 15:01:30,734] Trial 90 finished with value: 0.5355316104801932 and parameters: {'C': 2.379351268455524, 'kernel': 'sigmoid', 'gamma': 'scale'}. Best is trial 72 with value: 0.5497138513815613.\n",
      "[I 2024-02-23 15:01:31,234] Trial 91 finished with value: 0.21570240543682373 and parameters: {'C': 0.00010032262764299192, 'kernel': 'sigmoid', 'gamma': 'scale'}. Best is trial 72 with value: 0.5497138513815613.\n",
      "[I 2024-02-23 15:01:31,670] Trial 92 finished with value: 0.5506617186801395 and parameters: {'C': 1.0744695722664126, 'kernel': 'sigmoid', 'gamma': 'scale'}. Best is trial 92 with value: 0.5506617186801395.\n",
      "[I 2024-02-23 15:01:32,162] Trial 93 finished with value: 0.470195832960744 and parameters: {'C': 0.4928572331214867, 'kernel': 'sigmoid', 'gamma': 'scale'}. Best is trial 92 with value: 0.5506617186801395.\n",
      "[I 2024-02-23 15:01:32,629] Trial 94 finished with value: 0.5374139318608602 and parameters: {'C': 0.744737965353237, 'kernel': 'sigmoid', 'gamma': 'scale'}. Best is trial 92 with value: 0.5506617186801395.\n",
      "[I 2024-02-23 15:01:33,057] Trial 95 finished with value: 0.5440534740230708 and parameters: {'C': 1.2286191543843268, 'kernel': 'sigmoid', 'gamma': 'scale'}. Best is trial 92 with value: 0.5506617186801395.\n",
      "[I 2024-02-23 15:01:33,417] Trial 96 finished with value: 0.5203836179915944 and parameters: {'C': 4.414098823389576, 'kernel': 'sigmoid', 'gamma': 'scale'}. Best is trial 92 with value: 0.5506617186801395.\n",
      "[I 2024-02-23 15:01:33,817] Trial 97 finished with value: 0.5402620048287579 and parameters: {'C': 1.9366672742460471, 'kernel': 'sigmoid', 'gamma': 'scale'}. Best is trial 92 with value: 0.5506617186801395.\n",
      "[I 2024-02-23 15:01:34,251] Trial 98 finished with value: 0.545001341321649 and parameters: {'C': 1.1687543006089869, 'kernel': 'sigmoid', 'gamma': 'scale'}. Best is trial 92 with value: 0.5506617186801395.\n",
      "[I 2024-02-23 15:01:34,589] Trial 99 finished with value: 0.49009657515872307 and parameters: {'C': 14.241952756514161, 'kernel': 'sigmoid', 'gamma': 'scale'}. Best is trial 92 with value: 0.5506617186801395.\n"
     ]
    },
    {
     "name": "stdout",
     "output_type": "stream",
     "text": [
      "Best trial: {'C': 1.0744695722664126, 'kernel': 'sigmoid', 'gamma': 'scale'}\n"
     ]
    }
   ],
   "source": [
    "def objective(trial):\n",
    "    # Hyperparameters to tune\n",
    "    C = trial.suggest_float('C', 1e-4, 1e4, log=True)\n",
    "    kernel = trial.suggest_categorical('kernel', ['linear', 'poly', 'rbf', 'sigmoid'])\n",
    "    gamma = trial.suggest_categorical('gamma', ['scale', 'auto'])\n",
    "\n",
    "    # If kernel is 'poly', we also tune degree\n",
    "    if kernel == 'poly':\n",
    "        degree = trial.suggest_int('degree', 1, 5)\n",
    "\n",
    "    # Create and train the SVM model\n",
    "    if kernel == 'poly':\n",
    "        model = SVC(C=C, kernel=kernel, degree=degree, gamma=gamma, random_state=42)\n",
    "    else:\n",
    "        model = SVC(C=C, kernel=kernel, gamma=gamma, random_state=42)\n",
    "\n",
    "    score = cross_val_score(model, X, y, scoring='accuracy')\n",
    "    return score.mean()\n",
    "\n",
    "\n",
    "# Create a study object and specify the optimization direction\n",
    "study = optuna.create_study(direction='maximize')\n",
    "study.optimize(objective, n_trials=100)  # You can adjust the number of trials\n",
    "\n",
    "# Output the best hyperparameters\n",
    "print('Best trial:', study.best_trial.params)"
   ],
   "metadata": {
    "collapsed": false,
    "ExecuteTime": {
     "end_time": "2024-02-23T13:01:34.593616600Z",
     "start_time": "2024-02-23T13:00:44.770874700Z"
    }
   },
   "id": "3352fe02bac0f7c4",
   "execution_count": 70
  },
  {
   "cell_type": "markdown",
   "source": [
    "### Multi-class SGD\n",
    "\n",
    "Let's now train a multi-class SGD model on the embeddings and the class."
   ],
   "metadata": {
    "collapsed": false
   },
   "id": "78bd39336c8fa4c1"
  },
  {
   "cell_type": "code",
   "outputs": [
    {
     "data": {
      "text/plain": "SGDClassifier(alpha=2.6545371602330262e-06, eta0=0.007698135990041223,\n              learning_rate='adaptive', loss='squared_hinge', n_jobs=-1,\n              random_state=42)",
      "text/html": "<style>#sk-container-id-1 {\n  /* Definition of color scheme common for light and dark mode */\n  --sklearn-color-text: black;\n  --sklearn-color-line: gray;\n  /* Definition of color scheme for unfitted estimators */\n  --sklearn-color-unfitted-level-0: #fff5e6;\n  --sklearn-color-unfitted-level-1: #f6e4d2;\n  --sklearn-color-unfitted-level-2: #ffe0b3;\n  --sklearn-color-unfitted-level-3: chocolate;\n  /* Definition of color scheme for fitted estimators */\n  --sklearn-color-fitted-level-0: #f0f8ff;\n  --sklearn-color-fitted-level-1: #d4ebff;\n  --sklearn-color-fitted-level-2: #b3dbfd;\n  --sklearn-color-fitted-level-3: cornflowerblue;\n\n  /* Specific color for light theme */\n  --sklearn-color-text-on-default-background: var(--sg-text-color, var(--theme-code-foreground, var(--jp-content-font-color1, black)));\n  --sklearn-color-background: var(--sg-background-color, var(--theme-background, var(--jp-layout-color0, white)));\n  --sklearn-color-border-box: var(--sg-text-color, var(--theme-code-foreground, var(--jp-content-font-color1, black)));\n  --sklearn-color-icon: #696969;\n\n  @media (prefers-color-scheme: dark) {\n    /* Redefinition of color scheme for dark theme */\n    --sklearn-color-text-on-default-background: var(--sg-text-color, var(--theme-code-foreground, var(--jp-content-font-color1, white)));\n    --sklearn-color-background: var(--sg-background-color, var(--theme-background, var(--jp-layout-color0, #111)));\n    --sklearn-color-border-box: var(--sg-text-color, var(--theme-code-foreground, var(--jp-content-font-color1, white)));\n    --sklearn-color-icon: #878787;\n  }\n}\n\n#sk-container-id-1 {\n  color: var(--sklearn-color-text);\n}\n\n#sk-container-id-1 pre {\n  padding: 0;\n}\n\n#sk-container-id-1 input.sk-hidden--visually {\n  border: 0;\n  clip: rect(1px 1px 1px 1px);\n  clip: rect(1px, 1px, 1px, 1px);\n  height: 1px;\n  margin: -1px;\n  overflow: hidden;\n  padding: 0;\n  position: absolute;\n  width: 1px;\n}\n\n#sk-container-id-1 div.sk-dashed-wrapped {\n  border: 1px dashed var(--sklearn-color-line);\n  margin: 0 0.4em 0.5em 0.4em;\n  box-sizing: border-box;\n  padding-bottom: 0.4em;\n  background-color: var(--sklearn-color-background);\n}\n\n#sk-container-id-1 div.sk-container {\n  /* jupyter's `normalize.less` sets `[hidden] { display: none; }`\n     but bootstrap.min.css set `[hidden] { display: none !important; }`\n     so we also need the `!important` here to be able to override the\n     default hidden behavior on the sphinx rendered scikit-learn.org.\n     See: https://github.com/scikit-learn/scikit-learn/issues/21755 */\n  display: inline-block !important;\n  position: relative;\n}\n\n#sk-container-id-1 div.sk-text-repr-fallback {\n  display: none;\n}\n\ndiv.sk-parallel-item,\ndiv.sk-serial,\ndiv.sk-item {\n  /* draw centered vertical line to link estimators */\n  background-image: linear-gradient(var(--sklearn-color-text-on-default-background), var(--sklearn-color-text-on-default-background));\n  background-size: 2px 100%;\n  background-repeat: no-repeat;\n  background-position: center center;\n}\n\n/* Parallel-specific style estimator block */\n\n#sk-container-id-1 div.sk-parallel-item::after {\n  content: \"\";\n  width: 100%;\n  border-bottom: 2px solid var(--sklearn-color-text-on-default-background);\n  flex-grow: 1;\n}\n\n#sk-container-id-1 div.sk-parallel {\n  display: flex;\n  align-items: stretch;\n  justify-content: center;\n  background-color: var(--sklearn-color-background);\n  position: relative;\n}\n\n#sk-container-id-1 div.sk-parallel-item {\n  display: flex;\n  flex-direction: column;\n}\n\n#sk-container-id-1 div.sk-parallel-item:first-child::after {\n  align-self: flex-end;\n  width: 50%;\n}\n\n#sk-container-id-1 div.sk-parallel-item:last-child::after {\n  align-self: flex-start;\n  width: 50%;\n}\n\n#sk-container-id-1 div.sk-parallel-item:only-child::after {\n  width: 0;\n}\n\n/* Serial-specific style estimator block */\n\n#sk-container-id-1 div.sk-serial {\n  display: flex;\n  flex-direction: column;\n  align-items: center;\n  background-color: var(--sklearn-color-background);\n  padding-right: 1em;\n  padding-left: 1em;\n}\n\n\n/* Toggleable style: style used for estimator/Pipeline/ColumnTransformer box that is\nclickable and can be expanded/collapsed.\n- Pipeline and ColumnTransformer use this feature and define the default style\n- Estimators will overwrite some part of the style using the `sk-estimator` class\n*/\n\n/* Pipeline and ColumnTransformer style (default) */\n\n#sk-container-id-1 div.sk-toggleable {\n  /* Default theme specific background. It is overwritten whether we have a\n  specific estimator or a Pipeline/ColumnTransformer */\n  background-color: var(--sklearn-color-background);\n}\n\n/* Toggleable label */\n#sk-container-id-1 label.sk-toggleable__label {\n  cursor: pointer;\n  display: block;\n  width: 100%;\n  margin-bottom: 0;\n  padding: 0.5em;\n  box-sizing: border-box;\n  text-align: center;\n}\n\n#sk-container-id-1 label.sk-toggleable__label-arrow:before {\n  /* Arrow on the left of the label */\n  content: \"▸\";\n  float: left;\n  margin-right: 0.25em;\n  color: var(--sklearn-color-icon);\n}\n\n#sk-container-id-1 label.sk-toggleable__label-arrow:hover:before {\n  color: var(--sklearn-color-text);\n}\n\n/* Toggleable content - dropdown */\n\n#sk-container-id-1 div.sk-toggleable__content {\n  max-height: 0;\n  max-width: 0;\n  overflow: hidden;\n  text-align: left;\n  /* unfitted */\n  background-color: var(--sklearn-color-unfitted-level-0);\n}\n\n#sk-container-id-1 div.sk-toggleable__content.fitted {\n  /* fitted */\n  background-color: var(--sklearn-color-fitted-level-0);\n}\n\n#sk-container-id-1 div.sk-toggleable__content pre {\n  margin: 0.2em;\n  border-radius: 0.25em;\n  color: var(--sklearn-color-text);\n  /* unfitted */\n  background-color: var(--sklearn-color-unfitted-level-0);\n}\n\n#sk-container-id-1 div.sk-toggleable__content.fitted pre {\n  /* unfitted */\n  background-color: var(--sklearn-color-fitted-level-0);\n}\n\n#sk-container-id-1 input.sk-toggleable__control:checked~div.sk-toggleable__content {\n  /* Expand drop-down */\n  max-height: 200px;\n  max-width: 100%;\n  overflow: auto;\n}\n\n#sk-container-id-1 input.sk-toggleable__control:checked~label.sk-toggleable__label-arrow:before {\n  content: \"▾\";\n}\n\n/* Pipeline/ColumnTransformer-specific style */\n\n#sk-container-id-1 div.sk-label input.sk-toggleable__control:checked~label.sk-toggleable__label {\n  color: var(--sklearn-color-text);\n  background-color: var(--sklearn-color-unfitted-level-2);\n}\n\n#sk-container-id-1 div.sk-label.fitted input.sk-toggleable__control:checked~label.sk-toggleable__label {\n  background-color: var(--sklearn-color-fitted-level-2);\n}\n\n/* Estimator-specific style */\n\n/* Colorize estimator box */\n#sk-container-id-1 div.sk-estimator input.sk-toggleable__control:checked~label.sk-toggleable__label {\n  /* unfitted */\n  background-color: var(--sklearn-color-unfitted-level-2);\n}\n\n#sk-container-id-1 div.sk-estimator.fitted input.sk-toggleable__control:checked~label.sk-toggleable__label {\n  /* fitted */\n  background-color: var(--sklearn-color-fitted-level-2);\n}\n\n#sk-container-id-1 div.sk-label label.sk-toggleable__label,\n#sk-container-id-1 div.sk-label label {\n  /* The background is the default theme color */\n  color: var(--sklearn-color-text-on-default-background);\n}\n\n/* On hover, darken the color of the background */\n#sk-container-id-1 div.sk-label:hover label.sk-toggleable__label {\n  color: var(--sklearn-color-text);\n  background-color: var(--sklearn-color-unfitted-level-2);\n}\n\n/* Label box, darken color on hover, fitted */\n#sk-container-id-1 div.sk-label.fitted:hover label.sk-toggleable__label.fitted {\n  color: var(--sklearn-color-text);\n  background-color: var(--sklearn-color-fitted-level-2);\n}\n\n/* Estimator label */\n\n#sk-container-id-1 div.sk-label label {\n  font-family: monospace;\n  font-weight: bold;\n  display: inline-block;\n  line-height: 1.2em;\n}\n\n#sk-container-id-1 div.sk-label-container {\n  text-align: center;\n}\n\n/* Estimator-specific */\n#sk-container-id-1 div.sk-estimator {\n  font-family: monospace;\n  border: 1px dotted var(--sklearn-color-border-box);\n  border-radius: 0.25em;\n  box-sizing: border-box;\n  margin-bottom: 0.5em;\n  /* unfitted */\n  background-color: var(--sklearn-color-unfitted-level-0);\n}\n\n#sk-container-id-1 div.sk-estimator.fitted {\n  /* fitted */\n  background-color: var(--sklearn-color-fitted-level-0);\n}\n\n/* on hover */\n#sk-container-id-1 div.sk-estimator:hover {\n  /* unfitted */\n  background-color: var(--sklearn-color-unfitted-level-2);\n}\n\n#sk-container-id-1 div.sk-estimator.fitted:hover {\n  /* fitted */\n  background-color: var(--sklearn-color-fitted-level-2);\n}\n\n/* Specification for estimator info (e.g. \"i\" and \"?\") */\n\n/* Common style for \"i\" and \"?\" */\n\n.sk-estimator-doc-link,\na:link.sk-estimator-doc-link,\na:visited.sk-estimator-doc-link {\n  float: right;\n  font-size: smaller;\n  line-height: 1em;\n  font-family: monospace;\n  background-color: var(--sklearn-color-background);\n  border-radius: 1em;\n  height: 1em;\n  width: 1em;\n  text-decoration: none !important;\n  margin-left: 1ex;\n  /* unfitted */\n  border: var(--sklearn-color-unfitted-level-1) 1pt solid;\n  color: var(--sklearn-color-unfitted-level-1);\n}\n\n.sk-estimator-doc-link.fitted,\na:link.sk-estimator-doc-link.fitted,\na:visited.sk-estimator-doc-link.fitted {\n  /* fitted */\n  border: var(--sklearn-color-fitted-level-1) 1pt solid;\n  color: var(--sklearn-color-fitted-level-1);\n}\n\n/* On hover */\ndiv.sk-estimator:hover .sk-estimator-doc-link:hover,\n.sk-estimator-doc-link:hover,\ndiv.sk-label-container:hover .sk-estimator-doc-link:hover,\n.sk-estimator-doc-link:hover {\n  /* unfitted */\n  background-color: var(--sklearn-color-unfitted-level-3);\n  color: var(--sklearn-color-background);\n  text-decoration: none;\n}\n\ndiv.sk-estimator.fitted:hover .sk-estimator-doc-link.fitted:hover,\n.sk-estimator-doc-link.fitted:hover,\ndiv.sk-label-container:hover .sk-estimator-doc-link.fitted:hover,\n.sk-estimator-doc-link.fitted:hover {\n  /* fitted */\n  background-color: var(--sklearn-color-fitted-level-3);\n  color: var(--sklearn-color-background);\n  text-decoration: none;\n}\n\n/* Span, style for the box shown on hovering the info icon */\n.sk-estimator-doc-link span {\n  display: none;\n  z-index: 9999;\n  position: relative;\n  font-weight: normal;\n  right: .2ex;\n  padding: .5ex;\n  margin: .5ex;\n  width: min-content;\n  min-width: 20ex;\n  max-width: 50ex;\n  color: var(--sklearn-color-text);\n  box-shadow: 2pt 2pt 4pt #999;\n  /* unfitted */\n  background: var(--sklearn-color-unfitted-level-0);\n  border: .5pt solid var(--sklearn-color-unfitted-level-3);\n}\n\n.sk-estimator-doc-link.fitted span {\n  /* fitted */\n  background: var(--sklearn-color-fitted-level-0);\n  border: var(--sklearn-color-fitted-level-3);\n}\n\n.sk-estimator-doc-link:hover span {\n  display: block;\n}\n\n/* \"?\"-specific style due to the `<a>` HTML tag */\n\n#sk-container-id-1 a.estimator_doc_link {\n  float: right;\n  font-size: 1rem;\n  line-height: 1em;\n  font-family: monospace;\n  background-color: var(--sklearn-color-background);\n  border-radius: 1rem;\n  height: 1rem;\n  width: 1rem;\n  text-decoration: none;\n  /* unfitted */\n  color: var(--sklearn-color-unfitted-level-1);\n  border: var(--sklearn-color-unfitted-level-1) 1pt solid;\n}\n\n#sk-container-id-1 a.estimator_doc_link.fitted {\n  /* fitted */\n  border: var(--sklearn-color-fitted-level-1) 1pt solid;\n  color: var(--sklearn-color-fitted-level-1);\n}\n\n/* On hover */\n#sk-container-id-1 a.estimator_doc_link:hover {\n  /* unfitted */\n  background-color: var(--sklearn-color-unfitted-level-3);\n  color: var(--sklearn-color-background);\n  text-decoration: none;\n}\n\n#sk-container-id-1 a.estimator_doc_link.fitted:hover {\n  /* fitted */\n  background-color: var(--sklearn-color-fitted-level-3);\n}\n</style><div id=\"sk-container-id-1\" class=\"sk-top-container\"><div class=\"sk-text-repr-fallback\"><pre>SGDClassifier(alpha=2.6545371602330262e-06, eta0=0.007698135990041223,\n              learning_rate=&#x27;adaptive&#x27;, loss=&#x27;squared_hinge&#x27;, n_jobs=-1,\n              random_state=42)</pre><b>In a Jupyter environment, please rerun this cell to show the HTML representation or trust the notebook. <br />On GitHub, the HTML representation is unable to render, please try loading this page with nbviewer.org.</b></div><div class=\"sk-container\" hidden><div class=\"sk-item\"><div class=\"sk-estimator fitted sk-toggleable\"><input class=\"sk-toggleable__control sk-hidden--visually\" id=\"sk-estimator-id-1\" type=\"checkbox\" checked><label for=\"sk-estimator-id-1\" class=\"sk-toggleable__label fitted sk-toggleable__label-arrow fitted\">&nbsp;&nbsp;SGDClassifier<a class=\"sk-estimator-doc-link fitted\" rel=\"noreferrer\" target=\"_blank\" href=\"https://scikit-learn.org/1.4/modules/generated/sklearn.linear_model.SGDClassifier.html\">?<span>Documentation for SGDClassifier</span></a><span class=\"sk-estimator-doc-link fitted\">i<span>Fitted</span></span></label><div class=\"sk-toggleable__content fitted\"><pre>SGDClassifier(alpha=2.6545371602330262e-06, eta0=0.007698135990041223,\n              learning_rate=&#x27;adaptive&#x27;, loss=&#x27;squared_hinge&#x27;, n_jobs=-1,\n              random_state=42)</pre></div> </div></div></div></div>"
     },
     "execution_count": 7,
     "metadata": {},
     "output_type": "execute_result"
    }
   ],
   "source": [
    "from sklearn.linear_model import SGDClassifier\n",
    "\n",
    "sgd_model = SGDClassifier(loss='squared_hinge', max_iter=1000, n_jobs=-1, random_state=42,\n",
    "                          penalty='l2', alpha=2.6545371602330262e-06,\n",
    "                          learning_rate='adaptive', eta0=0.007698135990041223)\n",
    "sgd_model.fit(X_train, y_train)"
   ],
   "metadata": {
    "collapsed": false,
    "ExecuteTime": {
     "end_time": "2024-02-23T23:32:49.750605200Z",
     "start_time": "2024-02-23T23:32:49.558580400Z"
    }
   },
   "id": "52c78921d9b40eea",
   "execution_count": 7
  },
  {
   "cell_type": "code",
   "outputs": [
    {
     "name": "stdout",
     "output_type": "stream",
     "text": [
      "              precision    recall  f1-score   support\n",
      "\n",
      "           0       0.63      0.70      0.67        44\n",
      "           1       0.64      0.53      0.58        30\n",
      "           2       0.67      0.58      0.62        31\n",
      "           3       0.68      0.70      0.69        27\n",
      "           4       0.65      0.77      0.71        31\n",
      "           5       0.65      0.61      0.63        49\n",
      "\n",
      "    accuracy                           0.65       212\n",
      "   macro avg       0.65      0.65      0.65       212\n",
      "weighted avg       0.65      0.65      0.65       212\n"
     ]
    }
   ],
   "source": [
    "# Generate classification report\n",
    "y_pred = sgd_model.predict(X_test)\n",
    "print(metrics.classification_report(y_test, y_pred))"
   ],
   "metadata": {
    "collapsed": false,
    "ExecuteTime": {
     "end_time": "2024-02-23T23:33:05.233533400Z",
     "start_time": "2024-02-23T23:33:05.226532100Z"
    }
   },
   "id": "fe95d6f1c77a888d",
   "execution_count": 10
  },
  {
   "cell_type": "markdown",
   "source": [
    "Let's use the `optuna` library to find the best hyperparameters for the model based on the maximization of the accuracy."
   ],
   "metadata": {
    "collapsed": false
   },
   "id": "dc1256b67572c199"
  },
  {
   "cell_type": "code",
   "outputs": [
    {
     "name": "stderr",
     "output_type": "stream",
     "text": [
      "[I 2024-02-23 14:55:04,575] A new study created in memory with name: no-name-6d4cad58-8733-45af-90cf-fd4a9269c631\n",
      "[I 2024-02-23 14:55:06,032] Trial 0 finished with value: 0.5372781065088759 and parameters: {'loss': 'perceptron', 'penalty': 'elasticnet', 'alpha': 0.0002843539275930434, 'learning_rate': 'optimal', 'eta0': 4.780347017456094e-05}. Best is trial 0 with value: 0.5372781065088759.\n",
      "[I 2024-02-23 14:55:06,383] Trial 1 finished with value: 0.5195266272189348 and parameters: {'loss': 'perceptron', 'penalty': 'elasticnet', 'alpha': 0.002442571598507189, 'learning_rate': 'invscaling', 'eta0': 0.0020001568877933305}. Best is trial 0 with value: 0.5372781065088759.\n",
      "[I 2024-02-23 14:55:06,995] Trial 2 finished with value: 0.16804733727810653 and parameters: {'loss': 'hinge', 'penalty': 'l1', 'alpha': 0.00333383263276087, 'learning_rate': 'constant', 'eta0': 0.01355398656226266}. Best is trial 0 with value: 0.5372781065088759.\n",
      "[I 2024-02-23 14:55:07,110] Trial 3 finished with value: 0.5609467455621302 and parameters: {'loss': 'perceptron', 'penalty': 'l2', 'alpha': 0.003873194749247985, 'learning_rate': 'invscaling', 'eta0': 0.014525023788061198}. Best is trial 3 with value: 0.5609467455621302.\n",
      "[I 2024-02-23 14:55:11,691] Trial 4 finished with value: 0.21183431952662723 and parameters: {'loss': 'log_loss', 'penalty': 'l1', 'alpha': 4.201252276181476e-06, 'learning_rate': 'adaptive', 'eta0': 0.00013237043454297412}. Best is trial 3 with value: 0.5609467455621302.\n",
      "[I 2024-02-23 14:55:11,952] Trial 5 finished with value: 0.5644970414201185 and parameters: {'loss': 'perceptron', 'penalty': 'elasticnet', 'alpha': 4.703141643199157e-06, 'learning_rate': 'invscaling', 'eta0': 0.00024931822306579235}. Best is trial 5 with value: 0.5644970414201185.\n",
      "[I 2024-02-23 14:55:15,652] Trial 6 finished with value: 0.21183431952662723 and parameters: {'loss': 'log_loss', 'penalty': 'elasticnet', 'alpha': 0.034451729006116046, 'learning_rate': 'invscaling', 'eta0': 0.0332569797287207}. Best is trial 5 with value: 0.5644970414201185.\n",
      "[I 2024-02-23 14:55:21,444] Trial 7 finished with value: 0.6260355029585798 and parameters: {'loss': 'hinge', 'penalty': 'elasticnet', 'alpha': 0.00013807805287910079, 'learning_rate': 'adaptive', 'eta0': 0.01396226601173444}. Best is trial 7 with value: 0.6260355029585798.\n",
      "[I 2024-02-23 14:55:23,767] Trial 8 finished with value: 0.21183431952662723 and parameters: {'loss': 'squared_hinge', 'penalty': 'l2', 'alpha': 1.540781924320066e-05, 'learning_rate': 'invscaling', 'eta0': 0.0002764078066546451}. Best is trial 7 with value: 0.6260355029585798.\n",
      "[I 2024-02-23 14:55:24,990] Trial 9 finished with value: 0.6082840236686391 and parameters: {'loss': 'perceptron', 'penalty': 'elasticnet', 'alpha': 1.6141634951721352e-05, 'learning_rate': 'optimal', 'eta0': 0.0007062315395433922}. Best is trial 7 with value: 0.6260355029585798.\n",
      "[I 2024-02-23 14:55:25,670] Trial 10 finished with value: 0.6355029585798816 and parameters: {'loss': 'hinge', 'penalty': 'l2', 'alpha': 0.0001502856247839524, 'learning_rate': 'adaptive', 'eta0': 0.003901726908846741}. Best is trial 10 with value: 0.6355029585798816.\n",
      "[I 2024-02-23 14:55:26,347] Trial 11 finished with value: 0.6366863905325444 and parameters: {'loss': 'hinge', 'penalty': 'l2', 'alpha': 0.0001466537374998443, 'learning_rate': 'adaptive', 'eta0': 0.0033601873324193175}. Best is trial 11 with value: 0.6366863905325444.\n",
      "[I 2024-02-23 14:55:26,938] Trial 12 finished with value: 0.6402366863905326 and parameters: {'loss': 'hinge', 'penalty': 'l2', 'alpha': 7.528939373175857e-05, 'learning_rate': 'adaptive', 'eta0': 0.002458677394200516}. Best is trial 12 with value: 0.6402366863905326.\n",
      "[I 2024-02-23 14:55:30,566] Trial 13 finished with value: 0.536094674556213 and parameters: {'loss': 'hinge', 'penalty': 'l2', 'alpha': 3.9368020338987256e-05, 'learning_rate': 'adaptive', 'eta0': 1.0223625591063912e-05}. Best is trial 12 with value: 0.6402366863905326.\n",
      "[I 2024-02-23 14:55:31,249] Trial 14 finished with value: 0.6378698224852071 and parameters: {'loss': 'hinge', 'penalty': 'l2', 'alpha': 0.0008193200858309525, 'learning_rate': 'adaptive', 'eta0': 0.0038186015790885675}. Best is trial 12 with value: 0.6402366863905326.\n",
      "[I 2024-02-23 14:55:31,795] Trial 15 finished with value: 0.6142011834319527 and parameters: {'loss': 'squared_hinge', 'penalty': 'l2', 'alpha': 0.0012560849125271144, 'learning_rate': 'constant', 'eta0': 0.0911286680452879}. Best is trial 12 with value: 0.6402366863905326.\n",
      "[I 2024-02-23 14:55:32,411] Trial 16 finished with value: 0.6390532544378699 and parameters: {'loss': 'hinge', 'penalty': 'l2', 'alpha': 0.03593646696069724, 'learning_rate': 'adaptive', 'eta0': 0.001034610693863933}. Best is trial 12 with value: 0.6402366863905326.\n",
      "[I 2024-02-23 14:55:33,031] Trial 17 finished with value: 0.6319526627218934 and parameters: {'loss': 'hinge', 'penalty': 'l2', 'alpha': 0.033144035727560583, 'learning_rate': 'adaptive', 'eta0': 0.0008238601563755858}. Best is trial 12 with value: 0.6402366863905326.\n",
      "[I 2024-02-23 14:55:35,555] Trial 18 finished with value: 0.2828402366863906 and parameters: {'loss': 'hinge', 'penalty': 'l1', 'alpha': 0.011939801427060045, 'learning_rate': 'adaptive', 'eta0': 0.0011185709655906232}. Best is trial 12 with value: 0.6402366863905326.\n",
      "[I 2024-02-23 14:55:36,563] Trial 19 finished with value: 0.21183431952662723 and parameters: {'loss': 'squared_hinge', 'penalty': 'l2', 'alpha': 1.4084071391033366e-06, 'learning_rate': 'constant', 'eta0': 2.7971539270882222e-05}. Best is trial 12 with value: 0.6402366863905326.\n",
      "[I 2024-02-23 14:55:36,775] Trial 20 finished with value: 0.21183431952662723 and parameters: {'loss': 'log_loss', 'penalty': 'l2', 'alpha': 0.0964492269445362, 'learning_rate': 'optimal', 'eta0': 0.00027537648341266426}. Best is trial 12 with value: 0.6402366863905326.\n",
      "[I 2024-02-23 14:55:37,481] Trial 21 finished with value: 0.634319526627219 and parameters: {'loss': 'hinge', 'penalty': 'l2', 'alpha': 0.0007554821676218763, 'learning_rate': 'adaptive', 'eta0': 0.005280402839018609}. Best is trial 12 with value: 0.6402366863905326.\n",
      "[I 2024-02-23 14:55:38,076] Trial 22 finished with value: 0.6355029585798817 and parameters: {'loss': 'hinge', 'penalty': 'l2', 'alpha': 3.240840585299495e-05, 'learning_rate': 'adaptive', 'eta0': 0.0014835742301318846}. Best is trial 12 with value: 0.6402366863905326.\n",
      "[I 2024-02-23 14:55:38,778] Trial 23 finished with value: 0.6307692307692309 and parameters: {'loss': 'hinge', 'penalty': 'l2', 'alpha': 0.011197922357053894, 'learning_rate': 'adaptive', 'eta0': 0.006108195591229212}. Best is trial 12 with value: 0.6402366863905326.\n",
      "[I 2024-02-23 14:55:39,345] Trial 24 finished with value: 0.6071005917159764 and parameters: {'loss': 'hinge', 'penalty': 'l2', 'alpha': 0.000515374669371858, 'learning_rate': 'adaptive', 'eta0': 0.0004330761485342858}. Best is trial 12 with value: 0.6402366863905326.\n",
      "[I 2024-02-23 14:55:40,668] Trial 25 finished with value: 0.6378698224852071 and parameters: {'loss': 'hinge', 'penalty': 'l1', 'alpha': 6.537261909307648e-05, 'learning_rate': 'adaptive', 'eta0': 0.0022385624921684904}. Best is trial 12 with value: 0.6402366863905326.\n",
      "[I 2024-02-23 14:55:41,384] Trial 26 finished with value: 0.6248520710059171 and parameters: {'loss': 'hinge', 'penalty': 'l2', 'alpha': 0.007364673043653249, 'learning_rate': 'adaptive', 'eta0': 0.006712232229209226}. Best is trial 12 with value: 0.6402366863905326.\n",
      "[I 2024-02-23 14:55:42,081] Trial 27 finished with value: 0.578698224852071 and parameters: {'loss': 'hinge', 'penalty': 'l2', 'alpha': 0.08046497058704552, 'learning_rate': 'adaptive', 'eta0': 0.00011839039285091934}. Best is trial 12 with value: 0.6402366863905326.\n",
      "[I 2024-02-23 14:55:43,389] Trial 28 finished with value: 0.6071005917159763 and parameters: {'loss': 'log_loss', 'penalty': 'l2', 'alpha': 0.0013188658583821093, 'learning_rate': 'constant', 'eta0': 0.034375007541521924}. Best is trial 12 with value: 0.6402366863905326.\n",
      "C:\\Users\\panagiotis\\AppData\\Local\\Programs\\Python\\Python311\\Lib\\site-packages\\sklearn\\linear_model\\_stochastic_gradient.py:723: ConvergenceWarning: Maximum number of iteration reached before convergence. Consider increasing max_iter to improve the fit.\n",
      "  warnings.warn(\n",
      "C:\\Users\\panagiotis\\AppData\\Local\\Programs\\Python\\Python311\\Lib\\site-packages\\sklearn\\linear_model\\_stochastic_gradient.py:723: ConvergenceWarning: Maximum number of iteration reached before convergence. Consider increasing max_iter to improve the fit.\n",
      "  warnings.warn(\n",
      "C:\\Users\\panagiotis\\AppData\\Local\\Programs\\Python\\Python311\\Lib\\site-packages\\sklearn\\linear_model\\_stochastic_gradient.py:723: ConvergenceWarning: Maximum number of iteration reached before convergence. Consider increasing max_iter to improve the fit.\n",
      "  warnings.warn(\n",
      "C:\\Users\\panagiotis\\AppData\\Local\\Programs\\Python\\Python311\\Lib\\site-packages\\sklearn\\linear_model\\_stochastic_gradient.py:723: ConvergenceWarning: Maximum number of iteration reached before convergence. Consider increasing max_iter to improve the fit.\n",
      "  warnings.warn(\n",
      "C:\\Users\\panagiotis\\AppData\\Local\\Programs\\Python\\Python311\\Lib\\site-packages\\sklearn\\linear_model\\_stochastic_gradient.py:723: ConvergenceWarning: Maximum number of iteration reached before convergence. Consider increasing max_iter to improve the fit.\n",
      "  warnings.warn(\n",
      "C:\\Users\\panagiotis\\AppData\\Local\\Programs\\Python\\Python311\\Lib\\site-packages\\sklearn\\linear_model\\_stochastic_gradient.py:723: ConvergenceWarning: Maximum number of iteration reached before convergence. Consider increasing max_iter to improve the fit.\n",
      "  warnings.warn(\n",
      "[I 2024-02-23 14:55:56,730] Trial 29 finished with value: 0.6236686390532544 and parameters: {'loss': 'squared_hinge', 'penalty': 'l1', 'alpha': 0.00029134865083689667, 'learning_rate': 'optimal', 'eta0': 0.0006642121609630765}. Best is trial 12 with value: 0.6402366863905326.\n",
      "[I 2024-02-23 14:55:56,910] Trial 30 finished with value: 0.6011834319526628 and parameters: {'loss': 'hinge', 'penalty': 'l2', 'alpha': 0.032258845592292446, 'learning_rate': 'optimal', 'eta0': 0.0026804651341440443}. Best is trial 12 with value: 0.6402366863905326.\n",
      "[I 2024-02-23 14:55:58,226] Trial 31 finished with value: 0.6366863905325444 and parameters: {'loss': 'hinge', 'penalty': 'l1', 'alpha': 7.06948460549565e-05, 'learning_rate': 'adaptive', 'eta0': 0.001718018027072834}. Best is trial 12 with value: 0.6402366863905326.\n",
      "[I 2024-02-23 14:55:59,544] Trial 32 finished with value: 0.634319526627219 and parameters: {'loss': 'hinge', 'penalty': 'l1', 'alpha': 6.505559354571794e-05, 'learning_rate': 'adaptive', 'eta0': 0.001867801025109297}. Best is trial 12 with value: 0.6402366863905326.\n",
      "[I 2024-02-23 14:56:01,412] Trial 33 finished with value: 0.6248520710059171 and parameters: {'loss': 'hinge', 'penalty': 'l1', 'alpha': 0.00038760355262999464, 'learning_rate': 'adaptive', 'eta0': 0.006651350798821405}. Best is trial 12 with value: 0.6402366863905326.\n",
      "[I 2024-02-23 14:56:06,056] Trial 34 finished with value: 0.5798816568047337 and parameters: {'loss': 'hinge', 'penalty': 'l1', 'alpha': 2.1071298551329704e-05, 'learning_rate': 'adaptive', 'eta0': 0.010210483296183508}. Best is trial 12 with value: 0.6402366863905326.\n",
      "[I 2024-02-23 14:56:07,225] Trial 35 finished with value: 0.6189349112426035 and parameters: {'loss': 'perceptron', 'penalty': 'l1', 'alpha': 7.736999341057069e-06, 'learning_rate': 'adaptive', 'eta0': 0.0029448639004582508}. Best is trial 12 with value: 0.6402366863905326.\n",
      "[I 2024-02-23 14:56:09,600] Trial 36 finished with value: 0.5928994082840238 and parameters: {'loss': 'hinge', 'penalty': 'l1', 'alpha': 0.0026671144238702214, 'learning_rate': 'adaptive', 'eta0': 0.0011604093409858774}. Best is trial 12 with value: 0.6402366863905326.\n",
      "[I 2024-02-23 14:56:09,866] Trial 37 finished with value: 0.5644970414201185 and parameters: {'loss': 'perceptron', 'penalty': 'elasticnet', 'alpha': 5.644827027516843e-05, 'learning_rate': 'invscaling', 'eta0': 0.029255948593762352}. Best is trial 12 with value: 0.6402366863905326.\n",
      "[I 2024-02-23 14:56:10,515] Trial 38 finished with value: 0.21183431952662723 and parameters: {'loss': 'log_loss', 'penalty': 'l2', 'alpha': 0.00012260680270162087, 'learning_rate': 'constant', 'eta0': 0.0005392721969365657}. Best is trial 12 with value: 0.6402366863905326.\n",
      "[I 2024-02-23 14:56:12,228] Trial 39 finished with value: 0.6260355029585799 and parameters: {'loss': 'hinge', 'penalty': 'elasticnet', 'alpha': 0.005929711418721617, 'learning_rate': 'adaptive', 'eta0': 0.002241101465156539}. Best is trial 12 with value: 0.6402366863905326.\n",
      "[I 2024-02-23 14:56:12,617] Trial 40 finished with value: 0.5704142011834319 and parameters: {'loss': 'hinge', 'penalty': 'l1', 'alpha': 8.415821172864536e-06, 'learning_rate': 'invscaling', 'eta0': 0.011983875755429117}. Best is trial 12 with value: 0.6402366863905326.\n",
      "[I 2024-02-23 14:56:13,305] Trial 41 finished with value: 0.634319526627219 and parameters: {'loss': 'hinge', 'penalty': 'l2', 'alpha': 0.00016642578004349873, 'learning_rate': 'adaptive', 'eta0': 0.004656491079260712}. Best is trial 12 with value: 0.6402366863905326.\n",
      "[I 2024-02-23 14:56:13,896] Trial 42 finished with value: 0.6402366863905326 and parameters: {'loss': 'hinge', 'penalty': 'l2', 'alpha': 0.00021027745577761477, 'learning_rate': 'adaptive', 'eta0': 0.0029852549777640283}. Best is trial 12 with value: 0.6402366863905326.\n",
      "[I 2024-02-23 14:56:14,508] Trial 43 finished with value: 0.634319526627219 and parameters: {'loss': 'hinge', 'penalty': 'l2', 'alpha': 0.0007442069731342302, 'learning_rate': 'adaptive', 'eta0': 0.0010857957839912774}. Best is trial 12 with value: 0.6402366863905326.\n",
      "[I 2024-02-23 14:56:15,067] Trial 44 finished with value: 0.6094674556213018 and parameters: {'loss': 'hinge', 'penalty': 'l2', 'alpha': 0.00021688534655629272, 'learning_rate': 'adaptive', 'eta0': 0.00046107707639953265}. Best is trial 12 with value: 0.6402366863905326.\n",
      "[I 2024-02-23 14:56:15,454] Trial 45 finished with value: 0.6295857988165681 and parameters: {'loss': 'perceptron', 'penalty': 'l2', 'alpha': 0.0001009179054768441, 'learning_rate': 'adaptive', 'eta0': 0.00017486206938871658}. Best is trial 12 with value: 0.6402366863905326.\n",
      "[I 2024-02-23 14:56:20,675] Trial 46 finished with value: 0.6378698224852071 and parameters: {'loss': 'squared_hinge', 'penalty': 'elasticnet', 'alpha': 3.3146059088394704e-05, 'learning_rate': 'adaptive', 'eta0': 0.02154722275175702}. Best is trial 12 with value: 0.6402366863905326.\n",
      "[I 2024-02-23 14:56:20,934] Trial 47 finished with value: 0.5609467455621301 and parameters: {'loss': 'hinge', 'penalty': 'l2', 'alpha': 0.0014153725034913632, 'learning_rate': 'invscaling', 'eta0': 0.008419735749026921}. Best is trial 12 with value: 0.6402366863905326.\n",
      "[I 2024-02-23 14:56:21,416] Trial 48 finished with value: 0.6011834319526628 and parameters: {'loss': 'hinge', 'penalty': 'l2', 'alpha': 1.954458777827079e-06, 'learning_rate': 'optimal', 'eta0': 0.0036844474717363748}. Best is trial 12 with value: 0.6402366863905326.\n",
      "[I 2024-02-23 14:56:22,500] Trial 49 finished with value: 0.21183431952662723 and parameters: {'loss': 'log_loss', 'penalty': 'l2', 'alpha': 2.114463473365723e-05, 'learning_rate': 'adaptive', 'eta0': 0.0014580124330189482}. Best is trial 12 with value: 0.6402366863905326.\n",
      "[I 2024-02-23 14:56:22,654] Trial 50 finished with value: 0.6082840236686391 and parameters: {'loss': 'hinge', 'penalty': 'l2', 'alpha': 0.0004545261557204174, 'learning_rate': 'constant', 'eta0': 0.002717508624196871}. Best is trial 12 with value: 0.6402366863905326.\n",
      "[I 2024-02-23 14:56:28,326] Trial 51 finished with value: 0.6331360946745562 and parameters: {'loss': 'hinge', 'penalty': 'elasticnet', 'alpha': 3.877287533775401e-05, 'learning_rate': 'adaptive', 'eta0': 0.022913617363996656}. Best is trial 12 with value: 0.6402366863905326.\n",
      "[I 2024-02-23 14:56:33,005] Trial 52 finished with value: 0.6248520710059171 and parameters: {'loss': 'squared_hinge', 'penalty': 'elasticnet', 'alpha': 1.0698228370387801e-05, 'learning_rate': 'adaptive', 'eta0': 0.06226822152759029}. Best is trial 12 with value: 0.6402366863905326.\n",
      "[I 2024-02-23 14:56:38,159] Trial 53 finished with value: 0.6355029585798817 and parameters: {'loss': 'squared_hinge', 'penalty': 'elasticnet', 'alpha': 8.84965110769968e-05, 'learning_rate': 'adaptive', 'eta0': 0.01415445854699769}. Best is trial 12 with value: 0.6402366863905326.\n",
      "[I 2024-02-23 14:56:43,316] Trial 54 finished with value: 0.6378698224852071 and parameters: {'loss': 'squared_hinge', 'penalty': 'elasticnet', 'alpha': 2.8894937784095334e-05, 'learning_rate': 'adaptive', 'eta0': 0.02163092251181473}. Best is trial 12 with value: 0.6402366863905326.\n",
      "[I 2024-02-23 14:56:49,656] Trial 55 finished with value: 0.6153846153846154 and parameters: {'loss': 'squared_hinge', 'penalty': 'elasticnet', 'alpha': 0.0002309562685886662, 'learning_rate': 'adaptive', 'eta0': 0.0008775228233492432}. Best is trial 12 with value: 0.6402366863905326.\n",
      "[I 2024-02-23 14:56:55,810] Trial 56 finished with value: 0.6402366863905324 and parameters: {'loss': 'squared_hinge', 'penalty': 'elasticnet', 'alpha': 3.154405537556414e-06, 'learning_rate': 'adaptive', 'eta0': 0.0021179364445815343}. Best is trial 12 with value: 0.6402366863905326.\n",
      "[I 2024-02-23 14:56:58,731] Trial 57 finished with value: 0.6414201183431951 and parameters: {'loss': 'squared_hinge', 'penalty': 'l2', 'alpha': 0.0006906327812424678, 'learning_rate': 'adaptive', 'eta0': 0.004159905231008274}. Best is trial 57 with value: 0.6414201183431951.\n",
      "[I 2024-02-23 14:57:01,832] Trial 58 finished with value: 0.642603550295858 and parameters: {'loss': 'squared_hinge', 'penalty': 'l2', 'alpha': 2.7616571024226938e-06, 'learning_rate': 'adaptive', 'eta0': 0.00461086024328032}. Best is trial 58 with value: 0.642603550295858.\n",
      "[I 2024-02-23 14:57:04,925] Trial 59 finished with value: 0.6437869822485207 and parameters: {'loss': 'squared_hinge', 'penalty': 'l2', 'alpha': 3.320710986324315e-06, 'learning_rate': 'adaptive', 'eta0': 0.00438133371029827}. Best is trial 59 with value: 0.6437869822485207.\n",
      "[I 2024-02-23 14:57:05,361] Trial 60 finished with value: 0.21183431952662723 and parameters: {'loss': 'squared_hinge', 'penalty': 'l2', 'alpha': 4.318127424023731e-06, 'learning_rate': 'invscaling', 'eta0': 0.0045700892913599425}. Best is trial 59 with value: 0.6437869822485207.\n",
      "[I 2024-02-23 14:57:08,133] Trial 61 finished with value: 0.6449704142011834 and parameters: {'loss': 'squared_hinge', 'penalty': 'l2', 'alpha': 2.3555193064698493e-06, 'learning_rate': 'adaptive', 'eta0': 0.007887094167831584}. Best is trial 61 with value: 0.6449704142011834.\n",
      "[I 2024-02-23 14:57:10,957] Trial 62 finished with value: 0.6461538461538462 and parameters: {'loss': 'squared_hinge', 'penalty': 'l2', 'alpha': 2.6545371602330262e-06, 'learning_rate': 'adaptive', 'eta0': 0.007698135990041223}. Best is trial 62 with value: 0.6461538461538462.\n",
      "[I 2024-02-23 14:57:13,668] Trial 63 finished with value: 0.6402366863905324 and parameters: {'loss': 'squared_hinge', 'penalty': 'l2', 'alpha': 1.0019152643615249e-06, 'learning_rate': 'adaptive', 'eta0': 0.00876192414608011}. Best is trial 62 with value: 0.6461538461538462.\n",
      "[I 2024-02-23 14:57:16,542] Trial 64 finished with value: 0.6437869822485207 and parameters: {'loss': 'squared_hinge', 'penalty': 'l2', 'alpha': 2.2221949881261483e-06, 'learning_rate': 'adaptive', 'eta0': 0.006776554100679505}. Best is trial 62 with value: 0.6461538461538462.\n",
      "[I 2024-02-23 14:57:19,357] Trial 65 finished with value: 0.642603550295858 and parameters: {'loss': 'squared_hinge', 'penalty': 'l2', 'alpha': 2.6545418136934685e-06, 'learning_rate': 'adaptive', 'eta0': 0.007390816994505168}. Best is trial 62 with value: 0.6461538461538462.\n",
      "[I 2024-02-23 14:57:22,141] Trial 66 finished with value: 0.6449704142011834 and parameters: {'loss': 'squared_hinge', 'penalty': 'l2', 'alpha': 2.5613264053668994e-06, 'learning_rate': 'adaptive', 'eta0': 0.007921396892606392}. Best is trial 62 with value: 0.6461538461538462.\n",
      "[I 2024-02-23 14:57:22,673] Trial 67 finished with value: 0.5822485207100592 and parameters: {'loss': 'squared_hinge', 'penalty': 'l2', 'alpha': 2.8308852509923897e-06, 'learning_rate': 'optimal', 'eta0': 0.018315228347967154}. Best is trial 62 with value: 0.6461538461538462.\n",
      "[I 2024-02-23 14:57:25,435] Trial 68 finished with value: 0.6449704142011834 and parameters: {'loss': 'squared_hinge', 'penalty': 'l2', 'alpha': 1.923972865332898e-06, 'learning_rate': 'adaptive', 'eta0': 0.007984988369010196}. Best is trial 62 with value: 0.6461538461538462.\n",
      "[I 2024-02-23 14:57:27,354] Trial 69 finished with value: 0.6378698224852071 and parameters: {'loss': 'squared_hinge', 'penalty': 'l2', 'alpha': 5.538329516512447e-06, 'learning_rate': 'constant', 'eta0': 0.01299119478567728}. Best is trial 62 with value: 0.6461538461538462.\n",
      "[I 2024-02-23 14:57:30,332] Trial 70 finished with value: 0.642603550295858 and parameters: {'loss': 'squared_hinge', 'penalty': 'l2', 'alpha': 1.8976081721257722e-06, 'learning_rate': 'adaptive', 'eta0': 0.00568235854222267}. Best is trial 62 with value: 0.6461538461538462.\n",
      "[I 2024-02-23 14:57:33,162] Trial 71 finished with value: 0.6461538461538462 and parameters: {'loss': 'squared_hinge', 'penalty': 'l2', 'alpha': 2.0000114129509014e-06, 'learning_rate': 'adaptive', 'eta0': 0.007693697022145743}. Best is trial 62 with value: 0.6461538461538462.\n",
      "[I 2024-02-23 14:57:35,759] Trial 72 finished with value: 0.6343195266272189 and parameters: {'loss': 'squared_hinge', 'penalty': 'l2', 'alpha': 1.0334385120388943e-06, 'learning_rate': 'adaptive', 'eta0': 0.009977625565760845}. Best is trial 62 with value: 0.6461538461538462.\n",
      "[I 2024-02-23 14:57:38,265] Trial 73 finished with value: 0.6319526627218935 and parameters: {'loss': 'squared_hinge', 'penalty': 'l2', 'alpha': 1.5890867701116983e-06, 'learning_rate': 'adaptive', 'eta0': 0.015303533813411315}. Best is trial 62 with value: 0.6461538461538462.\n",
      "[I 2024-02-23 14:57:40,603] Trial 74 finished with value: 0.6343195266272189 and parameters: {'loss': 'squared_hinge', 'penalty': 'l2', 'alpha': 3.675053250274435e-06, 'learning_rate': 'adaptive', 'eta0': 0.03845990255031534}. Best is trial 62 with value: 0.6461538461538462.\n",
      "[I 2024-02-23 14:57:43,466] Trial 75 finished with value: 0.642603550295858 and parameters: {'loss': 'squared_hinge', 'penalty': 'l2', 'alpha': 5.489197794074045e-06, 'learning_rate': 'adaptive', 'eta0': 0.0069555067326768924}. Best is trial 62 with value: 0.6461538461538462.\n",
      "[I 2024-02-23 14:57:46,091] Trial 76 finished with value: 0.6331360946745562 and parameters: {'loss': 'squared_hinge', 'penalty': 'l2', 'alpha': 2.0015487821510132e-06, 'learning_rate': 'adaptive', 'eta0': 0.010652745235428104}. Best is trial 62 with value: 0.6461538461538462.\n",
      "[I 2024-02-23 14:57:49,060] Trial 77 finished with value: 0.642603550295858 and parameters: {'loss': 'squared_hinge', 'penalty': 'l2', 'alpha': 1.2169108223472496e-05, 'learning_rate': 'adaptive', 'eta0': 0.005725439378179114}. Best is trial 62 with value: 0.6461538461538462.\n",
      "[I 2024-02-23 14:57:51,629] Trial 78 finished with value: 0.6355029585798817 and parameters: {'loss': 'squared_hinge', 'penalty': 'l2', 'alpha': 6.712234488232065e-06, 'learning_rate': 'adaptive', 'eta0': 0.016325517713274177}. Best is trial 62 with value: 0.6461538461538462.\n",
      "[I 2024-02-23 14:57:52,106] Trial 79 finished with value: 0.5857988165680472 and parameters: {'loss': 'squared_hinge', 'penalty': 'l2', 'alpha': 1.4085252336433864e-06, 'learning_rate': 'optimal', 'eta0': 0.003499540185077609}. Best is trial 62 with value: 0.6461538461538462.\n",
      "[I 2024-02-23 14:57:54,859] Trial 80 finished with value: 0.642603550295858 and parameters: {'loss': 'squared_hinge', 'penalty': 'l2', 'alpha': 2.430315773822764e-06, 'learning_rate': 'adaptive', 'eta0': 0.00811692482713877}. Best is trial 62 with value: 0.6461538461538462.\n",
      "[I 2024-02-23 14:57:57,610] Trial 81 finished with value: 0.6414201183431952 and parameters: {'loss': 'squared_hinge', 'penalty': 'l2', 'alpha': 2.5728819742460055e-06, 'learning_rate': 'adaptive', 'eta0': 0.008217199333106547}. Best is trial 62 with value: 0.6461538461538462.\n",
      "[I 2024-02-23 14:58:00,648] Trial 82 finished with value: 0.642603550295858 and parameters: {'loss': 'squared_hinge', 'penalty': 'l2', 'alpha': 3.8508681764401255e-06, 'learning_rate': 'adaptive', 'eta0': 0.004964472238746803}. Best is trial 62 with value: 0.6461538461538462.\n",
      "[I 2024-02-23 14:58:03,468] Trial 83 finished with value: 0.642603550295858 and parameters: {'loss': 'squared_hinge', 'penalty': 'l2', 'alpha': 1.380838881624293e-06, 'learning_rate': 'adaptive', 'eta0': 0.007401712702687876}. Best is trial 62 with value: 0.6461538461538462.\n",
      "[I 2024-02-23 14:58:06,043] Trial 84 finished with value: 0.6378698224852071 and parameters: {'loss': 'squared_hinge', 'penalty': 'l2', 'alpha': 5.125158506394291e-06, 'learning_rate': 'adaptive', 'eta0': 0.011786116181366664}. Best is trial 62 with value: 0.6461538461538462.\n",
      "[I 2024-02-23 14:58:09,045] Trial 85 finished with value: 0.6437869822485207 and parameters: {'loss': 'squared_hinge', 'penalty': 'l2', 'alpha': 2.3920214389107398e-06, 'learning_rate': 'adaptive', 'eta0': 0.005220901932982213}. Best is trial 62 with value: 0.6461538461538462.\n",
      "[I 2024-02-23 14:58:12,046] Trial 86 finished with value: 0.6426035502958579 and parameters: {'loss': 'squared_hinge', 'penalty': 'l2', 'alpha': 1.1793631179450648e-06, 'learning_rate': 'adaptive', 'eta0': 0.005390028730477817}. Best is trial 62 with value: 0.6461538461538462.\n",
      "[I 2024-02-23 14:58:12,560] Trial 87 finished with value: 0.21183431952662723 and parameters: {'loss': 'squared_hinge', 'penalty': 'l2', 'alpha': 1.9734857758370485e-06, 'learning_rate': 'invscaling', 'eta0': 0.003672108553247853}. Best is trial 62 with value: 0.6461538461538462.\n",
      "[I 2024-02-23 14:58:12,678] Trial 88 finished with value: 0.5301775147928994 and parameters: {'loss': 'perceptron', 'penalty': 'l2', 'alpha': 3.538437461801765e-06, 'learning_rate': 'constant', 'eta0': 0.010065546956304615}. Best is trial 62 with value: 0.6461538461538462.\n",
      "[I 2024-02-23 14:58:15,991] Trial 89 finished with value: 0.634319526627219 and parameters: {'loss': 'log_loss', 'penalty': 'l2', 'alpha': 9.489498668664933e-06, 'learning_rate': 'adaptive', 'eta0': 0.029003779258033557}. Best is trial 62 with value: 0.6461538461538462.\n",
      "[I 2024-02-23 14:58:19,351] Trial 90 finished with value: 0.6319526627218935 and parameters: {'loss': 'squared_hinge', 'penalty': 'l2', 'alpha': 6.390683497316898e-06, 'learning_rate': 'adaptive', 'eta0': 0.0014956649773087225}. Best is trial 62 with value: 0.6461538461538462.\n",
      "[I 2024-02-23 14:58:22,240] Trial 91 finished with value: 0.6449704142011835 and parameters: {'loss': 'squared_hinge', 'penalty': 'l2', 'alpha': 2.3835180322120584e-06, 'learning_rate': 'adaptive', 'eta0': 0.006491974650039931}. Best is trial 62 with value: 0.6461538461538462.\n",
      "[I 2024-02-23 14:58:25,343] Trial 92 finished with value: 0.6426035502958579 and parameters: {'loss': 'squared_hinge', 'penalty': 'l2', 'alpha': 1.6417849965952658e-06, 'learning_rate': 'adaptive', 'eta0': 0.004538160810101424}. Best is trial 62 with value: 0.6461538461538462.\n",
      "[I 2024-02-23 14:58:28,566] Trial 93 finished with value: 0.642603550295858 and parameters: {'loss': 'squared_hinge', 'penalty': 'l2', 'alpha': 2.3653172483806027e-06, 'learning_rate': 'adaptive', 'eta0': 0.0031381615495628882}. Best is trial 62 with value: 0.6461538461538462.\n",
      "[I 2024-02-23 14:58:31,451] Trial 94 finished with value: 0.6437869822485207 and parameters: {'loss': 'squared_hinge', 'penalty': 'l2', 'alpha': 4.437910708194503e-06, 'learning_rate': 'adaptive', 'eta0': 0.006727163601079937}. Best is trial 62 with value: 0.6461538461538462.\n",
      "[I 2024-02-23 14:58:34,407] Trial 95 finished with value: 0.6402366863905326 and parameters: {'loss': 'squared_hinge', 'penalty': 'l2', 'alpha': 4.309779516059477e-06, 'learning_rate': 'adaptive', 'eta0': 0.006365176496213275}. Best is trial 62 with value: 0.6461538461538462.\n",
      "[I 2024-02-23 14:58:36,943] Trial 96 finished with value: 0.6355029585798817 and parameters: {'loss': 'squared_hinge', 'penalty': 'l2', 'alpha': 1.435943922872648e-05, 'learning_rate': 'adaptive', 'eta0': 0.012749283322758148}. Best is trial 62 with value: 0.6461538461538462.\n",
      "[I 2024-02-23 14:58:39,566] Trial 97 finished with value: 0.6355029585798817 and parameters: {'loss': 'squared_hinge', 'penalty': 'l2', 'alpha': 1.3296323442640159e-06, 'learning_rate': 'adaptive', 'eta0': 0.009405206695751607}. Best is trial 62 with value: 0.6461538461538462.\n",
      "[I 2024-02-23 14:58:42,097] Trial 98 finished with value: 0.6414201183431953 and parameters: {'loss': 'squared_hinge', 'penalty': 'l2', 'alpha': 7.405382681005497e-06, 'learning_rate': 'adaptive', 'eta0': 0.01825036599468478}. Best is trial 62 with value: 0.6461538461538462.\n",
      "[I 2024-02-23 14:58:45,072] Trial 99 finished with value: 0.642603550295858 and parameters: {'loss': 'squared_hinge', 'penalty': 'l2', 'alpha': 3.410501360698341e-06, 'learning_rate': 'adaptive', 'eta0': 0.00562905910748539}. Best is trial 62 with value: 0.6461538461538462.\n"
     ]
    },
    {
     "name": "stdout",
     "output_type": "stream",
     "text": [
      "Best trial: {'loss': 'squared_hinge', 'penalty': 'l2', 'alpha': 2.6545371602330262e-06, 'learning_rate': 'adaptive', 'eta0': 0.007698135990041223}\n"
     ]
    }
   ],
   "source": [
    "import optuna\n",
    "from sklearn.model_selection import cross_val_score\n",
    "\n",
    "\n",
    "def objective(trial):\n",
    "    # Hyperparameters to tune\n",
    "    loss = trial.suggest_categorical('loss', ['hinge', 'log_loss', 'squared_hinge', 'perceptron'])\n",
    "    penalty = trial.suggest_categorical('penalty', ['l2', 'l1', 'elasticnet'])\n",
    "    alpha = trial.suggest_float('alpha', 1e-6, 1e-1, log=True)\n",
    "    learning_rate = trial.suggest_categorical('learning_rate', ['constant', 'optimal', 'invscaling', 'adaptive'])\n",
    "    eta0 = trial.suggest_float('eta0', 1e-5, 1e-1, log=True)  # Only relevant for certain learning rates\n",
    "\n",
    "    # Create and train the SGD Classifier\n",
    "    model = SGDClassifier(loss=loss, penalty=penalty, alpha=alpha, learning_rate=learning_rate, eta0=eta0,\n",
    "                          random_state=42)\n",
    "    model.fit(X_train, y_train)\n",
    "\n",
    "    # Perform cross-validation and return the mean score\n",
    "    scores = cross_val_score(model, X_train, y_train, cv=5)  # cv=5 for 5-fold cross-validation\n",
    "    return scores.mean()\n",
    "\n",
    "\n",
    "# Create a study object and specify the optimization direction\n",
    "study = optuna.create_study(direction='maximize')\n",
    "study.optimize(objective, n_trials=100)  # Adjust the number of trials as needed\n",
    "\n",
    "# Best hyperparameters\n",
    "print('Best trial:', study.best_trial.params)"
   ],
   "metadata": {
    "collapsed": false,
    "ExecuteTime": {
     "end_time": "2024-02-23T12:58:45.075343400Z",
     "start_time": "2024-02-23T12:55:04.576219Z"
    }
   },
   "id": "4477cdb859019617",
   "execution_count": 57
  },
  {
   "cell_type": "markdown",
   "source": [
    "We notice that the SGD model gave the best accuracy of 0.65, which is the highest among the models we have tried so far.\n",
    "\n",
    "So, we will get the best hyperparameters for the model and use them to train the model again, for later use."
   ],
   "metadata": {
    "collapsed": false
   },
   "id": "68f9ee6d9062ffe6"
  },
  {
   "cell_type": "code",
   "outputs": [],
   "source": [
    "best_params = study.best_trial.params\n",
    "sgd_model = SGDClassifier(**best_params, random_state=42)\n",
    "sgd_model.fit(X_train, y_train)"
   ],
   "metadata": {
    "collapsed": false
   },
   "id": "114f2bb29b45ae2d"
  },
  {
   "cell_type": "markdown",
   "source": [
    "### Multi-class Naive Bayes\n",
    "\n",
    "It is known that Naive Bayes is a simple and effective algorithm for classification for NLP tasks. \n",
    "Let's now train a multi-class Naive Bayes model on the embeddings and the class, to see how it performs."
   ],
   "metadata": {
    "collapsed": false
   },
   "id": "5fab4ff2e2e09606"
  },
  {
   "cell_type": "code",
   "outputs": [
    {
     "name": "stdout",
     "output_type": "stream",
     "text": [
      "              precision    recall  f1-score   support\n",
      "\n",
      "           0       0.74      0.70      0.72        44\n",
      "           1       0.55      0.53      0.54        30\n",
      "           2       0.58      0.45      0.51        31\n",
      "           3       0.74      0.85      0.79        27\n",
      "           4       0.51      0.61      0.56        31\n",
      "           5       0.61      0.61      0.61        49\n",
      "\n",
      "    accuracy                           0.63       212\n",
      "   macro avg       0.62      0.63      0.62       212\n",
      "weighted avg       0.63      0.63      0.63       212\n"
     ]
    }
   ],
   "source": [
    "from sklearn.naive_bayes import GaussianNB\n",
    "\n",
    "model = GaussianNB()\n",
    "model.fit(X_train, y_train)\n",
    "\n",
    "# Generate classification report\n",
    "y_pred = model.predict(X_test)\n",
    "print(metrics.classification_report(y_test, y_pred))"
   ],
   "metadata": {
    "collapsed": false,
    "ExecuteTime": {
     "end_time": "2024-02-22T00:02:04.765241900Z",
     "start_time": "2024-02-22T00:02:04.749418400Z"
    }
   },
   "id": "fa13a14098b3636c",
   "execution_count": 68
  },
  {
   "cell_type": "markdown",
   "source": [
    "We can see that the Naive Bayes model has an accuracy of 0.63, which does not differ much from the logistic regression model.\n",
    "So there is no need to use `optuna` to find the best hyperparameters for the model."
   ],
   "metadata": {
    "collapsed": false
   },
   "id": "e859bc93b6dcd506"
  },
  {
   "cell_type": "markdown",
   "source": [
    "### Multi-class Random Forest\n",
    "\n",
    "Let's now train a multi-class Random Forest model on the embeddings and the class."
   ],
   "metadata": {
    "collapsed": false
   },
   "id": "8c9e62a3e6912a48"
  },
  {
   "cell_type": "code",
   "outputs": [
    {
     "name": "stdout",
     "output_type": "stream",
     "text": [
      "              precision    recall  f1-score   support\n",
      "\n",
      "           0       0.67      0.66      0.67        44\n",
      "           1       0.61      0.47      0.53        30\n",
      "           2       0.86      0.39      0.53        31\n",
      "           3       0.77      0.63      0.69        27\n",
      "           4       0.56      0.77      0.65        31\n",
      "           5       0.52      0.71      0.60        49\n",
      "\n",
      "    accuracy                           0.62       212\n",
      "   macro avg       0.67      0.61      0.61       212\n",
      "weighted avg       0.65      0.62      0.61       212\n"
     ]
    }
   ],
   "source": [
    "from sklearn.ensemble import RandomForestClassifier\n",
    "\n",
    "model = RandomForestClassifier(n_estimators=1000, n_jobs=-1, random_state=15,\n",
    "                               max_depth=100, min_samples_split=2, min_samples_leaf=1, max_features='sqrt')\n",
    "model.fit(X_train, y_train)\n",
    "\n",
    "# Generate classification report\n",
    "y_pred = model.predict(X_test)\n",
    "print(metrics.classification_report(y_test, y_pred))"
   ],
   "metadata": {
    "collapsed": false,
    "ExecuteTime": {
     "end_time": "2024-02-21T23:59:20.973163800Z",
     "start_time": "2024-02-21T23:59:19.524753300Z"
    }
   },
   "id": "a8fc25a6a41a309b",
   "execution_count": 58
  },
  {
   "cell_type": "markdown",
   "source": [
    "### Multi-class CatBoost\n",
    "\n",
    "Having tried the above models, let us now proceed to more advanced models such as CatBoost, \n",
    "which is a gradient boosting library that is known to perform well on tabular data, to see how it performs \n",
    "and if it can outperform the other models."
   ],
   "metadata": {
    "collapsed": false
   },
   "id": "28cda8d8bf460600"
  },
  {
   "cell_type": "code",
   "outputs": [
    {
     "name": "stdout",
     "output_type": "stream",
     "text": [
      "Learning rate set to 0.134538\n",
      "0:\tlearn: 1.7228745\ttotal: 25.9ms\tremaining: 10.3s\n",
      "1:\tlearn: 1.6604869\ttotal: 47.1ms\tremaining: 9.37s\n",
      "2:\tlearn: 1.6080402\ttotal: 68.8ms\tremaining: 9.11s\n",
      "3:\tlearn: 1.5585689\ttotal: 89.7ms\tremaining: 8.88s\n",
      "4:\tlearn: 1.5091478\ttotal: 110ms\tremaining: 8.72s\n",
      "5:\tlearn: 1.4662697\ttotal: 131ms\tremaining: 8.62s\n",
      "6:\tlearn: 1.4287979\ttotal: 152ms\tremaining: 8.52s\n",
      "7:\tlearn: 1.3910584\ttotal: 173ms\tremaining: 8.46s\n",
      "8:\tlearn: 1.3552419\ttotal: 194ms\tremaining: 8.41s\n",
      "9:\tlearn: 1.3165946\ttotal: 214ms\tremaining: 8.36s\n",
      "10:\tlearn: 1.2851901\ttotal: 235ms\tremaining: 8.32s\n",
      "11:\tlearn: 1.2504925\ttotal: 257ms\tremaining: 8.31s\n",
      "12:\tlearn: 1.2190597\ttotal: 279ms\tremaining: 8.31s\n",
      "13:\tlearn: 1.1924688\ttotal: 301ms\tremaining: 8.29s\n",
      "14:\tlearn: 1.1640413\ttotal: 323ms\tremaining: 8.3s\n",
      "15:\tlearn: 1.1362085\ttotal: 346ms\tremaining: 8.29s\n",
      "16:\tlearn: 1.1100424\ttotal: 367ms\tremaining: 8.27s\n",
      "17:\tlearn: 1.0878752\ttotal: 388ms\tremaining: 8.22s\n",
      "18:\tlearn: 1.0624523\ttotal: 408ms\tremaining: 8.19s\n",
      "19:\tlearn: 1.0358713\ttotal: 429ms\tremaining: 8.16s\n",
      "20:\tlearn: 1.0105685\ttotal: 451ms\tremaining: 8.14s\n",
      "21:\tlearn: 0.9889355\ttotal: 471ms\tremaining: 8.1s\n",
      "22:\tlearn: 0.9693468\ttotal: 492ms\tremaining: 8.07s\n",
      "23:\tlearn: 0.9472586\ttotal: 513ms\tremaining: 8.04s\n",
      "24:\tlearn: 0.9278074\ttotal: 535ms\tremaining: 8.02s\n",
      "25:\tlearn: 0.9062782\ttotal: 556ms\tremaining: 7.99s\n",
      "26:\tlearn: 0.8873076\ttotal: 576ms\tremaining: 7.96s\n",
      "27:\tlearn: 0.8661164\ttotal: 597ms\tremaining: 7.94s\n",
      "28:\tlearn: 0.8476778\ttotal: 619ms\tremaining: 7.92s\n",
      "29:\tlearn: 0.8313398\ttotal: 640ms\tremaining: 7.89s\n",
      "30:\tlearn: 0.8165745\ttotal: 660ms\tremaining: 7.85s\n",
      "31:\tlearn: 0.8015096\ttotal: 681ms\tremaining: 7.84s\n",
      "32:\tlearn: 0.7840770\ttotal: 704ms\tremaining: 7.82s\n",
      "33:\tlearn: 0.7662083\ttotal: 725ms\tremaining: 7.8s\n",
      "34:\tlearn: 0.7498120\ttotal: 746ms\tremaining: 7.78s\n",
      "35:\tlearn: 0.7370386\ttotal: 766ms\tremaining: 7.74s\n",
      "36:\tlearn: 0.7256692\ttotal: 787ms\tremaining: 7.72s\n",
      "37:\tlearn: 0.7139216\ttotal: 804ms\tremaining: 7.66s\n",
      "38:\tlearn: 0.6983130\ttotal: 826ms\tremaining: 7.64s\n",
      "39:\tlearn: 0.6876474\ttotal: 846ms\tremaining: 7.61s\n",
      "40:\tlearn: 0.6749084\ttotal: 867ms\tremaining: 7.59s\n",
      "41:\tlearn: 0.6631446\ttotal: 887ms\tremaining: 7.56s\n",
      "42:\tlearn: 0.6547389\ttotal: 907ms\tremaining: 7.53s\n",
      "43:\tlearn: 0.6416111\ttotal: 928ms\tremaining: 7.51s\n",
      "44:\tlearn: 0.6300260\ttotal: 950ms\tremaining: 7.49s\n",
      "45:\tlearn: 0.6227455\ttotal: 968ms\tremaining: 7.45s\n",
      "46:\tlearn: 0.6116992\ttotal: 985ms\tremaining: 7.4s\n",
      "47:\tlearn: 0.6017839\ttotal: 1s\tremaining: 7.37s\n",
      "48:\tlearn: 0.5913679\ttotal: 1.03s\tremaining: 7.36s\n",
      "49:\tlearn: 0.5811772\ttotal: 1.05s\tremaining: 7.33s\n",
      "50:\tlearn: 0.5744012\ttotal: 1.06s\tremaining: 7.29s\n",
      "51:\tlearn: 0.5661624\ttotal: 1.09s\tremaining: 7.27s\n",
      "52:\tlearn: 0.5583602\ttotal: 1.1s\tremaining: 7.23s\n",
      "53:\tlearn: 0.5498467\ttotal: 1.12s\tremaining: 7.21s\n",
      "54:\tlearn: 0.5410277\ttotal: 1.15s\tremaining: 7.19s\n",
      "55:\tlearn: 0.5344122\ttotal: 1.17s\tremaining: 7.16s\n",
      "56:\tlearn: 0.5256119\ttotal: 1.19s\tremaining: 7.14s\n",
      "57:\tlearn: 0.5168590\ttotal: 1.21s\tremaining: 7.11s\n",
      "58:\tlearn: 0.5090309\ttotal: 1.22s\tremaining: 7.08s\n",
      "59:\tlearn: 0.5007300\ttotal: 1.24s\tremaining: 7.05s\n",
      "60:\tlearn: 0.4930892\ttotal: 1.26s\tremaining: 7.02s\n",
      "61:\tlearn: 0.4862400\ttotal: 1.28s\tremaining: 7s\n",
      "62:\tlearn: 0.4796660\ttotal: 1.3s\tremaining: 6.97s\n",
      "63:\tlearn: 0.4744049\ttotal: 1.32s\tremaining: 6.93s\n",
      "64:\tlearn: 0.4672496\ttotal: 1.34s\tremaining: 6.91s\n",
      "65:\tlearn: 0.4599536\ttotal: 1.36s\tremaining: 6.9s\n",
      "66:\tlearn: 0.4526283\ttotal: 1.38s\tremaining: 6.88s\n",
      "67:\tlearn: 0.4464831\ttotal: 1.4s\tremaining: 6.85s\n",
      "68:\tlearn: 0.4403173\ttotal: 1.42s\tremaining: 6.83s\n",
      "69:\tlearn: 0.4353264\ttotal: 1.44s\tremaining: 6.79s\n",
      "70:\tlearn: 0.4292748\ttotal: 1.46s\tremaining: 6.77s\n",
      "71:\tlearn: 0.4231607\ttotal: 1.48s\tremaining: 6.74s\n",
      "72:\tlearn: 0.4173319\ttotal: 1.5s\tremaining: 6.71s\n",
      "73:\tlearn: 0.4120874\ttotal: 1.52s\tremaining: 6.69s\n",
      "74:\tlearn: 0.4075504\ttotal: 1.54s\tremaining: 6.66s\n",
      "75:\tlearn: 0.4036470\ttotal: 1.55s\tremaining: 6.63s\n",
      "76:\tlearn: 0.3971942\ttotal: 1.58s\tremaining: 6.61s\n",
      "77:\tlearn: 0.3923635\ttotal: 1.59s\tremaining: 6.59s\n",
      "78:\tlearn: 0.3871207\ttotal: 1.62s\tremaining: 6.57s\n",
      "79:\tlearn: 0.3824068\ttotal: 1.64s\tremaining: 6.54s\n",
      "80:\tlearn: 0.3781196\ttotal: 1.65s\tremaining: 6.52s\n",
      "81:\tlearn: 0.3720005\ttotal: 1.67s\tremaining: 6.49s\n",
      "82:\tlearn: 0.3662377\ttotal: 1.69s\tremaining: 6.47s\n",
      "83:\tlearn: 0.3621305\ttotal: 1.71s\tremaining: 6.44s\n",
      "84:\tlearn: 0.3580423\ttotal: 1.73s\tremaining: 6.41s\n",
      "85:\tlearn: 0.3542212\ttotal: 1.75s\tremaining: 6.39s\n",
      "86:\tlearn: 0.3493992\ttotal: 1.77s\tremaining: 6.37s\n",
      "87:\tlearn: 0.3446388\ttotal: 1.79s\tremaining: 6.35s\n",
      "88:\tlearn: 0.3398332\ttotal: 1.81s\tremaining: 6.33s\n",
      "89:\tlearn: 0.3350392\ttotal: 1.83s\tremaining: 6.31s\n",
      "90:\tlearn: 0.3310729\ttotal: 1.85s\tremaining: 6.29s\n",
      "91:\tlearn: 0.3277042\ttotal: 1.87s\tremaining: 6.25s\n",
      "92:\tlearn: 0.3239233\ttotal: 1.89s\tremaining: 6.23s\n",
      "93:\tlearn: 0.3200518\ttotal: 1.91s\tremaining: 6.21s\n",
      "94:\tlearn: 0.3159525\ttotal: 1.93s\tremaining: 6.19s\n",
      "95:\tlearn: 0.3117227\ttotal: 1.95s\tremaining: 6.17s\n",
      "96:\tlearn: 0.3078341\ttotal: 1.97s\tremaining: 6.14s\n",
      "97:\tlearn: 0.3037615\ttotal: 1.99s\tremaining: 6.13s\n",
      "98:\tlearn: 0.3009603\ttotal: 2.01s\tremaining: 6.11s\n",
      "99:\tlearn: 0.2972008\ttotal: 2.03s\tremaining: 6.08s\n",
      "100:\tlearn: 0.2940256\ttotal: 2.04s\tremaining: 6.05s\n",
      "101:\tlearn: 0.2912744\ttotal: 2.06s\tremaining: 6.03s\n",
      "102:\tlearn: 0.2874840\ttotal: 2.08s\tremaining: 6s\n",
      "103:\tlearn: 0.2851025\ttotal: 2.1s\tremaining: 5.97s\n",
      "104:\tlearn: 0.2817369\ttotal: 2.12s\tremaining: 5.96s\n",
      "105:\tlearn: 0.2787950\ttotal: 2.14s\tremaining: 5.93s\n",
      "106:\tlearn: 0.2753153\ttotal: 2.16s\tremaining: 5.91s\n",
      "107:\tlearn: 0.2726117\ttotal: 2.18s\tremaining: 5.89s\n",
      "108:\tlearn: 0.2700277\ttotal: 2.2s\tremaining: 5.86s\n",
      "109:\tlearn: 0.2671003\ttotal: 2.22s\tremaining: 5.84s\n",
      "110:\tlearn: 0.2641920\ttotal: 2.24s\tremaining: 5.82s\n",
      "111:\tlearn: 0.2622460\ttotal: 2.25s\tremaining: 5.8s\n",
      "112:\tlearn: 0.2597229\ttotal: 2.27s\tremaining: 5.77s\n",
      "113:\tlearn: 0.2567605\ttotal: 2.29s\tremaining: 5.75s\n",
      "114:\tlearn: 0.2538125\ttotal: 2.31s\tremaining: 5.74s\n",
      "115:\tlearn: 0.2512457\ttotal: 2.33s\tremaining: 5.72s\n",
      "116:\tlearn: 0.2493987\ttotal: 2.35s\tremaining: 5.69s\n",
      "117:\tlearn: 0.2470901\ttotal: 2.37s\tremaining: 5.67s\n",
      "118:\tlearn: 0.2436367\ttotal: 2.39s\tremaining: 5.64s\n",
      "119:\tlearn: 0.2412490\ttotal: 2.41s\tremaining: 5.62s\n",
      "120:\tlearn: 0.2382601\ttotal: 2.43s\tremaining: 5.6s\n",
      "121:\tlearn: 0.2358525\ttotal: 2.45s\tremaining: 5.57s\n",
      "122:\tlearn: 0.2335635\ttotal: 2.46s\tremaining: 5.55s\n",
      "123:\tlearn: 0.2313625\ttotal: 2.48s\tremaining: 5.53s\n",
      "124:\tlearn: 0.2298685\ttotal: 2.5s\tremaining: 5.5s\n",
      "125:\tlearn: 0.2276978\ttotal: 2.52s\tremaining: 5.48s\n",
      "126:\tlearn: 0.2262614\ttotal: 2.54s\tremaining: 5.45s\n",
      "127:\tlearn: 0.2237244\ttotal: 2.55s\tremaining: 5.43s\n",
      "128:\tlearn: 0.2216352\ttotal: 2.57s\tremaining: 5.41s\n",
      "129:\tlearn: 0.2196897\ttotal: 2.59s\tremaining: 5.38s\n",
      "130:\tlearn: 0.2182188\ttotal: 2.61s\tremaining: 5.36s\n",
      "131:\tlearn: 0.2159438\ttotal: 2.63s\tremaining: 5.33s\n",
      "132:\tlearn: 0.2135043\ttotal: 2.65s\tremaining: 5.31s\n",
      "133:\tlearn: 0.2115320\ttotal: 2.67s\tremaining: 5.3s\n",
      "134:\tlearn: 0.2094532\ttotal: 2.69s\tremaining: 5.27s\n",
      "135:\tlearn: 0.2079651\ttotal: 2.71s\tremaining: 5.25s\n",
      "136:\tlearn: 0.2062597\ttotal: 2.72s\tremaining: 5.23s\n",
      "137:\tlearn: 0.2040880\ttotal: 2.74s\tremaining: 5.21s\n",
      "138:\tlearn: 0.2021655\ttotal: 2.76s\tremaining: 5.18s\n",
      "139:\tlearn: 0.2006026\ttotal: 2.77s\tremaining: 5.16s\n",
      "140:\tlearn: 0.1985812\ttotal: 2.79s\tremaining: 5.13s\n",
      "141:\tlearn: 0.1965836\ttotal: 2.81s\tremaining: 5.11s\n",
      "142:\tlearn: 0.1948308\ttotal: 2.83s\tremaining: 5.08s\n",
      "143:\tlearn: 0.1927285\ttotal: 2.85s\tremaining: 5.07s\n",
      "144:\tlearn: 0.1907884\ttotal: 2.87s\tremaining: 5.05s\n",
      "145:\tlearn: 0.1892524\ttotal: 2.89s\tremaining: 5.03s\n",
      "146:\tlearn: 0.1876610\ttotal: 2.91s\tremaining: 5.01s\n",
      "147:\tlearn: 0.1858838\ttotal: 2.93s\tremaining: 4.99s\n",
      "148:\tlearn: 0.1840987\ttotal: 2.95s\tremaining: 4.96s\n",
      "149:\tlearn: 0.1826783\ttotal: 2.96s\tremaining: 4.94s\n",
      "150:\tlearn: 0.1809587\ttotal: 2.98s\tremaining: 4.92s\n",
      "151:\tlearn: 0.1793601\ttotal: 3s\tremaining: 4.9s\n",
      "152:\tlearn: 0.1783546\ttotal: 3.02s\tremaining: 4.87s\n",
      "153:\tlearn: 0.1774691\ttotal: 3.04s\tremaining: 4.85s\n",
      "154:\tlearn: 0.1758001\ttotal: 3.05s\tremaining: 4.83s\n",
      "155:\tlearn: 0.1744380\ttotal: 3.07s\tremaining: 4.81s\n",
      "156:\tlearn: 0.1731060\ttotal: 3.09s\tremaining: 4.79s\n",
      "157:\tlearn: 0.1715699\ttotal: 3.11s\tremaining: 4.77s\n",
      "158:\tlearn: 0.1696787\ttotal: 3.13s\tremaining: 4.75s\n",
      "159:\tlearn: 0.1682388\ttotal: 3.15s\tremaining: 4.73s\n",
      "160:\tlearn: 0.1673331\ttotal: 3.17s\tremaining: 4.7s\n",
      "161:\tlearn: 0.1659585\ttotal: 3.19s\tremaining: 4.68s\n",
      "162:\tlearn: 0.1643622\ttotal: 3.2s\tremaining: 4.66s\n",
      "163:\tlearn: 0.1636660\ttotal: 3.22s\tremaining: 4.63s\n",
      "164:\tlearn: 0.1621060\ttotal: 3.24s\tremaining: 4.61s\n",
      "165:\tlearn: 0.1607724\ttotal: 3.26s\tremaining: 4.59s\n",
      "166:\tlearn: 0.1594912\ttotal: 3.27s\tremaining: 4.57s\n",
      "167:\tlearn: 0.1576651\ttotal: 3.3s\tremaining: 4.55s\n",
      "168:\tlearn: 0.1567447\ttotal: 3.31s\tremaining: 4.53s\n",
      "169:\tlearn: 0.1552850\ttotal: 3.33s\tremaining: 4.51s\n",
      "170:\tlearn: 0.1543368\ttotal: 3.35s\tremaining: 4.49s\n",
      "171:\tlearn: 0.1526851\ttotal: 3.37s\tremaining: 4.46s\n",
      "172:\tlearn: 0.1516548\ttotal: 3.39s\tremaining: 4.44s\n",
      "173:\tlearn: 0.1503451\ttotal: 3.4s\tremaining: 4.42s\n",
      "174:\tlearn: 0.1489448\ttotal: 3.42s\tremaining: 4.4s\n",
      "175:\tlearn: 0.1479130\ttotal: 3.44s\tremaining: 4.38s\n",
      "176:\tlearn: 0.1468269\ttotal: 3.46s\tremaining: 4.35s\n",
      "177:\tlearn: 0.1457061\ttotal: 3.48s\tremaining: 4.33s\n",
      "178:\tlearn: 0.1447622\ttotal: 3.49s\tremaining: 4.31s\n",
      "179:\tlearn: 0.1438747\ttotal: 3.51s\tremaining: 4.29s\n",
      "180:\tlearn: 0.1430759\ttotal: 3.53s\tremaining: 4.27s\n",
      "181:\tlearn: 0.1418740\ttotal: 3.55s\tremaining: 4.25s\n",
      "182:\tlearn: 0.1406074\ttotal: 3.57s\tremaining: 4.23s\n",
      "183:\tlearn: 0.1393027\ttotal: 3.59s\tremaining: 4.21s\n",
      "184:\tlearn: 0.1384271\ttotal: 3.61s\tremaining: 4.19s\n",
      "185:\tlearn: 0.1379717\ttotal: 3.62s\tremaining: 4.17s\n",
      "186:\tlearn: 0.1372064\ttotal: 3.64s\tremaining: 4.15s\n",
      "187:\tlearn: 0.1363515\ttotal: 3.66s\tremaining: 4.13s\n",
      "188:\tlearn: 0.1353696\ttotal: 3.68s\tremaining: 4.1s\n",
      "189:\tlearn: 0.1345634\ttotal: 3.69s\tremaining: 4.08s\n",
      "190:\tlearn: 0.1334954\ttotal: 3.71s\tremaining: 4.06s\n",
      "191:\tlearn: 0.1325677\ttotal: 3.73s\tremaining: 4.04s\n",
      "192:\tlearn: 0.1315723\ttotal: 3.75s\tremaining: 4.02s\n",
      "193:\tlearn: 0.1309626\ttotal: 3.76s\tremaining: 4s\n",
      "194:\tlearn: 0.1300535\ttotal: 3.78s\tremaining: 3.98s\n",
      "195:\tlearn: 0.1288905\ttotal: 3.8s\tremaining: 3.96s\n",
      "196:\tlearn: 0.1277924\ttotal: 3.82s\tremaining: 3.94s\n",
      "197:\tlearn: 0.1265409\ttotal: 3.84s\tremaining: 3.92s\n",
      "198:\tlearn: 0.1255739\ttotal: 3.86s\tremaining: 3.9s\n",
      "199:\tlearn: 0.1248684\ttotal: 3.88s\tremaining: 3.88s\n",
      "200:\tlearn: 0.1241837\ttotal: 3.89s\tremaining: 3.86s\n",
      "201:\tlearn: 0.1232042\ttotal: 3.91s\tremaining: 3.83s\n",
      "202:\tlearn: 0.1222603\ttotal: 3.93s\tremaining: 3.81s\n",
      "203:\tlearn: 0.1213459\ttotal: 3.95s\tremaining: 3.79s\n",
      "204:\tlearn: 0.1205817\ttotal: 3.97s\tremaining: 3.78s\n",
      "205:\tlearn: 0.1198251\ttotal: 3.99s\tremaining: 3.76s\n",
      "206:\tlearn: 0.1189689\ttotal: 4.01s\tremaining: 3.74s\n",
      "207:\tlearn: 0.1181024\ttotal: 4.03s\tremaining: 3.72s\n",
      "208:\tlearn: 0.1172190\ttotal: 4.04s\tremaining: 3.69s\n",
      "209:\tlearn: 0.1166187\ttotal: 4.06s\tremaining: 3.67s\n",
      "210:\tlearn: 0.1158746\ttotal: 4.08s\tremaining: 3.65s\n",
      "211:\tlearn: 0.1153167\ttotal: 4.1s\tremaining: 3.63s\n",
      "212:\tlearn: 0.1148056\ttotal: 4.11s\tremaining: 3.61s\n",
      "213:\tlearn: 0.1139654\ttotal: 4.13s\tremaining: 3.59s\n",
      "214:\tlearn: 0.1133325\ttotal: 4.15s\tremaining: 3.57s\n",
      "215:\tlearn: 0.1127448\ttotal: 4.17s\tremaining: 3.55s\n",
      "216:\tlearn: 0.1118552\ttotal: 4.19s\tremaining: 3.53s\n",
      "217:\tlearn: 0.1109735\ttotal: 4.21s\tremaining: 3.51s\n",
      "218:\tlearn: 0.1101663\ttotal: 4.23s\tremaining: 3.49s\n",
      "219:\tlearn: 0.1094057\ttotal: 4.25s\tremaining: 3.47s\n",
      "220:\tlearn: 0.1086842\ttotal: 4.27s\tremaining: 3.46s\n",
      "221:\tlearn: 0.1081635\ttotal: 4.29s\tremaining: 3.44s\n",
      "222:\tlearn: 0.1074615\ttotal: 4.3s\tremaining: 3.42s\n",
      "223:\tlearn: 0.1067836\ttotal: 4.32s\tremaining: 3.4s\n",
      "224:\tlearn: 0.1061558\ttotal: 4.34s\tremaining: 3.38s\n",
      "225:\tlearn: 0.1054296\ttotal: 4.36s\tremaining: 3.36s\n",
      "226:\tlearn: 0.1047350\ttotal: 4.38s\tremaining: 3.34s\n",
      "227:\tlearn: 0.1040358\ttotal: 4.4s\tremaining: 3.32s\n",
      "228:\tlearn: 0.1033799\ttotal: 4.41s\tremaining: 3.3s\n",
      "229:\tlearn: 0.1028751\ttotal: 4.43s\tremaining: 3.28s\n",
      "230:\tlearn: 0.1021686\ttotal: 4.45s\tremaining: 3.26s\n",
      "231:\tlearn: 0.1014326\ttotal: 4.47s\tremaining: 3.23s\n",
      "232:\tlearn: 0.1009049\ttotal: 4.49s\tremaining: 3.21s\n",
      "233:\tlearn: 0.1003008\ttotal: 4.5s\tremaining: 3.19s\n",
      "234:\tlearn: 0.0999129\ttotal: 4.52s\tremaining: 3.17s\n",
      "235:\tlearn: 0.0993210\ttotal: 4.54s\tremaining: 3.15s\n",
      "236:\tlearn: 0.0988379\ttotal: 4.56s\tremaining: 3.13s\n",
      "237:\tlearn: 0.0982119\ttotal: 4.58s\tremaining: 3.11s\n",
      "238:\tlearn: 0.0976786\ttotal: 4.59s\tremaining: 3.1s\n",
      "239:\tlearn: 0.0970612\ttotal: 4.61s\tremaining: 3.08s\n",
      "240:\tlearn: 0.0966120\ttotal: 4.63s\tremaining: 3.06s\n",
      "241:\tlearn: 0.0959420\ttotal: 4.65s\tremaining: 3.04s\n",
      "242:\tlearn: 0.0953684\ttotal: 4.67s\tremaining: 3.02s\n",
      "243:\tlearn: 0.0947231\ttotal: 4.69s\tremaining: 3s\n",
      "244:\tlearn: 0.0942221\ttotal: 4.7s\tremaining: 2.98s\n",
      "245:\tlearn: 0.0936252\ttotal: 4.72s\tremaining: 2.96s\n",
      "246:\tlearn: 0.0930829\ttotal: 4.74s\tremaining: 2.94s\n",
      "247:\tlearn: 0.0926261\ttotal: 4.76s\tremaining: 2.92s\n",
      "248:\tlearn: 0.0920309\ttotal: 4.78s\tremaining: 2.9s\n",
      "249:\tlearn: 0.0913719\ttotal: 4.79s\tremaining: 2.88s\n",
      "250:\tlearn: 0.0908123\ttotal: 4.81s\tremaining: 2.86s\n",
      "251:\tlearn: 0.0901615\ttotal: 4.83s\tremaining: 2.84s\n",
      "252:\tlearn: 0.0895904\ttotal: 4.85s\tremaining: 2.82s\n",
      "253:\tlearn: 0.0889963\ttotal: 4.87s\tremaining: 2.8s\n",
      "254:\tlearn: 0.0884139\ttotal: 4.89s\tremaining: 2.78s\n",
      "255:\tlearn: 0.0880217\ttotal: 4.91s\tremaining: 2.76s\n",
      "256:\tlearn: 0.0875964\ttotal: 4.92s\tremaining: 2.74s\n",
      "257:\tlearn: 0.0870218\ttotal: 4.94s\tremaining: 2.72s\n",
      "258:\tlearn: 0.0865999\ttotal: 4.96s\tremaining: 2.7s\n",
      "259:\tlearn: 0.0860540\ttotal: 4.98s\tremaining: 2.68s\n",
      "260:\tlearn: 0.0853690\ttotal: 5s\tremaining: 2.66s\n",
      "261:\tlearn: 0.0847425\ttotal: 5.02s\tremaining: 2.64s\n",
      "262:\tlearn: 0.0841182\ttotal: 5.03s\tremaining: 2.62s\n",
      "263:\tlearn: 0.0835568\ttotal: 5.05s\tremaining: 2.6s\n",
      "264:\tlearn: 0.0830860\ttotal: 5.08s\tremaining: 2.58s\n",
      "265:\tlearn: 0.0826953\ttotal: 5.09s\tremaining: 2.56s\n",
      "266:\tlearn: 0.0821504\ttotal: 5.11s\tremaining: 2.54s\n",
      "267:\tlearn: 0.0816057\ttotal: 5.13s\tremaining: 2.53s\n",
      "268:\tlearn: 0.0811668\ttotal: 5.15s\tremaining: 2.51s\n",
      "269:\tlearn: 0.0806370\ttotal: 5.17s\tremaining: 2.49s\n",
      "270:\tlearn: 0.0803147\ttotal: 5.18s\tremaining: 2.47s\n",
      "271:\tlearn: 0.0799147\ttotal: 5.2s\tremaining: 2.45s\n",
      "272:\tlearn: 0.0796684\ttotal: 5.22s\tremaining: 2.43s\n",
      "273:\tlearn: 0.0791950\ttotal: 5.24s\tremaining: 2.41s\n",
      "274:\tlearn: 0.0787248\ttotal: 5.26s\tremaining: 2.39s\n",
      "275:\tlearn: 0.0782419\ttotal: 5.28s\tremaining: 2.37s\n",
      "276:\tlearn: 0.0780074\ttotal: 5.29s\tremaining: 2.35s\n",
      "277:\tlearn: 0.0775958\ttotal: 5.31s\tremaining: 2.33s\n",
      "278:\tlearn: 0.0771180\ttotal: 5.33s\tremaining: 2.31s\n",
      "279:\tlearn: 0.0767341\ttotal: 5.35s\tremaining: 2.29s\n",
      "280:\tlearn: 0.0763011\ttotal: 5.37s\tremaining: 2.27s\n",
      "281:\tlearn: 0.0758194\ttotal: 5.38s\tremaining: 2.25s\n",
      "282:\tlearn: 0.0754358\ttotal: 5.4s\tremaining: 2.23s\n",
      "283:\tlearn: 0.0750667\ttotal: 5.42s\tremaining: 2.21s\n",
      "284:\tlearn: 0.0747107\ttotal: 5.44s\tremaining: 2.19s\n",
      "285:\tlearn: 0.0742531\ttotal: 5.46s\tremaining: 2.17s\n",
      "286:\tlearn: 0.0737926\ttotal: 5.48s\tremaining: 2.16s\n",
      "287:\tlearn: 0.0735905\ttotal: 5.49s\tremaining: 2.14s\n",
      "288:\tlearn: 0.0732208\ttotal: 5.51s\tremaining: 2.12s\n",
      "289:\tlearn: 0.0727946\ttotal: 5.53s\tremaining: 2.1s\n",
      "290:\tlearn: 0.0724306\ttotal: 5.55s\tremaining: 2.08s\n",
      "291:\tlearn: 0.0720317\ttotal: 5.57s\tremaining: 2.06s\n",
      "292:\tlearn: 0.0716278\ttotal: 5.58s\tremaining: 2.04s\n",
      "293:\tlearn: 0.0712362\ttotal: 5.6s\tremaining: 2.02s\n",
      "294:\tlearn: 0.0707410\ttotal: 5.62s\tremaining: 2s\n",
      "295:\tlearn: 0.0704118\ttotal: 5.64s\tremaining: 1.98s\n",
      "296:\tlearn: 0.0700204\ttotal: 5.66s\tremaining: 1.96s\n",
      "297:\tlearn: 0.0696531\ttotal: 5.68s\tremaining: 1.94s\n",
      "298:\tlearn: 0.0692932\ttotal: 5.7s\tremaining: 1.92s\n",
      "299:\tlearn: 0.0689641\ttotal: 5.72s\tremaining: 1.91s\n",
      "300:\tlearn: 0.0687036\ttotal: 5.74s\tremaining: 1.89s\n",
      "301:\tlearn: 0.0682465\ttotal: 5.75s\tremaining: 1.87s\n",
      "302:\tlearn: 0.0679109\ttotal: 5.77s\tremaining: 1.85s\n",
      "303:\tlearn: 0.0675415\ttotal: 5.79s\tremaining: 1.83s\n",
      "304:\tlearn: 0.0671175\ttotal: 5.81s\tremaining: 1.81s\n",
      "305:\tlearn: 0.0668401\ttotal: 5.83s\tremaining: 1.79s\n",
      "306:\tlearn: 0.0665337\ttotal: 5.84s\tremaining: 1.77s\n",
      "307:\tlearn: 0.0662038\ttotal: 5.86s\tremaining: 1.75s\n",
      "308:\tlearn: 0.0659299\ttotal: 5.88s\tremaining: 1.73s\n",
      "309:\tlearn: 0.0656950\ttotal: 5.9s\tremaining: 1.71s\n",
      "310:\tlearn: 0.0653329\ttotal: 5.92s\tremaining: 1.69s\n",
      "311:\tlearn: 0.0650142\ttotal: 5.93s\tremaining: 1.67s\n",
      "312:\tlearn: 0.0647410\ttotal: 5.95s\tremaining: 1.65s\n",
      "313:\tlearn: 0.0644334\ttotal: 5.97s\tremaining: 1.63s\n",
      "314:\tlearn: 0.0641182\ttotal: 5.99s\tremaining: 1.61s\n",
      "315:\tlearn: 0.0638325\ttotal: 6s\tremaining: 1.6s\n",
      "316:\tlearn: 0.0635122\ttotal: 6.02s\tremaining: 1.58s\n",
      "317:\tlearn: 0.0631894\ttotal: 6.04s\tremaining: 1.56s\n",
      "318:\tlearn: 0.0628921\ttotal: 6.06s\tremaining: 1.54s\n",
      "319:\tlearn: 0.0625070\ttotal: 6.08s\tremaining: 1.52s\n",
      "320:\tlearn: 0.0621223\ttotal: 6.1s\tremaining: 1.5s\n",
      "321:\tlearn: 0.0619032\ttotal: 6.11s\tremaining: 1.48s\n",
      "322:\tlearn: 0.0615653\ttotal: 6.13s\tremaining: 1.46s\n",
      "323:\tlearn: 0.0613404\ttotal: 6.15s\tremaining: 1.44s\n",
      "324:\tlearn: 0.0611619\ttotal: 6.17s\tremaining: 1.42s\n",
      "325:\tlearn: 0.0608453\ttotal: 6.19s\tremaining: 1.4s\n",
      "326:\tlearn: 0.0605806\ttotal: 6.2s\tremaining: 1.39s\n",
      "327:\tlearn: 0.0603465\ttotal: 6.22s\tremaining: 1.36s\n",
      "328:\tlearn: 0.0600413\ttotal: 6.24s\tremaining: 1.35s\n",
      "329:\tlearn: 0.0597975\ttotal: 6.26s\tremaining: 1.33s\n",
      "330:\tlearn: 0.0595617\ttotal: 6.28s\tremaining: 1.31s\n",
      "331:\tlearn: 0.0593571\ttotal: 6.29s\tremaining: 1.29s\n",
      "332:\tlearn: 0.0591896\ttotal: 6.31s\tremaining: 1.27s\n",
      "333:\tlearn: 0.0589029\ttotal: 6.33s\tremaining: 1.25s\n",
      "334:\tlearn: 0.0586641\ttotal: 6.35s\tremaining: 1.23s\n",
      "335:\tlearn: 0.0584050\ttotal: 6.37s\tremaining: 1.21s\n",
      "336:\tlearn: 0.0581356\ttotal: 6.38s\tremaining: 1.19s\n",
      "337:\tlearn: 0.0579161\ttotal: 6.4s\tremaining: 1.17s\n",
      "338:\tlearn: 0.0575914\ttotal: 6.42s\tremaining: 1.16s\n",
      "339:\tlearn: 0.0574563\ttotal: 6.44s\tremaining: 1.14s\n",
      "340:\tlearn: 0.0571344\ttotal: 6.46s\tremaining: 1.12s\n",
      "341:\tlearn: 0.0568670\ttotal: 6.47s\tremaining: 1.1s\n",
      "342:\tlearn: 0.0566196\ttotal: 6.49s\tremaining: 1.08s\n",
      "343:\tlearn: 0.0563139\ttotal: 6.51s\tremaining: 1.06s\n",
      "344:\tlearn: 0.0560689\ttotal: 6.53s\tremaining: 1.04s\n",
      "345:\tlearn: 0.0557970\ttotal: 6.55s\tremaining: 1.02s\n",
      "346:\tlearn: 0.0555744\ttotal: 6.57s\tremaining: 1s\n",
      "347:\tlearn: 0.0553663\ttotal: 6.58s\tremaining: 984ms\n",
      "348:\tlearn: 0.0550987\ttotal: 6.61s\tremaining: 965ms\n",
      "349:\tlearn: 0.0548580\ttotal: 6.63s\tremaining: 947ms\n",
      "350:\tlearn: 0.0546271\ttotal: 6.64s\tremaining: 928ms\n",
      "351:\tlearn: 0.0544627\ttotal: 6.66s\tremaining: 909ms\n",
      "352:\tlearn: 0.0542735\ttotal: 6.68s\tremaining: 890ms\n",
      "353:\tlearn: 0.0540566\ttotal: 6.7s\tremaining: 871ms\n",
      "354:\tlearn: 0.0537670\ttotal: 6.72s\tremaining: 852ms\n",
      "355:\tlearn: 0.0534931\ttotal: 6.74s\tremaining: 833ms\n",
      "356:\tlearn: 0.0532458\ttotal: 6.76s\tremaining: 814ms\n",
      "357:\tlearn: 0.0530554\ttotal: 6.78s\tremaining: 795ms\n",
      "358:\tlearn: 0.0528663\ttotal: 6.8s\tremaining: 777ms\n",
      "359:\tlearn: 0.0525924\ttotal: 6.82s\tremaining: 757ms\n",
      "360:\tlearn: 0.0523859\ttotal: 6.83s\tremaining: 738ms\n",
      "361:\tlearn: 0.0521683\ttotal: 6.85s\tremaining: 719ms\n",
      "362:\tlearn: 0.0519234\ttotal: 6.87s\tremaining: 700ms\n",
      "363:\tlearn: 0.0516844\ttotal: 6.89s\tremaining: 681ms\n",
      "364:\tlearn: 0.0515064\ttotal: 6.9s\tremaining: 662ms\n",
      "365:\tlearn: 0.0512855\ttotal: 6.92s\tremaining: 643ms\n",
      "366:\tlearn: 0.0511138\ttotal: 6.94s\tremaining: 624ms\n",
      "367:\tlearn: 0.0508781\ttotal: 6.96s\tremaining: 605ms\n",
      "368:\tlearn: 0.0506872\ttotal: 6.97s\tremaining: 586ms\n",
      "369:\tlearn: 0.0504707\ttotal: 6.99s\tremaining: 567ms\n",
      "370:\tlearn: 0.0502115\ttotal: 7.01s\tremaining: 548ms\n",
      "371:\tlearn: 0.0500338\ttotal: 7.03s\tremaining: 529ms\n",
      "372:\tlearn: 0.0498045\ttotal: 7.04s\tremaining: 510ms\n",
      "373:\tlearn: 0.0495770\ttotal: 7.07s\tremaining: 491ms\n",
      "374:\tlearn: 0.0494049\ttotal: 7.08s\tremaining: 472ms\n",
      "375:\tlearn: 0.0491638\ttotal: 7.11s\tremaining: 454ms\n",
      "376:\tlearn: 0.0489267\ttotal: 7.12s\tremaining: 435ms\n",
      "377:\tlearn: 0.0487657\ttotal: 7.14s\tremaining: 416ms\n",
      "378:\tlearn: 0.0485915\ttotal: 7.16s\tremaining: 397ms\n",
      "379:\tlearn: 0.0484395\ttotal: 7.18s\tremaining: 378ms\n",
      "380:\tlearn: 0.0482877\ttotal: 7.2s\tremaining: 359ms\n",
      "381:\tlearn: 0.0480858\ttotal: 7.21s\tremaining: 340ms\n",
      "382:\tlearn: 0.0478687\ttotal: 7.24s\tremaining: 321ms\n",
      "383:\tlearn: 0.0476853\ttotal: 7.25s\tremaining: 302ms\n",
      "384:\tlearn: 0.0474993\ttotal: 7.27s\tremaining: 283ms\n",
      "385:\tlearn: 0.0472943\ttotal: 7.29s\tremaining: 264ms\n",
      "386:\tlearn: 0.0470829\ttotal: 7.31s\tremaining: 246ms\n",
      "387:\tlearn: 0.0468742\ttotal: 7.33s\tremaining: 227ms\n",
      "388:\tlearn: 0.0466857\ttotal: 7.35s\tremaining: 208ms\n",
      "389:\tlearn: 0.0465460\ttotal: 7.37s\tremaining: 189ms\n",
      "390:\tlearn: 0.0463967\ttotal: 7.38s\tremaining: 170ms\n",
      "391:\tlearn: 0.0462451\ttotal: 7.4s\tremaining: 151ms\n",
      "392:\tlearn: 0.0460232\ttotal: 7.42s\tremaining: 132ms\n",
      "393:\tlearn: 0.0458569\ttotal: 7.44s\tremaining: 113ms\n",
      "394:\tlearn: 0.0455861\ttotal: 7.46s\tremaining: 94.4ms\n",
      "395:\tlearn: 0.0454279\ttotal: 7.47s\tremaining: 75.5ms\n",
      "396:\tlearn: 0.0452607\ttotal: 7.49s\tremaining: 56.6ms\n",
      "397:\tlearn: 0.0450495\ttotal: 7.51s\tremaining: 37.7ms\n",
      "398:\tlearn: 0.0449415\ttotal: 7.53s\tremaining: 18.9ms\n",
      "399:\tlearn: 0.0447709\ttotal: 7.55s\tremaining: 0us\n",
      "              precision    recall  f1-score   support\n",
      "\n",
      "           0       0.64      0.61      0.63        44\n",
      "           1       0.56      0.60      0.58        30\n",
      "           2       0.64      0.52      0.57        31\n",
      "           3       0.65      0.63      0.64        27\n",
      "           4       0.57      0.74      0.65        31\n",
      "           5       0.64      0.61      0.62        49\n",
      "\n",
      "    accuracy                           0.62       212\n",
      "   macro avg       0.62      0.62      0.62       212\n",
      "weighted avg       0.62      0.62      0.62       212\n"
     ]
    }
   ],
   "source": [
    "import catboost as cb\n",
    "\n",
    "model = cb.CatBoostClassifier(iterations=500, task_type='GPU')\n",
    "model.fit(X_train, y_train)\n",
    "# Generate classification report\n",
    "y_pred = model.predict(X_test)\n",
    "print(metrics.classification_report(y_test, y_pred))"
   ],
   "metadata": {
    "collapsed": false,
    "ExecuteTime": {
     "end_time": "2024-02-22T00:01:44.601009500Z",
     "start_time": "2024-02-22T00:01:36.225891400Z"
    }
   },
   "id": "c14f291177ba9793",
   "execution_count": 65
  },
  {
   "cell_type": "markdown",
   "source": [
    "Very interesting to note is that the Catboost model gave the lowest accuracy of 0.62,\n",
    "which is lower than the other models we have tried so far, \n",
    "meaning that the more complex models do not always outperform the simpler ones."
   ],
   "metadata": {
    "collapsed": false
   },
   "id": "66b66ab411e286e6"
  },
  {
   "cell_type": "markdown",
   "source": [
    "### Neural Network\n",
    "\n",
    "While neural networks need a lot of data to perform well, let's try a simple neural network model to see how it performs.\n",
    "\n",
    "We will use the `keras` library to build the neural network model.\n",
    "\n",
    "Let's start by making the train and test splits from above into TensorFlow datasets.\n",
    "\n",
    "We will also define a validation dataset from the training data to monitor the model's performance during training.\n",
    "All the tensors will be batched and pre-fetched to improve performance and also cached to avoid loading the data from the disk during training."
   ],
   "metadata": {
    "collapsed": false
   },
   "id": "be15e3c101722f61"
  },
  {
   "cell_type": "code",
   "outputs": [
    {
     "name": "stdout",
     "output_type": "stream",
     "text": [
      "WARNING:tensorflow:From C:\\Users\\panagiotis\\AppData\\Local\\Programs\\Python\\Python311\\Lib\\site-packages\\keras\\src\\losses.py:2976: The name tf.losses.sparse_softmax_cross_entropy is deprecated. Please use tf.compat.v1.losses.sparse_softmax_cross_entropy instead.\n"
     ]
    }
   ],
   "source": [
    "import tensorflow as tf\n",
    "\n",
    "# Parameters\n",
    "BATCH_SIZE = 32\n",
    "SHUFFLE_BUFFER_SIZE = 600  # Adjust based on your dataset size\n",
    "VALIDATION_SPLIT = 0.2  # Fraction of training data to use for validation\n",
    "\n",
    "# Calculate the number of validation samples\n",
    "n_validation_samples = int(len(X_train) * VALIDATION_SPLIT)\n",
    "\n",
    "# Create and process the validation dataset from the training data\n",
    "val_ds = tf.data.Dataset.from_tensor_slices((X_train[:n_validation_samples], y_train[:n_validation_samples]))\n",
    "val_ds = val_ds.batch(BATCH_SIZE).cache().prefetch(buffer_size=tf.data.AUTOTUNE)\n",
    "\n",
    "# Update the training dataset to exclude the validation data and process it\n",
    "train_ds = tf.data.Dataset.from_tensor_slices((X_train[n_validation_samples:], y_train[n_validation_samples:]))\n",
    "train_ds = train_ds.shuffle(SHUFFLE_BUFFER_SIZE).batch(BATCH_SIZE).cache().prefetch(buffer_size=tf.data.AUTOTUNE)\n",
    "\n",
    "# Create and process the test dataset\n",
    "test_ds = tf.data.Dataset.from_tensor_slices((X_test, y_test))\n",
    "test_ds = test_ds.batch(BATCH_SIZE).cache().prefetch(buffer_size=tf.data.AUTOTUNE)"
   ],
   "metadata": {
    "collapsed": false,
    "ExecuteTime": {
     "end_time": "2024-02-23T23:55:35.664040800Z",
     "start_time": "2024-02-23T23:55:31.637026900Z"
    }
   },
   "id": "fac050077fcb120",
   "execution_count": 8
  },
  {
   "cell_type": "markdown",
   "source": [
    "With that done, let's have a look at the first batch of the training dataset."
   ],
   "metadata": {
    "collapsed": false
   },
   "id": "c1bc0a932557566"
  },
  {
   "cell_type": "code",
   "outputs": [
    {
     "name": "stdout",
     "output_type": "stream",
     "text": [
      "Features: [[-0.05010986  0.01411438 -0.02111816 ...  0.0198822  -0.08740234\n",
      "  -0.03805542]\n",
      " [-0.02249146 -0.00175095 -0.02078247 ...  0.01626587 -0.05111694\n",
      "  -0.01724243]\n",
      " [-0.00328064  0.01456451 -0.01695251 ...  0.01971436 -0.05197144\n",
      "   0.00442123]\n",
      " ...\n",
      " [-0.0039978   0.02110291 -0.02867126 ...  0.00606918 -0.06512451\n",
      "  -0.01701355]\n",
      " [ 0.00843811 -0.01992798 -0.02073669 ...  0.02677917 -0.03234863\n",
      "  -0.03442383]\n",
      " [ 0.04641724  0.00108528 -0.03936768 ...  0.00904846 -0.02729797\n",
      "  -0.04876709]], Target: [0 0 4 5 5 0 2 4 4 1 0 4 4 0 2 4 3 1 4 5 3 0 5 5 0 5 5 2 1 0 0 5]\n"
     ]
    }
   ],
   "source": [
    "for feat, targ in train_ds.take(1):\n",
    "    print('Features: {}, Target: {}'.format(feat, targ))"
   ],
   "metadata": {
    "collapsed": false,
    "ExecuteTime": {
     "end_time": "2024-02-23T23:55:35.689739600Z",
     "start_time": "2024-02-23T23:55:35.665041200Z"
    }
   },
   "id": "28b6cd6e52c06ff9",
   "execution_count": 9
  },
  {
   "cell_type": "markdown",
   "source": [
    "We can see that the training dataset is structured as expected, with the features and the targets batched together with a size of 32."
   ],
   "metadata": {
    "collapsed": false
   },
   "id": "2200f63d62e00072"
  },
  {
   "cell_type": "markdown",
   "source": [
    "Now let's define an early stopping callback to stop training the model when the validation loss does not improve after a certain number of epochs. "
   ],
   "metadata": {
    "collapsed": false
   },
   "id": "55faaf898903bf36"
  },
  {
   "cell_type": "code",
   "outputs": [],
   "source": [
    "early_stopping_callback = tf.keras.callbacks.EarlyStopping(\n",
    "    monitor='val_loss',  # Monitor the validation loss\n",
    "    patience=30,  # Number of epochs with no improvement after which training will be stopped\n",
    "    restore_best_weights=True  # Restores model weights from the epoch with the best value of the monitored quantity\n",
    ")"
   ],
   "metadata": {
    "collapsed": false,
    "ExecuteTime": {
     "end_time": "2024-02-23T23:55:35.724761800Z",
     "start_time": "2024-02-23T23:55:35.679739300Z"
    }
   },
   "id": "a2a85456f6f0206a",
   "execution_count": 10
  },
  {
   "cell_type": "markdown",
   "source": [
    "Another useful callback method in TensorFlow is the ModelCheckpoint callback. This callback saves the model at regular intervals during training, allowing you to retain and load the best version of your model based on a certain monitored metric, such as validation loss or accuracy."
   ],
   "metadata": {
    "collapsed": false
   },
   "id": "58e3c995a8f8d943"
  },
  {
   "cell_type": "code",
   "outputs": [],
   "source": [
    "import tensorflow_docs as tfdocs\n",
    "import tensorflow_docs.modeling\n",
    "import tensorflow_docs.plots\n",
    "\n",
    "model_checkpoint_callback = tf.keras.callbacks.ModelCheckpoint(\n",
    "    filepath='model_{epoch:02d}-{val_loss:.2f}.keras',  # Change the extension to '.keras'\n",
    "    save_weights_only=False,  # Set to True to save only weights, False to save the entire model\n",
    "    monitor='val_loss',  # Monitor the validation loss\n",
    "    mode='min',  # The model is saved when the monitored metric stops decreasing\n",
    "    save_best_only=True,  # Only the best model is saved\n",
    "    verbose=1  # Verbosity mode, 1 or 0\n",
    ")\n",
    "\n",
    "CALLBACKS = [\n",
    "    tfdocs.modeling.EpochDots(),\n",
    "    early_stopping_callback,\n",
    "    model_checkpoint_callback\n",
    "]"
   ],
   "metadata": {
    "collapsed": false,
    "ExecuteTime": {
     "end_time": "2024-02-23T23:55:35.926897800Z",
     "start_time": "2024-02-23T23:55:35.723761100Z"
    }
   },
   "id": "e99e3b0058d27c4b",
   "execution_count": 11
  },
  {
   "cell_type": "markdown",
   "source": [
    "Lastly, let's define a scheduler callback to adjust the learning rate during training."
   ],
   "metadata": {
    "collapsed": false
   },
   "id": "e70949e4096c0a1f"
  },
  {
   "cell_type": "code",
   "outputs": [],
   "source": [
    "BATCH_SIZE = 32\n",
    "STEPS_PER_EPOCH = X_train.shape[0] // BATCH_SIZE\n",
    "lr_scheduler = tf.keras.optimizers.schedules.InverseTimeDecay(\n",
    "    initial_learning_rate=1e-3,  # Initial learning rate\n",
    "    decay_steps=STEPS_PER_EPOCH * 1000,  # Decay steps\n",
    "    decay_rate=0.9,  # Decay rate\n",
    "    staircase=True  # If True, decay the learning rate at discrete intervals\n",
    ")"
   ],
   "metadata": {
    "collapsed": false,
    "ExecuteTime": {
     "end_time": "2024-02-23T23:55:35.934826300Z",
     "start_time": "2024-02-23T23:55:35.926897800Z"
    }
   },
   "id": "b24cce175aac2630",
   "execution_count": 12
  },
  {
   "cell_type": "markdown",
   "source": [
    "With all the callbacks and the learning rate scheduler defined, let's now build the neural network model.\n",
    "\n",
    "We will use a simple neural network with two hidden layers, each with 64 units, and a ReLU activation function.\n",
    "\n",
    "Also, we will use the Adam optimizer and the SparseCategoricalCrossentropy loss function, as well as the accuracy metric.\n",
    "\n",
    "Lastly, we will add WeightRegularization to the model as well as DropoutLayers to prevent overfitting."
   ],
   "metadata": {
    "collapsed": false
   },
   "id": "396c45887ea4ddcd"
  },
  {
   "cell_type": "code",
   "outputs": [],
   "source": [
    "# Import keras \n",
    "from tensorflow.keras import layers\n",
    "import keras\n",
    "from keras import regularizers\n",
    "\n",
    "weight_regularizer = regularizers.l2(0.0001)\n",
    "\n",
    "model = keras.Sequential([\n",
    "    layers.Dense(32, activation='relu', input_shape=(X_train.shape[1],), kernel_regularizer=weight_regularizer),\n",
    "    layers.Dropout(0.3),\n",
    "    layers.Dense(16, activation='relu', kernel_regularizer=weight_regularizer),\n",
    "    layers.Dropout(0.2),\n",
    "    layers.Dense(6, activation='softmax')\n",
    "])"
   ],
   "metadata": {
    "collapsed": false,
    "ExecuteTime": {
     "end_time": "2024-02-23T23:55:55.163209100Z",
     "start_time": "2024-02-23T23:55:55.117350Z"
    }
   },
   "id": "ed010b4c406e22d7",
   "execution_count": 19
  },
  {
   "cell_type": "markdown",
   "source": [
    "With the model created, let's compile it using the Adam optimizer, the SparseCategoricalCrossentropy loss function, and the accuracy metric."
   ],
   "metadata": {
    "collapsed": false
   },
   "id": "9600efc4cd8cdafb"
  },
  {
   "cell_type": "code",
   "outputs": [],
   "source": [
    "# Compile the model\n",
    "model.compile(optimizer=tf.keras.optimizers.Adam(learning_rate=lr_scheduler),\n",
    "              loss=tf.keras.losses.SparseCategoricalCrossentropy(from_logits=False),\n",
    "              metrics=(['accuracy',\n",
    "                        tf.keras.losses.SparseCategoricalCrossentropy(\n",
    "                            from_logits=False, name='sparse_categorical_crossentropy')]))"
   ],
   "metadata": {
    "collapsed": false,
    "ExecuteTime": {
     "end_time": "2024-02-23T23:55:55.430678400Z",
     "start_time": "2024-02-23T23:55:55.405706400Z"
    }
   },
   "id": "3dc26bb0fade8741",
   "execution_count": 20
  },
  {
   "cell_type": "markdown",
   "source": [
    "Let's see now the model summary"
   ],
   "metadata": {
    "collapsed": false
   },
   "id": "d19eb4b55cb1da4d"
  },
  {
   "cell_type": "code",
   "outputs": [
    {
     "name": "stdout",
     "output_type": "stream",
     "text": [
      "Model: \"sequential_1\"\n",
      "_________________________________________________________________\n",
      " Layer (type)                Output Shape              Param #   \n",
      "=================================================================\n",
      " dense_4 (Dense)             (None, 32)                24608     \n",
      "                                                                 \n",
      " dropout_3 (Dropout)         (None, 32)                0         \n",
      "                                                                 \n",
      " dense_5 (Dense)             (None, 16)                528       \n",
      "                                                                 \n",
      " dropout_4 (Dropout)         (None, 16)                0         \n",
      "                                                                 \n",
      " dense_6 (Dense)             (None, 6)                 102       \n",
      "                                                                 \n",
      "=================================================================\n",
      "Total params: 25238 (98.59 KB)\n",
      "Trainable params: 25238 (98.59 KB)\n",
      "Non-trainable params: 0 (0.00 Byte)\n",
      "_________________________________________________________________\n"
     ]
    }
   ],
   "source": [
    "model.summary()"
   ],
   "metadata": {
    "collapsed": false,
    "ExecuteTime": {
     "end_time": "2024-02-23T23:55:55.723157300Z",
     "start_time": "2024-02-23T23:55:55.693639300Z"
    }
   },
   "id": "7794956153aea89d",
   "execution_count": 21
  },
  {
   "cell_type": "markdown",
   "source": [
    "We can see that the model has 25238 parameters to train, which are quite a lot for the small dataset we have.\n",
    "However, with the Dropout layers and the WeightRegularization, we hope to prevent excessive overfitting.\n",
    "\n",
    "Let's now train the model using the training dataset and the validation dataset we created earlier."
   ],
   "metadata": {
    "collapsed": false
   },
   "id": "689f9ac49e7e4324"
  },
  {
   "cell_type": "code",
   "outputs": [
    {
     "name": "stdout",
     "output_type": "stream",
     "text": [
      "Epoch 1/100\n",
      " 1/22 [>.............................] - ETA: 7s - loss: 1.8022 - accuracy: 0.1250 - sparse_categorical_crossentropy: 1.7939\n",
      "Epoch: 0, accuracy:0.1820,  loss:1.7946,  sparse_categorical_crossentropy:1.7819,  val_accuracy:0.1479,  val_loss:1.7986,  val_sparse_categorical_crossentropy:1.7915,  \n",
      ".\n",
      "Epoch 1: val_loss did not improve from 1.41865\n",
      "22/22 [==============================] - 0s 5ms/step - loss: 1.7946 - accuracy: 0.1820 - sparse_categorical_crossentropy: 1.7819 - val_loss: 1.7986 - val_accuracy: 0.1479 - val_sparse_categorical_crossentropy: 1.7915\n",
      "Epoch 2/100\n",
      " 1/22 [>.............................] - ETA: 0s - loss: 1.7787 - accuracy: 0.1875 - sparse_categorical_crossentropy: 1.7705.\n",
      "Epoch 2: val_loss did not improve from 1.41865\n",
      "22/22 [==============================] - 0s 1ms/step - loss: 1.7709 - accuracy: 0.2308 - sparse_categorical_crossentropy: 1.7585 - val_loss: 1.7874 - val_accuracy: 0.3077 - val_sparse_categorical_crossentropy: 1.7770\n",
      "Epoch 3/100\n",
      " 1/22 [>.............................] - ETA: 0s - loss: 1.7440 - accuracy: 0.1875 - sparse_categorical_crossentropy: 1.7358.\n",
      "Epoch 3: val_loss did not improve from 1.41865\n",
      "22/22 [==============================] - 0s 1ms/step - loss: 1.7310 - accuracy: 0.2929 - sparse_categorical_crossentropy: 1.7172 - val_loss: 1.7608 - val_accuracy: 0.3018 - val_sparse_categorical_crossentropy: 1.7500\n",
      "Epoch 4/100\n",
      " 1/22 [>.............................] - ETA: 0s - loss: 1.7364 - accuracy: 0.1875 - sparse_categorical_crossentropy: 1.7282.\n",
      "Epoch 4: val_loss did not improve from 1.41865\n",
      "22/22 [==============================] - 0s 1ms/step - loss: 1.7050 - accuracy: 0.2899 - sparse_categorical_crossentropy: 1.6872 - val_loss: 1.7224 - val_accuracy: 0.3077 - val_sparse_categorical_crossentropy: 1.7078\n",
      "Epoch 5/100\n",
      " 1/22 [>.............................] - ETA: 0s - loss: 1.7179 - accuracy: 0.2812 - sparse_categorical_crossentropy: 1.7096.\n",
      "Epoch 5: val_loss did not improve from 1.41865\n",
      "22/22 [==============================] - 0s 1ms/step - loss: 1.6523 - accuracy: 0.3491 - sparse_categorical_crossentropy: 1.6312 - val_loss: 1.6764 - val_accuracy: 0.3195 - val_sparse_categorical_crossentropy: 1.6614\n",
      "Epoch 6/100\n",
      " 1/22 [>.............................] - ETA: 0s - loss: 1.6871 - accuracy: 0.2812 - sparse_categorical_crossentropy: 1.6785.\n",
      "Epoch 6: val_loss did not improve from 1.41865\n",
      "22/22 [==============================] - 0s 1ms/step - loss: 1.6004 - accuracy: 0.3698 - sparse_categorical_crossentropy: 1.5748 - val_loss: 1.6365 - val_accuracy: 0.3254 - val_sparse_categorical_crossentropy: 1.6194\n",
      "Epoch 7/100\n",
      " 1/22 [>.............................] - ETA: 0s - loss: 1.6010 - accuracy: 0.4375 - sparse_categorical_crossentropy: 1.5919.\n",
      "Epoch 7: val_loss did not improve from 1.41865\n",
      "22/22 [==============================] - 0s 1ms/step - loss: 1.5446 - accuracy: 0.4186 - sparse_categorical_crossentropy: 1.5221 - val_loss: 1.5756 - val_accuracy: 0.3787 - val_sparse_categorical_crossentropy: 1.5557\n",
      "Epoch 8/100\n",
      " 1/22 [>.............................] - ETA: 0s - loss: 1.5821 - accuracy: 0.4062 - sparse_categorical_crossentropy: 1.5725.\n",
      "Epoch 8: val_loss did not improve from 1.41865\n",
      "22/22 [==============================] - 0s 1ms/step - loss: 1.4872 - accuracy: 0.4453 - sparse_categorical_crossentropy: 1.4503 - val_loss: 1.5313 - val_accuracy: 0.4260 - val_sparse_categorical_crossentropy: 1.5065\n",
      "Epoch 9/100\n",
      " 1/22 [>.............................] - ETA: 0s - loss: 1.5311 - accuracy: 0.5000 - sparse_categorical_crossentropy: 1.5209.\n",
      "Epoch 9: val_loss did not improve from 1.41865\n",
      "22/22 [==============================] - 0s 1ms/step - loss: 1.4401 - accuracy: 0.4808 - sparse_categorical_crossentropy: 1.4101 - val_loss: 1.4867 - val_accuracy: 0.4793 - val_sparse_categorical_crossentropy: 1.4607\n",
      "Epoch 10/100\n",
      " 1/22 [>.............................] - ETA: 0s - loss: 1.5004 - accuracy: 0.4062 - sparse_categorical_crossentropy: 1.4896.\n",
      "Epoch 10: val_loss did not improve from 1.41865\n",
      "22/22 [==============================] - 0s 1ms/step - loss: 1.3740 - accuracy: 0.4956 - sparse_categorical_crossentropy: 1.3386 - val_loss: 1.4490 - val_accuracy: 0.4793 - val_sparse_categorical_crossentropy: 1.4197\n",
      "Epoch 11/100\n",
      " 1/22 [>.............................] - ETA: 0s - loss: 1.4310 - accuracy: 0.4688 - sparse_categorical_crossentropy: 1.4196.\n",
      "Epoch 11: val_loss did not improve from 1.41865\n",
      "22/22 [==============================] - 0s 1ms/step - loss: 1.3372 - accuracy: 0.5207 - sparse_categorical_crossentropy: 1.2968 - val_loss: 1.4232 - val_accuracy: 0.4615 - val_sparse_categorical_crossentropy: 1.3887\n",
      "Epoch 12/100\n",
      " 1/22 [>.............................] - ETA: 0s - loss: 1.4283 - accuracy: 0.4688 - sparse_categorical_crossentropy: 1.4162.\n",
      "Epoch 12: val_loss improved from 1.41865 to 1.38131, saving model to model_12-1.38.keras\n",
      "22/22 [==============================] - 0s 2ms/step - loss: 1.3059 - accuracy: 0.5340 - sparse_categorical_crossentropy: 1.2742 - val_loss: 1.3813 - val_accuracy: 0.5385 - val_sparse_categorical_crossentropy: 1.3425\n",
      "Epoch 13/100\n",
      " 1/22 [>.............................] - ETA: 0s - loss: 1.5508 - accuracy: 0.3750 - sparse_categorical_crossentropy: 1.5380.\n",
      "Epoch 13: val_loss improved from 1.38131 to 1.36051, saving model to model_13-1.36.keras\n",
      "22/22 [==============================] - 0s 2ms/step - loss: 1.2749 - accuracy: 0.5503 - sparse_categorical_crossentropy: 1.2438 - val_loss: 1.3605 - val_accuracy: 0.5444 - val_sparse_categorical_crossentropy: 1.3174\n",
      "Epoch 14/100\n",
      " 1/22 [>.............................] - ETA: 0s - loss: 1.5259 - accuracy: 0.5312 - sparse_categorical_crossentropy: 1.5124.\n",
      "Epoch 14: val_loss improved from 1.36051 to 1.33632, saving model to model_14-1.34.keras\n",
      "22/22 [==============================] - 0s 2ms/step - loss: 1.2263 - accuracy: 0.6124 - sparse_categorical_crossentropy: 1.1865 - val_loss: 1.3363 - val_accuracy: 0.5207 - val_sparse_categorical_crossentropy: 1.2934\n",
      "Epoch 15/100\n",
      " 1/22 [>.............................] - ETA: 0s - loss: 1.2647 - accuracy: 0.5938 - sparse_categorical_crossentropy: 1.2505.\n",
      "Epoch 15: val_loss improved from 1.33632 to 1.29458, saving model to model_15-1.29.keras\n",
      "22/22 [==============================] - 0s 2ms/step - loss: 1.1763 - accuracy: 0.5902 - sparse_categorical_crossentropy: 1.1369 - val_loss: 1.2946 - val_accuracy: 0.5621 - val_sparse_categorical_crossentropy: 1.2473\n",
      "Epoch 16/100\n",
      " 1/22 [>.............................] - ETA: 0s - loss: 1.4672 - accuracy: 0.4688 - sparse_categorical_crossentropy: 1.4523.\n",
      "Epoch 16: val_loss improved from 1.29458 to 1.28357, saving model to model_16-1.28.keras\n",
      "22/22 [==============================] - 0s 2ms/step - loss: 1.1649 - accuracy: 0.6036 - sparse_categorical_crossentropy: 1.1222 - val_loss: 1.2836 - val_accuracy: 0.5621 - val_sparse_categorical_crossentropy: 1.2330\n",
      "Epoch 17/100\n",
      " 1/22 [>.............................] - ETA: 0s - loss: 1.2724 - accuracy: 0.5000 - sparse_categorical_crossentropy: 1.2570.\n",
      "Epoch 17: val_loss improved from 1.28357 to 1.25859, saving model to model_17-1.26.keras\n",
      "22/22 [==============================] - 0s 2ms/step - loss: 1.1243 - accuracy: 0.6228 - sparse_categorical_crossentropy: 1.0841 - val_loss: 1.2586 - val_accuracy: 0.5740 - val_sparse_categorical_crossentropy: 1.2058\n",
      "Epoch 18/100\n",
      " 1/22 [>.............................] - ETA: 0s - loss: 1.2686 - accuracy: 0.5938 - sparse_categorical_crossentropy: 1.2525.\n",
      "Epoch 18: val_loss did not improve from 1.25859\n",
      "22/22 [==============================] - 0s 1ms/step - loss: 1.1162 - accuracy: 0.6065 - sparse_categorical_crossentropy: 1.0676 - val_loss: 1.2889 - val_accuracy: 0.5325 - val_sparse_categorical_crossentropy: 1.2390\n",
      "Epoch 19/100\n",
      " 1/22 [>.............................] - ETA: 0s - loss: 1.3449 - accuracy: 0.5000 - sparse_categorical_crossentropy: 1.3282.\n",
      "Epoch 19: val_loss improved from 1.25859 to 1.24286, saving model to model_19-1.24.keras\n",
      "22/22 [==============================] - 0s 2ms/step - loss: 1.0651 - accuracy: 0.6376 - sparse_categorical_crossentropy: 1.0170 - val_loss: 1.2429 - val_accuracy: 0.5266 - val_sparse_categorical_crossentropy: 1.1915\n",
      "Epoch 20/100\n",
      " 1/22 [>.............................] - ETA: 0s - loss: 1.2782 - accuracy: 0.5312 - sparse_categorical_crossentropy: 1.2609.\n",
      "Epoch 20: val_loss did not improve from 1.24286\n",
      "22/22 [==============================] - 0s 1ms/step - loss: 1.0844 - accuracy: 0.6021 - sparse_categorical_crossentropy: 1.0449 - val_loss: 1.2475 - val_accuracy: 0.5503 - val_sparse_categorical_crossentropy: 1.1979\n",
      "Epoch 21/100\n",
      " 1/22 [>.............................] - ETA: 0s - loss: 1.2302 - accuracy: 0.5938 - sparse_categorical_crossentropy: 1.2123.\n",
      "Epoch 21: val_loss improved from 1.24286 to 1.23413, saving model to model_21-1.23.keras\n",
      "22/22 [==============================] - 0s 2ms/step - loss: 1.0112 - accuracy: 0.6731 - sparse_categorical_crossentropy: 0.9690 - val_loss: 1.2341 - val_accuracy: 0.5444 - val_sparse_categorical_crossentropy: 1.1806\n",
      "Epoch 22/100\n",
      " 1/22 [>.............................] - ETA: 0s - loss: 1.0588 - accuracy: 0.6250 - sparse_categorical_crossentropy: 1.0403.\n",
      "Epoch 22: val_loss improved from 1.23413 to 1.20685, saving model to model_22-1.21.keras\n",
      "22/22 [==============================] - 0s 2ms/step - loss: 1.0085 - accuracy: 0.6553 - sparse_categorical_crossentropy: 0.9609 - val_loss: 1.2069 - val_accuracy: 0.5858 - val_sparse_categorical_crossentropy: 1.1527\n",
      "Epoch 23/100\n",
      " 1/22 [>.............................] - ETA: 0s - loss: 1.1509 - accuracy: 0.5625 - sparse_categorical_crossentropy: 1.1318.\n",
      "Epoch 23: val_loss did not improve from 1.20685\n",
      "22/22 [==============================] - 0s 1ms/step - loss: 0.9707 - accuracy: 0.6820 - sparse_categorical_crossentropy: 0.9224 - val_loss: 1.2309 - val_accuracy: 0.5503 - val_sparse_categorical_crossentropy: 1.1777\n",
      "Epoch 24/100\n",
      " 1/22 [>.............................] - ETA: 0s - loss: 1.1752 - accuracy: 0.5938 - sparse_categorical_crossentropy: 1.1556.\n",
      "Epoch 24: val_loss improved from 1.20685 to 1.20125, saving model to model_24-1.20.keras\n",
      "22/22 [==============================] - 0s 2ms/step - loss: 0.9446 - accuracy: 0.6938 - sparse_categorical_crossentropy: 0.8949 - val_loss: 1.2013 - val_accuracy: 0.5680 - val_sparse_categorical_crossentropy: 1.1454\n",
      "Epoch 25/100\n",
      " 1/22 [>.............................] - ETA: 0s - loss: 1.1576 - accuracy: 0.6562 - sparse_categorical_crossentropy: 1.1374.\n",
      "Epoch 25: val_loss improved from 1.20125 to 1.18179, saving model to model_25-1.18.keras\n",
      "22/22 [==============================] - 0s 2ms/step - loss: 0.9623 - accuracy: 0.6657 - sparse_categorical_crossentropy: 0.9174 - val_loss: 1.1818 - val_accuracy: 0.5976 - val_sparse_categorical_crossentropy: 1.1201\n",
      "Epoch 26/100\n",
      " 1/22 [>.............................] - ETA: 0s - loss: 1.0997 - accuracy: 0.7500 - sparse_categorical_crossentropy: 1.0790.\n",
      "Epoch 26: val_loss improved from 1.18179 to 1.16397, saving model to model_26-1.16.keras\n",
      "22/22 [==============================] - 0s 2ms/step - loss: 0.9291 - accuracy: 0.7056 - sparse_categorical_crossentropy: 0.8799 - val_loss: 1.1640 - val_accuracy: 0.5799 - val_sparse_categorical_crossentropy: 1.1041\n",
      "Epoch 27/100\n",
      " 1/22 [>.............................] - ETA: 0s - loss: 1.1640 - accuracy: 0.5625 - sparse_categorical_crossentropy: 1.1428.\n",
      "Epoch 27: val_loss did not improve from 1.16397\n",
      "22/22 [==============================] - 0s 1ms/step - loss: 0.8754 - accuracy: 0.7204 - sparse_categorical_crossentropy: 0.8468 - val_loss: 1.1652 - val_accuracy: 0.5740 - val_sparse_categorical_crossentropy: 1.1017\n",
      "Epoch 28/100\n",
      " 1/22 [>.............................] - ETA: 0s - loss: 1.3239 - accuracy: 0.5312 - sparse_categorical_crossentropy: 1.3022.\n",
      "Epoch 28: val_loss did not improve from 1.16397\n",
      "22/22 [==============================] - 0s 1ms/step - loss: 0.9123 - accuracy: 0.7115 - sparse_categorical_crossentropy: 0.8684 - val_loss: 1.2017 - val_accuracy: 0.5503 - val_sparse_categorical_crossentropy: 1.1422\n",
      "Epoch 29/100\n",
      " 1/22 [>.............................] - ETA: 0s - loss: 1.1914 - accuracy: 0.5938 - sparse_categorical_crossentropy: 1.1691.\n",
      "Epoch 29: val_loss improved from 1.16397 to 1.15768, saving model to model_29-1.16.keras\n",
      "22/22 [==============================] - 0s 2ms/step - loss: 0.8815 - accuracy: 0.7071 - sparse_categorical_crossentropy: 0.8327 - val_loss: 1.1577 - val_accuracy: 0.5917 - val_sparse_categorical_crossentropy: 1.0906\n",
      "Epoch 30/100\n",
      " 1/22 [>.............................] - ETA: 0s - loss: 1.0794 - accuracy: 0.5938 - sparse_categorical_crossentropy: 1.0567.\n",
      "Epoch 30: val_loss did not improve from 1.15768\n",
      "22/22 [==============================] - 0s 1ms/step - loss: 0.8433 - accuracy: 0.7382 - sparse_categorical_crossentropy: 0.7975 - val_loss: 1.1867 - val_accuracy: 0.5680 - val_sparse_categorical_crossentropy: 1.1248\n",
      "Epoch 31/100\n",
      " 1/22 [>.............................] - ETA: 0s - loss: 0.9887 - accuracy: 0.7812 - sparse_categorical_crossentropy: 0.9655.\n",
      "Epoch 31: val_loss did not improve from 1.15768\n",
      "22/22 [==============================] - 0s 1ms/step - loss: 0.8488 - accuracy: 0.7293 - sparse_categorical_crossentropy: 0.8062 - val_loss: 1.1794 - val_accuracy: 0.5740 - val_sparse_categorical_crossentropy: 1.1142\n",
      "Epoch 32/100\n",
      " 1/22 [>.............................] - ETA: 0s - loss: 1.0699 - accuracy: 0.6562 - sparse_categorical_crossentropy: 1.0462.\n",
      "Epoch 32: val_loss did not improve from 1.15768\n",
      "22/22 [==============================] - 0s 1ms/step - loss: 0.8010 - accuracy: 0.7559 - sparse_categorical_crossentropy: 0.7568 - val_loss: 1.1905 - val_accuracy: 0.5680 - val_sparse_categorical_crossentropy: 1.1229\n",
      "Epoch 33/100\n",
      " 1/22 [>.............................] - ETA: 0s - loss: 0.9827 - accuracy: 0.7188 - sparse_categorical_crossentropy: 0.9586.\n",
      "Epoch 33: val_loss did not improve from 1.15768\n",
      "22/22 [==============================] - 0s 1ms/step - loss: 0.8378 - accuracy: 0.7470 - sparse_categorical_crossentropy: 0.7842 - val_loss: 1.1686 - val_accuracy: 0.5799 - val_sparse_categorical_crossentropy: 1.0991\n",
      "Epoch 34/100\n",
      " 1/22 [>.............................] - ETA: 0s - loss: 0.9902 - accuracy: 0.6250 - sparse_categorical_crossentropy: 0.9656.\n",
      "Epoch 34: val_loss did not improve from 1.15768\n",
      "22/22 [==============================] - 0s 1ms/step - loss: 0.7644 - accuracy: 0.7692 - sparse_categorical_crossentropy: 0.7294 - val_loss: 1.1726 - val_accuracy: 0.5976 - val_sparse_categorical_crossentropy: 1.1005\n",
      "Epoch 35/100\n",
      " 1/22 [>.............................] - ETA: 0s - loss: 0.9283 - accuracy: 0.7188 - sparse_categorical_crossentropy: 0.9032.\n",
      "Epoch 35: val_loss did not improve from 1.15768\n",
      "22/22 [==============================] - 0s 1ms/step - loss: 0.7775 - accuracy: 0.7559 - sparse_categorical_crossentropy: 0.7346 - val_loss: 1.1901 - val_accuracy: 0.5799 - val_sparse_categorical_crossentropy: 1.1174\n",
      "Epoch 36/100\n",
      " 1/22 [>.............................] - ETA: 0s - loss: 0.8545 - accuracy: 0.6875 - sparse_categorical_crossentropy: 0.8289.\n",
      "Epoch 36: val_loss did not improve from 1.15768\n",
      "22/22 [==============================] - 0s 1ms/step - loss: 0.7674 - accuracy: 0.7544 - sparse_categorical_crossentropy: 0.7261 - val_loss: 1.1919 - val_accuracy: 0.6036 - val_sparse_categorical_crossentropy: 1.1209\n",
      "Epoch 37/100\n",
      " 1/22 [>.............................] - ETA: 0s - loss: 0.8593 - accuracy: 0.6250 - sparse_categorical_crossentropy: 0.8333.\n",
      "Epoch 37: val_loss did not improve from 1.15768\n",
      "22/22 [==============================] - 0s 1ms/step - loss: 0.7415 - accuracy: 0.7559 - sparse_categorical_crossentropy: 0.7162 - val_loss: 1.1757 - val_accuracy: 0.5976 - val_sparse_categorical_crossentropy: 1.1001\n",
      "Epoch 38/100\n",
      " 1/22 [>.............................] - ETA: 0s - loss: 0.9235 - accuracy: 0.6250 - sparse_categorical_crossentropy: 0.8970.\n",
      "Epoch 38: val_loss did not improve from 1.15768\n",
      "22/22 [==============================] - 0s 1ms/step - loss: 0.7535 - accuracy: 0.7559 - sparse_categorical_crossentropy: 0.7059 - val_loss: 1.1681 - val_accuracy: 0.5858 - val_sparse_categorical_crossentropy: 1.0917\n",
      "Epoch 39/100\n",
      " 1/22 [>.............................] - ETA: 0s - loss: 0.9708 - accuracy: 0.7188 - sparse_categorical_crossentropy: 0.9438.\n",
      "Epoch 39: val_loss did not improve from 1.15768\n",
      "22/22 [==============================] - 0s 1ms/step - loss: 0.7478 - accuracy: 0.7530 - sparse_categorical_crossentropy: 0.7173 - val_loss: 1.2384 - val_accuracy: 0.5740 - val_sparse_categorical_crossentropy: 1.1612\n",
      "Epoch 40/100\n",
      " 1/22 [>.............................] - ETA: 0s - loss: 0.9643 - accuracy: 0.6250 - sparse_categorical_crossentropy: 0.9369.\n",
      "Epoch 40: val_loss did not improve from 1.15768\n",
      "22/22 [==============================] - 0s 1ms/step - loss: 0.7188 - accuracy: 0.7737 - sparse_categorical_crossentropy: 0.6654 - val_loss: 1.1647 - val_accuracy: 0.5858 - val_sparse_categorical_crossentropy: 1.0852\n",
      "Epoch 41/100\n",
      " 1/22 [>.............................] - ETA: 0s - loss: 0.8327 - accuracy: 0.7500 - sparse_categorical_crossentropy: 0.8048.\n",
      "Epoch 41: val_loss did not improve from 1.15768\n",
      "22/22 [==============================] - 0s 1ms/step - loss: 0.7273 - accuracy: 0.7692 - sparse_categorical_crossentropy: 0.6832 - val_loss: 1.1972 - val_accuracy: 0.5740 - val_sparse_categorical_crossentropy: 1.1203\n",
      "Epoch 42/100\n",
      " 1/22 [>.............................] - ETA: 0s - loss: 0.8609 - accuracy: 0.7188 - sparse_categorical_crossentropy: 0.8327.\n",
      "Epoch 42: val_loss did not improve from 1.15768\n",
      "22/22 [==============================] - 0s 1ms/step - loss: 0.6814 - accuracy: 0.7885 - sparse_categorical_crossentropy: 0.6445 - val_loss: 1.2400 - val_accuracy: 0.5680 - val_sparse_categorical_crossentropy: 1.1576\n",
      "Epoch 43/100\n",
      " 1/22 [>.............................] - ETA: 0s - loss: 0.7681 - accuracy: 0.7500 - sparse_categorical_crossentropy: 0.7393.\n",
      "Epoch 43: val_loss did not improve from 1.15768\n",
      "22/22 [==============================] - 0s 1ms/step - loss: 0.6819 - accuracy: 0.7885 - sparse_categorical_crossentropy: 0.6299 - val_loss: 1.1891 - val_accuracy: 0.5858 - val_sparse_categorical_crossentropy: 1.1062\n",
      "Epoch 44/100\n",
      " 1/22 [>.............................] - ETA: 0s - loss: 0.7031 - accuracy: 0.7500 - sparse_categorical_crossentropy: 0.6739.\n",
      "Epoch 44: val_loss did not improve from 1.15768\n",
      "22/22 [==============================] - 0s 1ms/step - loss: 0.6541 - accuracy: 0.8018 - sparse_categorical_crossentropy: 0.6085 - val_loss: 1.2127 - val_accuracy: 0.5740 - val_sparse_categorical_crossentropy: 1.1307\n",
      "Epoch 45/100\n",
      " 1/22 [>.............................] - ETA: 0s - loss: 0.8817 - accuracy: 0.6875 - sparse_categorical_crossentropy: 0.8521.\n",
      "Epoch 45: val_loss did not improve from 1.15768\n",
      "22/22 [==============================] - 0s 1ms/step - loss: 0.6482 - accuracy: 0.8077 - sparse_categorical_crossentropy: 0.6014 - val_loss: 1.2088 - val_accuracy: 0.5680 - val_sparse_categorical_crossentropy: 1.1200\n",
      "Epoch 46/100\n",
      " 1/22 [>.............................] - ETA: 0s - loss: 1.1117 - accuracy: 0.6562 - sparse_categorical_crossentropy: 1.0816.\n",
      "Epoch 46: val_loss did not improve from 1.15768\n",
      "22/22 [==============================] - 0s 1ms/step - loss: 0.6706 - accuracy: 0.7825 - sparse_categorical_crossentropy: 0.6184 - val_loss: 1.2236 - val_accuracy: 0.5740 - val_sparse_categorical_crossentropy: 1.1369\n",
      "Epoch 47/100\n",
      " 1/22 [>.............................] - ETA: 0s - loss: 1.0006 - accuracy: 0.5938 - sparse_categorical_crossentropy: 0.9701.\n",
      "Epoch 47: val_loss did not improve from 1.15768\n",
      "22/22 [==============================] - 0s 1ms/step - loss: 0.6482 - accuracy: 0.8033 - sparse_categorical_crossentropy: 0.5980 - val_loss: 1.2211 - val_accuracy: 0.5680 - val_sparse_categorical_crossentropy: 1.1355\n",
      "Epoch 48/100\n",
      " 1/22 [>.............................] - ETA: 0s - loss: 0.8010 - accuracy: 0.7188 - sparse_categorical_crossentropy: 0.7701.\n",
      "Epoch 48: val_loss did not improve from 1.15768\n",
      "22/22 [==============================] - 0s 1ms/step - loss: 0.6208 - accuracy: 0.8151 - sparse_categorical_crossentropy: 0.5790 - val_loss: 1.2291 - val_accuracy: 0.5858 - val_sparse_categorical_crossentropy: 1.1384\n",
      "Epoch 49/100\n",
      " 1/22 [>.............................] - ETA: 0s - loss: 0.5126 - accuracy: 0.9375 - sparse_categorical_crossentropy: 0.4814.\n",
      "Epoch 49: val_loss did not improve from 1.15768\n",
      "22/22 [==============================] - 0s 1ms/step - loss: 0.6020 - accuracy: 0.8121 - sparse_categorical_crossentropy: 0.5515 - val_loss: 1.2514 - val_accuracy: 0.5621 - val_sparse_categorical_crossentropy: 1.1662\n",
      "Epoch 50/100\n",
      " 1/22 [>.............................] - ETA: 0s - loss: 0.9537 - accuracy: 0.5938 - sparse_categorical_crossentropy: 0.9220.\n",
      "Epoch 50: val_loss did not improve from 1.15768\n",
      "22/22 [==============================] - 0s 1ms/step - loss: 0.6158 - accuracy: 0.8062 - sparse_categorical_crossentropy: 0.5691 - val_loss: 1.2590 - val_accuracy: 0.5680 - val_sparse_categorical_crossentropy: 1.1751\n",
      "Epoch 51/100\n",
      " 1/22 [>.............................] - ETA: 0s - loss: 0.6033 - accuracy: 0.7812 - sparse_categorical_crossentropy: 0.5712.\n",
      "Epoch 51: val_loss did not improve from 1.15768\n",
      "22/22 [==============================] - 0s 1ms/step - loss: 0.6033 - accuracy: 0.8062 - sparse_categorical_crossentropy: 0.5529 - val_loss: 1.2603 - val_accuracy: 0.5621 - val_sparse_categorical_crossentropy: 1.1737\n",
      "Epoch 52/100\n",
      " 1/22 [>.............................] - ETA: 0s - loss: 0.8481 - accuracy: 0.6875 - sparse_categorical_crossentropy: 0.8156.\n",
      "Epoch 52: val_loss did not improve from 1.15768\n",
      "22/22 [==============================] - 0s 1ms/step - loss: 0.6098 - accuracy: 0.8180 - sparse_categorical_crossentropy: 0.5576 - val_loss: 1.2425 - val_accuracy: 0.5740 - val_sparse_categorical_crossentropy: 1.1540\n",
      "Epoch 53/100\n",
      " 1/22 [>.............................] - ETA: 0s - loss: 0.5755 - accuracy: 0.8438 - sparse_categorical_crossentropy: 0.5426.\n",
      "Epoch 53: val_loss did not improve from 1.15768\n",
      "22/22 [==============================] - 0s 1ms/step - loss: 0.5796 - accuracy: 0.8269 - sparse_categorical_crossentropy: 0.5301 - val_loss: 1.2720 - val_accuracy: 0.5621 - val_sparse_categorical_crossentropy: 1.1753\n",
      "Epoch 54/100\n",
      " 1/22 [>.............................] - ETA: 0s - loss: 0.7789 - accuracy: 0.6875 - sparse_categorical_crossentropy: 0.7455.\n",
      "Epoch 54: val_loss did not improve from 1.15768\n",
      "22/22 [==============================] - 0s 1ms/step - loss: 0.6062 - accuracy: 0.7988 - sparse_categorical_crossentropy: 0.5530 - val_loss: 1.2559 - val_accuracy: 0.5621 - val_sparse_categorical_crossentropy: 1.1629\n",
      "Epoch 55/100\n",
      " 1/22 [>.............................] - ETA: 0s - loss: 0.7585 - accuracy: 0.7188 - sparse_categorical_crossentropy: 0.7248.\n",
      "Epoch 55: val_loss did not improve from 1.15768\n",
      "22/22 [==============================] - 0s 1ms/step - loss: 0.5687 - accuracy: 0.8284 - sparse_categorical_crossentropy: 0.5154 - val_loss: 1.2664 - val_accuracy: 0.5680 - val_sparse_categorical_crossentropy: 1.1725\n",
      "Epoch 56/100\n",
      " 1/22 [>.............................] - ETA: 0s - loss: 0.6845 - accuracy: 0.7500 - sparse_categorical_crossentropy: 0.6504.\n",
      "Epoch 56: val_loss did not improve from 1.15768\n",
      "22/22 [==============================] - 0s 1ms/step - loss: 0.5457 - accuracy: 0.8343 - sparse_categorical_crossentropy: 0.4987 - val_loss: 1.2584 - val_accuracy: 0.5858 - val_sparse_categorical_crossentropy: 1.1620\n",
      "Epoch 57/100\n",
      " 1/22 [>.............................] - ETA: 0s - loss: 0.7786 - accuracy: 0.7500 - sparse_categorical_crossentropy: 0.7441.\n",
      "Epoch 57: val_loss did not improve from 1.15768\n",
      "22/22 [==============================] - 0s 1ms/step - loss: 0.5235 - accuracy: 0.8476 - sparse_categorical_crossentropy: 0.4731 - val_loss: 1.2630 - val_accuracy: 0.5680 - val_sparse_categorical_crossentropy: 1.1634\n",
      "Epoch 58/100\n",
      " 1/22 [>.............................] - ETA: 0s - loss: 0.7177 - accuracy: 0.7500 - sparse_categorical_crossentropy: 0.6828.\n",
      "Epoch 58: val_loss did not improve from 1.15768\n",
      "22/22 [==============================] - 0s 1ms/step - loss: 0.5372 - accuracy: 0.8565 - sparse_categorical_crossentropy: 0.4923 - val_loss: 1.2769 - val_accuracy: 0.5740 - val_sparse_categorical_crossentropy: 1.1775\n",
      "Epoch 59/100\n",
      " 1/22 [>.............................] - ETA: 0s - loss: 0.6379 - accuracy: 0.8438 - sparse_categorical_crossentropy: 0.6027.\n",
      "Epoch 59: val_loss did not improve from 1.15768\n",
      "22/22 [==============================] - 0s 1ms/step - loss: 0.5110 - accuracy: 0.8521 - sparse_categorical_crossentropy: 0.4606 - val_loss: 1.2647 - val_accuracy: 0.5799 - val_sparse_categorical_crossentropy: 1.1669\n"
     ]
    }
   ],
   "source": [
    "history = model.fit(train_ds, epochs=100, batch_size=BATCH_SIZE, validation_data=val_ds, callbacks=CALLBACKS)"
   ],
   "metadata": {
    "collapsed": false,
    "ExecuteTime": {
     "end_time": "2024-02-23T23:55:58.775404500Z",
     "start_time": "2024-02-23T23:55:56.004469900Z"
    }
   },
   "id": "18398cf390d74222",
   "execution_count": 22
  },
  {
   "cell_type": "markdown",
   "source": [
    "Now using tfdocs.plots.HistoryPlotter, we can visualize the training and validation loss and accuracy."
   ],
   "metadata": {
    "collapsed": false
   },
   "id": "fc642328f72f6966"
  },
  {
   "cell_type": "code",
   "outputs": [
    {
     "data": {
      "text/plain": "<Figure size 640x480 with 1 Axes>",
      "image/png": "[encoded data removed]"
     },
     "metadata": {},
     "output_type": "display_data"
    }
   ],
   "source": [
    "size_histories = {}\n",
    "size_histories['Baseline'] = history\n",
    "plotter = tfdocs.plots.HistoryPlotter(metric='sparse_categorical_crossentropy', smoothing_std=10)\n",
    "plotter.plot(size_histories)"
   ],
   "metadata": {
    "collapsed": false,
    "ExecuteTime": {
     "end_time": "2024-02-23T23:55:58.859403100Z",
     "start_time": "2024-02-23T23:55:58.776403Z"
    }
   },
   "id": "a7a2ea0769fdc279",
   "execution_count": 23
  },
  {
   "cell_type": "markdown",
   "source": [
    "We can see that the model the validation loss becomes stagnant after  about 40 epochs.\n",
    "\n",
    "Let's now evaluate the model on the test dataset."
   ],
   "metadata": {
    "collapsed": false
   },
   "id": "a97fe8c00c1e28e0"
  },
  {
   "cell_type": "code",
   "outputs": [
    {
     "name": "stdout",
     "output_type": "stream",
     "text": [
      "7/7 [==============================] - 0s 833us/step - loss: 1.0922 - accuracy: 0.6274 - sparse_categorical_crossentropy: 1.0564\n"
     ]
    },
    {
     "data": {
      "text/plain": "[1.0922263860702515, 0.6273584961891174, 1.0563856363296509]"
     },
     "execution_count": 24,
     "metadata": {},
     "output_type": "execute_result"
    }
   ],
   "source": [
    "model.evaluate(test_ds, verbose=1, batch_size=BATCH_SIZE)"
   ],
   "metadata": {
    "collapsed": false,
    "ExecuteTime": {
     "end_time": "2024-02-23T23:55:58.912911800Z",
     "start_time": "2024-02-23T23:55:58.853402700Z"
    }
   },
   "id": "d52c2208aed74b8b",
   "execution_count": 24
  },
  {
   "cell_type": "markdown",
   "source": [
    "Let's also generate a classification report for the model along with the confusion matrix."
   ],
   "metadata": {
    "collapsed": false
   },
   "id": "bb4f229959c3287d"
  },
  {
   "cell_type": "code",
   "outputs": [
    {
     "name": "stdout",
     "output_type": "stream",
     "text": [
      "7/7 [==============================] - 0s 666us/step\n",
      "              precision    recall  f1-score   support\n",
      "\n",
      "           0       0.68      0.64      0.66        44\n",
      "           1       0.62      0.60      0.61        30\n",
      "           2       0.71      0.48      0.58        31\n",
      "           3       0.65      0.81      0.72        27\n",
      "           4       0.57      0.74      0.65        31\n",
      "           5       0.57      0.55      0.56        49\n",
      "\n",
      "    accuracy                           0.63       212\n",
      "   macro avg       0.64      0.64      0.63       212\n",
      "weighted avg       0.63      0.63      0.62       212\n",
      "\n",
      "[[28  2  2  3  0  9]\n",
      " [ 0 18  3  2  4  3]\n",
      " [ 6  4 15  0  3  3]\n",
      " [ 1  0  0 22  2  2]\n",
      " [ 1  3  0  1 23  3]\n",
      " [ 5  2  1  6  8 27]]\n"
     ]
    }
   ],
   "source": [
    "from sklearn.metrics import classification_report\n",
    "\n",
    "y_pred = model.predict(test_ds)\n",
    "\n",
    "y_pred = np.argmax(y_pred, axis=1)\n",
    "\n",
    "print(classification_report(y_test, y_pred))\n",
    "print(metrics.confusion_matrix(y_test, y_pred))"
   ],
   "metadata": {
    "collapsed": false,
    "ExecuteTime": {
     "end_time": "2024-02-23T23:56:33.267849900Z",
     "start_time": "2024-02-23T23:56:33.198009500Z"
    }
   },
   "id": "73a947990a3f8705",
   "execution_count": 25
  },
  {
   "cell_type": "markdown",
   "source": [
    "We can see that the model has an accuracy of 0.63, which is not bad considering the small dataset we have.\n",
    "Notable are the precision and recall scores for class 3, which are 0.67 and 0.30, respectively, showing that the model is not performing well on this class\n",
    "in comparison to the other classes. This class is about 'WORDS RELATING TO THE INTELLECTUAL FACULTIES', whose words may be more challenging to classify\n",
    "due to the philosophical nature of the words.\n",
    "\n",
    "However, we can see that the model is overfitting the training data, as the validation loss becomes higher than the training loss quickly,\n",
    "which makes sense given the small dataset we have.\n",
    "\n",
    "Ironically, the simpler models such as logistic regression and SGD outperformed the neural network model."
   ],
   "metadata": {
    "collapsed": false
   },
   "id": "6ab41048404b3e7b"
  },
  {
   "cell_type": "markdown",
   "source": [
    "### Two-Level Classification\n",
    "\n",
    "As we saw from before, we got the best results using the SGD Classifier.\n",
    "\n",
    "Let's now try to perform a two-level classification, where we first classify the class of the word and then classify the division/section of the word based on the class it belongs to.\n",
    "\n",
    "Firstly, we will create a new column in the dataframe named division/section, \n",
    "where it has as value the division if the division is not 4 (meaning `N/A` in our case),\n",
    " otherwise it has the value of the section.\n",
    "\n",
    "Then we will split the data into training and testing sets, using 80% of the data for training and 20% for testing."
   ],
   "metadata": {
    "collapsed": false
   },
   "id": "7cece51585462464"
  },
  {
   "cell_type": "code",
   "outputs": [],
   "source": [
    "# For the cls_df dataframe create a new column named division/section where it has as value the division if the division is not 4, otherwise it has the value of the section\n",
    "cls_df['division/section'] = cls_df['division']\n",
    "\n",
    "# 4 Means No Division\n",
    "cls_df.loc[cls_df['division'] == 4, 'division/section'] = cls_df['section']"
   ],
   "metadata": {
    "collapsed": false,
    "ExecuteTime": {
     "end_time": "2024-02-23T23:33:55.287154400Z",
     "start_time": "2024-02-23T23:33:55.269341Z"
    }
   },
   "id": "a7f158c0df67a4a0",
   "execution_count": 11
  },
  {
   "cell_type": "markdown",
   "source": [
    "Now let's split the data into training and testing sets, using 80% of the data for training and 20% for testing."
   ],
   "metadata": {
    "collapsed": false
   },
   "id": "2411460d85eb8e55"
  },
  {
   "cell_type": "code",
   "outputs": [],
   "source": [
    "from sklearn.model_selection import train_test_split\n",
    "\n",
    "# Get class and division/section\n",
    "y = cls_df[['class', 'division/section']]\n",
    "X_train, X_test, y_train, y_test = train_test_split(X, y, test_size=0.2, random_state=42)"
   ],
   "metadata": {
    "collapsed": false,
    "ExecuteTime": {
     "end_time": "2024-02-23T23:33:55.609492100Z",
     "start_time": "2024-02-23T23:33:55.603533400Z"
    }
   },
   "id": "85fde21674eaec17",
   "execution_count": 12
  },
  {
   "cell_type": "markdown",
   "source": [
    "Having done that we can now approach the two-level classification using the SGD Classifier as before, but this\n",
    "time we will use the `MultiOutputClassifier` from sklearn to perform the multi-output classification.\n",
    "However, there is a drawback to this approach, because at present, no metric in sklearn.metrics supports the multiclass-multioutput classification task.\n",
    "This means that we will have to create our own custom accuracy metric for the multi-output classification."
   ],
   "metadata": {
    "collapsed": false
   },
   "id": "25d67e79115b7dd8"
  },
  {
   "cell_type": "code",
   "outputs": [
    {
     "name": "stdout",
     "output_type": "stream",
     "text": [
      "Multi-output Accuracy: 0.4386792452830189\n"
     ]
    }
   ],
   "source": [
    "from sklearn.multioutput import MultiOutputClassifier\n",
    "from sklearn.linear_model import SGDClassifier\n",
    "\n",
    "# Create a multi-output classifier\n",
    "multi_output_model = MultiOutputClassifier(\n",
    "    sgd_model, n_jobs=-1)\n",
    "\n",
    "# Train the multi-output classifier\n",
    "multi_output_model.fit(X_train, y_train)\n",
    "\n",
    "# Generate classification report\n",
    "y_pred = multi_output_model.predict(X_test)\n",
    "\n",
    "# Custom accuracy for multi-output\n",
    "def multioutput_accuracy(y_true, y_pred):\n",
    "    correct = np.all(y_true == y_pred, axis=1)\n",
    "    return np.mean(correct)\n",
    "\n",
    "\n",
    "accuracy = multioutput_accuracy(y_test, y_pred)\n",
    "print(f\"Multi-output Accuracy: {accuracy}\")"
   ],
   "metadata": {
    "collapsed": false,
    "ExecuteTime": {
     "end_time": "2024-02-23T23:33:59.683944400Z",
     "start_time": "2024-02-23T23:33:56.308865800Z"
    }
   },
   "id": "79b2a49fecb749be",
   "execution_count": 13
  },
  {
   "cell_type": "markdown",
   "source": [
    "We can see that the multi-output accuracy is 0.438 which is not bad considering the small dataset we have,\n",
    "however, it is not as good as the single-output classification we performed earlier.\n",
    "Also, the custom accuracy metric we created may not be the best way to evaluate the multi-output classification.\n",
    "\n",
    "For that reason, let's try and train separate models for the class and the division/section and see how they perform.\n",
    "\n",
    "We will train a separate model (or models) for predicting the division/section within each class. This model will be trained only on data from a specific class. For example, you might have one model for each class, or a single model that uses the class prediction as an additional input."
   ],
   "metadata": {
    "collapsed": false
   },
   "id": "7326f9175f93ceb"
  },
  {
   "cell_type": "code",
   "outputs": [
    {
     "name": "stdout",
     "output_type": "stream",
     "text": [
      "Class 0 Accuracy: 0.6410256410256411\n",
      "Class 1 Accuracy: 0.7666666666666667\n",
      "Class 2 Accuracy: 0.7586206896551724\n",
      "Class 3 Accuracy: 0.696969696969697\n",
      "Class 4 Accuracy: 0.6756756756756757\n",
      "Class 5 Accuracy: 0.7608695652173914\n",
      "\n",
      "Average Accuracy: 0.7166379892017073\n"
     ]
    }
   ],
   "source": [
    "# For each class, train a separate model to predict the division/section\n",
    "class_models = {}\n",
    "accuracies = []\n",
    "for i in range(6):\n",
    "    # Get the data for the class\n",
    "    class_data = cls_df[cls_df['class'] == i]\n",
    "    X_C = np.vstack(class_data['embedding'])\n",
    "    y_C = class_data['division/section']\n",
    "    # Split the data into training and testing sets\n",
    "    X_C_train, X_C_test, y_C_train, y_C_test = train_test_split(X_C, y_C, test_size=0.2, random_state=62)\n",
    "\n",
    "    # Train the model\n",
    "    model = sgd_model\n",
    "    model.fit(X_C_train, y_C_train)\n",
    "\n",
    "    # Generate classification report\n",
    "    y_C_pred = model.predict(X_C_test)\n",
    "    print(f\"Class {i} Accuracy: {metrics.accuracy_score(y_C_test, y_C_pred)}\")\n",
    "    accuracies.append(metrics.accuracy_score(y_C_test, y_C_pred))\n",
    "    class_models[i] = model\n",
    "\n",
    "print()\n",
    "print(f\"Average Accuracy: {np.mean(accuracies)}\")"
   ],
   "metadata": {
    "collapsed": false,
    "ExecuteTime": {
     "end_time": "2024-02-23T23:36:04.021641700Z",
     "start_time": "2024-02-23T23:36:03.764498700Z"
    }
   },
   "id": "200c547705fbd699",
   "execution_count": 15
  },
  {
   "cell_type": "markdown",
   "source": [
    "Now having the separate models for each class, we can now chain them together to predict the division/section based on the class."
   ],
   "metadata": {
    "collapsed": false
   },
   "id": "ec307bba8ff898af"
  },
  {
   "cell_type": "code",
   "outputs": [],
   "source": [
    "# Chain the models together to predict the division/section based on the class\n",
    "def predict_word_class_and_division(df):\n",
    "    predictions = []\n",
    "\n",
    "    for word in df[word_column]:\n",
    "        # Predict the class\n",
    "        predicted_class = sgd_model.predict(word)[0]  # Assuming the output is a list\n",
    "\n",
    "        # Predict the division/section within the predicted class\n",
    "        predicted_division = class_models[predicted_class].predict([word])[0]  # Assuming the output is a list\n",
    "\n",
    "        predictions.append({'class': predicted_class, 'division/section': predicted_division})\n",
    "\n",
    "    return pd.DataFrame(predictions)\n",
    "\n",
    "y_pred = predict_word_class_and_division(X_test)\n",
    "\n",
    "# Custom accuracy for multi-output\n",
    "def multioutput_accuracy(y_true, y_pred):\n",
    "    correct = np.all(y_true == y_pred, axis=1)\n",
    "    return np.mean(correct)\n"
   ],
   "metadata": {
    "collapsed": false
   },
   "id": "4007c2ce0b400bf8"
  }
 ],
 "metadata": {
  "kernelspec": {
   "display_name": "Python 3",
   "language": "python",
   "name": "python3"
  },
  "language_info": {
   "codemirror_mode": {
    "name": "ipython",
    "version": 2
   },
   "file_extension": ".py",
   "mimetype": "text/x-python",
   "name": "python",
   "nbconvert_exporter": "python",
   "pygments_lexer": "ipython2",
   "version": "2.7.6"
  }
 },
 "nbformat": 4,
 "nbformat_minor": 5
}
