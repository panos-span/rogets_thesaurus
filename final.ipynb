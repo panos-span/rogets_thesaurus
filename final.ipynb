{
 "cells": [
  {
   "cell_type": "code",
   "execution_count": 148,
   "id": "initial_id",
   "metadata": {
    "collapsed": true,
    "ExecuteTime": {
     "end_time": "2024-02-10T18:50:23.615149Z",
     "start_time": "2024-02-10T18:50:23.467636800Z"
    }
   },
   "outputs": [],
   "source": [
    "import requests\n",
    "from bs4 import BeautifulSoup\n",
    "import re\n",
    "import os"
   ]
  },
  {
   "cell_type": "markdown",
   "source": [
    "## Extract the words from Gutenberg"
   ],
   "metadata": {
    "collapsed": false
   },
   "id": "2b72da1fd7c9781"
  },
  {
   "cell_type": "code",
   "outputs": [],
   "source": [
    "r = requests.get(\"https://www.gutenberg.org/files/10681/old/20040627-10681-h-body-pos.htm\")\n",
    "html = r.text\n",
    "soup = BeautifulSoup(html, 'html.parser')"
   ],
   "metadata": {
    "collapsed": false,
    "ExecuteTime": {
     "end_time": "2024-02-10T18:50:26.882413300Z",
     "start_time": "2024-02-10T18:50:23.617150400Z"
    }
   },
   "id": "27c29c218c859d60",
   "execution_count": 149
  },
  {
   "cell_type": "markdown",
   "source": [
    "### Let's explain how the words along with their classes and divisions and sections are organized in the page\n",
    "\n",
    "The words are organized in the page in the following manner:\n",
    "\n",
    "1) They belong to a class\n",
    "2) They belong to a division (if it exists) within the class\n",
    "3) They belong to a section within the division (if it exists) or within the class"
   ],
   "metadata": {
    "collapsed": false
   },
   "id": "19504d88085216f8"
  },
  {
   "cell_type": "markdown",
   "source": [
    "\n",
    "1) We can notice that all classes on the page are represented by a `<dt>` tag with an `<a>` tag inside it. \n",
    "The `<a>` tag has a name attribute that starts with **`CLASS`**. The text of the `<a>` tag is the name of the class.\n",
    "\n",
    "\n",
    "2) We can notice that all divisions on the page are represented by a `<dt>` tag with an `<a>` tag inside it.\n",
    "The `<a>` tag has a name attribute that starts with **`DIVISION`**. The text of the `<a>` tag is the name of the division.\n",
    "\n",
    "\n",
    "3) We can notice that all sections on the page are represented by a `<dt>` tag with an `<a>` tag inside it.\n",
    "The `<a>` tag has a name attribute that starts with **`SECTION`**. The text of the `<a>` tag is the name of the section.\n",
    "\n",
    "Lastly, the words are represented by a `<dt>` tag with an `<a>` tag inside it. The `<a>` tag has a name attribute that is a number.\n",
    "We notice that the words come after the `<a>` tag where the name attribute is a number and also that tag is inside a `<b>` tag.\n",
    "So in order to get the words we must get the text of the `<b>` tag that comes after the `<a>` tag where the name attribute is a number."
   ],
   "metadata": {
    "collapsed": false
   },
   "id": "6118aac8c4adbc5b"
  },
  {
   "cell_type": "markdown",
   "source": [
    "With the above in mind, we can extract the hierarchy of classes, divisions, sections, and words from the page.\n",
    "We can then create a directory structure that mirrors the structure of the page and save the words under each section to a file in the directory structure \n",
    "using a dictionary to hold the entire hierarchy.\n"
   ],
   "metadata": {
    "collapsed": false
   },
   "id": "c88cdcd3bd789e60"
  },
  {
   "cell_type": "code",
   "outputs": [],
   "source": [
    "# Initialize a dictionary to hold the entire hierarchy\n",
    "hierarchy = {}\n",
    "current_class = None\n",
    "current_division = None\n",
    "current_section = None\n",
    "\n",
    "# Find all <dt> tags\n",
    "dt_tags = soup.find_all('dt')"
   ],
   "metadata": {
    "collapsed": false,
    "ExecuteTime": {
     "end_time": "2024-02-10T18:50:26.909857800Z",
     "start_time": "2024-02-10T18:50:26.883412800Z"
    }
   },
   "id": "c1e7545d40e2ca",
   "execution_count": 150
  },
  {
   "cell_type": "markdown",
   "source": [
    "Having the dictionary initialized and the `<dt>` tags found, we can now iterate through each `<dt>` tag and extract the hierarchy of classes, divisions, sections, and words from the page."
   ],
   "metadata": {
    "collapsed": false
   },
   "id": "c5769802ed137f0e"
  },
  {
   "cell_type": "code",
   "outputs": [
    {
     "name": "stdout",
     "output_type": "stream",
     "text": [
      "Existence\n",
      "Inexistence\n",
      "Substantiality\n",
      "Unsubstantiality\n",
      "Intrinsicality\n",
      "Extrinsicality\n",
      "State\n",
      "Circumstance\n",
      "Relation\n",
      "Irrelation\n",
      "Consanguinity\n",
      "Correlation\n",
      "Identity\n",
      "Contrariety\n",
      "Difference\n",
      "Uniformity\n",
      "Nonuniformity\n",
      "Similarity\n",
      "Dissimilarity\n",
      "Imitation\n",
      "Nonimitation\n",
      "Variation\n",
      "Copy\n",
      "Prototype\n",
      "Agreement\n",
      "Disagreement\n",
      "Quantity\n",
      "Degree\n",
      "Equality\n",
      "Inequality\n",
      "Mean\n",
      "Compensation\n",
      "Greatness\n",
      "Smallness\n",
      "Superiority\n",
      "Inferiority\n",
      "Increase\n",
      "Nonincrease, Decrease\n",
      "Addition\n",
      "Nonaddition. Subtraction\n",
      "Adjunct\n",
      "Remainder\n",
      "Decrement\n",
      "Mixture\n",
      "Simpleness\n",
      "Junction\n",
      "Disjunction\n",
      "Connection\n",
      "Coherence\n",
      "Incoherence\n",
      "Combination\n",
      "Decomposition\n",
      "Whole\n",
      "Part\n",
      "Completeness\n",
      "Incompleteness\n",
      "Composition\n",
      "Exclusion\n",
      "Component\n",
      "Extraneousness\n",
      "Order\n",
      "Disorder\n",
      "Complexity\n",
      "Arrangement\n",
      "Derangement\n",
      "Precedence\n",
      "Sequence\n",
      "Precursor\n",
      "Sequel\n",
      "Beginning\n",
      "End\n",
      "Middle\n",
      "Continuity\n",
      "Discontinuity\n",
      "Term\n",
      "Assemblage\n",
      "Nonassemblage. Dispersion\n",
      "Focus\n",
      "Class\n",
      "Inclusion\n",
      "Exclusion\n",
      "Generality\n",
      "Speciality\n",
      "Normality\n",
      "Multiformity\n",
      "Conformity\n",
      "Unconformity\n",
      "Number\n",
      "Numeration\n",
      "List\n",
      "Unity\n",
      "Accompaniment\n",
      "Duality\n",
      "Duplication\n",
      "bisection\n",
      "Triality\n",
      "Triplication\n",
      "Trisection\n",
      "Four\n",
      "Quadruplication\n",
      "Quadrisection\n",
      "Five\n",
      "Quinquesection\n",
      "Plurality\n",
      "Fraction\n",
      "Zero\n",
      "Multitude\n",
      "Fewness\n",
      "Repetition\n",
      "Infinity\n",
      "Time\n",
      "Neverness\n",
      "Period\n",
      "Contingent Duration\n",
      "Course\n",
      "Diuturnity\n",
      "Transientness\n",
      "Perpetuity\n",
      "Instantaneity\n",
      "Chronometry\n",
      "Anachronism\n",
      "Priority\n",
      "Posteriority\n",
      "The Present Time\n",
      "Different time\n",
      "Synchronism\n",
      "Futurity\n",
      "The Past\n",
      "Newness\n",
      "Oldness\n",
      "Morning\n",
      "Evening\n",
      "Youth\n",
      "Age\n",
      "Infant\n",
      "Veteran\n",
      "Adolescence\n",
      "Earliness\n",
      "Punctuality\n",
      "Lateness\n",
      "Occasion\n",
      "Untimeliness\n",
      "Frequency\n",
      "Infrequency\n",
      "Periodicity\n",
      "Irregularity of recurrence\n",
      "Change\n",
      "Permanence\n",
      "Cessation\n",
      "Continuance in action\n",
      "Conversion\n",
      "Reversion\n",
      "Revolution\n",
      "Substitution\n",
      "Interchange\n",
      "Changeableness\n",
      "Stability\n",
      "Eventuality\n",
      "Destiny\n",
      "Cause\n",
      "Effect\n",
      "Attribution\n",
      "Chance\n",
      "Power\n",
      "Impotence\n",
      "Strength\n",
      "Weakness\n",
      "Production\n",
      "Destruction\n",
      "Reproduction\n",
      "Producer\n",
      "Destroyer\n",
      "Paternity\n",
      "Posterity\n",
      "Productiveness\n",
      "Unproductiveness\n",
      "Agency\n",
      "Physical Energy\n",
      "Physical Inertness\n",
      "Violence\n",
      "Moderation\n",
      "Influence\n",
      "Absence of Influence\n",
      "Tendency\n",
      "Liability\n",
      "Concurrence\n",
      "Counteraction\n",
      "Space\n",
      "Inextension\n",
      "Region\n",
      "Place\n",
      "Situation\n",
      "Location\n",
      "Displacement\n",
      "Presence\n",
      "Absence\n",
      "Inhabitant\n",
      "Abode\n",
      "Contents\n",
      "Receptacle\n",
      "Size\n",
      "Littleness\n",
      "Expansion\n",
      "Contraction\n",
      "Distance\n",
      "Nearness\n",
      "Interval\n",
      "Contiguity\n",
      "Length\n",
      "Shortness\n",
      "Breadth, Thickness,\n",
      "Narrowness. Thinness\n",
      "Layer\n",
      "Filament\n",
      "Height\n",
      "Lowness\n",
      "Depth\n",
      "Shallowness\n",
      "Summit\n",
      "Base\n",
      "Verticality\n",
      "Horizontality\n",
      "Pendency\n",
      "Support\n",
      "Parallelism\n",
      "Perpendicularity\n",
      "Obliquity\n",
      "Inversion\n",
      "Crossing\n",
      "Exteriority\n",
      "Interiority\n",
      "Centrality\n",
      "Covering\n",
      "Lining\n",
      "Clothing\n",
      "Divestment\n",
      "Circumjacence\n",
      "Interposition\n",
      "Circumscription\n",
      "Outline\n",
      "Edge\n",
      "Inclosure\n",
      "Limit\n",
      "Front\n",
      "Rear\n",
      "Laterality\n",
      "Contraposition\n",
      "Dextrality\n",
      "Sinistrality\n",
      "Form\n",
      "Amorphism\n",
      "Symmetry\n",
      "Distortion\n",
      "Angularity\n",
      "Curvature\n",
      "Straightness\n",
      "Circularity\n",
      "Convolution\n",
      "Rotundity\n",
      "Convexity\n",
      "Flatness\n",
      "Concavity\n",
      "Sponge\n",
      "Sharpness\n",
      "Bluntness\n",
      "Smoothness\n",
      "Roughness\n",
      "Notch\n",
      "Fold\n",
      "Furrow\n",
      "Opening\n",
      "Closure\n",
      "Perforator\n",
      "Stopper\n",
      "Motion\n",
      "Quiescence\n",
      "Journey\n",
      "Navigation\n",
      "Traveler\n",
      "Mariner\n",
      "Transference\n",
      "Carrier\n",
      "Vehicle\n",
      "Ship\n",
      "Velocity\n",
      "Slowness\n",
      "Impulse\n",
      "Recoil\n",
      "Direction\n",
      "Deviation\n",
      "Precession\n",
      "Sequence\n",
      "Progression\n",
      "Regression\n",
      "Propulsion\n",
      "Traction\n",
      "Approach\n",
      "Recession\n",
      "Attraction\n",
      "Repulsion\n",
      "Convergence\n",
      "Divergence\n",
      "Arrival\n",
      "Departure\n",
      "Ingress\n",
      "Egress\n",
      "Reception\n",
      "Ejection\n",
      "Food\n",
      "Excretion\n",
      "Insertion\n",
      "Extraction\n",
      "Passage\n",
      "Transcursion\n",
      "Shortcoming\n",
      "Ascent\n",
      "Descent\n",
      "Elevation\n",
      "Depression\n",
      "Leap\n",
      "Plunge\n",
      "Circuition\n",
      "Rotation\n",
      "Evolution\n",
      "Oscillation\n",
      "Agitation\n",
      "Materiality\n",
      "Immateriality\n",
      "World\n",
      "Gravity\n",
      "Levity\n",
      "Density\n",
      "Rarity\n",
      "Hardness\n",
      "Softness\n",
      "Elasticity\n",
      "Inelasticity\n",
      "Tenacity\n",
      "Brittleness\n",
      "Texture\n",
      "Pulverulence\n",
      "Friction\n",
      "Lubrication\n",
      "Fluidity\n",
      "Gaseity\n",
      "Liquefaction\n",
      "Vaporization\n",
      "Water\n",
      "Air\n",
      "Moisture\n",
      "Dryness\n",
      "Ocean\n",
      "Land\n",
      "Gulf. Lake\n",
      "Plain\n",
      "Marsh\n",
      "Island\n",
      "Stream\n",
      "River\n",
      "Wind\n",
      "Conduit\n",
      "Airpipe\n",
      "Semiliquidity\n",
      "Bubble\n",
      "Pulpiness\n",
      "Unctuousness\n",
      "Oil\n",
      "Resin\n",
      "Organization\n",
      "Inorganization\n",
      "Life\n",
      "Death\n",
      "Killing\n",
      "Corpse\n",
      "Interment\n",
      "Animality\n",
      "Vegetability\n",
      "Animal\n",
      "Vegetable\n",
      "Zoology\n",
      "Botany\n",
      "Husbandry\n",
      "Agriculture\n",
      "Mankind\n",
      "Man\n",
      "Woman\n",
      "Sexuality\n",
      "Physical Sensibility\n",
      "Physical Insensibility\n",
      "Physical Pleasure\n",
      "Physical Pain\n",
      "Touch\n",
      "Sensations of Touch\n",
      "Numbness\n",
      "Heat\n",
      "Cold\n",
      "Calefaction\n",
      "Refrigeration\n",
      "Furnace\n",
      "Refrigerator\n",
      "Fuel\n",
      "Insulation\n",
      "Thermometer\n",
      "Taste\n",
      "Insipidity\n",
      "Pungency\n",
      "Saltiness\n",
      "Bitterness\n",
      "Condiment\n",
      "Savoriness\n",
      "Unsavoriness\n",
      "Sweetness\n",
      "Sourness\n",
      "Odor\n",
      "Inodorousness\n",
      "Fragrance\n",
      "Fetor\n",
      "Acridity\n",
      "Sound\n",
      "Silence\n",
      "Loudness\n",
      "Faintness\n",
      "Snap\n",
      "Roll\n",
      "Resonance\n",
      "Nonresonance\n",
      "Sibilation\n",
      "Stridor\n",
      "Cry\n",
      "Ululation\n",
      "Melody. Concord\n",
      "Discord\n",
      "Music\n",
      "Musician\n",
      "Musical Instruments\n",
      "Hearing\n",
      "Deafness\n",
      "Light\n",
      "Darkness\n",
      "Dimness\n",
      "Luminary\n",
      "Shade\n",
      "Transparency\n",
      "Opacity\n",
      "Turbidity\n",
      "Semitransparency\n",
      "Color\n",
      "Achromatism\n",
      "Whiteness\n",
      "Blackness\n",
      "Gray\n",
      "Brown\n",
      "Redness\n",
      "Greenness\n",
      "Yellowness\n",
      "Purple\n",
      "Blueness\n",
      "Orange\n",
      "Variegation\n",
      "Vision\n",
      "Blindness\n",
      "Dimsightedness\n",
      "Spectator\n",
      "Optical Instruments\n",
      "Visibility\n",
      "Invisibility\n",
      "Appearance\n",
      "Disappearance\n",
      "Intellect\n",
      "Absence or want of Intellect\n",
      "Thought\n",
      "Incogitancy\n",
      "Idea\n",
      "Topic\n",
      "Curiosity\n",
      "Incuriosity\n",
      "Attention\n",
      "Inattention\n",
      "Care\n",
      "Neglect\n",
      "Inquiry\n",
      "Answer\n",
      "Experiment\n",
      "Comparison\n",
      "Incomparability\n",
      "Discrimination\n",
      "Indiscrimination\n",
      "Identification\n",
      "Measurement\n",
      "Evidence\n",
      "Counter Evidence\n",
      "Qualification\n",
      "Possibility\n",
      "Impossibility\n",
      "Probability\n",
      "Improbability\n",
      "Certainty\n",
      "Uncertainty\n",
      "Reasoning,\n",
      "Intuition. & Sophistry\n",
      "Demonstration\n",
      "Confutation\n",
      "Judgment\n",
      "Discovery\n",
      "Misjudgment\n",
      "Overestimation\n",
      "Underestimation\n",
      "Belief\n",
      "Unbelief. Doubt\n",
      "Credulity\n",
      "Incredulity\n",
      "Assent\n",
      "Dissent\n",
      "Knowledge\n",
      "Ignorance\n",
      "Scholar\n",
      "Ignoramus\n",
      "Truth\n",
      "Error\n",
      "Maxim\n",
      "Absurdity\n",
      "Intelligence, Wisdom\n",
      "Imbecility. Folly\n",
      "Sage\n",
      "Fool\n",
      "Sanity\n",
      "Insanity\n",
      "Madman\n",
      "Memory\n",
      "Oblivion\n",
      "Expectation\n",
      "Inexpectation\n",
      "Disappointment\n",
      "Foresight\n",
      "Prediction\n",
      "Omen\n",
      "Oracle\n",
      "Supposition\n",
      "Analogy\n",
      "Imagination\n",
      "Meaning\n",
      "Unmeaningness\n",
      "Intelligibility\n",
      "Unintelligibility\n",
      "Equivocalness\n",
      "Metaphor\n",
      "Interpretation\n",
      "Misinterpretation\n",
      "Interpreter\n",
      "Manifestation\n",
      "Latency. Implication\n",
      "Information\n",
      "Correction\n",
      "Concealment\n",
      "Disclosure\n",
      "Ambush\n",
      "Publication\n",
      "News\n",
      "Secret\n",
      "Messenger\n",
      "Affirmation\n",
      "Negation\n",
      "Teaching\n",
      "Misteaching\n",
      "Learning\n",
      "Teacher\n",
      "Learner\n",
      "School\n",
      "Veracity\n",
      "Falsehood\n",
      "Deception\n",
      "Untruth\n",
      "Dupe\n",
      "Deceiver\n",
      "Exaggeration\n",
      "Indication\n",
      "Record\n",
      "Obliteration\n",
      "Recorder\n",
      "Representation\n",
      "Misrepresentation\n",
      "Painting\n",
      "Sculpture\n",
      "Engraving\n",
      "Artist\n",
      "Language\n",
      "Letter\n",
      "Word\n",
      "Neologism\n",
      "Nomenclature\n",
      "Misnomer\n",
      "Phrase\n",
      "Grammar\n",
      "Solecism\n",
      "Style\n",
      "Perspicuity\n",
      "Obscurity\n",
      "Conciseness\n",
      "Diffuseness\n",
      "Vigor\n",
      "Feebleness\n",
      "Plainness\n",
      "Ornament\n",
      "Elegance\n",
      "Inelegance\n",
      "Voice\n",
      "Aphony\n",
      "Speech\n",
      "Stammering\n",
      "Loquacity\n",
      "Taciturnity\n",
      "Allocution\n",
      "Response\n",
      "Conversation\n",
      "Soliloquy\n",
      "Writing\n",
      "Printing\n",
      "Correspondence\n",
      "Book\n",
      "Description\n",
      "Dissertation\n",
      "Compendium\n",
      "Poetry\n",
      "Prose\n",
      "The Drama\n",
      "Will\n",
      "Necessity\n",
      "Willingness\n",
      "Unwillingness\n",
      "Resolution\n",
      "Perseverance\n",
      "Irresolution\n",
      "Obstinacy\n",
      "Tergiversation\n",
      "Caprice\n",
      "Choice\n",
      "Absence of Choice\n",
      "Rejection\n",
      "Predetermination\n",
      "Impulse\n",
      "Habit\n",
      "Desuetude\n",
      "Motive\n",
      "Absence of Motive\n",
      "Dissuasion\n",
      "Pretext\n",
      "Good\n",
      "Evil\n",
      "Intention\n",
      "Chance\n",
      "Pursuit\n",
      "Avoidance\n",
      "Relinquishment\n",
      "Business\n",
      "Plan\n",
      "Method\n",
      "Mid-course\n",
      "Circuit\n",
      "Requirement\n",
      "Instrumentality\n",
      "Means\n",
      "Instrument\n",
      "Substitute\n",
      "Materials\n",
      "Store\n",
      "Provision\n",
      "Waste\n",
      "Sufficiency\n",
      "Insufficiency\n",
      "Redundancy\n",
      "Importance\n",
      "Unimportance\n",
      "Utility\n",
      "Inutility\n",
      "Expedience\n",
      "Inexpedience\n",
      "Goodness\n",
      "Badness\n",
      "Perfection\n",
      "Imperfection\n",
      "Cleanness\n",
      "Uncleanness\n",
      "Health\n",
      "Disease\n",
      "Salubrity\n",
      "Insalubrity\n",
      "Improvement\n",
      "Deterioration\n",
      "Restoration\n",
      "Relapse\n",
      "Remedy\n",
      "Bane\n",
      "Safety\n",
      "Danger\n",
      "Refuge\n",
      "Pitfall\n",
      "Warning\n",
      "Alarm\n",
      "Preservation\n",
      "Escape\n",
      "Deliverance\n",
      "Preparation\n",
      "Nonpreparation\n",
      "Essay\n",
      "Undertaking\n",
      "Use\n",
      "Disuse\n",
      "Misuse\n",
      "Action\n",
      "Inaction\n",
      "Activity\n",
      "Inactivity\n",
      "Haste\n",
      "Leisure\n",
      "Exertion\n",
      "Repose\n",
      "Fatigue\n",
      "Refreshment\n",
      "Agent\n",
      "Workshop\n",
      "Conduct\n",
      "Direction\n",
      "Director\n",
      "Advice\n",
      "Council\n",
      "Precept\n",
      "Skill\n",
      "Unskillfulness\n",
      "Proficient\n",
      "Bungler\n",
      "Cunning\n",
      "Artlessness\n",
      "Difficulty\n",
      "Facility\n",
      "Hindrance\n",
      "Aid\n",
      "Opposition\n",
      "Cooperation\n",
      "Opponent\n",
      "Auxiliary\n",
      "Party\n",
      "Discord\n",
      "Concord\n",
      "Defiance\n",
      "Attack\n",
      "Defense\n",
      "Retaliation\n",
      "Resistance\n",
      "Contention\n",
      "Peace\n",
      "Warfare\n",
      "Pacification\n",
      "Mediation\n",
      "Submission\n",
      "Combatant\n",
      "Arms\n",
      "Arena\n",
      "Completion\n",
      "Noncompletion\n",
      "Success\n",
      "Failure\n",
      "Trophy\n",
      "Prosperity\n",
      "Adversity\n",
      "Mediocrity\n",
      "Authority\n",
      "Government\n",
      "Politics\n",
      "Laxity\n",
      "Severity\n",
      "Lenity\n",
      "Command\n",
      "Disobedience\n",
      "Obedience\n",
      "Compulsion\n",
      "Master\n",
      "Servant\n",
      "Scepter\n",
      "Freedom\n",
      "Subjection\n",
      "Liberation\n",
      "Restraint\n",
      "Prison\n",
      "Keeper\n",
      "Prisoner\n",
      "Commission\n",
      "Abrogation\n",
      "Resignation\n",
      "Consignee\n",
      "Deputy\n",
      "Permission\n",
      "Prohibition\n",
      "Consent\n",
      "Offer\n",
      "Refusal\n",
      "Request\n",
      "Deprecation\n",
      "Petitioner\n",
      "Promise\n",
      "Release  from engagement\n",
      "Compact\n",
      "Conditions\n",
      "Security\n",
      "Observance\n",
      "Nonobservance\n",
      "Compromise\n",
      "Acquisition\n",
      "Loss\n",
      "Possession\n",
      "Exemption\n",
      "Participation\n",
      "Possessor\n",
      "Property\n",
      "Retention\n",
      "Relinquishment\n",
      "Transfer\n",
      "Giving\n",
      "Receiving\n",
      "Apportionment\n",
      "Lending\n",
      "Borrowing\n",
      "Taking\n",
      "Restitution\n",
      "Stealing\n",
      "Thief\n",
      "Booty\n",
      "Barter\n",
      "Purchase\n",
      "Sale\n",
      "Merchant\n",
      "Merchandise\n",
      "Mart\n",
      "Stock Market\n",
      "Securities\n",
      "Money\n",
      "Treasurer\n",
      "Treasury\n",
      "Wealth\n",
      "Poverty\n",
      "Credit\n",
      "Debt\n",
      "Payment\n",
      "Nonpayment\n",
      "Expenditure\n",
      "Receipt\n",
      "Accounts\n",
      "Price\n",
      "Value\n",
      "Worthlessness\n",
      "Discount\n",
      "Dearness\n",
      "Cheapness\n",
      "Liberality\n",
      "Economy\n",
      "Greed\n",
      "Prodigality\n",
      "Parsimony\n",
      "Affections\n",
      "Feeling\n",
      "Sensibility\n",
      "Insensibility\n",
      "Excitation\n",
      "Excitability\n",
      "Inexcitability\n",
      "Pleasure\n",
      "Pain\n",
      "Pleasurableness\n",
      "Painfulness\n",
      "Content\n",
      "Discontent\n",
      "Regret\n",
      "Relief\n",
      "Aggravation\n",
      "Cheerfulness\n",
      "Dejection\n",
      "Rejoicing\n",
      "Lamentation\n",
      "Amusement\n",
      "Weariness\n",
      "Wit\n",
      "Dullness\n",
      "Humorist\n",
      "Beauty\n",
      "Ugliness\n",
      "Ornament\n",
      "Jewelry\n",
      "Blemish\n",
      "Simplicity\n",
      "Taste\n",
      "Vulgarity\n",
      "Fashion\n",
      "Ridiculousness\n",
      "Fop\n",
      "Affectation\n",
      "Ridicule\n",
      "Laughingstock\n",
      "Hope\n",
      "Hopelessness\n",
      "Fear\n",
      "Courage\n",
      "Cowardice\n",
      "Rashness\n",
      "Caution\n",
      "Desire\n",
      "Indifference\n",
      "Dislike\n",
      "Fastidiousness\n",
      "Satiety\n",
      "Wonder\n",
      "Expectance\n",
      "Prodigy\n",
      "Repute\n",
      "Disrepute\n",
      "Nobility\n",
      "Commonalty\n",
      "Title\n",
      "Pride\n",
      "Humility\n",
      "Vanity\n",
      "Modesty\n",
      "Ostentation\n",
      "Celebration\n",
      "Boasting\n",
      "Insolence\n",
      "Servility\n",
      "Blusterer\n",
      "Friendship\n",
      "Enmity\n",
      "Friend\n",
      "Enemy\n",
      "Sociality\n",
      "Seclusion. Exclusion\n",
      "Courtesy\n",
      "Discourtesy\n",
      "Congratulation\n",
      "Love\n",
      "Hate\n",
      "Favorite\n",
      "Resentment\n",
      "Irascibility\n",
      "Sullenness\n",
      "Endearment\n",
      "Marriage\n",
      "Celibacy\n",
      "Divorce\n",
      "Benevolence\n",
      "Malevolence\n",
      "Malediction\n",
      "Threat\n",
      "Philanthropy\n",
      "Misanthropy\n",
      "Benefactor\n",
      "Evil doer\n",
      "Pity\n",
      "Pitilessness\n",
      "Condolence\n",
      "Gratitude\n",
      "Ingratitude\n",
      "Forgiveness\n",
      "Revenge\n",
      "Jealousy\n",
      "Envy\n",
      "Right\n",
      "Wrong\n",
      "Dueness\n",
      "Undueness\n",
      "Duty\n",
      "Dereliction of Duty\n",
      "Exemption\n",
      "Respect\n",
      "Disrespect\n",
      "Contempt\n",
      "Approbation\n",
      "Disapprobation\n",
      "Flattery\n",
      "Detraction\n",
      "Flatterer\n",
      "Detractor\n",
      "Vindication\n",
      "Accusation\n",
      "Probity\n",
      "Improbity\n",
      "Knave\n",
      "Disinterestedness\n",
      "Selfishness\n",
      "Virtue\n",
      "Vice\n",
      "Innocence\n",
      "Guilt\n",
      "Good Man\n",
      "Bad Man\n",
      "Penitence\n",
      "Impenitence\n",
      "Atonement\n",
      "Temperance\n",
      "Intemperance\n",
      "Sensualist\n",
      "Asceticism\n",
      "Fasting\n",
      "Gluttony\n",
      "Sobriety\n",
      "Drunkenness\n",
      "Purity\n",
      "Impurity\n",
      "Libertine\n",
      "Legality\n",
      "Illegality\n",
      "Jurisdiction\n",
      "Tribunal\n",
      "Judge\n",
      "Lawyer\n",
      "Lawsuit\n",
      "Acquittal\n",
      "Condemnation\n",
      "Punishment\n",
      "Reward\n",
      "Penalty\n",
      "Scourge\n",
      "Deity\n",
      "Angel\n",
      "Satan\n",
      "Jupiter\n",
      "Demon\n",
      "Heaven\n",
      "Hell\n",
      "Theology\n",
      "Orthodoxy\n",
      "Heterodoxy\n",
      "Judeo-Christian Revelation\n",
      "Pseudo-Revelation\n",
      "Piety\n",
      "Impiety\n",
      "Irreligion\n",
      "Worship\n",
      "Idolatry\n",
      "Sorcery\n",
      "Spell\n",
      "Sorcerer\n",
      "Churchdom\n",
      "Clergy\n",
      "Laity\n",
      "Rite\n",
      "Canonicals\n",
      "Temple\n"
     ]
    }
   ],
   "source": [
    "# Adjusted regular expression to capture both cases: numbers only and numbers followed by a letter\n",
    "word_regex = re.compile(\"^\\d+[a-zA-Z]?$\")\n",
    "# Iterate through each <dt> tag\n",
    "for dt in dt_tags:\n",
    "    # Check for class\n",
    "    class_a_tag = dt.find('a', attrs={'name': re.compile(\"^CLASS\")})\n",
    "    if class_a_tag:\n",
    "        current_class = re.sub(r'\\s+', ' ', class_a_tag.text).strip()\n",
    "        hierarchy[current_class] = {'divisions': {}, 'sections': {}}\n",
    "        current_division = None\n",
    "        current_section = None\n",
    "        # Now that we got the class we can continue to the next <dt> tag to check for division/section\n",
    "        continue\n",
    "\n",
    "    # Check for division\n",
    "    division_a_tag = dt.find('a', attrs={'name': re.compile(\"^DIVISION\")})\n",
    "    if division_a_tag and current_class:\n",
    "        current_division = re.sub(r'\\s+', ' ', division_a_tag.text).strip()\n",
    "        hierarchy[current_class]['divisions'][current_division] = {'sections': {}}\n",
    "        current_section = None\n",
    "        # Now that we got the division we can continue to the next <dt> tag to check for section\n",
    "        continue\n",
    "\n",
    "    # Check for section\n",
    "    section_a_tag = dt.find('a', attrs={'name': re.compile(\"^SECTION\")})\n",
    "    if section_a_tag:\n",
    "        current_section = re.sub(r'\\s+', ' ', section_a_tag.text).strip()\n",
    "        if current_division:\n",
    "            hierarchy[current_class]['divisions'][current_division]['sections'][current_section] = []\n",
    "        else:\n",
    "            hierarchy[current_class]['sections'][current_section] = []\n",
    "        # Now that we got the section we can continue to the next <dt> tag to check for words\n",
    "        continue\n",
    "\n",
    "    # Check for words (the words are before an a tag with a name attribute that is a number (integer or float))\n",
    "    word_a_tags = dt.find_all('a', attrs={'name': re.compile(\"^\\d+(\\.\\d+)?$\")})\n",
    "    for word_a_tag in word_a_tags:\n",
    "        word = word_a_tag.find_next('b').get_text() if word_a_tag.find_next('b') else ''\n",
    "        print(word)\n",
    "        word = re.sub(r'\\s+', ' ', word).strip()\n",
    "        if current_section:\n",
    "            if current_division:\n",
    "                hierarchy[current_class]['divisions'][current_division]['sections'][current_section].append(word)\n",
    "            else:\n",
    "                hierarchy[current_class]['sections'][current_section].append(word)"
   ],
   "metadata": {
    "collapsed": false,
    "ExecuteTime": {
     "end_time": "2024-02-10T18:50:27.094326500Z",
     "start_time": "2024-02-10T18:50:26.907858900Z"
    }
   },
   "id": "e02b73d266da798a",
   "execution_count": 151
  },
  {
   "cell_type": "code",
   "outputs": [
    {
     "data": {
      "text/plain": "{'WORDS EXPRESSING ABSTRACT RELATIONS': {'divisions': {},\n  'sections': {'EXISTENCE': ['Existence',\n    'Inexistence',\n    'Substantiality',\n    'Unsubstantiality',\n    'Intrinsicality',\n    'Extrinsicality',\n    'State',\n    'Circumstance'],\n   'RELATION': ['Relation',\n    'Irrelation',\n    'Consanguinity',\n    'Correlation',\n    'Identity',\n    'Contrariety',\n    'Difference',\n    'Uniformity',\n    'Nonuniformity',\n    'Similarity',\n    'Dissimilarity',\n    'Imitation',\n    'Nonimitation',\n    'Variation',\n    'Copy',\n    'Prototype',\n    'Agreement',\n    'Disagreement'],\n   'QUANTITY': ['Quantity',\n    'Degree',\n    'Equality',\n    'Inequality',\n    'Mean',\n    'Compensation',\n    'Greatness',\n    'Smallness',\n    'Superiority',\n    'Inferiority',\n    'Increase',\n    'Nonincrease, Decrease',\n    'Addition',\n    'Nonaddition. Subtraction',\n    'Adjunct',\n    'Remainder',\n    'Decrement',\n    'Mixture',\n    'Simpleness',\n    'Junction',\n    'Disjunction',\n    'Connection',\n    'Coherence',\n    'Incoherence',\n    'Combination',\n    'Decomposition',\n    'Whole',\n    'Part',\n    'Completeness',\n    'Incompleteness',\n    'Composition',\n    'Exclusion',\n    'Component',\n    'Extraneousness'],\n   'ORDER': ['Order',\n    'Disorder',\n    'Complexity',\n    'Arrangement',\n    'Derangement',\n    'Precedence',\n    'Sequence',\n    'Precursor',\n    'Sequel',\n    'Beginning',\n    'End',\n    'Middle',\n    'Continuity',\n    'Discontinuity',\n    'Term',\n    'Assemblage',\n    'Nonassemblage. Dispersion',\n    'Focus',\n    'Class',\n    'Inclusion',\n    'Exclusion',\n    'Generality',\n    'Speciality',\n    'Normality',\n    'Multiformity',\n    'Conformity',\n    'Unconformity'],\n   'NUMBER': ['Number',\n    'Numeration',\n    'List',\n    'Unity',\n    'Accompaniment',\n    'Duality',\n    'Duplication',\n    'bisection',\n    'Triality',\n    'Triplication',\n    'Trisection',\n    'Four',\n    'Quadruplication',\n    'Quadrisection',\n    'Five',\n    'Quinquesection',\n    'Plurality',\n    'Fraction',\n    'Zero',\n    'Multitude',\n    'Fewness',\n    'Repetition',\n    'Infinity'],\n   'TIME': ['Time',\n    'Neverness',\n    'Period',\n    'Contingent Duration',\n    'Course',\n    'Diuturnity',\n    'Transientness',\n    'Perpetuity',\n    'Instantaneity',\n    'Chronometry',\n    'Anachronism',\n    'Priority',\n    'Posteriority',\n    'The Present Time',\n    'Different time',\n    'Synchronism',\n    'Futurity',\n    'The Past',\n    'Newness',\n    'Oldness',\n    'Morning',\n    'Evening',\n    'Youth',\n    'Age',\n    'Infant',\n    'Veteran',\n    'Adolescence',\n    'Earliness',\n    'Punctuality',\n    'Lateness',\n    'Occasion',\n    'Untimeliness',\n    'Frequency',\n    'Infrequency',\n    'Periodicity',\n    'Irregularity of recurrence'],\n   'CHANGE': ['Change',\n    'Permanence',\n    'Cessation',\n    'Continuance in action',\n    'Conversion',\n    'Reversion',\n    'Revolution',\n    'Substitution',\n    'Interchange',\n    'Changeableness',\n    'Stability',\n    'Eventuality',\n    'Destiny'],\n   'CAUSATION': ['Cause',\n    'Effect',\n    'Attribution',\n    'Chance',\n    'Power',\n    'Impotence',\n    'Strength',\n    'Weakness',\n    'Production',\n    'Destruction',\n    'Reproduction',\n    'Producer',\n    'Destroyer',\n    'Paternity',\n    'Posterity',\n    'Productiveness',\n    'Unproductiveness',\n    'Agency',\n    'Physical Energy',\n    'Physical Inertness',\n    'Violence',\n    'Moderation',\n    'Influence',\n    'Absence of Influence',\n    'Tendency',\n    'Liability',\n    'Concurrence',\n    'Counteraction']}},\n 'WORDS RELATING TO SPACE': {'divisions': {},\n  'sections': {'SPACE IN GENERAL': ['Space',\n    'Inextension',\n    'Region',\n    'Place',\n    'Situation',\n    'Location',\n    'Displacement',\n    'Presence',\n    'Absence',\n    'Inhabitant',\n    'Abode',\n    'Contents',\n    'Receptacle'],\n   'DIMENSIONS': ['Size',\n    'Littleness',\n    'Expansion',\n    'Contraction',\n    'Distance',\n    'Nearness',\n    'Interval',\n    'Contiguity',\n    'Length',\n    'Shortness',\n    'Breadth, Thickness,',\n    'Narrowness. Thinness',\n    'Layer',\n    'Filament',\n    'Height',\n    'Lowness',\n    'Depth',\n    'Shallowness',\n    'Summit',\n    'Base',\n    'Verticality',\n    'Horizontality',\n    'Pendency',\n    'Support',\n    'Parallelism',\n    'Perpendicularity',\n    'Obliquity',\n    'Inversion',\n    'Crossing',\n    'Exteriority',\n    'Interiority',\n    'Centrality',\n    'Covering',\n    'Lining',\n    'Clothing',\n    'Divestment',\n    'Circumjacence',\n    'Interposition',\n    'Circumscription',\n    'Outline',\n    'Edge',\n    'Inclosure',\n    'Limit',\n    'Front',\n    'Rear',\n    'Laterality',\n    'Contraposition',\n    'Dextrality',\n    'Sinistrality'],\n   'FORM': ['Form',\n    'Amorphism',\n    'Symmetry',\n    'Distortion',\n    'Angularity',\n    'Curvature',\n    'Straightness',\n    'Circularity',\n    'Convolution',\n    'Rotundity',\n    'Convexity',\n    'Flatness',\n    'Concavity',\n    'Sponge',\n    'Sharpness',\n    'Bluntness',\n    'Smoothness',\n    'Roughness',\n    'Notch',\n    'Fold',\n    'Furrow',\n    'Opening',\n    'Closure',\n    'Perforator',\n    'Stopper'],\n   'MOTION': ['Motion',\n    'Quiescence',\n    'Journey',\n    'Navigation',\n    'Traveler',\n    'Mariner',\n    'Transference',\n    'Carrier',\n    'Vehicle',\n    'Ship',\n    'Velocity',\n    'Slowness',\n    'Impulse',\n    'Recoil',\n    'Direction',\n    'Deviation',\n    'Precession',\n    'Sequence',\n    'Progression',\n    'Regression',\n    'Propulsion',\n    'Traction',\n    'Approach',\n    'Recession',\n    'Attraction',\n    'Repulsion',\n    'Convergence',\n    'Divergence',\n    'Arrival',\n    'Departure',\n    'Ingress',\n    'Egress',\n    'Reception',\n    'Ejection',\n    'Food',\n    'Excretion',\n    'Insertion',\n    'Extraction',\n    'Passage',\n    'Transcursion',\n    'Shortcoming',\n    'Ascent',\n    'Descent',\n    'Elevation',\n    'Depression',\n    'Leap',\n    'Plunge',\n    'Circuition',\n    'Rotation',\n    'Evolution',\n    'Oscillation',\n    'Agitation']}},\n 'WORDS RELATING TO MATTER': {'divisions': {},\n  'sections': {'MATTER IN GENERAL': ['Materiality',\n    'Immateriality',\n    'World',\n    'Gravity',\n    'Levity'],\n   'INORGANIC MATTER': ['Density',\n    'Rarity',\n    'Hardness',\n    'Softness',\n    'Elasticity',\n    'Inelasticity',\n    'Tenacity',\n    'Brittleness',\n    'Texture',\n    'Pulverulence',\n    'Friction',\n    'Lubrication',\n    'Fluidity',\n    'Gaseity',\n    'Liquefaction',\n    'Vaporization',\n    'Water',\n    'Air',\n    'Moisture',\n    'Dryness',\n    'Ocean',\n    'Land',\n    'Gulf. Lake',\n    'Plain',\n    'Marsh',\n    'Island',\n    'Stream',\n    'River',\n    'Wind',\n    'Conduit',\n    'Airpipe',\n    'Semiliquidity',\n    'Bubble',\n    'Pulpiness',\n    'Unctuousness',\n    'Oil',\n    'Resin'],\n   'ORGANIC MATTER': ['Organization',\n    'Inorganization',\n    'Life',\n    'Death',\n    'Killing',\n    'Corpse',\n    'Interment',\n    'Animality',\n    'Vegetability\\x86',\n    'Animal',\n    'Vegetable',\n    'Zoology',\n    'Botany',\n    'Husbandry',\n    'Agriculture',\n    'Mankind',\n    'Man',\n    'Woman',\n    'Sexuality',\n    'Physical Sensibility',\n    'Physical Insensibility',\n    'Physical Pleasure',\n    'Physical Pain',\n    'Touch',\n    'Sensations of Touch',\n    'Numbness',\n    'Heat',\n    'Cold',\n    'Calefaction',\n    'Refrigeration',\n    'Furnace',\n    'Refrigerator',\n    'Fuel',\n    'Insulation',\n    'Thermometer',\n    'Taste',\n    'Insipidity',\n    'Pungency',\n    'Saltiness',\n    'Bitterness',\n    'Condiment',\n    'Savoriness',\n    'Unsavoriness',\n    'Sweetness',\n    'Sourness',\n    'Odor',\n    'Inodorousness',\n    'Fragrance',\n    'Fetor',\n    'Acridity',\n    'Sound',\n    'Silence',\n    'Loudness',\n    'Faintness',\n    'Snap',\n    'Roll',\n    'Resonance',\n    'Nonresonance\\x86',\n    'Sibilation',\n    'Stridor',\n    'Cry',\n    'Ululation',\n    'Melody. Concord',\n    'Discord',\n    'Music',\n    'Musician',\n    'Musical Instruments',\n    'Hearing',\n    'Deafness',\n    'Light',\n    'Darkness',\n    'Dimness',\n    'Luminary',\n    'Shade',\n    'Transparency',\n    'Opacity',\n    'Turbidity',\n    'Semitransparency',\n    'Color',\n    'Achromatism',\n    'Whiteness',\n    'Blackness',\n    'Gray',\n    'Brown',\n    'Redness',\n    'Greenness',\n    'Yellowness',\n    'Purple',\n    'Blueness',\n    'Orange',\n    'Variegation',\n    'Vision',\n    'Blindness',\n    'Dimsightedness',\n    'Spectator',\n    'Optical Instruments',\n    'Visibility',\n    'Invisibility',\n    'Appearance',\n    'Disappearance']}},\n 'WORDS RELATING TO THE INTELLECTUAL FACULTIES': {'divisions': {'FORMATION OF IDEAS': {'sections': {'OPERATIONS OF INTELLECT IN GENERAL': ['Intellect',\n      'Absence or want of Intellect',\n      'Thought',\n      'Incogitancy',\n      'Idea',\n      'Topic'],\n     'PRECURSORY CONDITIONS AND OPERATIONS': ['Curiosity',\n      'Incuriosity',\n      'Attention',\n      'Inattention',\n      'Care',\n      'Neglect',\n      'Inquiry',\n      'Answer',\n      'Experiment',\n      'Comparison',\n      'Incomparability',\n      'Discrimination',\n      'Indiscrimination',\n      'Identification',\n      'Measurement'],\n     'MATERIALS FOR REASONING': ['Evidence',\n      'Counter Evidence',\n      'Qualification',\n      'Possibility',\n      'Impossibility',\n      'Probability',\n      'Improbability',\n      'Certainty',\n      'Uncertainty'],\n     'REASONING PROCESSES': ['Reasoning,',\n      'Intuition. & Sophistry',\n      'Demonstration',\n      'Confutation'],\n     'RESULTS OF REASONING': ['Judgment',\n      'Discovery',\n      'Misjudgment',\n      'Overestimation',\n      'Underestimation',\n      'Belief',\n      'Unbelief. Doubt',\n      'Credulity',\n      'Incredulity',\n      'Assent',\n      'Dissent',\n      'Knowledge',\n      'Ignorance',\n      'Scholar',\n      'Ignoramus',\n      'Truth',\n      'Error',\n      'Maxim',\n      'Absurdity',\n      'Intelligence, Wisdom',\n      'Imbecility. Folly',\n      'Sage',\n      'Fool',\n      'Sanity',\n      'Insanity',\n      'Madman'],\n     'EXTENSION OF THOUGHT': ['Memory',\n      'Oblivion',\n      'Expectation',\n      'Inexpectation',\n      'Disappointment',\n      'Foresight',\n      'Prediction',\n      'Omen',\n      'Oracle'],\n     'CREATIVE THOUGHT': ['Supposition', 'Analogy', 'Imagination']}},\n   'COMMUNICATION OF IDEAS': {'sections': {'NATURE OF IDEAS COMMUNICATED': ['Meaning',\n      'Unmeaningness',\n      'Intelligibility',\n      'Unintelligibility',\n      'Equivocalness',\n      'Metaphor',\n      'Interpretation',\n      'Misinterpretation',\n      'Interpreter'],\n     'MODES OF COMMUNICATION': ['Manifestation',\n      'Latency. Implication',\n      'Information',\n      'Correction',\n      'Concealment',\n      'Disclosure',\n      'Ambush',\n      'Publication',\n      'News',\n      'Secret',\n      'Messenger',\n      'Affirmation',\n      'Negation',\n      'Teaching',\n      'Misteaching',\n      'Learning',\n      'Teacher',\n      'Learner',\n      'School',\n      'Veracity',\n      'Falsehood',\n      'Deception',\n      'Untruth',\n      'Dupe',\n      'Deceiver',\n      'Exaggeration'],\n     'MEANS OF COMMUNICATING IDEAS': ['Indication',\n      'Record',\n      'Obliteration',\n      'Recorder',\n      'Representation',\n      'Misrepresentation',\n      'Painting',\n      'Sculpture',\n      'Engraving',\n      'Artist',\n      'Language',\n      'Letter',\n      'Word',\n      'Neologism',\n      'Nomenclature',\n      'Misnomer',\n      'Phrase',\n      'Grammar',\n      'Solecism',\n      'Style',\n      'Perspicuity',\n      'Obscurity',\n      'Conciseness',\n      'Diffuseness',\n      'Vigor',\n      'Feebleness',\n      'Plainness',\n      'Ornament',\n      'Elegance',\n      'Inelegance',\n      'Voice',\n      'Aphony',\n      'Speech',\n      'Stammering',\n      'Loquacity',\n      'Taciturnity',\n      'Allocution',\n      'Response',\n      'Conversation',\n      'Soliloquy',\n      'Writing',\n      'Printing',\n      'Correspondence',\n      'Book',\n      'Description',\n      'Dissertation',\n      'Compendium',\n      'Poetry',\n      'Prose',\n      'The Drama']}}},\n  'sections': {}},\n 'WORDS RELATING TO THE VOLUNTARY POWERS': {'divisions': {'INDIVIDUAL VOLITION': {'sections': {'VOLITION IN GENERAL': ['Will',\n      'Necessity',\n      'Willingness',\n      'Unwillingness',\n      'Resolution',\n      'Perseverance',\n      'Irresolution',\n      'Obstinacy',\n      'Tergiversation',\n      'Caprice',\n      'Choice',\n      'Absence of Choice',\n      'Rejection',\n      'Predetermination',\n      'Impulse',\n      'Habit',\n      'Desuetude',\n      'Motive',\n      'Absence of Motive',\n      'Dissuasion',\n      'Pretext',\n      'Good',\n      'Evil'],\n     'PROSPECTIVE VOLITION': ['Intention',\n      'Chance',\n      'Pursuit',\n      'Avoidance',\n      'Relinquishment',\n      'Business',\n      'Plan',\n      'Method',\n      'Mid-course',\n      'Circuit',\n      'Requirement',\n      'Instrumentality',\n      'Means',\n      'Instrument',\n      'Substitute',\n      'Materials',\n      'Store',\n      'Provision',\n      'Waste',\n      'Sufficiency',\n      'Insufficiency',\n      'Redundancy',\n      'Importance',\n      'Unimportance',\n      'Utility',\n      'Inutility',\n      'Expedience',\n      'Inexpedience',\n      'Goodness',\n      'Badness',\n      'Perfection',\n      'Imperfection',\n      'Cleanness',\n      'Uncleanness',\n      'Health',\n      'Disease',\n      'Salubrity',\n      'Insalubrity',\n      'Improvement',\n      'Deterioration',\n      'Restoration',\n      'Relapse',\n      'Remedy',\n      'Bane',\n      'Safety',\n      'Danger',\n      'Refuge',\n      'Pitfall',\n      'Warning',\n      'Alarm',\n      'Preservation',\n      'Escape',\n      'Deliverance',\n      'Preparation',\n      'Nonpreparation',\n      'Essay',\n      'Undertaking',\n      'Use',\n      'Disuse',\n      'Misuse'],\n     'VOLUNTARY ACTION': ['Action',\n      'Inaction',\n      'Activity',\n      'Inactivity',\n      'Haste',\n      'Leisure',\n      'Exertion',\n      'Repose',\n      'Fatigue',\n      'Refreshment',\n      'Agent',\n      'Workshop',\n      'Conduct',\n      'Direction',\n      'Director',\n      'Advice',\n      'Council',\n      'Precept',\n      'Skill',\n      'Unskillfulness',\n      'Proficient',\n      'Bungler',\n      'Cunning',\n      'Artlessness'],\n     'ANTAGONISM': ['Difficulty',\n      'Facility',\n      'Hindrance',\n      'Aid',\n      'Opposition',\n      'Cooperation',\n      'Opponent',\n      'Auxiliary',\n      'Party',\n      'Discord',\n      'Concord',\n      'Defiance',\n      'Attack',\n      'Defense',\n      'Retaliation',\n      'Resistance',\n      'Contention',\n      'Peace',\n      'Warfare',\n      'Pacification',\n      'Mediation',\n      'Submission',\n      'Combatant',\n      'Arms',\n      'Arena'],\n     'RESULTS OF VOLUNTARY ACTION': ['Completion',\n      'Noncompletion',\n      'Success',\n      'Failure',\n      'Trophy',\n      'Prosperity',\n      'Adversity',\n      'Mediocrity']}},\n   'INTERSOCIAL VOLITION': {'sections': {'GENERAL INTERSOCIAL VOLITION': ['Authority',\n      'Government',\n      'Politics',\n      'Laxity',\n      'Severity',\n      'Lenity',\n      'Command',\n      'Disobedience',\n      'Obedience',\n      'Compulsion',\n      'Master',\n      'Servant',\n      'Scepter',\n      'Freedom',\n      'Subjection',\n      'Liberation',\n      'Restraint',\n      'Prison',\n      'Keeper',\n      'Prisoner',\n      'Commission',\n      'Abrogation',\n      'Resignation',\n      'Consignee',\n      'Deputy'],\n     'SPECIAL INTERSOCIAL VOLITION': ['Permission',\n      'Prohibition',\n      'Consent',\n      'Offer',\n      'Refusal',\n      'Request',\n      'Deprecation',\n      'Petitioner'],\n     'CONDITIONAL INTERSOCIAL VOLITION': ['Promise',\n      'Release from engagement',\n      'Compact',\n      'Conditions',\n      'Security',\n      'Observance',\n      'Nonobservance',\n      'Compromise'],\n     'POSSESSIVE RELATIONS': ['Acquisition',\n      'Loss',\n      'Possession',\n      'Exemption',\n      'Participation',\n      'Possessor',\n      'Property',\n      'Retention',\n      'Relinquishment',\n      'Transfer',\n      'Giving',\n      'Receiving',\n      'Apportionment',\n      'Lending',\n      'Borrowing',\n      'Taking',\n      'Restitution',\n      'Stealing',\n      'Thief',\n      'Booty',\n      'Barter',\n      'Purchase',\n      'Sale',\n      'Merchant',\n      'Merchandise',\n      'Mart',\n      'Stock Market',\n      'Securities',\n      'Money',\n      'Treasurer',\n      'Treasury',\n      'Wealth',\n      'Poverty',\n      'Credit',\n      'Debt',\n      'Payment',\n      'Nonpayment',\n      'Expenditure',\n      'Receipt',\n      'Accounts',\n      'Price',\n      'Value',\n      'Worthlessness',\n      'Discount',\n      'Dearness',\n      'Cheapness',\n      'Liberality',\n      'Economy',\n      'Greed',\n      'Prodigality',\n      'Parsimony']}}},\n  'sections': {}},\n 'WORDS RELATING TO THE SENTIENT AND MORAL POWERS': {'divisions': {},\n  'sections': {'AFFECTIONS IN GENERAL': ['Affections',\n    'Feeling',\n    'Sensibility',\n    'Insensibility',\n    'Excitation',\n    'Excitability',\n    'Inexcitability'],\n   'PERSONAL AFFECTIONS': ['Pleasure',\n    'Pain',\n    'Pleasurableness',\n    'Painfulness',\n    'Content',\n    'Discontent',\n    'Regret',\n    'Relief',\n    'Aggravation',\n    'Cheerfulness',\n    'Dejection',\n    'Rejoicing',\n    'Lamentation',\n    'Amusement',\n    'Weariness',\n    'Wit',\n    'Dullness',\n    'Humorist',\n    'Beauty',\n    'Ugliness',\n    'Ornament',\n    'Jewelry',\n    'Blemish',\n    'Simplicity',\n    'Taste',\n    'Vulgarity',\n    'Fashion',\n    'Ridiculousness',\n    'Fop',\n    'Affectation',\n    'Ridicule',\n    'Laughingstock',\n    'Hope',\n    'Hopelessness',\n    'Fear',\n    'Courage',\n    'Cowardice',\n    'Rashness',\n    'Caution',\n    'Desire',\n    'Indifference',\n    'Dislike',\n    'Fastidiousness',\n    'Satiety',\n    'Wonder',\n    'Expectance',\n    'Prodigy',\n    'Repute',\n    'Disrepute',\n    'Nobility',\n    'Commonalty',\n    'Title',\n    'Pride',\n    'Humility',\n    'Vanity',\n    'Modesty',\n    'Ostentation',\n    'Celebration',\n    'Boasting',\n    'Insolence',\n    'Servility',\n    'Blusterer'],\n   'SYMPATHETIC AFFECTIONS': ['Friendship',\n    'Enmity',\n    'Friend',\n    'Enemy',\n    'Sociality',\n    'Seclusion. Exclusion',\n    'Courtesy',\n    'Discourtesy',\n    'Congratulation',\n    'Love',\n    'Hate',\n    'Favorite',\n    'Resentment',\n    'Irascibility',\n    'Sullenness',\n    'Endearment',\n    'Marriage',\n    'Celibacy',\n    'Divorce',\n    'Benevolence',\n    'Malevolence',\n    'Malediction',\n    'Threat',\n    'Philanthropy',\n    'Misanthropy',\n    'Benefactor',\n    'Evil doer',\n    'Pity',\n    'Pitilessness',\n    'Condolence',\n    'Gratitude',\n    'Ingratitude',\n    'Forgiveness',\n    'Revenge',\n    'Jealousy',\n    'Envy'],\n   'MORAL AFFECTIONS': ['Right',\n    'Wrong',\n    'Dueness',\n    'Undueness',\n    'Duty',\n    'Dereliction of Duty',\n    'Exemption',\n    'Respect',\n    'Disrespect',\n    'Contempt',\n    'Approbation',\n    'Disapprobation',\n    'Flattery',\n    'Detraction',\n    'Flatterer',\n    'Detractor',\n    'Vindication',\n    'Accusation',\n    'Probity',\n    'Improbity',\n    'Knave',\n    'Disinterestedness',\n    'Selfishness',\n    'Virtue',\n    'Vice',\n    'Innocence',\n    'Guilt',\n    'Good Man',\n    'Bad Man',\n    'Penitence',\n    'Impenitence',\n    'Atonement',\n    'Temperance',\n    'Intemperance',\n    'Sensualist',\n    'Asceticism',\n    'Fasting',\n    'Gluttony',\n    'Sobriety',\n    'Drunkenness',\n    'Purity',\n    'Impurity',\n    'Libertine',\n    'Legality',\n    'Illegality',\n    'Jurisdiction',\n    'Tribunal',\n    'Judge',\n    'Lawyer',\n    'Lawsuit',\n    'Acquittal',\n    'Condemnation',\n    'Punishment',\n    'Reward',\n    'Penalty',\n    'Scourge'],\n   'RELIGIOUS AFFECTIONS': ['Deity',\n    'Angel',\n    'Satan',\n    'Jupiter',\n    'Demon',\n    'Heaven',\n    'Hell',\n    'Theology',\n    'Orthodoxy',\n    'Heterodoxy',\n    'Judeo-Christian Revelation',\n    'Pseudo-Revelation',\n    'Piety',\n    'Impiety',\n    'Irreligion',\n    'Worship',\n    'Idolatry',\n    'Sorcery',\n    'Spell',\n    'Sorcerer',\n    'Churchdom',\n    'Clergy',\n    'Laity',\n    'Rite',\n    'Canonicals',\n    'Temple']}}}"
     },
     "execution_count": 152,
     "metadata": {},
     "output_type": "execute_result"
    }
   ],
   "source": [
    "hierarchy"
   ],
   "metadata": {
    "collapsed": false,
    "ExecuteTime": {
     "end_time": "2024-02-10T18:50:27.103313200Z",
     "start_time": "2024-02-10T18:50:27.095325700Z"
    }
   },
   "id": "90e84b7bbee14864",
   "execution_count": 152
  },
  {
   "cell_type": "code",
   "outputs": [
    {
     "data": {
      "text/plain": "389"
     },
     "execution_count": 153,
     "metadata": {},
     "output_type": "execute_result"
    }
   ],
   "source": [
    "# Count the words (the words are inside the sections in the hierarchy)\n",
    "word_count = sum([len(words) for class_content in hierarchy.values() for division_content in\n",
    "                  class_content.get('divisions', {}).values() for words in\n",
    "                  division_content.get('sections', {}).values()])\n",
    "word_count"
   ],
   "metadata": {
    "collapsed": false,
    "ExecuteTime": {
     "end_time": "2024-02-10T18:50:27.110153100Z",
     "start_time": "2024-02-10T18:50:27.103313200Z"
    }
   },
   "id": "e2e5838f20a9404c",
   "execution_count": 153
  },
  {
   "cell_type": "markdown",
   "source": [
    "### Create the directory structure and save the words to files\n",
    "\n",
    "Now that we have the hierarchy, we can create a directory structure that mirrors the structure of the page and save the words under each section to a file in the directory structure.\n",
    "\n",
    "Let's start by creating a function that writes the words to a file."
   ],
   "metadata": {
    "collapsed": false
   },
   "id": "99adaec704c7b6e3"
  },
  {
   "cell_type": "code",
   "outputs": [],
   "source": [
    "def write_words_to_file(words, file_path):\n",
    "    with open(file_path, 'w', encoding='utf-8') as file:\n",
    "        file.write('\\n'.join(words))"
   ],
   "metadata": {
    "collapsed": false,
    "ExecuteTime": {
     "end_time": "2024-02-10T18:50:27.112662700Z",
     "start_time": "2024-02-10T18:50:27.107950800Z"
    }
   },
   "id": "7949ecf58d12fa6d",
   "execution_count": 154
  },
  {
   "cell_type": "markdown",
   "source": [
    "We start by creating a directory structure that mirrors the structure of the page."
   ],
   "metadata": {
    "collapsed": false
   },
   "id": "53651999d509c031"
  },
  {
   "cell_type": "code",
   "outputs": [],
   "source": [
    "def create_directory_structure(base_path, hierarchy):\n",
    "    for class_name, class_content in hierarchy.items():\n",
    "        class_path = os.path.join(base_path, class_name)\n",
    "        os.makedirs(class_path, exist_ok=True)\n",
    "\n",
    "        for division_name, division_content in class_content.get('divisions', {}).items():\n",
    "            division_path = os.path.join(class_path, division_name)\n",
    "            os.makedirs(division_path, exist_ok=True)\n",
    "\n",
    "            for section_name, words in division_content.get('sections', {}).items():\n",
    "                section_path = os.path.join(division_path, section_name)\n",
    "                os.makedirs(section_path, exist_ok=True)\n",
    "                write_words_to_file(words, os.path.join(section_path, 'words.txt'))\n",
    "\n",
    "        for section_name, words in class_content.get('sections', {}).items():\n",
    "            section_path = os.path.join(class_path, section_name)\n",
    "            os.makedirs(section_path, exist_ok=True)\n",
    "            write_words_to_file(words, os.path.join(section_path, 'words.txt'))\n",
    "\n",
    "\n",
    "# Create the directory structure\n",
    "base_path = 'roget_thesaurus'\n",
    "create_directory_structure(base_path, hierarchy)"
   ],
   "metadata": {
    "collapsed": false,
    "ExecuteTime": {
     "end_time": "2024-02-10T18:50:27.155052700Z",
     "start_time": "2024-02-10T18:50:27.112662700Z"
    }
   },
   "id": "478a2853d474f88c",
   "execution_count": 155
  },
  {
   "cell_type": "code",
   "outputs": [
    {
     "data": {
      "text/plain": "1044"
     },
     "execution_count": 156,
     "metadata": {},
     "output_type": "execute_result"
    }
   ],
   "source": [
    "# Count the lines in the files\n",
    "line_count = sum([sum([len(open(os.path\n",
    "                                .join(root, file)).readlines()) for file in files]) for root, dirs, files in\n",
    "                  os.walk(base_path)])\n",
    "line_count"
   ],
   "metadata": {
    "collapsed": false,
    "ExecuteTime": {
     "end_time": "2024-02-10T18:50:27.156052200Z",
     "start_time": "2024-02-10T18:50:27.134174Z"
    }
   },
   "id": "27c8a588b3525d9b",
   "execution_count": 156
  },
  {
   "cell_type": "markdown",
   "source": [
    "## Get Word Embeddings"
   ],
   "metadata": {
    "collapsed": false
   },
   "id": "6934d71a548f864"
  },
  {
   "cell_type": "markdown",
   "source": [
    "There are two ways which we can get the embeddings for the words.\n",
    "\n",
    "1) Get the OpenAI text-embedding-3-small\n",
    "2) Use the Ollama Embeddings , more specifically from the latest Mistral-7B model"
   ],
   "metadata": {
    "collapsed": false
   },
   "id": "b6b9defaa4fea704"
  },
  {
   "cell_type": "markdown",
   "source": [
    "### 1) Get the OpenAI text-embedding-3-small"
   ],
   "metadata": {
    "collapsed": false
   },
   "id": "32dc5608eae453dd"
  },
  {
   "cell_type": "markdown",
   "source": [
    "First we need to set up the OpenAI API from the environment variable which contains the API key."
   ],
   "metadata": {
    "collapsed": false
   },
   "id": "fbe5616ec10d7b6"
  },
  {
   "cell_type": "code",
   "outputs": [],
   "source": [
    "import openai\n",
    "\n",
    "# Set the API\n",
    "openai.api_key = os.environ.get(\"OPENAI_API_KEY\")"
   ],
   "metadata": {
    "collapsed": false,
    "ExecuteTime": {
     "end_time": "2024-02-10T18:50:27.156052200Z",
     "start_time": "2024-02-10T18:50:27.153543Z"
    }
   },
   "id": "d9b318703ebf4c54",
   "execution_count": 157
  },
  {
   "cell_type": "markdown",
   "source": [
    "Now we can use the OpenAI API to get the embeddings for the words"
   ],
   "metadata": {
    "collapsed": false
   },
   "id": "48200ee638ab330c"
  },
  {
   "cell_type": "code",
   "outputs": [
    {
     "ename": "OpenAIError",
     "evalue": "The api_key client option must be set either by passing api_key to the client or by setting the OPENAI_API_KEY environment variable",
     "output_type": "error",
     "traceback": [
      "\u001B[1;31m---------------------------------------------------------------------------\u001B[0m",
      "\u001B[1;31mOpenAIError\u001B[0m                               Traceback (most recent call last)",
      "Cell \u001B[1;32mIn[158], line 3\u001B[0m\n\u001B[0;32m      1\u001B[0m \u001B[38;5;28;01mfrom\u001B[39;00m \u001B[38;5;21;01mopenai\u001B[39;00m \u001B[38;5;28;01mimport\u001B[39;00m OpenAI\n\u001B[1;32m----> 3\u001B[0m client \u001B[38;5;241m=\u001B[39m \u001B[43mOpenAI\u001B[49m\u001B[43m(\u001B[49m\u001B[43m)\u001B[49m\n\u001B[0;32m      6\u001B[0m \u001B[38;5;28;01mdef\u001B[39;00m \u001B[38;5;21mget_embedding\u001B[39m(text, model\u001B[38;5;241m=\u001B[39m\u001B[38;5;124m\"\u001B[39m\u001B[38;5;124mtext-embedding-3-small\u001B[39m\u001B[38;5;124m\"\u001B[39m):\n\u001B[0;32m      7\u001B[0m     text \u001B[38;5;241m=\u001B[39m text\u001B[38;5;241m.\u001B[39mreplace(\u001B[38;5;124m\"\u001B[39m\u001B[38;5;130;01m\\n\u001B[39;00m\u001B[38;5;124m\"\u001B[39m, \u001B[38;5;124m\"\u001B[39m\u001B[38;5;124m \u001B[39m\u001B[38;5;124m\"\u001B[39m)\n",
      "File \u001B[1;32m~\\AppData\\Local\\Programs\\Python\\Python311\\Lib\\site-packages\\openai\\_client.py:98\u001B[0m, in \u001B[0;36mOpenAI.__init__\u001B[1;34m(self, api_key, organization, base_url, timeout, max_retries, default_headers, default_query, http_client, _strict_response_validation)\u001B[0m\n\u001B[0;32m     96\u001B[0m     api_key \u001B[38;5;241m=\u001B[39m os\u001B[38;5;241m.\u001B[39menviron\u001B[38;5;241m.\u001B[39mget(\u001B[38;5;124m\"\u001B[39m\u001B[38;5;124mOPENAI_API_KEY\u001B[39m\u001B[38;5;124m\"\u001B[39m)\n\u001B[0;32m     97\u001B[0m \u001B[38;5;28;01mif\u001B[39;00m api_key \u001B[38;5;129;01mis\u001B[39;00m \u001B[38;5;28;01mNone\u001B[39;00m:\n\u001B[1;32m---> 98\u001B[0m     \u001B[38;5;28;01mraise\u001B[39;00m OpenAIError(\n\u001B[0;32m     99\u001B[0m         \u001B[38;5;124m\"\u001B[39m\u001B[38;5;124mThe api_key client option must be set either by passing api_key to the client or by setting the OPENAI_API_KEY environment variable\u001B[39m\u001B[38;5;124m\"\u001B[39m\n\u001B[0;32m    100\u001B[0m     )\n\u001B[0;32m    101\u001B[0m \u001B[38;5;28mself\u001B[39m\u001B[38;5;241m.\u001B[39mapi_key \u001B[38;5;241m=\u001B[39m api_key\n\u001B[0;32m    103\u001B[0m \u001B[38;5;28;01mif\u001B[39;00m organization \u001B[38;5;129;01mis\u001B[39;00m \u001B[38;5;28;01mNone\u001B[39;00m:\n",
      "\u001B[1;31mOpenAIError\u001B[0m: The api_key client option must be set either by passing api_key to the client or by setting the OPENAI_API_KEY environment variable"
     ]
    }
   ],
   "source": [
    "from openai import OpenAI\n",
    "\n",
    "client = OpenAI()\n",
    "\n",
    "\n",
    "def get_embedding(text, model=\"text-embedding-3-small\"):\n",
    "    text = text.replace(\"\\n\", \" \")\n",
    "    return client.embeddings.create(input=[text], model=model).data[0].embedding\n",
    "\n",
    "\n",
    "# Apply the function to the words files and save the embeddings to a file\n",
    "def get_embeddings_from_files(base_path, model=\"text-embedding-3-small\"):\n",
    "    for root, dirs, files in os.walk(base_path):\n",
    "        for file in files:\n",
    "            if file == 'words.txt':\n",
    "                words_file_path = os.path.join(root, file)\n",
    "                embeddings_file_path = os.path.join(root, 'embeddings.txt')\n",
    "                with open(words_file_path, 'r', encoding='utf-8') as file:\n",
    "                    words = file.read().splitlines()\n",
    "                embeddings = [get_embedding(word, model) for word in words]\n",
    "                with open(embeddings_file_path, 'w', encoding='utf-8') as file:\n",
    "                    file.write('\\n'.join([str(embedding) for embedding in embeddings]))\n",
    "\n",
    "\n",
    "# Get the embeddings\n",
    "get_embeddings_from_files(base_path)"
   ],
   "metadata": {
    "collapsed": false,
    "ExecuteTime": {
     "end_time": "2024-02-10T18:50:27.199680700Z",
     "start_time": "2024-02-10T18:50:27.157052800Z"
    }
   },
   "id": "20dd49a7b4f5d19b",
   "execution_count": 158
  },
  {
   "cell_type": "markdown",
   "source": [
    "OR\n"
   ],
   "metadata": {
    "collapsed": false
   },
   "id": "b9a28ed93c5365f7"
  },
  {
   "cell_type": "code",
   "outputs": [],
   "source": [
    "import os\n",
    "import pandas as pd\n",
    "import numpy as np\n",
    "from openai import OpenAI\n",
    "\n",
    "client = OpenAI()\n",
    "\n",
    "def get_embedding(text, model=\"text-embedding-3-small\"):\n",
    "    text = text.replace(\"\\n\", \" \")\n",
    "    return client.embeddings.create(input=[text], model=model).data[0].embedding\n",
    "\n",
    "\n",
    "def read_text(file_path):\n",
    "    with open(file_path, 'r') as file:\n",
    "        return file.read()\n",
    "\n",
    "\n",
    "def process_directory(root_dir):\n",
    "    embeddings = []\n",
    "    for root, dirs, files in os.walk(root_dir):\n",
    "        for file in files:\n",
    "            if file == 'word.txt':\n",
    "                file_path = os.path.join(root, file)\n",
    "                text = read_text(file_path)\n",
    "                embedding = get_embedding(text)\n",
    "                embeddings.append({'file_path': file_path, 'embedding': embedding})\n",
    "    return embeddings\n",
    "\n",
    "\n",
    "# Example usage\n",
    "root_dir = 'your/directory/path'  # Replace with your directory path\n",
    "embeddings = process_directory(root_dir)\n",
    "\n",
    "# Convert embeddings to DataFrame and save\n",
    "df = pd.DataFrame(embeddings)\n",
    "df.to_csv('output/embeddings.csv', index=False)"
   ],
   "metadata": {
    "collapsed": false,
    "ExecuteTime": {
     "start_time": "2024-02-10T18:50:27.179681900Z"
    }
   },
   "id": "8faa936a8534b95d"
  },
  {
   "cell_type": "markdown",
   "source": [
    "### 2) Use the Ollama Embeddings\n",
    "\n",
    "In order to use the mistral embeddings we first need download Ollama in a linux environment from the command line using the following command:\n",
    "\n",
    "```bash\n",
    "curl -fsSL https://ollama.com/install.sh | sh\n",
    "```\n",
    "\n",
    "Then we can get the mistral model and embeddings using the following command:\n",
    "\n",
    "```bash\n",
    "ollama run mistral\n",
    "```\n",
    "\n",
    "After we have downloaded the mistral model we can use the OllamaEmbeddings class to get the embeddings for the words.\n",
    "We can start by executing the following command in our linux terminal:\n",
    "\n",
    "```bash\n",
    "ollama serve\n",
    "```\n",
    "\n",
    "Then we can use the OllamaEmbeddings class to get the embeddings for the words.\n",
    "\n",
    "> Note: In windows we can use the WSL to run the Ollama commands and get the embeddings."
   ],
   "metadata": {
    "collapsed": false
   },
   "id": "7e1570cd38befedb"
  },
  {
   "cell_type": "markdown",
   "source": [
    "Having now the embeddings we must load the words from the files and get the embeddings for the words.\n",
    "To make this process easier we will use the `langchain` library which provides a class called `OllamaEmbeddings` that we can use to get the embeddings for the words.\n",
    "\n",
    "> Note: Langchain also provides many other models that we can use to get the embeddings for the words along with Ollama."
   ],
   "metadata": {
    "collapsed": false
   },
   "id": "9bf249e020469af9"
  },
  {
   "cell_type": "code",
   "outputs": [],
   "source": [
    "from langchain_community.embeddings import OllamaEmbeddings\n",
    "\n",
    "mistral_embeddings = OllamaEmbeddings(model=\"mistral\")"
   ],
   "metadata": {
    "collapsed": false,
    "ExecuteTime": {
     "end_time": "2024-02-11T11:22:22.915068100Z",
     "start_time": "2024-02-11T11:22:22.289318500Z"
    }
   },
   "id": "575daf2814d910fb",
   "execution_count": 1
  },
  {
   "cell_type": "markdown",
   "source": [
    "Langchain also provides many useful tools so we can use the `OllamaEmbeddings` class to get the embeddings for the words.\n",
    "\n",
    "We can start by loading the words from the files using the `DirectoryLoader` and `TextLoader` classes."
   ],
   "metadata": {
    "collapsed": false
   },
   "id": "b632bfef0120aa3d"
  },
  {
   "cell_type": "code",
   "outputs": [
    {
     "name": "stderr",
     "output_type": "stream",
     "text": [
      "100%|██████████| 39/39 [00:00<00:00, 6499.70it/s]\n"
     ]
    }
   ],
   "source": [
    "from langchain_community.document_loaders import DirectoryLoader, TextLoader\n",
    "\n",
    "path = \"roget_thesaurus\"\n",
    "text_loader_kwargs = {'autodetect_encoding': True}\n",
    "loader = DirectoryLoader(path, glob=\"**/*.txt\", loader_cls=TextLoader,\n",
    "                         loader_kwargs=text_loader_kwargs, show_progress=True,\n",
    "                         use_multithreading=True)\n",
    "docs = loader.load()"
   ],
   "metadata": {
    "collapsed": false,
    "ExecuteTime": {
     "end_time": "2024-02-11T11:22:25.084944400Z",
     "start_time": "2024-02-11T11:22:24.898162400Z"
    }
   },
   "id": "8a58daf366833d25",
   "execution_count": 2
  },
  {
   "cell_type": "code",
   "outputs": [
    {
     "data": {
      "text/plain": "[['Cause',\n  'Effect',\n  'Attribution',\n  'Chance',\n  'Power',\n  'Impotence',\n  'Strength',\n  'Weakness',\n  'Production',\n  'Destruction',\n  'Reproduction',\n  'Producer',\n  'Destroyer',\n  'Paternity',\n  'Posterity',\n  'Productiveness',\n  'Unproductiveness',\n  'Agency',\n  'Physical Energy',\n  'Physical Inertness',\n  'Violence',\n  'Moderation',\n  'Influence',\n  'Absence of Influence',\n  'Tendency',\n  'Liability',\n  'Concurrence',\n  'Counteraction'],\n ['Change',\n  'Permanence',\n  'Cessation',\n  'Continuance in action',\n  'Conversion',\n  'Reversion',\n  'Revolution',\n  'Substitution',\n  'Interchange',\n  'Changeableness',\n  'Stability',\n  'Eventuality',\n  'Destiny'],\n ['Existence',\n  'Inexistence',\n  'Substantiality',\n  'Unsubstantiality',\n  'Intrinsicality',\n  'Extrinsicality',\n  'State',\n  'Circumstance'],\n ['Number',\n  'Numeration',\n  'List',\n  'Unity',\n  'Accompaniment',\n  'Duality',\n  'Duplication',\n  'bisection',\n  'Triality',\n  'Triplication',\n  'Trisection',\n  'Four',\n  'Quadruplication',\n  'Quadrisection',\n  'Five',\n  'Quinquesection',\n  'Plurality',\n  'Fraction',\n  'Zero',\n  'Multitude',\n  'Fewness',\n  'Repetition',\n  'Infinity'],\n ['Quantity',\n  'Degree',\n  'Equality',\n  'Inequality',\n  'Mean',\n  'Compensation',\n  'Greatness',\n  'Smallness',\n  'Superiority',\n  'Inferiority',\n  'Increase',\n  'Nonincrease, Decrease',\n  'Addition',\n  'Nonaddition. Subtraction',\n  'Adjunct',\n  'Remainder',\n  'Decrement',\n  'Mixture',\n  'Simpleness',\n  'Junction',\n  'Disjunction',\n  'Connection',\n  'Coherence',\n  'Incoherence',\n  'Combination',\n  'Decomposition',\n  'Whole',\n  'Part',\n  'Completeness',\n  'Incompleteness',\n  'Composition',\n  'Exclusion',\n  'Component',\n  'Extraneousness'],\n ['Order',\n  'Disorder',\n  'Complexity',\n  'Arrangement',\n  'Derangement',\n  'Precedence',\n  'Sequence',\n  'Precursor',\n  'Sequel',\n  'Beginning',\n  'End',\n  'Middle',\n  'Continuity',\n  'Discontinuity',\n  'Term',\n  'Assemblage',\n  'Nonassemblage. Dispersion',\n  'Focus',\n  'Class',\n  'Inclusion',\n  'Exclusion',\n  'Generality',\n  'Speciality',\n  'Normality',\n  'Multiformity',\n  'Conformity',\n  'Unconformity'],\n ['Relation',\n  'Irrelation',\n  'Consanguinity',\n  'Correlation',\n  'Identity',\n  'Contrariety',\n  'Difference',\n  'Uniformity',\n  'Nonuniformity',\n  'Similarity',\n  'Dissimilarity',\n  'Imitation',\n  'Nonimitation',\n  'Variation',\n  'Copy',\n  'Prototype',\n  'Agreement',\n  'Disagreement'],\n ['Density',\n  'Rarity',\n  'Hardness',\n  'Softness',\n  'Elasticity',\n  'Inelasticity',\n  'Tenacity',\n  'Brittleness',\n  'Texture',\n  'Pulverulence',\n  'Friction',\n  'Lubrication',\n  'Fluidity',\n  'Gaseity',\n  'Liquefaction',\n  'Vaporization',\n  'Water',\n  'Air',\n  'Moisture',\n  'Dryness',\n  'Ocean',\n  'Land',\n  'Gulf. Lake',\n  'Plain',\n  'Marsh',\n  'Island',\n  'Stream',\n  'River',\n  'Wind',\n  'Conduit',\n  'Airpipe',\n  'Semiliquidity',\n  'Bubble',\n  'Pulpiness',\n  'Unctuousness',\n  'Oil',\n  'Resin'],\n ['Time',\n  'Neverness',\n  'Period',\n  'Contingent Duration',\n  'Course',\n  'Diuturnity',\n  'Transientness',\n  'Perpetuity',\n  'Instantaneity',\n  'Chronometry',\n  'Anachronism',\n  'Priority',\n  'Posteriority',\n  'The Present Time',\n  'Different time',\n  'Synchronism',\n  'Futurity',\n  'The Past',\n  'Newness',\n  'Oldness',\n  'Morning',\n  'Evening',\n  'Youth',\n  'Age',\n  'Infant',\n  'Veteran',\n  'Adolescence',\n  'Earliness',\n  'Punctuality',\n  'Lateness',\n  'Occasion',\n  'Untimeliness',\n  'Frequency',\n  'Infrequency',\n  'Periodicity',\n  'Irregularity of recurrence'],\n ['Materiality', 'Immateriality', 'World', 'Gravity', 'Levity'],\n ['Organization',\n  'Inorganization',\n  'Life',\n  'Death',\n  'Killing',\n  'Corpse',\n  'Interment',\n  'Animality',\n  'VegetabilityΒ†',\n  'Animal',\n  'Vegetable',\n  'Zoology',\n  'Botany',\n  'Husbandry',\n  'Agriculture',\n  'Mankind',\n  'Man',\n  'Woman',\n  'Sexuality',\n  'Physical Sensibility',\n  'Physical Insensibility',\n  'Physical Pleasure',\n  'Physical Pain',\n  'Touch',\n  'Sensations of Touch',\n  'Numbness',\n  'Heat',\n  'Cold',\n  'Calefaction',\n  'Refrigeration',\n  'Furnace',\n  'Refrigerator',\n  'Fuel',\n  'Insulation',\n  'Thermometer',\n  'Taste',\n  'Insipidity',\n  'Pungency',\n  'Saltiness',\n  'Bitterness',\n  'Condiment',\n  'Savoriness',\n  'Unsavoriness',\n  'Sweetness',\n  'Sourness',\n  'Odor',\n  'Inodorousness',\n  'Fragrance',\n  'Fetor',\n  'Acridity',\n  'Sound',\n  'Silence',\n  'Loudness',\n  'Faintness',\n  'Snap',\n  'Roll',\n  'Resonance',\n  'NonresonanceΒ†',\n  'Sibilation',\n  'Stridor',\n  'Cry',\n  'Ululation',\n  'Melody. Concord',\n  'Discord',\n  'Music',\n  'Musician',\n  'Musical Instruments',\n  'Hearing',\n  'Deafness',\n  'Light',\n  'Darkness',\n  'Dimness',\n  'Luminary',\n  'Shade',\n  'Transparency',\n  'Opacity',\n  'Turbidity',\n  'Semitransparency',\n  'Color',\n  'Achromatism',\n  'Whiteness',\n  'Blackness',\n  'Gray',\n  'Brown',\n  'Redness',\n  'Greenness',\n  'Yellowness',\n  'Purple',\n  'Blueness',\n  'Orange',\n  'Variegation',\n  'Vision',\n  'Blindness',\n  'Dimsightedness',\n  'Spectator',\n  'Optical Instruments',\n  'Visibility',\n  'Invisibility',\n  'Appearance',\n  'Disappearance'],\n ['Size',\n  'Littleness',\n  'Expansion',\n  'Contraction',\n  'Distance',\n  'Nearness',\n  'Interval',\n  'Contiguity',\n  'Length',\n  'Shortness',\n  'Breadth, Thickness,',\n  'Narrowness. Thinness',\n  'Layer',\n  'Filament',\n  'Height',\n  'Lowness',\n  'Depth',\n  'Shallowness',\n  'Summit',\n  'Base',\n  'Verticality',\n  'Horizontality',\n  'Pendency',\n  'Support',\n  'Parallelism',\n  'Perpendicularity',\n  'Obliquity',\n  'Inversion',\n  'Crossing',\n  'Exteriority',\n  'Interiority',\n  'Centrality',\n  'Covering',\n  'Lining',\n  'Clothing',\n  'Divestment',\n  'Circumjacence',\n  'Interposition',\n  'Circumscription',\n  'Outline',\n  'Edge',\n  'Inclosure',\n  'Limit',\n  'Front',\n  'Rear',\n  'Laterality',\n  'Contraposition',\n  'Dextrality',\n  'Sinistrality'],\n ['Form',\n  'Amorphism',\n  'Symmetry',\n  'Distortion',\n  'Angularity',\n  'Curvature',\n  'Straightness',\n  'Circularity',\n  'Convolution',\n  'Rotundity',\n  'Convexity',\n  'Flatness',\n  'Concavity',\n  'Sponge',\n  'Sharpness',\n  'Bluntness',\n  'Smoothness',\n  'Roughness',\n  'Notch',\n  'Fold',\n  'Furrow',\n  'Opening',\n  'Closure',\n  'Perforator',\n  'Stopper'],\n ['Motion',\n  'Quiescence',\n  'Journey',\n  'Navigation',\n  'Traveler',\n  'Mariner',\n  'Transference',\n  'Carrier',\n  'Vehicle',\n  'Ship',\n  'Velocity',\n  'Slowness',\n  'Impulse',\n  'Recoil',\n  'Direction',\n  'Deviation',\n  'Precession',\n  'Sequence',\n  'Progression',\n  'Regression',\n  'Propulsion',\n  'Traction',\n  'Approach',\n  'Recession',\n  'Attraction',\n  'Repulsion',\n  'Convergence',\n  'Divergence',\n  'Arrival',\n  'Departure',\n  'Ingress',\n  'Egress',\n  'Reception',\n  'Ejection',\n  'Food',\n  'Excretion',\n  'Insertion',\n  'Extraction',\n  'Passage',\n  'Transcursion',\n  'Shortcoming',\n  'Ascent',\n  'Descent',\n  'Elevation',\n  'Depression',\n  'Leap',\n  'Plunge',\n  'Circuition',\n  'Rotation',\n  'Evolution',\n  'Oscillation',\n  'Agitation'],\n ['Space',\n  'Inextension',\n  'Region',\n  'Place',\n  'Situation',\n  'Location',\n  'Displacement',\n  'Presence',\n  'Absence',\n  'Inhabitant',\n  'Abode',\n  'Contents',\n  'Receptacle'],\n ['Indication',\n  'Record',\n  'Obliteration',\n  'Recorder',\n  'Representation',\n  'Misrepresentation',\n  'Painting',\n  'Sculpture',\n  'Engraving',\n  'Artist',\n  'Language',\n  'Letter',\n  'Word',\n  'Neologism',\n  'Nomenclature',\n  'Misnomer',\n  'Phrase',\n  'Grammar',\n  'Solecism',\n  'Style',\n  'Perspicuity',\n  'Obscurity',\n  'Conciseness',\n  'Diffuseness',\n  'Vigor',\n  'Feebleness',\n  'Plainness',\n  'Ornament',\n  'Elegance',\n  'Inelegance',\n  'Voice',\n  'Aphony',\n  'Speech',\n  'Stammering',\n  'Loquacity',\n  'Taciturnity',\n  'Allocution',\n  'Response',\n  'Conversation',\n  'Soliloquy',\n  'Writing',\n  'Printing',\n  'Correspondence',\n  'Book',\n  'Description',\n  'Dissertation',\n  'Compendium',\n  'Poetry',\n  'Prose',\n  'The Drama'],\n ['Manifestation',\n  'Latency. Implication',\n  'Information',\n  'Correction',\n  'Concealment',\n  'Disclosure',\n  'Ambush',\n  'Publication',\n  'News',\n  'Secret',\n  'Messenger',\n  'Affirmation',\n  'Negation',\n  'Teaching',\n  'Misteaching',\n  'Learning',\n  'Teacher',\n  'Learner',\n  'School',\n  'Veracity',\n  'Falsehood',\n  'Deception',\n  'Untruth',\n  'Dupe',\n  'Deceiver',\n  'Exaggeration'],\n ['Meaning',\n  'Unmeaningness',\n  'Intelligibility',\n  'Unintelligibility',\n  'Equivocalness',\n  'Metaphor',\n  'Interpretation',\n  'Misinterpretation',\n  'Interpreter'],\n ['Supposition', 'Analogy', 'Imagination'],\n ['Memory',\n  'Oblivion',\n  'Expectation',\n  'Inexpectation',\n  'Disappointment',\n  'Foresight',\n  'Prediction',\n  'Omen',\n  'Oracle'],\n ['Evidence',\n  'Counter Evidence',\n  'Qualification',\n  'Possibility',\n  'Impossibility',\n  'Probability',\n  'Improbability',\n  'Certainty',\n  'Uncertainty'],\n ['Intellect',\n  'Absence or want of Intellect',\n  'Thought',\n  'Incogitancy',\n  'Idea',\n  'Topic'],\n ['Curiosity',\n  'Incuriosity',\n  'Attention',\n  'Inattention',\n  'Care',\n  'Neglect',\n  'Inquiry',\n  'Answer',\n  'Experiment',\n  'Comparison',\n  'Incomparability',\n  'Discrimination',\n  'Indiscrimination',\n  'Identification',\n  'Measurement'],\n ['Reasoning,', 'Intuition. & Sophistry', 'Demonstration', 'Confutation'],\n ['Judgment',\n  'Discovery',\n  'Misjudgment',\n  'Overestimation',\n  'Underestimation',\n  'Belief',\n  'Unbelief. Doubt',\n  'Credulity',\n  'Incredulity',\n  'Assent',\n  'Dissent',\n  'Knowledge',\n  'Ignorance',\n  'Scholar',\n  'Ignoramus',\n  'Truth',\n  'Error',\n  'Maxim',\n  'Absurdity',\n  'Intelligence, Wisdom',\n  'Imbecility. Folly',\n  'Sage',\n  'Fool',\n  'Sanity',\n  'Insanity',\n  'Madman'],\n ['Affections',\n  'Feeling',\n  'Sensibility',\n  'Insensibility',\n  'Excitation',\n  'Excitability',\n  'Inexcitability'],\n ['Pleasure',\n  'Pain',\n  'Pleasurableness',\n  'Painfulness',\n  'Content',\n  'Discontent',\n  'Regret',\n  'Relief',\n  'Aggravation',\n  'Cheerfulness',\n  'Dejection',\n  'Rejoicing',\n  'Lamentation',\n  'Amusement',\n  'Weariness',\n  'Wit',\n  'Dullness',\n  'Humorist',\n  'Beauty',\n  'Ugliness',\n  'Ornament',\n  'Jewelry',\n  'Blemish',\n  'Simplicity',\n  'Taste',\n  'Vulgarity',\n  'Fashion',\n  'Ridiculousness',\n  'Fop',\n  'Affectation',\n  'Ridicule',\n  'Laughingstock',\n  'Hope',\n  'Hopelessness',\n  'Fear',\n  'Courage',\n  'Cowardice',\n  'Rashness',\n  'Caution',\n  'Desire',\n  'Indifference',\n  'Dislike',\n  'Fastidiousness',\n  'Satiety',\n  'Wonder',\n  'Expectance',\n  'Prodigy',\n  'Repute',\n  'Disrepute',\n  'Nobility',\n  'Commonalty',\n  'Title',\n  'Pride',\n  'Humility',\n  'Vanity',\n  'Modesty',\n  'Ostentation',\n  'Celebration',\n  'Boasting',\n  'Insolence',\n  'Servility',\n  'Blusterer'],\n ['Right',\n  'Wrong',\n  'Dueness',\n  'Undueness',\n  'Duty',\n  'Dereliction of Duty',\n  'Exemption',\n  'Respect',\n  'Disrespect',\n  'Contempt',\n  'Approbation',\n  'Disapprobation',\n  'Flattery',\n  'Detraction',\n  'Flatterer',\n  'Detractor',\n  'Vindication',\n  'Accusation',\n  'Probity',\n  'Improbity',\n  'Knave',\n  'Disinterestedness',\n  'Selfishness',\n  'Virtue',\n  'Vice',\n  'Innocence',\n  'Guilt',\n  'Good Man',\n  'Bad Man',\n  'Penitence',\n  'Impenitence',\n  'Atonement',\n  'Temperance',\n  'Intemperance',\n  'Sensualist',\n  'Asceticism',\n  'Fasting',\n  'Gluttony',\n  'Sobriety',\n  'Drunkenness',\n  'Purity',\n  'Impurity',\n  'Libertine',\n  'Legality',\n  'Illegality',\n  'Jurisdiction',\n  'Tribunal',\n  'Judge',\n  'Lawyer',\n  'Lawsuit',\n  'Acquittal',\n  'Condemnation',\n  'Punishment',\n  'Reward',\n  'Penalty',\n  'Scourge'],\n ['Deity',\n  'Angel',\n  'Satan',\n  'Jupiter',\n  'Demon',\n  'Heaven',\n  'Hell',\n  'Theology',\n  'Orthodoxy',\n  'Heterodoxy',\n  'Judeo-Christian Revelation',\n  'Pseudo-Revelation',\n  'Piety',\n  'Impiety',\n  'Irreligion',\n  'Worship',\n  'Idolatry',\n  'Sorcery',\n  'Spell',\n  'Sorcerer',\n  'Churchdom',\n  'Clergy',\n  'Laity',\n  'Rite',\n  'Canonicals',\n  'Temple'],\n ['Friendship',\n  'Enmity',\n  'Friend',\n  'Enemy',\n  'Sociality',\n  'Seclusion. Exclusion',\n  'Courtesy',\n  'Discourtesy',\n  'Congratulation',\n  'Love',\n  'Hate',\n  'Favorite',\n  'Resentment',\n  'Irascibility',\n  'Sullenness',\n  'Endearment',\n  'Marriage',\n  'Celibacy',\n  'Divorce',\n  'Benevolence',\n  'Malevolence',\n  'Malediction',\n  'Threat',\n  'Philanthropy',\n  'Misanthropy',\n  'Benefactor',\n  'Evil doer',\n  'Pity',\n  'Pitilessness',\n  'Condolence',\n  'Gratitude',\n  'Ingratitude',\n  'Forgiveness',\n  'Revenge',\n  'Jealousy',\n  'Envy'],\n ['Difficulty',\n  'Facility',\n  'Hindrance',\n  'Aid',\n  'Opposition',\n  'Cooperation',\n  'Opponent',\n  'Auxiliary',\n  'Party',\n  'Discord',\n  'Concord',\n  'Defiance',\n  'Attack',\n  'Defense',\n  'Retaliation',\n  'Resistance',\n  'Contention',\n  'Peace',\n  'Warfare',\n  'Pacification',\n  'Mediation',\n  'Submission',\n  'Combatant',\n  'Arms',\n  'Arena'],\n ['Intention',\n  'Chance',\n  'Pursuit',\n  'Avoidance',\n  'Relinquishment',\n  'Business',\n  'Plan',\n  'Method',\n  'Mid-course',\n  'Circuit',\n  'Requirement',\n  'Instrumentality',\n  'Means',\n  'Instrument',\n  'Substitute',\n  'Materials',\n  'Store',\n  'Provision',\n  'Waste',\n  'Sufficiency',\n  'Insufficiency',\n  'Redundancy',\n  'Importance',\n  'Unimportance',\n  'Utility',\n  'Inutility',\n  'Expedience',\n  'Inexpedience',\n  'Goodness',\n  'Badness',\n  'Perfection',\n  'Imperfection',\n  'Cleanness',\n  'Uncleanness',\n  'Health',\n  'Disease',\n  'Salubrity',\n  'Insalubrity',\n  'Improvement',\n  'Deterioration',\n  'Restoration',\n  'Relapse',\n  'Remedy',\n  'Bane',\n  'Safety',\n  'Danger',\n  'Refuge',\n  'Pitfall',\n  'Warning',\n  'Alarm',\n  'Preservation',\n  'Escape',\n  'Deliverance',\n  'Preparation',\n  'Nonpreparation',\n  'Essay',\n  'Undertaking',\n  'Use',\n  'Disuse',\n  'Misuse'],\n ['Completion',\n  'Noncompletion',\n  'Success',\n  'Failure',\n  'Trophy',\n  'Prosperity',\n  'Adversity',\n  'Mediocrity'],\n ['Will',\n  'Necessity',\n  'Willingness',\n  'Unwillingness',\n  'Resolution',\n  'Perseverance',\n  'Irresolution',\n  'Obstinacy',\n  'Tergiversation',\n  'Caprice',\n  'Choice',\n  'Absence of Choice',\n  'Rejection',\n  'Predetermination',\n  'Impulse',\n  'Habit',\n  'Desuetude',\n  'Motive',\n  'Absence of Motive',\n  'Dissuasion',\n  'Pretext',\n  'Good',\n  'Evil'],\n ['Action',\n  'Inaction',\n  'Activity',\n  'Inactivity',\n  'Haste',\n  'Leisure',\n  'Exertion',\n  'Repose',\n  'Fatigue',\n  'Refreshment',\n  'Agent',\n  'Workshop',\n  'Conduct',\n  'Direction',\n  'Director',\n  'Advice',\n  'Council',\n  'Precept',\n  'Skill',\n  'Unskillfulness',\n  'Proficient',\n  'Bungler',\n  'Cunning',\n  'Artlessness'],\n ['Promise',\n  'Release from engagement',\n  'Compact',\n  'Conditions',\n  'Security',\n  'Observance',\n  'Nonobservance',\n  'Compromise'],\n ['Authority',\n  'Government',\n  'Politics',\n  'Laxity',\n  'Severity',\n  'Lenity',\n  'Command',\n  'Disobedience',\n  'Obedience',\n  'Compulsion',\n  'Master',\n  'Servant',\n  'Scepter',\n  'Freedom',\n  'Subjection',\n  'Liberation',\n  'Restraint',\n  'Prison',\n  'Keeper',\n  'Prisoner',\n  'Commission',\n  'Abrogation',\n  'Resignation',\n  'Consignee',\n  'Deputy'],\n ['Permission',\n  'Prohibition',\n  'Consent',\n  'Offer',\n  'Refusal',\n  'Request',\n  'Deprecation',\n  'Petitioner'],\n ['Acquisition',\n  'Loss',\n  'Possession',\n  'Exemption',\n  'Participation',\n  'Possessor',\n  'Property',\n  'Retention',\n  'Relinquishment',\n  'Transfer',\n  'Giving',\n  'Receiving',\n  'Apportionment',\n  'Lending',\n  'Borrowing',\n  'Taking',\n  'Restitution',\n  'Stealing',\n  'Thief',\n  'Booty',\n  'Barter',\n  'Purchase',\n  'Sale',\n  'Merchant',\n  'Merchandise',\n  'Mart',\n  'Stock Market',\n  'Securities',\n  'Money',\n  'Treasurer',\n  'Treasury',\n  'Wealth',\n  'Poverty',\n  'Credit',\n  'Debt',\n  'Payment',\n  'Nonpayment',\n  'Expenditure',\n  'Receipt',\n  'Accounts',\n  'Price',\n  'Value',\n  'Worthlessness',\n  'Discount',\n  'Dearness',\n  'Cheapness',\n  'Liberality',\n  'Economy',\n  'Greed',\n  'Prodigality',\n  'Parsimony']]"
     },
     "execution_count": 3,
     "metadata": {},
     "output_type": "execute_result"
    }
   ],
   "source": [
    "# Create a list of the documents where each document is a word from the files and split the documents according to \\n\n",
    "docs = [doc.page_content.split(\"\\n\") for doc in docs]\n",
    "docs"
   ],
   "metadata": {
    "collapsed": false,
    "ExecuteTime": {
     "end_time": "2024-02-11T11:22:25.371531600Z",
     "start_time": "2024-02-11T11:22:25.358265700Z"
    }
   },
   "id": "411da0ee8c0c8e9c",
   "execution_count": 3
  },
  {
   "cell_type": "code",
   "outputs": [
    {
     "data": {
      "text/plain": "['Cause',\n 'Effect',\n 'Attribution',\n 'Chance',\n 'Power',\n 'Impotence',\n 'Strength',\n 'Weakness',\n 'Production',\n 'Destruction',\n 'Reproduction',\n 'Producer',\n 'Destroyer',\n 'Paternity',\n 'Posterity',\n 'Productiveness',\n 'Unproductiveness',\n 'Agency',\n 'Physical Energy',\n 'Physical Inertness',\n 'Violence',\n 'Moderation',\n 'Influence',\n 'Absence of Influence',\n 'Tendency',\n 'Liability',\n 'Concurrence',\n 'Counteraction',\n 'Change',\n 'Permanence',\n 'Cessation',\n 'Continuance in action',\n 'Conversion',\n 'Reversion',\n 'Revolution',\n 'Substitution',\n 'Interchange',\n 'Changeableness',\n 'Stability',\n 'Eventuality',\n 'Destiny',\n 'Existence',\n 'Inexistence',\n 'Substantiality',\n 'Unsubstantiality',\n 'Intrinsicality',\n 'Extrinsicality',\n 'State',\n 'Circumstance',\n 'Number',\n 'Numeration',\n 'List',\n 'Unity',\n 'Accompaniment',\n 'Duality',\n 'Duplication',\n 'bisection',\n 'Triality',\n 'Triplication',\n 'Trisection',\n 'Four',\n 'Quadruplication',\n 'Quadrisection',\n 'Five',\n 'Quinquesection',\n 'Plurality',\n 'Fraction',\n 'Zero',\n 'Multitude',\n 'Fewness',\n 'Repetition',\n 'Infinity',\n 'Quantity',\n 'Degree',\n 'Equality',\n 'Inequality',\n 'Mean',\n 'Compensation',\n 'Greatness',\n 'Smallness',\n 'Superiority',\n 'Inferiority',\n 'Increase',\n 'Nonincrease, Decrease',\n 'Addition',\n 'Nonaddition. Subtraction',\n 'Adjunct',\n 'Remainder',\n 'Decrement',\n 'Mixture',\n 'Simpleness',\n 'Junction',\n 'Disjunction',\n 'Connection',\n 'Coherence',\n 'Incoherence',\n 'Combination',\n 'Decomposition',\n 'Whole',\n 'Part',\n 'Completeness',\n 'Incompleteness',\n 'Composition',\n 'Exclusion',\n 'Component',\n 'Extraneousness',\n 'Order',\n 'Disorder',\n 'Complexity',\n 'Arrangement',\n 'Derangement',\n 'Precedence',\n 'Sequence',\n 'Precursor',\n 'Sequel',\n 'Beginning',\n 'End',\n 'Middle',\n 'Continuity',\n 'Discontinuity',\n 'Term',\n 'Assemblage',\n 'Nonassemblage. Dispersion',\n 'Focus',\n 'Class',\n 'Inclusion',\n 'Exclusion',\n 'Generality',\n 'Speciality',\n 'Normality',\n 'Multiformity',\n 'Conformity',\n 'Unconformity',\n 'Relation',\n 'Irrelation',\n 'Consanguinity',\n 'Correlation',\n 'Identity',\n 'Contrariety',\n 'Difference',\n 'Uniformity',\n 'Nonuniformity',\n 'Similarity',\n 'Dissimilarity',\n 'Imitation',\n 'Nonimitation',\n 'Variation',\n 'Copy',\n 'Prototype',\n 'Agreement',\n 'Disagreement',\n 'Density',\n 'Rarity',\n 'Hardness',\n 'Softness',\n 'Elasticity',\n 'Inelasticity',\n 'Tenacity',\n 'Brittleness',\n 'Texture',\n 'Pulverulence',\n 'Friction',\n 'Lubrication',\n 'Fluidity',\n 'Gaseity',\n 'Liquefaction',\n 'Vaporization',\n 'Water',\n 'Air',\n 'Moisture',\n 'Dryness',\n 'Ocean',\n 'Land',\n 'Gulf. Lake',\n 'Plain',\n 'Marsh',\n 'Island',\n 'Stream',\n 'River',\n 'Wind',\n 'Conduit',\n 'Airpipe',\n 'Semiliquidity',\n 'Bubble',\n 'Pulpiness',\n 'Unctuousness',\n 'Oil',\n 'Resin',\n 'Time',\n 'Neverness',\n 'Period',\n 'Contingent Duration',\n 'Course',\n 'Diuturnity',\n 'Transientness',\n 'Perpetuity',\n 'Instantaneity',\n 'Chronometry',\n 'Anachronism',\n 'Priority',\n 'Posteriority',\n 'The Present Time',\n 'Different time',\n 'Synchronism',\n 'Futurity',\n 'The Past',\n 'Newness',\n 'Oldness',\n 'Morning',\n 'Evening',\n 'Youth',\n 'Age',\n 'Infant',\n 'Veteran',\n 'Adolescence',\n 'Earliness',\n 'Punctuality',\n 'Lateness',\n 'Occasion',\n 'Untimeliness',\n 'Frequency',\n 'Infrequency',\n 'Periodicity',\n 'Irregularity of recurrence',\n 'Materiality',\n 'Immateriality',\n 'World',\n 'Gravity',\n 'Levity',\n 'Organization',\n 'Inorganization',\n 'Life',\n 'Death',\n 'Killing',\n 'Corpse',\n 'Interment',\n 'Animality',\n 'VegetabilityΒ†',\n 'Animal',\n 'Vegetable',\n 'Zoology',\n 'Botany',\n 'Husbandry',\n 'Agriculture',\n 'Mankind',\n 'Man',\n 'Woman',\n 'Sexuality',\n 'Physical Sensibility',\n 'Physical Insensibility',\n 'Physical Pleasure',\n 'Physical Pain',\n 'Touch',\n 'Sensations of Touch',\n 'Numbness',\n 'Heat',\n 'Cold',\n 'Calefaction',\n 'Refrigeration',\n 'Furnace',\n 'Refrigerator',\n 'Fuel',\n 'Insulation',\n 'Thermometer',\n 'Taste',\n 'Insipidity',\n 'Pungency',\n 'Saltiness',\n 'Bitterness',\n 'Condiment',\n 'Savoriness',\n 'Unsavoriness',\n 'Sweetness',\n 'Sourness',\n 'Odor',\n 'Inodorousness',\n 'Fragrance',\n 'Fetor',\n 'Acridity',\n 'Sound',\n 'Silence',\n 'Loudness',\n 'Faintness',\n 'Snap',\n 'Roll',\n 'Resonance',\n 'NonresonanceΒ†',\n 'Sibilation',\n 'Stridor',\n 'Cry',\n 'Ululation',\n 'Melody. Concord',\n 'Discord',\n 'Music',\n 'Musician',\n 'Musical Instruments',\n 'Hearing',\n 'Deafness',\n 'Light',\n 'Darkness',\n 'Dimness',\n 'Luminary',\n 'Shade',\n 'Transparency',\n 'Opacity',\n 'Turbidity',\n 'Semitransparency',\n 'Color',\n 'Achromatism',\n 'Whiteness',\n 'Blackness',\n 'Gray',\n 'Brown',\n 'Redness',\n 'Greenness',\n 'Yellowness',\n 'Purple',\n 'Blueness',\n 'Orange',\n 'Variegation',\n 'Vision',\n 'Blindness',\n 'Dimsightedness',\n 'Spectator',\n 'Optical Instruments',\n 'Visibility',\n 'Invisibility',\n 'Appearance',\n 'Disappearance',\n 'Size',\n 'Littleness',\n 'Expansion',\n 'Contraction',\n 'Distance',\n 'Nearness',\n 'Interval',\n 'Contiguity',\n 'Length',\n 'Shortness',\n 'Breadth, Thickness,',\n 'Narrowness. Thinness',\n 'Layer',\n 'Filament',\n 'Height',\n 'Lowness',\n 'Depth',\n 'Shallowness',\n 'Summit',\n 'Base',\n 'Verticality',\n 'Horizontality',\n 'Pendency',\n 'Support',\n 'Parallelism',\n 'Perpendicularity',\n 'Obliquity',\n 'Inversion',\n 'Crossing',\n 'Exteriority',\n 'Interiority',\n 'Centrality',\n 'Covering',\n 'Lining',\n 'Clothing',\n 'Divestment',\n 'Circumjacence',\n 'Interposition',\n 'Circumscription',\n 'Outline',\n 'Edge',\n 'Inclosure',\n 'Limit',\n 'Front',\n 'Rear',\n 'Laterality',\n 'Contraposition',\n 'Dextrality',\n 'Sinistrality',\n 'Form',\n 'Amorphism',\n 'Symmetry',\n 'Distortion',\n 'Angularity',\n 'Curvature',\n 'Straightness',\n 'Circularity',\n 'Convolution',\n 'Rotundity',\n 'Convexity',\n 'Flatness',\n 'Concavity',\n 'Sponge',\n 'Sharpness',\n 'Bluntness',\n 'Smoothness',\n 'Roughness',\n 'Notch',\n 'Fold',\n 'Furrow',\n 'Opening',\n 'Closure',\n 'Perforator',\n 'Stopper',\n 'Motion',\n 'Quiescence',\n 'Journey',\n 'Navigation',\n 'Traveler',\n 'Mariner',\n 'Transference',\n 'Carrier',\n 'Vehicle',\n 'Ship',\n 'Velocity',\n 'Slowness',\n 'Impulse',\n 'Recoil',\n 'Direction',\n 'Deviation',\n 'Precession',\n 'Sequence',\n 'Progression',\n 'Regression',\n 'Propulsion',\n 'Traction',\n 'Approach',\n 'Recession',\n 'Attraction',\n 'Repulsion',\n 'Convergence',\n 'Divergence',\n 'Arrival',\n 'Departure',\n 'Ingress',\n 'Egress',\n 'Reception',\n 'Ejection',\n 'Food',\n 'Excretion',\n 'Insertion',\n 'Extraction',\n 'Passage',\n 'Transcursion',\n 'Shortcoming',\n 'Ascent',\n 'Descent',\n 'Elevation',\n 'Depression',\n 'Leap',\n 'Plunge',\n 'Circuition',\n 'Rotation',\n 'Evolution',\n 'Oscillation',\n 'Agitation',\n 'Space',\n 'Inextension',\n 'Region',\n 'Place',\n 'Situation',\n 'Location',\n 'Displacement',\n 'Presence',\n 'Absence',\n 'Inhabitant',\n 'Abode',\n 'Contents',\n 'Receptacle',\n 'Indication',\n 'Record',\n 'Obliteration',\n 'Recorder',\n 'Representation',\n 'Misrepresentation',\n 'Painting',\n 'Sculpture',\n 'Engraving',\n 'Artist',\n 'Language',\n 'Letter',\n 'Word',\n 'Neologism',\n 'Nomenclature',\n 'Misnomer',\n 'Phrase',\n 'Grammar',\n 'Solecism',\n 'Style',\n 'Perspicuity',\n 'Obscurity',\n 'Conciseness',\n 'Diffuseness',\n 'Vigor',\n 'Feebleness',\n 'Plainness',\n 'Ornament',\n 'Elegance',\n 'Inelegance',\n 'Voice',\n 'Aphony',\n 'Speech',\n 'Stammering',\n 'Loquacity',\n 'Taciturnity',\n 'Allocution',\n 'Response',\n 'Conversation',\n 'Soliloquy',\n 'Writing',\n 'Printing',\n 'Correspondence',\n 'Book',\n 'Description',\n 'Dissertation',\n 'Compendium',\n 'Poetry',\n 'Prose',\n 'The Drama',\n 'Manifestation',\n 'Latency. Implication',\n 'Information',\n 'Correction',\n 'Concealment',\n 'Disclosure',\n 'Ambush',\n 'Publication',\n 'News',\n 'Secret',\n 'Messenger',\n 'Affirmation',\n 'Negation',\n 'Teaching',\n 'Misteaching',\n 'Learning',\n 'Teacher',\n 'Learner',\n 'School',\n 'Veracity',\n 'Falsehood',\n 'Deception',\n 'Untruth',\n 'Dupe',\n 'Deceiver',\n 'Exaggeration',\n 'Meaning',\n 'Unmeaningness',\n 'Intelligibility',\n 'Unintelligibility',\n 'Equivocalness',\n 'Metaphor',\n 'Interpretation',\n 'Misinterpretation',\n 'Interpreter',\n 'Supposition',\n 'Analogy',\n 'Imagination',\n 'Memory',\n 'Oblivion',\n 'Expectation',\n 'Inexpectation',\n 'Disappointment',\n 'Foresight',\n 'Prediction',\n 'Omen',\n 'Oracle',\n 'Evidence',\n 'Counter Evidence',\n 'Qualification',\n 'Possibility',\n 'Impossibility',\n 'Probability',\n 'Improbability',\n 'Certainty',\n 'Uncertainty',\n 'Intellect',\n 'Absence or want of Intellect',\n 'Thought',\n 'Incogitancy',\n 'Idea',\n 'Topic',\n 'Curiosity',\n 'Incuriosity',\n 'Attention',\n 'Inattention',\n 'Care',\n 'Neglect',\n 'Inquiry',\n 'Answer',\n 'Experiment',\n 'Comparison',\n 'Incomparability',\n 'Discrimination',\n 'Indiscrimination',\n 'Identification',\n 'Measurement',\n 'Reasoning,',\n 'Intuition. & Sophistry',\n 'Demonstration',\n 'Confutation',\n 'Judgment',\n 'Discovery',\n 'Misjudgment',\n 'Overestimation',\n 'Underestimation',\n 'Belief',\n 'Unbelief. Doubt',\n 'Credulity',\n 'Incredulity',\n 'Assent',\n 'Dissent',\n 'Knowledge',\n 'Ignorance',\n 'Scholar',\n 'Ignoramus',\n 'Truth',\n 'Error',\n 'Maxim',\n 'Absurdity',\n 'Intelligence, Wisdom',\n 'Imbecility. Folly',\n 'Sage',\n 'Fool',\n 'Sanity',\n 'Insanity',\n 'Madman',\n 'Affections',\n 'Feeling',\n 'Sensibility',\n 'Insensibility',\n 'Excitation',\n 'Excitability',\n 'Inexcitability',\n 'Pleasure',\n 'Pain',\n 'Pleasurableness',\n 'Painfulness',\n 'Content',\n 'Discontent',\n 'Regret',\n 'Relief',\n 'Aggravation',\n 'Cheerfulness',\n 'Dejection',\n 'Rejoicing',\n 'Lamentation',\n 'Amusement',\n 'Weariness',\n 'Wit',\n 'Dullness',\n 'Humorist',\n 'Beauty',\n 'Ugliness',\n 'Ornament',\n 'Jewelry',\n 'Blemish',\n 'Simplicity',\n 'Taste',\n 'Vulgarity',\n 'Fashion',\n 'Ridiculousness',\n 'Fop',\n 'Affectation',\n 'Ridicule',\n 'Laughingstock',\n 'Hope',\n 'Hopelessness',\n 'Fear',\n 'Courage',\n 'Cowardice',\n 'Rashness',\n 'Caution',\n 'Desire',\n 'Indifference',\n 'Dislike',\n 'Fastidiousness',\n 'Satiety',\n 'Wonder',\n 'Expectance',\n 'Prodigy',\n 'Repute',\n 'Disrepute',\n 'Nobility',\n 'Commonalty',\n 'Title',\n 'Pride',\n 'Humility',\n 'Vanity',\n 'Modesty',\n 'Ostentation',\n 'Celebration',\n 'Boasting',\n 'Insolence',\n 'Servility',\n 'Blusterer',\n 'Right',\n 'Wrong',\n 'Dueness',\n 'Undueness',\n 'Duty',\n 'Dereliction of Duty',\n 'Exemption',\n 'Respect',\n 'Disrespect',\n 'Contempt',\n 'Approbation',\n 'Disapprobation',\n 'Flattery',\n 'Detraction',\n 'Flatterer',\n 'Detractor',\n 'Vindication',\n 'Accusation',\n 'Probity',\n 'Improbity',\n 'Knave',\n 'Disinterestedness',\n 'Selfishness',\n 'Virtue',\n 'Vice',\n 'Innocence',\n 'Guilt',\n 'Good Man',\n 'Bad Man',\n 'Penitence',\n 'Impenitence',\n 'Atonement',\n 'Temperance',\n 'Intemperance',\n 'Sensualist',\n 'Asceticism',\n 'Fasting',\n 'Gluttony',\n 'Sobriety',\n 'Drunkenness',\n 'Purity',\n 'Impurity',\n 'Libertine',\n 'Legality',\n 'Illegality',\n 'Jurisdiction',\n 'Tribunal',\n 'Judge',\n 'Lawyer',\n 'Lawsuit',\n 'Acquittal',\n 'Condemnation',\n 'Punishment',\n 'Reward',\n 'Penalty',\n 'Scourge',\n 'Deity',\n 'Angel',\n 'Satan',\n 'Jupiter',\n 'Demon',\n 'Heaven',\n 'Hell',\n 'Theology',\n 'Orthodoxy',\n 'Heterodoxy',\n 'Judeo-Christian Revelation',\n 'Pseudo-Revelation',\n 'Piety',\n 'Impiety',\n 'Irreligion',\n 'Worship',\n 'Idolatry',\n 'Sorcery',\n 'Spell',\n 'Sorcerer',\n 'Churchdom',\n 'Clergy',\n 'Laity',\n 'Rite',\n 'Canonicals',\n 'Temple',\n 'Friendship',\n 'Enmity',\n 'Friend',\n 'Enemy',\n 'Sociality',\n 'Seclusion. Exclusion',\n 'Courtesy',\n 'Discourtesy',\n 'Congratulation',\n 'Love',\n 'Hate',\n 'Favorite',\n 'Resentment',\n 'Irascibility',\n 'Sullenness',\n 'Endearment',\n 'Marriage',\n 'Celibacy',\n 'Divorce',\n 'Benevolence',\n 'Malevolence',\n 'Malediction',\n 'Threat',\n 'Philanthropy',\n 'Misanthropy',\n 'Benefactor',\n 'Evil doer',\n 'Pity',\n 'Pitilessness',\n 'Condolence',\n 'Gratitude',\n 'Ingratitude',\n 'Forgiveness',\n 'Revenge',\n 'Jealousy',\n 'Envy',\n 'Difficulty',\n 'Facility',\n 'Hindrance',\n 'Aid',\n 'Opposition',\n 'Cooperation',\n 'Opponent',\n 'Auxiliary',\n 'Party',\n 'Discord',\n 'Concord',\n 'Defiance',\n 'Attack',\n 'Defense',\n 'Retaliation',\n 'Resistance',\n 'Contention',\n 'Peace',\n 'Warfare',\n 'Pacification',\n 'Mediation',\n 'Submission',\n 'Combatant',\n 'Arms',\n 'Arena',\n 'Intention',\n 'Chance',\n 'Pursuit',\n 'Avoidance',\n 'Relinquishment',\n 'Business',\n 'Plan',\n 'Method',\n 'Mid-course',\n 'Circuit',\n 'Requirement',\n 'Instrumentality',\n 'Means',\n 'Instrument',\n 'Substitute',\n 'Materials',\n 'Store',\n 'Provision',\n 'Waste',\n 'Sufficiency',\n 'Insufficiency',\n 'Redundancy',\n 'Importance',\n 'Unimportance',\n 'Utility',\n 'Inutility',\n 'Expedience',\n 'Inexpedience',\n 'Goodness',\n 'Badness',\n 'Perfection',\n 'Imperfection',\n 'Cleanness',\n 'Uncleanness',\n 'Health',\n 'Disease',\n 'Salubrity',\n 'Insalubrity',\n 'Improvement',\n 'Deterioration',\n 'Restoration',\n 'Relapse',\n 'Remedy',\n 'Bane',\n 'Safety',\n 'Danger',\n 'Refuge',\n 'Pitfall',\n 'Warning',\n 'Alarm',\n 'Preservation',\n 'Escape',\n 'Deliverance',\n 'Preparation',\n 'Nonpreparation',\n 'Essay',\n 'Undertaking',\n 'Use',\n 'Disuse',\n 'Misuse',\n 'Completion',\n 'Noncompletion',\n 'Success',\n 'Failure',\n 'Trophy',\n 'Prosperity',\n 'Adversity',\n 'Mediocrity',\n 'Will',\n 'Necessity',\n 'Willingness',\n 'Unwillingness',\n 'Resolution',\n 'Perseverance',\n 'Irresolution',\n 'Obstinacy',\n 'Tergiversation',\n 'Caprice',\n 'Choice',\n 'Absence of Choice',\n 'Rejection',\n 'Predetermination',\n 'Impulse',\n 'Habit',\n 'Desuetude',\n 'Motive',\n 'Absence of Motive',\n 'Dissuasion',\n 'Pretext',\n 'Good',\n 'Evil',\n 'Action',\n 'Inaction',\n 'Activity',\n 'Inactivity',\n 'Haste',\n 'Leisure',\n 'Exertion',\n 'Repose',\n 'Fatigue',\n 'Refreshment',\n 'Agent',\n 'Workshop',\n 'Conduct',\n 'Direction',\n 'Director',\n 'Advice',\n 'Council',\n 'Precept',\n 'Skill',\n 'Unskillfulness',\n 'Proficient',\n 'Bungler',\n 'Cunning',\n 'Artlessness',\n 'Promise',\n 'Release from engagement',\n 'Compact',\n 'Conditions',\n 'Security',\n 'Observance',\n 'Nonobservance',\n 'Compromise',\n 'Authority',\n 'Government',\n 'Politics',\n 'Laxity',\n 'Severity',\n 'Lenity',\n 'Command',\n 'Disobedience',\n 'Obedience',\n 'Compulsion',\n 'Master',\n 'Servant',\n 'Scepter',\n 'Freedom',\n 'Subjection',\n 'Liberation',\n 'Restraint',\n 'Prison',\n 'Keeper',\n 'Prisoner',\n 'Commission',\n 'Abrogation',\n 'Resignation',\n 'Consignee',\n 'Deputy',\n 'Permission',\n 'Prohibition',\n 'Consent',\n 'Offer',\n 'Refusal',\n 'Request',\n 'Deprecation',\n 'Petitioner',\n 'Acquisition',\n 'Loss',\n 'Possession',\n 'Exemption',\n 'Participation',\n 'Possessor',\n 'Property',\n ...]"
     },
     "execution_count": 4,
     "metadata": {},
     "output_type": "execute_result"
    }
   ],
   "source": [
    "# Now make the documents a flat list\n",
    "docs = [word for doc in docs for word in doc]\n",
    "docs"
   ],
   "metadata": {
    "collapsed": false,
    "ExecuteTime": {
     "end_time": "2024-02-11T11:22:26.437566900Z",
     "start_time": "2024-02-11T11:22:26.429676300Z"
    }
   },
   "id": "9509448dfcda3ad",
   "execution_count": 4
  },
  {
   "cell_type": "code",
   "outputs": [
    {
     "data": {
      "text/plain": "1044"
     },
     "execution_count": 5,
     "metadata": {},
     "output_type": "execute_result"
    }
   ],
   "source": [
    "len(docs)"
   ],
   "metadata": {
    "collapsed": false,
    "ExecuteTime": {
     "end_time": "2024-02-11T11:22:27.513021600Z",
     "start_time": "2024-02-11T11:22:27.505725500Z"
    }
   },
   "id": "dd1e029240fc5eb4",
   "execution_count": 5
  },
  {
   "cell_type": "markdown",
   "source": [
    "## Checkpoint for the vector database"
   ],
   "metadata": {
    "collapsed": false
   },
   "id": "2584ae1d534c0059"
  },
  {
   "cell_type": "code",
   "outputs": [
    {
     "ename": "KeyboardInterrupt",
     "evalue": "",
     "output_type": "error",
     "traceback": [
      "\u001B[1;31m---------------------------------------------------------------------------\u001B[0m",
      "\u001B[1;31mConnectionRefusedError\u001B[0m                    Traceback (most recent call last)",
      "File \u001B[1;32m~\\AppData\\Local\\Programs\\Python\\Python311\\Lib\\site-packages\\urllib3\\util\\connection.py:73\u001B[0m, in \u001B[0;36mcreate_connection\u001B[1;34m(address, timeout, source_address, socket_options)\u001B[0m\n\u001B[0;32m     72\u001B[0m     sock\u001B[38;5;241m.\u001B[39mbind(source_address)\n\u001B[1;32m---> 73\u001B[0m sock\u001B[38;5;241m.\u001B[39mconnect(sa)\n\u001B[0;32m     74\u001B[0m \u001B[38;5;66;03m# Break explicitly a reference cycle\u001B[39;00m\n",
      "\u001B[1;31mConnectionRefusedError\u001B[0m: [WinError 10061] No connection could be made because the target machine actively refused it",
      "\nDuring handling of the above exception, another exception occurred:\n",
      "\u001B[1;31mKeyboardInterrupt\u001B[0m                         Traceback (most recent call last)",
      "Cell \u001B[1;32mIn[20], line 4\u001B[0m\n\u001B[0;32m      1\u001B[0m \u001B[38;5;28;01mimport\u001B[39;00m \u001B[38;5;21;01mchromadb\u001B[39;00m\n\u001B[0;32m      2\u001B[0m client \u001B[38;5;241m=\u001B[39m chromadb\u001B[38;5;241m.\u001B[39mPersistentClient(path\u001B[38;5;241m=\u001B[39m\u001B[38;5;124m\"\u001B[39m\u001B[38;5;124m./chroma_db\u001B[39m\u001B[38;5;124m\"\u001B[39m)\n\u001B[1;32m----> 4\u001B[0m docs_embedded \u001B[38;5;241m=\u001B[39m \u001B[43mmistral_embeddings\u001B[49m\u001B[38;5;241;43m.\u001B[39;49m\u001B[43membed_documents\u001B[49m\u001B[43m(\u001B[49m\u001B[43mdocs\u001B[49m\u001B[43m)\u001B[49m\n",
      "File \u001B[1;32m~\\AppData\\Local\\Programs\\Python\\Python311\\Lib\\site-packages\\langchain_community\\embeddings\\ollama.py:204\u001B[0m, in \u001B[0;36mOllamaEmbeddings.embed_documents\u001B[1;34m(self, texts)\u001B[0m\n\u001B[0;32m    195\u001B[0m \u001B[38;5;250m\u001B[39m\u001B[38;5;124;03m\"\"\"Embed documents using an Ollama deployed embedding model.\u001B[39;00m\n\u001B[0;32m    196\u001B[0m \n\u001B[0;32m    197\u001B[0m \u001B[38;5;124;03mArgs:\u001B[39;00m\n\u001B[1;32m   (...)\u001B[0m\n\u001B[0;32m    201\u001B[0m \u001B[38;5;124;03m    List of embeddings, one for each text.\u001B[39;00m\n\u001B[0;32m    202\u001B[0m \u001B[38;5;124;03m\"\"\"\u001B[39;00m\n\u001B[0;32m    203\u001B[0m instruction_pairs \u001B[38;5;241m=\u001B[39m [\u001B[38;5;124mf\u001B[39m\u001B[38;5;124m\"\u001B[39m\u001B[38;5;132;01m{\u001B[39;00m\u001B[38;5;28mself\u001B[39m\u001B[38;5;241m.\u001B[39membed_instruction\u001B[38;5;132;01m}\u001B[39;00m\u001B[38;5;132;01m{\u001B[39;00mtext\u001B[38;5;132;01m}\u001B[39;00m\u001B[38;5;124m\"\u001B[39m \u001B[38;5;28;01mfor\u001B[39;00m text \u001B[38;5;129;01min\u001B[39;00m texts]\n\u001B[1;32m--> 204\u001B[0m embeddings \u001B[38;5;241m=\u001B[39m \u001B[38;5;28;43mself\u001B[39;49m\u001B[38;5;241;43m.\u001B[39;49m\u001B[43m_embed\u001B[49m\u001B[43m(\u001B[49m\u001B[43minstruction_pairs\u001B[49m\u001B[43m)\u001B[49m\n\u001B[0;32m    205\u001B[0m \u001B[38;5;28;01mreturn\u001B[39;00m embeddings\n",
      "File \u001B[1;32m~\\AppData\\Local\\Programs\\Python\\Python311\\Lib\\site-packages\\langchain_community\\embeddings\\ollama.py:192\u001B[0m, in \u001B[0;36mOllamaEmbeddings._embed\u001B[1;34m(self, input)\u001B[0m\n\u001B[0;32m    190\u001B[0m \u001B[38;5;28;01melse\u001B[39;00m:\n\u001B[0;32m    191\u001B[0m     iter_ \u001B[38;5;241m=\u001B[39m \u001B[38;5;28minput\u001B[39m\n\u001B[1;32m--> 192\u001B[0m \u001B[38;5;28;01mreturn\u001B[39;00m \u001B[43m[\u001B[49m\u001B[38;5;28;43mself\u001B[39;49m\u001B[38;5;241;43m.\u001B[39;49m\u001B[43m_process_emb_response\u001B[49m\u001B[43m(\u001B[49m\u001B[43mprompt\u001B[49m\u001B[43m)\u001B[49m\u001B[43m \u001B[49m\u001B[38;5;28;43;01mfor\u001B[39;49;00m\u001B[43m \u001B[49m\u001B[43mprompt\u001B[49m\u001B[43m \u001B[49m\u001B[38;5;129;43;01min\u001B[39;49;00m\u001B[43m \u001B[49m\u001B[43miter_\u001B[49m\u001B[43m]\u001B[49m\n",
      "File \u001B[1;32m~\\AppData\\Local\\Programs\\Python\\Python311\\Lib\\site-packages\\langchain_community\\embeddings\\ollama.py:192\u001B[0m, in \u001B[0;36m<listcomp>\u001B[1;34m(.0)\u001B[0m\n\u001B[0;32m    190\u001B[0m \u001B[38;5;28;01melse\u001B[39;00m:\n\u001B[0;32m    191\u001B[0m     iter_ \u001B[38;5;241m=\u001B[39m \u001B[38;5;28minput\u001B[39m\n\u001B[1;32m--> 192\u001B[0m \u001B[38;5;28;01mreturn\u001B[39;00m [\u001B[38;5;28;43mself\u001B[39;49m\u001B[38;5;241;43m.\u001B[39;49m\u001B[43m_process_emb_response\u001B[49m\u001B[43m(\u001B[49m\u001B[43mprompt\u001B[49m\u001B[43m)\u001B[49m \u001B[38;5;28;01mfor\u001B[39;00m prompt \u001B[38;5;129;01min\u001B[39;00m iter_]\n",
      "File \u001B[1;32m~\\AppData\\Local\\Programs\\Python\\Python311\\Lib\\site-packages\\langchain_community\\embeddings\\ollama.py:157\u001B[0m, in \u001B[0;36mOllamaEmbeddings._process_emb_response\u001B[1;34m(self, input)\u001B[0m\n\u001B[0;32m    152\u001B[0m headers \u001B[38;5;241m=\u001B[39m {\n\u001B[0;32m    153\u001B[0m     \u001B[38;5;124m\"\u001B[39m\u001B[38;5;124mContent-Type\u001B[39m\u001B[38;5;124m\"\u001B[39m: \u001B[38;5;124m\"\u001B[39m\u001B[38;5;124mapplication/json\u001B[39m\u001B[38;5;124m\"\u001B[39m,\n\u001B[0;32m    154\u001B[0m }\n\u001B[0;32m    156\u001B[0m \u001B[38;5;28;01mtry\u001B[39;00m:\n\u001B[1;32m--> 157\u001B[0m     res \u001B[38;5;241m=\u001B[39m \u001B[43mrequests\u001B[49m\u001B[38;5;241;43m.\u001B[39;49m\u001B[43mpost\u001B[49m\u001B[43m(\u001B[49m\n\u001B[0;32m    158\u001B[0m \u001B[43m        \u001B[49m\u001B[38;5;124;43mf\u001B[39;49m\u001B[38;5;124;43m\"\u001B[39;49m\u001B[38;5;132;43;01m{\u001B[39;49;00m\u001B[38;5;28;43mself\u001B[39;49m\u001B[38;5;241;43m.\u001B[39;49m\u001B[43mbase_url\u001B[49m\u001B[38;5;132;43;01m}\u001B[39;49;00m\u001B[38;5;124;43m/api/embeddings\u001B[39;49m\u001B[38;5;124;43m\"\u001B[39;49m\u001B[43m,\u001B[49m\n\u001B[0;32m    159\u001B[0m \u001B[43m        \u001B[49m\u001B[43mheaders\u001B[49m\u001B[38;5;241;43m=\u001B[39;49m\u001B[43mheaders\u001B[49m\u001B[43m,\u001B[49m\n\u001B[0;32m    160\u001B[0m \u001B[43m        \u001B[49m\u001B[43mjson\u001B[49m\u001B[38;5;241;43m=\u001B[39;49m\u001B[43m{\u001B[49m\u001B[38;5;124;43m\"\u001B[39;49m\u001B[38;5;124;43mmodel\u001B[39;49m\u001B[38;5;124;43m\"\u001B[39;49m\u001B[43m:\u001B[49m\u001B[43m \u001B[49m\u001B[38;5;28;43mself\u001B[39;49m\u001B[38;5;241;43m.\u001B[39;49m\u001B[43mmodel\u001B[49m\u001B[43m,\u001B[49m\u001B[43m \u001B[49m\u001B[38;5;124;43m\"\u001B[39;49m\u001B[38;5;124;43mprompt\u001B[39;49m\u001B[38;5;124;43m\"\u001B[39;49m\u001B[43m:\u001B[49m\u001B[43m \u001B[49m\u001B[38;5;28;43minput\u001B[39;49m\u001B[43m,\u001B[49m\u001B[43m \u001B[49m\u001B[38;5;241;43m*\u001B[39;49m\u001B[38;5;241;43m*\u001B[39;49m\u001B[38;5;28;43mself\u001B[39;49m\u001B[38;5;241;43m.\u001B[39;49m\u001B[43m_default_params\u001B[49m\u001B[43m}\u001B[49m\u001B[43m,\u001B[49m\n\u001B[0;32m    161\u001B[0m \u001B[43m    \u001B[49m\u001B[43m)\u001B[49m\n\u001B[0;32m    162\u001B[0m \u001B[38;5;28;01mexcept\u001B[39;00m requests\u001B[38;5;241m.\u001B[39mexceptions\u001B[38;5;241m.\u001B[39mRequestException \u001B[38;5;28;01mas\u001B[39;00m e:\n\u001B[0;32m    163\u001B[0m     \u001B[38;5;28;01mraise\u001B[39;00m \u001B[38;5;167;01mValueError\u001B[39;00m(\u001B[38;5;124mf\u001B[39m\u001B[38;5;124m\"\u001B[39m\u001B[38;5;124mError raised by inference endpoint: \u001B[39m\u001B[38;5;132;01m{\u001B[39;00me\u001B[38;5;132;01m}\u001B[39;00m\u001B[38;5;124m\"\u001B[39m)\n",
      "File \u001B[1;32m~\\AppData\\Local\\Programs\\Python\\Python311\\Lib\\site-packages\\requests\\api.py:115\u001B[0m, in \u001B[0;36mpost\u001B[1;34m(url, data, json, **kwargs)\u001B[0m\n\u001B[0;32m    103\u001B[0m \u001B[38;5;28;01mdef\u001B[39;00m \u001B[38;5;21mpost\u001B[39m(url, data\u001B[38;5;241m=\u001B[39m\u001B[38;5;28;01mNone\u001B[39;00m, json\u001B[38;5;241m=\u001B[39m\u001B[38;5;28;01mNone\u001B[39;00m, \u001B[38;5;241m*\u001B[39m\u001B[38;5;241m*\u001B[39mkwargs):\n\u001B[0;32m    104\u001B[0m \u001B[38;5;250m    \u001B[39m\u001B[38;5;124mr\u001B[39m\u001B[38;5;124;03m\"\"\"Sends a POST request.\u001B[39;00m\n\u001B[0;32m    105\u001B[0m \n\u001B[0;32m    106\u001B[0m \u001B[38;5;124;03m    :param url: URL for the new :class:`Request` object.\u001B[39;00m\n\u001B[1;32m   (...)\u001B[0m\n\u001B[0;32m    112\u001B[0m \u001B[38;5;124;03m    :rtype: requests.Response\u001B[39;00m\n\u001B[0;32m    113\u001B[0m \u001B[38;5;124;03m    \"\"\"\u001B[39;00m\n\u001B[1;32m--> 115\u001B[0m     \u001B[38;5;28;01mreturn\u001B[39;00m \u001B[43mrequest\u001B[49m\u001B[43m(\u001B[49m\u001B[38;5;124;43m\"\u001B[39;49m\u001B[38;5;124;43mpost\u001B[39;49m\u001B[38;5;124;43m\"\u001B[39;49m\u001B[43m,\u001B[49m\u001B[43m \u001B[49m\u001B[43murl\u001B[49m\u001B[43m,\u001B[49m\u001B[43m \u001B[49m\u001B[43mdata\u001B[49m\u001B[38;5;241;43m=\u001B[39;49m\u001B[43mdata\u001B[49m\u001B[43m,\u001B[49m\u001B[43m \u001B[49m\u001B[43mjson\u001B[49m\u001B[38;5;241;43m=\u001B[39;49m\u001B[43mjson\u001B[49m\u001B[43m,\u001B[49m\u001B[43m \u001B[49m\u001B[38;5;241;43m*\u001B[39;49m\u001B[38;5;241;43m*\u001B[39;49m\u001B[43mkwargs\u001B[49m\u001B[43m)\u001B[49m\n",
      "File \u001B[1;32m~\\AppData\\Local\\Programs\\Python\\Python311\\Lib\\site-packages\\requests\\api.py:59\u001B[0m, in \u001B[0;36mrequest\u001B[1;34m(method, url, **kwargs)\u001B[0m\n\u001B[0;32m     55\u001B[0m \u001B[38;5;66;03m# By using the 'with' statement we are sure the session is closed, thus we\u001B[39;00m\n\u001B[0;32m     56\u001B[0m \u001B[38;5;66;03m# avoid leaving sockets open which can trigger a ResourceWarning in some\u001B[39;00m\n\u001B[0;32m     57\u001B[0m \u001B[38;5;66;03m# cases, and look like a memory leak in others.\u001B[39;00m\n\u001B[0;32m     58\u001B[0m \u001B[38;5;28;01mwith\u001B[39;00m sessions\u001B[38;5;241m.\u001B[39mSession() \u001B[38;5;28;01mas\u001B[39;00m session:\n\u001B[1;32m---> 59\u001B[0m     \u001B[38;5;28;01mreturn\u001B[39;00m \u001B[43msession\u001B[49m\u001B[38;5;241;43m.\u001B[39;49m\u001B[43mrequest\u001B[49m\u001B[43m(\u001B[49m\u001B[43mmethod\u001B[49m\u001B[38;5;241;43m=\u001B[39;49m\u001B[43mmethod\u001B[49m\u001B[43m,\u001B[49m\u001B[43m \u001B[49m\u001B[43murl\u001B[49m\u001B[38;5;241;43m=\u001B[39;49m\u001B[43murl\u001B[49m\u001B[43m,\u001B[49m\u001B[43m \u001B[49m\u001B[38;5;241;43m*\u001B[39;49m\u001B[38;5;241;43m*\u001B[39;49m\u001B[43mkwargs\u001B[49m\u001B[43m)\u001B[49m\n",
      "File \u001B[1;32m~\\AppData\\Local\\Programs\\Python\\Python311\\Lib\\site-packages\\requests\\sessions.py:589\u001B[0m, in \u001B[0;36mSession.request\u001B[1;34m(self, method, url, params, data, headers, cookies, files, auth, timeout, allow_redirects, proxies, hooks, stream, verify, cert, json)\u001B[0m\n\u001B[0;32m    584\u001B[0m send_kwargs \u001B[38;5;241m=\u001B[39m {\n\u001B[0;32m    585\u001B[0m     \u001B[38;5;124m\"\u001B[39m\u001B[38;5;124mtimeout\u001B[39m\u001B[38;5;124m\"\u001B[39m: timeout,\n\u001B[0;32m    586\u001B[0m     \u001B[38;5;124m\"\u001B[39m\u001B[38;5;124mallow_redirects\u001B[39m\u001B[38;5;124m\"\u001B[39m: allow_redirects,\n\u001B[0;32m    587\u001B[0m }\n\u001B[0;32m    588\u001B[0m send_kwargs\u001B[38;5;241m.\u001B[39mupdate(settings)\n\u001B[1;32m--> 589\u001B[0m resp \u001B[38;5;241m=\u001B[39m \u001B[38;5;28;43mself\u001B[39;49m\u001B[38;5;241;43m.\u001B[39;49m\u001B[43msend\u001B[49m\u001B[43m(\u001B[49m\u001B[43mprep\u001B[49m\u001B[43m,\u001B[49m\u001B[43m \u001B[49m\u001B[38;5;241;43m*\u001B[39;49m\u001B[38;5;241;43m*\u001B[39;49m\u001B[43msend_kwargs\u001B[49m\u001B[43m)\u001B[49m\n\u001B[0;32m    591\u001B[0m \u001B[38;5;28;01mreturn\u001B[39;00m resp\n",
      "File \u001B[1;32m~\\AppData\\Local\\Programs\\Python\\Python311\\Lib\\site-packages\\requests\\sessions.py:703\u001B[0m, in \u001B[0;36mSession.send\u001B[1;34m(self, request, **kwargs)\u001B[0m\n\u001B[0;32m    700\u001B[0m start \u001B[38;5;241m=\u001B[39m preferred_clock()\n\u001B[0;32m    702\u001B[0m \u001B[38;5;66;03m# Send the request\u001B[39;00m\n\u001B[1;32m--> 703\u001B[0m r \u001B[38;5;241m=\u001B[39m \u001B[43madapter\u001B[49m\u001B[38;5;241;43m.\u001B[39;49m\u001B[43msend\u001B[49m\u001B[43m(\u001B[49m\u001B[43mrequest\u001B[49m\u001B[43m,\u001B[49m\u001B[43m \u001B[49m\u001B[38;5;241;43m*\u001B[39;49m\u001B[38;5;241;43m*\u001B[39;49m\u001B[43mkwargs\u001B[49m\u001B[43m)\u001B[49m\n\u001B[0;32m    705\u001B[0m \u001B[38;5;66;03m# Total elapsed time of the request (approximately)\u001B[39;00m\n\u001B[0;32m    706\u001B[0m elapsed \u001B[38;5;241m=\u001B[39m preferred_clock() \u001B[38;5;241m-\u001B[39m start\n",
      "File \u001B[1;32m~\\AppData\\Local\\Programs\\Python\\Python311\\Lib\\site-packages\\requests\\adapters.py:486\u001B[0m, in \u001B[0;36mHTTPAdapter.send\u001B[1;34m(self, request, stream, timeout, verify, cert, proxies)\u001B[0m\n\u001B[0;32m    483\u001B[0m     timeout \u001B[38;5;241m=\u001B[39m TimeoutSauce(connect\u001B[38;5;241m=\u001B[39mtimeout, read\u001B[38;5;241m=\u001B[39mtimeout)\n\u001B[0;32m    485\u001B[0m \u001B[38;5;28;01mtry\u001B[39;00m:\n\u001B[1;32m--> 486\u001B[0m     resp \u001B[38;5;241m=\u001B[39m \u001B[43mconn\u001B[49m\u001B[38;5;241;43m.\u001B[39;49m\u001B[43murlopen\u001B[49m\u001B[43m(\u001B[49m\n\u001B[0;32m    487\u001B[0m \u001B[43m        \u001B[49m\u001B[43mmethod\u001B[49m\u001B[38;5;241;43m=\u001B[39;49m\u001B[43mrequest\u001B[49m\u001B[38;5;241;43m.\u001B[39;49m\u001B[43mmethod\u001B[49m\u001B[43m,\u001B[49m\n\u001B[0;32m    488\u001B[0m \u001B[43m        \u001B[49m\u001B[43murl\u001B[49m\u001B[38;5;241;43m=\u001B[39;49m\u001B[43murl\u001B[49m\u001B[43m,\u001B[49m\n\u001B[0;32m    489\u001B[0m \u001B[43m        \u001B[49m\u001B[43mbody\u001B[49m\u001B[38;5;241;43m=\u001B[39;49m\u001B[43mrequest\u001B[49m\u001B[38;5;241;43m.\u001B[39;49m\u001B[43mbody\u001B[49m\u001B[43m,\u001B[49m\n\u001B[0;32m    490\u001B[0m \u001B[43m        \u001B[49m\u001B[43mheaders\u001B[49m\u001B[38;5;241;43m=\u001B[39;49m\u001B[43mrequest\u001B[49m\u001B[38;5;241;43m.\u001B[39;49m\u001B[43mheaders\u001B[49m\u001B[43m,\u001B[49m\n\u001B[0;32m    491\u001B[0m \u001B[43m        \u001B[49m\u001B[43mredirect\u001B[49m\u001B[38;5;241;43m=\u001B[39;49m\u001B[38;5;28;43;01mFalse\u001B[39;49;00m\u001B[43m,\u001B[49m\n\u001B[0;32m    492\u001B[0m \u001B[43m        \u001B[49m\u001B[43massert_same_host\u001B[49m\u001B[38;5;241;43m=\u001B[39;49m\u001B[38;5;28;43;01mFalse\u001B[39;49;00m\u001B[43m,\u001B[49m\n\u001B[0;32m    493\u001B[0m \u001B[43m        \u001B[49m\u001B[43mpreload_content\u001B[49m\u001B[38;5;241;43m=\u001B[39;49m\u001B[38;5;28;43;01mFalse\u001B[39;49;00m\u001B[43m,\u001B[49m\n\u001B[0;32m    494\u001B[0m \u001B[43m        \u001B[49m\u001B[43mdecode_content\u001B[49m\u001B[38;5;241;43m=\u001B[39;49m\u001B[38;5;28;43;01mFalse\u001B[39;49;00m\u001B[43m,\u001B[49m\n\u001B[0;32m    495\u001B[0m \u001B[43m        \u001B[49m\u001B[43mretries\u001B[49m\u001B[38;5;241;43m=\u001B[39;49m\u001B[38;5;28;43mself\u001B[39;49m\u001B[38;5;241;43m.\u001B[39;49m\u001B[43mmax_retries\u001B[49m\u001B[43m,\u001B[49m\n\u001B[0;32m    496\u001B[0m \u001B[43m        \u001B[49m\u001B[43mtimeout\u001B[49m\u001B[38;5;241;43m=\u001B[39;49m\u001B[43mtimeout\u001B[49m\u001B[43m,\u001B[49m\n\u001B[0;32m    497\u001B[0m \u001B[43m        \u001B[49m\u001B[43mchunked\u001B[49m\u001B[38;5;241;43m=\u001B[39;49m\u001B[43mchunked\u001B[49m\u001B[43m,\u001B[49m\n\u001B[0;32m    498\u001B[0m \u001B[43m    \u001B[49m\u001B[43m)\u001B[49m\n\u001B[0;32m    500\u001B[0m \u001B[38;5;28;01mexcept\u001B[39;00m (ProtocolError, \u001B[38;5;167;01mOSError\u001B[39;00m) \u001B[38;5;28;01mas\u001B[39;00m err:\n\u001B[0;32m    501\u001B[0m     \u001B[38;5;28;01mraise\u001B[39;00m \u001B[38;5;167;01mConnectionError\u001B[39;00m(err, request\u001B[38;5;241m=\u001B[39mrequest)\n",
      "File \u001B[1;32m~\\AppData\\Local\\Programs\\Python\\Python311\\Lib\\site-packages\\urllib3\\connectionpool.py:790\u001B[0m, in \u001B[0;36mHTTPConnectionPool.urlopen\u001B[1;34m(self, method, url, body, headers, retries, redirect, assert_same_host, timeout, pool_timeout, release_conn, chunked, body_pos, preload_content, decode_content, **response_kw)\u001B[0m\n\u001B[0;32m    787\u001B[0m response_conn \u001B[38;5;241m=\u001B[39m conn \u001B[38;5;28;01mif\u001B[39;00m \u001B[38;5;129;01mnot\u001B[39;00m release_conn \u001B[38;5;28;01melse\u001B[39;00m \u001B[38;5;28;01mNone\u001B[39;00m\n\u001B[0;32m    789\u001B[0m \u001B[38;5;66;03m# Make the request on the HTTPConnection object\u001B[39;00m\n\u001B[1;32m--> 790\u001B[0m response \u001B[38;5;241m=\u001B[39m \u001B[38;5;28;43mself\u001B[39;49m\u001B[38;5;241;43m.\u001B[39;49m\u001B[43m_make_request\u001B[49m\u001B[43m(\u001B[49m\n\u001B[0;32m    791\u001B[0m \u001B[43m    \u001B[49m\u001B[43mconn\u001B[49m\u001B[43m,\u001B[49m\n\u001B[0;32m    792\u001B[0m \u001B[43m    \u001B[49m\u001B[43mmethod\u001B[49m\u001B[43m,\u001B[49m\n\u001B[0;32m    793\u001B[0m \u001B[43m    \u001B[49m\u001B[43murl\u001B[49m\u001B[43m,\u001B[49m\n\u001B[0;32m    794\u001B[0m \u001B[43m    \u001B[49m\u001B[43mtimeout\u001B[49m\u001B[38;5;241;43m=\u001B[39;49m\u001B[43mtimeout_obj\u001B[49m\u001B[43m,\u001B[49m\n\u001B[0;32m    795\u001B[0m \u001B[43m    \u001B[49m\u001B[43mbody\u001B[49m\u001B[38;5;241;43m=\u001B[39;49m\u001B[43mbody\u001B[49m\u001B[43m,\u001B[49m\n\u001B[0;32m    796\u001B[0m \u001B[43m    \u001B[49m\u001B[43mheaders\u001B[49m\u001B[38;5;241;43m=\u001B[39;49m\u001B[43mheaders\u001B[49m\u001B[43m,\u001B[49m\n\u001B[0;32m    797\u001B[0m \u001B[43m    \u001B[49m\u001B[43mchunked\u001B[49m\u001B[38;5;241;43m=\u001B[39;49m\u001B[43mchunked\u001B[49m\u001B[43m,\u001B[49m\n\u001B[0;32m    798\u001B[0m \u001B[43m    \u001B[49m\u001B[43mretries\u001B[49m\u001B[38;5;241;43m=\u001B[39;49m\u001B[43mretries\u001B[49m\u001B[43m,\u001B[49m\n\u001B[0;32m    799\u001B[0m \u001B[43m    \u001B[49m\u001B[43mresponse_conn\u001B[49m\u001B[38;5;241;43m=\u001B[39;49m\u001B[43mresponse_conn\u001B[49m\u001B[43m,\u001B[49m\n\u001B[0;32m    800\u001B[0m \u001B[43m    \u001B[49m\u001B[43mpreload_content\u001B[49m\u001B[38;5;241;43m=\u001B[39;49m\u001B[43mpreload_content\u001B[49m\u001B[43m,\u001B[49m\n\u001B[0;32m    801\u001B[0m \u001B[43m    \u001B[49m\u001B[43mdecode_content\u001B[49m\u001B[38;5;241;43m=\u001B[39;49m\u001B[43mdecode_content\u001B[49m\u001B[43m,\u001B[49m\n\u001B[0;32m    802\u001B[0m \u001B[43m    \u001B[49m\u001B[38;5;241;43m*\u001B[39;49m\u001B[38;5;241;43m*\u001B[39;49m\u001B[43mresponse_kw\u001B[49m\u001B[43m,\u001B[49m\n\u001B[0;32m    803\u001B[0m \u001B[43m\u001B[49m\u001B[43m)\u001B[49m\n\u001B[0;32m    805\u001B[0m \u001B[38;5;66;03m# Everything went great!\u001B[39;00m\n\u001B[0;32m    806\u001B[0m clean_exit \u001B[38;5;241m=\u001B[39m \u001B[38;5;28;01mTrue\u001B[39;00m\n",
      "File \u001B[1;32m~\\AppData\\Local\\Programs\\Python\\Python311\\Lib\\site-packages\\urllib3\\connectionpool.py:496\u001B[0m, in \u001B[0;36mHTTPConnectionPool._make_request\u001B[1;34m(self, conn, method, url, body, headers, retries, timeout, chunked, response_conn, preload_content, decode_content, enforce_content_length)\u001B[0m\n\u001B[0;32m    493\u001B[0m \u001B[38;5;66;03m# conn.request() calls http.client.*.request, not the method in\u001B[39;00m\n\u001B[0;32m    494\u001B[0m \u001B[38;5;66;03m# urllib3.request. It also calls makefile (recv) on the socket.\u001B[39;00m\n\u001B[0;32m    495\u001B[0m \u001B[38;5;28;01mtry\u001B[39;00m:\n\u001B[1;32m--> 496\u001B[0m     \u001B[43mconn\u001B[49m\u001B[38;5;241;43m.\u001B[39;49m\u001B[43mrequest\u001B[49m\u001B[43m(\u001B[49m\n\u001B[0;32m    497\u001B[0m \u001B[43m        \u001B[49m\u001B[43mmethod\u001B[49m\u001B[43m,\u001B[49m\n\u001B[0;32m    498\u001B[0m \u001B[43m        \u001B[49m\u001B[43murl\u001B[49m\u001B[43m,\u001B[49m\n\u001B[0;32m    499\u001B[0m \u001B[43m        \u001B[49m\u001B[43mbody\u001B[49m\u001B[38;5;241;43m=\u001B[39;49m\u001B[43mbody\u001B[49m\u001B[43m,\u001B[49m\n\u001B[0;32m    500\u001B[0m \u001B[43m        \u001B[49m\u001B[43mheaders\u001B[49m\u001B[38;5;241;43m=\u001B[39;49m\u001B[43mheaders\u001B[49m\u001B[43m,\u001B[49m\n\u001B[0;32m    501\u001B[0m \u001B[43m        \u001B[49m\u001B[43mchunked\u001B[49m\u001B[38;5;241;43m=\u001B[39;49m\u001B[43mchunked\u001B[49m\u001B[43m,\u001B[49m\n\u001B[0;32m    502\u001B[0m \u001B[43m        \u001B[49m\u001B[43mpreload_content\u001B[49m\u001B[38;5;241;43m=\u001B[39;49m\u001B[43mpreload_content\u001B[49m\u001B[43m,\u001B[49m\n\u001B[0;32m    503\u001B[0m \u001B[43m        \u001B[49m\u001B[43mdecode_content\u001B[49m\u001B[38;5;241;43m=\u001B[39;49m\u001B[43mdecode_content\u001B[49m\u001B[43m,\u001B[49m\n\u001B[0;32m    504\u001B[0m \u001B[43m        \u001B[49m\u001B[43menforce_content_length\u001B[49m\u001B[38;5;241;43m=\u001B[39;49m\u001B[43menforce_content_length\u001B[49m\u001B[43m,\u001B[49m\n\u001B[0;32m    505\u001B[0m \u001B[43m    \u001B[49m\u001B[43m)\u001B[49m\n\u001B[0;32m    507\u001B[0m \u001B[38;5;66;03m# We are swallowing BrokenPipeError (errno.EPIPE) since the server is\u001B[39;00m\n\u001B[0;32m    508\u001B[0m \u001B[38;5;66;03m# legitimately able to close the connection after sending a valid response.\u001B[39;00m\n\u001B[0;32m    509\u001B[0m \u001B[38;5;66;03m# With this behaviour, the received response is still readable.\u001B[39;00m\n\u001B[0;32m    510\u001B[0m \u001B[38;5;28;01mexcept\u001B[39;00m \u001B[38;5;167;01mBrokenPipeError\u001B[39;00m:\n",
      "File \u001B[1;32m~\\AppData\\Local\\Programs\\Python\\Python311\\Lib\\site-packages\\urllib3\\connection.py:395\u001B[0m, in \u001B[0;36mHTTPConnection.request\u001B[1;34m(self, method, url, body, headers, chunked, preload_content, decode_content, enforce_content_length)\u001B[0m\n\u001B[0;32m    393\u001B[0m \u001B[38;5;28;01mfor\u001B[39;00m header, value \u001B[38;5;129;01min\u001B[39;00m headers\u001B[38;5;241m.\u001B[39mitems():\n\u001B[0;32m    394\u001B[0m     \u001B[38;5;28mself\u001B[39m\u001B[38;5;241m.\u001B[39mputheader(header, value)\n\u001B[1;32m--> 395\u001B[0m \u001B[38;5;28;43mself\u001B[39;49m\u001B[38;5;241;43m.\u001B[39;49m\u001B[43mendheaders\u001B[49m\u001B[43m(\u001B[49m\u001B[43m)\u001B[49m\n\u001B[0;32m    397\u001B[0m \u001B[38;5;66;03m# If we're given a body we start sending that in chunks.\u001B[39;00m\n\u001B[0;32m    398\u001B[0m \u001B[38;5;28;01mif\u001B[39;00m chunks \u001B[38;5;129;01mis\u001B[39;00m \u001B[38;5;129;01mnot\u001B[39;00m \u001B[38;5;28;01mNone\u001B[39;00m:\n",
      "File \u001B[1;32m~\\AppData\\Local\\Programs\\Python\\Python311\\Lib\\http\\client.py:1281\u001B[0m, in \u001B[0;36mHTTPConnection.endheaders\u001B[1;34m(self, message_body, encode_chunked)\u001B[0m\n\u001B[0;32m   1279\u001B[0m \u001B[38;5;28;01melse\u001B[39;00m:\n\u001B[0;32m   1280\u001B[0m     \u001B[38;5;28;01mraise\u001B[39;00m CannotSendHeader()\n\u001B[1;32m-> 1281\u001B[0m \u001B[38;5;28;43mself\u001B[39;49m\u001B[38;5;241;43m.\u001B[39;49m\u001B[43m_send_output\u001B[49m\u001B[43m(\u001B[49m\u001B[43mmessage_body\u001B[49m\u001B[43m,\u001B[49m\u001B[43m \u001B[49m\u001B[43mencode_chunked\u001B[49m\u001B[38;5;241;43m=\u001B[39;49m\u001B[43mencode_chunked\u001B[49m\u001B[43m)\u001B[49m\n",
      "File \u001B[1;32m~\\AppData\\Local\\Programs\\Python\\Python311\\Lib\\http\\client.py:1041\u001B[0m, in \u001B[0;36mHTTPConnection._send_output\u001B[1;34m(self, message_body, encode_chunked)\u001B[0m\n\u001B[0;32m   1039\u001B[0m msg \u001B[38;5;241m=\u001B[39m \u001B[38;5;124mb\u001B[39m\u001B[38;5;124m\"\u001B[39m\u001B[38;5;130;01m\\r\u001B[39;00m\u001B[38;5;130;01m\\n\u001B[39;00m\u001B[38;5;124m\"\u001B[39m\u001B[38;5;241m.\u001B[39mjoin(\u001B[38;5;28mself\u001B[39m\u001B[38;5;241m.\u001B[39m_buffer)\n\u001B[0;32m   1040\u001B[0m \u001B[38;5;28;01mdel\u001B[39;00m \u001B[38;5;28mself\u001B[39m\u001B[38;5;241m.\u001B[39m_buffer[:]\n\u001B[1;32m-> 1041\u001B[0m \u001B[38;5;28;43mself\u001B[39;49m\u001B[38;5;241;43m.\u001B[39;49m\u001B[43msend\u001B[49m\u001B[43m(\u001B[49m\u001B[43mmsg\u001B[49m\u001B[43m)\u001B[49m\n\u001B[0;32m   1043\u001B[0m \u001B[38;5;28;01mif\u001B[39;00m message_body \u001B[38;5;129;01mis\u001B[39;00m \u001B[38;5;129;01mnot\u001B[39;00m \u001B[38;5;28;01mNone\u001B[39;00m:\n\u001B[0;32m   1044\u001B[0m \n\u001B[0;32m   1045\u001B[0m     \u001B[38;5;66;03m# create a consistent interface to message_body\u001B[39;00m\n\u001B[0;32m   1046\u001B[0m     \u001B[38;5;28;01mif\u001B[39;00m \u001B[38;5;28mhasattr\u001B[39m(message_body, \u001B[38;5;124m'\u001B[39m\u001B[38;5;124mread\u001B[39m\u001B[38;5;124m'\u001B[39m):\n\u001B[0;32m   1047\u001B[0m         \u001B[38;5;66;03m# Let file-like take precedence over byte-like.  This\u001B[39;00m\n\u001B[0;32m   1048\u001B[0m         \u001B[38;5;66;03m# is needed to allow the current position of mmap'ed\u001B[39;00m\n\u001B[0;32m   1049\u001B[0m         \u001B[38;5;66;03m# files to be taken into account.\u001B[39;00m\n",
      "File \u001B[1;32m~\\AppData\\Local\\Programs\\Python\\Python311\\Lib\\http\\client.py:979\u001B[0m, in \u001B[0;36mHTTPConnection.send\u001B[1;34m(self, data)\u001B[0m\n\u001B[0;32m    977\u001B[0m \u001B[38;5;28;01mif\u001B[39;00m \u001B[38;5;28mself\u001B[39m\u001B[38;5;241m.\u001B[39msock \u001B[38;5;129;01mis\u001B[39;00m \u001B[38;5;28;01mNone\u001B[39;00m:\n\u001B[0;32m    978\u001B[0m     \u001B[38;5;28;01mif\u001B[39;00m \u001B[38;5;28mself\u001B[39m\u001B[38;5;241m.\u001B[39mauto_open:\n\u001B[1;32m--> 979\u001B[0m         \u001B[38;5;28;43mself\u001B[39;49m\u001B[38;5;241;43m.\u001B[39;49m\u001B[43mconnect\u001B[49m\u001B[43m(\u001B[49m\u001B[43m)\u001B[49m\n\u001B[0;32m    980\u001B[0m     \u001B[38;5;28;01melse\u001B[39;00m:\n\u001B[0;32m    981\u001B[0m         \u001B[38;5;28;01mraise\u001B[39;00m NotConnected()\n",
      "File \u001B[1;32m~\\AppData\\Local\\Programs\\Python\\Python311\\Lib\\site-packages\\urllib3\\connection.py:243\u001B[0m, in \u001B[0;36mHTTPConnection.connect\u001B[1;34m(self)\u001B[0m\n\u001B[0;32m    242\u001B[0m \u001B[38;5;28;01mdef\u001B[39;00m \u001B[38;5;21mconnect\u001B[39m(\u001B[38;5;28mself\u001B[39m) \u001B[38;5;241m-\u001B[39m\u001B[38;5;241m>\u001B[39m \u001B[38;5;28;01mNone\u001B[39;00m:\n\u001B[1;32m--> 243\u001B[0m     \u001B[38;5;28mself\u001B[39m\u001B[38;5;241m.\u001B[39msock \u001B[38;5;241m=\u001B[39m \u001B[38;5;28;43mself\u001B[39;49m\u001B[38;5;241;43m.\u001B[39;49m\u001B[43m_new_conn\u001B[49m\u001B[43m(\u001B[49m\u001B[43m)\u001B[49m\n\u001B[0;32m    244\u001B[0m     \u001B[38;5;28;01mif\u001B[39;00m \u001B[38;5;28mself\u001B[39m\u001B[38;5;241m.\u001B[39m_tunnel_host:\n\u001B[0;32m    245\u001B[0m         \u001B[38;5;66;03m# If we're tunneling it means we're connected to our proxy.\u001B[39;00m\n\u001B[0;32m    246\u001B[0m         \u001B[38;5;28mself\u001B[39m\u001B[38;5;241m.\u001B[39m_has_connected_to_proxy \u001B[38;5;241m=\u001B[39m \u001B[38;5;28;01mTrue\u001B[39;00m\n",
      "File \u001B[1;32m~\\AppData\\Local\\Programs\\Python\\Python311\\Lib\\site-packages\\urllib3\\connection.py:203\u001B[0m, in \u001B[0;36mHTTPConnection._new_conn\u001B[1;34m(self)\u001B[0m\n\u001B[0;32m    198\u001B[0m \u001B[38;5;250m\u001B[39m\u001B[38;5;124;03m\"\"\"Establish a socket connection and set nodelay settings on it.\u001B[39;00m\n\u001B[0;32m    199\u001B[0m \n\u001B[0;32m    200\u001B[0m \u001B[38;5;124;03m:return: New socket connection.\u001B[39;00m\n\u001B[0;32m    201\u001B[0m \u001B[38;5;124;03m\"\"\"\u001B[39;00m\n\u001B[0;32m    202\u001B[0m \u001B[38;5;28;01mtry\u001B[39;00m:\n\u001B[1;32m--> 203\u001B[0m     sock \u001B[38;5;241m=\u001B[39m \u001B[43mconnection\u001B[49m\u001B[38;5;241;43m.\u001B[39;49m\u001B[43mcreate_connection\u001B[49m\u001B[43m(\u001B[49m\n\u001B[0;32m    204\u001B[0m \u001B[43m        \u001B[49m\u001B[43m(\u001B[49m\u001B[38;5;28;43mself\u001B[39;49m\u001B[38;5;241;43m.\u001B[39;49m\u001B[43m_dns_host\u001B[49m\u001B[43m,\u001B[49m\u001B[43m \u001B[49m\u001B[38;5;28;43mself\u001B[39;49m\u001B[38;5;241;43m.\u001B[39;49m\u001B[43mport\u001B[49m\u001B[43m)\u001B[49m\u001B[43m,\u001B[49m\n\u001B[0;32m    205\u001B[0m \u001B[43m        \u001B[49m\u001B[38;5;28;43mself\u001B[39;49m\u001B[38;5;241;43m.\u001B[39;49m\u001B[43mtimeout\u001B[49m\u001B[43m,\u001B[49m\n\u001B[0;32m    206\u001B[0m \u001B[43m        \u001B[49m\u001B[43msource_address\u001B[49m\u001B[38;5;241;43m=\u001B[39;49m\u001B[38;5;28;43mself\u001B[39;49m\u001B[38;5;241;43m.\u001B[39;49m\u001B[43msource_address\u001B[49m\u001B[43m,\u001B[49m\n\u001B[0;32m    207\u001B[0m \u001B[43m        \u001B[49m\u001B[43msocket_options\u001B[49m\u001B[38;5;241;43m=\u001B[39;49m\u001B[38;5;28;43mself\u001B[39;49m\u001B[38;5;241;43m.\u001B[39;49m\u001B[43msocket_options\u001B[49m\u001B[43m,\u001B[49m\n\u001B[0;32m    208\u001B[0m \u001B[43m    \u001B[49m\u001B[43m)\u001B[49m\n\u001B[0;32m    209\u001B[0m \u001B[38;5;28;01mexcept\u001B[39;00m socket\u001B[38;5;241m.\u001B[39mgaierror \u001B[38;5;28;01mas\u001B[39;00m e:\n\u001B[0;32m    210\u001B[0m     \u001B[38;5;28;01mraise\u001B[39;00m NameResolutionError(\u001B[38;5;28mself\u001B[39m\u001B[38;5;241m.\u001B[39mhost, \u001B[38;5;28mself\u001B[39m, e) \u001B[38;5;28;01mfrom\u001B[39;00m \u001B[38;5;21;01me\u001B[39;00m\n",
      "File \u001B[1;32m~\\AppData\\Local\\Programs\\Python\\Python311\\Lib\\site-packages\\urllib3\\util\\connection.py:81\u001B[0m, in \u001B[0;36mcreate_connection\u001B[1;34m(address, timeout, source_address, socket_options)\u001B[0m\n\u001B[0;32m     79\u001B[0m         err \u001B[38;5;241m=\u001B[39m _\n\u001B[0;32m     80\u001B[0m         \u001B[38;5;28;01mif\u001B[39;00m sock \u001B[38;5;129;01mis\u001B[39;00m \u001B[38;5;129;01mnot\u001B[39;00m \u001B[38;5;28;01mNone\u001B[39;00m:\n\u001B[1;32m---> 81\u001B[0m             \u001B[43msock\u001B[49m\u001B[38;5;241;43m.\u001B[39;49m\u001B[43mclose\u001B[49m\u001B[43m(\u001B[49m\u001B[43m)\u001B[49m\n\u001B[0;32m     83\u001B[0m \u001B[38;5;28;01mif\u001B[39;00m err \u001B[38;5;129;01mis\u001B[39;00m \u001B[38;5;129;01mnot\u001B[39;00m \u001B[38;5;28;01mNone\u001B[39;00m:\n\u001B[0;32m     84\u001B[0m     \u001B[38;5;28;01mtry\u001B[39;00m:\n",
      "File \u001B[1;32m~\\AppData\\Local\\Programs\\Python\\Python311\\Lib\\socket.py:499\u001B[0m, in \u001B[0;36msocket.close\u001B[1;34m(self)\u001B[0m\n\u001B[0;32m    495\u001B[0m \u001B[38;5;28;01mdef\u001B[39;00m \u001B[38;5;21m_real_close\u001B[39m(\u001B[38;5;28mself\u001B[39m, _ss\u001B[38;5;241m=\u001B[39m_socket\u001B[38;5;241m.\u001B[39msocket):\n\u001B[0;32m    496\u001B[0m     \u001B[38;5;66;03m# This function should not reference any globals. See issue #808164.\u001B[39;00m\n\u001B[0;32m    497\u001B[0m     _ss\u001B[38;5;241m.\u001B[39mclose(\u001B[38;5;28mself\u001B[39m)\n\u001B[1;32m--> 499\u001B[0m \u001B[38;5;28;01mdef\u001B[39;00m \u001B[38;5;21mclose\u001B[39m(\u001B[38;5;28mself\u001B[39m):\n\u001B[0;32m    500\u001B[0m     \u001B[38;5;66;03m# This function should not reference any globals. See issue #808164.\u001B[39;00m\n\u001B[0;32m    501\u001B[0m     \u001B[38;5;28mself\u001B[39m\u001B[38;5;241m.\u001B[39m_closed \u001B[38;5;241m=\u001B[39m \u001B[38;5;28;01mTrue\u001B[39;00m\n\u001B[0;32m    502\u001B[0m     \u001B[38;5;28;01mif\u001B[39;00m \u001B[38;5;28mself\u001B[39m\u001B[38;5;241m.\u001B[39m_io_refs \u001B[38;5;241m<\u001B[39m\u001B[38;5;241m=\u001B[39m \u001B[38;5;241m0\u001B[39m:\n",
      "\u001B[1;31mKeyboardInterrupt\u001B[0m: "
     ]
    }
   ],
   "source": [
    "import chromadb\n",
    "client = chromadb.PersistentClient(path=\"./chroma_db\")\n",
    "\n",
    "docs_embedded = mistral_embeddings.embed_documents(docs)"
   ],
   "metadata": {
    "collapsed": false,
    "ExecuteTime": {
     "end_time": "2024-02-11T10:29:13.050021500Z",
     "start_time": "2024-02-11T10:28:01.255939Z"
    }
   },
   "id": "3361e689884797d7",
   "execution_count": 20
  },
  {
   "cell_type": "code",
   "outputs": [
    {
     "name": "stderr",
     "output_type": "stream",
     "text": [
      "  4%|▎         | 38/1044 [01:28<39:05,  2.33s/it]\n"
     ]
    },
    {
     "ename": "KeyboardInterrupt",
     "evalue": "",
     "output_type": "error",
     "traceback": [
      "\u001B[1;31m---------------------------------------------------------------------------\u001B[0m",
      "\u001B[1;31mConnectionRefusedError\u001B[0m                    Traceback (most recent call last)",
      "File \u001B[1;32m~\\AppData\\Local\\Programs\\Python\\Python311\\Lib\\site-packages\\urllib3\\util\\connection.py:73\u001B[0m, in \u001B[0;36mcreate_connection\u001B[1;34m(address, timeout, source_address, socket_options)\u001B[0m\n\u001B[0;32m     72\u001B[0m     sock\u001B[38;5;241m.\u001B[39mbind(source_address)\n\u001B[1;32m---> 73\u001B[0m sock\u001B[38;5;241m.\u001B[39mconnect(sa)\n\u001B[0;32m     74\u001B[0m \u001B[38;5;66;03m# Break explicitly a reference cycle\u001B[39;00m\n",
      "\u001B[1;31mConnectionRefusedError\u001B[0m: [WinError 10061] No connection could be made because the target machine actively refused it",
      "\nDuring handling of the above exception, another exception occurred:\n",
      "\u001B[1;31mKeyboardInterrupt\u001B[0m                         Traceback (most recent call last)",
      "Cell \u001B[1;32mIn[23], line 4\u001B[0m\n\u001B[0;32m      2\u001B[0m results \u001B[38;5;241m=\u001B[39m []\n\u001B[0;32m      3\u001B[0m \u001B[38;5;28;01mfor\u001B[39;00m doc \u001B[38;5;129;01min\u001B[39;00m tqdm(docs):\n\u001B[1;32m----> 4\u001B[0m     results\u001B[38;5;241m.\u001B[39mappend(\u001B[43mmistral_embeddings\u001B[49m\u001B[38;5;241;43m.\u001B[39;49m\u001B[43membed_query\u001B[49m\u001B[43m(\u001B[49m\u001B[43mdoc\u001B[49m\u001B[43m)\u001B[49m)\n",
      "File \u001B[1;32m~\\AppData\\Local\\Programs\\Python\\Python311\\Lib\\site-packages\\langchain_community\\embeddings\\ollama.py:217\u001B[0m, in \u001B[0;36mOllamaEmbeddings.embed_query\u001B[1;34m(self, text)\u001B[0m\n\u001B[0;32m    208\u001B[0m \u001B[38;5;250m\u001B[39m\u001B[38;5;124;03m\"\"\"Embed a query using a Ollama deployed embedding model.\u001B[39;00m\n\u001B[0;32m    209\u001B[0m \n\u001B[0;32m    210\u001B[0m \u001B[38;5;124;03mArgs:\u001B[39;00m\n\u001B[1;32m   (...)\u001B[0m\n\u001B[0;32m    214\u001B[0m \u001B[38;5;124;03m    Embeddings for the text.\u001B[39;00m\n\u001B[0;32m    215\u001B[0m \u001B[38;5;124;03m\"\"\"\u001B[39;00m\n\u001B[0;32m    216\u001B[0m instruction_pair \u001B[38;5;241m=\u001B[39m \u001B[38;5;124mf\u001B[39m\u001B[38;5;124m\"\u001B[39m\u001B[38;5;132;01m{\u001B[39;00m\u001B[38;5;28mself\u001B[39m\u001B[38;5;241m.\u001B[39mquery_instruction\u001B[38;5;132;01m}\u001B[39;00m\u001B[38;5;132;01m{\u001B[39;00mtext\u001B[38;5;132;01m}\u001B[39;00m\u001B[38;5;124m\"\u001B[39m\n\u001B[1;32m--> 217\u001B[0m embedding \u001B[38;5;241m=\u001B[39m \u001B[38;5;28;43mself\u001B[39;49m\u001B[38;5;241;43m.\u001B[39;49m\u001B[43m_embed\u001B[49m\u001B[43m(\u001B[49m\u001B[43m[\u001B[49m\u001B[43minstruction_pair\u001B[49m\u001B[43m]\u001B[49m\u001B[43m)\u001B[49m[\u001B[38;5;241m0\u001B[39m]\n\u001B[0;32m    218\u001B[0m \u001B[38;5;28;01mreturn\u001B[39;00m embedding\n",
      "File \u001B[1;32m~\\AppData\\Local\\Programs\\Python\\Python311\\Lib\\site-packages\\langchain_community\\embeddings\\ollama.py:192\u001B[0m, in \u001B[0;36mOllamaEmbeddings._embed\u001B[1;34m(self, input)\u001B[0m\n\u001B[0;32m    190\u001B[0m \u001B[38;5;28;01melse\u001B[39;00m:\n\u001B[0;32m    191\u001B[0m     iter_ \u001B[38;5;241m=\u001B[39m \u001B[38;5;28minput\u001B[39m\n\u001B[1;32m--> 192\u001B[0m \u001B[38;5;28;01mreturn\u001B[39;00m \u001B[43m[\u001B[49m\u001B[38;5;28;43mself\u001B[39;49m\u001B[38;5;241;43m.\u001B[39;49m\u001B[43m_process_emb_response\u001B[49m\u001B[43m(\u001B[49m\u001B[43mprompt\u001B[49m\u001B[43m)\u001B[49m\u001B[43m \u001B[49m\u001B[38;5;28;43;01mfor\u001B[39;49;00m\u001B[43m \u001B[49m\u001B[43mprompt\u001B[49m\u001B[43m \u001B[49m\u001B[38;5;129;43;01min\u001B[39;49;00m\u001B[43m \u001B[49m\u001B[43miter_\u001B[49m\u001B[43m]\u001B[49m\n",
      "File \u001B[1;32m~\\AppData\\Local\\Programs\\Python\\Python311\\Lib\\site-packages\\langchain_community\\embeddings\\ollama.py:192\u001B[0m, in \u001B[0;36m<listcomp>\u001B[1;34m(.0)\u001B[0m\n\u001B[0;32m    190\u001B[0m \u001B[38;5;28;01melse\u001B[39;00m:\n\u001B[0;32m    191\u001B[0m     iter_ \u001B[38;5;241m=\u001B[39m \u001B[38;5;28minput\u001B[39m\n\u001B[1;32m--> 192\u001B[0m \u001B[38;5;28;01mreturn\u001B[39;00m [\u001B[38;5;28;43mself\u001B[39;49m\u001B[38;5;241;43m.\u001B[39;49m\u001B[43m_process_emb_response\u001B[49m\u001B[43m(\u001B[49m\u001B[43mprompt\u001B[49m\u001B[43m)\u001B[49m \u001B[38;5;28;01mfor\u001B[39;00m prompt \u001B[38;5;129;01min\u001B[39;00m iter_]\n",
      "File \u001B[1;32m~\\AppData\\Local\\Programs\\Python\\Python311\\Lib\\site-packages\\langchain_community\\embeddings\\ollama.py:157\u001B[0m, in \u001B[0;36mOllamaEmbeddings._process_emb_response\u001B[1;34m(self, input)\u001B[0m\n\u001B[0;32m    152\u001B[0m headers \u001B[38;5;241m=\u001B[39m {\n\u001B[0;32m    153\u001B[0m     \u001B[38;5;124m\"\u001B[39m\u001B[38;5;124mContent-Type\u001B[39m\u001B[38;5;124m\"\u001B[39m: \u001B[38;5;124m\"\u001B[39m\u001B[38;5;124mapplication/json\u001B[39m\u001B[38;5;124m\"\u001B[39m,\n\u001B[0;32m    154\u001B[0m }\n\u001B[0;32m    156\u001B[0m \u001B[38;5;28;01mtry\u001B[39;00m:\n\u001B[1;32m--> 157\u001B[0m     res \u001B[38;5;241m=\u001B[39m \u001B[43mrequests\u001B[49m\u001B[38;5;241;43m.\u001B[39;49m\u001B[43mpost\u001B[49m\u001B[43m(\u001B[49m\n\u001B[0;32m    158\u001B[0m \u001B[43m        \u001B[49m\u001B[38;5;124;43mf\u001B[39;49m\u001B[38;5;124;43m\"\u001B[39;49m\u001B[38;5;132;43;01m{\u001B[39;49;00m\u001B[38;5;28;43mself\u001B[39;49m\u001B[38;5;241;43m.\u001B[39;49m\u001B[43mbase_url\u001B[49m\u001B[38;5;132;43;01m}\u001B[39;49;00m\u001B[38;5;124;43m/api/embeddings\u001B[39;49m\u001B[38;5;124;43m\"\u001B[39;49m\u001B[43m,\u001B[49m\n\u001B[0;32m    159\u001B[0m \u001B[43m        \u001B[49m\u001B[43mheaders\u001B[49m\u001B[38;5;241;43m=\u001B[39;49m\u001B[43mheaders\u001B[49m\u001B[43m,\u001B[49m\n\u001B[0;32m    160\u001B[0m \u001B[43m        \u001B[49m\u001B[43mjson\u001B[49m\u001B[38;5;241;43m=\u001B[39;49m\u001B[43m{\u001B[49m\u001B[38;5;124;43m\"\u001B[39;49m\u001B[38;5;124;43mmodel\u001B[39;49m\u001B[38;5;124;43m\"\u001B[39;49m\u001B[43m:\u001B[49m\u001B[43m \u001B[49m\u001B[38;5;28;43mself\u001B[39;49m\u001B[38;5;241;43m.\u001B[39;49m\u001B[43mmodel\u001B[49m\u001B[43m,\u001B[49m\u001B[43m \u001B[49m\u001B[38;5;124;43m\"\u001B[39;49m\u001B[38;5;124;43mprompt\u001B[39;49m\u001B[38;5;124;43m\"\u001B[39;49m\u001B[43m:\u001B[49m\u001B[43m \u001B[49m\u001B[38;5;28;43minput\u001B[39;49m\u001B[43m,\u001B[49m\u001B[43m \u001B[49m\u001B[38;5;241;43m*\u001B[39;49m\u001B[38;5;241;43m*\u001B[39;49m\u001B[38;5;28;43mself\u001B[39;49m\u001B[38;5;241;43m.\u001B[39;49m\u001B[43m_default_params\u001B[49m\u001B[43m}\u001B[49m\u001B[43m,\u001B[49m\n\u001B[0;32m    161\u001B[0m \u001B[43m    \u001B[49m\u001B[43m)\u001B[49m\n\u001B[0;32m    162\u001B[0m \u001B[38;5;28;01mexcept\u001B[39;00m requests\u001B[38;5;241m.\u001B[39mexceptions\u001B[38;5;241m.\u001B[39mRequestException \u001B[38;5;28;01mas\u001B[39;00m e:\n\u001B[0;32m    163\u001B[0m     \u001B[38;5;28;01mraise\u001B[39;00m \u001B[38;5;167;01mValueError\u001B[39;00m(\u001B[38;5;124mf\u001B[39m\u001B[38;5;124m\"\u001B[39m\u001B[38;5;124mError raised by inference endpoint: \u001B[39m\u001B[38;5;132;01m{\u001B[39;00me\u001B[38;5;132;01m}\u001B[39;00m\u001B[38;5;124m\"\u001B[39m)\n",
      "File \u001B[1;32m~\\AppData\\Local\\Programs\\Python\\Python311\\Lib\\site-packages\\requests\\api.py:115\u001B[0m, in \u001B[0;36mpost\u001B[1;34m(url, data, json, **kwargs)\u001B[0m\n\u001B[0;32m    103\u001B[0m \u001B[38;5;28;01mdef\u001B[39;00m \u001B[38;5;21mpost\u001B[39m(url, data\u001B[38;5;241m=\u001B[39m\u001B[38;5;28;01mNone\u001B[39;00m, json\u001B[38;5;241m=\u001B[39m\u001B[38;5;28;01mNone\u001B[39;00m, \u001B[38;5;241m*\u001B[39m\u001B[38;5;241m*\u001B[39mkwargs):\n\u001B[0;32m    104\u001B[0m \u001B[38;5;250m    \u001B[39m\u001B[38;5;124mr\u001B[39m\u001B[38;5;124;03m\"\"\"Sends a POST request.\u001B[39;00m\n\u001B[0;32m    105\u001B[0m \n\u001B[0;32m    106\u001B[0m \u001B[38;5;124;03m    :param url: URL for the new :class:`Request` object.\u001B[39;00m\n\u001B[1;32m   (...)\u001B[0m\n\u001B[0;32m    112\u001B[0m \u001B[38;5;124;03m    :rtype: requests.Response\u001B[39;00m\n\u001B[0;32m    113\u001B[0m \u001B[38;5;124;03m    \"\"\"\u001B[39;00m\n\u001B[1;32m--> 115\u001B[0m     \u001B[38;5;28;01mreturn\u001B[39;00m \u001B[43mrequest\u001B[49m\u001B[43m(\u001B[49m\u001B[38;5;124;43m\"\u001B[39;49m\u001B[38;5;124;43mpost\u001B[39;49m\u001B[38;5;124;43m\"\u001B[39;49m\u001B[43m,\u001B[49m\u001B[43m \u001B[49m\u001B[43murl\u001B[49m\u001B[43m,\u001B[49m\u001B[43m \u001B[49m\u001B[43mdata\u001B[49m\u001B[38;5;241;43m=\u001B[39;49m\u001B[43mdata\u001B[49m\u001B[43m,\u001B[49m\u001B[43m \u001B[49m\u001B[43mjson\u001B[49m\u001B[38;5;241;43m=\u001B[39;49m\u001B[43mjson\u001B[49m\u001B[43m,\u001B[49m\u001B[43m \u001B[49m\u001B[38;5;241;43m*\u001B[39;49m\u001B[38;5;241;43m*\u001B[39;49m\u001B[43mkwargs\u001B[49m\u001B[43m)\u001B[49m\n",
      "File \u001B[1;32m~\\AppData\\Local\\Programs\\Python\\Python311\\Lib\\site-packages\\requests\\api.py:59\u001B[0m, in \u001B[0;36mrequest\u001B[1;34m(method, url, **kwargs)\u001B[0m\n\u001B[0;32m     55\u001B[0m \u001B[38;5;66;03m# By using the 'with' statement we are sure the session is closed, thus we\u001B[39;00m\n\u001B[0;32m     56\u001B[0m \u001B[38;5;66;03m# avoid leaving sockets open which can trigger a ResourceWarning in some\u001B[39;00m\n\u001B[0;32m     57\u001B[0m \u001B[38;5;66;03m# cases, and look like a memory leak in others.\u001B[39;00m\n\u001B[0;32m     58\u001B[0m \u001B[38;5;28;01mwith\u001B[39;00m sessions\u001B[38;5;241m.\u001B[39mSession() \u001B[38;5;28;01mas\u001B[39;00m session:\n\u001B[1;32m---> 59\u001B[0m     \u001B[38;5;28;01mreturn\u001B[39;00m \u001B[43msession\u001B[49m\u001B[38;5;241;43m.\u001B[39;49m\u001B[43mrequest\u001B[49m\u001B[43m(\u001B[49m\u001B[43mmethod\u001B[49m\u001B[38;5;241;43m=\u001B[39;49m\u001B[43mmethod\u001B[49m\u001B[43m,\u001B[49m\u001B[43m \u001B[49m\u001B[43murl\u001B[49m\u001B[38;5;241;43m=\u001B[39;49m\u001B[43murl\u001B[49m\u001B[43m,\u001B[49m\u001B[43m \u001B[49m\u001B[38;5;241;43m*\u001B[39;49m\u001B[38;5;241;43m*\u001B[39;49m\u001B[43mkwargs\u001B[49m\u001B[43m)\u001B[49m\n",
      "File \u001B[1;32m~\\AppData\\Local\\Programs\\Python\\Python311\\Lib\\site-packages\\requests\\sessions.py:589\u001B[0m, in \u001B[0;36mSession.request\u001B[1;34m(self, method, url, params, data, headers, cookies, files, auth, timeout, allow_redirects, proxies, hooks, stream, verify, cert, json)\u001B[0m\n\u001B[0;32m    584\u001B[0m send_kwargs \u001B[38;5;241m=\u001B[39m {\n\u001B[0;32m    585\u001B[0m     \u001B[38;5;124m\"\u001B[39m\u001B[38;5;124mtimeout\u001B[39m\u001B[38;5;124m\"\u001B[39m: timeout,\n\u001B[0;32m    586\u001B[0m     \u001B[38;5;124m\"\u001B[39m\u001B[38;5;124mallow_redirects\u001B[39m\u001B[38;5;124m\"\u001B[39m: allow_redirects,\n\u001B[0;32m    587\u001B[0m }\n\u001B[0;32m    588\u001B[0m send_kwargs\u001B[38;5;241m.\u001B[39mupdate(settings)\n\u001B[1;32m--> 589\u001B[0m resp \u001B[38;5;241m=\u001B[39m \u001B[38;5;28;43mself\u001B[39;49m\u001B[38;5;241;43m.\u001B[39;49m\u001B[43msend\u001B[49m\u001B[43m(\u001B[49m\u001B[43mprep\u001B[49m\u001B[43m,\u001B[49m\u001B[43m \u001B[49m\u001B[38;5;241;43m*\u001B[39;49m\u001B[38;5;241;43m*\u001B[39;49m\u001B[43msend_kwargs\u001B[49m\u001B[43m)\u001B[49m\n\u001B[0;32m    591\u001B[0m \u001B[38;5;28;01mreturn\u001B[39;00m resp\n",
      "File \u001B[1;32m~\\AppData\\Local\\Programs\\Python\\Python311\\Lib\\site-packages\\requests\\sessions.py:703\u001B[0m, in \u001B[0;36mSession.send\u001B[1;34m(self, request, **kwargs)\u001B[0m\n\u001B[0;32m    700\u001B[0m start \u001B[38;5;241m=\u001B[39m preferred_clock()\n\u001B[0;32m    702\u001B[0m \u001B[38;5;66;03m# Send the request\u001B[39;00m\n\u001B[1;32m--> 703\u001B[0m r \u001B[38;5;241m=\u001B[39m \u001B[43madapter\u001B[49m\u001B[38;5;241;43m.\u001B[39;49m\u001B[43msend\u001B[49m\u001B[43m(\u001B[49m\u001B[43mrequest\u001B[49m\u001B[43m,\u001B[49m\u001B[43m \u001B[49m\u001B[38;5;241;43m*\u001B[39;49m\u001B[38;5;241;43m*\u001B[39;49m\u001B[43mkwargs\u001B[49m\u001B[43m)\u001B[49m\n\u001B[0;32m    705\u001B[0m \u001B[38;5;66;03m# Total elapsed time of the request (approximately)\u001B[39;00m\n\u001B[0;32m    706\u001B[0m elapsed \u001B[38;5;241m=\u001B[39m preferred_clock() \u001B[38;5;241m-\u001B[39m start\n",
      "File \u001B[1;32m~\\AppData\\Local\\Programs\\Python\\Python311\\Lib\\site-packages\\requests\\adapters.py:486\u001B[0m, in \u001B[0;36mHTTPAdapter.send\u001B[1;34m(self, request, stream, timeout, verify, cert, proxies)\u001B[0m\n\u001B[0;32m    483\u001B[0m     timeout \u001B[38;5;241m=\u001B[39m TimeoutSauce(connect\u001B[38;5;241m=\u001B[39mtimeout, read\u001B[38;5;241m=\u001B[39mtimeout)\n\u001B[0;32m    485\u001B[0m \u001B[38;5;28;01mtry\u001B[39;00m:\n\u001B[1;32m--> 486\u001B[0m     resp \u001B[38;5;241m=\u001B[39m \u001B[43mconn\u001B[49m\u001B[38;5;241;43m.\u001B[39;49m\u001B[43murlopen\u001B[49m\u001B[43m(\u001B[49m\n\u001B[0;32m    487\u001B[0m \u001B[43m        \u001B[49m\u001B[43mmethod\u001B[49m\u001B[38;5;241;43m=\u001B[39;49m\u001B[43mrequest\u001B[49m\u001B[38;5;241;43m.\u001B[39;49m\u001B[43mmethod\u001B[49m\u001B[43m,\u001B[49m\n\u001B[0;32m    488\u001B[0m \u001B[43m        \u001B[49m\u001B[43murl\u001B[49m\u001B[38;5;241;43m=\u001B[39;49m\u001B[43murl\u001B[49m\u001B[43m,\u001B[49m\n\u001B[0;32m    489\u001B[0m \u001B[43m        \u001B[49m\u001B[43mbody\u001B[49m\u001B[38;5;241;43m=\u001B[39;49m\u001B[43mrequest\u001B[49m\u001B[38;5;241;43m.\u001B[39;49m\u001B[43mbody\u001B[49m\u001B[43m,\u001B[49m\n\u001B[0;32m    490\u001B[0m \u001B[43m        \u001B[49m\u001B[43mheaders\u001B[49m\u001B[38;5;241;43m=\u001B[39;49m\u001B[43mrequest\u001B[49m\u001B[38;5;241;43m.\u001B[39;49m\u001B[43mheaders\u001B[49m\u001B[43m,\u001B[49m\n\u001B[0;32m    491\u001B[0m \u001B[43m        \u001B[49m\u001B[43mredirect\u001B[49m\u001B[38;5;241;43m=\u001B[39;49m\u001B[38;5;28;43;01mFalse\u001B[39;49;00m\u001B[43m,\u001B[49m\n\u001B[0;32m    492\u001B[0m \u001B[43m        \u001B[49m\u001B[43massert_same_host\u001B[49m\u001B[38;5;241;43m=\u001B[39;49m\u001B[38;5;28;43;01mFalse\u001B[39;49;00m\u001B[43m,\u001B[49m\n\u001B[0;32m    493\u001B[0m \u001B[43m        \u001B[49m\u001B[43mpreload_content\u001B[49m\u001B[38;5;241;43m=\u001B[39;49m\u001B[38;5;28;43;01mFalse\u001B[39;49;00m\u001B[43m,\u001B[49m\n\u001B[0;32m    494\u001B[0m \u001B[43m        \u001B[49m\u001B[43mdecode_content\u001B[49m\u001B[38;5;241;43m=\u001B[39;49m\u001B[38;5;28;43;01mFalse\u001B[39;49;00m\u001B[43m,\u001B[49m\n\u001B[0;32m    495\u001B[0m \u001B[43m        \u001B[49m\u001B[43mretries\u001B[49m\u001B[38;5;241;43m=\u001B[39;49m\u001B[38;5;28;43mself\u001B[39;49m\u001B[38;5;241;43m.\u001B[39;49m\u001B[43mmax_retries\u001B[49m\u001B[43m,\u001B[49m\n\u001B[0;32m    496\u001B[0m \u001B[43m        \u001B[49m\u001B[43mtimeout\u001B[49m\u001B[38;5;241;43m=\u001B[39;49m\u001B[43mtimeout\u001B[49m\u001B[43m,\u001B[49m\n\u001B[0;32m    497\u001B[0m \u001B[43m        \u001B[49m\u001B[43mchunked\u001B[49m\u001B[38;5;241;43m=\u001B[39;49m\u001B[43mchunked\u001B[49m\u001B[43m,\u001B[49m\n\u001B[0;32m    498\u001B[0m \u001B[43m    \u001B[49m\u001B[43m)\u001B[49m\n\u001B[0;32m    500\u001B[0m \u001B[38;5;28;01mexcept\u001B[39;00m (ProtocolError, \u001B[38;5;167;01mOSError\u001B[39;00m) \u001B[38;5;28;01mas\u001B[39;00m err:\n\u001B[0;32m    501\u001B[0m     \u001B[38;5;28;01mraise\u001B[39;00m \u001B[38;5;167;01mConnectionError\u001B[39;00m(err, request\u001B[38;5;241m=\u001B[39mrequest)\n",
      "File \u001B[1;32m~\\AppData\\Local\\Programs\\Python\\Python311\\Lib\\site-packages\\urllib3\\connectionpool.py:790\u001B[0m, in \u001B[0;36mHTTPConnectionPool.urlopen\u001B[1;34m(self, method, url, body, headers, retries, redirect, assert_same_host, timeout, pool_timeout, release_conn, chunked, body_pos, preload_content, decode_content, **response_kw)\u001B[0m\n\u001B[0;32m    787\u001B[0m response_conn \u001B[38;5;241m=\u001B[39m conn \u001B[38;5;28;01mif\u001B[39;00m \u001B[38;5;129;01mnot\u001B[39;00m release_conn \u001B[38;5;28;01melse\u001B[39;00m \u001B[38;5;28;01mNone\u001B[39;00m\n\u001B[0;32m    789\u001B[0m \u001B[38;5;66;03m# Make the request on the HTTPConnection object\u001B[39;00m\n\u001B[1;32m--> 790\u001B[0m response \u001B[38;5;241m=\u001B[39m \u001B[38;5;28;43mself\u001B[39;49m\u001B[38;5;241;43m.\u001B[39;49m\u001B[43m_make_request\u001B[49m\u001B[43m(\u001B[49m\n\u001B[0;32m    791\u001B[0m \u001B[43m    \u001B[49m\u001B[43mconn\u001B[49m\u001B[43m,\u001B[49m\n\u001B[0;32m    792\u001B[0m \u001B[43m    \u001B[49m\u001B[43mmethod\u001B[49m\u001B[43m,\u001B[49m\n\u001B[0;32m    793\u001B[0m \u001B[43m    \u001B[49m\u001B[43murl\u001B[49m\u001B[43m,\u001B[49m\n\u001B[0;32m    794\u001B[0m \u001B[43m    \u001B[49m\u001B[43mtimeout\u001B[49m\u001B[38;5;241;43m=\u001B[39;49m\u001B[43mtimeout_obj\u001B[49m\u001B[43m,\u001B[49m\n\u001B[0;32m    795\u001B[0m \u001B[43m    \u001B[49m\u001B[43mbody\u001B[49m\u001B[38;5;241;43m=\u001B[39;49m\u001B[43mbody\u001B[49m\u001B[43m,\u001B[49m\n\u001B[0;32m    796\u001B[0m \u001B[43m    \u001B[49m\u001B[43mheaders\u001B[49m\u001B[38;5;241;43m=\u001B[39;49m\u001B[43mheaders\u001B[49m\u001B[43m,\u001B[49m\n\u001B[0;32m    797\u001B[0m \u001B[43m    \u001B[49m\u001B[43mchunked\u001B[49m\u001B[38;5;241;43m=\u001B[39;49m\u001B[43mchunked\u001B[49m\u001B[43m,\u001B[49m\n\u001B[0;32m    798\u001B[0m \u001B[43m    \u001B[49m\u001B[43mretries\u001B[49m\u001B[38;5;241;43m=\u001B[39;49m\u001B[43mretries\u001B[49m\u001B[43m,\u001B[49m\n\u001B[0;32m    799\u001B[0m \u001B[43m    \u001B[49m\u001B[43mresponse_conn\u001B[49m\u001B[38;5;241;43m=\u001B[39;49m\u001B[43mresponse_conn\u001B[49m\u001B[43m,\u001B[49m\n\u001B[0;32m    800\u001B[0m \u001B[43m    \u001B[49m\u001B[43mpreload_content\u001B[49m\u001B[38;5;241;43m=\u001B[39;49m\u001B[43mpreload_content\u001B[49m\u001B[43m,\u001B[49m\n\u001B[0;32m    801\u001B[0m \u001B[43m    \u001B[49m\u001B[43mdecode_content\u001B[49m\u001B[38;5;241;43m=\u001B[39;49m\u001B[43mdecode_content\u001B[49m\u001B[43m,\u001B[49m\n\u001B[0;32m    802\u001B[0m \u001B[43m    \u001B[49m\u001B[38;5;241;43m*\u001B[39;49m\u001B[38;5;241;43m*\u001B[39;49m\u001B[43mresponse_kw\u001B[49m\u001B[43m,\u001B[49m\n\u001B[0;32m    803\u001B[0m \u001B[43m\u001B[49m\u001B[43m)\u001B[49m\n\u001B[0;32m    805\u001B[0m \u001B[38;5;66;03m# Everything went great!\u001B[39;00m\n\u001B[0;32m    806\u001B[0m clean_exit \u001B[38;5;241m=\u001B[39m \u001B[38;5;28;01mTrue\u001B[39;00m\n",
      "File \u001B[1;32m~\\AppData\\Local\\Programs\\Python\\Python311\\Lib\\site-packages\\urllib3\\connectionpool.py:496\u001B[0m, in \u001B[0;36mHTTPConnectionPool._make_request\u001B[1;34m(self, conn, method, url, body, headers, retries, timeout, chunked, response_conn, preload_content, decode_content, enforce_content_length)\u001B[0m\n\u001B[0;32m    493\u001B[0m \u001B[38;5;66;03m# conn.request() calls http.client.*.request, not the method in\u001B[39;00m\n\u001B[0;32m    494\u001B[0m \u001B[38;5;66;03m# urllib3.request. It also calls makefile (recv) on the socket.\u001B[39;00m\n\u001B[0;32m    495\u001B[0m \u001B[38;5;28;01mtry\u001B[39;00m:\n\u001B[1;32m--> 496\u001B[0m     \u001B[43mconn\u001B[49m\u001B[38;5;241;43m.\u001B[39;49m\u001B[43mrequest\u001B[49m\u001B[43m(\u001B[49m\n\u001B[0;32m    497\u001B[0m \u001B[43m        \u001B[49m\u001B[43mmethod\u001B[49m\u001B[43m,\u001B[49m\n\u001B[0;32m    498\u001B[0m \u001B[43m        \u001B[49m\u001B[43murl\u001B[49m\u001B[43m,\u001B[49m\n\u001B[0;32m    499\u001B[0m \u001B[43m        \u001B[49m\u001B[43mbody\u001B[49m\u001B[38;5;241;43m=\u001B[39;49m\u001B[43mbody\u001B[49m\u001B[43m,\u001B[49m\n\u001B[0;32m    500\u001B[0m \u001B[43m        \u001B[49m\u001B[43mheaders\u001B[49m\u001B[38;5;241;43m=\u001B[39;49m\u001B[43mheaders\u001B[49m\u001B[43m,\u001B[49m\n\u001B[0;32m    501\u001B[0m \u001B[43m        \u001B[49m\u001B[43mchunked\u001B[49m\u001B[38;5;241;43m=\u001B[39;49m\u001B[43mchunked\u001B[49m\u001B[43m,\u001B[49m\n\u001B[0;32m    502\u001B[0m \u001B[43m        \u001B[49m\u001B[43mpreload_content\u001B[49m\u001B[38;5;241;43m=\u001B[39;49m\u001B[43mpreload_content\u001B[49m\u001B[43m,\u001B[49m\n\u001B[0;32m    503\u001B[0m \u001B[43m        \u001B[49m\u001B[43mdecode_content\u001B[49m\u001B[38;5;241;43m=\u001B[39;49m\u001B[43mdecode_content\u001B[49m\u001B[43m,\u001B[49m\n\u001B[0;32m    504\u001B[0m \u001B[43m        \u001B[49m\u001B[43menforce_content_length\u001B[49m\u001B[38;5;241;43m=\u001B[39;49m\u001B[43menforce_content_length\u001B[49m\u001B[43m,\u001B[49m\n\u001B[0;32m    505\u001B[0m \u001B[43m    \u001B[49m\u001B[43m)\u001B[49m\n\u001B[0;32m    507\u001B[0m \u001B[38;5;66;03m# We are swallowing BrokenPipeError (errno.EPIPE) since the server is\u001B[39;00m\n\u001B[0;32m    508\u001B[0m \u001B[38;5;66;03m# legitimately able to close the connection after sending a valid response.\u001B[39;00m\n\u001B[0;32m    509\u001B[0m \u001B[38;5;66;03m# With this behaviour, the received response is still readable.\u001B[39;00m\n\u001B[0;32m    510\u001B[0m \u001B[38;5;28;01mexcept\u001B[39;00m \u001B[38;5;167;01mBrokenPipeError\u001B[39;00m:\n",
      "File \u001B[1;32m~\\AppData\\Local\\Programs\\Python\\Python311\\Lib\\site-packages\\urllib3\\connection.py:395\u001B[0m, in \u001B[0;36mHTTPConnection.request\u001B[1;34m(self, method, url, body, headers, chunked, preload_content, decode_content, enforce_content_length)\u001B[0m\n\u001B[0;32m    393\u001B[0m \u001B[38;5;28;01mfor\u001B[39;00m header, value \u001B[38;5;129;01min\u001B[39;00m headers\u001B[38;5;241m.\u001B[39mitems():\n\u001B[0;32m    394\u001B[0m     \u001B[38;5;28mself\u001B[39m\u001B[38;5;241m.\u001B[39mputheader(header, value)\n\u001B[1;32m--> 395\u001B[0m \u001B[38;5;28;43mself\u001B[39;49m\u001B[38;5;241;43m.\u001B[39;49m\u001B[43mendheaders\u001B[49m\u001B[43m(\u001B[49m\u001B[43m)\u001B[49m\n\u001B[0;32m    397\u001B[0m \u001B[38;5;66;03m# If we're given a body we start sending that in chunks.\u001B[39;00m\n\u001B[0;32m    398\u001B[0m \u001B[38;5;28;01mif\u001B[39;00m chunks \u001B[38;5;129;01mis\u001B[39;00m \u001B[38;5;129;01mnot\u001B[39;00m \u001B[38;5;28;01mNone\u001B[39;00m:\n",
      "File \u001B[1;32m~\\AppData\\Local\\Programs\\Python\\Python311\\Lib\\http\\client.py:1281\u001B[0m, in \u001B[0;36mHTTPConnection.endheaders\u001B[1;34m(self, message_body, encode_chunked)\u001B[0m\n\u001B[0;32m   1279\u001B[0m \u001B[38;5;28;01melse\u001B[39;00m:\n\u001B[0;32m   1280\u001B[0m     \u001B[38;5;28;01mraise\u001B[39;00m CannotSendHeader()\n\u001B[1;32m-> 1281\u001B[0m \u001B[38;5;28;43mself\u001B[39;49m\u001B[38;5;241;43m.\u001B[39;49m\u001B[43m_send_output\u001B[49m\u001B[43m(\u001B[49m\u001B[43mmessage_body\u001B[49m\u001B[43m,\u001B[49m\u001B[43m \u001B[49m\u001B[43mencode_chunked\u001B[49m\u001B[38;5;241;43m=\u001B[39;49m\u001B[43mencode_chunked\u001B[49m\u001B[43m)\u001B[49m\n",
      "File \u001B[1;32m~\\AppData\\Local\\Programs\\Python\\Python311\\Lib\\http\\client.py:1041\u001B[0m, in \u001B[0;36mHTTPConnection._send_output\u001B[1;34m(self, message_body, encode_chunked)\u001B[0m\n\u001B[0;32m   1039\u001B[0m msg \u001B[38;5;241m=\u001B[39m \u001B[38;5;124mb\u001B[39m\u001B[38;5;124m\"\u001B[39m\u001B[38;5;130;01m\\r\u001B[39;00m\u001B[38;5;130;01m\\n\u001B[39;00m\u001B[38;5;124m\"\u001B[39m\u001B[38;5;241m.\u001B[39mjoin(\u001B[38;5;28mself\u001B[39m\u001B[38;5;241m.\u001B[39m_buffer)\n\u001B[0;32m   1040\u001B[0m \u001B[38;5;28;01mdel\u001B[39;00m \u001B[38;5;28mself\u001B[39m\u001B[38;5;241m.\u001B[39m_buffer[:]\n\u001B[1;32m-> 1041\u001B[0m \u001B[38;5;28;43mself\u001B[39;49m\u001B[38;5;241;43m.\u001B[39;49m\u001B[43msend\u001B[49m\u001B[43m(\u001B[49m\u001B[43mmsg\u001B[49m\u001B[43m)\u001B[49m\n\u001B[0;32m   1043\u001B[0m \u001B[38;5;28;01mif\u001B[39;00m message_body \u001B[38;5;129;01mis\u001B[39;00m \u001B[38;5;129;01mnot\u001B[39;00m \u001B[38;5;28;01mNone\u001B[39;00m:\n\u001B[0;32m   1044\u001B[0m \n\u001B[0;32m   1045\u001B[0m     \u001B[38;5;66;03m# create a consistent interface to message_body\u001B[39;00m\n\u001B[0;32m   1046\u001B[0m     \u001B[38;5;28;01mif\u001B[39;00m \u001B[38;5;28mhasattr\u001B[39m(message_body, \u001B[38;5;124m'\u001B[39m\u001B[38;5;124mread\u001B[39m\u001B[38;5;124m'\u001B[39m):\n\u001B[0;32m   1047\u001B[0m         \u001B[38;5;66;03m# Let file-like take precedence over byte-like.  This\u001B[39;00m\n\u001B[0;32m   1048\u001B[0m         \u001B[38;5;66;03m# is needed to allow the current position of mmap'ed\u001B[39;00m\n\u001B[0;32m   1049\u001B[0m         \u001B[38;5;66;03m# files to be taken into account.\u001B[39;00m\n",
      "File \u001B[1;32m~\\AppData\\Local\\Programs\\Python\\Python311\\Lib\\http\\client.py:979\u001B[0m, in \u001B[0;36mHTTPConnection.send\u001B[1;34m(self, data)\u001B[0m\n\u001B[0;32m    977\u001B[0m \u001B[38;5;28;01mif\u001B[39;00m \u001B[38;5;28mself\u001B[39m\u001B[38;5;241m.\u001B[39msock \u001B[38;5;129;01mis\u001B[39;00m \u001B[38;5;28;01mNone\u001B[39;00m:\n\u001B[0;32m    978\u001B[0m     \u001B[38;5;28;01mif\u001B[39;00m \u001B[38;5;28mself\u001B[39m\u001B[38;5;241m.\u001B[39mauto_open:\n\u001B[1;32m--> 979\u001B[0m         \u001B[38;5;28;43mself\u001B[39;49m\u001B[38;5;241;43m.\u001B[39;49m\u001B[43mconnect\u001B[49m\u001B[43m(\u001B[49m\u001B[43m)\u001B[49m\n\u001B[0;32m    980\u001B[0m     \u001B[38;5;28;01melse\u001B[39;00m:\n\u001B[0;32m    981\u001B[0m         \u001B[38;5;28;01mraise\u001B[39;00m NotConnected()\n",
      "File \u001B[1;32m~\\AppData\\Local\\Programs\\Python\\Python311\\Lib\\site-packages\\urllib3\\connection.py:243\u001B[0m, in \u001B[0;36mHTTPConnection.connect\u001B[1;34m(self)\u001B[0m\n\u001B[0;32m    242\u001B[0m \u001B[38;5;28;01mdef\u001B[39;00m \u001B[38;5;21mconnect\u001B[39m(\u001B[38;5;28mself\u001B[39m) \u001B[38;5;241m-\u001B[39m\u001B[38;5;241m>\u001B[39m \u001B[38;5;28;01mNone\u001B[39;00m:\n\u001B[1;32m--> 243\u001B[0m     \u001B[38;5;28mself\u001B[39m\u001B[38;5;241m.\u001B[39msock \u001B[38;5;241m=\u001B[39m \u001B[38;5;28;43mself\u001B[39;49m\u001B[38;5;241;43m.\u001B[39;49m\u001B[43m_new_conn\u001B[49m\u001B[43m(\u001B[49m\u001B[43m)\u001B[49m\n\u001B[0;32m    244\u001B[0m     \u001B[38;5;28;01mif\u001B[39;00m \u001B[38;5;28mself\u001B[39m\u001B[38;5;241m.\u001B[39m_tunnel_host:\n\u001B[0;32m    245\u001B[0m         \u001B[38;5;66;03m# If we're tunneling it means we're connected to our proxy.\u001B[39;00m\n\u001B[0;32m    246\u001B[0m         \u001B[38;5;28mself\u001B[39m\u001B[38;5;241m.\u001B[39m_has_connected_to_proxy \u001B[38;5;241m=\u001B[39m \u001B[38;5;28;01mTrue\u001B[39;00m\n",
      "File \u001B[1;32m~\\AppData\\Local\\Programs\\Python\\Python311\\Lib\\site-packages\\urllib3\\connection.py:203\u001B[0m, in \u001B[0;36mHTTPConnection._new_conn\u001B[1;34m(self)\u001B[0m\n\u001B[0;32m    198\u001B[0m \u001B[38;5;250m\u001B[39m\u001B[38;5;124;03m\"\"\"Establish a socket connection and set nodelay settings on it.\u001B[39;00m\n\u001B[0;32m    199\u001B[0m \n\u001B[0;32m    200\u001B[0m \u001B[38;5;124;03m:return: New socket connection.\u001B[39;00m\n\u001B[0;32m    201\u001B[0m \u001B[38;5;124;03m\"\"\"\u001B[39;00m\n\u001B[0;32m    202\u001B[0m \u001B[38;5;28;01mtry\u001B[39;00m:\n\u001B[1;32m--> 203\u001B[0m     sock \u001B[38;5;241m=\u001B[39m \u001B[43mconnection\u001B[49m\u001B[38;5;241;43m.\u001B[39;49m\u001B[43mcreate_connection\u001B[49m\u001B[43m(\u001B[49m\n\u001B[0;32m    204\u001B[0m \u001B[43m        \u001B[49m\u001B[43m(\u001B[49m\u001B[38;5;28;43mself\u001B[39;49m\u001B[38;5;241;43m.\u001B[39;49m\u001B[43m_dns_host\u001B[49m\u001B[43m,\u001B[49m\u001B[43m \u001B[49m\u001B[38;5;28;43mself\u001B[39;49m\u001B[38;5;241;43m.\u001B[39;49m\u001B[43mport\u001B[49m\u001B[43m)\u001B[49m\u001B[43m,\u001B[49m\n\u001B[0;32m    205\u001B[0m \u001B[43m        \u001B[49m\u001B[38;5;28;43mself\u001B[39;49m\u001B[38;5;241;43m.\u001B[39;49m\u001B[43mtimeout\u001B[49m\u001B[43m,\u001B[49m\n\u001B[0;32m    206\u001B[0m \u001B[43m        \u001B[49m\u001B[43msource_address\u001B[49m\u001B[38;5;241;43m=\u001B[39;49m\u001B[38;5;28;43mself\u001B[39;49m\u001B[38;5;241;43m.\u001B[39;49m\u001B[43msource_address\u001B[49m\u001B[43m,\u001B[49m\n\u001B[0;32m    207\u001B[0m \u001B[43m        \u001B[49m\u001B[43msocket_options\u001B[49m\u001B[38;5;241;43m=\u001B[39;49m\u001B[38;5;28;43mself\u001B[39;49m\u001B[38;5;241;43m.\u001B[39;49m\u001B[43msocket_options\u001B[49m\u001B[43m,\u001B[49m\n\u001B[0;32m    208\u001B[0m \u001B[43m    \u001B[49m\u001B[43m)\u001B[49m\n\u001B[0;32m    209\u001B[0m \u001B[38;5;28;01mexcept\u001B[39;00m socket\u001B[38;5;241m.\u001B[39mgaierror \u001B[38;5;28;01mas\u001B[39;00m e:\n\u001B[0;32m    210\u001B[0m     \u001B[38;5;28;01mraise\u001B[39;00m NameResolutionError(\u001B[38;5;28mself\u001B[39m\u001B[38;5;241m.\u001B[39mhost, \u001B[38;5;28mself\u001B[39m, e) \u001B[38;5;28;01mfrom\u001B[39;00m \u001B[38;5;21;01me\u001B[39;00m\n",
      "File \u001B[1;32m~\\AppData\\Local\\Programs\\Python\\Python311\\Lib\\site-packages\\urllib3\\util\\connection.py:81\u001B[0m, in \u001B[0;36mcreate_connection\u001B[1;34m(address, timeout, source_address, socket_options)\u001B[0m\n\u001B[0;32m     79\u001B[0m         err \u001B[38;5;241m=\u001B[39m _\n\u001B[0;32m     80\u001B[0m         \u001B[38;5;28;01mif\u001B[39;00m sock \u001B[38;5;129;01mis\u001B[39;00m \u001B[38;5;129;01mnot\u001B[39;00m \u001B[38;5;28;01mNone\u001B[39;00m:\n\u001B[1;32m---> 81\u001B[0m             \u001B[43msock\u001B[49m\u001B[38;5;241;43m.\u001B[39;49m\u001B[43mclose\u001B[49m\u001B[43m(\u001B[49m\u001B[43m)\u001B[49m\n\u001B[0;32m     83\u001B[0m \u001B[38;5;28;01mif\u001B[39;00m err \u001B[38;5;129;01mis\u001B[39;00m \u001B[38;5;129;01mnot\u001B[39;00m \u001B[38;5;28;01mNone\u001B[39;00m:\n\u001B[0;32m     84\u001B[0m     \u001B[38;5;28;01mtry\u001B[39;00m:\n",
      "File \u001B[1;32m~\\AppData\\Local\\Programs\\Python\\Python311\\Lib\\socket.py:499\u001B[0m, in \u001B[0;36msocket.close\u001B[1;34m(self)\u001B[0m\n\u001B[0;32m    495\u001B[0m \u001B[38;5;28;01mdef\u001B[39;00m \u001B[38;5;21m_real_close\u001B[39m(\u001B[38;5;28mself\u001B[39m, _ss\u001B[38;5;241m=\u001B[39m_socket\u001B[38;5;241m.\u001B[39msocket):\n\u001B[0;32m    496\u001B[0m     \u001B[38;5;66;03m# This function should not reference any globals. See issue #808164.\u001B[39;00m\n\u001B[0;32m    497\u001B[0m     _ss\u001B[38;5;241m.\u001B[39mclose(\u001B[38;5;28mself\u001B[39m)\n\u001B[1;32m--> 499\u001B[0m \u001B[38;5;28;01mdef\u001B[39;00m \u001B[38;5;21mclose\u001B[39m(\u001B[38;5;28mself\u001B[39m):\n\u001B[0;32m    500\u001B[0m     \u001B[38;5;66;03m# This function should not reference any globals. See issue #808164.\u001B[39;00m\n\u001B[0;32m    501\u001B[0m     \u001B[38;5;28mself\u001B[39m\u001B[38;5;241m.\u001B[39m_closed \u001B[38;5;241m=\u001B[39m \u001B[38;5;28;01mTrue\u001B[39;00m\n\u001B[0;32m    502\u001B[0m     \u001B[38;5;28;01mif\u001B[39;00m \u001B[38;5;28mself\u001B[39m\u001B[38;5;241m.\u001B[39m_io_refs \u001B[38;5;241m<\u001B[39m\u001B[38;5;241m=\u001B[39m \u001B[38;5;241m0\u001B[39m:\n",
      "\u001B[1;31mKeyboardInterrupt\u001B[0m: "
     ]
    }
   ],
   "source": [
    "from tqdm import tqdm\n",
    "results = []\n",
    "for doc in tqdm(docs):\n",
    "    results.append(mistral_embeddings.embed_query(doc))"
   ],
   "metadata": {
    "collapsed": false,
    "ExecuteTime": {
     "end_time": "2024-02-11T10:31:52.626911700Z",
     "start_time": "2024-02-11T10:30:23.929375600Z"
    }
   },
   "id": "a9af6c3c617a0c38",
   "execution_count": 23
  },
  {
   "cell_type": "code",
   "outputs": [
    {
     "ename": "NameError",
     "evalue": "name 'docs_embedded' is not defined",
     "output_type": "error",
     "traceback": [
      "\u001B[1;31m---------------------------------------------------------------------------\u001B[0m",
      "\u001B[1;31mNameError\u001B[0m                                 Traceback (most recent call last)",
      "Cell \u001B[1;32mIn[19], line 3\u001B[0m\n\u001B[0;32m      1\u001B[0m \u001B[38;5;28;01mfrom\u001B[39;00m \u001B[38;5;21;01mtqdm\u001B[39;00m \u001B[38;5;28;01mimport\u001B[39;00m tqdm\n\u001B[1;32m----> 3\u001B[0m \u001B[38;5;28;01mfor\u001B[39;00m i, doc \u001B[38;5;129;01min\u001B[39;00m tqdm(\u001B[38;5;28menumerate\u001B[39m(\u001B[43mdocs_embedded\u001B[49m)):\n\u001B[0;32m      4\u001B[0m     client\u001B[38;5;241m.\u001B[39madd_document(doc, {\u001B[38;5;124m\"\u001B[39m\u001B[38;5;124mword\u001B[39m\u001B[38;5;124m\"\u001B[39m: docs[i]})\n",
      "\u001B[1;31mNameError\u001B[0m: name 'docs_embedded' is not defined"
     ]
    }
   ],
   "source": [
    "from tqdm import tqdm\n",
    "\n",
    "for i, doc in tqdm(enumerate(docs_embedded)):\n",
    "    client.add_document(doc, {\"word\": docs[i]})"
   ],
   "metadata": {
    "collapsed": false,
    "ExecuteTime": {
     "end_time": "2024-02-11T10:27:54.737457300Z",
     "start_time": "2024-02-11T10:27:54.722677200Z"
    }
   },
   "id": "8e34b803babdcd37",
   "execution_count": 19
  },
  {
   "cell_type": "code",
   "outputs": [],
   "source": [
    "len(word_embeddings)"
   ],
   "metadata": {
    "collapsed": false
   },
   "id": "93eb1ea5bc84d92e"
  },
  {
   "cell_type": "markdown",
   "source": [
    "Let's have a look at the documents"
   ],
   "metadata": {
    "collapsed": false
   },
   "id": "afa3c62f8b911743"
  },
  {
   "cell_type": "code",
   "outputs": [
    {
     "data": {
      "text/plain": "['Cause',\n 'Effect',\n 'Attribution',\n 'Chance',\n 'Power',\n 'Impotence',\n 'Strength',\n 'Weakness',\n 'Production',\n 'Destruction',\n 'Reproduction',\n 'Producer',\n 'Destroyer',\n 'Paternity',\n 'Posterity',\n 'Productiveness',\n 'Unproductiveness',\n 'Agency',\n 'Physical Energy',\n 'Physical Inertness',\n 'Violence',\n 'Moderation',\n 'Influence',\n 'Absence of Influence',\n 'Tendency',\n 'Liability',\n 'Concurrence',\n 'Counteraction',\n 'Change',\n 'Permanence',\n 'Cessation',\n 'Continuance in action',\n 'Conversion',\n 'Reversion',\n 'Revolution',\n 'Substitution',\n 'Interchange',\n 'Changeableness',\n 'Stability',\n 'Eventuality',\n 'Destiny',\n 'Existence',\n 'Inexistence',\n 'Substantiality',\n 'Unsubstantiality',\n 'Intrinsicality',\n 'Extrinsicality',\n 'State',\n 'Circumstance',\n 'Number',\n 'Numeration',\n 'List',\n 'Unity',\n 'Accompaniment',\n 'Duality',\n 'Duplication',\n 'bisection',\n 'Triality',\n 'Triplication',\n 'Trisection',\n 'Four',\n 'Quadruplication',\n 'Quadrisection',\n 'Five',\n 'Quinquesection',\n 'Plurality',\n 'Fraction',\n 'Zero',\n 'Multitude',\n 'Fewness',\n 'Repetition',\n 'Infinity',\n 'Quantity',\n 'Degree',\n 'Equality',\n 'Inequality',\n 'Mean',\n 'Compensation',\n 'Greatness',\n 'Smallness',\n 'Superiority',\n 'Inferiority',\n 'Increase',\n 'Nonincrease, Decrease',\n 'Addition',\n 'Nonaddition. Subtraction',\n 'Adjunct',\n 'Remainder',\n 'Decrement',\n 'Mixture',\n 'Simpleness',\n 'Junction',\n 'Disjunction',\n 'Connection',\n 'Coherence',\n 'Incoherence',\n 'Combination',\n 'Decomposition',\n 'Whole',\n 'Part',\n 'Completeness',\n 'Incompleteness',\n 'Composition',\n 'Exclusion',\n 'Component',\n 'Extraneousness',\n 'Order',\n 'Disorder',\n 'Complexity',\n 'Arrangement',\n 'Derangement',\n 'Precedence',\n 'Sequence',\n 'Precursor',\n 'Sequel',\n 'Beginning',\n 'End',\n 'Middle',\n 'Continuity',\n 'Discontinuity',\n 'Term',\n 'Assemblage',\n 'Nonassemblage. Dispersion',\n 'Focus',\n 'Class',\n 'Inclusion',\n 'Exclusion',\n 'Generality',\n 'Speciality',\n 'Normality',\n 'Multiformity',\n 'Conformity',\n 'Unconformity',\n 'Relation',\n 'Irrelation',\n 'Consanguinity',\n 'Correlation',\n 'Identity',\n 'Contrariety',\n 'Difference',\n 'Uniformity',\n 'Nonuniformity',\n 'Similarity',\n 'Dissimilarity',\n 'Imitation',\n 'Nonimitation',\n 'Variation',\n 'Copy',\n 'Prototype',\n 'Agreement',\n 'Disagreement',\n 'Density',\n 'Rarity',\n 'Hardness',\n 'Softness',\n 'Elasticity',\n 'Inelasticity',\n 'Tenacity',\n 'Brittleness',\n 'Texture',\n 'Pulverulence',\n 'Friction',\n 'Lubrication',\n 'Fluidity',\n 'Gaseity',\n 'Liquefaction',\n 'Vaporization',\n 'Water',\n 'Air',\n 'Moisture',\n 'Dryness',\n 'Ocean',\n 'Land',\n 'Gulf. Lake',\n 'Plain',\n 'Marsh',\n 'Island',\n 'Stream',\n 'River',\n 'Wind',\n 'Conduit',\n 'Airpipe',\n 'Semiliquidity',\n 'Bubble',\n 'Pulpiness',\n 'Unctuousness',\n 'Oil',\n 'Resin',\n 'Time',\n 'Neverness',\n 'Period',\n 'Contingent Duration',\n 'Course',\n 'Diuturnity',\n 'Transientness',\n 'Perpetuity',\n 'Instantaneity',\n 'Chronometry',\n 'Anachronism',\n 'Priority',\n 'Posteriority',\n 'The Present Time',\n 'Different time',\n 'Synchronism',\n 'Futurity',\n 'The Past',\n 'Newness',\n 'Oldness',\n 'Morning',\n 'Evening',\n 'Youth',\n 'Age',\n 'Infant',\n 'Veteran',\n 'Adolescence',\n 'Earliness',\n 'Punctuality',\n 'Lateness',\n 'Occasion',\n 'Untimeliness',\n 'Frequency',\n 'Infrequency',\n 'Periodicity',\n 'Irregularity of recurrence',\n 'Materiality',\n 'Immateriality',\n 'World',\n 'Gravity',\n 'Levity',\n 'Organization',\n 'Inorganization',\n 'Life',\n 'Death',\n 'Killing',\n 'Corpse',\n 'Interment',\n 'Animality',\n 'VegetabilityΒ†',\n 'Animal',\n 'Vegetable',\n 'Zoology',\n 'Botany',\n 'Husbandry',\n 'Agriculture',\n 'Mankind',\n 'Man',\n 'Woman',\n 'Sexuality',\n 'Physical Sensibility',\n 'Physical Insensibility',\n 'Physical Pleasure',\n 'Physical Pain',\n 'Touch',\n 'Sensations of Touch',\n 'Numbness',\n 'Heat',\n 'Cold',\n 'Calefaction',\n 'Refrigeration',\n 'Furnace',\n 'Refrigerator',\n 'Fuel',\n 'Insulation',\n 'Thermometer',\n 'Taste',\n 'Insipidity',\n 'Pungency',\n 'Saltiness',\n 'Bitterness',\n 'Condiment',\n 'Savoriness',\n 'Unsavoriness',\n 'Sweetness',\n 'Sourness',\n 'Odor',\n 'Inodorousness',\n 'Fragrance',\n 'Fetor',\n 'Acridity',\n 'Sound',\n 'Silence',\n 'Loudness',\n 'Faintness',\n 'Snap',\n 'Roll',\n 'Resonance',\n 'NonresonanceΒ†',\n 'Sibilation',\n 'Stridor',\n 'Cry',\n 'Ululation',\n 'Melody. Concord',\n 'Discord',\n 'Music',\n 'Musician',\n 'Musical Instruments',\n 'Hearing',\n 'Deafness',\n 'Light',\n 'Darkness',\n 'Dimness',\n 'Luminary',\n 'Shade',\n 'Transparency',\n 'Opacity',\n 'Turbidity',\n 'Semitransparency',\n 'Color',\n 'Achromatism',\n 'Whiteness',\n 'Blackness',\n 'Gray',\n 'Brown',\n 'Redness',\n 'Greenness',\n 'Yellowness',\n 'Purple',\n 'Blueness',\n 'Orange',\n 'Variegation',\n 'Vision',\n 'Blindness',\n 'Dimsightedness',\n 'Spectator',\n 'Optical Instruments',\n 'Visibility',\n 'Invisibility',\n 'Appearance',\n 'Disappearance',\n 'Size',\n 'Littleness',\n 'Expansion',\n 'Contraction',\n 'Distance',\n 'Nearness',\n 'Interval',\n 'Contiguity',\n 'Length',\n 'Shortness',\n 'Breadth, Thickness,',\n 'Narrowness. Thinness',\n 'Layer',\n 'Filament',\n 'Height',\n 'Lowness',\n 'Depth',\n 'Shallowness',\n 'Summit',\n 'Base',\n 'Verticality',\n 'Horizontality',\n 'Pendency',\n 'Support',\n 'Parallelism',\n 'Perpendicularity',\n 'Obliquity',\n 'Inversion',\n 'Crossing',\n 'Exteriority',\n 'Interiority',\n 'Centrality',\n 'Covering',\n 'Lining',\n 'Clothing',\n 'Divestment',\n 'Circumjacence',\n 'Interposition',\n 'Circumscription',\n 'Outline',\n 'Edge',\n 'Inclosure',\n 'Limit',\n 'Front',\n 'Rear',\n 'Laterality',\n 'Contraposition',\n 'Dextrality',\n 'Sinistrality',\n 'Form',\n 'Amorphism',\n 'Symmetry',\n 'Distortion',\n 'Angularity',\n 'Curvature',\n 'Straightness',\n 'Circularity',\n 'Convolution',\n 'Rotundity',\n 'Convexity',\n 'Flatness',\n 'Concavity',\n 'Sponge',\n 'Sharpness',\n 'Bluntness',\n 'Smoothness',\n 'Roughness',\n 'Notch',\n 'Fold',\n 'Furrow',\n 'Opening',\n 'Closure',\n 'Perforator',\n 'Stopper',\n 'Motion',\n 'Quiescence',\n 'Journey',\n 'Navigation',\n 'Traveler',\n 'Mariner',\n 'Transference',\n 'Carrier',\n 'Vehicle',\n 'Ship',\n 'Velocity',\n 'Slowness',\n 'Impulse',\n 'Recoil',\n 'Direction',\n 'Deviation',\n 'Precession',\n 'Sequence',\n 'Progression',\n 'Regression',\n 'Propulsion',\n 'Traction',\n 'Approach',\n 'Recession',\n 'Attraction',\n 'Repulsion',\n 'Convergence',\n 'Divergence',\n 'Arrival',\n 'Departure',\n 'Ingress',\n 'Egress',\n 'Reception',\n 'Ejection',\n 'Food',\n 'Excretion',\n 'Insertion',\n 'Extraction',\n 'Passage',\n 'Transcursion',\n 'Shortcoming',\n 'Ascent',\n 'Descent',\n 'Elevation',\n 'Depression',\n 'Leap',\n 'Plunge',\n 'Circuition',\n 'Rotation',\n 'Evolution',\n 'Oscillation',\n 'Agitation',\n 'Space',\n 'Inextension',\n 'Region',\n 'Place',\n 'Situation',\n 'Location',\n 'Displacement',\n 'Presence',\n 'Absence',\n 'Inhabitant',\n 'Abode',\n 'Contents',\n 'Receptacle',\n 'Indication',\n 'Record',\n 'Obliteration',\n 'Recorder',\n 'Representation',\n 'Misrepresentation',\n 'Painting',\n 'Sculpture',\n 'Engraving',\n 'Artist',\n 'Language',\n 'Letter',\n 'Word',\n 'Neologism',\n 'Nomenclature',\n 'Misnomer',\n 'Phrase',\n 'Grammar',\n 'Solecism',\n 'Style',\n 'Perspicuity',\n 'Obscurity',\n 'Conciseness',\n 'Diffuseness',\n 'Vigor',\n 'Feebleness',\n 'Plainness',\n 'Ornament',\n 'Elegance',\n 'Inelegance',\n 'Voice',\n 'Aphony',\n 'Speech',\n 'Stammering',\n 'Loquacity',\n 'Taciturnity',\n 'Allocution',\n 'Response',\n 'Conversation',\n 'Soliloquy',\n 'Writing',\n 'Printing',\n 'Correspondence',\n 'Book',\n 'Description',\n 'Dissertation',\n 'Compendium',\n 'Poetry',\n 'Prose',\n 'The Drama',\n 'Manifestation',\n 'Latency. Implication',\n 'Information',\n 'Correction',\n 'Concealment',\n 'Disclosure',\n 'Ambush',\n 'Publication',\n 'News',\n 'Secret',\n 'Messenger',\n 'Affirmation',\n 'Negation',\n 'Teaching',\n 'Misteaching',\n 'Learning',\n 'Teacher',\n 'Learner',\n 'School',\n 'Veracity',\n 'Falsehood',\n 'Deception',\n 'Untruth',\n 'Dupe',\n 'Deceiver',\n 'Exaggeration',\n 'Meaning',\n 'Unmeaningness',\n 'Intelligibility',\n 'Unintelligibility',\n 'Equivocalness',\n 'Metaphor',\n 'Interpretation',\n 'Misinterpretation',\n 'Interpreter',\n 'Supposition',\n 'Analogy',\n 'Imagination',\n 'Memory',\n 'Oblivion',\n 'Expectation',\n 'Inexpectation',\n 'Disappointment',\n 'Foresight',\n 'Prediction',\n 'Omen',\n 'Oracle',\n 'Evidence',\n 'Counter Evidence',\n 'Qualification',\n 'Possibility',\n 'Impossibility',\n 'Probability',\n 'Improbability',\n 'Certainty',\n 'Uncertainty',\n 'Intellect',\n 'Absence or want of Intellect',\n 'Thought',\n 'Incogitancy',\n 'Idea',\n 'Topic',\n 'Curiosity',\n 'Incuriosity',\n 'Attention',\n 'Inattention',\n 'Care',\n 'Neglect',\n 'Inquiry',\n 'Answer',\n 'Experiment',\n 'Comparison',\n 'Incomparability',\n 'Discrimination',\n 'Indiscrimination',\n 'Identification',\n 'Measurement',\n 'Reasoning,',\n 'Intuition. & Sophistry',\n 'Demonstration',\n 'Confutation',\n 'Judgment',\n 'Discovery',\n 'Misjudgment',\n 'Overestimation',\n 'Underestimation',\n 'Belief',\n 'Unbelief. Doubt',\n 'Credulity',\n 'Incredulity',\n 'Assent',\n 'Dissent',\n 'Knowledge',\n 'Ignorance',\n 'Scholar',\n 'Ignoramus',\n 'Truth',\n 'Error',\n 'Maxim',\n 'Absurdity',\n 'Intelligence, Wisdom',\n 'Imbecility. Folly',\n 'Sage',\n 'Fool',\n 'Sanity',\n 'Insanity',\n 'Madman',\n 'Affections',\n 'Feeling',\n 'Sensibility',\n 'Insensibility',\n 'Excitation',\n 'Excitability',\n 'Inexcitability',\n 'Pleasure',\n 'Pain',\n 'Pleasurableness',\n 'Painfulness',\n 'Content',\n 'Discontent',\n 'Regret',\n 'Relief',\n 'Aggravation',\n 'Cheerfulness',\n 'Dejection',\n 'Rejoicing',\n 'Lamentation',\n 'Amusement',\n 'Weariness',\n 'Wit',\n 'Dullness',\n 'Humorist',\n 'Beauty',\n 'Ugliness',\n 'Ornament',\n 'Jewelry',\n 'Blemish',\n 'Simplicity',\n 'Taste',\n 'Vulgarity',\n 'Fashion',\n 'Ridiculousness',\n 'Fop',\n 'Affectation',\n 'Ridicule',\n 'Laughingstock',\n 'Hope',\n 'Hopelessness',\n 'Fear',\n 'Courage',\n 'Cowardice',\n 'Rashness',\n 'Caution',\n 'Desire',\n 'Indifference',\n 'Dislike',\n 'Fastidiousness',\n 'Satiety',\n 'Wonder',\n 'Expectance',\n 'Prodigy',\n 'Repute',\n 'Disrepute',\n 'Nobility',\n 'Commonalty',\n 'Title',\n 'Pride',\n 'Humility',\n 'Vanity',\n 'Modesty',\n 'Ostentation',\n 'Celebration',\n 'Boasting',\n 'Insolence',\n 'Servility',\n 'Blusterer',\n 'Right',\n 'Wrong',\n 'Dueness',\n 'Undueness',\n 'Duty',\n 'Dereliction of Duty',\n 'Exemption',\n 'Respect',\n 'Disrespect',\n 'Contempt',\n 'Approbation',\n 'Disapprobation',\n 'Flattery',\n 'Detraction',\n 'Flatterer',\n 'Detractor',\n 'Vindication',\n 'Accusation',\n 'Probity',\n 'Improbity',\n 'Knave',\n 'Disinterestedness',\n 'Selfishness',\n 'Virtue',\n 'Vice',\n 'Innocence',\n 'Guilt',\n 'Good Man',\n 'Bad Man',\n 'Penitence',\n 'Impenitence',\n 'Atonement',\n 'Temperance',\n 'Intemperance',\n 'Sensualist',\n 'Asceticism',\n 'Fasting',\n 'Gluttony',\n 'Sobriety',\n 'Drunkenness',\n 'Purity',\n 'Impurity',\n 'Libertine',\n 'Legality',\n 'Illegality',\n 'Jurisdiction',\n 'Tribunal',\n 'Judge',\n 'Lawyer',\n 'Lawsuit',\n 'Acquittal',\n 'Condemnation',\n 'Punishment',\n 'Reward',\n 'Penalty',\n 'Scourge',\n 'Deity',\n 'Angel',\n 'Satan',\n 'Jupiter',\n 'Demon',\n 'Heaven',\n 'Hell',\n 'Theology',\n 'Orthodoxy',\n 'Heterodoxy',\n 'Judeo-Christian Revelation',\n 'Pseudo-Revelation',\n 'Piety',\n 'Impiety',\n 'Irreligion',\n 'Worship',\n 'Idolatry',\n 'Sorcery',\n 'Spell',\n 'Sorcerer',\n 'Churchdom',\n 'Clergy',\n 'Laity',\n 'Rite',\n 'Canonicals',\n 'Temple',\n 'Friendship',\n 'Enmity',\n 'Friend',\n 'Enemy',\n 'Sociality',\n 'Seclusion. Exclusion',\n 'Courtesy',\n 'Discourtesy',\n 'Congratulation',\n 'Love',\n 'Hate',\n 'Favorite',\n 'Resentment',\n 'Irascibility',\n 'Sullenness',\n 'Endearment',\n 'Marriage',\n 'Celibacy',\n 'Divorce',\n 'Benevolence',\n 'Malevolence',\n 'Malediction',\n 'Threat',\n 'Philanthropy',\n 'Misanthropy',\n 'Benefactor',\n 'Evil doer',\n 'Pity',\n 'Pitilessness',\n 'Condolence',\n 'Gratitude',\n 'Ingratitude',\n 'Forgiveness',\n 'Revenge',\n 'Jealousy',\n 'Envy',\n 'Difficulty',\n 'Facility',\n 'Hindrance',\n 'Aid',\n 'Opposition',\n 'Cooperation',\n 'Opponent',\n 'Auxiliary',\n 'Party',\n 'Discord',\n 'Concord',\n 'Defiance',\n 'Attack',\n 'Defense',\n 'Retaliation',\n 'Resistance',\n 'Contention',\n 'Peace',\n 'Warfare',\n 'Pacification',\n 'Mediation',\n 'Submission',\n 'Combatant',\n 'Arms',\n 'Arena',\n 'Intention',\n 'Chance',\n 'Pursuit',\n 'Avoidance',\n 'Relinquishment',\n 'Business',\n 'Plan',\n 'Method',\n 'Mid-course',\n 'Circuit',\n 'Requirement',\n 'Instrumentality',\n 'Means',\n 'Instrument',\n 'Substitute',\n 'Materials',\n 'Store',\n 'Provision',\n 'Waste',\n 'Sufficiency',\n 'Insufficiency',\n 'Redundancy',\n 'Importance',\n 'Unimportance',\n 'Utility',\n 'Inutility',\n 'Expedience',\n 'Inexpedience',\n 'Goodness',\n 'Badness',\n 'Perfection',\n 'Imperfection',\n 'Cleanness',\n 'Uncleanness',\n 'Health',\n 'Disease',\n 'Salubrity',\n 'Insalubrity',\n 'Improvement',\n 'Deterioration',\n 'Restoration',\n 'Relapse',\n 'Remedy',\n 'Bane',\n 'Safety',\n 'Danger',\n 'Refuge',\n 'Pitfall',\n 'Warning',\n 'Alarm',\n 'Preservation',\n 'Escape',\n 'Deliverance',\n 'Preparation',\n 'Nonpreparation',\n 'Essay',\n 'Undertaking',\n 'Use',\n 'Disuse',\n 'Misuse',\n 'Completion',\n 'Noncompletion',\n 'Success',\n 'Failure',\n 'Trophy',\n 'Prosperity',\n 'Adversity',\n 'Mediocrity',\n 'Will',\n 'Necessity',\n 'Willingness',\n 'Unwillingness',\n 'Resolution',\n 'Perseverance',\n 'Irresolution',\n 'Obstinacy',\n 'Tergiversation',\n 'Caprice',\n 'Choice',\n 'Absence of Choice',\n 'Rejection',\n 'Predetermination',\n 'Impulse',\n 'Habit',\n 'Desuetude',\n 'Motive',\n 'Absence of Motive',\n 'Dissuasion',\n 'Pretext',\n 'Good',\n 'Evil',\n 'Action',\n 'Inaction',\n 'Activity',\n 'Inactivity',\n 'Haste',\n 'Leisure',\n 'Exertion',\n 'Repose',\n 'Fatigue',\n 'Refreshment',\n 'Agent',\n 'Workshop',\n 'Conduct',\n 'Direction',\n 'Director',\n 'Advice',\n 'Council',\n 'Precept',\n 'Skill',\n 'Unskillfulness',\n 'Proficient',\n 'Bungler',\n 'Cunning',\n 'Artlessness',\n 'Promise',\n 'Release from engagement',\n 'Compact',\n 'Conditions',\n 'Security',\n 'Observance',\n 'Nonobservance',\n 'Compromise',\n 'Authority',\n 'Government',\n 'Politics',\n 'Laxity',\n 'Severity',\n 'Lenity',\n 'Command',\n 'Disobedience',\n 'Obedience',\n 'Compulsion',\n 'Master',\n 'Servant',\n 'Scepter',\n 'Freedom',\n 'Subjection',\n 'Liberation',\n 'Restraint',\n 'Prison',\n 'Keeper',\n 'Prisoner',\n 'Commission',\n 'Abrogation',\n 'Resignation',\n 'Consignee',\n 'Deputy',\n 'Permission',\n 'Prohibition',\n 'Consent',\n 'Offer',\n 'Refusal',\n 'Request',\n 'Deprecation',\n 'Petitioner',\n 'Acquisition',\n 'Loss',\n 'Possession',\n 'Exemption',\n 'Participation',\n 'Possessor',\n 'Property',\n ...]"
     },
     "execution_count": 6,
     "metadata": {},
     "output_type": "execute_result"
    }
   ],
   "source": [
    "docs"
   ],
   "metadata": {
    "collapsed": false,
    "ExecuteTime": {
     "end_time": "2024-02-11T11:22:35.182781800Z",
     "start_time": "2024-02-11T11:22:35.173275900Z"
    }
   },
   "id": "6c4468e6b3562523",
   "execution_count": 6
  },
  {
   "cell_type": "markdown",
   "source": [
    "We can see that the docs contain the `\\n` characters so we must remove them and then get the embeddings for the words.\n",
    "To do that effectively and apply later the mistral embeddings, we will use the `SentenceTransformersTokenTextSplitter` text splitter.\n"
   ],
   "metadata": {
    "collapsed": false
   },
   "id": "b9a336c6e823cd2"
  },
  {
   "cell_type": "code",
   "outputs": [],
   "source": [
    "from langchain.text_splitter import SentenceTransformersTokenTextSplitter\n",
    "\n",
    "text_splitter = SentenceTransformersTokenTextSplitter(chunk_overlap=0)"
   ],
   "metadata": {
    "collapsed": false,
    "ExecuteTime": {
     "start_time": "2024-02-10T18:50:27.186683200Z"
    }
   },
   "id": "701b537667014608",
   "execution_count": null
  },
  {
   "cell_type": "markdown",
   "source": [
    "Let's see how that works with an example file"
   ],
   "metadata": {
    "collapsed": false
   },
   "id": "e60799be90f4940"
  },
  {
   "cell_type": "code",
   "outputs": [],
   "source": [
    "# Read a single txt file from the directory\n",
    "text = open(\"data2/WORDS EXPRESSING ABSTRACT RELATIONS/CAUSATION/words.txt\", \"r\").read()\n",
    "texts = text_splitter.create_documents([text])\n",
    "print(texts)"
   ],
   "metadata": {
    "collapsed": false,
    "ExecuteTime": {
     "start_time": "2024-02-10T18:50:27.187683900Z"
    }
   },
   "id": "c5aa5a10497d7db2",
   "execution_count": null
  },
  {
   "cell_type": "markdown",
   "source": [
    "Let's now apply this text splitter to the documents"
   ],
   "metadata": {
    "collapsed": false
   },
   "id": "af1222340bcce166"
  },
  {
   "cell_type": "code",
   "outputs": [],
   "source": [
    "# Split the documents\n",
    "splits = text_splitter.split_documents(docs)"
   ],
   "metadata": {
    "collapsed": false,
    "ExecuteTime": {
     "start_time": "2024-02-10T18:50:27.188684100Z"
    }
   },
   "id": "3a2685bc607c4c4d",
   "execution_count": null
  },
  {
   "cell_type": "markdown",
   "source": [
    "Now that we have the splits we can get the embeddings for the words using the `OllamaEmbeddings` class and store the embeddings in a vector\n",
    "database, in this case we will store them in a Chroma database. We will make the vector database using the `Chroma` class from the `langchain` library \n",
    "and make it persistent by writing it to a directory named `chroma_db` with a collection named `roget`.\n"
   ],
   "metadata": {
    "collapsed": false
   },
   "id": "bd0916d30ca54926"
  },
  {
   "cell_type": "code",
   "outputs": [],
   "source": [
    "from langchain_community.vectorstores.chroma import Chroma\n",
    "\n",
    "vectorstore = Chroma.from_texts(docs, embedding=mistral_embeddings, collection_name=\"roget\",\n",
    "                                persist_directory=\"./chroma_db\")"
   ],
   "metadata": {
    "collapsed": false,
    "ExecuteTime": {
     "end_time": "2024-02-11T12:02:10.165200800Z",
     "start_time": "2024-02-11T11:22:58.285225500Z"
    }
   },
   "id": "adc965aba2661ca9",
   "execution_count": 7
  },
  {
   "cell_type": "markdown",
   "source": [
    "Having saved the embeddings in the vector database we can now use the `Chroma` class to get the embeddings for the words from the vector database."
   ],
   "metadata": {
    "collapsed": false
   },
   "id": "558c6d1d71c19111"
  },
  {
   "cell_type": "code",
   "outputs": [],
   "source": [
    "# load from disk\n",
    "from langchain_community.vectorstores.chroma import Chroma\n",
    "\n",
    "vector_db = Chroma(persist_directory=\"./chroma_db\",\n",
    "                   embedding_function=mistral_embeddings,\n",
    "                   collection_name=\"roget\")\n"
   ],
   "metadata": {
    "collapsed": false,
    "ExecuteTime": {
     "end_time": "2024-02-11T12:33:30.257528600Z",
     "start_time": "2024-02-11T12:33:30.240832800Z"
    }
   },
   "id": "cdef8ee0efbd65a8",
   "execution_count": 8
  },
  {
   "cell_type": "code",
   "outputs": [
    {
     "data": {
      "text/plain": "[1.5556493997573853,\n -6.121205806732178,\n -4.492718696594238,\n -1.9262503385543823,\n 3.8164706230163574,\n -3.4083504676818848,\n -6.770772457122803,\n 2.8680295944213867,\n -2.505934000015259,\n -5.644752025604248,\n -4.503164291381836,\n -0.23170815408229828,\n 1.1763440370559692,\n -1.2599910497665405,\n 7.68607234954834,\n -0.6492279171943665,\n 1.2238367795944214,\n 2.6116995811462402,\n 1.559502363204956,\n -9.220084190368652,\n 0.31469640135765076,\n -1.2364697456359863,\n 2.5014407634735107,\n 9.670278549194336,\n -8.22414493560791,\n -5.686959743499756,\n -5.997664928436279,\n 4.868986129760742,\n 1.4868706464767456,\n 5.473894119262695,\n -4.155873775482178,\n 0.8587428331375122,\n 2.3624417781829834,\n -4.776278495788574,\n 6.086277484893799,\n 1.559440016746521,\n -3.534364938735962,\n 0.6194186806678772,\n -8.33431339263916,\n 5.044794082641602,\n 6.818313121795654,\n 7.956183910369873,\n 1.9498677253723145,\n 1.3656634092330933,\n 3.4030094146728516,\n 6.736318588256836,\n 1.99083411693573,\n 1.7895605564117432,\n -4.881857872009277,\n 3.219580888748169,\n 1.4089115858078003,\n 3.323194742202759,\n -0.7014869451522827,\n -59.311458587646484,\n 1.2036285400390625,\n 10.754049301147461,\n -1.1801326274871826,\n 3.3198602199554443,\n -10.270635604858398,\n -7.46755313873291,\n 2.1341915130615234,\n 2.820462703704834,\n -0.9041896462440491,\n -0.1968737244606018,\n 6.014354705810547,\n 0.3786083161830902,\n -5.254292964935303,\n -2.678617238998413,\n 1.4531282186508179,\n -1.572437047958374,\n -0.6359992623329163,\n -0.6874154210090637,\n -4.3875651359558105,\n -9.272918701171875,\n -3.4360997676849365,\n -0.576951801776886,\n 2.9555504322052,\n 0.7117647528648376,\n 6.47160005569458,\n -5.892716884613037,\n -5.5384416580200195,\n -2.555556058883667,\n 3.0616652965545654,\n 1.1350266933441162,\n 4.743995189666748,\n -15.324345588684082,\n -0.4159749150276184,\n -3.5327248573303223,\n 0.32587483525276184,\n 0.22630813717842102,\n 8.293601989746094,\n 2.008171558380127,\n -0.41092202067375183,\n 4.269071578979492,\n -2.1701290607452393,\n -0.0623491108417511,\n 3.5555505752563477,\n 1.2392827272415161,\n -12.044683456420898,\n -1.7081807851791382,\n -0.3099725842475891,\n -0.4750165641307831,\n -1.4678356647491455,\n 5.66188383102417,\n 2.329280376434326,\n 0.4042477607727051,\n 6.288473129272461,\n 5.316834449768066,\n 0.851170003414154,\n 2.924741268157959,\n 2.4715216159820557,\n -0.9334278106689453,\n 3.8654441833496094,\n -0.10385175049304962,\n 0.713817298412323,\n 3.846670150756836,\n 2.5774056911468506,\n 4.090699195861816,\n -0.39959484338760376,\n -9.297739028930664,\n 6.271508693695068,\n 6.001091003417969,\n -1.3599127531051636,\n -8.64763355255127,\n -2.0006353855133057,\n -1.3466261625289917,\n -7.962028980255127,\n -4.2717461585998535,\n 0.5075263977050781,\n -7.648837089538574,\n 0.6604050993919373,\n 7.308309555053711,\n 3.4920172691345215,\n -0.07152606546878815,\n -3.0121827125549316,\n 5.021796226501465,\n -5.14889669418335,\n 1.701670527458191,\n 1.7733200788497925,\n 3.0063695907592773,\n 3.9659335613250732,\n 5.131624698638916,\n 6.189115047454834,\n 2.930330276489258,\n 3.753641128540039,\n -1.7633665800094604,\n 2.1621968746185303,\n -8.197310447692871,\n -1.0658656358718872,\n -1.9589170217514038,\n -3.8675379753112793,\n 2.7572224140167236,\n -1.4518301486968994,\n 4.369302749633789,\n -3.0348708629608154,\n 6.1996941566467285,\n 3.139509677886963,\n 1.0508699417114258,\n 3.1407008171081543,\n 2.609903335571289,\n -0.21691428124904633,\n -0.8137742280960083,\n 5.392578125,\n 0.9907281994819641,\n 2.2402360439300537,\n 1.7905446290969849,\n -3.6851491928100586,\n 2.354088544845581,\n 0.07649939507246017,\n -3.849520444869995,\n 4.326613903045654,\n -0.3099534213542938,\n -0.797982931137085,\n -0.9984273910522461,\n 2.686688184738159,\n 6.771945953369141,\n -0.07550303637981415,\n -1.5390818119049072,\n 4.239686489105225,\n -4.30001974105835,\n 7.0583882331848145,\n 1.7226399183273315,\n -2.2585997581481934,\n 1.2554168701171875,\n -0.1749015897512436,\n -0.624674379825592,\n -1.4051179885864258,\n -0.9812111258506775,\n -2.813960552215576,\n 3.225430965423584,\n -0.3886888921260834,\n -3.3497090339660645,\n -4.274161338806152,\n -0.698563814163208,\n 2.0600688457489014,\n 6.493447780609131,\n -4.879302978515625,\n -1.92642343044281,\n 0.9574025869369507,\n -0.6970824599266052,\n 6.4583420753479,\n -6.309875011444092,\n -5.444240570068359,\n -0.3963516354560852,\n 8.121624946594238,\n 5.204123020172119,\n 5.939852714538574,\n 1.6141735315322876,\n -7.034731388092041,\n 0.10943024605512619,\n -1.2993718385696411,\n 2.7447938919067383,\n -3.940981149673462,\n -1.7923122644424438,\n 10.254050254821777,\n 4.085346698760986,\n -0.6608626246452332,\n -7.998002529144287,\n 19.396799087524414,\n 4.512360572814941,\n -2.498723268508911,\n 5.882835388183594,\n 1.8078919649124146,\n 7.891870975494385,\n -2.9831316471099854,\n 3.676862955093384,\n -4.848633289337158,\n -3.4074766635894775,\n -2.407378673553467,\n -10.020880699157715,\n -0.5324239134788513,\n -0.06557168811559677,\n -2.1135551929473877,\n -1.6066439151763916,\n -3.4850881099700928,\n -0.53141850233078,\n -3.7354907989501953,\n 3.488043785095215,\n -4.209169864654541,\n -1.2277153730392456,\n 8.747992515563965,\n -8.865655899047852,\n -1.5224586725234985,\n -1.8436657190322876,\n 1.6554386615753174,\n -6.206825256347656,\n 5.662282466888428,\n 4.699121475219727,\n -7.782871723175049,\n -5.404187202453613,\n 0.9858232736587524,\n -7.802972316741943,\n -3.18654465675354,\n 0.9797952175140381,\n 0.03815245255827904,\n 0.8563507199287415,\n -1.0102415084838867,\n -0.21867795288562775,\n -1.075770616531372,\n 2.745727777481079,\n -5.820879936218262,\n 8.311665534973145,\n -2.0572104454040527,\n -0.6415890455245972,\n 3.7459583282470703,\n -8.540406227111816,\n -3.335965633392334,\n 5.7265214920043945,\n 9.196967124938965,\n -0.8838919401168823,\n -6.227267265319824,\n 7.8209228515625,\n 3.241436004638672,\n 3.4365696907043457,\n 1.9616354703903198,\n -16.053314208984375,\n 4.8049397468566895,\n -0.7530073523521423,\n 2.1155478954315186,\n -11.541922569274902,\n 2.9169998168945312,\n -4.6500935554504395,\n 2.8874287605285645,\n -8.424654006958008,\n 0.16413326561450958,\n -5.691980838775635,\n 1.0641244649887085,\n 8.869969367980957,\n -2.214730739593506,\n 2.544891834259033,\n 7.9720659255981445,\n 1.2181024551391602,\n -0.616757869720459,\n -3.1581943035125732,\n -7.2826642990112305,\n 1.1665806770324707,\n 0.554284930229187,\n -10.336384773254395,\n 0.942471444606781,\n -1.340653657913208,\n -5.66708517074585,\n -1.2866300344467163,\n -3.1243388652801514,\n 2.786865472793579,\n 8.850115776062012,\n -4.733631610870361,\n -0.4598170518875122,\n -0.3031246066093445,\n -5.753255844116211,\n -4.095840930938721,\n -1.9975605010986328,\n -6.816928386688232,\n -3.0870397090911865,\n -4.470040321350098,\n 7.863053798675537,\n -0.09507708996534348,\n 1.0194685459136963,\n -4.7945942878723145,\n -5.928037166595459,\n 2.613328218460083,\n 0.417402058839798,\n -9.282569885253906,\n -23.606201171875,\n -3.875638246536255,\n 6.748262882232666,\n 3.505824327468872,\n -7.290729999542236,\n 1.4382295608520508,\n 6.370769500732422,\n 0.9034678936004639,\n -8.271086692810059,\n -4.485004901885986,\n 1.1289527416229248,\n -3.9441540241241455,\n -8.151606559753418,\n -6.407501220703125,\n -10.330822944641113,\n -2.7066903114318848,\n 3.6456716060638428,\n -8.368277549743652,\n 0.9278194904327393,\n -4.2977142333984375,\n 12.734515190124512,\n -4.329282760620117,\n 8.975861549377441,\n 2.592546224594116,\n 0.8057679533958435,\n 0.6172738671302795,\n -1.5696574449539185,\n 3.6708524227142334,\n -1.8249328136444092,\n 1.8169629573822021,\n 4.058295726776123,\n 6.218519687652588,\n -0.47414472699165344,\n -4.79022741317749,\n 10.163785934448242,\n -1.017950415611267,\n -1.1591280698776245,\n -7.133518218994141,\n -1.5682464838027954,\n 3.2323012351989746,\n -0.42872411012649536,\n 3.674246072769165,\n -0.2958436906337738,\n -10.40364933013916,\n 1.59536612033844,\n 3.966062545776367,\n -2.0463454723358154,\n -2.998939275741577,\n 0.6377808451652527,\n -8.50715160369873,\n 1.233347773551941,\n -1.6852519512176514,\n -3.8308167457580566,\n 0.8518863916397095,\n -4.607678413391113,\n -0.6011695861816406,\n -1.174943208694458,\n -6.460616111755371,\n -3.14174485206604,\n 6.710910320281982,\n 3.4428975582122803,\n -5.136478424072266,\n -4.810215473175049,\n 1.2345335483551025,\n 1.960742473602295,\n -5.141456127166748,\n -6.6603899002075195,\n 0.09113827347755432,\n -0.948559582233429,\n -2.1024832725524902,\n -0.3546545207500458,\n -2.263019323348999,\n -5.308544158935547,\n -3.4115772247314453,\n 3.7520217895507812,\n 2.287900924682617,\n -3.4191997051239014,\n 3.7172954082489014,\n -0.4294380843639374,\n -1.5667718648910522,\n 5.824317932128906,\n -9.352071762084961,\n 0.1717701405286789,\n -3.112840414047241,\n -2.3242745399475098,\n -3.218310594558716,\n -1.3941056728363037,\n -3.326500654220581,\n -0.635403573513031,\n 0.24848422408103943,\n 3.5348093509674072,\n 4.986845970153809,\n -11.264199256896973,\n 0.9342945218086243,\n 0.408514142036438,\n -6.491851806640625,\n 4.617988109588623,\n 2.0374438762664795,\n -0.8583387136459351,\n -2.7406368255615234,\n -1.139931082725525,\n 0.6475288271903992,\n -4.618805885314941,\n -6.747981071472168,\n 5.103682518005371,\n -8.062633514404297,\n 3.963444471359253,\n -9.965310096740723,\n 6.979628086090088,\n 4.648136138916016,\n -7.309996128082275,\n 5.929788112640381,\n -5.3469696044921875,\n -2.8946099281311035,\n -1.614719271659851,\n 0.2674732804298401,\n -0.23432083427906036,\n 2.586212396621704,\n -13.384540557861328,\n 4.425782203674316,\n -3.4722187519073486,\n -1.2000722885131836,\n 7.571910381317139,\n -1.3317769765853882,\n -0.34843698143959045,\n 1.3914673328399658,\n 1.1106034517288208,\n 5.872058391571045,\n 0.9364064335823059,\n 1.8449429273605347,\n 1.2583178281784058,\n 0.5536529421806335,\n 0.279818594455719,\n -3.231142520904541,\n 1.1648731231689453,\n 4.739810466766357,\n -3.9974722862243652,\n 5.504003047943115,\n -2.737384080886841,\n -6.6400017738342285,\n -0.8898045420646667,\n 1.7627571821212769,\n -6.988842010498047,\n 1.6754047870635986,\n 0.2760850787162781,\n -4.051314353942871,\n 6.35571813583374,\n -8.833061218261719,\n -1.4226359128952026,\n -1.073662281036377,\n 4.512015342712402,\n 2.2067487239837646,\n -0.24570581316947937,\n 0.3669695258140564,\n -3.0364696979522705,\n 6.424952030181885,\n 6.443084716796875,\n -5.194747447967529,\n 2.523149251937866,\n -4.795767307281494,\n 1.3617864847183228,\n 0.5246543288230896,\n -7.613126754760742,\n 1.293944001197815,\n 1.8542425632476807,\n 9.21181869506836,\n -5.982048511505127,\n 1.156530499458313,\n -3.678140163421631,\n -1.8150020837783813,\n -0.18910418450832367,\n -1.6720231771469116,\n 0.31983959674835205,\n 2.23862361907959,\n -1.8464149236679077,\n 0.04546383395791054,\n -6.135683059692383,\n -0.6444354057312012,\n -0.23109017312526703,\n -2.962597370147705,\n -2.395277738571167,\n 8.485706329345703,\n -5.676022529602051,\n -9.631088256835938,\n -3.263284921646118,\n 0.6360558271408081,\n -4.049283027648926,\n -2.3911447525024414,\n 0.9497917890548706,\n -6.299124717712402,\n -3.579096794128418,\n -1.7281262874603271,\n 0.6164358258247375,\n -3.55131196975708,\n -3.904397964477539,\n 1.9561338424682617,\n 0.37553879618644714,\n -3.1100051403045654,\n -4.766537189483643,\n -3.3238840103149414,\n -2.5313682556152344,\n -4.4561448097229,\n -8.653341293334961,\n 2.551001787185669,\n -1.9443013668060303,\n -6.858623504638672,\n 0.09926111996173859,\n 3.086533784866333,\n -0.5007566809654236,\n -2.516679286956787,\n -2.022030830383301,\n -3.9138050079345703,\n 5.182907581329346,\n 5.031571388244629,\n 2.3474087715148926,\n 0.26262426376342773,\n 7.322749614715576,\n -5.615756511688232,\n 6.4021806716918945,\n 2.623441696166992,\n -6.302289009094238,\n -2.9433517456054688,\n 1.2328304052352905,\n -6.573329448699951,\n 3.0314524173736572,\n -2.367910861968994,\n -4.278146266937256,\n -0.47142457962036133,\n 0.8351558446884155,\n -2.350158214569092,\n -30.522592544555664,\n -10.409361839294434,\n -1.8661824464797974,\n 0.20369161665439606,\n -5.569533348083496,\n -1.8856658935546875,\n 4.67910099029541,\n 0.6206809282302856,\n -1.8256877660751343,\n -2.157757520675659,\n -6.9771318435668945,\n 0.20994555950164795,\n 3.688826560974121,\n 1.353537678718567,\n -2.0359644889831543,\n 2.0703699588775635,\n 7.949366092681885,\n -0.26773911714553833,\n 1.7760976552963257,\n 5.038445949554443,\n -0.10487396270036697,\n -2.174797534942627,\n -0.686911940574646,\n -4.599111080169678,\n -2.6971492767333984,\n 2.009692668914795,\n 8.742559432983398,\n 4.062188148498535,\n 0.3101402819156647,\n 4.537012100219727,\n -2.165543556213379,\n 5.0749640464782715,\n -2.8432068824768066,\n -7.201887607574463,\n -0.42777422070503235,\n 7.44192361831665,\n 2.0205962657928467,\n -2.164731502532959,\n -5.983982563018799,\n -0.5772334337234497,\n -0.7276917099952698,\n 0.34111925959587097,\n 1.800700068473816,\n 1.9950963258743286,\n -1.473236083984375,\n 7.473215579986572,\n -0.4397595226764679,\n 8.220528602600098,\n -7.972942352294922,\n 6.717828750610352,\n 3.28190016746521,\n 3.8838577270507812,\n 2.7560834884643555,\n 7.017728805541992,\n 0.5166765451431274,\n 0.35550686717033386,\n -4.162717819213867,\n -4.4846696853637695,\n 3.048879623413086,\n -4.09004020690918,\n 2.571650505065918,\n 2.893833637237549,\n 6.254945755004883,\n -5.185306549072266,\n -4.637994766235352,\n -0.6660170555114746,\n 2.2582640647888184,\n 5.618534564971924,\n -0.31011879444122314,\n -4.2808661460876465,\n -4.289484977722168,\n -1.242501974105835,\n 2.699951648712158,\n 4.915451526641846,\n 2.7175464630126953,\n -1.7985553741455078,\n -4.9610748291015625,\n -2.4364171028137207,\n -2.5521867275238037,\n 3.355098247528076,\n 4.4536285400390625,\n 0.423575222492218,\n 8.743370056152344,\n 0.16180159151554108,\n -2.130072593688965,\n 2.595945119857788,\n -2.454761266708374,\n -16.968120574951172,\n -9.589367866516113,\n 2.2265067100524902,\n 6.623270034790039,\n 8.795729637145996,\n 2.7404820919036865,\n -0.008171368390321732,\n 0.2470824122428894,\n 5.2810959815979,\n 12.313241958618164,\n 0.9232784509658813,\n 2.6100573539733887,\n 8.342114448547363,\n 3.1481199264526367,\n -3.3464858531951904,\n -0.9183806777000427,\n 0.07705934345722198,\n 0.3706025183200836,\n -0.34092947840690613,\n 8.53753662109375,\n 7.368479251861572,\n -3.8550002574920654,\n -6.298864364624023,\n 21.662593841552734,\n 0.8277223110198975,\n 6.2192463874816895,\n 0.6162051558494568,\n -12.411001205444336,\n 7.080284118652344,\n 3.925658941268921,\n -5.162787437438965,\n -9.658446311950684,\n 5.688891887664795,\n 1.8825159072875977,\n 2.3463516235351562,\n -8.316720962524414,\n -2.5578527450561523,\n -2.0290043354034424,\n 3.3508007526397705,\n -1.1415221691131592,\n 11.044800758361816,\n 1.3844774961471558,\n 4.924160480499268,\n 3.8832526206970215,\n 2.7172820568084717,\n 9.22520923614502,\n -1.7015658617019653,\n 3.781541585922241,\n -2.1645476818084717,\n -3.9477338790893555,\n 7.159775257110596,\n 7.547748565673828,\n 2.478114604949951,\n 7.1928815841674805,\n -4.330053329467773,\n -3.6673271656036377,\n 1.456563949584961,\n 2.146242618560791,\n -2.952415704727173,\n 8.19251823425293,\n 0.2774198353290558,\n 6.682041168212891,\n 1.3108350038528442,\n 0.7793816924095154,\n -2.7135510444641113,\n 13.840336799621582,\n 37.95454025268555,\n -0.9869270920753479,\n 6.0363640785217285,\n -4.9274725914001465,\n -2.5447936058044434,\n -3.2262678146362305,\n -7.771841049194336,\n 6.079369068145752,\n 2.438568592071533,\n -0.4594076871871948,\n -1.3148001432418823,\n 1.7198786735534668,\n -7.008623123168945,\n 9.131163597106934,\n -2.474519968032837,\n 8.296149253845215,\n 0.9989771246910095,\n 2.9775187969207764,\n 0.5648255348205566,\n -5.584057331085205,\n -8.027373313903809,\n 9.074624061584473,\n -2.676652669906616,\n -0.8863466382026672,\n 0.9513371586799622,\n -4.017008304595947,\n -1.8319618701934814,\n -11.405317306518555,\n -5.167686462402344,\n 1.4111744165420532,\n -12.327187538146973,\n 2.1232428550720215,\n 1.3307667970657349,\n -1.4701533317565918,\n -6.825689792633057,\n -4.907913684844971,\n -0.29203000664711,\n 0.4086911082267761,\n -9.318613052368164,\n 0.44514012336730957,\n 1.5468554496765137,\n -3.4842095375061035,\n 0.015845229849219322,\n 5.984393119812012,\n 5.482720851898193,\n 1.6893041133880615,\n 0.0651341900229454,\n -4.080458641052246,\n 2.8771066665649414,\n 3.1489014625549316,\n -4.035632610321045,\n -0.5091612339019775,\n -5.734796047210693,\n -0.8904597163200378,\n 2.730163097381592,\n -5.6855950355529785,\n -0.6953169107437134,\n -3.5262835025787354,\n -3.81119704246521,\n 12.399925231933594,\n -7.463199615478516,\n 6.245126724243164,\n -0.004562563728541136,\n -2.0377860069274902,\n -5.035808086395264,\n 0.960915207862854,\n -2.3266708850860596,\n -1.7836936712265015,\n 3.208859920501709,\n 2.8831722736358643,\n 4.104910373687744,\n 0.07340094447135925,\n -1.0244944095611572,\n -1.8966882228851318,\n -5.843569278717041,\n 4.178696632385254,\n -5.614488124847412,\n -8.007607460021973,\n -0.3279520571231842,\n -9.538161277770996,\n 11.886375427246094,\n -3.1991825103759766,\n -0.34898048639297485,\n 4.418812274932861,\n 2.402883291244507,\n 7.019578456878662,\n -12.45190715789795,\n -0.3037152886390686,\n -0.6297872066497803,\n -7.05473518371582,\n 4.385448455810547,\n 5.406129360198975,\n -3.475376605987549,\n -5.928943157196045,\n -2.094316244125366,\n -0.4718915820121765,\n -4.286278247833252,\n 0.944604218006134,\n 1.4800944328308105,\n -1.3402612209320068,\n -2.9180121421813965,\n 4.020296573638916,\n 1.3561675548553467,\n -2.6889803409576416,\n -4.592253684997559,\n 8.583121299743652,\n 1.6306449174880981,\n -3.3103549480438232,\n -1.1666111946105957,\n 2.8367831707000732,\n 0.9709641933441162,\n 4.490636825561523,\n 7.732720375061035,\n 7.840907573699951,\n 0.8951590657234192,\n -5.686635971069336,\n -2.806431293487549,\n 1.4858518838882446,\n -1.345363736152649,\n 1.946406364440918,\n 1.582556128501892,\n -10.06965160369873,\n 0.5219681859016418,\n 7.175256729125977,\n 4.300147533416748,\n -0.37789878249168396,\n -2.3420355319976807,\n -1.6366022825241089,\n -3.433668851852417,\n -1.498254418373108,\n -26.394712448120117,\n -3.755565643310547,\n -5.5376787185668945,\n 5.173777103424072,\n 4.181203842163086,\n -5.32465124130249,\n -0.6965003609657288,\n 0.723305344581604,\n -1.080267071723938,\n 3.047025442123413,\n -5.894073486328125,\n -4.705808639526367,\n 1.2295924425125122,\n 7.3420257568359375,\n -4.058060646057129,\n 10.200976371765137,\n 0.848247230052948,\n 2.322594404220581,\n 7.417933464050293,\n 4.852994918823242,\n 5.259708404541016,\n -3.123415231704712,\n -5.492960453033447,\n -4.954940319061279,\n -0.436636745929718,\n -0.15947340428829193,\n -3.449005365371704,\n 4.000400066375732,\n -6.376118183135986,\n -2.3138067722320557,\n -3.910078763961792,\n -2.36013126373291,\n 6.456405162811279,\n -2.341360092163086,\n -7.435694694519043,\n -5.59130859375,\n -2.3284807205200195,\n 0.5573446750640869,\n 6.8018293380737305,\n -4.994105339050293,\n -2.7892231941223145,\n -15.885863304138184,\n -3.0418450832366943,\n 0.12714794278144836,\n -0.7770476341247559,\n 0.6456686854362488,\n 2.051732063293457,\n -3.4470481872558594,\n 13.18045425415039,\n 1.8002073764801025,\n 5.394270896911621,\n 2.4014976024627686,\n -2.974252462387085,\n 2.3749001026153564,\n 10.278809547424316,\n -8.161372184753418,\n -3.240492105484009,\n -10.114974021911621,\n -6.948432922363281,\n 1.6233434677124023,\n -5.306950092315674,\n -3.268162965774536,\n 3.7788968086242676,\n -1.894537329673767,\n -2.0702598094940186,\n -2.8230834007263184,\n -8.25698184967041,\n 1.6660374402999878,\n -5.166640758514404,\n -10.552055358886719,\n -0.6824485063552856,\n -2.509505033493042,\n -6.027296543121338,\n 7.040914535522461,\n 1.5533137321472168,\n 13.691990852355957,\n -8.881219863891602,\n 3.43466854095459,\n -4.340646266937256,\n -2.327310800552368,\n -5.462650775909424,\n -2.1568315029144287,\n -2.0841240882873535,\n -6.511726379394531,\n 4.449743270874023,\n 2.1533660888671875,\n 1.3626328706741333,\n -3.5188791751861572,\n 0.0004739607684314251,\n 0.6050992012023926,\n 2.6433730125427246,\n -1.0824261903762817,\n 7.517174243927002,\n 1.467549443244934,\n -4.060365200042725,\n 4.597496509552002,\n 9.743680000305176,\n 3.5855069160461426,\n -4.34995698928833,\n -5.400618076324463,\n 1.3979841470718384,\n 6.156630516052246,\n -3.181272506713867,\n -3.484036922454834,\n -4.30983829498291,\n -4.300548076629639,\n -1.8385998010635376,\n -5.814669132232666,\n 2.555976152420044,\n 0.9834722280502319,\n 7.030028343200684,\n 3.126037836074829,\n -8.491730690002441,\n -2.2781310081481934,\n 5.254561901092529,\n -2.8581533432006836,\n -6.426788806915283,\n -4.099151134490967,\n 4.555163383483887,\n 3.3108880519866943,\n 2.814713954925537,\n -4.157132625579834,\n 5.044524192810059,\n -5.5317463874816895,\n 0.45155012607574463,\n -0.33251953125,\n 6.532013893127441,\n 7.222615718841553,\n 6.367890357971191,\n 2.160545587539673,\n 5.031980991363525,\n 6.5427470207214355,\n -10.56247615814209,\n -0.9626352190971375,\n 2.6844561100006104,\n 6.425814151763916,\n 2.247690439224243,\n 2.1584765911102295,\n -5.3292975425720215,\n -2.1075968742370605,\n -11.194814682006836,\n 1.8020761013031006,\n -5.221895217895508,\n 1.3659247159957886,\n 4.614930629730225,\n -15.170744895935059,\n 7.274518966674805,\n 5.823779106140137,\n 7.302254676818848,\n 5.018049716949463,\n -5.107285976409912,\n 7.062658309936523,\n -2.6900570392608643,\n -10.227276802062988,\n 0.3729252815246582,\n 4.603703022003174,\n 1.394409418106079,\n 0.6188749670982361,\n 5.151889801025391,\n -4.038302421569824,\n -2.026362180709839,\n -5.887409687042236,\n -4.25040864944458,\n -4.956958293914795,\n -8.353738784790039,\n ...]"
     },
     "execution_count": 9,
     "metadata": {},
     "output_type": "execute_result"
    }
   ],
   "source": [
    "vector_db.get(include=[\"embeddings\"])['embeddings'][0]"
   ],
   "metadata": {
    "collapsed": false,
    "ExecuteTime": {
     "end_time": "2024-02-11T12:33:30.783089300Z",
     "start_time": "2024-02-11T12:33:30.692104500Z"
    }
   },
   "id": "e35c474053cebc77",
   "execution_count": 9
  },
  {
   "cell_type": "code",
   "outputs": [],
   "source": [
    "import chromadb\n",
    "\n",
    "client = chromadb.PersistentClient(path=\"./chroma_db\")"
   ],
   "metadata": {
    "collapsed": false,
    "ExecuteTime": {
     "end_time": "2024-02-11T12:33:47.034745200Z",
     "start_time": "2024-02-11T12:33:47.016297600Z"
    }
   },
   "id": "d1f25e3a5b9fa72c",
   "execution_count": 11
  },
  {
   "cell_type": "code",
   "outputs": [],
   "source": [
    "collection = client.get_collection(\"roget\")"
   ],
   "metadata": {
    "collapsed": false,
    "ExecuteTime": {
     "end_time": "2024-02-11T12:33:47.208199500Z",
     "start_time": "2024-02-11T12:33:47.203227300Z"
    }
   },
   "id": "af2d21697ac89f41",
   "execution_count": 12
  },
  {
   "cell_type": "code",
   "outputs": [
    {
     "data": {
      "text/plain": "[1.5556493997573853,\n -6.121205806732178,\n -4.492718696594238,\n -1.9262503385543823,\n 3.8164706230163574,\n -3.4083504676818848,\n -6.770772457122803,\n 2.8680295944213867,\n -2.505934000015259,\n -5.644752025604248,\n -4.503164291381836,\n -0.23170815408229828,\n 1.1763440370559692,\n -1.2599910497665405,\n 7.68607234954834,\n -0.6492279171943665,\n 1.2238367795944214,\n 2.6116995811462402,\n 1.559502363204956,\n -9.220084190368652,\n 0.31469640135765076,\n -1.2364697456359863,\n 2.5014407634735107,\n 9.670278549194336,\n -8.22414493560791,\n -5.686959743499756,\n -5.997664928436279,\n 4.868986129760742,\n 1.4868706464767456,\n 5.473894119262695,\n -4.155873775482178,\n 0.8587428331375122,\n 2.3624417781829834,\n -4.776278495788574,\n 6.086277484893799,\n 1.559440016746521,\n -3.534364938735962,\n 0.6194186806678772,\n -8.33431339263916,\n 5.044794082641602,\n 6.818313121795654,\n 7.956183910369873,\n 1.9498677253723145,\n 1.3656634092330933,\n 3.4030094146728516,\n 6.736318588256836,\n 1.99083411693573,\n 1.7895605564117432,\n -4.881857872009277,\n 3.219580888748169,\n 1.4089115858078003,\n 3.323194742202759,\n -0.7014869451522827,\n -59.311458587646484,\n 1.2036285400390625,\n 10.754049301147461,\n -1.1801326274871826,\n 3.3198602199554443,\n -10.270635604858398,\n -7.46755313873291,\n 2.1341915130615234,\n 2.820462703704834,\n -0.9041896462440491,\n -0.1968737244606018,\n 6.014354705810547,\n 0.3786083161830902,\n -5.254292964935303,\n -2.678617238998413,\n 1.4531282186508179,\n -1.572437047958374,\n -0.6359992623329163,\n -0.6874154210090637,\n -4.3875651359558105,\n -9.272918701171875,\n -3.4360997676849365,\n -0.576951801776886,\n 2.9555504322052,\n 0.7117647528648376,\n 6.47160005569458,\n -5.892716884613037,\n -5.5384416580200195,\n -2.555556058883667,\n 3.0616652965545654,\n 1.1350266933441162,\n 4.743995189666748,\n -15.324345588684082,\n -0.4159749150276184,\n -3.5327248573303223,\n 0.32587483525276184,\n 0.22630813717842102,\n 8.293601989746094,\n 2.008171558380127,\n -0.41092202067375183,\n 4.269071578979492,\n -2.1701290607452393,\n -0.0623491108417511,\n 3.5555505752563477,\n 1.2392827272415161,\n -12.044683456420898,\n -1.7081807851791382,\n -0.3099725842475891,\n -0.4750165641307831,\n -1.4678356647491455,\n 5.66188383102417,\n 2.329280376434326,\n 0.4042477607727051,\n 6.288473129272461,\n 5.316834449768066,\n 0.851170003414154,\n 2.924741268157959,\n 2.4715216159820557,\n -0.9334278106689453,\n 3.8654441833496094,\n -0.10385175049304962,\n 0.713817298412323,\n 3.846670150756836,\n 2.5774056911468506,\n 4.090699195861816,\n -0.39959484338760376,\n -9.297739028930664,\n 6.271508693695068,\n 6.001091003417969,\n -1.3599127531051636,\n -8.64763355255127,\n -2.0006353855133057,\n -1.3466261625289917,\n -7.962028980255127,\n -4.2717461585998535,\n 0.5075263977050781,\n -7.648837089538574,\n 0.6604050993919373,\n 7.308309555053711,\n 3.4920172691345215,\n -0.07152606546878815,\n -3.0121827125549316,\n 5.021796226501465,\n -5.14889669418335,\n 1.701670527458191,\n 1.7733200788497925,\n 3.0063695907592773,\n 3.9659335613250732,\n 5.131624698638916,\n 6.189115047454834,\n 2.930330276489258,\n 3.753641128540039,\n -1.7633665800094604,\n 2.1621968746185303,\n -8.197310447692871,\n -1.0658656358718872,\n -1.9589170217514038,\n -3.8675379753112793,\n 2.7572224140167236,\n -1.4518301486968994,\n 4.369302749633789,\n -3.0348708629608154,\n 6.1996941566467285,\n 3.139509677886963,\n 1.0508699417114258,\n 3.1407008171081543,\n 2.609903335571289,\n -0.21691428124904633,\n -0.8137742280960083,\n 5.392578125,\n 0.9907281994819641,\n 2.2402360439300537,\n 1.7905446290969849,\n -3.6851491928100586,\n 2.354088544845581,\n 0.07649939507246017,\n -3.849520444869995,\n 4.326613903045654,\n -0.3099534213542938,\n -0.797982931137085,\n -0.9984273910522461,\n 2.686688184738159,\n 6.771945953369141,\n -0.07550303637981415,\n -1.5390818119049072,\n 4.239686489105225,\n -4.30001974105835,\n 7.0583882331848145,\n 1.7226399183273315,\n -2.2585997581481934,\n 1.2554168701171875,\n -0.1749015897512436,\n -0.624674379825592,\n -1.4051179885864258,\n -0.9812111258506775,\n -2.813960552215576,\n 3.225430965423584,\n -0.3886888921260834,\n -3.3497090339660645,\n -4.274161338806152,\n -0.698563814163208,\n 2.0600688457489014,\n 6.493447780609131,\n -4.879302978515625,\n -1.92642343044281,\n 0.9574025869369507,\n -0.6970824599266052,\n 6.4583420753479,\n -6.309875011444092,\n -5.444240570068359,\n -0.3963516354560852,\n 8.121624946594238,\n 5.204123020172119,\n 5.939852714538574,\n 1.6141735315322876,\n -7.034731388092041,\n 0.10943024605512619,\n -1.2993718385696411,\n 2.7447938919067383,\n -3.940981149673462,\n -1.7923122644424438,\n 10.254050254821777,\n 4.085346698760986,\n -0.6608626246452332,\n -7.998002529144287,\n 19.396799087524414,\n 4.512360572814941,\n -2.498723268508911,\n 5.882835388183594,\n 1.8078919649124146,\n 7.891870975494385,\n -2.9831316471099854,\n 3.676862955093384,\n -4.848633289337158,\n -3.4074766635894775,\n -2.407378673553467,\n -10.020880699157715,\n -0.5324239134788513,\n -0.06557168811559677,\n -2.1135551929473877,\n -1.6066439151763916,\n -3.4850881099700928,\n -0.53141850233078,\n -3.7354907989501953,\n 3.488043785095215,\n -4.209169864654541,\n -1.2277153730392456,\n 8.747992515563965,\n -8.865655899047852,\n -1.5224586725234985,\n -1.8436657190322876,\n 1.6554386615753174,\n -6.206825256347656,\n 5.662282466888428,\n 4.699121475219727,\n -7.782871723175049,\n -5.404187202453613,\n 0.9858232736587524,\n -7.802972316741943,\n -3.18654465675354,\n 0.9797952175140381,\n 0.03815245255827904,\n 0.8563507199287415,\n -1.0102415084838867,\n -0.21867795288562775,\n -1.075770616531372,\n 2.745727777481079,\n -5.820879936218262,\n 8.311665534973145,\n -2.0572104454040527,\n -0.6415890455245972,\n 3.7459583282470703,\n -8.540406227111816,\n -3.335965633392334,\n 5.7265214920043945,\n 9.196967124938965,\n -0.8838919401168823,\n -6.227267265319824,\n 7.8209228515625,\n 3.241436004638672,\n 3.4365696907043457,\n 1.9616354703903198,\n -16.053314208984375,\n 4.8049397468566895,\n -0.7530073523521423,\n 2.1155478954315186,\n -11.541922569274902,\n 2.9169998168945312,\n -4.6500935554504395,\n 2.8874287605285645,\n -8.424654006958008,\n 0.16413326561450958,\n -5.691980838775635,\n 1.0641244649887085,\n 8.869969367980957,\n -2.214730739593506,\n 2.544891834259033,\n 7.9720659255981445,\n 1.2181024551391602,\n -0.616757869720459,\n -3.1581943035125732,\n -7.2826642990112305,\n 1.1665806770324707,\n 0.554284930229187,\n -10.336384773254395,\n 0.942471444606781,\n -1.340653657913208,\n -5.66708517074585,\n -1.2866300344467163,\n -3.1243388652801514,\n 2.786865472793579,\n 8.850115776062012,\n -4.733631610870361,\n -0.4598170518875122,\n -0.3031246066093445,\n -5.753255844116211,\n -4.095840930938721,\n -1.9975605010986328,\n -6.816928386688232,\n -3.0870397090911865,\n -4.470040321350098,\n 7.863053798675537,\n -0.09507708996534348,\n 1.0194685459136963,\n -4.7945942878723145,\n -5.928037166595459,\n 2.613328218460083,\n 0.417402058839798,\n -9.282569885253906,\n -23.606201171875,\n -3.875638246536255,\n 6.748262882232666,\n 3.505824327468872,\n -7.290729999542236,\n 1.4382295608520508,\n 6.370769500732422,\n 0.9034678936004639,\n -8.271086692810059,\n -4.485004901885986,\n 1.1289527416229248,\n -3.9441540241241455,\n -8.151606559753418,\n -6.407501220703125,\n -10.330822944641113,\n -2.7066903114318848,\n 3.6456716060638428,\n -8.368277549743652,\n 0.9278194904327393,\n -4.2977142333984375,\n 12.734515190124512,\n -4.329282760620117,\n 8.975861549377441,\n 2.592546224594116,\n 0.8057679533958435,\n 0.6172738671302795,\n -1.5696574449539185,\n 3.6708524227142334,\n -1.8249328136444092,\n 1.8169629573822021,\n 4.058295726776123,\n 6.218519687652588,\n -0.47414472699165344,\n -4.79022741317749,\n 10.163785934448242,\n -1.017950415611267,\n -1.1591280698776245,\n -7.133518218994141,\n -1.5682464838027954,\n 3.2323012351989746,\n -0.42872411012649536,\n 3.674246072769165,\n -0.2958436906337738,\n -10.40364933013916,\n 1.59536612033844,\n 3.966062545776367,\n -2.0463454723358154,\n -2.998939275741577,\n 0.6377808451652527,\n -8.50715160369873,\n 1.233347773551941,\n -1.6852519512176514,\n -3.8308167457580566,\n 0.8518863916397095,\n -4.607678413391113,\n -0.6011695861816406,\n -1.174943208694458,\n -6.460616111755371,\n -3.14174485206604,\n 6.710910320281982,\n 3.4428975582122803,\n -5.136478424072266,\n -4.810215473175049,\n 1.2345335483551025,\n 1.960742473602295,\n -5.141456127166748,\n -6.6603899002075195,\n 0.09113827347755432,\n -0.948559582233429,\n -2.1024832725524902,\n -0.3546545207500458,\n -2.263019323348999,\n -5.308544158935547,\n -3.4115772247314453,\n 3.7520217895507812,\n 2.287900924682617,\n -3.4191997051239014,\n 3.7172954082489014,\n -0.4294380843639374,\n -1.5667718648910522,\n 5.824317932128906,\n -9.352071762084961,\n 0.1717701405286789,\n -3.112840414047241,\n -2.3242745399475098,\n -3.218310594558716,\n -1.3941056728363037,\n -3.326500654220581,\n -0.635403573513031,\n 0.24848422408103943,\n 3.5348093509674072,\n 4.986845970153809,\n -11.264199256896973,\n 0.9342945218086243,\n 0.408514142036438,\n -6.491851806640625,\n 4.617988109588623,\n 2.0374438762664795,\n -0.8583387136459351,\n -2.7406368255615234,\n -1.139931082725525,\n 0.6475288271903992,\n -4.618805885314941,\n -6.747981071472168,\n 5.103682518005371,\n -8.062633514404297,\n 3.963444471359253,\n -9.965310096740723,\n 6.979628086090088,\n 4.648136138916016,\n -7.309996128082275,\n 5.929788112640381,\n -5.3469696044921875,\n -2.8946099281311035,\n -1.614719271659851,\n 0.2674732804298401,\n -0.23432083427906036,\n 2.586212396621704,\n -13.384540557861328,\n 4.425782203674316,\n -3.4722187519073486,\n -1.2000722885131836,\n 7.571910381317139,\n -1.3317769765853882,\n -0.34843698143959045,\n 1.3914673328399658,\n 1.1106034517288208,\n 5.872058391571045,\n 0.9364064335823059,\n 1.8449429273605347,\n 1.2583178281784058,\n 0.5536529421806335,\n 0.279818594455719,\n -3.231142520904541,\n 1.1648731231689453,\n 4.739810466766357,\n -3.9974722862243652,\n 5.504003047943115,\n -2.737384080886841,\n -6.6400017738342285,\n -0.8898045420646667,\n 1.7627571821212769,\n -6.988842010498047,\n 1.6754047870635986,\n 0.2760850787162781,\n -4.051314353942871,\n 6.35571813583374,\n -8.833061218261719,\n -1.4226359128952026,\n -1.073662281036377,\n 4.512015342712402,\n 2.2067487239837646,\n -0.24570581316947937,\n 0.3669695258140564,\n -3.0364696979522705,\n 6.424952030181885,\n 6.443084716796875,\n -5.194747447967529,\n 2.523149251937866,\n -4.795767307281494,\n 1.3617864847183228,\n 0.5246543288230896,\n -7.613126754760742,\n 1.293944001197815,\n 1.8542425632476807,\n 9.21181869506836,\n -5.982048511505127,\n 1.156530499458313,\n -3.678140163421631,\n -1.8150020837783813,\n -0.18910418450832367,\n -1.6720231771469116,\n 0.31983959674835205,\n 2.23862361907959,\n -1.8464149236679077,\n 0.04546383395791054,\n -6.135683059692383,\n -0.6444354057312012,\n -0.23109017312526703,\n -2.962597370147705,\n -2.395277738571167,\n 8.485706329345703,\n -5.676022529602051,\n -9.631088256835938,\n -3.263284921646118,\n 0.6360558271408081,\n -4.049283027648926,\n -2.3911447525024414,\n 0.9497917890548706,\n -6.299124717712402,\n -3.579096794128418,\n -1.7281262874603271,\n 0.6164358258247375,\n -3.55131196975708,\n -3.904397964477539,\n 1.9561338424682617,\n 0.37553879618644714,\n -3.1100051403045654,\n -4.766537189483643,\n -3.3238840103149414,\n -2.5313682556152344,\n -4.4561448097229,\n -8.653341293334961,\n 2.551001787185669,\n -1.9443013668060303,\n -6.858623504638672,\n 0.09926111996173859,\n 3.086533784866333,\n -0.5007566809654236,\n -2.516679286956787,\n -2.022030830383301,\n -3.9138050079345703,\n 5.182907581329346,\n 5.031571388244629,\n 2.3474087715148926,\n 0.26262426376342773,\n 7.322749614715576,\n -5.615756511688232,\n 6.4021806716918945,\n 2.623441696166992,\n -6.302289009094238,\n -2.9433517456054688,\n 1.2328304052352905,\n -6.573329448699951,\n 3.0314524173736572,\n -2.367910861968994,\n -4.278146266937256,\n -0.47142457962036133,\n 0.8351558446884155,\n -2.350158214569092,\n -30.522592544555664,\n -10.409361839294434,\n -1.8661824464797974,\n 0.20369161665439606,\n -5.569533348083496,\n -1.8856658935546875,\n 4.67910099029541,\n 0.6206809282302856,\n -1.8256877660751343,\n -2.157757520675659,\n -6.9771318435668945,\n 0.20994555950164795,\n 3.688826560974121,\n 1.353537678718567,\n -2.0359644889831543,\n 2.0703699588775635,\n 7.949366092681885,\n -0.26773911714553833,\n 1.7760976552963257,\n 5.038445949554443,\n -0.10487396270036697,\n -2.174797534942627,\n -0.686911940574646,\n -4.599111080169678,\n -2.6971492767333984,\n 2.009692668914795,\n 8.742559432983398,\n 4.062188148498535,\n 0.3101402819156647,\n 4.537012100219727,\n -2.165543556213379,\n 5.0749640464782715,\n -2.8432068824768066,\n -7.201887607574463,\n -0.42777422070503235,\n 7.44192361831665,\n 2.0205962657928467,\n -2.164731502532959,\n -5.983982563018799,\n -0.5772334337234497,\n -0.7276917099952698,\n 0.34111925959587097,\n 1.800700068473816,\n 1.9950963258743286,\n -1.473236083984375,\n 7.473215579986572,\n -0.4397595226764679,\n 8.220528602600098,\n -7.972942352294922,\n 6.717828750610352,\n 3.28190016746521,\n 3.8838577270507812,\n 2.7560834884643555,\n 7.017728805541992,\n 0.5166765451431274,\n 0.35550686717033386,\n -4.162717819213867,\n -4.4846696853637695,\n 3.048879623413086,\n -4.09004020690918,\n 2.571650505065918,\n 2.893833637237549,\n 6.254945755004883,\n -5.185306549072266,\n -4.637994766235352,\n -0.6660170555114746,\n 2.2582640647888184,\n 5.618534564971924,\n -0.31011879444122314,\n -4.2808661460876465,\n -4.289484977722168,\n -1.242501974105835,\n 2.699951648712158,\n 4.915451526641846,\n 2.7175464630126953,\n -1.7985553741455078,\n -4.9610748291015625,\n -2.4364171028137207,\n -2.5521867275238037,\n 3.355098247528076,\n 4.4536285400390625,\n 0.423575222492218,\n 8.743370056152344,\n 0.16180159151554108,\n -2.130072593688965,\n 2.595945119857788,\n -2.454761266708374,\n -16.968120574951172,\n -9.589367866516113,\n 2.2265067100524902,\n 6.623270034790039,\n 8.795729637145996,\n 2.7404820919036865,\n -0.008171368390321732,\n 0.2470824122428894,\n 5.2810959815979,\n 12.313241958618164,\n 0.9232784509658813,\n 2.6100573539733887,\n 8.342114448547363,\n 3.1481199264526367,\n -3.3464858531951904,\n -0.9183806777000427,\n 0.07705934345722198,\n 0.3706025183200836,\n -0.34092947840690613,\n 8.53753662109375,\n 7.368479251861572,\n -3.8550002574920654,\n -6.298864364624023,\n 21.662593841552734,\n 0.8277223110198975,\n 6.2192463874816895,\n 0.6162051558494568,\n -12.411001205444336,\n 7.080284118652344,\n 3.925658941268921,\n -5.162787437438965,\n -9.658446311950684,\n 5.688891887664795,\n 1.8825159072875977,\n 2.3463516235351562,\n -8.316720962524414,\n -2.5578527450561523,\n -2.0290043354034424,\n 3.3508007526397705,\n -1.1415221691131592,\n 11.044800758361816,\n 1.3844774961471558,\n 4.924160480499268,\n 3.8832526206970215,\n 2.7172820568084717,\n 9.22520923614502,\n -1.7015658617019653,\n 3.781541585922241,\n -2.1645476818084717,\n -3.9477338790893555,\n 7.159775257110596,\n 7.547748565673828,\n 2.478114604949951,\n 7.1928815841674805,\n -4.330053329467773,\n -3.6673271656036377,\n 1.456563949584961,\n 2.146242618560791,\n -2.952415704727173,\n 8.19251823425293,\n 0.2774198353290558,\n 6.682041168212891,\n 1.3108350038528442,\n 0.7793816924095154,\n -2.7135510444641113,\n 13.840336799621582,\n 37.95454025268555,\n -0.9869270920753479,\n 6.0363640785217285,\n -4.9274725914001465,\n -2.5447936058044434,\n -3.2262678146362305,\n -7.771841049194336,\n 6.079369068145752,\n 2.438568592071533,\n -0.4594076871871948,\n -1.3148001432418823,\n 1.7198786735534668,\n -7.008623123168945,\n 9.131163597106934,\n -2.474519968032837,\n 8.296149253845215,\n 0.9989771246910095,\n 2.9775187969207764,\n 0.5648255348205566,\n -5.584057331085205,\n -8.027373313903809,\n 9.074624061584473,\n -2.676652669906616,\n -0.8863466382026672,\n 0.9513371586799622,\n -4.017008304595947,\n -1.8319618701934814,\n -11.405317306518555,\n -5.167686462402344,\n 1.4111744165420532,\n -12.327187538146973,\n 2.1232428550720215,\n 1.3307667970657349,\n -1.4701533317565918,\n -6.825689792633057,\n -4.907913684844971,\n -0.29203000664711,\n 0.4086911082267761,\n -9.318613052368164,\n 0.44514012336730957,\n 1.5468554496765137,\n -3.4842095375061035,\n 0.015845229849219322,\n 5.984393119812012,\n 5.482720851898193,\n 1.6893041133880615,\n 0.0651341900229454,\n -4.080458641052246,\n 2.8771066665649414,\n 3.1489014625549316,\n -4.035632610321045,\n -0.5091612339019775,\n -5.734796047210693,\n -0.8904597163200378,\n 2.730163097381592,\n -5.6855950355529785,\n -0.6953169107437134,\n -3.5262835025787354,\n -3.81119704246521,\n 12.399925231933594,\n -7.463199615478516,\n 6.245126724243164,\n -0.004562563728541136,\n -2.0377860069274902,\n -5.035808086395264,\n 0.960915207862854,\n -2.3266708850860596,\n -1.7836936712265015,\n 3.208859920501709,\n 2.8831722736358643,\n 4.104910373687744,\n 0.07340094447135925,\n -1.0244944095611572,\n -1.8966882228851318,\n -5.843569278717041,\n 4.178696632385254,\n -5.614488124847412,\n -8.007607460021973,\n -0.3279520571231842,\n -9.538161277770996,\n 11.886375427246094,\n -3.1991825103759766,\n -0.34898048639297485,\n 4.418812274932861,\n 2.402883291244507,\n 7.019578456878662,\n -12.45190715789795,\n -0.3037152886390686,\n -0.6297872066497803,\n -7.05473518371582,\n 4.385448455810547,\n 5.406129360198975,\n -3.475376605987549,\n -5.928943157196045,\n -2.094316244125366,\n -0.4718915820121765,\n -4.286278247833252,\n 0.944604218006134,\n 1.4800944328308105,\n -1.3402612209320068,\n -2.9180121421813965,\n 4.020296573638916,\n 1.3561675548553467,\n -2.6889803409576416,\n -4.592253684997559,\n 8.583121299743652,\n 1.6306449174880981,\n -3.3103549480438232,\n -1.1666111946105957,\n 2.8367831707000732,\n 0.9709641933441162,\n 4.490636825561523,\n 7.732720375061035,\n 7.840907573699951,\n 0.8951590657234192,\n -5.686635971069336,\n -2.806431293487549,\n 1.4858518838882446,\n -1.345363736152649,\n 1.946406364440918,\n 1.582556128501892,\n -10.06965160369873,\n 0.5219681859016418,\n 7.175256729125977,\n 4.300147533416748,\n -0.37789878249168396,\n -2.3420355319976807,\n -1.6366022825241089,\n -3.433668851852417,\n -1.498254418373108,\n -26.394712448120117,\n -3.755565643310547,\n -5.5376787185668945,\n 5.173777103424072,\n 4.181203842163086,\n -5.32465124130249,\n -0.6965003609657288,\n 0.723305344581604,\n -1.080267071723938,\n 3.047025442123413,\n -5.894073486328125,\n -4.705808639526367,\n 1.2295924425125122,\n 7.3420257568359375,\n -4.058060646057129,\n 10.200976371765137,\n 0.848247230052948,\n 2.322594404220581,\n 7.417933464050293,\n 4.852994918823242,\n 5.259708404541016,\n -3.123415231704712,\n -5.492960453033447,\n -4.954940319061279,\n -0.436636745929718,\n -0.15947340428829193,\n -3.449005365371704,\n 4.000400066375732,\n -6.376118183135986,\n -2.3138067722320557,\n -3.910078763961792,\n -2.36013126373291,\n 6.456405162811279,\n -2.341360092163086,\n -7.435694694519043,\n -5.59130859375,\n -2.3284807205200195,\n 0.5573446750640869,\n 6.8018293380737305,\n -4.994105339050293,\n -2.7892231941223145,\n -15.885863304138184,\n -3.0418450832366943,\n 0.12714794278144836,\n -0.7770476341247559,\n 0.6456686854362488,\n 2.051732063293457,\n -3.4470481872558594,\n 13.18045425415039,\n 1.8002073764801025,\n 5.394270896911621,\n 2.4014976024627686,\n -2.974252462387085,\n 2.3749001026153564,\n 10.278809547424316,\n -8.161372184753418,\n -3.240492105484009,\n -10.114974021911621,\n -6.948432922363281,\n 1.6233434677124023,\n -5.306950092315674,\n -3.268162965774536,\n 3.7788968086242676,\n -1.894537329673767,\n -2.0702598094940186,\n -2.8230834007263184,\n -8.25698184967041,\n 1.6660374402999878,\n -5.166640758514404,\n -10.552055358886719,\n -0.6824485063552856,\n -2.509505033493042,\n -6.027296543121338,\n 7.040914535522461,\n 1.5533137321472168,\n 13.691990852355957,\n -8.881219863891602,\n 3.43466854095459,\n -4.340646266937256,\n -2.327310800552368,\n -5.462650775909424,\n -2.1568315029144287,\n -2.0841240882873535,\n -6.511726379394531,\n 4.449743270874023,\n 2.1533660888671875,\n 1.3626328706741333,\n -3.5188791751861572,\n 0.0004739607684314251,\n 0.6050992012023926,\n 2.6433730125427246,\n -1.0824261903762817,\n 7.517174243927002,\n 1.467549443244934,\n -4.060365200042725,\n 4.597496509552002,\n 9.743680000305176,\n 3.5855069160461426,\n -4.34995698928833,\n -5.400618076324463,\n 1.3979841470718384,\n 6.156630516052246,\n -3.181272506713867,\n -3.484036922454834,\n -4.30983829498291,\n -4.300548076629639,\n -1.8385998010635376,\n -5.814669132232666,\n 2.555976152420044,\n 0.9834722280502319,\n 7.030028343200684,\n 3.126037836074829,\n -8.491730690002441,\n -2.2781310081481934,\n 5.254561901092529,\n -2.8581533432006836,\n -6.426788806915283,\n -4.099151134490967,\n 4.555163383483887,\n 3.3108880519866943,\n 2.814713954925537,\n -4.157132625579834,\n 5.044524192810059,\n -5.5317463874816895,\n 0.45155012607574463,\n -0.33251953125,\n 6.532013893127441,\n 7.222615718841553,\n 6.367890357971191,\n 2.160545587539673,\n 5.031980991363525,\n 6.5427470207214355,\n -10.56247615814209,\n -0.9626352190971375,\n 2.6844561100006104,\n 6.425814151763916,\n 2.247690439224243,\n 2.1584765911102295,\n -5.3292975425720215,\n -2.1075968742370605,\n -11.194814682006836,\n 1.8020761013031006,\n -5.221895217895508,\n 1.3659247159957886,\n 4.614930629730225,\n -15.170744895935059,\n 7.274518966674805,\n 5.823779106140137,\n 7.302254676818848,\n 5.018049716949463,\n -5.107285976409912,\n 7.062658309936523,\n -2.6900570392608643,\n -10.227276802062988,\n 0.3729252815246582,\n 4.603703022003174,\n 1.394409418106079,\n 0.6188749670982361,\n 5.151889801025391,\n -4.038302421569824,\n -2.026362180709839,\n -5.887409687042236,\n -4.25040864944458,\n -4.956958293914795,\n -8.353738784790039,\n ...]"
     },
     "execution_count": 13,
     "metadata": {},
     "output_type": "execute_result"
    }
   ],
   "source": [
    "collection.get(include=[\"embeddings\"])['embeddings'][0]"
   ],
   "metadata": {
    "collapsed": false,
    "ExecuteTime": {
     "end_time": "2024-02-11T12:33:47.528801800Z",
     "start_time": "2024-02-11T12:33:47.439983100Z"
    }
   },
   "id": "f57be9c22fa19a90",
   "execution_count": 13
  },
  {
   "cell_type": "code",
   "outputs": [
    {
     "data": {
      "text/plain": "{'ids': [['e96e7ea7-c8cf-11ee-b0be-bcf4d4820bd6']],\n 'distances': [[0.0]],\n 'metadatas': [[None]],\n 'embeddings': None,\n 'documents': [['Cause']],\n 'uris': None,\n 'data': None}"
     },
     "execution_count": 15,
     "metadata": {},
     "output_type": "execute_result"
    }
   ],
   "source": [
    "collection.query(collection.get(include=[\"embeddings\"])['embeddings'][0], n_results=1)"
   ],
   "metadata": {
    "collapsed": false,
    "ExecuteTime": {
     "end_time": "2024-02-11T12:33:59.833911400Z",
     "start_time": "2024-02-11T12:33:59.688371800Z"
    }
   },
   "id": "32c4eeb5b7e9cd93",
   "execution_count": 15
  },
  {
   "cell_type": "markdown",
   "source": [
    "### Now that we have the embeddings for the words stored in our vector database we can use the `Chroma` class to get the embeddings for the words from the vector database."
   ],
   "metadata": {
    "collapsed": false
   },
   "id": "7d1e0dbea06cc4a7"
  },
  {
   "cell_type": "markdown",
   "source": [
    "## Clustering"
   ],
   "metadata": {
    "collapsed": false
   },
   "id": "349bf8fd5e20cef7"
  },
  {
   "cell_type": "markdown",
   "source": [
    "With the embeddings at hand, you can check whether unsupervised Machine Learning methods can arrive at classifications that are comparable to the Roget's Thesaurus Classification. \n",
    "\n",
    "First, we will use the KMeans algorithm to cluster the words into six clusters (to get the six classes of the Roget's Thesaurus Classification)."
   ],
   "metadata": {
    "collapsed": false
   },
   "id": "e9fa7d12c88ebfe3"
  },
  {
   "cell_type": "code",
   "outputs": [],
   "source": [
    "from sklearn.cluster import KMeans\n",
    "\n",
    "model = KMeans(n_clusters=6, random_state=42, n_init='auto', max_iter=1000)"
   ],
   "metadata": {
    "collapsed": false,
    "ExecuteTime": {
     "end_time": "2024-02-11T13:30:07.850669100Z",
     "start_time": "2024-02-11T13:30:07.822158800Z"
    }
   },
   "id": "f3b50d2545b3cc99",
   "execution_count": 44
  },
  {
   "cell_type": "markdown",
   "source": [
    "Let's now create a dataframe with the embeddings and the words"
   ],
   "metadata": {
    "collapsed": false
   },
   "id": "943a063f250d0704"
  },
  {
   "cell_type": "code",
   "outputs": [],
   "source": [
    "df = pd.DataFrame({'embedding': vector_db.get(include=[\"embeddings\"])['embeddings']})\n",
    "df['word'] = df['embedding'].apply(lambda x: collection.query(x , n_results=1)['documents'][0][0])"
   ],
   "metadata": {
    "collapsed": false,
    "ExecuteTime": {
     "end_time": "2024-02-11T13:31:46.144731Z",
     "start_time": "2024-02-11T13:31:42.387323400Z"
    }
   },
   "id": "53cf103e792546f6",
   "execution_count": 56
  },
  {
   "cell_type": "code",
   "outputs": [],
   "source": [
    "# Make the words as index of the dataframe to prepare for the clustering\n",
    "df.set_index('word', inplace=True)"
   ],
   "metadata": {
    "collapsed": false,
    "ExecuteTime": {
     "end_time": "2024-02-11T13:31:46.645436Z",
     "start_time": "2024-02-11T13:31:46.620727700Z"
    }
   },
   "id": "21bc965d628c195b",
   "execution_count": 57
  },
  {
   "cell_type": "markdown",
   "source": [
    "We can see that the words are now the index of the dataframe"
   ],
   "metadata": {
    "collapsed": false
   },
   "id": "72312360e5021c1d"
  },
  {
   "cell_type": "code",
   "outputs": [
    {
     "data": {
      "text/plain": "                                                     embedding\nword                                                          \nCause        [1.5556493997573853, -6.121205806732178, -4.49...\nEffect       [8.96782398223877, 2.126828193664551, -2.70874...\nAttribution  [0.257324755191803, 7.443014144897461, -10.725...\nChance       [1.7602263689041138, 2.917849063873291, -4.229...\nInutility    [-0.8657410144805908, -2.8984415531158447, 1.4...\n...                                                        ...\nLiberality   [1.043811559677124, 0.5305129885673523, -1.044...\nEconomy      [0.677468478679657, -2.615168571472168, -6.307...\nGreed        [2.1955037117004395, -6.038029670715332, -8.91...\nProdigality  [7.0008625984191895, -3.664126396179199, -6.40...\nParsimony    [-4.209769248962402, -1.4479048252105713, -12....\n\n[1044 rows x 1 columns]",
      "text/html": "<div>\n<style scoped>\n    .dataframe tbody tr th:only-of-type {\n        vertical-align: middle;\n    }\n\n    .dataframe tbody tr th {\n        vertical-align: top;\n    }\n\n    .dataframe thead th {\n        text-align: right;\n    }\n</style>\n<table border=\"1\" class=\"dataframe\">\n  <thead>\n    <tr style=\"text-align: right;\">\n      <th></th>\n      <th>embedding</th>\n    </tr>\n    <tr>\n      <th>word</th>\n      <th></th>\n    </tr>\n  </thead>\n  <tbody>\n    <tr>\n      <th>Cause</th>\n      <td>[1.5556493997573853, -6.121205806732178, -4.49...</td>\n    </tr>\n    <tr>\n      <th>Effect</th>\n      <td>[8.96782398223877, 2.126828193664551, -2.70874...</td>\n    </tr>\n    <tr>\n      <th>Attribution</th>\n      <td>[0.257324755191803, 7.443014144897461, -10.725...</td>\n    </tr>\n    <tr>\n      <th>Chance</th>\n      <td>[1.7602263689041138, 2.917849063873291, -4.229...</td>\n    </tr>\n    <tr>\n      <th>Inutility</th>\n      <td>[-0.8657410144805908, -2.8984415531158447, 1.4...</td>\n    </tr>\n    <tr>\n      <th>...</th>\n      <td>...</td>\n    </tr>\n    <tr>\n      <th>Liberality</th>\n      <td>[1.043811559677124, 0.5305129885673523, -1.044...</td>\n    </tr>\n    <tr>\n      <th>Economy</th>\n      <td>[0.677468478679657, -2.615168571472168, -6.307...</td>\n    </tr>\n    <tr>\n      <th>Greed</th>\n      <td>[2.1955037117004395, -6.038029670715332, -8.91...</td>\n    </tr>\n    <tr>\n      <th>Prodigality</th>\n      <td>[7.0008625984191895, -3.664126396179199, -6.40...</td>\n    </tr>\n    <tr>\n      <th>Parsimony</th>\n      <td>[-4.209769248962402, -1.4479048252105713, -12....</td>\n    </tr>\n  </tbody>\n</table>\n<p>1044 rows × 1 columns</p>\n</div>"
     },
     "execution_count": 58,
     "metadata": {},
     "output_type": "execute_result"
    }
   ],
   "source": [
    "df"
   ],
   "metadata": {
    "collapsed": false,
    "ExecuteTime": {
     "end_time": "2024-02-11T13:31:47.673020500Z",
     "start_time": "2024-02-11T13:31:47.659811100Z"
    }
   },
   "id": "4d71d458fd2a340e",
   "execution_count": 58
  },
  {
   "cell_type": "markdown",
   "source": [
    "Now we can fit the model to the embeddings"
   ],
   "metadata": {
    "collapsed": false
   },
   "id": "bc9f09984d51d33f"
  },
  {
   "cell_type": "code",
   "outputs": [
    {
     "data": {
      "text/plain": "KMeans(max_iter=1000, n_clusters=6, n_init='auto', random_state=42)",
      "text/html": "<style>#sk-container-id-4 {color: black;}#sk-container-id-4 pre{padding: 0;}#sk-container-id-4 div.sk-toggleable {background-color: white;}#sk-container-id-4 label.sk-toggleable__label {cursor: pointer;display: block;width: 100%;margin-bottom: 0;padding: 0.3em;box-sizing: border-box;text-align: center;}#sk-container-id-4 label.sk-toggleable__label-arrow:before {content: \"▸\";float: left;margin-right: 0.25em;color: #696969;}#sk-container-id-4 label.sk-toggleable__label-arrow:hover:before {color: black;}#sk-container-id-4 div.sk-estimator:hover label.sk-toggleable__label-arrow:before {color: black;}#sk-container-id-4 div.sk-toggleable__content {max-height: 0;max-width: 0;overflow: hidden;text-align: left;background-color: #f0f8ff;}#sk-container-id-4 div.sk-toggleable__content pre {margin: 0.2em;color: black;border-radius: 0.25em;background-color: #f0f8ff;}#sk-container-id-4 input.sk-toggleable__control:checked~div.sk-toggleable__content {max-height: 200px;max-width: 100%;overflow: auto;}#sk-container-id-4 input.sk-toggleable__control:checked~label.sk-toggleable__label-arrow:before {content: \"▾\";}#sk-container-id-4 div.sk-estimator input.sk-toggleable__control:checked~label.sk-toggleable__label {background-color: #d4ebff;}#sk-container-id-4 div.sk-label input.sk-toggleable__control:checked~label.sk-toggleable__label {background-color: #d4ebff;}#sk-container-id-4 input.sk-hidden--visually {border: 0;clip: rect(1px 1px 1px 1px);clip: rect(1px, 1px, 1px, 1px);height: 1px;margin: -1px;overflow: hidden;padding: 0;position: absolute;width: 1px;}#sk-container-id-4 div.sk-estimator {font-family: monospace;background-color: #f0f8ff;border: 1px dotted black;border-radius: 0.25em;box-sizing: border-box;margin-bottom: 0.5em;}#sk-container-id-4 div.sk-estimator:hover {background-color: #d4ebff;}#sk-container-id-4 div.sk-parallel-item::after {content: \"\";width: 100%;border-bottom: 1px solid gray;flex-grow: 1;}#sk-container-id-4 div.sk-label:hover label.sk-toggleable__label {background-color: #d4ebff;}#sk-container-id-4 div.sk-serial::before {content: \"\";position: absolute;border-left: 1px solid gray;box-sizing: border-box;top: 0;bottom: 0;left: 50%;z-index: 0;}#sk-container-id-4 div.sk-serial {display: flex;flex-direction: column;align-items: center;background-color: white;padding-right: 0.2em;padding-left: 0.2em;position: relative;}#sk-container-id-4 div.sk-item {position: relative;z-index: 1;}#sk-container-id-4 div.sk-parallel {display: flex;align-items: stretch;justify-content: center;background-color: white;position: relative;}#sk-container-id-4 div.sk-item::before, #sk-container-id-4 div.sk-parallel-item::before {content: \"\";position: absolute;border-left: 1px solid gray;box-sizing: border-box;top: 0;bottom: 0;left: 50%;z-index: -1;}#sk-container-id-4 div.sk-parallel-item {display: flex;flex-direction: column;z-index: 1;position: relative;background-color: white;}#sk-container-id-4 div.sk-parallel-item:first-child::after {align-self: flex-end;width: 50%;}#sk-container-id-4 div.sk-parallel-item:last-child::after {align-self: flex-start;width: 50%;}#sk-container-id-4 div.sk-parallel-item:only-child::after {width: 0;}#sk-container-id-4 div.sk-dashed-wrapped {border: 1px dashed gray;margin: 0 0.4em 0.5em 0.4em;box-sizing: border-box;padding-bottom: 0.4em;background-color: white;}#sk-container-id-4 div.sk-label label {font-family: monospace;font-weight: bold;display: inline-block;line-height: 1.2em;}#sk-container-id-4 div.sk-label-container {text-align: center;}#sk-container-id-4 div.sk-container {/* jupyter's `normalize.less` sets `[hidden] { display: none; }` but bootstrap.min.css set `[hidden] { display: none !important; }` so we also need the `!important` here to be able to override the default hidden behavior on the sphinx rendered scikit-learn.org. See: https://github.com/scikit-learn/scikit-learn/issues/21755 */display: inline-block !important;position: relative;}#sk-container-id-4 div.sk-text-repr-fallback {display: none;}</style><div id=\"sk-container-id-4\" class=\"sk-top-container\"><div class=\"sk-text-repr-fallback\"><pre>KMeans(max_iter=1000, n_clusters=6, n_init=&#x27;auto&#x27;, random_state=42)</pre><b>In a Jupyter environment, please rerun this cell to show the HTML representation or trust the notebook. <br />On GitHub, the HTML representation is unable to render, please try loading this page with nbviewer.org.</b></div><div class=\"sk-container\" hidden><div class=\"sk-item\"><div class=\"sk-estimator sk-toggleable\"><input class=\"sk-toggleable__control sk-hidden--visually\" id=\"sk-estimator-id-4\" type=\"checkbox\" checked><label for=\"sk-estimator-id-4\" class=\"sk-toggleable__label sk-toggleable__label-arrow\">KMeans</label><div class=\"sk-toggleable__content\"><pre>KMeans(max_iter=1000, n_clusters=6, n_init=&#x27;auto&#x27;, random_state=42)</pre></div></div></div></div></div>"
     },
     "execution_count": 59,
     "metadata": {},
     "output_type": "execute_result"
    }
   ],
   "source": [
    "model.fit(df['embedding'].to_list())"
   ],
   "metadata": {
    "collapsed": false,
    "ExecuteTime": {
     "end_time": "2024-02-11T13:31:49.313974600Z",
     "start_time": "2024-02-11T13:31:49.049803200Z"
    }
   },
   "id": "34c8cae5bfecbcbf",
   "execution_count": 59
  },
  {
   "cell_type": "markdown",
   "source": [
    "We can now get the cluster centers"
   ],
   "metadata": {
    "collapsed": false
   },
   "id": "1a71e2f78afc28b8"
  },
  {
   "cell_type": "code",
   "outputs": [
    {
     "data": {
      "text/plain": "[['Inutility',\n  'Inorganization',\n  'Counteraction',\n  'Undueness',\n  'Lowness',\n  'Misteaching',\n  'Recorder',\n  'Obliteration',\n  'Inexpectation',\n  'Posteriority'],\n ['Dimsightedness',\n  'Inodorousness',\n  'Unsavoriness',\n  'Fastidiousness',\n  'Inexpedience',\n  'Incogitancy',\n  'Unproductiveness',\n  'Artlessness',\n  'Unmeaningness',\n  'Unsubstantiality'],\n ['Inexpectation',\n  'Lowness',\n  'Undueness',\n  'Inorganization',\n  'Lenity',\n  'Inutility',\n  'Irrelation',\n  'Salubrity',\n  'Aphony',\n  'Obliteration'],\n ['Obliteration',\n  'Counteraction',\n  'Inorganization',\n  'Undueness',\n  'Inutility',\n  'Multiformity',\n  'Exteriority',\n  'Unsubstantiality',\n  'Misnomer',\n  'Transientness'],\n ['Inutility',\n  'Counteraction',\n  'Deviation',\n  'Infrequency',\n  'Shortcoming',\n  'Arrangement',\n  'Posteriority',\n  'Unimportance',\n  'Difference',\n  'Comparison'],\n ['Multiformity',\n  'Exteriority',\n  'Extrinsicality',\n  'Extraneousness',\n  'Unsubstantiality',\n  'Changeableness',\n  'Instantaneity',\n  'Intrinsicality',\n  'Transientness',\n  'Immateriality']]"
     },
     "execution_count": 60,
     "metadata": {},
     "output_type": "execute_result"
    }
   ],
   "source": [
    "collection.query(model.cluster_centers_)['documents']"
   ],
   "metadata": {
    "collapsed": false,
    "ExecuteTime": {
     "end_time": "2024-02-11T13:31:50.131137800Z",
     "start_time": "2024-02-11T13:31:50.084137100Z"
    }
   },
   "id": "9fc72efd25797891",
   "execution_count": 60
  },
  {
   "cell_type": "markdown",
   "source": [
    "Let us now procceed to add the clusters to the dataframe and draw categories for each cluster"
   ],
   "metadata": {
    "collapsed": false
   },
   "id": "14ffd9e1a834492f"
  },
  {
   "cell_type": "code",
   "outputs": [],
   "source": [
    "df['cluster'] = model.labels_"
   ],
   "metadata": {
    "collapsed": false,
    "ExecuteTime": {
     "end_time": "2024-02-11T13:32:04.584590700Z",
     "start_time": "2024-02-11T13:32:04.574082Z"
    }
   },
   "id": "550dedf6e005ffbb",
   "execution_count": 61
  },
  {
   "cell_type": "code",
   "outputs": [
    {
     "data": {
      "text/plain": "                                                     embedding  cluster\nword                                                                   \nCause        [1.5556493997573853, -6.121205806732178, -4.49...        0\nEffect       [8.96782398223877, 2.126828193664551, -2.70874...        2\nAttribution  [0.257324755191803, 7.443014144897461, -10.725...        4\nChance       [1.7602263689041138, 2.917849063873291, -4.229...        2\nInutility    [-0.8657410144805908, -2.8984415531158447, 1.4...        0\n...                                                        ...      ...\nLiberality   [1.043811559677124, 0.5305129885673523, -1.044...        1\nEconomy      [0.677468478679657, -2.615168571472168, -6.307...        3\nGreed        [2.1955037117004395, -6.038029670715332, -8.91...        1\nProdigality  [7.0008625984191895, -3.664126396179199, -6.40...        1\nParsimony    [-4.209769248962402, -1.4479048252105713, -12....        5\n\n[1044 rows x 2 columns]",
      "text/html": "<div>\n<style scoped>\n    .dataframe tbody tr th:only-of-type {\n        vertical-align: middle;\n    }\n\n    .dataframe tbody tr th {\n        vertical-align: top;\n    }\n\n    .dataframe thead th {\n        text-align: right;\n    }\n</style>\n<table border=\"1\" class=\"dataframe\">\n  <thead>\n    <tr style=\"text-align: right;\">\n      <th></th>\n      <th>embedding</th>\n      <th>cluster</th>\n    </tr>\n    <tr>\n      <th>word</th>\n      <th></th>\n      <th></th>\n    </tr>\n  </thead>\n  <tbody>\n    <tr>\n      <th>Cause</th>\n      <td>[1.5556493997573853, -6.121205806732178, -4.49...</td>\n      <td>0</td>\n    </tr>\n    <tr>\n      <th>Effect</th>\n      <td>[8.96782398223877, 2.126828193664551, -2.70874...</td>\n      <td>2</td>\n    </tr>\n    <tr>\n      <th>Attribution</th>\n      <td>[0.257324755191803, 7.443014144897461, -10.725...</td>\n      <td>4</td>\n    </tr>\n    <tr>\n      <th>Chance</th>\n      <td>[1.7602263689041138, 2.917849063873291, -4.229...</td>\n      <td>2</td>\n    </tr>\n    <tr>\n      <th>Inutility</th>\n      <td>[-0.8657410144805908, -2.8984415531158447, 1.4...</td>\n      <td>0</td>\n    </tr>\n    <tr>\n      <th>...</th>\n      <td>...</td>\n      <td>...</td>\n    </tr>\n    <tr>\n      <th>Liberality</th>\n      <td>[1.043811559677124, 0.5305129885673523, -1.044...</td>\n      <td>1</td>\n    </tr>\n    <tr>\n      <th>Economy</th>\n      <td>[0.677468478679657, -2.615168571472168, -6.307...</td>\n      <td>3</td>\n    </tr>\n    <tr>\n      <th>Greed</th>\n      <td>[2.1955037117004395, -6.038029670715332, -8.91...</td>\n      <td>1</td>\n    </tr>\n    <tr>\n      <th>Prodigality</th>\n      <td>[7.0008625984191895, -3.664126396179199, -6.40...</td>\n      <td>1</td>\n    </tr>\n    <tr>\n      <th>Parsimony</th>\n      <td>[-4.209769248962402, -1.4479048252105713, -12....</td>\n      <td>5</td>\n    </tr>\n  </tbody>\n</table>\n<p>1044 rows × 2 columns</p>\n</div>"
     },
     "execution_count": 67,
     "metadata": {},
     "output_type": "execute_result"
    }
   ],
   "source": [
    "df"
   ],
   "metadata": {
    "collapsed": false,
    "ExecuteTime": {
     "end_time": "2024-02-11T13:41:14.816306800Z",
     "start_time": "2024-02-11T13:41:14.806652200Z"
    }
   },
   "id": "a37ca36d982024cc",
   "execution_count": 67
  },
  {
   "cell_type": "code",
   "outputs": [],
   "source": [
    "# Make the words to be a column\n",
    "df.reset_index(inplace=True)"
   ],
   "metadata": {
    "collapsed": false,
    "ExecuteTime": {
     "end_time": "2024-02-11T13:41:32.759283400Z",
     "start_time": "2024-02-11T13:41:32.732892700Z"
    }
   },
   "id": "c58003be215458e9",
   "execution_count": 68
  },
  {
   "cell_type": "code",
   "outputs": [
    {
     "data": {
      "text/plain": "             word                                          embedding  cluster\n0           Cause  [1.5556493997573853, -6.121205806732178, -4.49...        0\n1          Effect  [8.96782398223877, 2.126828193664551, -2.70874...        2\n2     Attribution  [0.257324755191803, 7.443014144897461, -10.725...        4\n3          Chance  [1.7602263689041138, 2.917849063873291, -4.229...        2\n4       Inutility  [-0.8657410144805908, -2.8984415531158447, 1.4...        0\n...           ...                                                ...      ...\n1039   Liberality  [1.043811559677124, 0.5305129885673523, -1.044...        1\n1040      Economy  [0.677468478679657, -2.615168571472168, -6.307...        3\n1041        Greed  [2.1955037117004395, -6.038029670715332, -8.91...        1\n1042  Prodigality  [7.0008625984191895, -3.664126396179199, -6.40...        1\n1043    Parsimony  [-4.209769248962402, -1.4479048252105713, -12....        5\n\n[1044 rows x 3 columns]",
      "text/html": "<div>\n<style scoped>\n    .dataframe tbody tr th:only-of-type {\n        vertical-align: middle;\n    }\n\n    .dataframe tbody tr th {\n        vertical-align: top;\n    }\n\n    .dataframe thead th {\n        text-align: right;\n    }\n</style>\n<table border=\"1\" class=\"dataframe\">\n  <thead>\n    <tr style=\"text-align: right;\">\n      <th></th>\n      <th>word</th>\n      <th>embedding</th>\n      <th>cluster</th>\n    </tr>\n  </thead>\n  <tbody>\n    <tr>\n      <th>0</th>\n      <td>Cause</td>\n      <td>[1.5556493997573853, -6.121205806732178, -4.49...</td>\n      <td>0</td>\n    </tr>\n    <tr>\n      <th>1</th>\n      <td>Effect</td>\n      <td>[8.96782398223877, 2.126828193664551, -2.70874...</td>\n      <td>2</td>\n    </tr>\n    <tr>\n      <th>2</th>\n      <td>Attribution</td>\n      <td>[0.257324755191803, 7.443014144897461, -10.725...</td>\n      <td>4</td>\n    </tr>\n    <tr>\n      <th>3</th>\n      <td>Chance</td>\n      <td>[1.7602263689041138, 2.917849063873291, -4.229...</td>\n      <td>2</td>\n    </tr>\n    <tr>\n      <th>4</th>\n      <td>Inutility</td>\n      <td>[-0.8657410144805908, -2.8984415531158447, 1.4...</td>\n      <td>0</td>\n    </tr>\n    <tr>\n      <th>...</th>\n      <td>...</td>\n      <td>...</td>\n      <td>...</td>\n    </tr>\n    <tr>\n      <th>1039</th>\n      <td>Liberality</td>\n      <td>[1.043811559677124, 0.5305129885673523, -1.044...</td>\n      <td>1</td>\n    </tr>\n    <tr>\n      <th>1040</th>\n      <td>Economy</td>\n      <td>[0.677468478679657, -2.615168571472168, -6.307...</td>\n      <td>3</td>\n    </tr>\n    <tr>\n      <th>1041</th>\n      <td>Greed</td>\n      <td>[2.1955037117004395, -6.038029670715332, -8.91...</td>\n      <td>1</td>\n    </tr>\n    <tr>\n      <th>1042</th>\n      <td>Prodigality</td>\n      <td>[7.0008625984191895, -3.664126396179199, -6.40...</td>\n      <td>1</td>\n    </tr>\n    <tr>\n      <th>1043</th>\n      <td>Parsimony</td>\n      <td>[-4.209769248962402, -1.4479048252105713, -12....</td>\n      <td>5</td>\n    </tr>\n  </tbody>\n</table>\n<p>1044 rows × 3 columns</p>\n</div>"
     },
     "execution_count": 69,
     "metadata": {},
     "output_type": "execute_result"
    }
   ],
   "source": [
    "df"
   ],
   "metadata": {
    "collapsed": false,
    "ExecuteTime": {
     "end_time": "2024-02-11T13:41:35.907985Z",
     "start_time": "2024-02-11T13:41:35.881316800Z"
    }
   },
   "id": "6e538192304dfe49",
   "execution_count": 69
  },
  {
   "cell_type": "markdown",
   "source": [
    "Now having our dataframe in the normal form again we can proceed to draw categories for each cluster\n",
    "similar to the naming of the roget classes.\n",
    "\n",
    "Let's start by getting the categories from the roget thesaurus from the directory structure"
   ],
   "metadata": {
    "collapsed": false
   },
   "id": "759b16afac116315"
  },
  {
   "cell_type": "code",
   "outputs": [
    {
     "name": "stdout",
     "output_type": "stream",
     "text": [
      "WARNING:tensorflow:From C:\\Users\\panagiotis\\AppData\\Local\\Programs\\Python\\Python311\\Lib\\site-packages\\keras\\src\\losses.py:2976: The name tf.losses.sparse_softmax_cross_entropy is deprecated. Please use tf.compat.v1.losses.sparse_softmax_cross_entropy instead.\n",
      "Found 39 files belonging to 6 classes.\n"
     ]
    },
    {
     "data": {
      "text/plain": "['WORDS EXPRESSING ABSTRACT RELATIONS',\n 'WORDS RELATING TO MATTER',\n 'WORDS RELATING TO SPACE',\n 'WORDS RELATING TO THE INTELLECTUAL FACULTIES',\n 'WORDS RELATING TO THE SENTIENT AND MORAL POWERS',\n 'WORDS RELATING TO THE VOLUNTARY POWERS']"
     },
     "execution_count": 92,
     "metadata": {},
     "output_type": "execute_result"
    }
   ],
   "source": [
    "import tensorflow as tf\n",
    "dataset = tf.keras.preprocessing.text_dataset_from_directory(\n",
    "    \"roget_thesaurus\",\n",
    "    batch_size=32,\n",
    "    seed=1234,\n",
    "    validation_split=0\n",
    ")\n",
    "\n",
    "categories = list(dataset.class_names)\n",
    "categories"
   ],
   "metadata": {
    "collapsed": false,
    "ExecuteTime": {
     "end_time": "2024-02-11T13:49:24.128268900Z",
     "start_time": "2024-02-11T13:49:18.197817Z"
    }
   },
   "id": "b5609ac3e9d6a9fb",
   "execution_count": 92
  },
  {
   "cell_type": "markdown",
   "source": [
    "### Now we can use the `ChatOllama` class to get the categories for each cluster providing the words and the categories to the LLM model to get the categories for each cluster and then we can compare the categories with the roget categories."
   ],
   "metadata": {
    "collapsed": false
   },
   "id": "c78f82ca2804b476"
  },
  {
   "cell_type": "code",
   "outputs": [],
   "source": [
    "from langchain_community.chat_models import ChatOllama\n",
    "import torch\n",
    "\n",
    "llm_model = 'mistral'\n",
    "\n",
    "device = \"cuda\" if torch.cuda.is_available() else \"cpu\"\n",
    "\n",
    "# We set the temperature to 0.0 to get the most likely categories and we use the mistral model\n",
    "llm = ChatOllama(model=llm_model, temperature=0.0, device=device)"
   ],
   "metadata": {
    "collapsed": false,
    "ExecuteTime": {
     "end_time": "2024-02-11T13:35:23.890963500Z",
     "start_time": "2024-02-11T13:35:23.751165100Z"
    }
   },
   "id": "8efad6797f2d2b96",
   "execution_count": 63
  },
  {
   "cell_type": "markdown",
   "source": [
    "Lets now construct the prompt and use the `ChatPromptTemplate` class to do so and build the chain to get the categories for each cluster"
   ],
   "metadata": {
    "collapsed": false
   },
   "id": "92f2b9267b219ebd"
  },
  {
   "cell_type": "code",
   "outputs": [],
   "source": [
    "from langchain_core.output_parsers import StrOutputParser\n",
    "from langchain_core.prompts import ChatPromptTemplate\n",
    "\n",
    "\n",
    "prompt = ChatPromptTemplate.from_template(\"Provide a category that classifies all these words about what they express (only into one category) : {words}\"\n",
    "                                          \"similar with the naming of the following categories: {categories} along with a small explanation of why you chose to name the category in this way. At the end of the explanation, please write the category again inside <<>>. For example: <<category>>\")\n",
    "\n",
    "# using LangChain Expressive Language chain syntax\n",
    "# learn more about the LCEL on\n",
    "# https://python.langchain.com/docs/expression_language/why\n",
    "chain = prompt | llm | StrOutputParser()"
   ],
   "metadata": {
    "collapsed": false,
    "ExecuteTime": {
     "end_time": "2024-02-11T15:41:19.747102200Z",
     "start_time": "2024-02-11T15:41:19.721955900Z"
    }
   },
   "id": "61518e7aa7fc86bc",
   "execution_count": 144
  },
  {
   "cell_type": "code",
   "outputs": [
    {
     "data": {
      "text/plain": "'Messenger,Undertaking,Inorganization,Misteaching,Business,Merchant,Counteraction,Conduct,Taking,Junction'"
     },
     "execution_count": 145,
     "metadata": {},
     "output_type": "execute_result"
    }
   ],
   "source": [
    "words = \",\".join(\n",
    "        df[df.cluster == 0][\"word\"]\n",
    "        .sample(10, random_state=42)\n",
    "        .values\n",
    "    )\n",
    "\n",
    "words"
   ],
   "metadata": {
    "collapsed": false,
    "ExecuteTime": {
     "end_time": "2024-02-11T15:41:19.926644500Z",
     "start_time": "2024-02-11T15:41:19.916331700Z"
    }
   },
   "id": "7943d25be73a6696",
   "execution_count": 145
  },
  {
   "cell_type": "code",
   "outputs": [
    {
     "data": {
      "text/plain": "' The given words can be classified into the following category:\\n\\n<<WORDS RELATING TO ACTIVITIES AND PROCESSES>>\\n\\nExplanation: This category includes words that express various types of activities, actions, processes, and undertakings. These words are related to the doing or making aspect of things, as opposed to the being or having aspect. The words in this list (Messenger, Undertaking, Inorganization, Misteaching, Business, Merchant, Counteraction, Conduct, Taking, Junction) can all be considered actions or processes that occur in different contexts.'"
     },
     "execution_count": 146,
     "metadata": {},
     "output_type": "execute_result"
    }
   ],
   "source": [
    "chain.invoke({\"words\": words, \"categories\": categories})"
   ],
   "metadata": {
    "collapsed": false,
    "ExecuteTime": {
     "end_time": "2024-02-11T15:41:25.333987300Z",
     "start_time": "2024-02-11T15:41:20.070645700Z"
    }
   },
   "id": "89168af95e81aa05",
   "execution_count": 146
  },
  {
   "cell_type": "markdown",
   "source": [
    "We can now use the `ChatOllama` class to get the categories for each cluster providing the words and the categories to the LLM model to get the categories for each cluster and then we can compare the categories with the roget categories.\n",
    "\n",
    "We will also get the explanations for the categories and compare them with the roget categories."
   ],
   "metadata": {
    "collapsed": false
   },
   "id": "7c984ad3e46904a0"
  },
  {
   "cell_type": "code",
   "outputs": [
    {
     "name": "stdout",
     "output_type": "stream",
     "text": [
      "Cluster 0 Theme:  Based on the given words, I would suggest the following category: \"WORDS RELATING TO CAUSES AND EFFECTS.\"\n",
      "\n",
      "Explanation: The majority of the given words can be classified as expressing various types of relationships or connections between different entities. Many of these relationships revolve around causes and effects. For instance, words like \"Cause,\" \"Precursor,\" \"Producer,\" \"Destroyer,\" \"Increase,\" \"Decrease,\" \"Counteraction,\" and \"Opponent\" all imply some sort of causal relationship. Other words, such as \"Junction,\" \"Crossing,\" \"Connection,\" and \"Link,\" suggest a relationship between different things that brings them closer together or binds them in some way. Additionally, words like \"Misteaching,\" \"Inutility,\" and \"Obliteration\" imply a lack of effect or consequence. Therefore, it seems appropriate to group these words under the category \"WORDS RELATING TO CAUSES AND EFFECTS.\"\n",
      "\n",
      "<<WORDS RELATING TO CAUSES AND EFFECTS>>\n",
      "Messenger, Undertaking, Inorganization, Misteaching, Business, Merchant, Counteraction, Conduct, Taking, Junction, Inhabitant, Counteraction, Speciality, Security, Good, Credit, Clergy, Purchase, Misteaching, Government, ----------------------------------------------------------------------------------------------------\n",
      "Cluster 1 Theme:  This extensive list of words can be categorized as \"WORDS RELATING TO THE SENTIENT AND MORAL POWERS.\" The reason for this classification is that these words primarily express various aspects of emotional, moral, and physical states or conditions. They convey concepts related to human feelings, actions, virtues, vices, and other qualities that are often described as sentient or moral in nature.\n",
      "\n",
      "<<WORDS RELATING TO THE SENTIENT AND MORAL POWERS>>\n",
      "Oldness, Whiteness, Obliteration, Disrespect, Gratitude, Dryness, Mankind, Imagination, Disinterestedness, Courage, Hopelessness, Adversity, Disappointment, Artlessness, Yellowness, Unctuousness, Lowness, Silence, Insalubrity, Depression, ----------------------------------------------------------------------------------------------------\n",
      "Cluster 2 Theme:  Based on the given words, I would classify them into the following category: \"WORDS RELATING TO MATTER AND THE PHYSICAL WORLD\".\n",
      "\n",
      "Explanation: The majority of the words in this list are either directly related to physical matter (e.g., Effect, Chance, Quinquesection, Part, Counteraction, End, Term, Irrelation, Gaseity, Water, Air, Ocean, Land, Lake, Marsh, River, Wind, Resin, Undueness, Period, The Past, Inexpectation, Evening, Occasion, Death, Inutility, Man, Traveler, Inexpectation, Heat, Inexpectation, Taste, Condiment, Odor, Fetor, Snap, Roll, Irrelation, Cry, Melody, Concord, Discord, Light, Shade, Color, Gray, Brown, Aphony, Filament, Front, Rear, Form, Inutility, Notch, Inextension, Furrow, Perforator, Stopper, Mariner, Inutility, Ingress, Egress, Ascent, Descent, Leap, Inexpectation, Inextension, Vigor, Ornament, Aphony, Book, Prose, The Drama, Inutility, Dupe, Deceiver, Metaphor, Inexpectation, Omen, Oracle, Undueness, Inexpectation, Inexpectation, Assent, Dissent, Ignoramus, Maxim, Sage, Fool, Madman, Pain, Regret, Malediction, Rejoicing, Wit, Humorist, Ornament, Taste, Fashion, Fop, Hope, Fear, Desire, Wonder, Vanity, Blusterer, Dueness, Respect, Contempt, Knave, Vice, Good Man, Bad Man, Sensualist, Fasting, Judge, Obliteration, Angel, Satan, Jupiter, Demon, Heaven, Hell, Worship, Spell, Sorcerer, Churchdom, Rite, Friend, Congratulation, Forgiveness, Hate, Pity, Aid, Discord, Concord, Peace, Combatant, Arms, Chance, Plan, Bane, Unsavoriness, Agitation, Success, Will, Caprice, Irrelation, Pretext, Undueness, Haste, Repose, Precept, Skill, Bungler, Cunning, Scepter, Consent, Lenity, Loss, Thief, Booty, Barter, Sale, Mart, Money, Treasurer, Wealth, Pricesimilar to the naming of the category \"WORDS RELATING TO MATTER AND THE PHYSICAL WORLD\", as this category includes words that are related to physical matter and the physical world around us. This can include words related to substances (e.g., Water, Air), objects (e.g., Effect, Part), natural phenomena (e.g., Wind, Shade), and other physical concepts (e.g., Heat, Taste). <<WORDS RELATING TO MATTER AND THE PHYSICAL WORLD>>\n",
      "Dupe, Concord, Undueness, Mariner, Skill, Barter, Assent, Chance, Good Man, Inexpectation, Demon, Dueness, Cry, Fool, Agitation, River, Aid, Occasion, Inutility, Unsavoriness, ----------------------------------------------------------------------------------------------------\n",
      "Cluster 3 Theme:  This extensive list of words can be categorized as \"Words Relating to Concepts and Interactions.\" The reason for this naming is that all these words express various concepts or interactions between different entities, abstract or concrete. They represent ideas, actions, states, or relationships, which can be mental, emotional, social, physical, or metaphysical in nature.\n",
      "\n",
      "<<Words Relating to Concepts and Interactions>>\n",
      "Plurality, Cessation, Vindication, Poetry, Circuition, Deterioration, Defiance, Politics, Accounts, Subjection, Absence, Nonpreparation, Rejection, Acquisition, Propulsion, Counteraction, Equality, Manifestation, Progression, Counteraction, ----------------------------------------------------------------------------------------------------\n",
      "Cluster 4 Theme:  Based on the given list of words, I suggest categorizing them as \"WORDS RELATING TO LOGICAL AND LINGUISTIC CONCEPTS.\" This category includes words that express various abstract concepts related to logic, language, and intellectual processes such as implication, negation, meaning, interpretation, comparison, expectation, prediction, qualification, possibility, probability, idea, topic, answer, experiment, identification, measurement, demonstration, error, excitation, content, title, difficulty, submission, intention, method, requirement, materials, provision, importance, preparation, essay, completion, choice, counteraction, activity, direction, promise, conditions, command, exemption, request, deprecation, possessor, property, payment, receipt, values.\n",
      "\n",
      "This category name was chosen because the given words primarily relate to abstract concepts that are often studied in logic and linguistics, such as relationships between ideas, language usage, intellectual processes, and various other concepts related to meaning and understanding. By grouping these words together under this category, we can easily identify and understand their common theme and significance.\n",
      "\n",
      "<<WORDS RELATING TO LOGICAL AND LINGUISTIC CONCEPTS>>\n",
      "Request, Situation, Error, Connection, Arrangement, Insertion, Fraction, Submission, Comparison, Identification, Size, Priority, Class, Length, Soliloquy, Identity, Counteraction, Substitution, Rotation, Topic, ----------------------------------------------------------------------------------------------------\n",
      "Cluster 5 Theme:  This extensive list of words can be categorized as \"Words Relating to Existence and Reality.\" The reason for this naming is that all these words express concepts related to the nature of things, their properties, qualities, relationships, and changes. They cover various aspects of existence, including substance and immateriality, permanence and change, materiality and immateriality, and various other abstract relations.\n",
      "\n",
      "<<Words Relating to Existence and Reality>>\n",
      "Incoherence, Affectation, Physical Pain, Tergiversation, Transientness, Equivocalness, Nonuniformity, Judeo-Christian Revelation, Inexistence, Deterioration, Divergence, Relinquishment, Relinquishment, Concavity, Duality, Materiality, Underestimation, Quadruplication, Inexcitability, Achromatism, ----------------------------------------------------------------------------------------------------\n"
     ]
    }
   ],
   "source": [
    "import re\n",
    "# Reading words belonging to each cluster\n",
    "num_words = 20\n",
    "\n",
    "classes = []\n",
    "\n",
    "for i in range(6):\n",
    "    print(f\"Cluster {i} Theme:\", end=\" \")\n",
    "\n",
    "    words = \",\".join(\n",
    "        df[df.cluster == i][\"word\"]\n",
    "        .values\n",
    "    )\n",
    "    response = chain.invoke({\"words\": words, \"categories\": categories})\n",
    "    print(response)\n",
    "    \n",
    "    pattern = r'<<([^>]*)>>'\n",
    "    matches = re.finditer(pattern, response)\n",
    "    classes.append([match.group(1) for match in matches])\n",
    "    sample_cluster_rows = df[df.cluster == i]['word'].sample(num_words, random_state=42)\n",
    "    for j in range(num_words):\n",
    "        print(sample_cluster_rows.iloc[j], end=\", \")\n",
    "\n",
    "    print(\"-\" * 100)"
   ],
   "metadata": {
    "collapsed": false,
    "ExecuteTime": {
     "end_time": "2024-02-11T15:42:13.873556700Z",
     "start_time": "2024-02-11T15:41:25.335986800Z"
    }
   },
   "id": "f367d0aa99e135b",
   "execution_count": 147
  },
  {
   "cell_type": "code",
   "outputs": [
    {
     "data": {
      "text/plain": "[['WORDS RELATING TO CAUSES AND EFFECTS'],\n ['WORDS RELATING TO THE SENTIENT AND MORAL POWERS'],\n ['WORDS RELATING TO MATTER AND THE PHYSICAL WORLD'],\n ['Words Relating to Concepts and Interactions'],\n ['WORDS RELATING TO LOGICAL AND LINGUISTIC CONCEPTS'],\n ['Words Relating to Existence and Reality']]"
     },
     "execution_count": 148,
     "metadata": {},
     "output_type": "execute_result"
    }
   ],
   "source": [
    "classes"
   ],
   "metadata": {
    "collapsed": false,
    "ExecuteTime": {
     "end_time": "2024-02-11T15:42:13.875939Z",
     "start_time": "2024-02-11T15:42:13.872555300Z"
    }
   },
   "id": "9fb5db8a7f5948ee",
   "execution_count": 148
  },
  {
   "cell_type": "markdown",
   "source": [
    "We can also draw the clusters in a 2d space using t-SNE from the `sklearn` library"
   ],
   "metadata": {
    "collapsed": false
   },
   "id": "cdde2a0007890f37"
  },
  {
   "cell_type": "code",
   "outputs": [],
   "source": [
    "# Make vector_db.get(include=[\"embeddings\"])['embeddings'] to a numpy array\n",
    "import numpy as np\n",
    "from ast import literal_eval\n",
    "\n",
    "embeddings = df['embedding'].apply(literal_eval).apply(np.array)"
   ],
   "metadata": {
    "collapsed": false,
    "ExecuteTime": {
     "end_time": "2024-02-11T15:31:45.668079600Z",
     "start_time": "2024-02-11T15:31:45.483050Z"
    }
   },
   "id": "c3e7f260d5e940ce",
   "execution_count": 135
  },
  {
   "cell_type": "code",
   "outputs": [
    {
     "data": {
      "text/plain": "Text(0.5, 1.0, 'Clusters identified visualized in language 2d using t-SNE')"
     },
     "execution_count": 31,
     "metadata": {},
     "output_type": "execute_result"
    },
    {
     "data": {
      "text/plain": "<Figure size 640x480 with 1 Axes>",
      "image/png": "[encoded data removed]"
     },
     "metadata": {},
     "output_type": "display_data"
    }
   ],
   "source": [
    "from sklearn.manifold import TSNE\n",
    "import matplotlib.pyplot as plt\n",
    "\n",
    "tsne = TSNE(n_components=2, perplexity=15, random_state=42, init=\"random\", learning_rate=200)\n",
    "vis_dims2 = tsne.fit_transform(embeddings)\n",
    "\n",
    "x = [x for x, y in vis_dims2]\n",
    "y = [y for x, y in vis_dims2]\n",
    "\n",
    "for category, color in enumerate([\"purple\", \"green\", \"red\", \"blue\", \"yellow\", \"pink\"]):\n",
    "    xs = np.array(x)[df.cluster == category]\n",
    "    ys = np.array(y)[df.cluster == category]\n",
    "    plt.scatter(xs, ys, color=color, alpha=0.3)\n",
    "\n",
    "    avg_x = xs.mean()\n",
    "    avg_y = ys.mean()\n",
    "\n",
    "    plt.scatter(avg_x, avg_y, marker=\"x\", color=color, s=100)\n",
    "plt.title(\"Clusters identified visualized in language 2d using t-SNE\")"
   ],
   "metadata": {
    "collapsed": false,
    "ExecuteTime": {
     "end_time": "2024-02-11T12:42:26.005084800Z",
     "start_time": "2024-02-11T12:42:24.119879400Z"
    }
   },
   "id": "cc04aeaa780474b7",
   "execution_count": 31
  },
  {
   "cell_type": "code",
   "outputs": [],
   "source": [],
   "metadata": {
    "collapsed": false
   },
   "id": "2ec09e58f4df7318"
  }
 ],
 "metadata": {
  "kernelspec": {
   "display_name": "Python 3",
   "language": "python",
   "name": "python3"
  },
  "language_info": {
   "codemirror_mode": {
    "name": "ipython",
    "version": 2
   },
   "file_extension": ".py",
   "mimetype": "text/x-python",
   "name": "python",
   "nbconvert_exporter": "python",
   "pygments_lexer": "ipython2",
   "version": "2.7.6"
  }
 },
 "nbformat": 4,
 "nbformat_minor": 5
}
